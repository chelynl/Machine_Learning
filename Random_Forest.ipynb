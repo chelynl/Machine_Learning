{
  "nbformat": 4,
  "nbformat_minor": 0,
  "metadata": {
    "colab": {
      "name": "Random Forest.ipynb",
      "provenance": [],
      "collapsed_sections": [],
      "authorship_tag": "ABX9TyMqQVfoGnrj2Yv2z7Ot5j7w",
      "include_colab_link": true
    },
    "kernelspec": {
      "display_name": "Python 3",
      "name": "python3"
    }
  },
  "cells": [
    {
      "cell_type": "markdown",
      "metadata": {
        "id": "view-in-github",
        "colab_type": "text"
      },
      "source": [
        "<a href=\"https://colab.research.google.com/github/chelynl/Machine_Learning/blob/main/Random_Forest.ipynb\" target=\"_parent\"><img src=\"https://colab.research.google.com/assets/colab-badge.svg\" alt=\"Open In Colab\"/></a>"
      ]
    },
    {
      "cell_type": "markdown",
      "metadata": {
        "id": "zBP3WE6Gfvut"
      },
      "source": [
        "# Random Forest\n",
        "\n",
        "I will build multiple random forest models for different purposes (feature selection and prediction). The model building process is broken down into multiple parts shown below:\n",
        "\n",
        "<b>Part 1:</b> Find Important Features Using Original Data<br>\n",
        "<b>Part 2:</b> Subset Data to Include Only Important Features<br>\n",
        "<b>Part 3:</b> Reduce Data Dimensions with PCA and Get Baseline RF<br>\n",
        "<b>Part 4:</b> Tune Hyperparameters Using Convergence Plots, RandomSearch, GridSearch\n",
        "\n",
        "Resources:<br>\n",
        "https://github.com/WillKoehrsen/Data-Analysis/tree/master/random_forest_explained<br>\n",
        "https://medium.com/all-things-ai/in-depth-parameter-tuning-for-random-forest-d67bb7e920d<br>\n",
        "https://towardsdatascience.com/optimizing-hyperparameters-in-random-forest-classification-ec7741f9d3f6"
      ]
    },
    {
      "cell_type": "code",
      "metadata": {
        "id": "ILcbD0xEZ7SF"
      },
      "source": [
        "# Data Wrangling\n",
        "import numpy as np\n",
        "import pandas as pd\n",
        "import matplotlib.pyplot as plt\n",
        "from matplotlib.legend_handler import HandlerLine2D\n",
        "import seaborn as sns\n",
        "\n",
        "# PCA\n",
        "from sklearn.decomposition import PCA\n",
        "from sklearn.preprocessing import scale, MinMaxScaler, StandardScaler\n",
        "\n",
        "# Modeling RF\n",
        "from sklearn.ensemble import RandomForestClassifier, RandomForestRegressor\n",
        "\n",
        "# Accuracy metrics\n",
        "from sklearn.metrics import accuracy_score, confusion_matrix, classification_report, roc_curve, auc\n",
        "\n",
        "# Hyperparameter tuning\n",
        "from sklearn.model_selection import RandomizedSearchCV, GridSearchCV, validation_curve"
      ],
      "execution_count": 1,
      "outputs": []
    },
    {
      "cell_type": "code",
      "metadata": {
        "id": "Ar8JSpZTdHjb"
      },
      "source": [
        "train_df = pd.read_csv('http://birch.iaa.ncsu.edu/~slrace/DataMining2021/Code/MLProject21_train.csv')\n",
        "valid_df = pd.read_csv('http://birch.iaa.ncsu.edu/~slrace/DataMining2021/Code/MLProject21_valid.csv')\n",
        "test_df = pd.read_csv('http://birch.iaa.ncsu.edu/~slrace/DataMining2021/Code/MLProject21_test.csv')"
      ],
      "execution_count": 2,
      "outputs": []
    },
    {
      "cell_type": "markdown",
      "metadata": {
        "id": "t9_-mQwCgNEZ"
      },
      "source": [
        "### EDA before any modeling"
      ]
    },
    {
      "cell_type": "code",
      "metadata": {
        "id": "mi5AHddAdfPl",
        "colab": {
          "base_uri": "https://localhost:8080/",
          "height": 253
        },
        "outputId": "ca2a932d-fdbe-481f-811f-4f494d48303a"
      },
      "source": [
        "train_df.head()"
      ],
      "execution_count": null,
      "outputs": [
        {
          "output_type": "execute_result",
          "data": {
            "text/html": [
              "<div>\n",
              "<style scoped>\n",
              "    .dataframe tbody tr th:only-of-type {\n",
              "        vertical-align: middle;\n",
              "    }\n",
              "\n",
              "    .dataframe tbody tr th {\n",
              "        vertical-align: top;\n",
              "    }\n",
              "\n",
              "    .dataframe thead th {\n",
              "        text-align: right;\n",
              "    }\n",
              "</style>\n",
              "<table border=\"1\" class=\"dataframe\">\n",
              "  <thead>\n",
              "    <tr style=\"text-align: right;\">\n",
              "      <th></th>\n",
              "      <th>v1</th>\n",
              "      <th>v2</th>\n",
              "      <th>v3</th>\n",
              "      <th>v4</th>\n",
              "      <th>v5</th>\n",
              "      <th>v6</th>\n",
              "      <th>v7</th>\n",
              "      <th>v8</th>\n",
              "      <th>v9</th>\n",
              "      <th>v10</th>\n",
              "      <th>v11</th>\n",
              "      <th>v12</th>\n",
              "      <th>v13</th>\n",
              "      <th>v14</th>\n",
              "      <th>v15</th>\n",
              "      <th>v16</th>\n",
              "      <th>v17</th>\n",
              "      <th>v18</th>\n",
              "      <th>v19</th>\n",
              "      <th>v20</th>\n",
              "      <th>v21</th>\n",
              "      <th>v22</th>\n",
              "      <th>v23</th>\n",
              "      <th>v24</th>\n",
              "      <th>v25</th>\n",
              "      <th>v26</th>\n",
              "      <th>v27</th>\n",
              "      <th>v28</th>\n",
              "      <th>v29</th>\n",
              "      <th>v30</th>\n",
              "      <th>v31</th>\n",
              "      <th>v32</th>\n",
              "      <th>v33</th>\n",
              "      <th>v34</th>\n",
              "      <th>v35</th>\n",
              "      <th>v36</th>\n",
              "      <th>v37</th>\n",
              "      <th>v38</th>\n",
              "      <th>v39</th>\n",
              "      <th>v40</th>\n",
              "      <th>...</th>\n",
              "      <th>v91</th>\n",
              "      <th>v92</th>\n",
              "      <th>v93</th>\n",
              "      <th>v94</th>\n",
              "      <th>v95</th>\n",
              "      <th>v96</th>\n",
              "      <th>v97</th>\n",
              "      <th>v98</th>\n",
              "      <th>v99</th>\n",
              "      <th>v100</th>\n",
              "      <th>v101</th>\n",
              "      <th>v102</th>\n",
              "      <th>v103</th>\n",
              "      <th>v104</th>\n",
              "      <th>v105</th>\n",
              "      <th>v106</th>\n",
              "      <th>v107</th>\n",
              "      <th>v108</th>\n",
              "      <th>v109</th>\n",
              "      <th>v110</th>\n",
              "      <th>v111</th>\n",
              "      <th>v112</th>\n",
              "      <th>v113</th>\n",
              "      <th>v114</th>\n",
              "      <th>v115</th>\n",
              "      <th>v116</th>\n",
              "      <th>v117</th>\n",
              "      <th>v118</th>\n",
              "      <th>v119</th>\n",
              "      <th>v120</th>\n",
              "      <th>v121</th>\n",
              "      <th>v122</th>\n",
              "      <th>v123</th>\n",
              "      <th>v124</th>\n",
              "      <th>v125</th>\n",
              "      <th>v126</th>\n",
              "      <th>v127</th>\n",
              "      <th>cont.target</th>\n",
              "      <th>binary.target1</th>\n",
              "      <th>binary.target2</th>\n",
              "    </tr>\n",
              "  </thead>\n",
              "  <tbody>\n",
              "    <tr>\n",
              "      <th>0</th>\n",
              "      <td>16.07</td>\n",
              "      <td>18.47</td>\n",
              "      <td>0.870060</td>\n",
              "      <td>-0.007407</td>\n",
              "      <td>-0.018315</td>\n",
              "      <td>-0.001862</td>\n",
              "      <td>False</td>\n",
              "      <td>-27.777778</td>\n",
              "      <td>59.714280</td>\n",
              "      <td>51.128020</td>\n",
              "      <td>70.586321</td>\n",
              "      <td>0.030</td>\n",
              "      <td>0.047280</td>\n",
              "      <td>30.867534</td>\n",
              "      <td>17.095155</td>\n",
              "      <td>28.714777</td>\n",
              "      <td>21.974035</td>\n",
              "      <td>0.016084</td>\n",
              "      <td>0.001958</td>\n",
              "      <td>54.157685</td>\n",
              "      <td>0.875643</td>\n",
              "      <td>0.845975</td>\n",
              "      <td>0.375000</td>\n",
              "      <td>0.726923</td>\n",
              "      <td>0.208814</td>\n",
              "      <td>-1.553774</td>\n",
              "      <td>1.060889</td>\n",
              "      <td>6.197893</td>\n",
              "      <td>0.000000</td>\n",
              "      <td>0.865385</td>\n",
              "      <td>-0.961538</td>\n",
              "      <td>-3.506558</td>\n",
              "      <td>-3.051664</td>\n",
              "      <td>59.714280</td>\n",
              "      <td>51.128020</td>\n",
              "      <td>70.586321</td>\n",
              "      <td>30.867534</td>\n",
              "      <td>-17.095155</td>\n",
              "      <td>28.714777</td>\n",
              "      <td>54.157685</td>\n",
              "      <td>...</td>\n",
              "      <td>-0.660144</td>\n",
              "      <td>34.730539</td>\n",
              "      <td>-0.695163</td>\n",
              "      <td>0.410577</td>\n",
              "      <td>0.627885</td>\n",
              "      <td>-1.160417</td>\n",
              "      <td>-1.427308</td>\n",
              "      <td>-1.721154</td>\n",
              "      <td>5.562500</td>\n",
              "      <td>20.870833</td>\n",
              "      <td>20.479904</td>\n",
              "      <td>0.39848</td>\n",
              "      <td>1.546202e+09</td>\n",
              "      <td>6.77</td>\n",
              "      <td>0.00</td>\n",
              "      <td>23.93</td>\n",
              "      <td>-0.01</td>\n",
              "      <td>18.27</td>\n",
              "      <td>0.00</td>\n",
              "      <td>5.66</td>\n",
              "      <td>0.15</td>\n",
              "      <td>0.0</td>\n",
              "      <td>140</td>\n",
              "      <td>0</td>\n",
              "      <td>0.9514</td>\n",
              "      <td>-0.0014</td>\n",
              "      <td>1887</td>\n",
              "      <td>4</td>\n",
              "      <td>1194</td>\n",
              "      <td>0</td>\n",
              "      <td>92</td>\n",
              "      <td>-2</td>\n",
              "      <td>3173</td>\n",
              "      <td>2</td>\n",
              "      <td>94.15</td>\n",
              "      <td>-0.05</td>\n",
              "      <td>3696.0</td>\n",
              "      <td>0.130</td>\n",
              "      <td>0</td>\n",
              "      <td>0</td>\n",
              "    </tr>\n",
              "    <tr>\n",
              "      <th>1</th>\n",
              "      <td>16.07</td>\n",
              "      <td>18.46</td>\n",
              "      <td>0.870531</td>\n",
              "      <td>-0.011074</td>\n",
              "      <td>-0.018382</td>\n",
              "      <td>-0.006179</td>\n",
              "      <td>False</td>\n",
              "      <td>-23.529412</td>\n",
              "      <td>61.048270</td>\n",
              "      <td>51.168539</td>\n",
              "      <td>73.781560</td>\n",
              "      <td>0.035</td>\n",
              "      <td>0.046403</td>\n",
              "      <td>30.743829</td>\n",
              "      <td>16.174140</td>\n",
              "      <td>31.053539</td>\n",
              "      <td>22.622571</td>\n",
              "      <td>0.018389</td>\n",
              "      <td>0.005244</td>\n",
              "      <td>56.363845</td>\n",
              "      <td>0.872853</td>\n",
              "      <td>0.827419</td>\n",
              "      <td>0.384578</td>\n",
              "      <td>0.746082</td>\n",
              "      <td>0.319360</td>\n",
              "      <td>-1.452192</td>\n",
              "      <td>1.147438</td>\n",
              "      <td>6.280302</td>\n",
              "      <td>0.096145</td>\n",
              "      <td>0.769157</td>\n",
              "      <td>-0.663398</td>\n",
              "      <td>-3.352407</td>\n",
              "      <td>-3.070391</td>\n",
              "      <td>61.048270</td>\n",
              "      <td>51.168539</td>\n",
              "      <td>73.781560</td>\n",
              "      <td>-30.743829</td>\n",
              "      <td>-16.174140</td>\n",
              "      <td>31.053539</td>\n",
              "      <td>56.363845</td>\n",
              "      <td>...</td>\n",
              "      <td>-0.660144</td>\n",
              "      <td>34.730539</td>\n",
              "      <td>-0.695163</td>\n",
              "      <td>0.506682</td>\n",
              "      <td>0.723969</td>\n",
              "      <td>-1.064160</td>\n",
              "      <td>-1.331026</td>\n",
              "      <td>-1.624844</td>\n",
              "      <td>5.658110</td>\n",
              "      <td>20.964971</td>\n",
              "      <td>20.574079</td>\n",
              "      <td>0.39848</td>\n",
              "      <td>1.546202e+09</td>\n",
              "      <td>6.76</td>\n",
              "      <td>-0.01</td>\n",
              "      <td>23.93</td>\n",
              "      <td>0.00</td>\n",
              "      <td>18.27</td>\n",
              "      <td>0.00</td>\n",
              "      <td>5.66</td>\n",
              "      <td>0.15</td>\n",
              "      <td>0.0</td>\n",
              "      <td>141</td>\n",
              "      <td>1</td>\n",
              "      <td>0.9526</td>\n",
              "      <td>0.0012</td>\n",
              "      <td>1891</td>\n",
              "      <td>4</td>\n",
              "      <td>1185</td>\n",
              "      <td>-9</td>\n",
              "      <td>99</td>\n",
              "      <td>7</td>\n",
              "      <td>3175</td>\n",
              "      <td>2</td>\n",
              "      <td>94.16</td>\n",
              "      <td>0.01</td>\n",
              "      <td>3697.0</td>\n",
              "      <td>0.120</td>\n",
              "      <td>0</td>\n",
              "      <td>0</td>\n",
              "    </tr>\n",
              "    <tr>\n",
              "      <th>2</th>\n",
              "      <td>15.98</td>\n",
              "      <td>18.37</td>\n",
              "      <td>0.869897</td>\n",
              "      <td>-0.007435</td>\n",
              "      <td>-0.018382</td>\n",
              "      <td>-0.003731</td>\n",
              "      <td>False</td>\n",
              "      <td>-5.882353</td>\n",
              "      <td>64.812654</td>\n",
              "      <td>51.289999</td>\n",
              "      <td>74.238744</td>\n",
              "      <td>0.040</td>\n",
              "      <td>0.045946</td>\n",
              "      <td>31.941279</td>\n",
              "      <td>15.168347</td>\n",
              "      <td>35.604045</td>\n",
              "      <td>23.549819</td>\n",
              "      <td>0.022085</td>\n",
              "      <td>0.008613</td>\n",
              "      <td>48.800293</td>\n",
              "      <td>0.926618</td>\n",
              "      <td>0.873030</td>\n",
              "      <td>0.602653</td>\n",
              "      <td>0.966936</td>\n",
              "      <td>0.617231</td>\n",
              "      <td>-1.158617</td>\n",
              "      <td>1.426086</td>\n",
              "      <td>6.553946</td>\n",
              "      <td>0.288351</td>\n",
              "      <td>1.441753</td>\n",
              "      <td>-0.096117</td>\n",
              "      <td>-3.218876</td>\n",
              "      <td>-3.080296</td>\n",
              "      <td>64.812654</td>\n",
              "      <td>51.289999</td>\n",
              "      <td>74.238744</td>\n",
              "      <td>31.941279</td>\n",
              "      <td>-15.168347</td>\n",
              "      <td>35.604045</td>\n",
              "      <td>48.800293</td>\n",
              "      <td>...</td>\n",
              "      <td>-0.660144</td>\n",
              "      <td>34.730539</td>\n",
              "      <td>-0.695163</td>\n",
              "      <td>0.794887</td>\n",
              "      <td>1.012111</td>\n",
              "      <td>-0.775503</td>\n",
              "      <td>-1.042291</td>\n",
              "      <td>-1.336025</td>\n",
              "      <td>5.944829</td>\n",
              "      <td>21.247277</td>\n",
              "      <td>20.856498</td>\n",
              "      <td>0.39848</td>\n",
              "      <td>1.546202e+09</td>\n",
              "      <td>6.77</td>\n",
              "      <td>0.01</td>\n",
              "      <td>23.95</td>\n",
              "      <td>0.02</td>\n",
              "      <td>18.28</td>\n",
              "      <td>0.01</td>\n",
              "      <td>5.67</td>\n",
              "      <td>0.15</td>\n",
              "      <td>0.0</td>\n",
              "      <td>141</td>\n",
              "      <td>0</td>\n",
              "      <td>0.9508</td>\n",
              "      <td>-0.0018</td>\n",
              "      <td>1895</td>\n",
              "      <td>4</td>\n",
              "      <td>1181</td>\n",
              "      <td>-4</td>\n",
              "      <td>100</td>\n",
              "      <td>1</td>\n",
              "      <td>3176</td>\n",
              "      <td>1</td>\n",
              "      <td>94.20</td>\n",
              "      <td>0.04</td>\n",
              "      <td>3698.0</td>\n",
              "      <td>0.090</td>\n",
              "      <td>0</td>\n",
              "      <td>0</td>\n",
              "    </tr>\n",
              "    <tr>\n",
              "      <th>3</th>\n",
              "      <td>15.96</td>\n",
              "      <td>18.37</td>\n",
              "      <td>0.868808</td>\n",
              "      <td>-0.012963</td>\n",
              "      <td>-0.016605</td>\n",
              "      <td>-0.009294</td>\n",
              "      <td>False</td>\n",
              "      <td>-41.176471</td>\n",
              "      <td>53.646082</td>\n",
              "      <td>51.035479</td>\n",
              "      <td>69.032397</td>\n",
              "      <td>0.065</td>\n",
              "      <td>0.047307</td>\n",
              "      <td>28.806442</td>\n",
              "      <td>18.209380</td>\n",
              "      <td>22.539351</td>\n",
              "      <td>23.477643</td>\n",
              "      <td>0.020920</td>\n",
              "      <td>0.011074</td>\n",
              "      <td>45.064402</td>\n",
              "      <td>0.748061</td>\n",
              "      <td>0.777115</td>\n",
              "      <td>-0.118292</td>\n",
              "      <td>0.308713</td>\n",
              "      <td>0.043758</td>\n",
              "      <td>-1.731992</td>\n",
              "      <td>0.840618</td>\n",
              "      <td>5.967478</td>\n",
              "      <td>-0.577034</td>\n",
              "      <td>0.673206</td>\n",
              "      <td>-0.961723</td>\n",
              "      <td>-2.733368</td>\n",
              "      <td>-3.051103</td>\n",
              "      <td>53.646082</td>\n",
              "      <td>51.035479</td>\n",
              "      <td>-69.032397</td>\n",
              "      <td>-28.806442</td>\n",
              "      <td>-18.209380</td>\n",
              "      <td>22.539351</td>\n",
              "      <td>-45.064402</td>\n",
              "      <td>...</td>\n",
              "      <td>-0.660144</td>\n",
              "      <td>34.730539</td>\n",
              "      <td>-0.695163</td>\n",
              "      <td>0.218311</td>\n",
              "      <td>0.435661</td>\n",
              "      <td>-1.352985</td>\n",
              "      <td>-1.619927</td>\n",
              "      <td>-1.913830</td>\n",
              "      <td>5.371225</td>\n",
              "      <td>20.682503</td>\n",
              "      <td>20.291498</td>\n",
              "      <td>0.39848</td>\n",
              "      <td>1.546202e+09</td>\n",
              "      <td>6.79</td>\n",
              "      <td>0.02</td>\n",
              "      <td>23.90</td>\n",
              "      <td>-0.05</td>\n",
              "      <td>18.23</td>\n",
              "      <td>-0.05</td>\n",
              "      <td>5.67</td>\n",
              "      <td>0.15</td>\n",
              "      <td>0.0</td>\n",
              "      <td>142</td>\n",
              "      <td>1</td>\n",
              "      <td>0.9496</td>\n",
              "      <td>-0.0012</td>\n",
              "      <td>1897</td>\n",
              "      <td>2</td>\n",
              "      <td>1178</td>\n",
              "      <td>-3</td>\n",
              "      <td>101</td>\n",
              "      <td>1</td>\n",
              "      <td>3176</td>\n",
              "      <td>0</td>\n",
              "      <td>94.20</td>\n",
              "      <td>0.00</td>\n",
              "      <td>3699.0</td>\n",
              "      <td>0.150</td>\n",
              "      <td>0</td>\n",
              "      <td>0</td>\n",
              "    </tr>\n",
              "    <tr>\n",
              "      <th>4</th>\n",
              "      <td>15.98</td>\n",
              "      <td>18.38</td>\n",
              "      <td>0.869423</td>\n",
              "      <td>-0.007407</td>\n",
              "      <td>-0.007407</td>\n",
              "      <td>-0.000373</td>\n",
              "      <td>False</td>\n",
              "      <td>-20.588235</td>\n",
              "      <td>58.173147</td>\n",
              "      <td>51.177162</td>\n",
              "      <td>68.061283</td>\n",
              "      <td>0.035</td>\n",
              "      <td>0.046428</td>\n",
              "      <td>27.255295</td>\n",
              "      <td>17.228856</td>\n",
              "      <td>22.539351</td>\n",
              "      <td>23.410622</td>\n",
              "      <td>0.022112</td>\n",
              "      <td>0.013282</td>\n",
              "      <td>48.608706</td>\n",
              "      <td>0.739102</td>\n",
              "      <td>0.854717</td>\n",
              "      <td>0.153824</td>\n",
              "      <td>0.598952</td>\n",
              "      <td>0.396898</td>\n",
              "      <td>-1.390737</td>\n",
              "      <td>1.167860</td>\n",
              "      <td>6.288853</td>\n",
              "      <td>0.336490</td>\n",
              "      <td>1.105610</td>\n",
              "      <td>-0.528770</td>\n",
              "      <td>-3.352407</td>\n",
              "      <td>-3.069860</td>\n",
              "      <td>-58.173147</td>\n",
              "      <td>51.177162</td>\n",
              "      <td>-68.061283</td>\n",
              "      <td>-27.255295</td>\n",
              "      <td>17.228856</td>\n",
              "      <td>-22.539351</td>\n",
              "      <td>-48.608706</td>\n",
              "      <td>...</td>\n",
              "      <td>-0.660144</td>\n",
              "      <td>34.730539</td>\n",
              "      <td>-0.695163</td>\n",
              "      <td>0.554728</td>\n",
              "      <td>0.772004</td>\n",
              "      <td>-1.016039</td>\n",
              "      <td>-1.282892</td>\n",
              "      <td>-1.576696</td>\n",
              "      <td>5.705908</td>\n",
              "      <td>21.012034</td>\n",
              "      <td>20.621160</td>\n",
              "      <td>0.39848</td>\n",
              "      <td>1.546202e+09</td>\n",
              "      <td>6.78</td>\n",
              "      <td>-0.01</td>\n",
              "      <td>23.88</td>\n",
              "      <td>-0.02</td>\n",
              "      <td>18.22</td>\n",
              "      <td>-0.01</td>\n",
              "      <td>5.66</td>\n",
              "      <td>0.15</td>\n",
              "      <td>0.0</td>\n",
              "      <td>142</td>\n",
              "      <td>0</td>\n",
              "      <td>0.9495</td>\n",
              "      <td>-0.0001</td>\n",
              "      <td>1884</td>\n",
              "      <td>-13</td>\n",
              "      <td>1197</td>\n",
              "      <td>19</td>\n",
              "      <td>95</td>\n",
              "      <td>-6</td>\n",
              "      <td>3176</td>\n",
              "      <td>0</td>\n",
              "      <td>94.20</td>\n",
              "      <td>0.00</td>\n",
              "      <td>3700.0</td>\n",
              "      <td>0.115</td>\n",
              "      <td>0</td>\n",
              "      <td>0</td>\n",
              "    </tr>\n",
              "  </tbody>\n",
              "</table>\n",
              "<p>5 rows × 130 columns</p>\n",
              "</div>"
            ],
            "text/plain": [
              "      v1     v2        v3  ...  cont.target  binary.target1  binary.target2\n",
              "0  16.07  18.47  0.870060  ...        0.130               0               0\n",
              "1  16.07  18.46  0.870531  ...        0.120               0               0\n",
              "2  15.98  18.37  0.869897  ...        0.090               0               0\n",
              "3  15.96  18.37  0.868808  ...        0.150               0               0\n",
              "4  15.98  18.38  0.869423  ...        0.115               0               0\n",
              "\n",
              "[5 rows x 130 columns]"
            ]
          },
          "metadata": {
            "tags": []
          },
          "execution_count": 4
        }
      ]
    },
    {
      "cell_type": "markdown",
      "metadata": {
        "id": "YAe7NyufgV-x"
      },
      "source": [
        "Identify Anomalies"
      ]
    },
    {
      "cell_type": "code",
      "metadata": {
        "id": "k2H8J38wdpKo",
        "colab": {
          "base_uri": "https://localhost:8080/"
        },
        "outputId": "7ec9da4b-7f28-4351-b845-13aea5f8fc01"
      },
      "source": [
        "print('Data Dimensions: ', train_df.shape)\n",
        "\n",
        "# look at column types and identify null values\n",
        "train_df.info()\n",
        "\n",
        "# We have 1 bool, 1 categorical, and the rest are numeric\n",
        "# Let's explore whether we should one-hot encode the categorical var if it's useful"
      ],
      "execution_count": null,
      "outputs": [
        {
          "output_type": "stream",
          "text": [
            "Data Dimensions:  (250000, 130)\n",
            "<class 'pandas.core.frame.DataFrame'>\n",
            "RangeIndex: 250000 entries, 0 to 249999\n",
            "Columns: 130 entries, v1 to binary.target2\n",
            "dtypes: bool(1), float64(115), int64(13), object(1)\n",
            "memory usage: 246.3+ MB\n"
          ],
          "name": "stdout"
        }
      ]
    },
    {
      "cell_type": "code",
      "metadata": {
        "id": "EaF-IEkMgwaY",
        "colab": {
          "base_uri": "https://localhost:8080/"
        },
        "outputId": "fffe4ee0-d7f6-4818-aca0-21e329a14014"
      },
      "source": [
        "train_df.dtypes[train_df.dtypes=='bool'] # v7 is bool type\n",
        "train_df.dtypes[train_df.dtypes=='object'] # v45 is object type (categorical)"
      ],
      "execution_count": null,
      "outputs": [
        {
          "output_type": "execute_result",
          "data": {
            "text/plain": [
              "v45    object\n",
              "dtype: object"
            ]
          },
          "metadata": {
            "tags": []
          },
          "execution_count": 5
        }
      ]
    },
    {
      "cell_type": "code",
      "metadata": {
        "id": "KHUs8oDbg7t9",
        "colab": {
          "base_uri": "https://localhost:8080/",
          "height": 330
        },
        "outputId": "45fa114e-521f-4d21-80de-ee38603af98e"
      },
      "source": [
        "# v7 has all False in training data (not useful for model training)\n",
        "train_df['v7'].value_counts()\n",
        "\n",
        "# v45 has evenly distributed levels (not useful)\n",
        "train_df['v45'].value_counts()\n",
        "train_df['v45'].value_counts().plot(kind='bar')"
      ],
      "execution_count": null,
      "outputs": [
        {
          "output_type": "execute_result",
          "data": {
            "text/plain": [
              "<matplotlib.axes._subplots.AxesSubplot at 0x7fe87fa825c0>"
            ]
          },
          "metadata": {
            "tags": []
          },
          "execution_count": 6
        },
        {
          "output_type": "display_data",
          "data": {
            "image/png": "[encoded data removed]",
            "text/plain": [
              "<Figure size 432x288 with 1 Axes>"
            ]
          },
          "metadata": {
            "tags": [],
            "needs_background": "light"
          }
        }
      ]
    },
    {
      "cell_type": "markdown",
      "metadata": {
        "id": "q41bMHDiinoa"
      },
      "source": [
        "We will drop non-numeric variables that are not useful.\n",
        "\n"
      ]
    },
    {
      "cell_type": "code",
      "metadata": {
        "id": "uS9bRlvmh4ZT"
      },
      "source": [
        "train_df.drop(['v7', 'v45'], axis=1, inplace=True)"
      ],
      "execution_count": 3,
      "outputs": []
    },
    {
      "cell_type": "markdown",
      "metadata": {
        "id": "6_542qeki7DJ"
      },
      "source": [
        "Separate out inputs (attributes) and outputs (targets). We are focusing on binary target 2."
      ]
    },
    {
      "cell_type": "code",
      "metadata": {
        "id": "q-fm9Er1iydI"
      },
      "source": [
        "# Get inputs and outputs as separate dfs on training data\n",
        "X_train = train_df.drop(['cont.target', 'binary.target1', 'binary.target2'], axis=1)\n",
        "y_train = train_df['binary.target2']\n",
        "\n",
        "# Repeat for validation data\n",
        "X_valid = valid_df.drop(['v7', 'v45', 'cont.target', 'binary.target1', 'binary.target2'], axis=1)\n",
        "y_valid = valid_df['binary.target2']\n",
        "\n",
        "# Repeat for test data (targets not provided)\n",
        "X_test = test_df.drop(['v7', 'v45'], axis=1)\n",
        "\n",
        "# Convert input and output dfs to arrays for sklearn\n",
        "train_features = np.array(X_train)\n",
        "y_train = np.ravel(np.array(y_train))\n",
        "\n",
        "# Repeat for validation data\n",
        "valid_features = np.array(X_valid)\n",
        "y_valid = np.ravel(np.array(y_valid))\n",
        "\n",
        "# Repeat for test data\n",
        "test_features = np.array(X_test)\n",
        "\n",
        "# Save feature names for later use\n",
        "feature_list = list(X_train.columns)"
      ],
      "execution_count": 4,
      "outputs": []
    },
    {
      "cell_type": "markdown",
      "metadata": {
        "id": "UZINx1-NtaW8"
      },
      "source": [
        "We will be focusing on binary target 2."
      ]
    },
    {
      "cell_type": "code",
      "metadata": {
        "id": "POhoKfbotDGi",
        "colab": {
          "base_uri": "https://localhost:8080/"
        },
        "outputId": "4d07565b-8522-40c5-f7af-5f87e02acff0"
      },
      "source": [
        "print('Training Features Shape: ', train_features.shape)\n",
        "print('Training Labels Shape ', y_train.shape)\n",
        "print('Valid Features Shape ', valid_features.shape)\n",
        "print('Valid Labels Shape ', y_valid.shape)"
      ],
      "execution_count": null,
      "outputs": [
        {
          "output_type": "stream",
          "text": [
            "Training Features Shape:  (250000, 125)\n",
            "Training Labels Shape  (250000,)\n",
            "Valid Features Shape  (100000, 125)\n",
            "Valid Labels Shape  (100000,)\n"
          ],
          "name": "stdout"
        }
      ]
    },
    {
      "cell_type": "markdown",
      "metadata": {
        "id": "KuH0gC1lsMYX"
      },
      "source": [
        "Train Model"
      ]
    },
    {
      "cell_type": "code",
      "metadata": {
        "id": "juIRtA2xizmp",
        "colab": {
          "base_uri": "https://localhost:8080/"
        },
        "outputId": "7e6479f5-88e2-4c77-96ae-647d92875489"
      },
      "source": [
        "# Instantiate random forest using default parameters\n",
        "clf = RandomForestClassifier(random_state=7)\n",
        "\n",
        "# Train the model on training data\n",
        "clf.fit(train_features, y_train)"
      ],
      "execution_count": 5,
      "outputs": [
        {
          "output_type": "execute_result",
          "data": {
            "text/plain": [
              "RandomForestClassifier(bootstrap=True, ccp_alpha=0.0, class_weight=None,\n",
              "                       criterion='gini', max_depth=None, max_features='auto',\n",
              "                       max_leaf_nodes=None, max_samples=None,\n",
              "                       min_impurity_decrease=0.0, min_impurity_split=None,\n",
              "                       min_samples_leaf=1, min_samples_split=2,\n",
              "                       min_weight_fraction_leaf=0.0, n_estimators=100,\n",
              "                       n_jobs=None, oob_score=False, random_state=7, verbose=0,\n",
              "                       warm_start=False)"
            ]
          },
          "metadata": {
            "tags": []
          },
          "execution_count": 5
        }
      ]
    },
    {
      "cell_type": "markdown",
      "metadata": {
        "id": "Wp5L6VYcvVyY"
      },
      "source": [
        "Make predictions on validation data"
      ]
    },
    {
      "cell_type": "code",
      "metadata": {
        "id": "gkHD50LEr8jY",
        "colab": {
          "base_uri": "https://localhost:8080/"
        },
        "outputId": "a3844313-c210-4c19-b2e2-8fb2cb2d45b0"
      },
      "source": [
        "# Get predictions on the validation data\n",
        "y_pred = clf.predict(valid_features)\n",
        "\n",
        "# View accuracy score\n",
        "print('Accuracy Score: ', accuracy_score(y_valid, y_pred))\n",
        "\n",
        "# View confusion matrix\n",
        "confusion_matrix(y_valid, y_pred)"
      ],
      "execution_count": 6,
      "outputs": [
        {
          "output_type": "stream",
          "text": [
            "Accuracy Score:  0.79347\n"
          ],
          "name": "stdout"
        },
        {
          "output_type": "execute_result",
          "data": {
            "text/plain": [
              "array([[75495,  7389],\n",
              "       [13264,  3852]])"
            ]
          },
          "metadata": {
            "tags": []
          },
          "execution_count": 6
        }
      ]
    },
    {
      "cell_type": "markdown",
      "metadata": {
        "id": "S8_Hxutu27jc"
      },
      "source": [
        "Variable Importance"
      ]
    },
    {
      "cell_type": "code",
      "metadata": {
        "id": "auRqa6xNt7nW",
        "colab": {
          "base_uri": "https://localhost:8080/"
        },
        "outputId": "5bdc2796-bbea-44f5-9a9c-a39b5dd81d69"
      },
      "source": [
        "# Quantify feature importance for each attribute\n",
        "importance_metrics = list(clf.feature_importances_)\n",
        "\n",
        "# List of tuples with variable and importance\n",
        "feature_importances = [(feature, round(importance, 2)) for feature, importance in zip(feature_list, importance_metrics)]\n",
        "\n",
        "# Sort the feature importances by most important first\n",
        "feature_importances = sorted(feature_importances, key = lambda x: x[1], reverse = True)\n",
        "\n",
        "# Print out the feature and importances \n",
        "[print('Variable: {:20} Importance: {}'.format(*pair)) for pair in feature_importances];"
      ],
      "execution_count": 7,
      "outputs": [
        {
          "output_type": "stream",
          "text": [
            "Variable: v33                  Importance: 0.04\n",
            "Variable: v13                  Importance: 0.03\n",
            "Variable: v51                  Importance: 0.03\n",
            "Variable: v1                   Importance: 0.02\n",
            "Variable: v2                   Importance: 0.02\n",
            "Variable: v101                 Importance: 0.02\n",
            "Variable: v127                 Importance: 0.02\n",
            "Variable: v3                   Importance: 0.01\n",
            "Variable: v5                   Importance: 0.01\n",
            "Variable: v6                   Importance: 0.01\n",
            "Variable: v9                   Importance: 0.01\n",
            "Variable: v10                  Importance: 0.01\n",
            "Variable: v11                  Importance: 0.01\n",
            "Variable: v12                  Importance: 0.01\n",
            "Variable: v14                  Importance: 0.01\n",
            "Variable: v15                  Importance: 0.01\n",
            "Variable: v17                  Importance: 0.01\n",
            "Variable: v18                  Importance: 0.01\n",
            "Variable: v19                  Importance: 0.01\n",
            "Variable: v22                  Importance: 0.01\n",
            "Variable: v24                  Importance: 0.01\n",
            "Variable: v25                  Importance: 0.01\n",
            "Variable: v26                  Importance: 0.01\n",
            "Variable: v27                  Importance: 0.01\n",
            "Variable: v28                  Importance: 0.01\n",
            "Variable: v30                  Importance: 0.01\n",
            "Variable: v31                  Importance: 0.01\n",
            "Variable: v32                  Importance: 0.01\n",
            "Variable: v35                  Importance: 0.01\n",
            "Variable: v46                  Importance: 0.01\n",
            "Variable: v47                  Importance: 0.01\n",
            "Variable: v48                  Importance: 0.01\n",
            "Variable: v49                  Importance: 0.01\n",
            "Variable: v50                  Importance: 0.01\n",
            "Variable: v52                  Importance: 0.01\n",
            "Variable: v53                  Importance: 0.01\n",
            "Variable: v54                  Importance: 0.01\n",
            "Variable: v55                  Importance: 0.01\n",
            "Variable: v56                  Importance: 0.01\n",
            "Variable: v57                  Importance: 0.01\n",
            "Variable: v58                  Importance: 0.01\n",
            "Variable: v59                  Importance: 0.01\n",
            "Variable: v60                  Importance: 0.01\n",
            "Variable: v61                  Importance: 0.01\n",
            "Variable: v62                  Importance: 0.01\n",
            "Variable: v63                  Importance: 0.01\n",
            "Variable: v64                  Importance: 0.01\n",
            "Variable: v65                  Importance: 0.01\n",
            "Variable: v66                  Importance: 0.01\n",
            "Variable: v67                  Importance: 0.01\n",
            "Variable: v68                  Importance: 0.01\n",
            "Variable: v69                  Importance: 0.01\n",
            "Variable: v70                  Importance: 0.01\n",
            "Variable: v71                  Importance: 0.01\n",
            "Variable: v72                  Importance: 0.01\n",
            "Variable: v73                  Importance: 0.01\n",
            "Variable: v74                  Importance: 0.01\n",
            "Variable: v75                  Importance: 0.01\n",
            "Variable: v76                  Importance: 0.01\n",
            "Variable: v77                  Importance: 0.01\n",
            "Variable: v78                  Importance: 0.01\n",
            "Variable: v79                  Importance: 0.01\n",
            "Variable: v80                  Importance: 0.01\n",
            "Variable: v81                  Importance: 0.01\n",
            "Variable: v82                  Importance: 0.01\n",
            "Variable: v83                  Importance: 0.01\n",
            "Variable: v84                  Importance: 0.01\n",
            "Variable: v85                  Importance: 0.01\n",
            "Variable: v86                  Importance: 0.01\n",
            "Variable: v87                  Importance: 0.01\n",
            "Variable: v88                  Importance: 0.01\n",
            "Variable: v89                  Importance: 0.01\n",
            "Variable: v90                  Importance: 0.01\n",
            "Variable: v91                  Importance: 0.01\n",
            "Variable: v92                  Importance: 0.01\n",
            "Variable: v93                  Importance: 0.01\n",
            "Variable: v94                  Importance: 0.01\n",
            "Variable: v95                  Importance: 0.01\n",
            "Variable: v96                  Importance: 0.01\n",
            "Variable: v97                  Importance: 0.01\n",
            "Variable: v98                  Importance: 0.01\n",
            "Variable: v99                  Importance: 0.01\n",
            "Variable: v100                 Importance: 0.01\n",
            "Variable: v102                 Importance: 0.01\n",
            "Variable: v103                 Importance: 0.01\n",
            "Variable: v104                 Importance: 0.01\n",
            "Variable: v106                 Importance: 0.01\n",
            "Variable: v108                 Importance: 0.01\n",
            "Variable: v110                 Importance: 0.01\n",
            "Variable: v111                 Importance: 0.01\n",
            "Variable: v113                 Importance: 0.01\n",
            "Variable: v115                 Importance: 0.01\n",
            "Variable: v117                 Importance: 0.01\n",
            "Variable: v119                 Importance: 0.01\n",
            "Variable: v121                 Importance: 0.01\n",
            "Variable: v123                 Importance: 0.01\n",
            "Variable: v125                 Importance: 0.01\n",
            "Variable: v4                   Importance: 0.0\n",
            "Variable: v8                   Importance: 0.0\n",
            "Variable: v16                  Importance: 0.0\n",
            "Variable: v20                  Importance: 0.0\n",
            "Variable: v21                  Importance: 0.0\n",
            "Variable: v23                  Importance: 0.0\n",
            "Variable: v29                  Importance: 0.0\n",
            "Variable: v34                  Importance: 0.0\n",
            "Variable: v36                  Importance: 0.0\n",
            "Variable: v37                  Importance: 0.0\n",
            "Variable: v38                  Importance: 0.0\n",
            "Variable: v39                  Importance: 0.0\n",
            "Variable: v40                  Importance: 0.0\n",
            "Variable: v41                  Importance: 0.0\n",
            "Variable: v42                  Importance: 0.0\n",
            "Variable: v43                  Importance: 0.0\n",
            "Variable: v44                  Importance: 0.0\n",
            "Variable: v105                 Importance: 0.0\n",
            "Variable: v107                 Importance: 0.0\n",
            "Variable: v109                 Importance: 0.0\n",
            "Variable: v112                 Importance: 0.0\n",
            "Variable: v114                 Importance: 0.0\n",
            "Variable: v116                 Importance: 0.0\n",
            "Variable: v118                 Importance: 0.0\n",
            "Variable: v120                 Importance: 0.0\n",
            "Variable: v122                 Importance: 0.0\n",
            "Variable: v124                 Importance: 0.0\n",
            "Variable: v126                 Importance: 0.0\n"
          ],
          "name": "stdout"
        }
      ]
    },
    {
      "cell_type": "markdown",
      "metadata": {
        "id": "_KqqRGuQHzR2"
      },
      "source": [
        "Model with Two Most Important Features"
      ]
    },
    {
      "cell_type": "code",
      "metadata": {
        "id": "ATRBaj3p3KK_",
        "colab": {
          "base_uri": "https://localhost:8080/"
        },
        "outputId": "8e43c307-f956-45da-9f4a-25a04c2e0aff"
      },
      "source": [
        "# New random forest with only the two most important variables\n",
        "clf_most_important = RandomForestClassifier()\n",
        "\n",
        "# Extract the two most important features: v33, v13\n",
        "important_indices = [feature_list.index('v33'), feature_list.index('v13')]\n",
        "train_important = train_features[:, important_indices]\n",
        "valid_important = valid_features[:, important_indices]\n",
        "\n",
        "# Train the random forest\n",
        "clf_most_important.fit(train_important, y_train)\n",
        "\n",
        "# Make predictions and determine the error\n",
        "y_pred = clf_most_important.predict(valid_important)\n",
        "\n",
        "# View accuracy score\n",
        "print('Accuracy Score: ', accuracy_score(y_valid, y_pred))\n",
        "\n",
        "# View confusion matrix\n",
        "confusion_matrix(y_valid, y_pred)"
      ],
      "execution_count": 8,
      "outputs": [
        {
          "output_type": "stream",
          "text": [
            "Accuracy Score:  0.71633\n"
          ],
          "name": "stdout"
        },
        {
          "output_type": "execute_result",
          "data": {
            "text/plain": [
              "array([[63902, 18982],\n",
              "       [ 9385,  7731]])"
            ]
          },
          "metadata": {
            "tags": []
          },
          "execution_count": 8
        }
      ]
    },
    {
      "cell_type": "markdown",
      "metadata": {
        "id": "qh47zLgD1aIH"
      },
      "source": [
        "Visualize feature importance"
      ]
    },
    {
      "cell_type": "code",
      "metadata": {
        "id": "C6P4o4p43LW1",
        "colab": {
          "base_uri": "https://localhost:8080/",
          "height": 360
        },
        "outputId": "23ec3edb-2d30-4e8e-b21d-1c78dae27cea"
      },
      "source": [
        "# Reset style \n",
        "plt.style.use('fivethirtyeight')\n",
        "plt.figure(figsize=(28,6))\n",
        "\n",
        "# list of x locations for plotting\n",
        "x_values = list(range(len(importance_metrics)))\n",
        "\n",
        "# Make a bar chart\n",
        "plt.bar(x_values, importance_metrics, orientation = 'vertical', color = 'r', edgecolor = 'k', linewidth = 1.2)\n",
        "\n",
        "# Tick labels for x axis\n",
        "plt.xticks(x_values, feature_list, rotation='vertical')\n",
        "\n",
        "# Axis labels and title\n",
        "plt.ylabel('Importance'); plt.xlabel('Variable'); plt.title('Variable Importances');"
      ],
      "execution_count": 9,
      "outputs": [
        {
          "output_type": "display_data",
          "data": {
            "image/png": "[encoded data removed]",
            "text/plain": [
              "<Figure size 2016x432 with 1 Axes>"
            ]
          },
          "metadata": {
            "tags": []
          }
        }
      ]
    },
    {
      "cell_type": "code",
      "metadata": {
        "id": "H7ptQRU6GYcr",
        "colab": {
          "base_uri": "https://localhost:8080/",
          "height": 364
        },
        "outputId": "d2244426-594a-4c50-965a-4764e349f2a2"
      },
      "source": [
        "# List of features sorted from most to least important\n",
        "sorted_importances = [importance[1] for importance in feature_importances] # extract metric from list of tuples\n",
        "sorted_features = [importance[0] for importance in feature_importances] # extract variable from list of tuples\n",
        "\n",
        "# Cumulative importances\n",
        "cumulative_importances = np.cumsum(sorted_importances)\n",
        "\n",
        "# Make a line graph\n",
        "plt.figure(figsize=(28,6))\n",
        "plt.plot(x_values, cumulative_importances, 'g-')\n",
        "\n",
        "# Draw line at 95% of importance retained\n",
        "plt.hlines(y = 0.95, xmin=0, xmax=len(sorted_importances), color = 'r', linestyles = 'dashed')\n",
        "\n",
        "# Format x ticks and labels\n",
        "plt.xticks(x_values, sorted_features, rotation = 'vertical')\n",
        "\n",
        "# Axis labels and title\n",
        "plt.xlabel('Variable'); plt.ylabel('Cumulative Importance'); plt.title('Cumulative Importances');"
      ],
      "execution_count": 10,
      "outputs": [
        {
          "output_type": "display_data",
          "data": {
            "image/png": "[encoded data removed]",
            "text/plain": [
              "<Figure size 2016x432 with 1 Axes>"
            ]
          },
          "metadata": {
            "tags": []
          }
        }
      ]
    },
    {
      "cell_type": "markdown",
      "metadata": {
        "id": "PYndCS6VdJPz"
      },
      "source": [
        "# Limit the number of features\n",
        "\n",
        "Reduce the number of features used by the model to only those required to account for 95% of the importance. The same number of features must be used in the training and testing sets."
      ]
    },
    {
      "cell_type": "code",
      "metadata": {
        "id": "NCsk_0JrGbVP",
        "colab": {
          "base_uri": "https://localhost:8080/"
        },
        "outputId": "07f8875d-dfc7-4219-e897-99804f844377"
      },
      "source": [
        "# Find number of features for cumulative importance of 95%\n",
        "# Add 1 because Python is zero-indexed\n",
        "print('Number of features for 95% importance:', np.where(cumulative_importances > 0.95)[0][0] + 1)"
      ],
      "execution_count": null,
      "outputs": [
        {
          "output_type": "stream",
          "text": [
            "Number of features for 95% importance: 84\n"
          ],
          "name": "stdout"
        }
      ]
    },
    {
      "cell_type": "code",
      "metadata": {
        "id": "pL82e19bG6B2",
        "colab": {
          "base_uri": "https://localhost:8080/"
        },
        "outputId": "1f1afd71-6579-4d12-b4b7-73a58d510881"
      },
      "source": [
        "# Extract the names of the most important features\n",
        "important_feature_names = [feature[0] for feature in feature_importances[0:84]]\n",
        "# Find the columns of the most important features\n",
        "important_indices = [feature_list.index(feature) for feature in important_feature_names]\n",
        "\n",
        "# Create training and testing sets with only the important features\n",
        "important_train_features = train_features[:, important_indices]\n",
        "important_valid_features = valid_features[:, important_indices]\n",
        "\n",
        "# Sanity check on operations\n",
        "print('Important train features shape:', important_train_features.shape)\n",
        "print('Important valid features shape:', important_valid_features.shape)"
      ],
      "execution_count": 11,
      "outputs": [
        {
          "output_type": "stream",
          "text": [
            "Important train features shape: (250000, 84)\n",
            "Important valid features shape: (100000, 84)\n"
          ],
          "name": "stdout"
        }
      ]
    },
    {
      "cell_type": "markdown",
      "metadata": {
        "id": "B6m-sSQYeFnm"
      },
      "source": [
        "Training on important features"
      ]
    },
    {
      "cell_type": "code",
      "metadata": {
        "id": "fYCaVjDlXs7-"
      },
      "source": [
        "# Train the expanded model on only the important features\n",
        "clf.fit(important_train_features, y_train);"
      ],
      "execution_count": 12,
      "outputs": []
    },
    {
      "cell_type": "markdown",
      "metadata": {
        "id": "L0V3R1v1eUKH"
      },
      "source": [
        "Evaluate on important features"
      ]
    },
    {
      "cell_type": "code",
      "metadata": {
        "id": "1NraPIehd0wI",
        "colab": {
          "base_uri": "https://localhost:8080/"
        },
        "outputId": "e9c6262b-e970-4acf-d5d8-b28a74405c63"
      },
      "source": [
        "# Make predictions and determine the error\n",
        "y_pred = clf.predict(important_valid_features)\n",
        "\n",
        "# View accuracy score\n",
        "print('Accuracy Score: ', accuracy_score(y_valid, y_pred))\n",
        "\n",
        "# View confusion matrix\n",
        "confusion_matrix(y_valid, y_pred)"
      ],
      "execution_count": 13,
      "outputs": [
        {
          "output_type": "stream",
          "text": [
            "Accuracy Score:  0.81261\n"
          ],
          "name": "stdout"
        },
        {
          "output_type": "execute_result",
          "data": {
            "text/plain": [
              "array([[77426,  5458],\n",
              "       [13281,  3835]])"
            ]
          },
          "metadata": {
            "tags": []
          },
          "execution_count": 13
        }
      ]
    },
    {
      "cell_type": "markdown",
      "metadata": {
        "id": "DY4w7TEPkGlg"
      },
      "source": [
        "Decreasing the number of features actually increased performance in our case (this doesn't always happen but should still be done). However, in other situations, performance will decrease but run time will also decrease. The final decision on how many features to retain will therefore be a trade-off between accuracy and run time."
      ]
    },
    {
      "cell_type": "markdown",
      "metadata": {
        "id": "C2CgHsBxkbho"
      },
      "source": [
        "# Compare Trade-Offs"
      ]
    },
    {
      "cell_type": "code",
      "metadata": {
        "id": "_RBDKbFNjxM8",
        "colab": {
          "base_uri": "https://localhost:8080/"
        },
        "outputId": "ea1ba263-7b94-49e6-8326-0105cd91a2e2"
      },
      "source": [
        "# Use time library for run time evaluation\n",
        "import time\n",
        "\n",
        "# All features training and testing time\n",
        "all_features_time = []\n",
        "\n",
        "# Do 10 iterations and take average for all features\n",
        "for _ in range(10):\n",
        "    start_time = time.time()\n",
        "    clf.fit(train_features, y_train)\n",
        "    all_features_predictions = clf.predict(valid_features)\n",
        "    end_time = time.time()\n",
        "    all_features_time.append(end_time - start_time)\n",
        "\n",
        "all_features_time = np.mean(all_features_time)\n",
        "print('All features total training and testing time:', round(all_features_time, 2), 'seconds.')"
      ],
      "execution_count": null,
      "outputs": [
        {
          "output_type": "stream",
          "text": [
            "All features total training and testing time: 445.84 seconds.\n"
          ],
          "name": "stdout"
        }
      ]
    },
    {
      "cell_type": "code",
      "metadata": {
        "id": "napMnBlYkFsg",
        "colab": {
          "base_uri": "https://localhost:8080/"
        },
        "outputId": "eb6a127e-573a-4d1f-a3dc-f076727fedc5"
      },
      "source": [
        "# Time training and testing for reduced feature set\n",
        "reduced_features_time = []\n",
        "\n",
        "# Do 10 iterations and take average\n",
        "for _ in range(10):\n",
        "    start_time = time.time()\n",
        "    clf.fit(important_train_features, y_train)\n",
        "    reduced_features_predictions = clf.predict(important_valid_features)\n",
        "    end_time = time.time()\n",
        "    reduced_features_time.append(end_time - start_time)\n",
        "\n",
        "reduced_features_time = np.mean(reduced_features_time)\n",
        "print('Reduced features total training and testing time:', round(reduced_features_time, 2), 'seconds.')"
      ],
      "execution_count": null,
      "outputs": [
        {
          "output_type": "stream",
          "text": [
            "Reduced features total training and testing time: 336.84 seconds.\n"
          ],
          "name": "stdout"
        }
      ]
    },
    {
      "cell_type": "markdown",
      "metadata": {
        "id": "h3h44fP3k9PG"
      },
      "source": [
        "Accuracy vs. Run Time"
      ]
    },
    {
      "cell_type": "code",
      "metadata": {
        "id": "pIGAdjzhk-nC",
        "colab": {
          "base_uri": "https://localhost:8080/",
          "height": 111
        },
        "outputId": "3f269465-cf6c-4ce5-e31d-186b717c0afd"
      },
      "source": [
        "all_accuracy =  accuracy_score(y_valid, all_features_predictions)\n",
        "reduced_accuracy = accuracy_score(y_valid, reduced_features_predictions)\n",
        "\n",
        "comparison = pd.DataFrame({'features': ['all (125)', 'reduced (84)'], \n",
        "                           'run_time': [round(all_features_time, 2), round(reduced_features_time, 2)],\n",
        "                           'accuracy': [round(all_accuracy, 2), round(reduced_accuracy, 2)]})\n",
        "\n",
        "comparison[['features', 'accuracy', 'run_time']]"
      ],
      "execution_count": null,
      "outputs": [
        {
          "output_type": "execute_result",
          "data": {
            "text/html": [
              "<div>\n",
              "<style scoped>\n",
              "    .dataframe tbody tr th:only-of-type {\n",
              "        vertical-align: middle;\n",
              "    }\n",
              "\n",
              "    .dataframe tbody tr th {\n",
              "        vertical-align: top;\n",
              "    }\n",
              "\n",
              "    .dataframe thead th {\n",
              "        text-align: right;\n",
              "    }\n",
              "</style>\n",
              "<table border=\"1\" class=\"dataframe\">\n",
              "  <thead>\n",
              "    <tr style=\"text-align: right;\">\n",
              "      <th></th>\n",
              "      <th>features</th>\n",
              "      <th>accuracy</th>\n",
              "      <th>run_time</th>\n",
              "    </tr>\n",
              "  </thead>\n",
              "  <tbody>\n",
              "    <tr>\n",
              "      <th>0</th>\n",
              "      <td>all (125)</td>\n",
              "      <td>0.79</td>\n",
              "      <td>445.84</td>\n",
              "    </tr>\n",
              "    <tr>\n",
              "      <th>1</th>\n",
              "      <td>reduced (84)</td>\n",
              "      <td>0.81</td>\n",
              "      <td>336.84</td>\n",
              "    </tr>\n",
              "  </tbody>\n",
              "</table>\n",
              "</div>"
            ],
            "text/plain": [
              "       features  accuracy  run_time\n",
              "0     all (125)      0.79    445.84\n",
              "1  reduced (84)      0.81    336.84"
            ]
          },
          "metadata": {
            "tags": []
          },
          "execution_count": 21
        }
      ]
    },
    {
      "cell_type": "code",
      "metadata": {
        "id": "BTJ0f0-9A490",
        "colab": {
          "base_uri": "https://localhost:8080/"
        },
        "outputId": "19d865c1-5243-401c-92f6-169f66e0d05f"
      },
      "source": [
        "relative_accuracy_decrease = 100 * (all_accuracy - reduced_accuracy) / all_accuracy\n",
        "print('Relative decrease in accuracy:', round(relative_accuracy_decrease, 3), '%.')\n",
        "\n",
        "relative_runtime_decrease = 100 * (all_features_time - reduced_features_time) / all_features_time\n",
        "print('Relative decrease in run time:', round(relative_runtime_decrease, 3), '%.')"
      ],
      "execution_count": null,
      "outputs": [
        {
          "output_type": "stream",
          "text": [
            "Relative decrease in accuracy: -2.412 %.\n",
            "Relative decrease in run time: 24.45 %.\n"
          ],
          "name": "stdout"
        }
      ]
    },
    {
      "cell_type": "markdown",
      "metadata": {
        "id": "Zu-8uJYZE4OV"
      },
      "source": [
        "Concluding graphs"
      ]
    },
    {
      "cell_type": "code",
      "metadata": {
        "id": "_TjcsKOJFLmf",
        "colab": {
          "base_uri": "https://localhost:8080/",
          "height": 111
        },
        "outputId": "76a696ab-72ce-4b1a-9e6a-26be8d82dd32"
      },
      "source": [
        "all_cm = confusion_matrix(y_valid, all_features_predictions)\n",
        "reduced_cm = confusion_matrix(y_valid, reduced_features_predictions)\n",
        "\n",
        "all_FP = all_cm.sum(axis=0) - np.diag(all_cm)\n",
        "all_FN = all_cm.sum(axis=1) - np.diag(all_cm)\n",
        "all_TP = np.diag(all_cm)\n",
        "all_TN = all_cm.sum() - (all_FP + all_FN + all_TP)\n",
        "all_FPR = all_FP[1]/(all_FP[1] + all_TN[0])\n",
        "\n",
        "\n",
        "reduced_FP = reduced_cm.sum(axis=0) - np.diag(reduced_cm)\n",
        "reduced_FN = reduced_cm.sum(axis=1) - np.diag(reduced_cm)\n",
        "reduced_TP = np.diag(reduced_cm)\n",
        "reduced_TN = reduced_cm.sum() - (reduced_FP + reduced_FN + reduced_TP)\n",
        "reduced_FPR = reduced_FP[1]/(reduced_FP[1] + reduced_TN[0])\n",
        "\n",
        "\n",
        "# Create a dataframe for comparison\n",
        "model_comparison = pd.DataFrame({'model': ['original', 'reduced'], \n",
        "                                 'FPR':  [all_FPR, reduced_FPR],\n",
        "                                 'accuracy': [all_accuracy, reduced_accuracy],\n",
        "                                 'run_time (s)': [all_features_time, reduced_features_time]})\n",
        "\n",
        "# Order the dataframe\n",
        "model_comparison = model_comparison[['model', 'FPR', 'accuracy', 'run_time (s)']]\n",
        "\n",
        "model_comparison"
      ],
      "execution_count": null,
      "outputs": [
        {
          "output_type": "execute_result",
          "data": {
            "text/html": [
              "<div>\n",
              "<style scoped>\n",
              "    .dataframe tbody tr th:only-of-type {\n",
              "        vertical-align: middle;\n",
              "    }\n",
              "\n",
              "    .dataframe tbody tr th {\n",
              "        vertical-align: top;\n",
              "    }\n",
              "\n",
              "    .dataframe thead th {\n",
              "        text-align: right;\n",
              "    }\n",
              "</style>\n",
              "<table border=\"1\" class=\"dataframe\">\n",
              "  <thead>\n",
              "    <tr style=\"text-align: right;\">\n",
              "      <th></th>\n",
              "      <th>model</th>\n",
              "      <th>FPR</th>\n",
              "      <th>accuracy</th>\n",
              "      <th>run_time (s)</th>\n",
              "    </tr>\n",
              "  </thead>\n",
              "  <tbody>\n",
              "    <tr>\n",
              "      <th>0</th>\n",
              "      <td>original</td>\n",
              "      <td>0.657326</td>\n",
              "      <td>0.79347</td>\n",
              "      <td>445.842817</td>\n",
              "    </tr>\n",
              "    <tr>\n",
              "      <th>1</th>\n",
              "      <td>reduced</td>\n",
              "      <td>0.587324</td>\n",
              "      <td>0.81261</td>\n",
              "      <td>336.835613</td>\n",
              "    </tr>\n",
              "  </tbody>\n",
              "</table>\n",
              "</div>"
            ],
            "text/plain": [
              "      model       FPR  accuracy  run_time (s)\n",
              "0  original  0.657326   0.79347    445.842817\n",
              "1   reduced  0.587324   0.81261    336.835613"
            ]
          },
          "metadata": {
            "tags": []
          },
          "execution_count": 23
        }
      ]
    },
    {
      "cell_type": "markdown",
      "metadata": {
        "id": "moKX_ZitL-i5"
      },
      "source": [
        "Comparing Models"
      ]
    },
    {
      "cell_type": "code",
      "metadata": {
        "id": "BVR3XzlOFM_a",
        "colab": {
          "base_uri": "https://localhost:8080/",
          "height": 1000
        },
        "outputId": "bf40da37-dc5a-4ad1-d652-b96174dd2032"
      },
      "source": [
        "# Make plots \n",
        "# Set up the plotting layout\n",
        "fig, (ax1, ax2, ax3) = plt.subplots(nrows=3, ncols=1, figsize = (8,16), sharex = True)\n",
        "\n",
        "# Set up x-axis\n",
        "x_values = [0, 1]\n",
        "labels = list(model_comparison['model'])\n",
        "plt.xticks(x_values, labels)\n",
        "\n",
        "# Set up fonts\n",
        "fontdict = {'fontsize': 18}\n",
        "fontdict_yaxis = {'fontsize': 14}\n",
        "\n",
        "# FPR Comparison\n",
        "ax1.bar(x_values, model_comparison['FPR'], color = ['b', 'r'], edgecolor = 'k', linewidth = 1.5)\n",
        "ax1.set_ylim(bottom = 0, top = 0.8)\n",
        "ax1.set_ylabel('FPR', fontdict = fontdict_yaxis); \n",
        "ax1.set_title('Model FPR Comparison', fontdict= fontdict)\n",
        "\n",
        "# Accuracy Comparison\n",
        "ax2.bar(model_comparison['model'], model_comparison['accuracy'], color = ['b', 'r'], edgecolor = 'k', linewidth = 1.5)\n",
        "ax2.set_ylim(bottom = 0, top = 0.85)\n",
        "ax2.set_ylabel('Accuracy', fontdict = fontdict_yaxis); \n",
        "ax2.set_title('Model Accuracy Comparison', fontdict= fontdict)\n",
        "\n",
        "# Run Time Comparison\n",
        "ax3.bar(x_values, model_comparison['run_time (s)'], color = ['b', 'r'], edgecolor = 'k', linewidth = 1.5)\n",
        "ax3.set_ylim(bottom = 0, top = 500)\n",
        "ax3.set_ylabel('Run Time (sec)', fontdict = fontdict_yaxis); \n",
        "ax3.set_title('Model Run-Time Comparison', fontdict= fontdict);"
      ],
      "execution_count": null,
      "outputs": [
        {
          "output_type": "display_data",
          "data": {
            "image/png": "[encoded data removed]",
            "text/plain": [
              "<Figure size 576x1152 with 3 Axes>"
            ]
          },
          "metadata": {
            "tags": []
          }
        }
      ]
    },
    {
      "cell_type": "markdown",
      "metadata": {
        "id": "8SfAwtTz0zf_"
      },
      "source": [
        "From the comparison plots above, the reduced data is able to train the model faster with higher accuracy and a lower false positive rate. Thus, we will be moving forward with using the data only including important features."
      ]
    },
    {
      "cell_type": "code",
      "metadata": {
        "colab": {
          "base_uri": "https://localhost:8080/",
          "height": 244
        },
        "id": "b-0JLCZAyDT6",
        "outputId": "f7c4358b-b191-4302-edb4-986b90f417fd"
      },
      "source": [
        "# Get new dfs of important features only\n",
        "train_imp_features = train_df[important_feature_names]\n",
        "valid_imp_features = valid_df[important_feature_names]\n",
        "test_imp_features = test_df[important_feature_names]\n",
        "\n",
        "# Save new feature list for later use\n",
        "feature_list = train_imp_features.columns.tolist()\n",
        "\n",
        "train_imp_features.head()"
      ],
      "execution_count": 14,
      "outputs": [
        {
          "output_type": "execute_result",
          "data": {
            "text/html": [
              "<div>\n",
              "<style scoped>\n",
              "    .dataframe tbody tr th:only-of-type {\n",
              "        vertical-align: middle;\n",
              "    }\n",
              "\n",
              "    .dataframe tbody tr th {\n",
              "        vertical-align: top;\n",
              "    }\n",
              "\n",
              "    .dataframe thead th {\n",
              "        text-align: right;\n",
              "    }\n",
              "</style>\n",
              "<table border=\"1\" class=\"dataframe\">\n",
              "  <thead>\n",
              "    <tr style=\"text-align: right;\">\n",
              "      <th></th>\n",
              "      <th>v33</th>\n",
              "      <th>v13</th>\n",
              "      <th>v51</th>\n",
              "      <th>v1</th>\n",
              "      <th>v2</th>\n",
              "      <th>v101</th>\n",
              "      <th>v127</th>\n",
              "      <th>v3</th>\n",
              "      <th>v5</th>\n",
              "      <th>v6</th>\n",
              "      <th>v9</th>\n",
              "      <th>v10</th>\n",
              "      <th>v11</th>\n",
              "      <th>v12</th>\n",
              "      <th>v14</th>\n",
              "      <th>v15</th>\n",
              "      <th>v17</th>\n",
              "      <th>v18</th>\n",
              "      <th>v19</th>\n",
              "      <th>v22</th>\n",
              "      <th>v24</th>\n",
              "      <th>v25</th>\n",
              "      <th>v26</th>\n",
              "      <th>v27</th>\n",
              "      <th>v28</th>\n",
              "      <th>v30</th>\n",
              "      <th>v31</th>\n",
              "      <th>v32</th>\n",
              "      <th>v35</th>\n",
              "      <th>v46</th>\n",
              "      <th>v47</th>\n",
              "      <th>v48</th>\n",
              "      <th>v49</th>\n",
              "      <th>v50</th>\n",
              "      <th>v52</th>\n",
              "      <th>v53</th>\n",
              "      <th>v54</th>\n",
              "      <th>v55</th>\n",
              "      <th>v56</th>\n",
              "      <th>v57</th>\n",
              "      <th>...</th>\n",
              "      <th>v62</th>\n",
              "      <th>v63</th>\n",
              "      <th>v64</th>\n",
              "      <th>v65</th>\n",
              "      <th>v66</th>\n",
              "      <th>v67</th>\n",
              "      <th>v68</th>\n",
              "      <th>v69</th>\n",
              "      <th>v70</th>\n",
              "      <th>v71</th>\n",
              "      <th>v72</th>\n",
              "      <th>v73</th>\n",
              "      <th>v74</th>\n",
              "      <th>v75</th>\n",
              "      <th>v76</th>\n",
              "      <th>v77</th>\n",
              "      <th>v78</th>\n",
              "      <th>v79</th>\n",
              "      <th>v80</th>\n",
              "      <th>v81</th>\n",
              "      <th>v82</th>\n",
              "      <th>v83</th>\n",
              "      <th>v84</th>\n",
              "      <th>v85</th>\n",
              "      <th>v86</th>\n",
              "      <th>v87</th>\n",
              "      <th>v88</th>\n",
              "      <th>v89</th>\n",
              "      <th>v90</th>\n",
              "      <th>v91</th>\n",
              "      <th>v92</th>\n",
              "      <th>v93</th>\n",
              "      <th>v94</th>\n",
              "      <th>v95</th>\n",
              "      <th>v96</th>\n",
              "      <th>v97</th>\n",
              "      <th>v98</th>\n",
              "      <th>v99</th>\n",
              "      <th>v100</th>\n",
              "      <th>v102</th>\n",
              "    </tr>\n",
              "  </thead>\n",
              "  <tbody>\n",
              "    <tr>\n",
              "      <th>0</th>\n",
              "      <td>-3.051664</td>\n",
              "      <td>0.047280</td>\n",
              "      <td>0.120815</td>\n",
              "      <td>16.07</td>\n",
              "      <td>18.47</td>\n",
              "      <td>20.479904</td>\n",
              "      <td>3696.0</td>\n",
              "      <td>0.870060</td>\n",
              "      <td>-0.018315</td>\n",
              "      <td>-0.001862</td>\n",
              "      <td>59.714280</td>\n",
              "      <td>51.128020</td>\n",
              "      <td>70.586321</td>\n",
              "      <td>0.030</td>\n",
              "      <td>30.867534</td>\n",
              "      <td>17.095155</td>\n",
              "      <td>21.974035</td>\n",
              "      <td>0.016084</td>\n",
              "      <td>0.001958</td>\n",
              "      <td>0.845975</td>\n",
              "      <td>0.726923</td>\n",
              "      <td>0.208814</td>\n",
              "      <td>-1.553774</td>\n",
              "      <td>1.060889</td>\n",
              "      <td>6.197893</td>\n",
              "      <td>0.865385</td>\n",
              "      <td>-0.961538</td>\n",
              "      <td>-3.506558</td>\n",
              "      <td>51.128020</td>\n",
              "      <td>-46.341463</td>\n",
              "      <td>52.568705</td>\n",
              "      <td>49.319147</td>\n",
              "      <td>56.270184</td>\n",
              "      <td>0.15</td>\n",
              "      <td>18.405064</td>\n",
              "      <td>20.113414</td>\n",
              "      <td>4.435145</td>\n",
              "      <td>23.54983</td>\n",
              "      <td>-0.030547</td>\n",
              "      <td>-0.037055</td>\n",
              "      <td>...</td>\n",
              "      <td>-56.270184</td>\n",
              "      <td>-18.405064</td>\n",
              "      <td>-20.113414</td>\n",
              "      <td>-4.435145</td>\n",
              "      <td>44.147701</td>\n",
              "      <td>-0.595611</td>\n",
              "      <td>46.341463</td>\n",
              "      <td>0.030547</td>\n",
              "      <td>-34.730539</td>\n",
              "      <td>62.856359</td>\n",
              "      <td>59.306373</td>\n",
              "      <td>62.750245</td>\n",
              "      <td>0.41</td>\n",
              "      <td>0.52483</td>\n",
              "      <td>22.396407</td>\n",
              "      <td>13.975433</td>\n",
              "      <td>23.152454</td>\n",
              "      <td>31.37664</td>\n",
              "      <td>0.695163</td>\n",
              "      <td>0.715443</td>\n",
              "      <td>54.720354</td>\n",
              "      <td>0.660144</td>\n",
              "      <td>-62.856359</td>\n",
              "      <td>-59.306373</td>\n",
              "      <td>-62.750245</td>\n",
              "      <td>-22.396407</td>\n",
              "      <td>13.975433</td>\n",
              "      <td>-23.152454</td>\n",
              "      <td>-54.720354</td>\n",
              "      <td>-0.660144</td>\n",
              "      <td>34.730539</td>\n",
              "      <td>-0.695163</td>\n",
              "      <td>0.410577</td>\n",
              "      <td>0.627885</td>\n",
              "      <td>-1.160417</td>\n",
              "      <td>-1.427308</td>\n",
              "      <td>-1.721154</td>\n",
              "      <td>5.562500</td>\n",
              "      <td>20.870833</td>\n",
              "      <td>0.39848</td>\n",
              "    </tr>\n",
              "    <tr>\n",
              "      <th>1</th>\n",
              "      <td>-3.070391</td>\n",
              "      <td>0.046403</td>\n",
              "      <td>0.120815</td>\n",
              "      <td>16.07</td>\n",
              "      <td>18.46</td>\n",
              "      <td>20.574079</td>\n",
              "      <td>3697.0</td>\n",
              "      <td>0.870531</td>\n",
              "      <td>-0.018382</td>\n",
              "      <td>-0.006179</td>\n",
              "      <td>61.048270</td>\n",
              "      <td>51.168539</td>\n",
              "      <td>73.781560</td>\n",
              "      <td>0.035</td>\n",
              "      <td>30.743829</td>\n",
              "      <td>16.174140</td>\n",
              "      <td>22.622571</td>\n",
              "      <td>0.018389</td>\n",
              "      <td>0.005244</td>\n",
              "      <td>0.827419</td>\n",
              "      <td>0.746082</td>\n",
              "      <td>0.319360</td>\n",
              "      <td>-1.452192</td>\n",
              "      <td>1.147438</td>\n",
              "      <td>6.280302</td>\n",
              "      <td>0.769157</td>\n",
              "      <td>-0.663398</td>\n",
              "      <td>-3.352407</td>\n",
              "      <td>51.168539</td>\n",
              "      <td>-46.341463</td>\n",
              "      <td>52.568705</td>\n",
              "      <td>49.319147</td>\n",
              "      <td>56.270184</td>\n",
              "      <td>0.15</td>\n",
              "      <td>18.405064</td>\n",
              "      <td>20.113414</td>\n",
              "      <td>4.435145</td>\n",
              "      <td>23.54983</td>\n",
              "      <td>-0.030547</td>\n",
              "      <td>-0.037055</td>\n",
              "      <td>...</td>\n",
              "      <td>-56.270184</td>\n",
              "      <td>-18.405064</td>\n",
              "      <td>-20.113414</td>\n",
              "      <td>-4.435145</td>\n",
              "      <td>44.147701</td>\n",
              "      <td>-0.595611</td>\n",
              "      <td>46.341463</td>\n",
              "      <td>0.030547</td>\n",
              "      <td>-34.730539</td>\n",
              "      <td>62.856359</td>\n",
              "      <td>59.306373</td>\n",
              "      <td>62.750245</td>\n",
              "      <td>0.41</td>\n",
              "      <td>0.52483</td>\n",
              "      <td>22.396407</td>\n",
              "      <td>13.975433</td>\n",
              "      <td>23.152454</td>\n",
              "      <td>31.37664</td>\n",
              "      <td>0.695163</td>\n",
              "      <td>0.715443</td>\n",
              "      <td>54.720354</td>\n",
              "      <td>0.660144</td>\n",
              "      <td>-62.856359</td>\n",
              "      <td>-59.306373</td>\n",
              "      <td>-62.750245</td>\n",
              "      <td>-22.396407</td>\n",
              "      <td>13.975433</td>\n",
              "      <td>-23.152454</td>\n",
              "      <td>-54.720354</td>\n",
              "      <td>-0.660144</td>\n",
              "      <td>34.730539</td>\n",
              "      <td>-0.695163</td>\n",
              "      <td>0.506682</td>\n",
              "      <td>0.723969</td>\n",
              "      <td>-1.064160</td>\n",
              "      <td>-1.331026</td>\n",
              "      <td>-1.624844</td>\n",
              "      <td>5.658110</td>\n",
              "      <td>20.964971</td>\n",
              "      <td>0.39848</td>\n",
              "    </tr>\n",
              "    <tr>\n",
              "      <th>2</th>\n",
              "      <td>-3.080296</td>\n",
              "      <td>0.045946</td>\n",
              "      <td>0.120815</td>\n",
              "      <td>15.98</td>\n",
              "      <td>18.37</td>\n",
              "      <td>20.856498</td>\n",
              "      <td>3698.0</td>\n",
              "      <td>0.869897</td>\n",
              "      <td>-0.018382</td>\n",
              "      <td>-0.003731</td>\n",
              "      <td>64.812654</td>\n",
              "      <td>51.289999</td>\n",
              "      <td>74.238744</td>\n",
              "      <td>0.040</td>\n",
              "      <td>31.941279</td>\n",
              "      <td>15.168347</td>\n",
              "      <td>23.549819</td>\n",
              "      <td>0.022085</td>\n",
              "      <td>0.008613</td>\n",
              "      <td>0.873030</td>\n",
              "      <td>0.966936</td>\n",
              "      <td>0.617231</td>\n",
              "      <td>-1.158617</td>\n",
              "      <td>1.426086</td>\n",
              "      <td>6.553946</td>\n",
              "      <td>1.441753</td>\n",
              "      <td>-0.096117</td>\n",
              "      <td>-3.218876</td>\n",
              "      <td>51.289999</td>\n",
              "      <td>-46.341463</td>\n",
              "      <td>52.568705</td>\n",
              "      <td>49.319147</td>\n",
              "      <td>56.270184</td>\n",
              "      <td>0.15</td>\n",
              "      <td>18.405064</td>\n",
              "      <td>20.113414</td>\n",
              "      <td>4.435145</td>\n",
              "      <td>23.54983</td>\n",
              "      <td>-0.030547</td>\n",
              "      <td>-0.037055</td>\n",
              "      <td>...</td>\n",
              "      <td>-56.270184</td>\n",
              "      <td>-18.405064</td>\n",
              "      <td>-20.113414</td>\n",
              "      <td>-4.435145</td>\n",
              "      <td>44.147701</td>\n",
              "      <td>-0.595611</td>\n",
              "      <td>46.341463</td>\n",
              "      <td>0.030547</td>\n",
              "      <td>-34.730539</td>\n",
              "      <td>62.856359</td>\n",
              "      <td>59.306373</td>\n",
              "      <td>62.750245</td>\n",
              "      <td>0.41</td>\n",
              "      <td>0.52483</td>\n",
              "      <td>22.396407</td>\n",
              "      <td>13.975433</td>\n",
              "      <td>23.152454</td>\n",
              "      <td>31.37664</td>\n",
              "      <td>0.695163</td>\n",
              "      <td>0.715443</td>\n",
              "      <td>54.720354</td>\n",
              "      <td>0.660144</td>\n",
              "      <td>-62.856359</td>\n",
              "      <td>-59.306373</td>\n",
              "      <td>-62.750245</td>\n",
              "      <td>-22.396407</td>\n",
              "      <td>13.975433</td>\n",
              "      <td>-23.152454</td>\n",
              "      <td>-54.720354</td>\n",
              "      <td>-0.660144</td>\n",
              "      <td>34.730539</td>\n",
              "      <td>-0.695163</td>\n",
              "      <td>0.794887</td>\n",
              "      <td>1.012111</td>\n",
              "      <td>-0.775503</td>\n",
              "      <td>-1.042291</td>\n",
              "      <td>-1.336025</td>\n",
              "      <td>5.944829</td>\n",
              "      <td>21.247277</td>\n",
              "      <td>0.39848</td>\n",
              "    </tr>\n",
              "    <tr>\n",
              "      <th>3</th>\n",
              "      <td>-3.051103</td>\n",
              "      <td>0.047307</td>\n",
              "      <td>0.120815</td>\n",
              "      <td>15.96</td>\n",
              "      <td>18.37</td>\n",
              "      <td>20.291498</td>\n",
              "      <td>3699.0</td>\n",
              "      <td>0.868808</td>\n",
              "      <td>-0.016605</td>\n",
              "      <td>-0.009294</td>\n",
              "      <td>53.646082</td>\n",
              "      <td>51.035479</td>\n",
              "      <td>69.032397</td>\n",
              "      <td>0.065</td>\n",
              "      <td>28.806442</td>\n",
              "      <td>18.209380</td>\n",
              "      <td>23.477643</td>\n",
              "      <td>0.020920</td>\n",
              "      <td>0.011074</td>\n",
              "      <td>0.777115</td>\n",
              "      <td>0.308713</td>\n",
              "      <td>0.043758</td>\n",
              "      <td>-1.731992</td>\n",
              "      <td>0.840618</td>\n",
              "      <td>5.967478</td>\n",
              "      <td>0.673206</td>\n",
              "      <td>-0.961723</td>\n",
              "      <td>-2.733368</td>\n",
              "      <td>51.035479</td>\n",
              "      <td>-46.341463</td>\n",
              "      <td>52.568705</td>\n",
              "      <td>49.319147</td>\n",
              "      <td>56.270184</td>\n",
              "      <td>0.15</td>\n",
              "      <td>18.405064</td>\n",
              "      <td>20.113414</td>\n",
              "      <td>4.435145</td>\n",
              "      <td>23.54983</td>\n",
              "      <td>-0.030547</td>\n",
              "      <td>-0.037055</td>\n",
              "      <td>...</td>\n",
              "      <td>-56.270184</td>\n",
              "      <td>-18.405064</td>\n",
              "      <td>-20.113414</td>\n",
              "      <td>-4.435145</td>\n",
              "      <td>44.147701</td>\n",
              "      <td>-0.595611</td>\n",
              "      <td>46.341463</td>\n",
              "      <td>0.030547</td>\n",
              "      <td>-34.730539</td>\n",
              "      <td>62.856359</td>\n",
              "      <td>59.306373</td>\n",
              "      <td>62.750245</td>\n",
              "      <td>0.41</td>\n",
              "      <td>0.52483</td>\n",
              "      <td>22.396407</td>\n",
              "      <td>13.975433</td>\n",
              "      <td>23.152454</td>\n",
              "      <td>31.37664</td>\n",
              "      <td>0.695163</td>\n",
              "      <td>0.715443</td>\n",
              "      <td>54.720354</td>\n",
              "      <td>0.660144</td>\n",
              "      <td>-62.856359</td>\n",
              "      <td>-59.306373</td>\n",
              "      <td>-62.750245</td>\n",
              "      <td>-22.396407</td>\n",
              "      <td>13.975433</td>\n",
              "      <td>-23.152454</td>\n",
              "      <td>-54.720354</td>\n",
              "      <td>-0.660144</td>\n",
              "      <td>34.730539</td>\n",
              "      <td>-0.695163</td>\n",
              "      <td>0.218311</td>\n",
              "      <td>0.435661</td>\n",
              "      <td>-1.352985</td>\n",
              "      <td>-1.619927</td>\n",
              "      <td>-1.913830</td>\n",
              "      <td>5.371225</td>\n",
              "      <td>20.682503</td>\n",
              "      <td>0.39848</td>\n",
              "    </tr>\n",
              "    <tr>\n",
              "      <th>4</th>\n",
              "      <td>-3.069860</td>\n",
              "      <td>0.046428</td>\n",
              "      <td>0.120815</td>\n",
              "      <td>15.98</td>\n",
              "      <td>18.38</td>\n",
              "      <td>20.621160</td>\n",
              "      <td>3700.0</td>\n",
              "      <td>0.869423</td>\n",
              "      <td>-0.007407</td>\n",
              "      <td>-0.000373</td>\n",
              "      <td>58.173147</td>\n",
              "      <td>51.177162</td>\n",
              "      <td>68.061283</td>\n",
              "      <td>0.035</td>\n",
              "      <td>27.255295</td>\n",
              "      <td>17.228856</td>\n",
              "      <td>23.410622</td>\n",
              "      <td>0.022112</td>\n",
              "      <td>0.013282</td>\n",
              "      <td>0.854717</td>\n",
              "      <td>0.598952</td>\n",
              "      <td>0.396898</td>\n",
              "      <td>-1.390737</td>\n",
              "      <td>1.167860</td>\n",
              "      <td>6.288853</td>\n",
              "      <td>1.105610</td>\n",
              "      <td>-0.528770</td>\n",
              "      <td>-3.352407</td>\n",
              "      <td>51.177162</td>\n",
              "      <td>-46.341463</td>\n",
              "      <td>52.568705</td>\n",
              "      <td>49.319147</td>\n",
              "      <td>56.270184</td>\n",
              "      <td>0.15</td>\n",
              "      <td>18.405064</td>\n",
              "      <td>20.113414</td>\n",
              "      <td>4.435145</td>\n",
              "      <td>23.54983</td>\n",
              "      <td>-0.030547</td>\n",
              "      <td>-0.037055</td>\n",
              "      <td>...</td>\n",
              "      <td>-56.270184</td>\n",
              "      <td>-18.405064</td>\n",
              "      <td>-20.113414</td>\n",
              "      <td>-4.435145</td>\n",
              "      <td>44.147701</td>\n",
              "      <td>-0.595611</td>\n",
              "      <td>46.341463</td>\n",
              "      <td>0.030547</td>\n",
              "      <td>-34.730539</td>\n",
              "      <td>62.856359</td>\n",
              "      <td>59.306373</td>\n",
              "      <td>62.750245</td>\n",
              "      <td>0.41</td>\n",
              "      <td>0.52483</td>\n",
              "      <td>22.396407</td>\n",
              "      <td>13.975433</td>\n",
              "      <td>23.152454</td>\n",
              "      <td>31.37664</td>\n",
              "      <td>0.695163</td>\n",
              "      <td>0.715443</td>\n",
              "      <td>54.720354</td>\n",
              "      <td>0.660144</td>\n",
              "      <td>-62.856359</td>\n",
              "      <td>-59.306373</td>\n",
              "      <td>-62.750245</td>\n",
              "      <td>-22.396407</td>\n",
              "      <td>13.975433</td>\n",
              "      <td>-23.152454</td>\n",
              "      <td>-54.720354</td>\n",
              "      <td>-0.660144</td>\n",
              "      <td>34.730539</td>\n",
              "      <td>-0.695163</td>\n",
              "      <td>0.554728</td>\n",
              "      <td>0.772004</td>\n",
              "      <td>-1.016039</td>\n",
              "      <td>-1.282892</td>\n",
              "      <td>-1.576696</td>\n",
              "      <td>5.705908</td>\n",
              "      <td>21.012034</td>\n",
              "      <td>0.39848</td>\n",
              "    </tr>\n",
              "  </tbody>\n",
              "</table>\n",
              "<p>5 rows × 84 columns</p>\n",
              "</div>"
            ],
            "text/plain": [
              "        v33       v13       v51     v1  ...       v98       v99       v100     v102\n",
              "0 -3.051664  0.047280  0.120815  16.07  ... -1.721154  5.562500  20.870833  0.39848\n",
              "1 -3.070391  0.046403  0.120815  16.07  ... -1.624844  5.658110  20.964971  0.39848\n",
              "2 -3.080296  0.045946  0.120815  15.98  ... -1.336025  5.944829  21.247277  0.39848\n",
              "3 -3.051103  0.047307  0.120815  15.96  ... -1.913830  5.371225  20.682503  0.39848\n",
              "4 -3.069860  0.046428  0.120815  15.98  ... -1.576696  5.705908  21.012034  0.39848\n",
              "\n",
              "[5 rows x 84 columns]"
            ]
          },
          "metadata": {
            "tags": []
          },
          "execution_count": 14
        }
      ]
    },
    {
      "cell_type": "markdown",
      "metadata": {
        "id": "738o6a451WBP"
      },
      "source": [
        "# Further Reduce Data with PCA"
      ]
    },
    {
      "cell_type": "code",
      "metadata": {
        "colab": {
          "base_uri": "https://localhost:8080/",
          "height": 215
        },
        "id": "vucXdQRe1Zp-",
        "outputId": "c75b5dee-4c9d-45bc-c348-a9ba2874158b"
      },
      "source": [
        "# scale to standardize training data\n",
        "ss = StandardScaler()\n",
        "ss.fit(train_imp_features)\n",
        "train_norm = pd.DataFrame(ss.transform(train_imp_features), columns=feature_list)\n",
        "\n",
        "# Define number of components to be used for PCA\n",
        "pca = PCA(n_components=50)\n",
        "scores = pca.fit_transform(train_norm)\n",
        "loadings = pca.components_.T\n",
        "\n",
        "# Convert scores array to df for first 50 PCs\n",
        "# Create list of PCs to use for columns\n",
        "comps = []\n",
        "for i in range(1,51):\n",
        "    comps.append(\"PC{}\".format(i))\n",
        "\n",
        "scores_df = pd.DataFrame(scores, columns=comps)\n",
        "loadings_df = pd.DataFrame(loadings, columns=comps)\n",
        "\n",
        "scores_df.head()"
      ],
      "execution_count": 15,
      "outputs": [
        {
          "output_type": "execute_result",
          "data": {
            "text/html": [
              "<div>\n",
              "<style scoped>\n",
              "    .dataframe tbody tr th:only-of-type {\n",
              "        vertical-align: middle;\n",
              "    }\n",
              "\n",
              "    .dataframe tbody tr th {\n",
              "        vertical-align: top;\n",
              "    }\n",
              "\n",
              "    .dataframe thead th {\n",
              "        text-align: right;\n",
              "    }\n",
              "</style>\n",
              "<table border=\"1\" class=\"dataframe\">\n",
              "  <thead>\n",
              "    <tr style=\"text-align: right;\">\n",
              "      <th></th>\n",
              "      <th>PC1</th>\n",
              "      <th>PC2</th>\n",
              "      <th>PC3</th>\n",
              "      <th>PC4</th>\n",
              "      <th>PC5</th>\n",
              "      <th>PC6</th>\n",
              "      <th>PC7</th>\n",
              "      <th>PC8</th>\n",
              "      <th>PC9</th>\n",
              "      <th>PC10</th>\n",
              "      <th>PC11</th>\n",
              "      <th>PC12</th>\n",
              "      <th>PC13</th>\n",
              "      <th>PC14</th>\n",
              "      <th>PC15</th>\n",
              "      <th>PC16</th>\n",
              "      <th>PC17</th>\n",
              "      <th>PC18</th>\n",
              "      <th>PC19</th>\n",
              "      <th>PC20</th>\n",
              "      <th>PC21</th>\n",
              "      <th>PC22</th>\n",
              "      <th>PC23</th>\n",
              "      <th>PC24</th>\n",
              "      <th>PC25</th>\n",
              "      <th>PC26</th>\n",
              "      <th>PC27</th>\n",
              "      <th>PC28</th>\n",
              "      <th>PC29</th>\n",
              "      <th>PC30</th>\n",
              "      <th>PC31</th>\n",
              "      <th>PC32</th>\n",
              "      <th>PC33</th>\n",
              "      <th>PC34</th>\n",
              "      <th>PC35</th>\n",
              "      <th>PC36</th>\n",
              "      <th>PC37</th>\n",
              "      <th>PC38</th>\n",
              "      <th>PC39</th>\n",
              "      <th>PC40</th>\n",
              "      <th>PC41</th>\n",
              "      <th>PC42</th>\n",
              "      <th>PC43</th>\n",
              "      <th>PC44</th>\n",
              "      <th>PC45</th>\n",
              "      <th>PC46</th>\n",
              "      <th>PC47</th>\n",
              "      <th>PC48</th>\n",
              "      <th>PC49</th>\n",
              "      <th>PC50</th>\n",
              "    </tr>\n",
              "  </thead>\n",
              "  <tbody>\n",
              "    <tr>\n",
              "      <th>0</th>\n",
              "      <td>-0.716278</td>\n",
              "      <td>-0.393038</td>\n",
              "      <td>-2.913827</td>\n",
              "      <td>1.327546</td>\n",
              "      <td>-3.708707</td>\n",
              "      <td>-0.275258</td>\n",
              "      <td>-0.332058</td>\n",
              "      <td>0.135746</td>\n",
              "      <td>-0.058791</td>\n",
              "      <td>-0.074325</td>\n",
              "      <td>1.835031</td>\n",
              "      <td>0.124392</td>\n",
              "      <td>-1.928200</td>\n",
              "      <td>1.013445</td>\n",
              "      <td>0.107074</td>\n",
              "      <td>-0.030411</td>\n",
              "      <td>-0.886415</td>\n",
              "      <td>0.193578</td>\n",
              "      <td>-0.983166</td>\n",
              "      <td>0.595641</td>\n",
              "      <td>0.094106</td>\n",
              "      <td>0.172832</td>\n",
              "      <td>0.098802</td>\n",
              "      <td>0.002063</td>\n",
              "      <td>-0.131685</td>\n",
              "      <td>-0.718376</td>\n",
              "      <td>0.129302</td>\n",
              "      <td>0.583248</td>\n",
              "      <td>-0.203633</td>\n",
              "      <td>0.427559</td>\n",
              "      <td>-0.340299</td>\n",
              "      <td>-0.215762</td>\n",
              "      <td>0.523078</td>\n",
              "      <td>-0.909911</td>\n",
              "      <td>0.358486</td>\n",
              "      <td>-0.351970</td>\n",
              "      <td>0.271011</td>\n",
              "      <td>-0.443346</td>\n",
              "      <td>-0.035334</td>\n",
              "      <td>-0.134783</td>\n",
              "      <td>-0.726530</td>\n",
              "      <td>0.168542</td>\n",
              "      <td>0.464333</td>\n",
              "      <td>0.384122</td>\n",
              "      <td>0.028442</td>\n",
              "      <td>-0.350192</td>\n",
              "      <td>-0.598669</td>\n",
              "      <td>0.409418</td>\n",
              "      <td>-0.164267</td>\n",
              "      <td>-0.218168</td>\n",
              "    </tr>\n",
              "    <tr>\n",
              "      <th>1</th>\n",
              "      <td>-0.789522</td>\n",
              "      <td>-0.274916</td>\n",
              "      <td>-2.898668</td>\n",
              "      <td>1.387994</td>\n",
              "      <td>-3.746147</td>\n",
              "      <td>-0.277367</td>\n",
              "      <td>-0.381146</td>\n",
              "      <td>0.117043</td>\n",
              "      <td>-0.011849</td>\n",
              "      <td>-0.078226</td>\n",
              "      <td>1.810488</td>\n",
              "      <td>0.114764</td>\n",
              "      <td>-1.920563</td>\n",
              "      <td>1.036838</td>\n",
              "      <td>0.190263</td>\n",
              "      <td>-0.029021</td>\n",
              "      <td>-0.865954</td>\n",
              "      <td>0.227057</td>\n",
              "      <td>-0.887760</td>\n",
              "      <td>0.664568</td>\n",
              "      <td>0.066000</td>\n",
              "      <td>0.185399</td>\n",
              "      <td>0.023032</td>\n",
              "      <td>-0.018218</td>\n",
              "      <td>-0.162085</td>\n",
              "      <td>-0.749938</td>\n",
              "      <td>0.171004</td>\n",
              "      <td>0.597529</td>\n",
              "      <td>-0.125043</td>\n",
              "      <td>0.420328</td>\n",
              "      <td>-0.473019</td>\n",
              "      <td>-0.217296</td>\n",
              "      <td>0.494849</td>\n",
              "      <td>-0.956363</td>\n",
              "      <td>0.413335</td>\n",
              "      <td>-0.361762</td>\n",
              "      <td>0.259190</td>\n",
              "      <td>-0.488161</td>\n",
              "      <td>-0.037501</td>\n",
              "      <td>-0.144713</td>\n",
              "      <td>-0.697958</td>\n",
              "      <td>0.155825</td>\n",
              "      <td>0.521257</td>\n",
              "      <td>0.425993</td>\n",
              "      <td>0.024902</td>\n",
              "      <td>-0.344942</td>\n",
              "      <td>-0.462624</td>\n",
              "      <td>0.456793</td>\n",
              "      <td>-0.198587</td>\n",
              "      <td>-0.153265</td>\n",
              "    </tr>\n",
              "    <tr>\n",
              "      <th>2</th>\n",
              "      <td>-1.025355</td>\n",
              "      <td>0.038491</td>\n",
              "      <td>-2.940627</td>\n",
              "      <td>1.447336</td>\n",
              "      <td>-3.944000</td>\n",
              "      <td>-0.165607</td>\n",
              "      <td>-0.716753</td>\n",
              "      <td>0.028118</td>\n",
              "      <td>0.053431</td>\n",
              "      <td>-0.110358</td>\n",
              "      <td>1.719820</td>\n",
              "      <td>0.116547</td>\n",
              "      <td>-1.864522</td>\n",
              "      <td>1.109516</td>\n",
              "      <td>0.221719</td>\n",
              "      <td>-0.028162</td>\n",
              "      <td>-0.885631</td>\n",
              "      <td>0.243220</td>\n",
              "      <td>-0.755598</td>\n",
              "      <td>0.737382</td>\n",
              "      <td>0.038072</td>\n",
              "      <td>0.201818</td>\n",
              "      <td>0.065469</td>\n",
              "      <td>0.020095</td>\n",
              "      <td>-0.088449</td>\n",
              "      <td>-0.752554</td>\n",
              "      <td>0.122602</td>\n",
              "      <td>0.478724</td>\n",
              "      <td>-0.187633</td>\n",
              "      <td>0.456553</td>\n",
              "      <td>-0.447030</td>\n",
              "      <td>-0.222476</td>\n",
              "      <td>0.564431</td>\n",
              "      <td>-0.969488</td>\n",
              "      <td>0.357260</td>\n",
              "      <td>-0.347819</td>\n",
              "      <td>0.278684</td>\n",
              "      <td>-0.547018</td>\n",
              "      <td>-0.072204</td>\n",
              "      <td>-0.151267</td>\n",
              "      <td>-0.672047</td>\n",
              "      <td>0.129327</td>\n",
              "      <td>0.556176</td>\n",
              "      <td>0.418921</td>\n",
              "      <td>-0.036432</td>\n",
              "      <td>-0.299882</td>\n",
              "      <td>-0.385740</td>\n",
              "      <td>0.530415</td>\n",
              "      <td>-0.176850</td>\n",
              "      <td>-0.085176</td>\n",
              "    </tr>\n",
              "    <tr>\n",
              "      <th>3</th>\n",
              "      <td>-0.425581</td>\n",
              "      <td>-0.527759</td>\n",
              "      <td>-2.599782</td>\n",
              "      <td>1.635921</td>\n",
              "      <td>-3.642685</td>\n",
              "      <td>-0.575581</td>\n",
              "      <td>0.029735</td>\n",
              "      <td>0.021973</td>\n",
              "      <td>0.264278</td>\n",
              "      <td>0.017959</td>\n",
              "      <td>1.425060</td>\n",
              "      <td>0.123598</td>\n",
              "      <td>-1.859238</td>\n",
              "      <td>1.175117</td>\n",
              "      <td>0.499714</td>\n",
              "      <td>-0.014859</td>\n",
              "      <td>-0.861754</td>\n",
              "      <td>0.519255</td>\n",
              "      <td>-0.477315</td>\n",
              "      <td>0.941361</td>\n",
              "      <td>-0.029663</td>\n",
              "      <td>0.134326</td>\n",
              "      <td>-0.116747</td>\n",
              "      <td>-0.026710</td>\n",
              "      <td>-0.189037</td>\n",
              "      <td>-0.597761</td>\n",
              "      <td>0.064428</td>\n",
              "      <td>0.646415</td>\n",
              "      <td>-0.134121</td>\n",
              "      <td>0.450822</td>\n",
              "      <td>-0.398634</td>\n",
              "      <td>-0.233884</td>\n",
              "      <td>0.417175</td>\n",
              "      <td>-1.011677</td>\n",
              "      <td>0.444293</td>\n",
              "      <td>-0.375485</td>\n",
              "      <td>0.112874</td>\n",
              "      <td>-0.613208</td>\n",
              "      <td>-0.232091</td>\n",
              "      <td>-0.220609</td>\n",
              "      <td>-0.775359</td>\n",
              "      <td>0.139363</td>\n",
              "      <td>0.313589</td>\n",
              "      <td>0.467062</td>\n",
              "      <td>0.068913</td>\n",
              "      <td>-0.531603</td>\n",
              "      <td>-0.209336</td>\n",
              "      <td>0.597973</td>\n",
              "      <td>-0.300984</td>\n",
              "      <td>-0.004264</td>\n",
              "    </tr>\n",
              "    <tr>\n",
              "      <th>4</th>\n",
              "      <td>-0.753574</td>\n",
              "      <td>-0.399877</td>\n",
              "      <td>-2.846855</td>\n",
              "      <td>1.319836</td>\n",
              "      <td>-3.732304</td>\n",
              "      <td>-0.393571</td>\n",
              "      <td>-0.232652</td>\n",
              "      <td>-0.034762</td>\n",
              "      <td>-0.100162</td>\n",
              "      <td>-0.049469</td>\n",
              "      <td>1.567772</td>\n",
              "      <td>0.182031</td>\n",
              "      <td>-1.857306</td>\n",
              "      <td>1.047254</td>\n",
              "      <td>0.088049</td>\n",
              "      <td>-0.025468</td>\n",
              "      <td>-0.948056</td>\n",
              "      <td>0.246617</td>\n",
              "      <td>-0.883141</td>\n",
              "      <td>0.654032</td>\n",
              "      <td>0.099884</td>\n",
              "      <td>0.137888</td>\n",
              "      <td>0.063486</td>\n",
              "      <td>0.001120</td>\n",
              "      <td>-0.133199</td>\n",
              "      <td>-0.618173</td>\n",
              "      <td>0.030619</td>\n",
              "      <td>0.611635</td>\n",
              "      <td>-0.219070</td>\n",
              "      <td>0.419133</td>\n",
              "      <td>-0.311737</td>\n",
              "      <td>-0.219880</td>\n",
              "      <td>0.491356</td>\n",
              "      <td>-0.953290</td>\n",
              "      <td>0.406872</td>\n",
              "      <td>-0.347988</td>\n",
              "      <td>0.214041</td>\n",
              "      <td>-0.504076</td>\n",
              "      <td>-0.143162</td>\n",
              "      <td>-0.131912</td>\n",
              "      <td>-0.683714</td>\n",
              "      <td>0.426041</td>\n",
              "      <td>0.372216</td>\n",
              "      <td>0.519561</td>\n",
              "      <td>0.159926</td>\n",
              "      <td>-0.393064</td>\n",
              "      <td>-0.404394</td>\n",
              "      <td>0.498862</td>\n",
              "      <td>-0.207131</td>\n",
              "      <td>-0.135442</td>\n",
              "    </tr>\n",
              "  </tbody>\n",
              "</table>\n",
              "</div>"
            ],
            "text/plain": [
              "        PC1       PC2       PC3  ...      PC48      PC49      PC50\n",
              "0 -0.716278 -0.393038 -2.913827  ...  0.409418 -0.164267 -0.218168\n",
              "1 -0.789522 -0.274916 -2.898668  ...  0.456793 -0.198587 -0.153265\n",
              "2 -1.025355  0.038491 -2.940627  ...  0.530415 -0.176850 -0.085176\n",
              "3 -0.425581 -0.527759 -2.599782  ...  0.597973 -0.300984 -0.004264\n",
              "4 -0.753574 -0.399877 -2.846855  ...  0.498862 -0.207131 -0.135442\n",
              "\n",
              "[5 rows x 50 columns]"
            ]
          },
          "metadata": {
            "tags": []
          },
          "execution_count": 15
        }
      ]
    },
    {
      "cell_type": "code",
      "metadata": {
        "colab": {
          "base_uri": "https://localhost:8080/",
          "height": 195
        },
        "id": "TIvzAG-V2bPg",
        "outputId": "ef592136-a9ba-4004-a636-8c80a960dd9f"
      },
      "source": [
        "# Explained Variance per PC\n",
        "explained_variance = pca.explained_variance_ratio_\n",
        "\n",
        "# Cumulative explained variance\n",
        "cumulative_variance = np.cumsum(np.round(explained_variance, decimals=3))\n",
        "\n",
        "# Combine df of PC, explained variance, cumulative variance\n",
        "pc_df = pd.DataFrame(comps, columns=['PC'])\n",
        "explained_variance_df = pd.DataFrame(explained_variance, columns=['Explained Variance'])\n",
        "cumulative_variance_df = pd.DataFrame(cumulative_variance, columns=['Cumulative Variance'])\n",
        "df_explained_variance = pd.concat([pc_df, explained_variance_df, cumulative_variance_df], axis=1)\n",
        "\n",
        "df_explained_variance.head()"
      ],
      "execution_count": 16,
      "outputs": [
        {
          "output_type": "execute_result",
          "data": {
            "text/html": [
              "<div>\n",
              "<style scoped>\n",
              "    .dataframe tbody tr th:only-of-type {\n",
              "        vertical-align: middle;\n",
              "    }\n",
              "\n",
              "    .dataframe tbody tr th {\n",
              "        vertical-align: top;\n",
              "    }\n",
              "\n",
              "    .dataframe thead th {\n",
              "        text-align: right;\n",
              "    }\n",
              "</style>\n",
              "<table border=\"1\" class=\"dataframe\">\n",
              "  <thead>\n",
              "    <tr style=\"text-align: right;\">\n",
              "      <th></th>\n",
              "      <th>PC</th>\n",
              "      <th>Explained Variance</th>\n",
              "      <th>Cumulative Variance</th>\n",
              "    </tr>\n",
              "  </thead>\n",
              "  <tbody>\n",
              "    <tr>\n",
              "      <th>0</th>\n",
              "      <td>PC1</td>\n",
              "      <td>0.267579</td>\n",
              "      <td>0.268</td>\n",
              "    </tr>\n",
              "    <tr>\n",
              "      <th>1</th>\n",
              "      <td>PC2</td>\n",
              "      <td>0.142462</td>\n",
              "      <td>0.410</td>\n",
              "    </tr>\n",
              "    <tr>\n",
              "      <th>2</th>\n",
              "      <td>PC3</td>\n",
              "      <td>0.088507</td>\n",
              "      <td>0.499</td>\n",
              "    </tr>\n",
              "    <tr>\n",
              "      <th>3</th>\n",
              "      <td>PC4</td>\n",
              "      <td>0.043801</td>\n",
              "      <td>0.543</td>\n",
              "    </tr>\n",
              "    <tr>\n",
              "      <th>4</th>\n",
              "      <td>PC5</td>\n",
              "      <td>0.035313</td>\n",
              "      <td>0.578</td>\n",
              "    </tr>\n",
              "  </tbody>\n",
              "</table>\n",
              "</div>"
            ],
            "text/plain": [
              "    PC  Explained Variance  Cumulative Variance\n",
              "0  PC1            0.267579                0.268\n",
              "1  PC2            0.142462                0.410\n",
              "2  PC3            0.088507                0.499\n",
              "3  PC4            0.043801                0.543\n",
              "4  PC5            0.035313                0.578"
            ]
          },
          "metadata": {
            "tags": []
          },
          "execution_count": 16
        }
      ]
    },
    {
      "cell_type": "code",
      "metadata": {
        "colab": {
          "base_uri": "https://localhost:8080/",
          "height": 692
        },
        "id": "nQboVsb62gLu",
        "outputId": "cc1cd72e-ee7a-4725-e974-0325a60720b1"
      },
      "source": [
        "# Scree Plot-- first 10 PCs look good!\n",
        "fig = plt.figure(figsize=(20,10))\n",
        "PC_vals = np.arange(50) + 1\n",
        "plt.plot(PC_vals, pca.explained_variance_, 'ro-', linewidth=2)\n",
        "plt.title('Scree Plot')\n",
        "plt.xlabel('Principal Component')\n",
        "plt.ylabel('Eigenvalue')"
      ],
      "execution_count": 17,
      "outputs": [
        {
          "output_type": "execute_result",
          "data": {
            "text/plain": [
              "Text(0, 0.5, 'Eigenvalue')"
            ]
          },
          "metadata": {
            "tags": []
          },
          "execution_count": 17
        },
        {
          "output_type": "display_data",
          "data": {
            "image/png": "[encoded data removed]",
            "text/plain": [
              "<Figure size 1440x720 with 1 Axes>"
            ]
          },
          "metadata": {
            "tags": []
          }
        }
      ]
    },
    {
      "cell_type": "markdown",
      "metadata": {
        "id": "GYmr73b82k-D"
      },
      "source": [
        "The first 10 PCs will be used to compress the training data."
      ]
    },
    {
      "cell_type": "code",
      "metadata": {
        "colab": {
          "base_uri": "https://localhost:8080/",
          "height": 195
        },
        "id": "RXu3_amt2kZn",
        "outputId": "9898b010-64fa-4161-dcb0-2ce1d0fcaf0c"
      },
      "source": [
        "# Reduce data dimension to 10 PCs\n",
        "reduced_pca = PCA(n_components=10)\n",
        "reduced_train = reduced_pca.fit_transform(train_norm)\n",
        "\n",
        "# Create list of PCs for df\n",
        "reduced_comps = []\n",
        "for i in range(1,11):\n",
        "    reduced_comps.append(\"PC{}\".format(i))\n",
        "\n",
        "# Assign reduced data of 10 PCs to new df\n",
        "reduced_train = pd.DataFrame(reduced_train, columns=reduced_comps)\n",
        "reduced_loadings = reduced_pca.components_.T\n",
        "\n",
        "# Add target variable back to reduced data\n",
        "reduced_train = pd.concat([reduced_train, train_df['binary.target2']], axis=1)\n",
        "reduced_train.head()"
      ],
      "execution_count": 18,
      "outputs": [
        {
          "output_type": "execute_result",
          "data": {
            "text/html": [
              "<div>\n",
              "<style scoped>\n",
              "    .dataframe tbody tr th:only-of-type {\n",
              "        vertical-align: middle;\n",
              "    }\n",
              "\n",
              "    .dataframe tbody tr th {\n",
              "        vertical-align: top;\n",
              "    }\n",
              "\n",
              "    .dataframe thead th {\n",
              "        text-align: right;\n",
              "    }\n",
              "</style>\n",
              "<table border=\"1\" class=\"dataframe\">\n",
              "  <thead>\n",
              "    <tr style=\"text-align: right;\">\n",
              "      <th></th>\n",
              "      <th>PC1</th>\n",
              "      <th>PC2</th>\n",
              "      <th>PC3</th>\n",
              "      <th>PC4</th>\n",
              "      <th>PC5</th>\n",
              "      <th>PC6</th>\n",
              "      <th>PC7</th>\n",
              "      <th>PC8</th>\n",
              "      <th>PC9</th>\n",
              "      <th>PC10</th>\n",
              "      <th>binary.target2</th>\n",
              "    </tr>\n",
              "  </thead>\n",
              "  <tbody>\n",
              "    <tr>\n",
              "      <th>0</th>\n",
              "      <td>-0.716278</td>\n",
              "      <td>-0.393039</td>\n",
              "      <td>-2.913790</td>\n",
              "      <td>1.327114</td>\n",
              "      <td>-3.709238</td>\n",
              "      <td>-0.275011</td>\n",
              "      <td>-0.333185</td>\n",
              "      <td>0.134998</td>\n",
              "      <td>-0.069804</td>\n",
              "      <td>-0.061819</td>\n",
              "      <td>0</td>\n",
              "    </tr>\n",
              "    <tr>\n",
              "      <th>1</th>\n",
              "      <td>-0.789522</td>\n",
              "      <td>-0.274918</td>\n",
              "      <td>-2.898631</td>\n",
              "      <td>1.387656</td>\n",
              "      <td>-3.746905</td>\n",
              "      <td>-0.277092</td>\n",
              "      <td>-0.382359</td>\n",
              "      <td>0.116041</td>\n",
              "      <td>-0.023589</td>\n",
              "      <td>-0.063855</td>\n",
              "      <td>0</td>\n",
              "    </tr>\n",
              "    <tr>\n",
              "      <th>2</th>\n",
              "      <td>-1.025355</td>\n",
              "      <td>0.038490</td>\n",
              "      <td>-2.940580</td>\n",
              "      <td>1.447195</td>\n",
              "      <td>-3.944556</td>\n",
              "      <td>-0.164877</td>\n",
              "      <td>-0.717943</td>\n",
              "      <td>0.027327</td>\n",
              "      <td>0.043473</td>\n",
              "      <td>-0.098650</td>\n",
              "      <td>0</td>\n",
              "    </tr>\n",
              "    <tr>\n",
              "      <th>3</th>\n",
              "      <td>-0.425581</td>\n",
              "      <td>-0.527763</td>\n",
              "      <td>-2.599719</td>\n",
              "      <td>1.636130</td>\n",
              "      <td>-3.642958</td>\n",
              "      <td>-0.573799</td>\n",
              "      <td>0.028338</td>\n",
              "      <td>0.021084</td>\n",
              "      <td>0.252722</td>\n",
              "      <td>0.024061</td>\n",
              "      <td>0</td>\n",
              "    </tr>\n",
              "    <tr>\n",
              "      <th>4</th>\n",
              "      <td>-0.753574</td>\n",
              "      <td>-0.399878</td>\n",
              "      <td>-2.846811</td>\n",
              "      <td>1.319597</td>\n",
              "      <td>-3.732505</td>\n",
              "      <td>-0.392911</td>\n",
              "      <td>-0.233760</td>\n",
              "      <td>-0.035505</td>\n",
              "      <td>-0.110201</td>\n",
              "      <td>-0.040684</td>\n",
              "      <td>0</td>\n",
              "    </tr>\n",
              "  </tbody>\n",
              "</table>\n",
              "</div>"
            ],
            "text/plain": [
              "        PC1       PC2       PC3  ...       PC9      PC10  binary.target2\n",
              "0 -0.716278 -0.393039 -2.913790  ... -0.069804 -0.061819               0\n",
              "1 -0.789522 -0.274918 -2.898631  ... -0.023589 -0.063855               0\n",
              "2 -1.025355  0.038490 -2.940580  ...  0.043473 -0.098650               0\n",
              "3 -0.425581 -0.527763 -2.599719  ...  0.252722  0.024061               0\n",
              "4 -0.753574 -0.399878 -2.846811  ... -0.110201 -0.040684               0\n",
              "\n",
              "[5 rows x 11 columns]"
            ]
          },
          "metadata": {
            "tags": []
          },
          "execution_count": 18
        }
      ]
    },
    {
      "cell_type": "markdown",
      "metadata": {
        "id": "u_3gsC9L29lL"
      },
      "source": [
        "Repeat the same standardization steps for <b>validation</b> and <b>test</b> data for evaluating the final model. \n",
        "***\n",
        "### When standardizing the validation data:\n",
        "- use mean and standard deviation of <b>training</b> data to standardize validation data\n",
        "- use loadings from training data to reduce validation data\n",
        "***\n",
        "### When standardizing the test data:\n",
        "- combine the training and validation data first\n",
        "- use mean and standard deviation of <b>training + validation</b> to standardize test data\n",
        "- use loadings from training+validation to reduce test data"
      ]
    },
    {
      "cell_type": "code",
      "metadata": {
        "colab": {
          "base_uri": "https://localhost:8080/",
          "height": 195
        },
        "id": "SDLBenGS4EOs",
        "outputId": "acafef93-26df-464f-9eec-0306bc2d25ed"
      },
      "source": [
        "# standardize validation data using training mean and std\n",
        "valid_norm = (valid_imp_features - train_imp_features.mean(axis=0))/train_imp_features.std(axis=0)\n",
        "v_scale = np.array(valid_norm)\n",
        "\n",
        "# get 10 PCs using training loadings\n",
        "reduced_valid = pd.DataFrame(np.matmul(v_scale, reduced_loadings), columns=reduced_comps)\n",
        "reduced_valid.head()\n",
        "\n",
        "# Add target back to reduced data\n",
        "reduced_valid = pd.concat([reduced_valid, valid_df['binary.target2']], axis=1)\n",
        "reduced_valid.head()"
      ],
      "execution_count": 19,
      "outputs": [
        {
          "output_type": "execute_result",
          "data": {
            "text/html": [
              "<div>\n",
              "<style scoped>\n",
              "    .dataframe tbody tr th:only-of-type {\n",
              "        vertical-align: middle;\n",
              "    }\n",
              "\n",
              "    .dataframe tbody tr th {\n",
              "        vertical-align: top;\n",
              "    }\n",
              "\n",
              "    .dataframe thead th {\n",
              "        text-align: right;\n",
              "    }\n",
              "</style>\n",
              "<table border=\"1\" class=\"dataframe\">\n",
              "  <thead>\n",
              "    <tr style=\"text-align: right;\">\n",
              "      <th></th>\n",
              "      <th>PC1</th>\n",
              "      <th>PC2</th>\n",
              "      <th>PC3</th>\n",
              "      <th>PC4</th>\n",
              "      <th>PC5</th>\n",
              "      <th>PC6</th>\n",
              "      <th>PC7</th>\n",
              "      <th>PC8</th>\n",
              "      <th>PC9</th>\n",
              "      <th>PC10</th>\n",
              "      <th>binary.target2</th>\n",
              "    </tr>\n",
              "  </thead>\n",
              "  <tbody>\n",
              "    <tr>\n",
              "      <th>0</th>\n",
              "      <td>1.396509</td>\n",
              "      <td>8.281447</td>\n",
              "      <td>0.582650</td>\n",
              "      <td>0.352779</td>\n",
              "      <td>-0.222796</td>\n",
              "      <td>2.235231</td>\n",
              "      <td>-0.524421</td>\n",
              "      <td>-0.352510</td>\n",
              "      <td>3.179579</td>\n",
              "      <td>-1.291898</td>\n",
              "      <td>0</td>\n",
              "    </tr>\n",
              "    <tr>\n",
              "      <th>1</th>\n",
              "      <td>1.081053</td>\n",
              "      <td>8.176930</td>\n",
              "      <td>0.152219</td>\n",
              "      <td>-0.295048</td>\n",
              "      <td>-0.053104</td>\n",
              "      <td>2.352540</td>\n",
              "      <td>-0.612619</td>\n",
              "      <td>-0.374098</td>\n",
              "      <td>2.327908</td>\n",
              "      <td>-1.414974</td>\n",
              "      <td>0</td>\n",
              "    </tr>\n",
              "    <tr>\n",
              "      <th>2</th>\n",
              "      <td>1.052361</td>\n",
              "      <td>8.314099</td>\n",
              "      <td>0.282191</td>\n",
              "      <td>-0.071456</td>\n",
              "      <td>-0.169048</td>\n",
              "      <td>2.315915</td>\n",
              "      <td>-0.699884</td>\n",
              "      <td>-0.407470</td>\n",
              "      <td>2.539604</td>\n",
              "      <td>-1.397683</td>\n",
              "      <td>0</td>\n",
              "    </tr>\n",
              "    <tr>\n",
              "      <th>3</th>\n",
              "      <td>0.804089</td>\n",
              "      <td>8.772561</td>\n",
              "      <td>0.423639</td>\n",
              "      <td>0.276083</td>\n",
              "      <td>-0.460146</td>\n",
              "      <td>2.331705</td>\n",
              "      <td>-1.027382</td>\n",
              "      <td>-0.523814</td>\n",
              "      <td>2.920146</td>\n",
              "      <td>-1.397791</td>\n",
              "      <td>1</td>\n",
              "    </tr>\n",
              "    <tr>\n",
              "      <th>4</th>\n",
              "      <td>1.866121</td>\n",
              "      <td>7.766250</td>\n",
              "      <td>0.912464</td>\n",
              "      <td>0.562314</td>\n",
              "      <td>0.192686</td>\n",
              "      <td>1.666412</td>\n",
              "      <td>0.250090</td>\n",
              "      <td>-0.469595</td>\n",
              "      <td>3.340303</td>\n",
              "      <td>-1.217643</td>\n",
              "      <td>0</td>\n",
              "    </tr>\n",
              "  </tbody>\n",
              "</table>\n",
              "</div>"
            ],
            "text/plain": [
              "        PC1       PC2       PC3  ...       PC9      PC10  binary.target2\n",
              "0  1.396509  8.281447  0.582650  ...  3.179579 -1.291898               0\n",
              "1  1.081053  8.176930  0.152219  ...  2.327908 -1.414974               0\n",
              "2  1.052361  8.314099  0.282191  ...  2.539604 -1.397683               0\n",
              "3  0.804089  8.772561  0.423639  ...  2.920146 -1.397791               1\n",
              "4  1.866121  7.766250  0.912464  ...  3.340303 -1.217643               0\n",
              "\n",
              "[5 rows x 11 columns]"
            ]
          },
          "metadata": {
            "tags": []
          },
          "execution_count": 19
        }
      ]
    },
    {
      "cell_type": "code",
      "metadata": {
        "id": "grZCfujT4IgR"
      },
      "source": [
        "# Combine training and validation data into a single df (then convert to array)\n",
        "train_valid = pd.concat([train_imp_features, valid_imp_features], axis=0)\n",
        "train_valid_features = np.array(train_valid)\n",
        "\n",
        "# scale to standardize training+validation data\n",
        "ss = StandardScaler()\n",
        "ss.fit(train_valid_features)\n",
        "train_valid_norm = pd.DataFrame(ss.transform(train_valid_features), columns=feature_list)\n",
        "\n",
        "# Reduce training+validation data dimension to 10 PCs\n",
        "reduced_pca = PCA(n_components=10)\n",
        "reduced_train_valid = reduced_pca.fit_transform(train_valid_norm)\n",
        "reduced_train_valid = pd.DataFrame(reduced_train_valid, columns=reduced_comps)\n",
        "train_valid_loadings = reduced_pca.components_.T\n",
        "\n",
        "# Add target back to reduced data\n",
        "y_train_valid = pd.concat([train_df, valid_df], axis=0)['binary.target2'].reset_index(drop=True)\n",
        "reduced_train_valid = pd.concat([reduced_train_valid, y_train_valid], axis=1)\n",
        "\n",
        "# standardize test data using training+validation mean and std\n",
        "test_norm = (test_imp_features-train_valid_features.mean(axis=0))/train_valid_features.std(axis=0, dtype=np.float64)\n",
        "test_scale = np.array(test_norm)\n",
        "\n",
        "# get 10 PCs using training+validation loadings\n",
        "reduced_test = pd.DataFrame(np.matmul(test_scale, train_valid_loadings), columns=reduced_comps)"
      ],
      "execution_count": 20,
      "outputs": []
    },
    {
      "cell_type": "markdown",
      "metadata": {
        "id": "u4A03-xJ4Nzq"
      },
      "source": [
        "Separate out inputs (attributes) and outputs (targets) for the new reduced data."
      ]
    },
    {
      "cell_type": "code",
      "metadata": {
        "id": "keCIfo5U4SQh"
      },
      "source": [
        "# Get inputs and outputs as separate dfs on training data\n",
        "X_train = reduced_train.drop(['binary.target2'], axis=1)\n",
        "y_train = reduced_train['binary.target2']\n",
        "\n",
        "# Repeat for validation data\n",
        "X_valid = reduced_valid.drop(['binary.target2'], axis=1)\n",
        "y_valid = reduced_valid['binary.target2']\n",
        "\n",
        "# Convert input and output dfs to arrays for sklearn\n",
        "train_features = np.array(X_train)\n",
        "y_train = np.ravel(np.array(y_train))\n",
        "\n",
        "# Repeat for validation data\n",
        "valid_features = np.array(X_valid)\n",
        "y_valid = np.ravel(np.array(y_valid))\n",
        "\n",
        "# Save feature names for later use\n",
        "feature_list = list(X_train.columns)"
      ],
      "execution_count": 21,
      "outputs": []
    },
    {
      "cell_type": "markdown",
      "metadata": {
        "id": "f1LPGXFhcEf8"
      },
      "source": [
        "AUC will be used as the main evaluation metric since our target is binary and AUC is good for binary classification problems."
      ]
    },
    {
      "cell_type": "code",
      "metadata": {
        "id": "GzegHYZ8b-Kc"
      },
      "source": [
        "# Evaluate function to see model results\n",
        "def evaluate(model, test_features, test_labels):\n",
        "  predictions = model.predict(test_features)\n",
        "  accuracy = accuracy_score(test_labels, predictions)*100\n",
        "  FPR, TPR, thresholds = roc_curve(test_labels, predictions)\n",
        "  roc_auc = auc(FPR, TPR)\n",
        "  print('Model Performance')\n",
        "  print('AUC: ', roc_auc)\n",
        "  print('Accuracy = {:0.2f}%.'.format(accuracy))"
      ],
      "execution_count": 22,
      "outputs": []
    },
    {
      "cell_type": "markdown",
      "metadata": {
        "id": "rhjyY4j1EVmE"
      },
      "source": [
        "Perform logistic regression to see how much better (or worse) RF can do."
      ]
    },
    {
      "cell_type": "code",
      "metadata": {
        "id": "76sOQpOoEVTs",
        "colab": {
          "base_uri": "https://localhost:8080/"
        },
        "outputId": "c292b935-2949-494b-8ee6-3c61c2a03088"
      },
      "source": [
        "# Logistic Regression\n",
        "from sklearn.linear_model import LogisticRegression\n",
        "\n",
        "logreg = LogisticRegression()\n",
        "logreg.fit(X_train, y_train)\n",
        "\n",
        "evaluate(logreg, X_valid, y_valid)"
      ],
      "execution_count": 23,
      "outputs": [
        {
          "output_type": "stream",
          "text": [
            "Model Performance\n",
            "AUC:  0.6462602336843495\n",
            "Accuracy = 83.23%.\n"
          ],
          "name": "stdout"
        }
      ]
    },
    {
      "cell_type": "markdown",
      "metadata": {
        "id": "4Le3ts219lyG"
      },
      "source": [
        "Random Forest with Default Parameters as Base Model"
      ]
    },
    {
      "cell_type": "code",
      "metadata": {
        "colab": {
          "base_uri": "https://localhost:8080/"
        },
        "id": "I83mOgl-9lZS",
        "outputId": "6049731e-b418-4073-9860-82819228f4ad"
      },
      "source": [
        "# Fit RF with default parameters to get baseline idea of model performance\n",
        "clf_base = RandomForestClassifier(random_state=45)\n",
        "clf_base.fit(X_train, y_train)\n",
        "\n",
        "evaluate(clf_base, X_valid, y_valid)"
      ],
      "execution_count": 24,
      "outputs": [
        {
          "output_type": "stream",
          "text": [
            "Model Performance\n",
            "AUC:  0.6214151871650059\n",
            "Accuracy = 81.64%.\n"
          ],
          "name": "stdout"
        }
      ]
    },
    {
      "cell_type": "markdown",
      "metadata": {
        "id": "WwNRRNZYRrgG"
      },
      "source": [
        "Examine Default Parameters in Random Forest for Tuning"
      ]
    },
    {
      "cell_type": "code",
      "metadata": {
        "id": "76Zq8QbdJ3Q9",
        "colab": {
          "base_uri": "https://localhost:8080/"
        },
        "outputId": "482cc54d-4f1a-4c12-b744-97c36d77b32e"
      },
      "source": [
        "from pprint import pprint\n",
        "\n",
        "# Look at parameters used by our current forest\n",
        "print('Parameters currently in use:\\n')\n",
        "pprint(clf.get_params())"
      ],
      "execution_count": 30,
      "outputs": [
        {
          "output_type": "stream",
          "text": [
            "Parameters currently in use:\n",
            "\n",
            "{'bootstrap': True,\n",
            " 'ccp_alpha': 0.0,\n",
            " 'class_weight': None,\n",
            " 'criterion': 'gini',\n",
            " 'max_depth': None,\n",
            " 'max_features': 'auto',\n",
            " 'max_leaf_nodes': None,\n",
            " 'max_samples': 10000,\n",
            " 'min_impurity_decrease': 0.0,\n",
            " 'min_impurity_split': None,\n",
            " 'min_samples_leaf': 1,\n",
            " 'min_samples_split': 2,\n",
            " 'min_weight_fraction_leaf': 0.0,\n",
            " 'n_estimators': 100,\n",
            " 'n_jobs': None,\n",
            " 'oob_score': False,\n",
            " 'random_state': 45,\n",
            " 'verbose': 0,\n",
            " 'warm_start': False}\n"
          ],
          "name": "stdout"
        }
      ]
    },
    {
      "cell_type": "markdown",
      "metadata": {
        "id": "zkcdZiqkqGNw"
      },
      "source": [
        "# Hyperparameter Tuning\n",
        "\n",
        "Multiple Methods:\n",
        "1. Convergence Plots\n",
        "2. Random Grid Search\n",
        "3. Grid Search\n",
        "\n",
        "<u>Important parameters for RF</u>\n",
        "- `n_estimators`\n",
        "  - using 2000+ trees can get computationally expensive\n",
        "  - start with 4, 8, 16, 256, 512 trees and observe metrics \n",
        "- `max_features` (mtry)\n",
        "  - max number of features per tree\n",
        "- `max_depth`\n",
        "  - how many levels deep per tree\n",
        "- `min_samples_split`\n",
        "  - min number of obs required in node to split it\n",
        "  - increasing this leads to less splits and can prevent overfitting data\n",
        "- `min_samples_leaf`\n",
        "  - min number of samples required to be present in node after splitting"
      ]
    },
    {
      "cell_type": "markdown",
      "metadata": {
        "id": "Zg_C9HApwtZq"
      },
      "source": [
        "Convergence plot for <b>n_estimators</b>"
      ]
    },
    {
      "cell_type": "code",
      "metadata": {
        "colab": {
          "base_uri": "https://localhost:8080/",
          "height": 304
        },
        "id": "Dkdb1sO_qRx0",
        "outputId": "01cae17d-5553-401f-ae73-cfc24f4376fe"
      },
      "source": [
        "# Potential candidates for n_estimators\n",
        "n_estimators = [1, 2, 4, 8, 16, 32, 64, 100, 200]\n",
        "\n",
        "\n",
        "# Lists to store AUC scores from training and validation sets\n",
        "train_results = []\n",
        "valid_results = []\n",
        "\n",
        "\n",
        "# Iterate over each candidate for n_estimators\n",
        "for n in n_estimators:\n",
        "\n",
        "  # Fit model on training data\n",
        "  clf = RandomForestClassifier(n_estimators=n, n_jobs=-1)\n",
        "  clf.fit(X_train, y_train)\n",
        "\n",
        "  # Get training predictions\n",
        "  train_pred = clf.predict(X_train)\n",
        "\n",
        "  # Compute AUC from training and store in train_results\n",
        "  FPR, TPR, thresholds = roc_curve(y_train, train_pred)\n",
        "  roc_auc = auc(FPR, TPR)\n",
        "  train_results.append(roc_auc)\n",
        "\n",
        "  # Get validation predictions\n",
        "  y_pred = clf.predict(X_valid)\n",
        "\n",
        "  # Compute AUC from validation and store in valid results\n",
        "  FPR, TPR, thresholds = roc_curve(y_valid, y_pred)\n",
        "  roc_auc = auc(FPR, TPR)\n",
        "  valid_results.append(roc_auc)\n",
        "\n",
        "\n",
        "# Convergence plot\n",
        "line1, = plt.plot(n_estimators, train_results, 'b', label = 'Train AUC')\n",
        "line2, = plt.plot(n_estimators, valid_results, 'r', label = 'Valid AUC')\n",
        "plt.legend(handler_map={line1: HandlerLine2D(numpoints=2)})\n",
        "plt.ylabel('AUC score')\n",
        "plt.xlabel('n_estimators')\n",
        "plt.show()"
      ],
      "execution_count": null,
      "outputs": [
        {
          "output_type": "display_data",
          "data": {
            "image/png": "[encoded data removed]",
            "text/plain": [
              "<Figure size 432x288 with 1 Axes>"
            ]
          },
          "metadata": {
            "tags": []
          }
        }
      ]
    },
    {
      "cell_type": "markdown",
      "metadata": {
        "id": "Sgl8qgKGusoJ"
      },
      "source": [
        "From the plot above, we can stop at 70 trees as increasing the number of trees does not seem to be increasing validation performance much further."
      ]
    },
    {
      "cell_type": "markdown",
      "metadata": {
        "id": "yxznXyofxkQx"
      },
      "source": [
        "Convergence plot for <b>max_depth</b>"
      ]
    },
    {
      "cell_type": "code",
      "metadata": {
        "colab": {
          "base_uri": "https://localhost:8080/",
          "height": 304
        },
        "id": "J5Xz7yg5tzD9",
        "outputId": "88024b01-e420-4370-a372-0a7614da1896"
      },
      "source": [
        "# Potential candidates for max_depth\n",
        "max_depths = np.linspace(1, 32, 32, endpoint=True)\n",
        "\n",
        "\n",
        "# Lists to store AUC scores from training and validation sets\n",
        "train_results = []\n",
        "valid_results = []\n",
        "\n",
        "\n",
        "# Iterate over each candidate for n_estimators\n",
        "for md in max_depths:\n",
        "\n",
        "  # Fit model on training data\n",
        "  clf = RandomForestClassifier(max_depth=md, n_jobs=-1)\n",
        "  clf.fit(X_train, y_train)\n",
        "\n",
        "  # Get training predictions\n",
        "  train_pred = clf.predict(X_train)\n",
        "\n",
        "  # Compute AUC from training and store in train_results\n",
        "  FPR, TPR, thresholds = roc_curve(y_train, train_pred)\n",
        "  roc_auc = auc(FPR, TPR)\n",
        "  train_results.append(roc_auc)\n",
        "\n",
        "  # Get validation predictions\n",
        "  y_pred = clf.predict(X_valid)\n",
        "\n",
        "  # Compute AUC from validation and store in valid_results\n",
        "  FPR, TPR, thresholds = roc_curve(y_valid, y_pred)\n",
        "  roc_auc = auc(FPR, TPR)\n",
        "  valid_results.append(roc_auc)\n",
        "\n",
        "# Convergence plot\n",
        "line1, = plt.plot(max_depths, train_results, 'b', label='Train AUC')\n",
        "line2, = plt.plot(max_depths, valid_results, 'r', label='Valid AUC')\n",
        "plt.legend(handler_map={line1: HandlerLine2D(numpoints=2)})\n",
        "plt.ylabel('AUC score')\n",
        "plt.xlabel('Tree depth')\n",
        "plt.show()"
      ],
      "execution_count": null,
      "outputs": [
        {
          "output_type": "display_data",
          "data": {
            "image/png": "[encoded data removed]",
            "text/plain": [
              "<Figure size 432x288 with 1 Axes>"
            ]
          },
          "metadata": {
            "tags": []
          }
        }
      ]
    },
    {
      "cell_type": "markdown",
      "metadata": {
        "id": "Gwa26jLtHdH5"
      },
      "source": [
        "The plot above shows how the model overfits for large depth values but reaches a plateau in predicting the validation data around max_depth=10."
      ]
    },
    {
      "cell_type": "markdown",
      "metadata": {
        "id": "edwT121_xsls"
      },
      "source": [
        "Convergence plot for <b>min_samples_split</b>"
      ]
    },
    {
      "cell_type": "code",
      "metadata": {
        "colab": {
          "base_uri": "https://localhost:8080/",
          "height": 304
        },
        "id": "vJt-liPGsVdW",
        "outputId": "c133398e-6f05-4313-dfe9-909275b4b14a"
      },
      "source": [
        "# Potential candidates for min_samples_split\n",
        "min_samples_splits = [5, 10, 15, 20, 25]\n",
        "\n",
        "\n",
        "# Lists to store AUC scores from training and validation sets\n",
        "train_results = []\n",
        "valid_results = []\n",
        "\n",
        "\n",
        "# Iterate over each candidate for min_samples_split\n",
        "for mss in min_samples_splits:\n",
        "\n",
        "  # Fit model on training data\n",
        "  clf = RandomForestClassifier(min_samples_split=mss)\n",
        "  clf.fit(X_train, y_train)\n",
        "\n",
        "  # Get training predictions\n",
        "  train_pred = clf.predict(X_train)\n",
        "\n",
        "  # Compute AUC from training and store in train_results\n",
        "  FPR, TPR, thresholds = roc_curve(y_train, train_pred)\n",
        "  roc_auc = auc(FPR, TPR)\n",
        "  train_results.append(roc_auc)\n",
        "\n",
        "  # Get validation predictions\n",
        "  y_pred = clf.predict(X_valid)\n",
        "\n",
        "  # Compute AUC from validation and store in valid_results\n",
        "  FPR, TPR, thresholds = roc_curve(y_valid, y_pred)\n",
        "  roc_auc = auc(FPR, TPR)\n",
        "  valid_results.append(roc_auc)\n",
        "\n",
        "\n",
        "# Convergence plot\n",
        "line1, = plt.plot(min_samples_splits, train_results, 'b', label='Train AUC')\n",
        "line2, = plt.plot(min_samples_splits, valid_results, 'r', label='Valid AUC')\n",
        "plt.legend(handler_map={line1: HandlerLine2D(numpoints=2)})\n",
        "plt.ylabel('AUC score')\n",
        "plt.xlabel('min samples split')\n",
        "plt.show()"
      ],
      "execution_count": null,
      "outputs": [
        {
          "output_type": "display_data",
          "data": {
            "image/png": "[encoded data removed]",
            "text/plain": [
              "<Figure size 432x288 with 1 Axes>"
            ]
          },
          "metadata": {
            "tags": []
          }
        }
      ]
    },
    {
      "cell_type": "markdown",
      "metadata": {
        "id": "Lpw9-sRozilb"
      },
      "source": [
        "Convergence plot for <b>min_samples_leaf</b>"
      ]
    },
    {
      "cell_type": "code",
      "metadata": {
        "colab": {
          "base_uri": "https://localhost:8080/",
          "height": 308
        },
        "id": "C6TmpOLrzpox",
        "outputId": "d115aa95-0163-411f-dd78-b312eae83b07"
      },
      "source": [
        "# Potential candidates for min_samples_leaf\n",
        "min_samples_leafs = [2, 4, 6, 8, 10]\n",
        "\n",
        "\n",
        "\n",
        "# Lists to store AUC scores from training and validation sets\n",
        "train_results = []\n",
        "valid_results = []\n",
        "\n",
        "\n",
        "# Iterate over each candidate for min_samples_split\n",
        "for msl in min_samples_leafs:\n",
        "\n",
        "  # Fit model on training data\n",
        "  clf = RandomForestClassifier(min_samples_leaf=msl)\n",
        "  clf.fit(X_train, y_train)\n",
        "\n",
        "  # Get training predictions\n",
        "  train_pred = clf.predict(X_train)\n",
        "\n",
        "  # Compute AUC from training and store in train_results\n",
        "  FPR, TPR, thresholds = roc_curve(y_train, train_pred)\n",
        "  roc_auc = auc(FPR, TPR)\n",
        "  train_results.append(roc_auc)\n",
        "\n",
        "  # Get validation predictions\n",
        "  y_pred = clf.predict(X_valid)\n",
        "\n",
        "  # Compute AUC from validation and store in valid_results\n",
        "  FPR, TPR, thresholds = roc_curve(y_valid, y_pred)\n",
        "  roc_auc = auc(FPR, TPR)\n",
        "  valid_results.append(roc_auc)\n",
        "\n",
        "\n",
        "# Convergence plot\n",
        "line1, = plt.plot(min_samples_leafs, train_results, 'b', label='Train AUC')\n",
        "line2, = plt.plot(min_samples_leafs, valid_results, 'r', label='Valid AUC')\n",
        "plt.legend(handler_map={line1: HandlerLine2D(numpoints=2)})\n",
        "plt.ylabel('AUC score')\n",
        "plt.xlabel('min samples leaf')\n",
        "plt.show()"
      ],
      "execution_count": null,
      "outputs": [
        {
          "output_type": "display_data",
          "data": {
            "image/png": "[encoded data removed]",
            "text/plain": [
              "<Figure size 432x288 with 1 Axes>"
            ]
          },
          "metadata": {
            "tags": []
          }
        }
      ]
    },
    {
      "cell_type": "markdown",
      "metadata": {
        "id": "03zNNi9kzsz5"
      },
      "source": [
        "Convergence plot for <b>max_features</b>"
      ]
    },
    {
      "cell_type": "code",
      "metadata": {
        "colab": {
          "base_uri": "https://localhost:8080/",
          "height": 304
        },
        "id": "9I9zmB2_zxIu",
        "outputId": "a4652125-c58b-4b8b-be4f-f090b921445d"
      },
      "source": [
        "# Potential candidates for max_features\n",
        "max_features = list(range(1, X_train.shape[1]))\n",
        "\n",
        "\n",
        "# Lists to store AUC scores from training and validation sets\n",
        "train_results = []\n",
        "valid_results = []\n",
        "\n",
        "\n",
        "# Iterate over each candidate for max_features\n",
        "for mf in max_features:\n",
        "\n",
        "  # Fit model on training data\n",
        "  clf = RandomForestClassifier(max_features=mf)\n",
        "  clf.fit(X_train, y_train)\n",
        "\n",
        "  # Get training predictions\n",
        "  train_pred = clf.predict(X_train)\n",
        "\n",
        "  # Compute AUC from training and store in train_results\n",
        "  FPR, TPR, thresholds = roc_curve(y_train, train_pred)\n",
        "  roc_auc = auc(FPR, TPR)\n",
        "  train_results.append(roc_auc)\n",
        "\n",
        "  # Get validation predictions\n",
        "  y_pred = clf.predict(X_valid)\n",
        "\n",
        "  # Compute AUC from validation and store in valid_results\n",
        "  FPR, TPR, thresholds = roc_curve(y_valid, y_pred)\n",
        "  roc_auc = auc(FPR, TPR)\n",
        "  valid_results.append(roc_auc)\n",
        "\n",
        "\n",
        "# Convergence plot\n",
        "line1, = plt.plot(max_features, train_results, 'b', label='Train AUC')\n",
        "line2, = plt.plot(max_features, valid_results, 'r', label='Valid AUC')\n",
        "plt.legend(handler_map={line1: HandlerLine2D(numpoints=2)})\n",
        "plt.ylabel('AUC score')\n",
        "plt.xlabel('max features')\n",
        "plt.show()"
      ],
      "execution_count": null,
      "outputs": [
        {
          "output_type": "display_data",
          "data": {
            "image/png": "[encoded data removed]",
            "text/plain": [
              "<Figure size 432x288 with 1 Axes>"
            ]
          },
          "metadata": {
            "tags": []
          }
        }
      ]
    },
    {
      "cell_type": "markdown",
      "metadata": {
        "id": "Y2LLAYGYVWNj"
      },
      "source": [
        "This is an overfitting case. The AUC does not seem to change much regardless of the number of max features used."
      ]
    },
    {
      "cell_type": "markdown",
      "metadata": {
        "id": "xRI-6c35Cs_1"
      },
      "source": [
        "Convergence plot for <b>criterion</b>"
      ]
    },
    {
      "cell_type": "code",
      "metadata": {
        "colab": {
          "base_uri": "https://localhost:8080/",
          "height": 342
        },
        "id": "tRw9vZx_8Unc",
        "outputId": "f1030620-828c-4836-baa0-70886c3a2de7"
      },
      "source": [
        "import warnings\n",
        "warnings.filterwarnings('ignore')\n",
        "\n",
        "# criterion candidates\n",
        "crit = np.array(['gini', 'entropy'])\n",
        "\n",
        "# create dict to store RFs\n",
        "ensemble_clfs = {}\n",
        "\n",
        "# iterate over potential max_depth values and keeping other parameters constant\n",
        "for i in range(len(crit)):\n",
        "  ensemble_clfs['crit {}'.format(crit[i])] = RandomForestClassifier(warm_start=True, \n",
        "                                                            oob_score=True, \n",
        "                                                            max_depth=md[0],\n",
        "                                                            max_features=mf[0],\n",
        "                                                            criterion=crit[i], \n",
        "                                                            random_state=45)\n",
        "\n",
        "# Create list to be columns in the convergence df\n",
        "iter =[]\n",
        "crit_values = []\n",
        "errors = []\n",
        "\n",
        "for label, clf in ensemble_clfs.items():\n",
        "  for n_estimator in range(1, 101):\n",
        "    clf.set_params(n_estimators=n_estimator)\n",
        "    clf.fit(X_train, y_train)\n",
        "    \n",
        "    # Add error and predictions to conv dict\n",
        "    iter.append(n_estimator)\n",
        "    crit_values.append(label)\n",
        "    errors.append(1 - clf.oob_score_)\n",
        "    # print(f'iter = {n_estimator}, {label}') # tracking loop\n",
        "\n",
        "conv_crit = pd.DataFrame(list(zip(iter, crit_values, errors)), columns=['iter', 'criterion', 'error'])\n",
        "\n",
        "sns.lineplot(x='iter', y='error', hue='criterion', data=conv_crit)\n",
        "plt.title('Convergence on Training for Each Criterion')\n",
        "plt.ylabel('OOB Error')\n",
        "plt.xlabel('Iter')\n",
        "plt.legend(bbox_to_anchor=(1.05,1), loc='upper left')"
      ],
      "execution_count": null,
      "outputs": [
        {
          "output_type": "execute_result",
          "data": {
            "text/plain": [
              "<matplotlib.legend.Legend at 0x7f9b73d41ba8>"
            ]
          },
          "metadata": {
            "tags": []
          },
          "execution_count": 62
        },
        {
          "output_type": "display_data",
          "data": {
            "image/png": "[encoded data removed]",
            "text/plain": [
              "<Figure size 432x288 with 1 Axes>"
            ]
          },
          "metadata": {
            "tags": []
          }
        }
      ]
    },
    {
      "cell_type": "code",
      "metadata": {
        "colab": {
          "base_uri": "https://localhost:8080/"
        },
        "id": "ZWumNGy1E5ki",
        "outputId": "a5c2a05b-82ed-4b96-c57e-423c5c75d19f"
      },
      "source": [
        "# RF model using best parameters from convergence plots\n",
        "clf_plots = RandomForestClassifier(n_estimators=70,\n",
        "                             max_depth=10,\n",
        "                             min_samples_split=20,\n",
        "                             min_samples_leaf=8,\n",
        "                             max_features=5,\n",
        "                             criterion='gini',\n",
        "                             random_state=45,\n",
        "                             n_jobs=-1)\n",
        "\n",
        "# Fit model to training data\n",
        "clf_plots.fit(X_train, y_train)\n",
        "\n",
        "# Model results\n",
        "evaluate(clf_plots, X_valid, y_valid)"
      ],
      "execution_count": 25,
      "outputs": [
        {
          "output_type": "stream",
          "text": [
            "Model Performance\n",
            "AUC:  0.6290497601205451\n",
            "Accuracy = 83.01%.\n"
          ],
          "name": "stdout"
        }
      ]
    },
    {
      "cell_type": "markdown",
      "metadata": {
        "id": "u_sXzFJWRGQG"
      },
      "source": [
        "To reduced time spent on grid search, you can set `bootstrap=True` and change `max_samples` (proportion of original data given per tree)\n",
        "\n",
        "<u>General rule of thumb</u> \n",
        "1. Start with 10k observations and time the procedure\n",
        "2. Double that to 20k (or halve it if it took too long)\n",
        "3. Get 1-2 more data points (30k, 40k observations)\n",
        "4. See time it took vs. number of observations plot"
      ]
    },
    {
      "cell_type": "markdown",
      "metadata": {
        "id": "DUepHSY3yTYw"
      },
      "source": [
        "## Grid Search\n",
        "\n",
        "Perform grid search on a range of hyperparameters around the best values returned by random search."
      ]
    },
    {
      "cell_type": "code",
      "metadata": {
        "id": "peiaKnX2yU2X"
      },
      "source": [
        "# Create the parameter grid based on the results of random search \n",
        "param_grid = {\n",
        "    'bootstrap': [True],\n",
        "    'max_depth': [80, 90, 100, 110],\n",
        "    'max_features': [2, 3],\n",
        "    'min_samples_leaf': [3, 4, 5],\n",
        "    'min_samples_split': [8, 10, 12],\n",
        "    'n_estimators': [100, 200, 300, 1000]\n",
        "}\n",
        "\n",
        "# Create a based model\n",
        "clf = RandomForestClassifier(random_state=45, max_samples=10000)\n",
        "\n",
        "# Instantiate the grid search model\n",
        "grid_search = GridSearchCV(estimator = clf, param_grid = param_grid, \n",
        "                           scoring = 'neg_mean_absolute_error', cv = 3, \n",
        "                           n_jobs = -1, verbose = 2)"
      ],
      "execution_count": 27,
      "outputs": []
    },
    {
      "cell_type": "code",
      "metadata": {
        "id": "ruZygGcHy4-2",
        "colab": {
          "base_uri": "https://localhost:8080/"
        },
        "outputId": "7f58db70-580a-453e-abbf-0137c91caffc"
      },
      "source": [
        "%%time\n",
        "# Fit the grid search to the data (5h 15min 16s for 10k obs)\n",
        "grid_search.fit(X_train, y_train)"
      ],
      "execution_count": null,
      "outputs": [
        {
          "output_type": "stream",
          "text": [
            "Fitting 3 folds for each of 288 candidates, totalling 864 fits\n"
          ],
          "name": "stdout"
        },
        {
          "output_type": "stream",
          "text": [
            "[Parallel(n_jobs=-1)]: Using backend LokyBackend with 2 concurrent workers.\n",
            "[Parallel(n_jobs=-1)]: Done  37 tasks      | elapsed: 11.9min\n",
            "[Parallel(n_jobs=-1)]: Done 158 tasks      | elapsed: 55.0min\n",
            "[Parallel(n_jobs=-1)]: Done 361 tasks      | elapsed: 128.6min\n",
            "[Parallel(n_jobs=-1)]: Done 644 tasks      | elapsed: 233.5min\n",
            "[Parallel(n_jobs=-1)]: Done 864 out of 864 | elapsed: 315.1min finished\n"
          ],
          "name": "stderr"
        },
        {
          "output_type": "stream",
          "text": [
            "CPU times: user 18.9 s, sys: 786 ms, total: 19.7 s\n",
            "Wall time: 5h 15min 16s\n"
          ],
          "name": "stdout"
        },
        {
          "output_type": "execute_result",
          "data": {
            "text/plain": [
              "GridSearchCV(cv=3, error_score=nan,\n",
              "             estimator=RandomForestClassifier(bootstrap=True, ccp_alpha=0.0,\n",
              "                                              class_weight=None,\n",
              "                                              criterion='gini', max_depth=None,\n",
              "                                              max_features='auto',\n",
              "                                              max_leaf_nodes=None,\n",
              "                                              max_samples=10000,\n",
              "                                              min_impurity_decrease=0.0,\n",
              "                                              min_impurity_split=None,\n",
              "                                              min_samples_leaf=1,\n",
              "                                              min_samples_split=2,\n",
              "                                              min_weight_fraction_leaf=0.0,\n",
              "                                              n_estimators=100, n_jobs=None,\n",
              "                                              oob_score=False, random_state=45,\n",
              "                                              verbose=0, warm_start=False),\n",
              "             iid='deprecated', n_jobs=-1,\n",
              "             param_grid={'bootstrap': [True], 'max_depth': [80, 90, 100, 110],\n",
              "                         'max_features': [2, 3], 'min_samples_leaf': [3, 4, 5],\n",
              "                         'min_samples_split': [8, 10, 12],\n",
              "                         'n_estimators': [100, 200, 300, 1000]},\n",
              "             pre_dispatch='2*n_jobs', refit=True, return_train_score=False,\n",
              "             scoring='neg_mean_absolute_error', verbose=2)"
            ]
          },
          "metadata": {
            "tags": []
          },
          "execution_count": 51
        }
      ]
    },
    {
      "cell_type": "code",
      "metadata": {
        "id": "RtdxFscqy9MI",
        "colab": {
          "base_uri": "https://localhost:8080/"
        },
        "outputId": "d1542cd6-756b-4d74-aa9b-38e1e4ce4c94"
      },
      "source": [
        "grid_search.best_params_"
      ],
      "execution_count": null,
      "outputs": [
        {
          "output_type": "execute_result",
          "data": {
            "text/plain": [
              "{'bootstrap': True,\n",
              " 'max_depth': 80,\n",
              " 'max_features': 2,\n",
              " 'min_samples_leaf': 5,\n",
              " 'min_samples_split': 12,\n",
              " 'n_estimators': 200}"
            ]
          },
          "metadata": {
            "tags": []
          },
          "execution_count": 52
        }
      ]
    },
    {
      "cell_type": "code",
      "metadata": {
        "id": "-FhQFQHAn2fg"
      },
      "source": [
        "best_grid = grid_search.best_estimator_"
      ],
      "execution_count": null,
      "outputs": []
    },
    {
      "cell_type": "markdown",
      "metadata": {
        "id": "P27HDoxVzShF"
      },
      "source": [
        "## Final Model\n",
        "\n",
        "The final model has the following hyperparameters:"
      ]
    },
    {
      "cell_type": "code",
      "metadata": {
        "id": "2ZPVBCiMzQvC",
        "colab": {
          "base_uri": "https://localhost:8080/"
        },
        "outputId": "fe5517b0-e542-40d3-e29b-fc7407cf27eb"
      },
      "source": [
        "print('Model Parameters:\\n')\n",
        "pprint(best_grid.get_params())\n",
        "print('\\n')\n",
        "# evaluate(best_grid, X_valid, y_valid)\n",
        "evaluate(clf, X_valid, y_valid)"
      ],
      "execution_count": 45,
      "outputs": [
        {
          "output_type": "stream",
          "text": [
            "Model Parameters:\n",
            "\n",
            "{'bootstrap': True,\n",
            " 'ccp_alpha': 0.0,\n",
            " 'class_weight': None,\n",
            " 'criterion': 'gini',\n",
            " 'max_depth': None,\n",
            " 'max_features': 'auto',\n",
            " 'max_leaf_nodes': None,\n",
            " 'max_samples': 10000,\n",
            " 'min_impurity_decrease': 0.0,\n",
            " 'min_impurity_split': None,\n",
            " 'min_samples_leaf': 1,\n",
            " 'min_samples_split': 2,\n",
            " 'min_weight_fraction_leaf': 0.0,\n",
            " 'n_estimators': 100,\n",
            " 'n_jobs': None,\n",
            " 'oob_score': False,\n",
            " 'random_state': 45,\n",
            " 'verbose': 0,\n",
            " 'warm_start': False}\n",
            "\n",
            "\n",
            "Model Performance\n",
            "AUC:  0.622591718918589\n",
            "Accuracy = 83.64%.\n"
          ],
          "name": "stdout"
        }
      ]
    }
  ]
}