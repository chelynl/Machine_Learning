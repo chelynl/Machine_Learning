{
  "nbformat": 4,
  "nbformat_minor": 0,
  "metadata": {
    "colab": {
      "name": "Pipeline-ColumnTransformer-FeatureUnion.ipynb",
      "provenance": [],
      "collapsed_sections": [],
      "authorship_tag": "ABX9TyN4XXzq0aH39Jmzx84dZOjj",
      "include_colab_link": true
    },
    "kernelspec": {
      "name": "python3",
      "display_name": "Python 3"
    },
    "language_info": {
      "name": "python"
    }
  },
  "cells": [
    {
      "cell_type": "markdown",
      "metadata": {
        "id": "view-in-github",
        "colab_type": "text"
      },
      "source": [
        "<a href=\"https://colab.research.google.com/github/chelynl/Machine_Learning/blob/main/Pipeline_ColumnTransformer_FeatureUnion.ipynb\" target=\"_parent\"><img src=\"https://colab.research.google.com/assets/colab-badge.svg\" alt=\"Open In Colab\"/></a>"
      ]
    },
    {
      "cell_type": "markdown",
      "metadata": {
        "id": "_r9oOMF7ruSe"
      },
      "source": [
        "# **Feature Engineering Tools in sklearn**\n",
        "\n",
        "Resource:<br>\n",
        "https://towardsdatascience.com/pipeline-columntransformer-and-featureunion-explained-f5491f815f"
      ]
    },
    {
      "cell_type": "code",
      "metadata": {
        "colab": {
          "base_uri": "https://localhost:8080/",
          "height": 204
        },
        "id": "4Oqb3tHHrgyP",
        "outputId": "a9e6d412-2487-4e2d-96e3-ea2cdd3311fa"
      },
      "source": [
        "# Set seed for reproducibility\n",
        "seed = 123\n",
        "\n",
        "# Import package/module for data\n",
        "import pandas as pd\n",
        "from seaborn import load_dataset\n",
        "\n",
        "# Import modules for feature engineering and modelling\n",
        "from sklearn.model_selection import train_test_split\n",
        "from sklearn.base import BaseEstimator, TransformerMixin\n",
        "from sklearn.preprocessing import OneHotEncoder, MinMaxScaler\n",
        "from sklearn.impute import SimpleImputer\n",
        "from sklearn.pipeline import Pipeline, FeatureUnion\n",
        "from sklearn.compose import ColumnTransformer\n",
        "from sklearn.linear_model import LinearRegression\n",
        "\n",
        "# Load dataset\n",
        "df = load_dataset('tips').drop(columns=['tip', 'sex']).sample(n=5, random_state=seed)\n",
        "\n",
        "# Add missing values\n",
        "df.iloc[[1, 2, 4], [2, 4]] = np.nan\n",
        "df"
      ],
      "execution_count": 2,
      "outputs": [
        {
          "output_type": "execute_result",
          "data": {
            "text/html": [
              "<div>\n",
              "<style scoped>\n",
              "    .dataframe tbody tr th:only-of-type {\n",
              "        vertical-align: middle;\n",
              "    }\n",
              "\n",
              "    .dataframe tbody tr th {\n",
              "        vertical-align: top;\n",
              "    }\n",
              "\n",
              "    .dataframe thead th {\n",
              "        text-align: right;\n",
              "    }\n",
              "</style>\n",
              "<table border=\"1\" class=\"dataframe\">\n",
              "  <thead>\n",
              "    <tr style=\"text-align: right;\">\n",
              "      <th></th>\n",
              "      <th>total_bill</th>\n",
              "      <th>smoker</th>\n",
              "      <th>day</th>\n",
              "      <th>time</th>\n",
              "      <th>size</th>\n",
              "    </tr>\n",
              "  </thead>\n",
              "  <tbody>\n",
              "    <tr>\n",
              "      <th>112</th>\n",
              "      <td>38.07</td>\n",
              "      <td>No</td>\n",
              "      <td>Sun</td>\n",
              "      <td>Dinner</td>\n",
              "      <td>3.0</td>\n",
              "    </tr>\n",
              "    <tr>\n",
              "      <th>19</th>\n",
              "      <td>20.65</td>\n",
              "      <td>No</td>\n",
              "      <td>NaN</td>\n",
              "      <td>Dinner</td>\n",
              "      <td>NaN</td>\n",
              "    </tr>\n",
              "    <tr>\n",
              "      <th>187</th>\n",
              "      <td>30.46</td>\n",
              "      <td>Yes</td>\n",
              "      <td>NaN</td>\n",
              "      <td>Dinner</td>\n",
              "      <td>NaN</td>\n",
              "    </tr>\n",
              "    <tr>\n",
              "      <th>169</th>\n",
              "      <td>10.63</td>\n",
              "      <td>Yes</td>\n",
              "      <td>Sat</td>\n",
              "      <td>Dinner</td>\n",
              "      <td>2.0</td>\n",
              "    </tr>\n",
              "    <tr>\n",
              "      <th>31</th>\n",
              "      <td>18.35</td>\n",
              "      <td>No</td>\n",
              "      <td>NaN</td>\n",
              "      <td>Dinner</td>\n",
              "      <td>NaN</td>\n",
              "    </tr>\n",
              "  </tbody>\n",
              "</table>\n",
              "</div>"
            ],
            "text/plain": [
              "     total_bill smoker  day    time  size\n",
              "112       38.07     No  Sun  Dinner   3.0\n",
              "19        20.65     No  NaN  Dinner   NaN\n",
              "187       30.46    Yes  NaN  Dinner   NaN\n",
              "169       10.63    Yes  Sat  Dinner   2.0\n",
              "31        18.35     No  NaN  Dinner   NaN"
            ]
          },
          "metadata": {
            "tags": []
          },
          "execution_count": 2
        }
      ]
    },
    {
      "cell_type": "code",
      "metadata": {
        "colab": {
          "base_uri": "https://localhost:8080/"
        },
        "id": "eJLlq0jaswnK",
        "outputId": "bc944953-83ea-4497-bdec-5667660dedb3"
      },
      "source": [
        "df.info()"
      ],
      "execution_count": 7,
      "outputs": [
        {
          "output_type": "stream",
          "text": [
            "<class 'pandas.core.frame.DataFrame'>\n",
            "Int64Index: 5 entries, 112 to 31\n",
            "Data columns (total 5 columns):\n",
            " #   Column      Non-Null Count  Dtype   \n",
            "---  ------      --------------  -----   \n",
            " 0   total_bill  5 non-null      float64 \n",
            " 1   smoker      5 non-null      category\n",
            " 2   day         2 non-null      category\n",
            " 3   time        5 non-null      category\n",
            " 4   size        2 non-null      float64 \n",
            "dtypes: category(3), float64(2)\n",
            "memory usage: 679.0 bytes\n"
          ],
          "name": "stdout"
        }
      ]
    },
    {
      "cell_type": "code",
      "metadata": {
        "colab": {
          "base_uri": "https://localhost:8080/"
        },
        "id": "vyEEZ4svsyOJ",
        "outputId": "b19fe442-7d34-4dc7-ef69-c26844feb3e1"
      },
      "source": [
        "df.isna().sum()"
      ],
      "execution_count": 8,
      "outputs": [
        {
          "output_type": "execute_result",
          "data": {
            "text/plain": [
              "total_bill    0\n",
              "smoker        0\n",
              "day           3\n",
              "time          0\n",
              "size          3\n",
              "dtype: int64"
            ]
          },
          "metadata": {
            "tags": []
          },
          "execution_count": 8
        }
      ]
    },
    {
      "cell_type": "code",
      "metadata": {
        "colab": {
          "base_uri": "https://localhost:8080/",
          "height": 297
        },
        "id": "ucVj9jBks0iZ",
        "outputId": "9bbb918d-c701-4dc0-9716-eeadc6059789"
      },
      "source": [
        "df.describe()"
      ],
      "execution_count": 9,
      "outputs": [
        {
          "output_type": "execute_result",
          "data": {
            "text/html": [
              "<div>\n",
              "<style scoped>\n",
              "    .dataframe tbody tr th:only-of-type {\n",
              "        vertical-align: middle;\n",
              "    }\n",
              "\n",
              "    .dataframe tbody tr th {\n",
              "        vertical-align: top;\n",
              "    }\n",
              "\n",
              "    .dataframe thead th {\n",
              "        text-align: right;\n",
              "    }\n",
              "</style>\n",
              "<table border=\"1\" class=\"dataframe\">\n",
              "  <thead>\n",
              "    <tr style=\"text-align: right;\">\n",
              "      <th></th>\n",
              "      <th>total_bill</th>\n",
              "      <th>size</th>\n",
              "    </tr>\n",
              "  </thead>\n",
              "  <tbody>\n",
              "    <tr>\n",
              "      <th>count</th>\n",
              "      <td>5.000000</td>\n",
              "      <td>2.000000</td>\n",
              "    </tr>\n",
              "    <tr>\n",
              "      <th>mean</th>\n",
              "      <td>23.632000</td>\n",
              "      <td>2.500000</td>\n",
              "    </tr>\n",
              "    <tr>\n",
              "      <th>std</th>\n",
              "      <td>10.734539</td>\n",
              "      <td>0.707107</td>\n",
              "    </tr>\n",
              "    <tr>\n",
              "      <th>min</th>\n",
              "      <td>10.630000</td>\n",
              "      <td>2.000000</td>\n",
              "    </tr>\n",
              "    <tr>\n",
              "      <th>25%</th>\n",
              "      <td>18.350000</td>\n",
              "      <td>2.250000</td>\n",
              "    </tr>\n",
              "    <tr>\n",
              "      <th>50%</th>\n",
              "      <td>20.650000</td>\n",
              "      <td>2.500000</td>\n",
              "    </tr>\n",
              "    <tr>\n",
              "      <th>75%</th>\n",
              "      <td>30.460000</td>\n",
              "      <td>2.750000</td>\n",
              "    </tr>\n",
              "    <tr>\n",
              "      <th>max</th>\n",
              "      <td>38.070000</td>\n",
              "      <td>3.000000</td>\n",
              "    </tr>\n",
              "  </tbody>\n",
              "</table>\n",
              "</div>"
            ],
            "text/plain": [
              "       total_bill      size\n",
              "count    5.000000  2.000000\n",
              "mean    23.632000  2.500000\n",
              "std     10.734539  0.707107\n",
              "min     10.630000  2.000000\n",
              "25%     18.350000  2.250000\n",
              "50%     20.650000  2.500000\n",
              "75%     30.460000  2.750000\n",
              "max     38.070000  3.000000"
            ]
          },
          "metadata": {
            "tags": []
          },
          "execution_count": 9
        }
      ]
    },
    {
      "cell_type": "markdown",
      "metadata": {
        "id": "WNaC-5ncr3-4"
      },
      "source": [
        "Use `'smoker'`, `'day'`, `'time'` columns to predict `'total_bill'`."
      ]
    },
    {
      "cell_type": "code",
      "metadata": {
        "id": "qPZVXrNmrq_0"
      },
      "source": [
        "# Partition data and drop size column\n",
        "X_train, X_test, y_train, y_test = train_test_split(df.drop(columns=['size', 'total_bill']), df['total_bill'],\n",
        "                                                    test_size=0.2,\n",
        "                                                    random_state=seed)"
      ],
      "execution_count": 4,
      "outputs": []
    },
    {
      "cell_type": "markdown",
      "metadata": {
        "id": "I3DFZljvssa3"
      },
      "source": [
        "We need to impute missing values with a \"missing\" flag and one-hot encode categorical variables."
      ]
    },
    {
      "cell_type": "code",
      "metadata": {
        "colab": {
          "base_uri": "https://localhost:8080/",
          "height": 708
        },
        "id": "OuneWvBGsjnB",
        "outputId": "85218265-694e-47cc-8424-78a03485e4cf"
      },
      "source": [
        "\"\"\"\n",
        "Transformation WITHOUT pipeline\n",
        "\n",
        "Output is:\n",
        "1 - raw data\n",
        "2 - output after imputation\n",
        "3 - output after one-hot encoding\n",
        "\"\"\"\n",
        "\n",
        "# Impute training data\n",
        "imputer = SimpleImputer(strategy='constant', fill_value='missing')\n",
        "X_train_imputed = imputer.fit_transform(X_train)\n",
        "\n",
        "# Encode training data\n",
        "encoder = OneHotEncoder(handle_unknown='ignore', sparse=False)\n",
        "X_train_encoded = encoder.fit_transform(X_train_imputed)\n",
        "\n",
        "# Inspect training data before and after\n",
        "print(\"******************** Training data ********************\")\n",
        "display(X_train)\n",
        "display(pd.DataFrame(X_train_imputed, columns=X_train.columns))\n",
        "display(pd.DataFrame(X_train_encoded, columns=encoder.get_feature_names(X_train.columns)))\n",
        "\n",
        "# Transform test data\n",
        "X_test_imputed = imputer.transform(X_test)\n",
        "X_test_encoded = encoder.transform(X_test_imputed)\n",
        "\n",
        "# Inspect test data before and after\n",
        "print(\"******************** Test data ********************\")\n",
        "display(X_test)\n",
        "display(pd.DataFrame(X_test_imputed, columns=X_train.columns))\n",
        "display(pd.DataFrame(X_test_encoded, columns=encoder.get_feature_names(X_train.columns)))"
      ],
      "execution_count": 10,
      "outputs": [
        {
          "output_type": "stream",
          "text": [
            "******************** Training data ********************\n"
          ],
          "name": "stdout"
        },
        {
          "output_type": "display_data",
          "data": {
            "text/html": [
              "<div>\n",
              "<style scoped>\n",
              "    .dataframe tbody tr th:only-of-type {\n",
              "        vertical-align: middle;\n",
              "    }\n",
              "\n",
              "    .dataframe tbody tr th {\n",
              "        vertical-align: top;\n",
              "    }\n",
              "\n",
              "    .dataframe thead th {\n",
              "        text-align: right;\n",
              "    }\n",
              "</style>\n",
              "<table border=\"1\" class=\"dataframe\">\n",
              "  <thead>\n",
              "    <tr style=\"text-align: right;\">\n",
              "      <th></th>\n",
              "      <th>smoker</th>\n",
              "      <th>day</th>\n",
              "      <th>time</th>\n",
              "    </tr>\n",
              "  </thead>\n",
              "  <tbody>\n",
              "    <tr>\n",
              "      <th>169</th>\n",
              "      <td>Yes</td>\n",
              "      <td>Sat</td>\n",
              "      <td>Dinner</td>\n",
              "    </tr>\n",
              "    <tr>\n",
              "      <th>31</th>\n",
              "      <td>No</td>\n",
              "      <td>NaN</td>\n",
              "      <td>Dinner</td>\n",
              "    </tr>\n",
              "    <tr>\n",
              "      <th>112</th>\n",
              "      <td>No</td>\n",
              "      <td>Sun</td>\n",
              "      <td>Dinner</td>\n",
              "    </tr>\n",
              "    <tr>\n",
              "      <th>187</th>\n",
              "      <td>Yes</td>\n",
              "      <td>NaN</td>\n",
              "      <td>Dinner</td>\n",
              "    </tr>\n",
              "  </tbody>\n",
              "</table>\n",
              "</div>"
            ],
            "text/plain": [
              "    smoker  day    time\n",
              "169    Yes  Sat  Dinner\n",
              "31      No  NaN  Dinner\n",
              "112     No  Sun  Dinner\n",
              "187    Yes  NaN  Dinner"
            ]
          },
          "metadata": {
            "tags": []
          }
        },
        {
          "output_type": "display_data",
          "data": {
            "text/html": [
              "<div>\n",
              "<style scoped>\n",
              "    .dataframe tbody tr th:only-of-type {\n",
              "        vertical-align: middle;\n",
              "    }\n",
              "\n",
              "    .dataframe tbody tr th {\n",
              "        vertical-align: top;\n",
              "    }\n",
              "\n",
              "    .dataframe thead th {\n",
              "        text-align: right;\n",
              "    }\n",
              "</style>\n",
              "<table border=\"1\" class=\"dataframe\">\n",
              "  <thead>\n",
              "    <tr style=\"text-align: right;\">\n",
              "      <th></th>\n",
              "      <th>smoker</th>\n",
              "      <th>day</th>\n",
              "      <th>time</th>\n",
              "    </tr>\n",
              "  </thead>\n",
              "  <tbody>\n",
              "    <tr>\n",
              "      <th>0</th>\n",
              "      <td>Yes</td>\n",
              "      <td>Sat</td>\n",
              "      <td>Dinner</td>\n",
              "    </tr>\n",
              "    <tr>\n",
              "      <th>1</th>\n",
              "      <td>No</td>\n",
              "      <td>missing</td>\n",
              "      <td>Dinner</td>\n",
              "    </tr>\n",
              "    <tr>\n",
              "      <th>2</th>\n",
              "      <td>No</td>\n",
              "      <td>Sun</td>\n",
              "      <td>Dinner</td>\n",
              "    </tr>\n",
              "    <tr>\n",
              "      <th>3</th>\n",
              "      <td>Yes</td>\n",
              "      <td>missing</td>\n",
              "      <td>Dinner</td>\n",
              "    </tr>\n",
              "  </tbody>\n",
              "</table>\n",
              "</div>"
            ],
            "text/plain": [
              "  smoker      day    time\n",
              "0    Yes      Sat  Dinner\n",
              "1     No  missing  Dinner\n",
              "2     No      Sun  Dinner\n",
              "3    Yes  missing  Dinner"
            ]
          },
          "metadata": {
            "tags": []
          }
        },
        {
          "output_type": "display_data",
          "data": {
            "text/html": [
              "<div>\n",
              "<style scoped>\n",
              "    .dataframe tbody tr th:only-of-type {\n",
              "        vertical-align: middle;\n",
              "    }\n",
              "\n",
              "    .dataframe tbody tr th {\n",
              "        vertical-align: top;\n",
              "    }\n",
              "\n",
              "    .dataframe thead th {\n",
              "        text-align: right;\n",
              "    }\n",
              "</style>\n",
              "<table border=\"1\" class=\"dataframe\">\n",
              "  <thead>\n",
              "    <tr style=\"text-align: right;\">\n",
              "      <th></th>\n",
              "      <th>smoker_No</th>\n",
              "      <th>smoker_Yes</th>\n",
              "      <th>day_Sat</th>\n",
              "      <th>day_Sun</th>\n",
              "      <th>day_missing</th>\n",
              "      <th>time_Dinner</th>\n",
              "    </tr>\n",
              "  </thead>\n",
              "  <tbody>\n",
              "    <tr>\n",
              "      <th>0</th>\n",
              "      <td>0.0</td>\n",
              "      <td>1.0</td>\n",
              "      <td>1.0</td>\n",
              "      <td>0.0</td>\n",
              "      <td>0.0</td>\n",
              "      <td>1.0</td>\n",
              "    </tr>\n",
              "    <tr>\n",
              "      <th>1</th>\n",
              "      <td>1.0</td>\n",
              "      <td>0.0</td>\n",
              "      <td>0.0</td>\n",
              "      <td>0.0</td>\n",
              "      <td>1.0</td>\n",
              "      <td>1.0</td>\n",
              "    </tr>\n",
              "    <tr>\n",
              "      <th>2</th>\n",
              "      <td>1.0</td>\n",
              "      <td>0.0</td>\n",
              "      <td>0.0</td>\n",
              "      <td>1.0</td>\n",
              "      <td>0.0</td>\n",
              "      <td>1.0</td>\n",
              "    </tr>\n",
              "    <tr>\n",
              "      <th>3</th>\n",
              "      <td>0.0</td>\n",
              "      <td>1.0</td>\n",
              "      <td>0.0</td>\n",
              "      <td>0.0</td>\n",
              "      <td>1.0</td>\n",
              "      <td>1.0</td>\n",
              "    </tr>\n",
              "  </tbody>\n",
              "</table>\n",
              "</div>"
            ],
            "text/plain": [
              "   smoker_No  smoker_Yes  day_Sat  day_Sun  day_missing  time_Dinner\n",
              "0        0.0         1.0      1.0      0.0          0.0          1.0\n",
              "1        1.0         0.0      0.0      0.0          1.0          1.0\n",
              "2        1.0         0.0      0.0      1.0          0.0          1.0\n",
              "3        0.0         1.0      0.0      0.0          1.0          1.0"
            ]
          },
          "metadata": {
            "tags": []
          }
        },
        {
          "output_type": "stream",
          "text": [
            "******************** Test data ********************\n"
          ],
          "name": "stdout"
        },
        {
          "output_type": "display_data",
          "data": {
            "text/html": [
              "<div>\n",
              "<style scoped>\n",
              "    .dataframe tbody tr th:only-of-type {\n",
              "        vertical-align: middle;\n",
              "    }\n",
              "\n",
              "    .dataframe tbody tr th {\n",
              "        vertical-align: top;\n",
              "    }\n",
              "\n",
              "    .dataframe thead th {\n",
              "        text-align: right;\n",
              "    }\n",
              "</style>\n",
              "<table border=\"1\" class=\"dataframe\">\n",
              "  <thead>\n",
              "    <tr style=\"text-align: right;\">\n",
              "      <th></th>\n",
              "      <th>smoker</th>\n",
              "      <th>day</th>\n",
              "      <th>time</th>\n",
              "    </tr>\n",
              "  </thead>\n",
              "  <tbody>\n",
              "    <tr>\n",
              "      <th>19</th>\n",
              "      <td>No</td>\n",
              "      <td>NaN</td>\n",
              "      <td>Dinner</td>\n",
              "    </tr>\n",
              "  </tbody>\n",
              "</table>\n",
              "</div>"
            ],
            "text/plain": [
              "   smoker  day    time\n",
              "19     No  NaN  Dinner"
            ]
          },
          "metadata": {
            "tags": []
          }
        },
        {
          "output_type": "display_data",
          "data": {
            "text/html": [
              "<div>\n",
              "<style scoped>\n",
              "    .dataframe tbody tr th:only-of-type {\n",
              "        vertical-align: middle;\n",
              "    }\n",
              "\n",
              "    .dataframe tbody tr th {\n",
              "        vertical-align: top;\n",
              "    }\n",
              "\n",
              "    .dataframe thead th {\n",
              "        text-align: right;\n",
              "    }\n",
              "</style>\n",
              "<table border=\"1\" class=\"dataframe\">\n",
              "  <thead>\n",
              "    <tr style=\"text-align: right;\">\n",
              "      <th></th>\n",
              "      <th>smoker</th>\n",
              "      <th>day</th>\n",
              "      <th>time</th>\n",
              "    </tr>\n",
              "  </thead>\n",
              "  <tbody>\n",
              "    <tr>\n",
              "      <th>0</th>\n",
              "      <td>No</td>\n",
              "      <td>missing</td>\n",
              "      <td>Dinner</td>\n",
              "    </tr>\n",
              "  </tbody>\n",
              "</table>\n",
              "</div>"
            ],
            "text/plain": [
              "  smoker      day    time\n",
              "0     No  missing  Dinner"
            ]
          },
          "metadata": {
            "tags": []
          }
        },
        {
          "output_type": "display_data",
          "data": {
            "text/html": [
              "<div>\n",
              "<style scoped>\n",
              "    .dataframe tbody tr th:only-of-type {\n",
              "        vertical-align: middle;\n",
              "    }\n",
              "\n",
              "    .dataframe tbody tr th {\n",
              "        vertical-align: top;\n",
              "    }\n",
              "\n",
              "    .dataframe thead th {\n",
              "        text-align: right;\n",
              "    }\n",
              "</style>\n",
              "<table border=\"1\" class=\"dataframe\">\n",
              "  <thead>\n",
              "    <tr style=\"text-align: right;\">\n",
              "      <th></th>\n",
              "      <th>smoker_No</th>\n",
              "      <th>smoker_Yes</th>\n",
              "      <th>day_Sat</th>\n",
              "      <th>day_Sun</th>\n",
              "      <th>day_missing</th>\n",
              "      <th>time_Dinner</th>\n",
              "    </tr>\n",
              "  </thead>\n",
              "  <tbody>\n",
              "    <tr>\n",
              "      <th>0</th>\n",
              "      <td>1.0</td>\n",
              "      <td>0.0</td>\n",
              "      <td>0.0</td>\n",
              "      <td>0.0</td>\n",
              "      <td>1.0</td>\n",
              "      <td>1.0</td>\n",
              "    </tr>\n",
              "  </tbody>\n",
              "</table>\n",
              "</div>"
            ],
            "text/plain": [
              "   smoker_No  smoker_Yes  day_Sat  day_Sun  day_missing  time_Dinner\n",
              "0        1.0         0.0      0.0      0.0          1.0          1.0"
            ]
          },
          "metadata": {
            "tags": []
          }
        }
      ]
    },
    {
      "cell_type": "markdown",
      "metadata": {
        "id": "HWOtVk5JuM7v"
      },
      "source": [
        "This is all redundant and tedious code... streamline it using a pipeline.\n",
        "***\n",
        "# **Pipeline**"
      ]
    },
    {
      "cell_type": "code",
      "metadata": {
        "colab": {
          "base_uri": "https://localhost:8080/",
          "height": 489
        },
        "id": "Xi7hZFottTHl",
        "outputId": "02d43875-f45d-4467-d957-23bc6c89732d"
      },
      "source": [
        "# Fit pipeline to training data\n",
        "pipe = Pipeline([\n",
        "    ('imputer', SimpleImputer(strategy='constant', fill_value='missing')),\n",
        "    ('encoder', OneHotEncoder(handle_unknown='ignore', sparse=False))\n",
        "])\n",
        "pipe.fit(X_train)\n",
        "\n",
        "# Inspect training data before and after\n",
        "print(\"******************** Training data ********************\")\n",
        "display(X_train)\n",
        "display(pd.DataFrame(pipe.transform(X_train), columns=pipe['encoder'].get_feature_names(X_train.columns)))\n",
        "\n",
        "# Inspect test data before and after\n",
        "print(\"******************** Test data ********************\")\n",
        "display(X_test)\n",
        "display(pd.DataFrame(pipe.transform(X_test), columns=pipe['encoder'].get_feature_names(X_train.columns)))"
      ],
      "execution_count": 11,
      "outputs": [
        {
          "output_type": "stream",
          "text": [
            "******************** Training data ********************\n"
          ],
          "name": "stdout"
        },
        {
          "output_type": "display_data",
          "data": {
            "text/html": [
              "<div>\n",
              "<style scoped>\n",
              "    .dataframe tbody tr th:only-of-type {\n",
              "        vertical-align: middle;\n",
              "    }\n",
              "\n",
              "    .dataframe tbody tr th {\n",
              "        vertical-align: top;\n",
              "    }\n",
              "\n",
              "    .dataframe thead th {\n",
              "        text-align: right;\n",
              "    }\n",
              "</style>\n",
              "<table border=\"1\" class=\"dataframe\">\n",
              "  <thead>\n",
              "    <tr style=\"text-align: right;\">\n",
              "      <th></th>\n",
              "      <th>smoker</th>\n",
              "      <th>day</th>\n",
              "      <th>time</th>\n",
              "    </tr>\n",
              "  </thead>\n",
              "  <tbody>\n",
              "    <tr>\n",
              "      <th>169</th>\n",
              "      <td>Yes</td>\n",
              "      <td>Sat</td>\n",
              "      <td>Dinner</td>\n",
              "    </tr>\n",
              "    <tr>\n",
              "      <th>31</th>\n",
              "      <td>No</td>\n",
              "      <td>NaN</td>\n",
              "      <td>Dinner</td>\n",
              "    </tr>\n",
              "    <tr>\n",
              "      <th>112</th>\n",
              "      <td>No</td>\n",
              "      <td>Sun</td>\n",
              "      <td>Dinner</td>\n",
              "    </tr>\n",
              "    <tr>\n",
              "      <th>187</th>\n",
              "      <td>Yes</td>\n",
              "      <td>NaN</td>\n",
              "      <td>Dinner</td>\n",
              "    </tr>\n",
              "  </tbody>\n",
              "</table>\n",
              "</div>"
            ],
            "text/plain": [
              "    smoker  day    time\n",
              "169    Yes  Sat  Dinner\n",
              "31      No  NaN  Dinner\n",
              "112     No  Sun  Dinner\n",
              "187    Yes  NaN  Dinner"
            ]
          },
          "metadata": {
            "tags": []
          }
        },
        {
          "output_type": "display_data",
          "data": {
            "text/html": [
              "<div>\n",
              "<style scoped>\n",
              "    .dataframe tbody tr th:only-of-type {\n",
              "        vertical-align: middle;\n",
              "    }\n",
              "\n",
              "    .dataframe tbody tr th {\n",
              "        vertical-align: top;\n",
              "    }\n",
              "\n",
              "    .dataframe thead th {\n",
              "        text-align: right;\n",
              "    }\n",
              "</style>\n",
              "<table border=\"1\" class=\"dataframe\">\n",
              "  <thead>\n",
              "    <tr style=\"text-align: right;\">\n",
              "      <th></th>\n",
              "      <th>smoker_No</th>\n",
              "      <th>smoker_Yes</th>\n",
              "      <th>day_Sat</th>\n",
              "      <th>day_Sun</th>\n",
              "      <th>day_missing</th>\n",
              "      <th>time_Dinner</th>\n",
              "    </tr>\n",
              "  </thead>\n",
              "  <tbody>\n",
              "    <tr>\n",
              "      <th>0</th>\n",
              "      <td>0.0</td>\n",
              "      <td>1.0</td>\n",
              "      <td>1.0</td>\n",
              "      <td>0.0</td>\n",
              "      <td>0.0</td>\n",
              "      <td>1.0</td>\n",
              "    </tr>\n",
              "    <tr>\n",
              "      <th>1</th>\n",
              "      <td>1.0</td>\n",
              "      <td>0.0</td>\n",
              "      <td>0.0</td>\n",
              "      <td>0.0</td>\n",
              "      <td>1.0</td>\n",
              "      <td>1.0</td>\n",
              "    </tr>\n",
              "    <tr>\n",
              "      <th>2</th>\n",
              "      <td>1.0</td>\n",
              "      <td>0.0</td>\n",
              "      <td>0.0</td>\n",
              "      <td>1.0</td>\n",
              "      <td>0.0</td>\n",
              "      <td>1.0</td>\n",
              "    </tr>\n",
              "    <tr>\n",
              "      <th>3</th>\n",
              "      <td>0.0</td>\n",
              "      <td>1.0</td>\n",
              "      <td>0.0</td>\n",
              "      <td>0.0</td>\n",
              "      <td>1.0</td>\n",
              "      <td>1.0</td>\n",
              "    </tr>\n",
              "  </tbody>\n",
              "</table>\n",
              "</div>"
            ],
            "text/plain": [
              "   smoker_No  smoker_Yes  day_Sat  day_Sun  day_missing  time_Dinner\n",
              "0        0.0         1.0      1.0      0.0          0.0          1.0\n",
              "1        1.0         0.0      0.0      0.0          1.0          1.0\n",
              "2        1.0         0.0      0.0      1.0          0.0          1.0\n",
              "3        0.0         1.0      0.0      0.0          1.0          1.0"
            ]
          },
          "metadata": {
            "tags": []
          }
        },
        {
          "output_type": "stream",
          "text": [
            "******************** Test data ********************\n"
          ],
          "name": "stdout"
        },
        {
          "output_type": "display_data",
          "data": {
            "text/html": [
              "<div>\n",
              "<style scoped>\n",
              "    .dataframe tbody tr th:only-of-type {\n",
              "        vertical-align: middle;\n",
              "    }\n",
              "\n",
              "    .dataframe tbody tr th {\n",
              "        vertical-align: top;\n",
              "    }\n",
              "\n",
              "    .dataframe thead th {\n",
              "        text-align: right;\n",
              "    }\n",
              "</style>\n",
              "<table border=\"1\" class=\"dataframe\">\n",
              "  <thead>\n",
              "    <tr style=\"text-align: right;\">\n",
              "      <th></th>\n",
              "      <th>smoker</th>\n",
              "      <th>day</th>\n",
              "      <th>time</th>\n",
              "    </tr>\n",
              "  </thead>\n",
              "  <tbody>\n",
              "    <tr>\n",
              "      <th>19</th>\n",
              "      <td>No</td>\n",
              "      <td>NaN</td>\n",
              "      <td>Dinner</td>\n",
              "    </tr>\n",
              "  </tbody>\n",
              "</table>\n",
              "</div>"
            ],
            "text/plain": [
              "   smoker  day    time\n",
              "19     No  NaN  Dinner"
            ]
          },
          "metadata": {
            "tags": []
          }
        },
        {
          "output_type": "display_data",
          "data": {
            "text/html": [
              "<div>\n",
              "<style scoped>\n",
              "    .dataframe tbody tr th:only-of-type {\n",
              "        vertical-align: middle;\n",
              "    }\n",
              "\n",
              "    .dataframe tbody tr th {\n",
              "        vertical-align: top;\n",
              "    }\n",
              "\n",
              "    .dataframe thead th {\n",
              "        text-align: right;\n",
              "    }\n",
              "</style>\n",
              "<table border=\"1\" class=\"dataframe\">\n",
              "  <thead>\n",
              "    <tr style=\"text-align: right;\">\n",
              "      <th></th>\n",
              "      <th>smoker_No</th>\n",
              "      <th>smoker_Yes</th>\n",
              "      <th>day_Sat</th>\n",
              "      <th>day_Sun</th>\n",
              "      <th>day_missing</th>\n",
              "      <th>time_Dinner</th>\n",
              "    </tr>\n",
              "  </thead>\n",
              "  <tbody>\n",
              "    <tr>\n",
              "      <th>0</th>\n",
              "      <td>1.0</td>\n",
              "      <td>0.0</td>\n",
              "      <td>0.0</td>\n",
              "      <td>0.0</td>\n",
              "      <td>1.0</td>\n",
              "      <td>1.0</td>\n",
              "    </tr>\n",
              "  </tbody>\n",
              "</table>\n",
              "</div>"
            ],
            "text/plain": [
              "   smoker_No  smoker_Yes  day_Sat  day_Sun  day_missing  time_Dinner\n",
              "0        1.0         0.0      0.0      0.0          1.0          1.0"
            ]
          },
          "metadata": {
            "tags": []
          }
        }
      ]
    },
    {
      "cell_type": "markdown",
      "metadata": {
        "id": "bdzTvxmRukIO"
      },
      "source": [
        "Using a pipeline passes its output to the next step as an input. Therefore, we don’t have to manually keep track of different versions of the data."
      ]
    },
    {
      "cell_type": "code",
      "metadata": {
        "colab": {
          "base_uri": "https://localhost:8080/"
        },
        "id": "lDMdf2jwuZyb",
        "outputId": "5a9ff504-476a-4cc9-c0a2-2879864f3ecf"
      },
      "source": [
        "\"\"\"\n",
        "Add model to first approach (no pipeline)\n",
        "\"\"\"\n",
        "\n",
        "# Impute training data\n",
        "imputer = SimpleImputer(strategy='constant', fill_value='missing')\n",
        "X_train_imputed = imputer.fit_transform(X_train)\n",
        "\n",
        "# Encode training data\n",
        "encoder = OneHotEncoder(handle_unknown='ignore', sparse=False)\n",
        "X_train_encoded = encoder.fit_transform(X_train_imputed)\n",
        "\n",
        "# Fit model to training data\n",
        "model = LinearRegression()\n",
        "model.fit(X_train_encoded, y_train)\n",
        "\n",
        "# Predict training data\n",
        "y_train_pred = model.predict(X_train_encoded)\n",
        "print(f\"Predictions on training data: {y_train_pred}\")\n",
        "\n",
        "# Transform test data\n",
        "X_test_imputed = imputer.transform(X_test)\n",
        "X_test_encoded = encoder.transform(X_test_imputed)\n",
        "\n",
        "# Predict test data\n",
        "y_test_pred = model.predict(X_test_encoded)\n",
        "print(f\"Predictions on test data: {y_test_pred}\")"
      ],
      "execution_count": 12,
      "outputs": [
        {
          "output_type": "stream",
          "text": [
            "Predictions on training data: [10.63 18.35 38.07 30.46]\n",
            "Predictions on test data: [18.35]\n"
          ],
          "name": "stdout"
        }
      ]
    },
    {
      "cell_type": "code",
      "metadata": {
        "colab": {
          "base_uri": "https://localhost:8080/"
        },
        "id": "FakrK5F8vHXl",
        "outputId": "2b9739c9-a381-403b-abac-0f2c3603573a"
      },
      "source": [
        "\"\"\"\n",
        "Add model to pipeline approach\n",
        "\"\"\"\n",
        "\n",
        "# Fit pipeline to training data\n",
        "pipe = Pipeline([\n",
        "    ('imputer', SimpleImputer(strategy='constant', fill_value='missing')),\n",
        "    ('encoder', OneHotEncoder(handle_unknown='ignore', sparse=False)), \n",
        "    ('model', LinearRegression())\n",
        "])\n",
        "pipe.fit(X_train, y_train)\n",
        "\n",
        "# Predict training data\n",
        "y_train_pred = pipe.predict(X_train)\n",
        "print(f\"Predictions on training data: {y_train_pred}\")\n",
        "\n",
        "# Predict test data\n",
        "y_test_pred = pipe.predict(X_test)\n",
        "print(f\"Predictions on test data: {y_test_pred}\")"
      ],
      "execution_count": 13,
      "outputs": [
        {
          "output_type": "stream",
          "text": [
            "Predictions on training data: [10.63 18.35 38.07 30.46]\n",
            "Predictions on test data: [18.35]\n"
          ],
          "name": "stdout"
        }
      ]
    },
    {
      "cell_type": "markdown",
      "metadata": {
        "id": "Mppc0BeGvYMQ"
      },
      "source": [
        "![image.png](data:image/png;base64,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)"
      ]
    },
    {
      "cell_type": "markdown",
      "metadata": {
        "id": "6AFLx_alvdip"
      },
      "source": [
        "## Benefits of Pipelines:\n",
        "- organizes and streamlines code\n",
        "- can fine-tune any parameter of the entire pipeline (both transformers and estimators) with either `GridSearchCV` or `RandomizedSearchCV`\n",
        "- easier deployment since we are training a single object containing data transformers and a model\n",
        "\n",
        "***\n",
        "\n",
        "# **ColumnTransformer()**\n",
        "\n",
        "Use `ColumnTransformer()` when we need to apply different sets of transformers to different groups of columns."
      ]
    },
    {
      "cell_type": "code",
      "metadata": {
        "colab": {
          "base_uri": "https://localhost:8080/"
        },
        "id": "233XTpFtvPW5",
        "outputId": "3d9f89d7-4fce-4fa4-fc2f-60eb9027cdab"
      },
      "source": [
        "# Partition data keeping both numeric and categorical vars\n",
        "X_train, X_test, y_train, y_test = train_test_split(df.drop(columns=['total_bill']), \n",
        "                                                    df['total_bill'], \n",
        "                                                    test_size=.2, \n",
        "                                                    random_state=seed)\n",
        "\n",
        "# Define categorical columns\n",
        "categorical = list(X_train.select_dtypes('category').columns)\n",
        "print(f\"Categorical columns are: {categorical}\")\n",
        "\n",
        "# Define numerical columns\n",
        "numerical = list(X_train.select_dtypes('number').columns)\n",
        "print(f\"Numerical columns are: {numerical}\")"
      ],
      "execution_count": 14,
      "outputs": [
        {
          "output_type": "stream",
          "text": [
            "Categorical columns are: ['smoker', 'day', 'time']\n",
            "Numerical columns are: ['size']\n"
          ],
          "name": "stdout"
        }
      ]
    },
    {
      "cell_type": "markdown",
      "metadata": {
        "id": "rD9K15QPxlre"
      },
      "source": [
        "We have to split features into groups based on their data type but you can customize this further by splitting categorical variables into multiple groups if different preprocessing pipelines are more suitable for them."
      ]
    },
    {
      "cell_type": "code",
      "metadata": {
        "colab": {
          "base_uri": "https://localhost:8080/",
          "height": 489
        },
        "id": "K8-Oi0U3xc_z",
        "outputId": "755c25b3-72fd-4359-f34f-16d00374e56c"
      },
      "source": [
        "\"\"\"\n",
        "Use ColumnTransformer() with Pipeline \n",
        "to transform categorical vars\n",
        "\"\"\"\n",
        "\n",
        "# Define categorical pipeline\n",
        "cat_pipe = Pipeline([\n",
        "    ('imputer', SimpleImputer(strategy='constant', fill_value='missing')),\n",
        "    ('encoder', OneHotEncoder(handle_unknown='ignore', sparse=False))\n",
        "])\n",
        "\n",
        "# Fit column transformer to training data (only affecting categorical vars)\n",
        "preprocessor = ColumnTransformer([('cat', cat_pipe, categorical)], remainder='passthrough')\n",
        "preprocessor.fit(X_train)\n",
        "\n",
        "# Prepare column names\n",
        "cat_columns = preprocessor.named_transformers_['cat']['encoder'].get_feature_names(categorical)\n",
        "columns = np.append(cat_columns, numerical)\n",
        "\n",
        "# Inspect training data before and after\n",
        "print(\"******************** Training data ********************\")\n",
        "display(X_train)\n",
        "display(pd.DataFrame(preprocessor.transform(X_train), columns=columns))\n",
        "\n",
        "# Inspect test data before and after\n",
        "print(\"******************** Test data ********************\")\n",
        "display(X_test)\n",
        "display(pd.DataFrame(preprocessor.transform(X_test), columns=columns))"
      ],
      "execution_count": 15,
      "outputs": [
        {
          "output_type": "stream",
          "text": [
            "******************** Training data ********************\n"
          ],
          "name": "stdout"
        },
        {
          "output_type": "display_data",
          "data": {
            "text/html": [
              "<div>\n",
              "<style scoped>\n",
              "    .dataframe tbody tr th:only-of-type {\n",
              "        vertical-align: middle;\n",
              "    }\n",
              "\n",
              "    .dataframe tbody tr th {\n",
              "        vertical-align: top;\n",
              "    }\n",
              "\n",
              "    .dataframe thead th {\n",
              "        text-align: right;\n",
              "    }\n",
              "</style>\n",
              "<table border=\"1\" class=\"dataframe\">\n",
              "  <thead>\n",
              "    <tr style=\"text-align: right;\">\n",
              "      <th></th>\n",
              "      <th>smoker</th>\n",
              "      <th>day</th>\n",
              "      <th>time</th>\n",
              "      <th>size</th>\n",
              "    </tr>\n",
              "  </thead>\n",
              "  <tbody>\n",
              "    <tr>\n",
              "      <th>169</th>\n",
              "      <td>Yes</td>\n",
              "      <td>Sat</td>\n",
              "      <td>Dinner</td>\n",
              "      <td>2.0</td>\n",
              "    </tr>\n",
              "    <tr>\n",
              "      <th>31</th>\n",
              "      <td>No</td>\n",
              "      <td>NaN</td>\n",
              "      <td>Dinner</td>\n",
              "      <td>NaN</td>\n",
              "    </tr>\n",
              "    <tr>\n",
              "      <th>112</th>\n",
              "      <td>No</td>\n",
              "      <td>Sun</td>\n",
              "      <td>Dinner</td>\n",
              "      <td>3.0</td>\n",
              "    </tr>\n",
              "    <tr>\n",
              "      <th>187</th>\n",
              "      <td>Yes</td>\n",
              "      <td>NaN</td>\n",
              "      <td>Dinner</td>\n",
              "      <td>NaN</td>\n",
              "    </tr>\n",
              "  </tbody>\n",
              "</table>\n",
              "</div>"
            ],
            "text/plain": [
              "    smoker  day    time  size\n",
              "169    Yes  Sat  Dinner   2.0\n",
              "31      No  NaN  Dinner   NaN\n",
              "112     No  Sun  Dinner   3.0\n",
              "187    Yes  NaN  Dinner   NaN"
            ]
          },
          "metadata": {
            "tags": []
          }
        },
        {
          "output_type": "display_data",
          "data": {
            "text/html": [
              "<div>\n",
              "<style scoped>\n",
              "    .dataframe tbody tr th:only-of-type {\n",
              "        vertical-align: middle;\n",
              "    }\n",
              "\n",
              "    .dataframe tbody tr th {\n",
              "        vertical-align: top;\n",
              "    }\n",
              "\n",
              "    .dataframe thead th {\n",
              "        text-align: right;\n",
              "    }\n",
              "</style>\n",
              "<table border=\"1\" class=\"dataframe\">\n",
              "  <thead>\n",
              "    <tr style=\"text-align: right;\">\n",
              "      <th></th>\n",
              "      <th>smoker_No</th>\n",
              "      <th>smoker_Yes</th>\n",
              "      <th>day_Sat</th>\n",
              "      <th>day_Sun</th>\n",
              "      <th>day_missing</th>\n",
              "      <th>time_Dinner</th>\n",
              "      <th>size</th>\n",
              "    </tr>\n",
              "  </thead>\n",
              "  <tbody>\n",
              "    <tr>\n",
              "      <th>0</th>\n",
              "      <td>0.0</td>\n",
              "      <td>1.0</td>\n",
              "      <td>1.0</td>\n",
              "      <td>0.0</td>\n",
              "      <td>0.0</td>\n",
              "      <td>1.0</td>\n",
              "      <td>2.0</td>\n",
              "    </tr>\n",
              "    <tr>\n",
              "      <th>1</th>\n",
              "      <td>1.0</td>\n",
              "      <td>0.0</td>\n",
              "      <td>0.0</td>\n",
              "      <td>0.0</td>\n",
              "      <td>1.0</td>\n",
              "      <td>1.0</td>\n",
              "      <td>NaN</td>\n",
              "    </tr>\n",
              "    <tr>\n",
              "      <th>2</th>\n",
              "      <td>1.0</td>\n",
              "      <td>0.0</td>\n",
              "      <td>0.0</td>\n",
              "      <td>1.0</td>\n",
              "      <td>0.0</td>\n",
              "      <td>1.0</td>\n",
              "      <td>3.0</td>\n",
              "    </tr>\n",
              "    <tr>\n",
              "      <th>3</th>\n",
              "      <td>0.0</td>\n",
              "      <td>1.0</td>\n",
              "      <td>0.0</td>\n",
              "      <td>0.0</td>\n",
              "      <td>1.0</td>\n",
              "      <td>1.0</td>\n",
              "      <td>NaN</td>\n",
              "    </tr>\n",
              "  </tbody>\n",
              "</table>\n",
              "</div>"
            ],
            "text/plain": [
              "   smoker_No  smoker_Yes  day_Sat  day_Sun  day_missing  time_Dinner  size\n",
              "0        0.0         1.0      1.0      0.0          0.0          1.0   2.0\n",
              "1        1.0         0.0      0.0      0.0          1.0          1.0   NaN\n",
              "2        1.0         0.0      0.0      1.0          0.0          1.0   3.0\n",
              "3        0.0         1.0      0.0      0.0          1.0          1.0   NaN"
            ]
          },
          "metadata": {
            "tags": []
          }
        },
        {
          "output_type": "stream",
          "text": [
            "******************** Test data ********************\n"
          ],
          "name": "stdout"
        },
        {
          "output_type": "display_data",
          "data": {
            "text/html": [
              "<div>\n",
              "<style scoped>\n",
              "    .dataframe tbody tr th:only-of-type {\n",
              "        vertical-align: middle;\n",
              "    }\n",
              "\n",
              "    .dataframe tbody tr th {\n",
              "        vertical-align: top;\n",
              "    }\n",
              "\n",
              "    .dataframe thead th {\n",
              "        text-align: right;\n",
              "    }\n",
              "</style>\n",
              "<table border=\"1\" class=\"dataframe\">\n",
              "  <thead>\n",
              "    <tr style=\"text-align: right;\">\n",
              "      <th></th>\n",
              "      <th>smoker</th>\n",
              "      <th>day</th>\n",
              "      <th>time</th>\n",
              "      <th>size</th>\n",
              "    </tr>\n",
              "  </thead>\n",
              "  <tbody>\n",
              "    <tr>\n",
              "      <th>19</th>\n",
              "      <td>No</td>\n",
              "      <td>NaN</td>\n",
              "      <td>Dinner</td>\n",
              "      <td>NaN</td>\n",
              "    </tr>\n",
              "  </tbody>\n",
              "</table>\n",
              "</div>"
            ],
            "text/plain": [
              "   smoker  day    time  size\n",
              "19     No  NaN  Dinner   NaN"
            ]
          },
          "metadata": {
            "tags": []
          }
        },
        {
          "output_type": "display_data",
          "data": {
            "text/html": [
              "<div>\n",
              "<style scoped>\n",
              "    .dataframe tbody tr th:only-of-type {\n",
              "        vertical-align: middle;\n",
              "    }\n",
              "\n",
              "    .dataframe tbody tr th {\n",
              "        vertical-align: top;\n",
              "    }\n",
              "\n",
              "    .dataframe thead th {\n",
              "        text-align: right;\n",
              "    }\n",
              "</style>\n",
              "<table border=\"1\" class=\"dataframe\">\n",
              "  <thead>\n",
              "    <tr style=\"text-align: right;\">\n",
              "      <th></th>\n",
              "      <th>smoker_No</th>\n",
              "      <th>smoker_Yes</th>\n",
              "      <th>day_Sat</th>\n",
              "      <th>day_Sun</th>\n",
              "      <th>day_missing</th>\n",
              "      <th>time_Dinner</th>\n",
              "      <th>size</th>\n",
              "    </tr>\n",
              "  </thead>\n",
              "  <tbody>\n",
              "    <tr>\n",
              "      <th>0</th>\n",
              "      <td>1.0</td>\n",
              "      <td>0.0</td>\n",
              "      <td>0.0</td>\n",
              "      <td>0.0</td>\n",
              "      <td>1.0</td>\n",
              "      <td>1.0</td>\n",
              "      <td>NaN</td>\n",
              "    </tr>\n",
              "  </tbody>\n",
              "</table>\n",
              "</div>"
            ],
            "text/plain": [
              "   smoker_No  smoker_Yes  day_Sat  day_Sun  day_missing  time_Dinner  size\n",
              "0        1.0         0.0      0.0      0.0          1.0          1.0   NaN"
            ]
          },
          "metadata": {
            "tags": []
          }
        }
      ]
    },
    {
      "cell_type": "code",
      "metadata": {
        "colab": {
          "base_uri": "https://localhost:8080/",
          "height": 489
        },
        "id": "6OkpouRryZWa",
        "outputId": "f56c9605-ff71-428b-8205-921009d72536"
      },
      "source": [
        "\"\"\"\n",
        "Use ColumnTransformer() with Pipeline \n",
        "to transform both categorical and numeric vars\n",
        "\"\"\"\n",
        "\n",
        "# Define categorical pipeline\n",
        "cat_pipe = Pipeline([\n",
        "    ('imputer', SimpleImputer(strategy='constant', fill_value='missing')),\n",
        "    ('encoder', OneHotEncoder(handle_unknown='ignore', sparse=False))\n",
        "])\n",
        "\n",
        "# Define numerical pipeline\n",
        "num_pipe = Pipeline([\n",
        "    ('imputer', SimpleImputer(strategy='median')), # impute missing values with median\n",
        "    ('scaler', MinMaxScaler())\n",
        "])\n",
        "\n",
        "# Fit column transformer to training data\n",
        "preprocessor = ColumnTransformer([\n",
        "    ('cat', cat_pipe, categorical),\n",
        "    ('num', num_pipe, numerical)\n",
        "])\n",
        "preprocessor.fit(X_train)\n",
        "\n",
        "# Prepare column names\n",
        "cat_columns = preprocessor.named_transformers_['cat']['encoder'].get_feature_names(categorical)\n",
        "columns = np.append(cat_columns, numerical)\n",
        "\n",
        "# Inspect training data before and after\n",
        "print(\"******************** Training data ********************\")\n",
        "display(X_train)\n",
        "display(pd.DataFrame(preprocessor.transform(X_train), columns=columns))\n",
        "\n",
        "# Inspect test data before and after\n",
        "print(\"******************** Test data ********************\")\n",
        "display(X_test)\n",
        "display(pd.DataFrame(preprocessor.transform(X_test), columns=columns))"
      ],
      "execution_count": 16,
      "outputs": [
        {
          "output_type": "stream",
          "text": [
            "******************** Training data ********************\n"
          ],
          "name": "stdout"
        },
        {
          "output_type": "display_data",
          "data": {
            "text/html": [
              "<div>\n",
              "<style scoped>\n",
              "    .dataframe tbody tr th:only-of-type {\n",
              "        vertical-align: middle;\n",
              "    }\n",
              "\n",
              "    .dataframe tbody tr th {\n",
              "        vertical-align: top;\n",
              "    }\n",
              "\n",
              "    .dataframe thead th {\n",
              "        text-align: right;\n",
              "    }\n",
              "</style>\n",
              "<table border=\"1\" class=\"dataframe\">\n",
              "  <thead>\n",
              "    <tr style=\"text-align: right;\">\n",
              "      <th></th>\n",
              "      <th>smoker</th>\n",
              "      <th>day</th>\n",
              "      <th>time</th>\n",
              "      <th>size</th>\n",
              "    </tr>\n",
              "  </thead>\n",
              "  <tbody>\n",
              "    <tr>\n",
              "      <th>169</th>\n",
              "      <td>Yes</td>\n",
              "      <td>Sat</td>\n",
              "      <td>Dinner</td>\n",
              "      <td>2.0</td>\n",
              "    </tr>\n",
              "    <tr>\n",
              "      <th>31</th>\n",
              "      <td>No</td>\n",
              "      <td>NaN</td>\n",
              "      <td>Dinner</td>\n",
              "      <td>NaN</td>\n",
              "    </tr>\n",
              "    <tr>\n",
              "      <th>112</th>\n",
              "      <td>No</td>\n",
              "      <td>Sun</td>\n",
              "      <td>Dinner</td>\n",
              "      <td>3.0</td>\n",
              "    </tr>\n",
              "    <tr>\n",
              "      <th>187</th>\n",
              "      <td>Yes</td>\n",
              "      <td>NaN</td>\n",
              "      <td>Dinner</td>\n",
              "      <td>NaN</td>\n",
              "    </tr>\n",
              "  </tbody>\n",
              "</table>\n",
              "</div>"
            ],
            "text/plain": [
              "    smoker  day    time  size\n",
              "169    Yes  Sat  Dinner   2.0\n",
              "31      No  NaN  Dinner   NaN\n",
              "112     No  Sun  Dinner   3.0\n",
              "187    Yes  NaN  Dinner   NaN"
            ]
          },
          "metadata": {
            "tags": []
          }
        },
        {
          "output_type": "display_data",
          "data": {
            "text/html": [
              "<div>\n",
              "<style scoped>\n",
              "    .dataframe tbody tr th:only-of-type {\n",
              "        vertical-align: middle;\n",
              "    }\n",
              "\n",
              "    .dataframe tbody tr th {\n",
              "        vertical-align: top;\n",
              "    }\n",
              "\n",
              "    .dataframe thead th {\n",
              "        text-align: right;\n",
              "    }\n",
              "</style>\n",
              "<table border=\"1\" class=\"dataframe\">\n",
              "  <thead>\n",
              "    <tr style=\"text-align: right;\">\n",
              "      <th></th>\n",
              "      <th>smoker_No</th>\n",
              "      <th>smoker_Yes</th>\n",
              "      <th>day_Sat</th>\n",
              "      <th>day_Sun</th>\n",
              "      <th>day_missing</th>\n",
              "      <th>time_Dinner</th>\n",
              "      <th>size</th>\n",
              "    </tr>\n",
              "  </thead>\n",
              "  <tbody>\n",
              "    <tr>\n",
              "      <th>0</th>\n",
              "      <td>0.0</td>\n",
              "      <td>1.0</td>\n",
              "      <td>1.0</td>\n",
              "      <td>0.0</td>\n",
              "      <td>0.0</td>\n",
              "      <td>1.0</td>\n",
              "      <td>0.0</td>\n",
              "    </tr>\n",
              "    <tr>\n",
              "      <th>1</th>\n",
              "      <td>1.0</td>\n",
              "      <td>0.0</td>\n",
              "      <td>0.0</td>\n",
              "      <td>0.0</td>\n",
              "      <td>1.0</td>\n",
              "      <td>1.0</td>\n",
              "      <td>0.5</td>\n",
              "    </tr>\n",
              "    <tr>\n",
              "      <th>2</th>\n",
              "      <td>1.0</td>\n",
              "      <td>0.0</td>\n",
              "      <td>0.0</td>\n",
              "      <td>1.0</td>\n",
              "      <td>0.0</td>\n",
              "      <td>1.0</td>\n",
              "      <td>1.0</td>\n",
              "    </tr>\n",
              "    <tr>\n",
              "      <th>3</th>\n",
              "      <td>0.0</td>\n",
              "      <td>1.0</td>\n",
              "      <td>0.0</td>\n",
              "      <td>0.0</td>\n",
              "      <td>1.0</td>\n",
              "      <td>1.0</td>\n",
              "      <td>0.5</td>\n",
              "    </tr>\n",
              "  </tbody>\n",
              "</table>\n",
              "</div>"
            ],
            "text/plain": [
              "   smoker_No  smoker_Yes  day_Sat  day_Sun  day_missing  time_Dinner  size\n",
              "0        0.0         1.0      1.0      0.0          0.0          1.0   0.0\n",
              "1        1.0         0.0      0.0      0.0          1.0          1.0   0.5\n",
              "2        1.0         0.0      0.0      1.0          0.0          1.0   1.0\n",
              "3        0.0         1.0      0.0      0.0          1.0          1.0   0.5"
            ]
          },
          "metadata": {
            "tags": []
          }
        },
        {
          "output_type": "stream",
          "text": [
            "******************** Test data ********************\n"
          ],
          "name": "stdout"
        },
        {
          "output_type": "display_data",
          "data": {
            "text/html": [
              "<div>\n",
              "<style scoped>\n",
              "    .dataframe tbody tr th:only-of-type {\n",
              "        vertical-align: middle;\n",
              "    }\n",
              "\n",
              "    .dataframe tbody tr th {\n",
              "        vertical-align: top;\n",
              "    }\n",
              "\n",
              "    .dataframe thead th {\n",
              "        text-align: right;\n",
              "    }\n",
              "</style>\n",
              "<table border=\"1\" class=\"dataframe\">\n",
              "  <thead>\n",
              "    <tr style=\"text-align: right;\">\n",
              "      <th></th>\n",
              "      <th>smoker</th>\n",
              "      <th>day</th>\n",
              "      <th>time</th>\n",
              "      <th>size</th>\n",
              "    </tr>\n",
              "  </thead>\n",
              "  <tbody>\n",
              "    <tr>\n",
              "      <th>19</th>\n",
              "      <td>No</td>\n",
              "      <td>NaN</td>\n",
              "      <td>Dinner</td>\n",
              "      <td>NaN</td>\n",
              "    </tr>\n",
              "  </tbody>\n",
              "</table>\n",
              "</div>"
            ],
            "text/plain": [
              "   smoker  day    time  size\n",
              "19     No  NaN  Dinner   NaN"
            ]
          },
          "metadata": {
            "tags": []
          }
        },
        {
          "output_type": "display_data",
          "data": {
            "text/html": [
              "<div>\n",
              "<style scoped>\n",
              "    .dataframe tbody tr th:only-of-type {\n",
              "        vertical-align: middle;\n",
              "    }\n",
              "\n",
              "    .dataframe tbody tr th {\n",
              "        vertical-align: top;\n",
              "    }\n",
              "\n",
              "    .dataframe thead th {\n",
              "        text-align: right;\n",
              "    }\n",
              "</style>\n",
              "<table border=\"1\" class=\"dataframe\">\n",
              "  <thead>\n",
              "    <tr style=\"text-align: right;\">\n",
              "      <th></th>\n",
              "      <th>smoker_No</th>\n",
              "      <th>smoker_Yes</th>\n",
              "      <th>day_Sat</th>\n",
              "      <th>day_Sun</th>\n",
              "      <th>day_missing</th>\n",
              "      <th>time_Dinner</th>\n",
              "      <th>size</th>\n",
              "    </tr>\n",
              "  </thead>\n",
              "  <tbody>\n",
              "    <tr>\n",
              "      <th>0</th>\n",
              "      <td>1.0</td>\n",
              "      <td>0.0</td>\n",
              "      <td>0.0</td>\n",
              "      <td>0.0</td>\n",
              "      <td>1.0</td>\n",
              "      <td>1.0</td>\n",
              "      <td>0.5</td>\n",
              "    </tr>\n",
              "  </tbody>\n",
              "</table>\n",
              "</div>"
            ],
            "text/plain": [
              "   smoker_No  smoker_Yes  day_Sat  day_Sun  day_missing  time_Dinner  size\n",
              "0        1.0         0.0      0.0      0.0          1.0          1.0   0.5"
            ]
          },
          "metadata": {
            "tags": []
          }
        }
      ]
    },
    {
      "cell_type": "markdown",
      "metadata": {
        "id": "2TLFucUZzeSB"
      },
      "source": [
        "We applied a different pipeline with different transformers to each group (numeric and categorical) and got results.\n",
        "\n",
        "![image.png](data:image/png;base64,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)"
      ]
    },
    {
      "cell_type": "code",
      "metadata": {
        "colab": {
          "base_uri": "https://localhost:8080/"
        },
        "id": "DE3fUfDZzRw4",
        "outputId": "a6ecf93e-7971-42fb-a8b6-84b9af3e15be"
      },
      "source": [
        "\"\"\"\n",
        "Add model to example\n",
        "\"\"\"\n",
        "\n",
        "# Define categorical pipeline\n",
        "cat_pipe = Pipeline([\n",
        "    ('imputer', SimpleImputer(strategy='constant', fill_value='missing')),\n",
        "    ('encoder', OneHotEncoder(handle_unknown='ignore', sparse=False))\n",
        "])\n",
        "\n",
        "# Define numerical pipeline\n",
        "num_pipe = Pipeline([\n",
        "    ('imputer', SimpleImputer(strategy='median')),\n",
        "    ('scaler', MinMaxScaler())\n",
        "])\n",
        "\n",
        "# Combine categorical and numerical pipelines\n",
        "preprocessor = ColumnTransformer([\n",
        "    ('cat', cat_pipe, categorical),\n",
        "    ('num', num_pipe, numerical)\n",
        "])\n",
        "\n",
        "# Fit a pipeline with transformers and an estimator to the training data\n",
        "pipe = Pipeline([\n",
        "    ('preprocessor', preprocessor),\n",
        "    ('model', LinearRegression())\n",
        "])\n",
        "pipe.fit(X_train, y_train)\n",
        "\n",
        "# Predict training data\n",
        "y_train_pred = pipe.predict(X_train)\n",
        "print(f\"Predictions on training data: {y_train_pred}\")\n",
        "\n",
        "# Predict test data\n",
        "y_test_pred = pipe.predict(X_test)\n",
        "print(f\"Predictions on test data: {y_test_pred}\")"
      ],
      "execution_count": 17,
      "outputs": [
        {
          "output_type": "stream",
          "text": [
            "Predictions on training data: [10.63 18.35 38.07 30.46]\n",
            "Predictions on test data: [18.35]\n"
          ],
          "name": "stdout"
        }
      ]
    },
    {
      "cell_type": "markdown",
      "metadata": {
        "id": "3LLo8YsO0PWl"
      },
      "source": [
        "Wrap the preprocessing steps and model with another pipeline to combine everything.\n",
        "\n",
        "![image.png](data:image/png;base64,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)\n",
        "\n",
        "***"
      ]
    },
    {
      "cell_type": "markdown",
      "metadata": {
        "id": "i1plyGaA0kY9"
      },
      "source": [
        "# **FeatureUnion**\n",
        "\n",
        "`FeatureUnion` works like `ColumnTransformer` but much longer way. It creates a copy of the data, transforms those copies in parallel and then outputs the results."
      ]
    },
    {
      "cell_type": "code",
      "metadata": {
        "colab": {
          "base_uri": "https://localhost:8080/",
          "height": 489
        },
        "id": "oCnxc2iQ0MQS",
        "outputId": "0aa19af7-7c8e-4e00-ade9-50d992b5f557"
      },
      "source": [
        "# Define custom transformer\n",
        "class ColumnSelector(BaseEstimator, TransformerMixin):\n",
        "    \"\"\"Select only specified columns.\"\"\"\n",
        "    def __init__(self, columns):\n",
        "        self.columns = columns\n",
        "        \n",
        "    def fit(self, X, y=None):\n",
        "        return self\n",
        "    \n",
        "    def transform(self, X):\n",
        "        return X[self.columns]\n",
        "\n",
        "# Define categorical pipeline\n",
        "cat_pipe = Pipeline([\n",
        "    ('selector', ColumnSelector(categorical)),\n",
        "    ('imputer', SimpleImputer(strategy='constant', fill_value='missing')),\n",
        "    ('encoder', OneHotEncoder(handle_unknown='ignore', sparse=False))\n",
        "])\n",
        "\n",
        "# Define numerical pipeline\n",
        "num_pipe = Pipeline([\n",
        "    ('selector', ColumnSelector(numerical)),\n",
        "    ('imputer', SimpleImputer(strategy='median')),\n",
        "    ('scaler', MinMaxScaler())\n",
        "])\n",
        "\n",
        "# Fit feature union to training data\n",
        "preprocessor = FeatureUnion([\n",
        "    ('cat', cat_pipe),\n",
        "    ('num', num_pipe)\n",
        "])\n",
        "preprocessor.fit(X_train)\n",
        "\n",
        "# Prepare column names\n",
        "cat_columns = preprocessor.transformer_list[0][1][2].get_feature_names(categorical)\n",
        "columns = np.append(cat_columns, numerical)\n",
        "\n",
        "# Inspect training data before and after\n",
        "print(\"******************** Training data ********************\")\n",
        "display(X_train)\n",
        "display(pd.DataFrame(preprocessor.transform(X_train), columns=columns))\n",
        "\n",
        "# Inspect test data before and after\n",
        "print(\"******************** Test data ********************\")\n",
        "display(X_test)\n",
        "display(pd.DataFrame(preprocessor.transform(X_test), columns=columns))"
      ],
      "execution_count": 18,
      "outputs": [
        {
          "output_type": "stream",
          "text": [
            "******************** Training data ********************\n"
          ],
          "name": "stdout"
        },
        {
          "output_type": "display_data",
          "data": {
            "text/html": [
              "<div>\n",
              "<style scoped>\n",
              "    .dataframe tbody tr th:only-of-type {\n",
              "        vertical-align: middle;\n",
              "    }\n",
              "\n",
              "    .dataframe tbody tr th {\n",
              "        vertical-align: top;\n",
              "    }\n",
              "\n",
              "    .dataframe thead th {\n",
              "        text-align: right;\n",
              "    }\n",
              "</style>\n",
              "<table border=\"1\" class=\"dataframe\">\n",
              "  <thead>\n",
              "    <tr style=\"text-align: right;\">\n",
              "      <th></th>\n",
              "      <th>smoker</th>\n",
              "      <th>day</th>\n",
              "      <th>time</th>\n",
              "      <th>size</th>\n",
              "    </tr>\n",
              "  </thead>\n",
              "  <tbody>\n",
              "    <tr>\n",
              "      <th>169</th>\n",
              "      <td>Yes</td>\n",
              "      <td>Sat</td>\n",
              "      <td>Dinner</td>\n",
              "      <td>2.0</td>\n",
              "    </tr>\n",
              "    <tr>\n",
              "      <th>31</th>\n",
              "      <td>No</td>\n",
              "      <td>NaN</td>\n",
              "      <td>Dinner</td>\n",
              "      <td>NaN</td>\n",
              "    </tr>\n",
              "    <tr>\n",
              "      <th>112</th>\n",
              "      <td>No</td>\n",
              "      <td>Sun</td>\n",
              "      <td>Dinner</td>\n",
              "      <td>3.0</td>\n",
              "    </tr>\n",
              "    <tr>\n",
              "      <th>187</th>\n",
              "      <td>Yes</td>\n",
              "      <td>NaN</td>\n",
              "      <td>Dinner</td>\n",
              "      <td>NaN</td>\n",
              "    </tr>\n",
              "  </tbody>\n",
              "</table>\n",
              "</div>"
            ],
            "text/plain": [
              "    smoker  day    time  size\n",
              "169    Yes  Sat  Dinner   2.0\n",
              "31      No  NaN  Dinner   NaN\n",
              "112     No  Sun  Dinner   3.0\n",
              "187    Yes  NaN  Dinner   NaN"
            ]
          },
          "metadata": {
            "tags": []
          }
        },
        {
          "output_type": "display_data",
          "data": {
            "text/html": [
              "<div>\n",
              "<style scoped>\n",
              "    .dataframe tbody tr th:only-of-type {\n",
              "        vertical-align: middle;\n",
              "    }\n",
              "\n",
              "    .dataframe tbody tr th {\n",
              "        vertical-align: top;\n",
              "    }\n",
              "\n",
              "    .dataframe thead th {\n",
              "        text-align: right;\n",
              "    }\n",
              "</style>\n",
              "<table border=\"1\" class=\"dataframe\">\n",
              "  <thead>\n",
              "    <tr style=\"text-align: right;\">\n",
              "      <th></th>\n",
              "      <th>smoker_No</th>\n",
              "      <th>smoker_Yes</th>\n",
              "      <th>day_Sat</th>\n",
              "      <th>day_Sun</th>\n",
              "      <th>day_missing</th>\n",
              "      <th>time_Dinner</th>\n",
              "      <th>size</th>\n",
              "    </tr>\n",
              "  </thead>\n",
              "  <tbody>\n",
              "    <tr>\n",
              "      <th>0</th>\n",
              "      <td>0.0</td>\n",
              "      <td>1.0</td>\n",
              "      <td>1.0</td>\n",
              "      <td>0.0</td>\n",
              "      <td>0.0</td>\n",
              "      <td>1.0</td>\n",
              "      <td>0.0</td>\n",
              "    </tr>\n",
              "    <tr>\n",
              "      <th>1</th>\n",
              "      <td>1.0</td>\n",
              "      <td>0.0</td>\n",
              "      <td>0.0</td>\n",
              "      <td>0.0</td>\n",
              "      <td>1.0</td>\n",
              "      <td>1.0</td>\n",
              "      <td>0.5</td>\n",
              "    </tr>\n",
              "    <tr>\n",
              "      <th>2</th>\n",
              "      <td>1.0</td>\n",
              "      <td>0.0</td>\n",
              "      <td>0.0</td>\n",
              "      <td>1.0</td>\n",
              "      <td>0.0</td>\n",
              "      <td>1.0</td>\n",
              "      <td>1.0</td>\n",
              "    </tr>\n",
              "    <tr>\n",
              "      <th>3</th>\n",
              "      <td>0.0</td>\n",
              "      <td>1.0</td>\n",
              "      <td>0.0</td>\n",
              "      <td>0.0</td>\n",
              "      <td>1.0</td>\n",
              "      <td>1.0</td>\n",
              "      <td>0.5</td>\n",
              "    </tr>\n",
              "  </tbody>\n",
              "</table>\n",
              "</div>"
            ],
            "text/plain": [
              "   smoker_No  smoker_Yes  day_Sat  day_Sun  day_missing  time_Dinner  size\n",
              "0        0.0         1.0      1.0      0.0          0.0          1.0   0.0\n",
              "1        1.0         0.0      0.0      0.0          1.0          1.0   0.5\n",
              "2        1.0         0.0      0.0      1.0          0.0          1.0   1.0\n",
              "3        0.0         1.0      0.0      0.0          1.0          1.0   0.5"
            ]
          },
          "metadata": {
            "tags": []
          }
        },
        {
          "output_type": "stream",
          "text": [
            "******************** Test data ********************\n"
          ],
          "name": "stdout"
        },
        {
          "output_type": "display_data",
          "data": {
            "text/html": [
              "<div>\n",
              "<style scoped>\n",
              "    .dataframe tbody tr th:only-of-type {\n",
              "        vertical-align: middle;\n",
              "    }\n",
              "\n",
              "    .dataframe tbody tr th {\n",
              "        vertical-align: top;\n",
              "    }\n",
              "\n",
              "    .dataframe thead th {\n",
              "        text-align: right;\n",
              "    }\n",
              "</style>\n",
              "<table border=\"1\" class=\"dataframe\">\n",
              "  <thead>\n",
              "    <tr style=\"text-align: right;\">\n",
              "      <th></th>\n",
              "      <th>smoker</th>\n",
              "      <th>day</th>\n",
              "      <th>time</th>\n",
              "      <th>size</th>\n",
              "    </tr>\n",
              "  </thead>\n",
              "  <tbody>\n",
              "    <tr>\n",
              "      <th>19</th>\n",
              "      <td>No</td>\n",
              "      <td>NaN</td>\n",
              "      <td>Dinner</td>\n",
              "      <td>NaN</td>\n",
              "    </tr>\n",
              "  </tbody>\n",
              "</table>\n",
              "</div>"
            ],
            "text/plain": [
              "   smoker  day    time  size\n",
              "19     No  NaN  Dinner   NaN"
            ]
          },
          "metadata": {
            "tags": []
          }
        },
        {
          "output_type": "display_data",
          "data": {
            "text/html": [
              "<div>\n",
              "<style scoped>\n",
              "    .dataframe tbody tr th:only-of-type {\n",
              "        vertical-align: middle;\n",
              "    }\n",
              "\n",
              "    .dataframe tbody tr th {\n",
              "        vertical-align: top;\n",
              "    }\n",
              "\n",
              "    .dataframe thead th {\n",
              "        text-align: right;\n",
              "    }\n",
              "</style>\n",
              "<table border=\"1\" class=\"dataframe\">\n",
              "  <thead>\n",
              "    <tr style=\"text-align: right;\">\n",
              "      <th></th>\n",
              "      <th>smoker_No</th>\n",
              "      <th>smoker_Yes</th>\n",
              "      <th>day_Sat</th>\n",
              "      <th>day_Sun</th>\n",
              "      <th>day_missing</th>\n",
              "      <th>time_Dinner</th>\n",
              "      <th>size</th>\n",
              "    </tr>\n",
              "  </thead>\n",
              "  <tbody>\n",
              "    <tr>\n",
              "      <th>0</th>\n",
              "      <td>1.0</td>\n",
              "      <td>0.0</td>\n",
              "      <td>0.0</td>\n",
              "      <td>0.0</td>\n",
              "      <td>1.0</td>\n",
              "      <td>1.0</td>\n",
              "      <td>0.5</td>\n",
              "    </tr>\n",
              "  </tbody>\n",
              "</table>\n",
              "</div>"
            ],
            "text/plain": [
              "   smoker_No  smoker_Yes  day_Sat  day_Sun  day_missing  time_Dinner  size\n",
              "0        1.0         0.0      0.0      0.0          1.0          1.0   0.5"
            ]
          },
          "metadata": {
            "tags": []
          }
        }
      ]
    },
    {
      "cell_type": "markdown",
      "metadata": {
        "id": "D-k3Kf3z1YdE"
      },
      "source": [
        "![image.png](data:image/png;base64,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)"
      ]
    },
    {
      "cell_type": "code",
      "metadata": {
        "colab": {
          "base_uri": "https://localhost:8080/"
        },
        "id": "MSIr6mkq0_VB",
        "outputId": "f98f3500-75c3-4b87-e072-89bfb0186fbc"
      },
      "source": [
        "\"\"\"\n",
        "Add model to example\n",
        "\"\"\"\n",
        "\n",
        "# Define categorical pipeline\n",
        "cat_pipe = Pipeline([\n",
        "    ('selector', ColumnSelector(categorical)),\n",
        "    ('imputer', SimpleImputer(strategy='constant', fill_value='missing')),\n",
        "    ('encoder', OneHotEncoder(handle_unknown='ignore', sparse=False))\n",
        "])\n",
        "\n",
        "# Define numerical pipeline\n",
        "num_pipe = Pipeline([\n",
        "    ('selector', ColumnSelector(numerical)),\n",
        "    ('imputer', SimpleImputer(strategy='median')),\n",
        "    ('scaler', MinMaxScaler())\n",
        "])\n",
        "\n",
        "# Combine categorical and numerical pipeline\n",
        "preprocessor = FeatureUnion([\n",
        "    ('cat', cat_pipe),\n",
        "    ('num', num_pipe)\n",
        "])\n",
        "\n",
        "# Combine categorical and numerical pipeline\n",
        "pipe = Pipeline([\n",
        "    ('preprocessor', preprocessor),\n",
        "    ('model', LinearRegression())\n",
        "])\n",
        "pipe.fit(X_train, y_train)\n",
        "\n",
        "# Predict training data\n",
        "y_train_pred = pipe.predict(X_train)\n",
        "print(f\"Predictions on training data: {y_train_pred}\")\n",
        "\n",
        "# Predict test data\n",
        "y_test_pred = pipe.predict(X_test)\n",
        "print(f\"Predictions on test data: {y_test_pred}\")"
      ],
      "execution_count": 19,
      "outputs": [
        {
          "output_type": "stream",
          "text": [
            "Predictions on training data: [10.63 18.35 38.07 30.46]\n",
            "Predictions on test data: [18.35]\n"
          ],
          "name": "stdout"
        }
      ]
    },
    {
      "cell_type": "markdown",
      "metadata": {
        "id": "uI5S7QrF1hs-"
      },
      "source": [
        "When do you use `FeatureUnion` over `ColumnTransformer`?\n",
        "\n",
        "If you ever need to transform the same input data in different ways and use them as features, `FeatureUnion` is the one. For example, if you are working on a text data and want to do both tf-idf vectorization of the data as well as extract length of text, FeatureUnion is the perfect tool.\n",
        "\n",
        "***\n",
        "\n",
        "# Summary\n",
        "\n",
        "![image.png](data:image/png;base64,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)"
      ]
    }
  ]
}