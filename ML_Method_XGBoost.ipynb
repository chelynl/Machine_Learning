{
  "nbformat": 4,
  "nbformat_minor": 0,
  "metadata": {
    "colab": {
      "name": "ML Method - XGBoost.ipynb",
      "provenance": [],
      "collapsed_sections": [],
      "authorship_tag": "ABX9TyOq+n30u2aFrXG7G4I4mx+s",
      "include_colab_link": true
    },
    "kernelspec": {
      "name": "python3",
      "display_name": "Python 3"
    }
  },
  "cells": [
    {
      "cell_type": "markdown",
      "metadata": {
        "id": "view-in-github",
        "colab_type": "text"
      },
      "source": [
        "<a href=\"https://colab.research.google.com/github/chelynl/Machine_Learning/blob/main/ML_Method_XGBoost.ipynb\" target=\"_parent\"><img src=\"https://colab.research.google.com/assets/colab-badge.svg\" alt=\"Open In Colab\"/></a>"
      ]
    },
    {
      "cell_type": "code",
      "metadata": {
        "id": "bOi5WZOHBB0E"
      },
      "source": [
        "# Import Data\n",
        "from google.colab import files \n",
        "import pandas as pd \n",
        "import io \n",
        "\n",
        "# Data Wrangling and Plotting\n",
        "import numpy as np\n",
        "import matplotlib.pyplot as plt\n",
        "import seaborn as sns\n",
        "\n",
        "# Gradient Boost\n",
        "import xgboost as xgb # xgboost\n",
        "import lightgbm as lgb\n",
        "from lightgbm import LGBMClassifier\n",
        "\n",
        "# Accuracy Metrics\n",
        "from sklearn.metrics import accuracy_score, roc_auc_score, mean_squared_error, classification_report, confusion_matrix, plot_confusion_matrix\n",
        "\n",
        "# Hyperparameter tuning\n",
        "from sklearn.model_selection import RandomizedSearchCV\n",
        "from sklearn.model_selection import GridSearchCV"
      ],
      "execution_count": null,
      "outputs": []
    },
    {
      "cell_type": "code",
      "metadata": {
        "colab": {
          "resources": {
            "http://localhost:8080/nbextensions/google.colab/files.js": {
              "data": "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",
              "ok": true,
              "headers": [
                [
                  "content-type",
                  "application/javascript"
                ]
              ],
              "status": 200,
              "status_text": ""
            }
          },
          "base_uri": "https://localhost:8080/",
          "height": 174
        },
        "id": "KRL2FN2gBRzN",
        "outputId": "b27af9e8-eaf7-4614-f741-eb656ded1287"
      },
      "source": [
        "uploaded = files.upload()"
      ],
      "execution_count": null,
      "outputs": [
        {
          "output_type": "display_data",
          "data": {
            "text/html": [
              "\n",
              "     <input type=\"file\" id=\"files-94857be7-dd4d-4925-a2eb-b4a58862747d\" name=\"files[]\" multiple disabled\n",
              "        style=\"border:none\" />\n",
              "     <output id=\"result-94857be7-dd4d-4925-a2eb-b4a58862747d\">\n",
              "      Upload widget is only available when the cell has been executed in the\n",
              "      current browser session. Please rerun this cell to enable.\n",
              "      </output>\n",
              "      <script src=\"/nbextensions/google.colab/files.js\"></script> "
            ],
            "text/plain": [
              "<IPython.core.display.HTML object>"
            ]
          },
          "metadata": {
            "tags": []
          }
        },
        {
          "output_type": "stream",
          "text": [
            "Saving reduced_test.csv to reduced_test.csv\n",
            "Saving reduced_train.csv to reduced_train.csv\n",
            "Saving reduced_train_valid.csv to reduced_train_valid.csv\n",
            "Saving reduced_valid.csv to reduced_valid.csv\n"
          ],
          "name": "stdout"
        }
      ]
    },
    {
      "cell_type": "code",
      "metadata": {
        "id": "hy4k2CVlBaqA"
      },
      "source": [
        "train_df = pd.read_csv(io.BytesIO(uploaded['reduced_train.csv'])) \n",
        "valid_df = pd.read_csv(io.BytesIO(uploaded['reduced_valid.csv']))\n",
        "train_valid_df = pd.read_csv(io.BytesIO(uploaded['reduced_train_valid.csv']))\n",
        "test_df = pd.read_csv(io.BytesIO(uploaded['reduced_test.csv']))"
      ],
      "execution_count": null,
      "outputs": []
    },
    {
      "cell_type": "code",
      "metadata": {
        "id": "V4pFlWyOBgur"
      },
      "source": [
        "# Get inputs and outputs as separate dfs on training data\n",
        "X_train = train_df.drop(['binary.target2'], axis=1)\n",
        "y_train = train_df['binary.target2']\n",
        "\n",
        "# Repeat for validation data\n",
        "X_valid = valid_df.drop(['binary.target2'], axis=1)\n",
        "y_valid = valid_df['binary.target2']\n",
        "\n",
        "# Convert input and output dfs to arrays for sklearn\n",
        "X_train = np.array(X_train)\n",
        "y_train = np.ravel(np.array(y_train))\n",
        "\n",
        "# Repeat for validation data\n",
        "X_valid = np.array(X_valid)\n",
        "y_valid = np.ravel(np.array(y_valid))"
      ],
      "execution_count": null,
      "outputs": []
    },
    {
      "cell_type": "markdown",
      "metadata": {
        "id": "O6uPyBo0HBws"
      },
      "source": [
        "Hyperparameter Tuning:\n",
        "- `Grid Search` can be time consuming so an alternative way to find the best parameters is to tune parameters one at a time, keep all others constant in an attempt to isolate their effects\n",
        "- We will use the following parameters for the `default model` (when parameters are held constant)\n",
        " - learning_rate = 0.1\n",
        " - colsample_bylevel = 0.67\n",
        " - max_depth = 5\n",
        " - subsample = 0.75"
      ]
    },
    {
      "cell_type": "code",
      "metadata": {
        "id": "qud0N9jeGe6E"
      },
      "source": [
        "# learning rate (eta) candidates\n",
        "eta = np.array([0.01, 0.1, 0.25, 0.5, .6, 0.7])\n",
        "\n",
        "# colsample_bylevel candidates\n",
        "cs = np.array([.33, .67 ,1])\n",
        "\n",
        "# max_depth candidates\n",
        "md = np.array([3, 5, 7, 9])\n",
        "\n",
        "# subsample candidates\n",
        "ss = np.array([0.25, 0.5, 0.75, 1])\n",
        "\n",
        "# coordinates of default model in terms of the entries in the arrays above\n",
        "default = np.array([1, 1, 1, 2])"
      ],
      "execution_count": null,
      "outputs": []
    },
    {
      "cell_type": "markdown",
      "metadata": {
        "id": "_lKNEBW5HM3-"
      },
      "source": [
        "Tuning learning rate (eta)"
      ]
    },
    {
      "cell_type": "code",
      "metadata": {
        "colab": {
          "base_uri": "https://localhost:8080/",
          "height": 312
        },
        "id": "ejQ0UxlWGw8Z",
        "outputId": "74b9b454-1048-4bad-84a8-7bbd4972a2ac"
      },
      "source": [
        "# fixed number of rounds (increasing number of trees used)\n",
        "nrounds = 100\n",
        "\n",
        "# make col names\n",
        "columns = []\n",
        "for e in eta:\n",
        "    columns.append('eta '+ str(e))\n",
        "\n",
        "# create empty dfs to hold the convergence and prediction results for our search over eta\n",
        "conv_eta = pd.DataFrame(np.nan, index=list(range(1, nrounds+1)), columns=columns)\n",
        "pred_eta = pd.DataFrame(np.nan, index=list(range(1, valid_df.shape[0]+1)), columns=columns)\n",
        "\n",
        "for i in range(len(eta)):\n",
        "    \n",
        "    # Make model with changing eta values keeping all else constant\n",
        "    clf_xgb = xgb.XGBClassifier(objective='binary:logistic',\n",
        "                                n_estimators = nrounds,\n",
        "                               learning_rate = eta[i],\n",
        "                                colsample_bylevel = cs[default[1]],\n",
        "                                max_depth = md[default[2]],\n",
        "                                subsample = ss[default[3]],\n",
        "                               n_jobs = -1) # use more processing power\n",
        "    \n",
        "    # create the trees\n",
        "    clf_xgb.fit(X_train, \n",
        "            y_train, \n",
        "            verbose=False, \n",
        "            eval_metric='error', \n",
        "            eval_set=[(X_valid, y_valid)])\n",
        "    \n",
        "    # Add error and predictions to conv and pred dfs\n",
        "    conv_eta.iloc[:,i] = clf_xgb.evals_result()['validation_0']['error']\n",
        "    pred_eta.iloc[:,i] = clf_xgb.predict(X_valid)\n",
        "\n",
        "conv_eta['iter'] = list(range(1,nrounds+1))\n",
        "conv_eta_long = pd.melt(conv_eta, id_vars='iter', var_name='eta', value_name='error')\n",
        "\n",
        "sns.lineplot(x='iter', y='error', hue='eta', data=conv_eta_long)\n",
        "plt.title('Convergence on Training for Each Eta')\n",
        "plt.ylabel('Error')\n",
        "plt.xlabel('Iter')\n",
        "plt.legend(bbox_to_anchor=(1.05, 1), loc='upper left')"
      ],
      "execution_count": null,
      "outputs": [
        {
          "output_type": "execute_result",
          "data": {
            "text/plain": [
              "<matplotlib.legend.Legend at 0x7f135aa02898>"
            ]
          },
          "metadata": {
            "tags": []
          },
          "execution_count": 6
        },
        {
          "output_type": "display_data",
          "data": {
            "image/png": "[encoded data removed]",
            "text/plain": [
              "<Figure size 432x288 with 1 Axes>"
            ]
          },
          "metadata": {
            "tags": [],
            "needs_background": "light"
          }
        }
      ]
    },
    {
      "cell_type": "markdown",
      "metadata": {
        "id": "9hBj5XYXK9jh"
      },
      "source": [
        "Tuning colsample_bylevel"
      ]
    },
    {
      "cell_type": "code",
      "metadata": {
        "colab": {
          "base_uri": "https://localhost:8080/",
          "height": 312
        },
        "id": "Q46ZU4vtHhp_",
        "outputId": "7a0bb005-fef8-46dd-b2a4-d3733bb65f10"
      },
      "source": [
        "# fixed number of rounds (increasing number of trees used)\n",
        "nrounds = 100\n",
        "\n",
        "# make col names\n",
        "columns = []\n",
        "for c in cs:\n",
        "    columns.append('cs '+ str(c))\n",
        "\n",
        "# create empty dfs to hold the convergence and prediction results for our search over cs\n",
        "conv_cs = pd.DataFrame(np.nan, index=list(range(1, nrounds+1)), columns=columns)\n",
        "pred_cs = pd.DataFrame(np.nan, index=list(range(1, valid_df.shape[0]+1)), columns=columns)\n",
        "\n",
        "for i in range(len(cs)):    \n",
        "    # Make model with changing cs values keeping all else constant\n",
        "    clf_xgb = xgb.XGBClassifier(objective='binary:logistic',\n",
        "                                n_estimators = nrounds,\n",
        "                               learning_rate = eta[default[0]],\n",
        "                                colsample_bylevel = cs[i],\n",
        "                                max_depth = md[default[2]],\n",
        "                                subsample = ss[default[3]])\n",
        "    # create the trees\n",
        "    clf_xgb.fit(X_train, \n",
        "            y_train, \n",
        "            verbose=False, \n",
        "            eval_metric='error', \n",
        "            eval_set=[(X_valid, y_valid)])\n",
        "    # Add error and predictions to conv and pred dfs\n",
        "    conv_cs.iloc[:,i] = clf_xgb.evals_result()['validation_0']['error']\n",
        "    pred_cs.iloc[:,i] = clf_xgb.predict(X_valid)\n",
        "\n",
        "# add iter column and melt df\n",
        "conv_cs['iter'] = list(range(1,nrounds+1))\n",
        "conv_cs_long = pd.melt(conv_cs, id_vars='iter', var_name='cs', value_name='error')\n",
        "\n",
        "# plot\n",
        "sns.lineplot(x='iter', y='error', hue='cs', data=conv_cs_long)\n",
        "plt.title('Convergence on Training for Each colsample_bylevel')\n",
        "plt.ylabel('Error')\n",
        "plt.xlabel('Iter')\n",
        "plt.legend(bbox_to_anchor=(1.05, 1), loc='upper left')"
      ],
      "execution_count": null,
      "outputs": [
        {
          "output_type": "execute_result",
          "data": {
            "text/plain": [
              "<matplotlib.legend.Legend at 0x7f138505a898>"
            ]
          },
          "metadata": {
            "tags": []
          },
          "execution_count": 7
        },
        {
          "output_type": "display_data",
          "data": {
            "image/png": "[encoded data removed]",
            "text/plain": [
              "<Figure size 432x288 with 1 Axes>"
            ]
          },
          "metadata": {
            "tags": [],
            "needs_background": "light"
          }
        }
      ]
    },
    {
      "cell_type": "markdown",
      "metadata": {
        "id": "8iWZ4VP1LL1M"
      },
      "source": [
        "Tuning max_depth"
      ]
    },
    {
      "cell_type": "code",
      "metadata": {
        "colab": {
          "base_uri": "https://localhost:8080/",
          "height": 312
        },
        "id": "bPlQinAaLKji",
        "outputId": "9045b589-a832-46f8-df73-aeb290a4401c"
      },
      "source": [
        "# fixed number of rounds (increasing number of trees used)\n",
        "nrounds = 100\n",
        "\n",
        "# make col names\n",
        "columns = []\n",
        "for m in md:\n",
        "    columns.append('md '+ str(m))\n",
        "\n",
        "# create empty dfs to hold the convergence and prediction results for our search over md\n",
        "conv_md = pd.DataFrame(np.nan, index=list(range(1, nrounds+1)), columns=columns)\n",
        "pred_md = pd.DataFrame(np.nan, index=list(range(1, valid_df.shape[0]+1)), columns=columns)\n",
        "\n",
        "for i in range(len(md)):    \n",
        "    # Make model with changing md values keeping all else constant\n",
        "    clf_xgb = xgb.XGBClassifier(objective='binary:logistic',\n",
        "                                n_estimators = nrounds,\n",
        "                               learning_rate = eta[default[0]],\n",
        "                                colsample_bylevel = cs[default[1]],\n",
        "                                max_depth = md[i],\n",
        "                                subsample = ss[default[3]])\n",
        "    # create the trees\n",
        "    clf_xgb.fit(X_train, \n",
        "            y_train, \n",
        "            verbose=False, \n",
        "            eval_metric='error', \n",
        "            eval_set=[(X_valid, y_valid)])\n",
        "    # Add error and predictions to conv and pred dfs\n",
        "    conv_md.iloc[:,i] = clf_xgb.evals_result()['validation_0']['error']\n",
        "    pred_md.iloc[:,i] = clf_xgb.predict(X_valid)\n",
        "\n",
        "# add iter column and melt df\n",
        "conv_md['iter'] = list(range(1,nrounds+1))\n",
        "conv_md_long = pd.melt(conv_md, id_vars='iter', var_name='md', value_name='error')\n",
        "\n",
        "# plot\n",
        "sns.lineplot(x='iter', y='error', hue='md', data=conv_md_long)\n",
        "plt.title('Convergence on Training for Each max_depth')\n",
        "plt.ylabel('Error')\n",
        "plt.xlabel('Iter')\n",
        "plt.legend(bbox_to_anchor=(1.05, 1), loc='upper left')"
      ],
      "execution_count": null,
      "outputs": [
        {
          "output_type": "execute_result",
          "data": {
            "text/plain": [
              "<matplotlib.legend.Legend at 0x7f1359bcee48>"
            ]
          },
          "metadata": {
            "tags": []
          },
          "execution_count": 8
        },
        {
          "output_type": "display_data",
          "data": {
            "image/png": "[encoded data removed]",
            "text/plain": [
              "<Figure size 432x288 with 1 Axes>"
            ]
          },
          "metadata": {
            "tags": [],
            "needs_background": "light"
          }
        }
      ]
    },
    {
      "cell_type": "markdown",
      "metadata": {
        "id": "XLao1ir5LdjB"
      },
      "source": [
        "Tuning Subsample"
      ]
    },
    {
      "cell_type": "code",
      "metadata": {
        "colab": {
          "base_uri": "https://localhost:8080/",
          "height": 312
        },
        "id": "HiRKhsUXLg-f",
        "outputId": "59fc777f-ec9b-4bc2-c297-22b246d8a512"
      },
      "source": [
        "# fixed number of rounds (increasing number of trees used)\n",
        "nrounds = 100\n",
        "\n",
        "# make col names\n",
        "columns = []\n",
        "for s in ss:\n",
        "    columns.append('ss '+ str(s))\n",
        "\n",
        "# create empty dfs to hold the convergence and prediction results for our search over ss\n",
        "conv_ss = pd.DataFrame(np.nan, index=list(range(1, nrounds+1)), columns=columns)\n",
        "pred_ss = pd.DataFrame(np.nan, index=list(range(1, valid_df.shape[0]+1)), columns=columns)\n",
        "\n",
        "for i in range(len(ss)):    \n",
        "    # Make model with changing cs values keeping all else constant\n",
        "    clf_xgb = xgb.XGBClassifier(objective='binary:logistic',\n",
        "                                n_estimators = nrounds,\n",
        "                               learning_rate = eta[default[0]],\n",
        "                                colsample_bylevel = cs[default[1]],\n",
        "                                max_depth = md[default[2]],\n",
        "                                subsample = ss[i])\n",
        "    # create the trees\n",
        "    clf_xgb.fit(X_train, \n",
        "            y_train, \n",
        "            verbose=False, \n",
        "            eval_metric='error', \n",
        "            eval_set=[(X_valid, y_valid)])\n",
        "    # Add error and predictions to conv and pred dfs\n",
        "    conv_ss.iloc[:,i] = clf_xgb.evals_result()['validation_0']['error']\n",
        "    pred_ss.iloc[:,i] = clf_xgb.predict(X_valid)\n",
        "\n",
        "# add iter column and melt df\n",
        "conv_ss['iter'] = list(range(1,nrounds+1))\n",
        "conv_ss_long = pd.melt(conv_ss, id_vars='iter', var_name='ss', value_name='error')\n",
        "\n",
        "# plot\n",
        "sns.lineplot(x='iter', y='error', hue='ss', data=conv_ss_long)\n",
        "plt.title('Convergence on Training for Each subsample')\n",
        "plt.ylabel('Error')\n",
        "plt.xlabel('Iter')\n",
        "plt.legend(bbox_to_anchor=(1.05, 1), loc='upper left')"
      ],
      "execution_count": null,
      "outputs": [
        {
          "output_type": "execute_result",
          "data": {
            "text/plain": [
              "<matplotlib.legend.Legend at 0x7f135a1c5630>"
            ]
          },
          "metadata": {
            "tags": []
          },
          "execution_count": 9
        },
        {
          "output_type": "display_data",
          "data": {
            "image/png": "[encoded data removed]",
            "text/plain": [
              "<Figure size 432x288 with 1 Axes>"
            ]
          },
          "metadata": {
            "tags": [],
            "needs_background": "light"
          }
        }
      ]
    },
    {
      "cell_type": "markdown",
      "metadata": {
        "id": "72qYnVv9LpdP"
      },
      "source": [
        "Train model with final parameters"
      ]
    },
    {
      "cell_type": "code",
      "metadata": {
        "colab": {
          "base_uri": "https://localhost:8080/"
        },
        "id": "RLQgATrTLumq",
        "outputId": "cbf83fcd-e397-423f-bfae-149ad9ac06d3"
      },
      "source": [
        "clf_xgb = xgb.XGBClassifier(objective = 'binary:logistic', \n",
        "                            n_estimators = 20,\n",
        "                            learn_rate = 0.01, \n",
        "                            max_depth = 3,\n",
        "                            reg_lambda = 10, \n",
        "                            subsample = 1, \n",
        "                            colsample_bylevel = 0.33)\n",
        "\n",
        "clf_xgb.fit(X_train, \n",
        "            y_train, \n",
        "            verbose=True,  \n",
        "            eval_metric='auc',\n",
        "            early_stopping_rounds = 10,\n",
        "            eval_set=[(X_valid, y_valid)])\n",
        "\n",
        "# make predictions on our test data\n",
        "y_pred = clf_xgb.predict(X_valid)\n",
        "\n",
        "# Confusion matrix\n",
        "print(confusion_matrix(y_valid, y_pred))\n",
        "\n",
        "# More classification metrics\n",
        "print(classification_report(y_valid, y_pred))\n",
        "\n",
        "# 0.791036 AUC\n",
        "\n",
        "cm = confusion_matrix(y_valid, y_pred)\n",
        "FP = cm.sum(axis=0) - np.diag(cm)\n",
        "FN = cm.sum(axis=1) - np.diag(cm)\n",
        "TP = np.diag(cm)\n",
        "TN = cm.sum() - (FP + FN + TP)\n",
        "FPR = FP[1]/(FP[1] + TN[0])\n",
        "print('FPR: ', FPR)\n",
        "\n",
        "accuracy = accuracy_score(y_valid, y_pred)\n",
        "print('Accuracy: ', accuracy)"
      ],
      "execution_count": null,
      "outputs": [
        {
          "output_type": "stream",
          "text": [
            "[0]\tvalidation_0-auc:0.669931\n",
            "Will train until validation_0-auc hasn't improved in 10 rounds.\n",
            "[1]\tvalidation_0-auc:0.729863\n",
            "[2]\tvalidation_0-auc:0.748066\n",
            "[3]\tvalidation_0-auc:0.752225\n",
            "[4]\tvalidation_0-auc:0.752633\n",
            "[5]\tvalidation_0-auc:0.758032\n",
            "[6]\tvalidation_0-auc:0.768323\n",
            "[7]\tvalidation_0-auc:0.774909\n",
            "[8]\tvalidation_0-auc:0.777306\n",
            "[9]\tvalidation_0-auc:0.781135\n",
            "[10]\tvalidation_0-auc:0.78097\n",
            "[11]\tvalidation_0-auc:0.780245\n",
            "[12]\tvalidation_0-auc:0.781305\n",
            "[13]\tvalidation_0-auc:0.783399\n",
            "[14]\tvalidation_0-auc:0.784069\n",
            "[15]\tvalidation_0-auc:0.78426\n",
            "[16]\tvalidation_0-auc:0.786514\n",
            "[17]\tvalidation_0-auc:0.788348\n",
            "[18]\tvalidation_0-auc:0.789069\n",
            "[19]\tvalidation_0-auc:0.791036\n",
            "[[81263  1621]\n",
            " [14377  2739]]\n",
            "              precision    recall  f1-score   support\n",
            "\n",
            "           0       0.85      0.98      0.91     82884\n",
            "           1       0.63      0.16      0.26     17116\n",
            "\n",
            "    accuracy                           0.84    100000\n",
            "   macro avg       0.74      0.57      0.58    100000\n",
            "weighted avg       0.81      0.84      0.80    100000\n",
            "\n",
            "FPR:  0.37178899082568806\n",
            "Accuracy:  0.84002\n"
          ],
          "name": "stdout"
        }
      ]
    },
    {
      "cell_type": "markdown",
      "metadata": {
        "id": "3op-BOFNzMya"
      },
      "source": [
        "# Light GBM\n",
        "Now we will try Light GBM, which is a gradient boosting framework that grows trees vertically (leaf-wise) rather than horizontally (level-wise).\n",
        "\n",
        "\n",
        "LightGBM can handle larger data faster than other tree-based algorithms and uses less memory to run. It focuses on accuracy of results and supports GPU learning.\n",
        "\n",
        "It is best to use LightGBM on data larger than 10k rows due to its sensitivity to overfitting.\n",
        "\n",
        "Resources:<br>\n",
        "https://medium.com/@pushkarmandot/https-medium-com-pushkarmandot-what-is-lightgbm-how-to-implement-it-how-to-fine-tune-the-parameters-60347819b7fc"
      ]
    },
    {
      "cell_type": "markdown",
      "metadata": {
        "id": "NYdG9txqn4e4"
      },
      "source": [
        "### Option 1: using sklearn interface to train and predict model"
      ]
    },
    {
      "cell_type": "code",
      "metadata": {
        "id": "ebxvOvR9N9Rg"
      },
      "source": [
        "# Prelim LightGBM\n",
        "lgb_clf = LGBMClassifier(random_state=45)"
      ],
      "execution_count": null,
      "outputs": []
    },
    {
      "cell_type": "code",
      "metadata": {
        "colab": {
          "base_uri": "https://localhost:8080/"
        },
        "id": "JPOYIUSQz87f",
        "outputId": "0252ad5c-d9cf-4c53-fed0-2bb02201e54b"
      },
      "source": [
        "%%time\n",
        "lgb_clf.fit(X_train, y_train)"
      ],
      "execution_count": null,
      "outputs": [
        {
          "output_type": "stream",
          "text": [
            "CPU times: user 2.82 s, sys: 10 ms, total: 2.83 s\n",
            "Wall time: 2.85 s\n"
          ],
          "name": "stdout"
        },
        {
          "output_type": "execute_result",
          "data": {
            "text/plain": [
              "LGBMClassifier(boosting_type='gbdt', class_weight=None, colsample_bytree=1.0,\n",
              "               importance_type='split', learning_rate=0.1, max_depth=-1,\n",
              "               min_child_samples=20, min_child_weight=0.001, min_split_gain=0.0,\n",
              "               n_estimators=100, n_jobs=-1, num_leaves=31, objective=None,\n",
              "               random_state=45, reg_alpha=0.0, reg_lambda=0.0, silent=True,\n",
              "               subsample=1.0, subsample_for_bin=200000, subsample_freq=0)"
            ]
          },
          "metadata": {
            "tags": []
          },
          "execution_count": 12
        }
      ]
    },
    {
      "cell_type": "code",
      "metadata": {
        "colab": {
          "base_uri": "https://localhost:8080/"
        },
        "id": "yCmCT7Yjz-IW",
        "outputId": "06364b74-744f-48de-a571-15f1cc957e8d"
      },
      "source": [
        "y_pred = lgb_clf.predict(X_valid)\n",
        "\n",
        "# LightGBM accuracy score out of the box\n",
        "accuracy_score(y_valid, y_pred)"
      ],
      "execution_count": null,
      "outputs": [
        {
          "output_type": "execute_result",
          "data": {
            "text/plain": [
              "0.82498"
            ]
          },
          "metadata": {
            "tags": []
          },
          "execution_count": 13
        }
      ]
    },
    {
      "cell_type": "markdown",
      "metadata": {
        "id": "26g6be-Hd5dG"
      },
      "source": [
        "## LightGBM Hyperparameter Tuning\n",
        "\n",
        "Below, I will attempt to tune the hyperparameters using multiple methods.\n",
        "\n",
        "<u>First method</u>\n",
        "- Perform grid search on small subset of parameters normally used for xgboost\n",
        "\n",
        "<u>Second method</u>\n",
        "- Perform grid search in 2 sections\n",
        "- first half addressing model complexity (num_leaves, max_depth, and/or regularization)\n",
        "- second half addressing convergence (learning rate, num of iterations)\n",
        "\n",
        "<u>Third method</u>\n",
        "- random grid search using lightGBM training API"
      ]
    },
    {
      "cell_type": "markdown",
      "metadata": {
        "id": "EbIKcmpXcWun"
      },
      "source": [
        "<b>Grid Search using small subset of xgboost parameters</b>"
      ]
    },
    {
      "cell_type": "code",
      "metadata": {
        "colab": {
          "base_uri": "https://localhost:8080/"
        },
        "id": "OaP9Uc4RcAT6",
        "outputId": "0a07a18d-df03-48ea-8095-dd00ae34c3da"
      },
      "source": [
        "# Cross validation with 3 folds\n",
        "folds = 3\n",
        "\n",
        "# Instantiate LightGBM for classification\n",
        "lgb_clf = lgb.LGBMClassifier(objective='binary', metric='auc')\n",
        "\n",
        "# A parameter grid for XGBoost\n",
        "gs_params = {\n",
        "    'learning_rate': [.01, .05, .1],\n",
        "    'boosting_type': ['gbdt'],\n",
        "    'num_iterations': [500, 1000],\n",
        "    'sub_feature': [1]\n",
        "    }\n",
        "\n",
        "# Prepare grid search\n",
        "gridsearch = GridSearchCV(lgb_clf, param_grid=gs_params, scoring='roc_auc', n_jobs=4, verbose=2, cv = folds)\n",
        "\n",
        "# Perform grid search\n",
        "gridsearch.fit(X_train, y_train)\n",
        "\n",
        "# results\n",
        "print('All results: ', gridsearch.cv_results_)\n",
        "print('Best estimator: ', gridsearch.best_estimator_)\n",
        "print('Best Score: ', gridsearch.best_score_)\n",
        "print('Best hyperparameters: ', gridsearch.best_params_)\n",
        "gs_results = pd.DataFrame(gridsearch.cv_results_)"
      ],
      "execution_count": null,
      "outputs": [
        {
          "output_type": "stream",
          "text": [
            "Fitting 3 folds for each of 6 candidates, totalling 18 fits\n"
          ],
          "name": "stdout"
        },
        {
          "output_type": "stream",
          "text": [
            "[Parallel(n_jobs=4)]: Using backend LokyBackend with 4 concurrent workers.\n",
            "[Parallel(n_jobs=4)]: Done  18 out of  18 | elapsed:  3.9min finished\n",
            "/usr/local/lib/python3.6/dist-packages/lightgbm/engine.py:118: UserWarning: Found `num_iterations` in params. Will use it instead of argument\n",
            "  warnings.warn(\"Found `{}` in params. Will use it instead of argument\".format(alias))\n"
          ],
          "name": "stderr"
        },
        {
          "output_type": "stream",
          "text": [
            "All results:  {'mean_fit_time': array([35.05988646, 59.81438565, 26.68647869, 49.71354604, 25.843268  ,\n",
            "       41.05081693]), 'std_fit_time': array([0.87959658, 0.65368535, 0.41621968, 0.20338184, 1.29954285,\n",
            "       0.21634474]), 'mean_score_time': array([ 8.24370249, 19.69976338,  5.83341487, 16.57219871,  4.25396101,\n",
            "        9.1881849 ]), 'std_score_time': array([0.49186314, 0.3396961 , 0.58760503, 0.15277262, 0.75567016,\n",
            "       1.78942206]), 'param_boosting_type': masked_array(data=['gbdt', 'gbdt', 'gbdt', 'gbdt', 'gbdt', 'gbdt'],\n",
            "             mask=[False, False, False, False, False, False],\n",
            "       fill_value='?',\n",
            "            dtype=object), 'param_learning_rate': masked_array(data=[0.01, 0.01, 0.05, 0.05, 0.1, 0.1],\n",
            "             mask=[False, False, False, False, False, False],\n",
            "       fill_value='?',\n",
            "            dtype=object), 'param_num_iterations': masked_array(data=[500, 1000, 500, 1000, 500, 1000],\n",
            "             mask=[False, False, False, False, False, False],\n",
            "       fill_value='?',\n",
            "            dtype=object), 'param_sub_feature': masked_array(data=[1, 1, 1, 1, 1, 1],\n",
            "             mask=[False, False, False, False, False, False],\n",
            "       fill_value='?',\n",
            "            dtype=object), 'params': [{'boosting_type': 'gbdt', 'learning_rate': 0.01, 'num_iterations': 500, 'sub_feature': 1}, {'boosting_type': 'gbdt', 'learning_rate': 0.01, 'num_iterations': 1000, 'sub_feature': 1}, {'boosting_type': 'gbdt', 'learning_rate': 0.05, 'num_iterations': 500, 'sub_feature': 1}, {'boosting_type': 'gbdt', 'learning_rate': 0.05, 'num_iterations': 1000, 'sub_feature': 1}, {'boosting_type': 'gbdt', 'learning_rate': 0.1, 'num_iterations': 500, 'sub_feature': 1}, {'boosting_type': 'gbdt', 'learning_rate': 0.1, 'num_iterations': 1000, 'sub_feature': 1}], 'split0_test_score': array([0.75987416, 0.75493014, 0.7401989 , 0.72259523, 0.71782367,\n",
            "       0.7020301 ]), 'split1_test_score': array([0.7974858 , 0.7907893 , 0.76991374, 0.7531812 , 0.7464005 ,\n",
            "       0.72572095]), 'split2_test_score': array([0.79189643, 0.78750083, 0.77790125, 0.77006741, 0.76519446,\n",
            "       0.75958029]), 'mean_test_score': array([0.78308546, 0.77774009, 0.7626713 , 0.74861461, 0.74313954,\n",
            "       0.72911045]), 'std_test_score': array([0.01657073, 0.01618485, 0.01622152, 0.0196476 , 0.01947603,\n",
            "       0.02361669]), 'rank_test_score': array([1, 2, 3, 4, 5, 6], dtype=int32)}\n",
            "Best estimator:  LGBMClassifier(boosting_type='gbdt', class_weight=None, colsample_bytree=1.0,\n",
            "               importance_type='split', learning_rate=0.01, max_depth=-1,\n",
            "               metric='auc', min_child_samples=20, min_child_weight=0.001,\n",
            "               min_split_gain=0.0, n_estimators=100, n_jobs=-1,\n",
            "               num_iterations=500, num_leaves=31, objective='binary',\n",
            "               random_state=None, reg_alpha=0.0, reg_lambda=0.0, silent=True,\n",
            "               sub_feature=1, subsample=1.0, subsample_for_bin=200000,\n",
            "               subsample_freq=0)\n",
            "Best Score:  0.7830854629065817\n",
            "Best hyperparameters:  {'boosting_type': 'gbdt', 'learning_rate': 0.01, 'num_iterations': 500, 'sub_feature': 1}\n"
          ],
          "name": "stdout"
        }
      ]
    },
    {
      "cell_type": "code",
      "metadata": {
        "colab": {
          "base_uri": "https://localhost:8080/"
        },
        "id": "TO4cGwvwgPBw",
        "outputId": "7e8b97f3-7a5b-4c1c-d9d3-faef42cbe7f5"
      },
      "source": [
        "# Get Predictions for 1s\n",
        "gs_probs = gridsearch.predict_proba(X_valid)[:,1]\n",
        "\n",
        "# Convert probs to binary values\n",
        "cutoff  = .5 \n",
        "pred_list = []\n",
        "for i in gs_probs:\n",
        "    if i >= cutoff:\n",
        "        prediction = 1\n",
        "    else:\n",
        "        prediction = 0\n",
        "    pred_list.append(prediction)\n",
        "\n",
        "y_pred = np.array(pred_list)\n",
        "\n",
        "cm = confusion_matrix(y_valid, y_pred)\n",
        "FP = cm.sum(axis=0) - np.diag(cm)\n",
        "FN = cm.sum(axis=1) - np.diag(cm)\n",
        "TP = np.diag(cm)\n",
        "TN = cm.sum() - (FP + FN + TP)\n",
        "FPR = FP[1]/(FP[1] + TN[0])\n",
        "print('FPR: ', FPR)\n",
        "\n",
        "accuracy = accuracy_score(y_valid, y_pred)\n",
        "print('Accuracy: ', accuracy)"
      ],
      "execution_count": null,
      "outputs": [
        {
          "output_type": "stream",
          "text": [
            "FPR:  0.49463786136151694\n",
            "Accuracy:  0.83022\n"
          ],
          "name": "stdout"
        }
      ]
    },
    {
      "cell_type": "markdown",
      "metadata": {
        "id": "FXVaSPpWhLhA"
      },
      "source": [
        "<b>Grid Search in 2 sections</b>"
      ]
    },
    {
      "cell_type": "code",
      "metadata": {
        "colab": {
          "base_uri": "https://localhost:8080/"
        },
        "id": "p9vp3kc7hLFt",
        "outputId": "dd75da70-4346-415b-d948-1f7edbc59d05"
      },
      "source": [
        "# 1st Stage of Hyperparameter Tuning (for model complexity)\n",
        "param_grid = {'num_leaves':[7, 15, 31, 63],\n",
        "              'max_depth': [3, 4, 5, 6, -1]}\n",
        "\n",
        "grid_search = GridSearchCV(estimator=lgb_clf, param_grid=param_grid, cv=5, verbose=1, n_jobs=4)\n",
        "\n",
        "grid_search.fit(X_train, y_train)\n",
        "\n",
        "# Best hyperparameters and accuracy score\n",
        "print('Best Params: ', grid_search.best_params_)\n",
        "print('Best Score: ', grid_search.best_score_)\n",
        "\n",
        "# Accuracy score after 1st stage of tuning\n",
        "# print('Accuracy: ', accuracy_score(y_valid, grid_search.predict(X_valid)))"
      ],
      "execution_count": null,
      "outputs": [
        {
          "output_type": "stream",
          "text": [
            "Fitting 5 folds for each of 20 candidates, totalling 100 fits\n"
          ],
          "name": "stdout"
        },
        {
          "output_type": "stream",
          "text": [
            "[Parallel(n_jobs=4)]: Using backend LokyBackend with 4 concurrent workers.\n",
            "[Parallel(n_jobs=4)]: Done  42 tasks      | elapsed:  1.3min\n",
            "[Parallel(n_jobs=4)]: Done 100 out of 100 | elapsed:  3.2min finished\n"
          ],
          "name": "stderr"
        },
        {
          "output_type": "stream",
          "text": [
            "Best Params:  {'max_depth': 3, 'num_leaves': 7}\n",
            "Best Score:  0.821792\n"
          ],
          "name": "stdout"
        }
      ]
    },
    {
      "cell_type": "code",
      "metadata": {
        "colab": {
          "base_uri": "https://localhost:8080/"
        },
        "id": "CIBuGvSFlUbo",
        "outputId": "21d809a1-7865-44ed-acf5-ad110cd8f7c6"
      },
      "source": [
        "# 2nd Stage of Hyperparameter Tuning (for convergence)\n",
        "num_iterations = 200\n",
        "lgb_clf2 = LGBMClassifier(random_state=45, \n",
        "                          max_depth=3, \n",
        "                          num_leaves=7, \n",
        "                          n_estimators=num_iterations, \n",
        "                          n_jobs=1)\n",
        "\n",
        "param_grid2 = {'learning_rate': np.logspace(-3, 0, 10)}\n",
        "\n",
        "grid_search2 = GridSearchCV(estimator=lgb_clf2, param_grid=param_grid2, cv=5, verbose=1, n_jobs=4)\n",
        "\n",
        "grid_search2.fit(X_train, y_train)"
      ],
      "execution_count": null,
      "outputs": [
        {
          "output_type": "stream",
          "text": [
            "Fitting 5 folds for each of 10 candidates, totalling 50 fits\n"
          ],
          "name": "stdout"
        },
        {
          "output_type": "stream",
          "text": [
            "[Parallel(n_jobs=4)]: Using backend LokyBackend with 4 concurrent workers.\n",
            "[Parallel(n_jobs=4)]: Done  42 tasks      | elapsed:  2.1min\n",
            "[Parallel(n_jobs=4)]: Done  50 out of  50 | elapsed:  2.4min finished\n"
          ],
          "name": "stderr"
        },
        {
          "output_type": "stream",
          "text": [
            "{'learning_rate': 0.001} 0.853556\n"
          ],
          "name": "stdout"
        }
      ]
    },
    {
      "cell_type": "code",
      "metadata": {
        "colab": {
          "base_uri": "https://localhost:8080/"
        },
        "id": "1lVywsO9o34S",
        "outputId": "b2af1d58-11d4-4e3e-a72a-df6f26d16745"
      },
      "source": [
        "final_lgb = LGBMClassifier(n_estimators=200, \n",
        "                           num_leaves=7, \n",
        "                           learning_rate=0.001, \n",
        "                           max_depth=3, \n",
        "                           n_jobs=4)\n",
        "\n",
        "final_lgb.fit(X_train, y_train)\n",
        "\n",
        "lgb_final_pred = final_lgb.predict(X_valid)\n",
        "# cm = confusion_matrix(y_valid, lgb_final_pred)\n",
        "# FP = cm.sum(axis=0) - np.diag(cm)\n",
        "# FN = cm.sum(axis=1) - np.diag(cm)\n",
        "# TP = np.diag(cm)\n",
        "# TN = cm.sum() - (FP + FN + TP)\n",
        "# FPR = FP[1]/(FP[1] + TN[0])\n",
        "# print('FPR: ', FPR)\n",
        "\n",
        "print('Accuracy: ', accuracy_score(y_valid, lgb_final_pred))\n",
        "confusion_matrix(y_valid, lgb_final_pred)"
      ],
      "execution_count": 24,
      "outputs": [
        {
          "output_type": "stream",
          "text": [
            "FPR:  nan\n",
            "Accuracy:  0.82884\n"
          ],
          "name": "stdout"
        },
        {
          "output_type": "stream",
          "text": [
            "/usr/local/lib/python3.6/dist-packages/ipykernel_launcher.py:15: RuntimeWarning: invalid value encountered in long_scalars\n",
            "  from ipykernel import kernelapp as app\n"
          ],
          "name": "stderr"
        },
        {
          "output_type": "execute_result",
          "data": {
            "text/plain": [
              "array([[82884,     0],\n",
              "       [17116,     0]])"
            ]
          },
          "metadata": {
            "tags": []
          },
          "execution_count": 24
        }
      ]
    },
    {
      "cell_type": "markdown",
      "metadata": {
        "id": "cIlZndwHFTWY"
      },
      "source": [
        "If you lower the learning rate and increase the number of iterations, you'll have better convergence and thus higher accuracy. If you set a super high number of iterations with super low learning rate, convergence will be perfect.\n",
        "\n",
        "You set the number of iterations as high as you can afford it (can do 1000-3000)"
      ]
    },
    {
      "cell_type": "markdown",
      "metadata": {
        "id": "zh3YKksXn_mx"
      },
      "source": [
        "<b>Random grid search using LightGBM training API</b>\n",
        "\n",
        "Rather than using sklearn's interface to train and predict, we're using the api directly and also must convert output from predictions to binary values."
      ]
    },
    {
      "cell_type": "code",
      "metadata": {
        "id": "GA1m5cmfoJTo"
      },
      "source": [
        "# First convert training data into LightGBM dataset format (required for LightGBM training)\n",
        "d_train = lgb.Dataset(X_train, label=y_train)"
      ],
      "execution_count": 26,
      "outputs": []
    },
    {
      "cell_type": "markdown",
      "metadata": {
        "id": "P2tlV8dOcIb2"
      },
      "source": [
        "Random Grid Search"
      ]
    },
    {
      "cell_type": "code",
      "metadata": {
        "colab": {
          "base_uri": "https://localhost:8080/",
          "height": 52
        },
        "id": "UtTxPphrYtCh",
        "outputId": "81bfcca8-dc22-468d-b00c-6220293f0ada"
      },
      "source": [
        "# %%time\n",
        "# # keep track of the iteration on random grid search\n",
        "# count = 0\n",
        "# # starting accuracy\n",
        "# best_accuracy = 0\n",
        "\n",
        "# # Perform 50 random grid searches and train model to find model with best accuracy\n",
        "# iterations = 50\n",
        "# for i in range(iterations):\n",
        "#   print('iteration number', count)\n",
        "#   count += 1 # increment count\n",
        "#   params = {} # initialize parameters\n",
        "#   params['learning_rate'] = np.random.uniform(0, 1)\n",
        "#   params['boosting_type'] = 'gbdt'\n",
        "#   params['objective'] = 'binary'\n",
        "#   params['metric'] = 'binary_logloss'\n",
        "#   params['sub_feature'] = np.random.uniform(0, 1)\n",
        "#   params['num_leaves'] = np.random.randint(20, 300)\n",
        "#   params['min_data'] = np.random.randint(10, 100)\n",
        "#   params['max_depth'] = np.random.randint(5, 200)\n",
        "#   iterations = np.random.randint(10, 10000)\n",
        "\n",
        "#   # Train using selected parameters\n",
        "#   clf = lgb.train(params, d_train, iterations)\n",
        "\n",
        "#   # Predictions on validation set\n",
        "#   y_pred = clf.predict(X_valid)\n",
        "\n",
        "#   # Convert predictions to binary values\n",
        "#   for i in range(0, len(y_valid)):\n",
        "#     if y_pred[i] >= 0.5:\n",
        "#       y_pred[i] = 1\n",
        "#     else:\n",
        "#       y_pred[i] = 0\n",
        "\n",
        "#   accuracy = accuracy_score(y_valid, y_pred)\n",
        "#   print('Accuracy: ', accuracy)\n",
        "#   if accuracy > best_accuracy:\n",
        "#     best_accuracy = accuracy\n",
        "#     best_params = params\n",
        "\n",
        "# print('Best Accuracy: ', best_accuracy)\n",
        "# print('Best Params: ', best_params)\n",
        "\n",
        "\n",
        "\"\"\"Best Accuracy:  0.83027\n",
        "Best Params:  {'learning_rate': 0.633930150861436, 'boosting_type': 'gbdt', 'objective': 'binary', 'metric': 'binary_logloss', 'sub_feature': 0.47941330449217057, 'num_leaves': 238, 'min_data': 12, 'max_depth': 64}\n",
        "CPU times: user 3h 44min 53s, sys: 17min 49s, total: 4h 2min 43s\n",
        "Wall time: 2h 11min 44s\"\"\""
      ],
      "execution_count": null,
      "outputs": [
        {
          "output_type": "execute_result",
          "data": {
            "application/vnd.google.colaboratory.intrinsic+json": {
              "type": "string"
            },
            "text/plain": [
              "\"Best Accuracy:  0.83027\\nBest Params:  {'learning_rate': 0.633930150861436, 'boosting_type': 'gbdt', 'objective': 'binary', 'metric': 'binary_logloss', 'sub_feature': 0.47941330449217057, 'num_leaves': 238, 'min_data': 12, 'max_depth': 64}\\nCPU times: user 3h 44min 53s, sys: 17min 49s, total: 4h 2min 43s\\nWall time: 2h 11min 44s\""
            ]
          },
          "metadata": {
            "tags": []
          },
          "execution_count": 62
        }
      ]
    },
    {
      "cell_type": "markdown",
      "metadata": {
        "id": "mjRitFwHXzNF"
      },
      "source": [
        "### Below are the results from the random grid search.\n",
        "\n",
        "Accuracy: 0.83027\n",
        "\n",
        "Params:\n",
        "- learning_rate =  0.633930150861436\n",
        "- boosting_type = 'gbdt'\n",
        "- objective = 'binary' \n",
        "- metric = 'binary_logloss'\n",
        "- sub_feature = 0.47941330449217057\n",
        "- num_leaves = 238\n",
        "- min_data = 12\n",
        "- max_depth = 64\n",
        "\n",
        "CPU times: user 3h 44min 53s, sys: 17min 49s, total: 4h 2min 43s\n",
        "Wall time: 2h 11min 44s."
      ]
    },
    {
      "cell_type": "code",
      "metadata": {
        "id": "NJbDwr474usg"
      },
      "source": [
        "best_params = {'learning_rate': 0.633930150861436, \n",
        "               'boosting_type': 'gbdt', \n",
        "               'objective': 'binary', \n",
        "               'metric': 'binary_logloss', \n",
        "               'sub_feature': 0.47941330449217057, \n",
        "               'num_leaves': 238, \n",
        "               'min_data': 12, \n",
        "               'max_depth': 64}"
      ],
      "execution_count": 25,
      "outputs": []
    },
    {
      "cell_type": "code",
      "metadata": {
        "colab": {
          "base_uri": "https://localhost:8080/"
        },
        "id": "XYUCbhRJ3Aj9",
        "outputId": "59a51efb-7041-4170-a051-592836f6cf09"
      },
      "source": [
        "# Get final model using best parameters with previous number of iterations (570)\n",
        "final_lgb = lgb.train(best_params, d_train, 570)\n",
        "\n",
        "# Get predictions on validation data\n",
        "y_pred = final_lgb.predict(X_valid)\n",
        "\n",
        "# Convert predictions to binary values\n",
        "for i in range(0, len(y_valid)):\n",
        "  if y_pred[i] >= 0.5:\n",
        "    y_pred[i] = 1\n",
        "  else:\n",
        "    y_pred[i] = 0\n",
        "\n",
        "accuracy_score(y_valid, y_pred)"
      ],
      "execution_count": 28,
      "outputs": [
        {
          "output_type": "execute_result",
          "data": {
            "text/plain": [
              "0.73565"
            ]
          },
          "metadata": {
            "tags": []
          },
          "execution_count": 28
        }
      ]
    },
    {
      "cell_type": "code",
      "metadata": {
        "colab": {
          "base_uri": "https://localhost:8080/"
        },
        "id": "KM51JSe2Y2LY",
        "outputId": "2c4de004-d266-4b23-ec0c-e915918e045c"
      },
      "source": [
        "final_lgb = LGBMClassifier(n_estimators=200, \n",
        "                           num_leaves=238, \n",
        "                           max_depth=64,\n",
        "                           sub_feature=0.47941330449217057,\n",
        "                           learning_rate=0.633930150861436,\n",
        "                           min_data=12,\n",
        "                           n_jobs=4)\n",
        "\n",
        "final_lgb.fit(X_train, y_train)\n",
        "y_pred = final_lgb.predict(X_valid)\n",
        "accuracy_score(y_valid, y_pred)"
      ],
      "execution_count": 29,
      "outputs": [
        {
          "output_type": "execute_result",
          "data": {
            "text/plain": [
              "0.75842"
            ]
          },
          "metadata": {
            "tags": []
          },
          "execution_count": 29
        }
      ]
    }
  ]
}