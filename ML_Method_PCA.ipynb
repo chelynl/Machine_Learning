{
 "cells": [
  {
   "cell_type": "markdown",
   "metadata": {
    "id": "MkWHdir9Kjqq"
   },
   "source": [
    "For this assignment, predictability is more desirable than interpretability. Thus, the data will be reduced down to its core principal components to compress the data without losing important information, which will increase speed and efficiency when training the model. PCA is an unsupervised ML method that does not require y-labels and essentially clusters parts of the data based on similarity/differences of eigenvalues (inherently present in data)."
   ]
  },
  {
   "cell_type": "code",
   "execution_count": 1,
   "metadata": {
    "id": "dBf2DW5PKZzq"
   },
   "outputs": [],
   "source": [
    "# Data wrangling\n",
    "import pandas as pd # data manipulation\n",
    "import numpy as np # linear algebra\n",
    "\n",
    "# PCA\n",
    "from sklearn.decomposition import PCA\n",
    "from sklearn.preprocessing import scale, MinMaxScaler, StandardScaler\n",
    "\n",
    "# plots\n",
    "import matplotlib.pyplot as plt # plots"
   ]
  },
  {
   "cell_type": "code",
   "execution_count": 2,
   "metadata": {
    "id": "nMfm6eZsKoit"
   },
   "outputs": [],
   "source": [
    "train_df = pd.read_csv('http://birch.iaa.ncsu.edu/~slrace/DataMining2021/Code/MLProject21_train.csv')\n",
    "valid_df = pd.read_csv('http://birch.iaa.ncsu.edu/~slrace/DataMining2021/Code/MLProject21_valid.csv')\n",
    "test_df = pd.read_csv('http://birch.iaa.ncsu.edu/~slrace/DataMining2021/Code/MLProject21_test.csv')"
   ]
  },
  {
   "cell_type": "code",
   "execution_count": 3,
   "metadata": {
    "colab": {
     "base_uri": "https://localhost:8080/"
    },
    "id": "jW3DOyB4KrYi",
    "outputId": "b8141f28-ebf9-4795-d1f0-b0cde3fbce23"
   },
   "outputs": [
    {
     "name": "stdout",
     "output_type": "stream",
     "text": [
      "Data Dimensions:  (250000, 130)\n",
      "<class 'pandas.core.frame.DataFrame'>\n",
      "RangeIndex: 250000 entries, 0 to 249999\n",
      "Columns: 130 entries, v1 to binary.target2\n",
      "dtypes: bool(1), float64(115), int64(13), object(1)\n",
      "memory usage: 246.3+ MB\n"
     ]
    }
   ],
   "source": [
    "print('Data Dimensions: ', train_df.shape)\n",
    "\n",
    "# look at column types and identify null values\n",
    "train_df.info()\n",
    "\n",
    "# We have 1 bool, 1 categorical, and the rest are numeric\n",
    "# Let's explore whether we should one-hot encode the categorical var if it's useful"
   ]
  },
  {
   "cell_type": "code",
   "execution_count": 4,
   "metadata": {
    "colab": {
     "base_uri": "https://localhost:8080/"
    },
    "id": "HZXcu9VDKzfq",
    "outputId": "1d901e08-a0fe-40ff-f5a2-ae03b877be55"
   },
   "outputs": [
    {
     "data": {
      "text/plain": [
       "v45    object\n",
       "dtype: object"
      ]
     },
     "execution_count": 4,
     "metadata": {
      "tags": []
     },
     "output_type": "execute_result"
    }
   ],
   "source": [
    "train_df.dtypes[train_df.dtypes=='bool'] # v7 is bool type\n",
    "train_df.dtypes[train_df.dtypes=='object'] # v45 is object type (categorical)"
   ]
  },
  {
   "cell_type": "code",
   "execution_count": 5,
   "metadata": {
    "colab": {
     "base_uri": "https://localhost:8080/",
     "height": 330
    },
    "id": "ttx6zNSYK2Ei",
    "outputId": "bb121938-ced4-40f6-b19f-e65aa15703c5"
   },
   "outputs": [
    {
     "data": {
      "text/plain": [
       "<matplotlib.axes._subplots.AxesSubplot at 0x7f329da18780>"
      ]
     },
     "execution_count": 5,
     "metadata": {
      "tags": []
     },
     "output_type": "execute_result"
    },
    {
     "data": {
      "image/png": "[encoded data removed]",
      "text/plain": [
       "<Figure size 432x288 with 1 Axes>"
      ]
     },
     "metadata": {
      "needs_background": "light",
      "tags": []
     },
     "output_type": "display_data"
    }
   ],
   "source": [
    "# v7 has all False in training data (not useful for model training)\n",
    "train_df['v7'].value_counts()\n",
    "\n",
    "# v45 has evenly distributed levels (not useful)\n",
    "train_df['v45'].value_counts()\n",
    "train_df['v45'].value_counts().plot(kind='bar')"
   ]
  },
  {
   "cell_type": "markdown",
   "metadata": {
    "id": "00eYpE4iK8hi"
   },
   "source": [
    "Drop non-numeric vars that are not useful"
   ]
  },
  {
   "cell_type": "code",
   "execution_count": 6,
   "metadata": {
    "id": "h2iSJFu1K5j3"
   },
   "outputs": [],
   "source": [
    "train_df.drop(['v7', 'v45'], axis=1, inplace=True)"
   ]
  },
  {
   "cell_type": "markdown",
   "metadata": {
    "id": "f2tx31lhLFBF"
   },
   "source": [
    "Separate out inputs (attributes) and outputs (targets)."
   ]
  },
  {
   "cell_type": "code",
   "execution_count": 7,
   "metadata": {
    "id": "Rvsz8rlVLAcR"
   },
   "outputs": [],
   "source": [
    "# Get inputs and outputs as separate dfs on training data\n",
    "X_train = train_df.drop(['cont.target', 'binary.target1', 'binary.target2'], axis=1)\n",
    "y1_train = train_df['cont.target']\n",
    "y2_train = train_df['binary.target1']\n",
    "y3_train = train_df['binary.target2']\n",
    "\n",
    "# Repeat for validation data\n",
    "X_valid = valid_df.drop(['v7', 'v45', 'cont.target', 'binary.target1', 'binary.target2'], axis=1)\n",
    "y1_valid = valid_df['cont.target']\n",
    "y2_valid = valid_df['binary.target1']\n",
    "y3_valid = valid_df['binary.target2']\n",
    "\n",
    "# Repeat for test data (targets not provided)\n",
    "X_test = test_df.drop(['v7', 'v45'], axis=1)\n",
    "\n",
    "# Convert input and output dfs to arrays for sklearn\n",
    "train_features = np.array(X_train)\n",
    "y1_train = np.ravel(np.array(y1_train))\n",
    "y2_train = np.ravel(np.array(y2_train))\n",
    "y3_train = np.ravel(np.array(y3_train))\n",
    "\n",
    "# Repeat for validation data\n",
    "valid_features = np.array(X_valid)\n",
    "y1_valid = np.ravel(np.array(y1_valid))\n",
    "y2_valid = np.ravel(np.array(y2_valid))\n",
    "y3_valid = np.ravel(np.array(y3_valid))\n",
    "\n",
    "# Repeat for test data\n",
    "test_features = np.array(X_test)\n",
    "\n",
    "# Save feature names for later use\n",
    "feature_list = list(X_train.columns)"
   ]
  },
  {
   "cell_type": "markdown",
   "metadata": {
    "id": "n00h0oROLPOR"
   },
   "source": [
    "We will be focusing on binary target 2."
   ]
  },
  {
   "cell_type": "markdown",
   "metadata": {
    "id": "AdbOfNpQLRih"
   },
   "source": [
    "# PCA: Dimension Reduction"
   ]
  },
  {
   "cell_type": "code",
   "execution_count": 8,
   "metadata": {
    "colab": {
     "base_uri": "https://localhost:8080/",
     "height": 215
    },
    "id": "nr4uq6mbLMlQ",
    "outputId": "e4bc9584-6871-4c3f-dc14-5b433a1772bb"
   },
   "outputs": [
    {
     "data": {
      "text/html": [
       "<div>\n",
       "<style scoped>\n",
       "    .dataframe tbody tr th:only-of-type {\n",
       "        vertical-align: middle;\n",
       "    }\n",
       "\n",
       "    .dataframe tbody tr th {\n",
       "        vertical-align: top;\n",
       "    }\n",
       "\n",
       "    .dataframe thead th {\n",
       "        text-align: right;\n",
       "    }\n",
       "</style>\n",
       "<table border=\"1\" class=\"dataframe\">\n",
       "  <thead>\n",
       "    <tr style=\"text-align: right;\">\n",
       "      <th></th>\n",
       "      <th>PC1</th>\n",
       "      <th>PC2</th>\n",
       "      <th>PC3</th>\n",
       "      <th>PC4</th>\n",
       "      <th>PC5</th>\n",
       "      <th>PC6</th>\n",
       "      <th>PC7</th>\n",
       "      <th>PC8</th>\n",
       "      <th>PC9</th>\n",
       "      <th>PC10</th>\n",
       "      <th>PC11</th>\n",
       "      <th>PC12</th>\n",
       "      <th>PC13</th>\n",
       "      <th>PC14</th>\n",
       "      <th>PC15</th>\n",
       "      <th>PC16</th>\n",
       "      <th>PC17</th>\n",
       "      <th>PC18</th>\n",
       "      <th>PC19</th>\n",
       "      <th>PC20</th>\n",
       "      <th>PC21</th>\n",
       "      <th>PC22</th>\n",
       "      <th>PC23</th>\n",
       "      <th>PC24</th>\n",
       "      <th>PC25</th>\n",
       "      <th>PC26</th>\n",
       "      <th>PC27</th>\n",
       "      <th>PC28</th>\n",
       "      <th>PC29</th>\n",
       "      <th>PC30</th>\n",
       "      <th>PC31</th>\n",
       "      <th>PC32</th>\n",
       "      <th>PC33</th>\n",
       "      <th>PC34</th>\n",
       "      <th>PC35</th>\n",
       "      <th>PC36</th>\n",
       "      <th>PC37</th>\n",
       "      <th>PC38</th>\n",
       "      <th>PC39</th>\n",
       "      <th>PC40</th>\n",
       "      <th>PC41</th>\n",
       "      <th>PC42</th>\n",
       "      <th>PC43</th>\n",
       "      <th>PC44</th>\n",
       "      <th>PC45</th>\n",
       "      <th>PC46</th>\n",
       "      <th>PC47</th>\n",
       "      <th>PC48</th>\n",
       "      <th>PC49</th>\n",
       "      <th>PC50</th>\n",
       "    </tr>\n",
       "  </thead>\n",
       "  <tbody>\n",
       "    <tr>\n",
       "      <th>0</th>\n",
       "      <td>-1.051223</td>\n",
       "      <td>-0.490480</td>\n",
       "      <td>-2.830786</td>\n",
       "      <td>1.586082</td>\n",
       "      <td>-0.180288</td>\n",
       "      <td>3.936627</td>\n",
       "      <td>-1.231453</td>\n",
       "      <td>-0.693660</td>\n",
       "      <td>0.333366</td>\n",
       "      <td>0.589109</td>\n",
       "      <td>-0.188926</td>\n",
       "      <td>-0.850707</td>\n",
       "      <td>0.582115</td>\n",
       "      <td>0.025435</td>\n",
       "      <td>-1.209982</td>\n",
       "      <td>1.740863</td>\n",
       "      <td>-0.494242</td>\n",
       "      <td>-1.343676</td>\n",
       "      <td>0.282429</td>\n",
       "      <td>1.146526</td>\n",
       "      <td>0.527848</td>\n",
       "      <td>1.882604</td>\n",
       "      <td>-0.510888</td>\n",
       "      <td>-0.754586</td>\n",
       "      <td>-0.591518</td>\n",
       "      <td>-1.002007</td>\n",
       "      <td>0.049719</td>\n",
       "      <td>0.080348</td>\n",
       "      <td>0.566047</td>\n",
       "      <td>0.657846</td>\n",
       "      <td>-0.517252</td>\n",
       "      <td>0.652430</td>\n",
       "      <td>-1.000066</td>\n",
       "      <td>0.246602</td>\n",
       "      <td>0.505857</td>\n",
       "      <td>-1.123341</td>\n",
       "      <td>-0.598824</td>\n",
       "      <td>0.883925</td>\n",
       "      <td>-0.134938</td>\n",
       "      <td>0.205982</td>\n",
       "      <td>0.238645</td>\n",
       "      <td>0.314293</td>\n",
       "      <td>-0.144666</td>\n",
       "      <td>-0.341905</td>\n",
       "      <td>-1.444771</td>\n",
       "      <td>0.494911</td>\n",
       "      <td>0.614960</td>\n",
       "      <td>0.133223</td>\n",
       "      <td>0.613179</td>\n",
       "      <td>0.529605</td>\n",
       "    </tr>\n",
       "    <tr>\n",
       "      <th>1</th>\n",
       "      <td>-1.175759</td>\n",
       "      <td>-0.609709</td>\n",
       "      <td>-2.769796</td>\n",
       "      <td>1.340526</td>\n",
       "      <td>-0.042229</td>\n",
       "      <td>3.879008</td>\n",
       "      <td>-1.343777</td>\n",
       "      <td>-0.825517</td>\n",
       "      <td>0.232781</td>\n",
       "      <td>0.543311</td>\n",
       "      <td>0.126410</td>\n",
       "      <td>-0.330674</td>\n",
       "      <td>0.476777</td>\n",
       "      <td>0.105271</td>\n",
       "      <td>-1.023455</td>\n",
       "      <td>1.869187</td>\n",
       "      <td>-0.660899</td>\n",
       "      <td>-1.358626</td>\n",
       "      <td>0.203681</td>\n",
       "      <td>0.993406</td>\n",
       "      <td>0.319601</td>\n",
       "      <td>1.976916</td>\n",
       "      <td>-0.733259</td>\n",
       "      <td>-0.365340</td>\n",
       "      <td>-0.210832</td>\n",
       "      <td>-1.397493</td>\n",
       "      <td>0.065016</td>\n",
       "      <td>0.220514</td>\n",
       "      <td>0.708793</td>\n",
       "      <td>0.817462</td>\n",
       "      <td>-0.981801</td>\n",
       "      <td>1.035963</td>\n",
       "      <td>-0.835172</td>\n",
       "      <td>0.208765</td>\n",
       "      <td>0.624210</td>\n",
       "      <td>-0.734323</td>\n",
       "      <td>-0.919429</td>\n",
       "      <td>0.849145</td>\n",
       "      <td>-0.140661</td>\n",
       "      <td>1.099320</td>\n",
       "      <td>0.912414</td>\n",
       "      <td>-0.517801</td>\n",
       "      <td>-0.943616</td>\n",
       "      <td>-0.128624</td>\n",
       "      <td>-1.638888</td>\n",
       "      <td>-0.048388</td>\n",
       "      <td>1.139139</td>\n",
       "      <td>0.406281</td>\n",
       "      <td>0.797205</td>\n",
       "      <td>-0.044415</td>\n",
       "    </tr>\n",
       "    <tr>\n",
       "      <th>2</th>\n",
       "      <td>-1.410161</td>\n",
       "      <td>-1.095514</td>\n",
       "      <td>-3.253264</td>\n",
       "      <td>2.740190</td>\n",
       "      <td>-0.016974</td>\n",
       "      <td>3.796829</td>\n",
       "      <td>-1.580450</td>\n",
       "      <td>-0.942198</td>\n",
       "      <td>0.159395</td>\n",
       "      <td>1.106371</td>\n",
       "      <td>-0.268074</td>\n",
       "      <td>-0.371949</td>\n",
       "      <td>0.267790</td>\n",
       "      <td>1.050509</td>\n",
       "      <td>-1.425967</td>\n",
       "      <td>1.599097</td>\n",
       "      <td>-0.594515</td>\n",
       "      <td>-1.544639</td>\n",
       "      <td>0.260692</td>\n",
       "      <td>1.170831</td>\n",
       "      <td>0.606065</td>\n",
       "      <td>1.333176</td>\n",
       "      <td>-0.443326</td>\n",
       "      <td>-0.560737</td>\n",
       "      <td>-0.776717</td>\n",
       "      <td>-0.703961</td>\n",
       "      <td>0.070562</td>\n",
       "      <td>0.035829</td>\n",
       "      <td>0.428792</td>\n",
       "      <td>0.595092</td>\n",
       "      <td>0.405582</td>\n",
       "      <td>0.732177</td>\n",
       "      <td>-0.707699</td>\n",
       "      <td>0.004918</td>\n",
       "      <td>0.376289</td>\n",
       "      <td>-1.692758</td>\n",
       "      <td>-0.747926</td>\n",
       "      <td>0.494762</td>\n",
       "      <td>-0.264414</td>\n",
       "      <td>0.142241</td>\n",
       "      <td>-0.301140</td>\n",
       "      <td>1.030191</td>\n",
       "      <td>-0.155111</td>\n",
       "      <td>0.269981</td>\n",
       "      <td>-1.227454</td>\n",
       "      <td>0.309586</td>\n",
       "      <td>0.463860</td>\n",
       "      <td>-0.136206</td>\n",
       "      <td>0.628572</td>\n",
       "      <td>0.209501</td>\n",
       "    </tr>\n",
       "    <tr>\n",
       "      <th>3</th>\n",
       "      <td>-0.601265</td>\n",
       "      <td>0.373352</td>\n",
       "      <td>-1.704723</td>\n",
       "      <td>-0.651583</td>\n",
       "      <td>0.123363</td>\n",
       "      <td>4.014871</td>\n",
       "      <td>-1.113260</td>\n",
       "      <td>-1.026959</td>\n",
       "      <td>0.551917</td>\n",
       "      <td>0.328737</td>\n",
       "      <td>0.176022</td>\n",
       "      <td>-1.778166</td>\n",
       "      <td>1.366633</td>\n",
       "      <td>-2.269306</td>\n",
       "      <td>-0.972224</td>\n",
       "      <td>2.214612</td>\n",
       "      <td>-0.319227</td>\n",
       "      <td>-1.379657</td>\n",
       "      <td>0.221339</td>\n",
       "      <td>1.073029</td>\n",
       "      <td>0.188035</td>\n",
       "      <td>1.833653</td>\n",
       "      <td>-0.440467</td>\n",
       "      <td>-0.241082</td>\n",
       "      <td>-0.434503</td>\n",
       "      <td>-0.651000</td>\n",
       "      <td>0.197562</td>\n",
       "      <td>0.523121</td>\n",
       "      <td>0.760009</td>\n",
       "      <td>0.381121</td>\n",
       "      <td>-0.618806</td>\n",
       "      <td>0.667070</td>\n",
       "      <td>-0.798390</td>\n",
       "      <td>1.322083</td>\n",
       "      <td>1.007941</td>\n",
       "      <td>-0.261031</td>\n",
       "      <td>-1.907042</td>\n",
       "      <td>0.696633</td>\n",
       "      <td>-0.890668</td>\n",
       "      <td>-0.065892</td>\n",
       "      <td>-1.106610</td>\n",
       "      <td>-0.172726</td>\n",
       "      <td>-0.431663</td>\n",
       "      <td>-0.205486</td>\n",
       "      <td>-1.486136</td>\n",
       "      <td>0.295580</td>\n",
       "      <td>1.159262</td>\n",
       "      <td>0.531119</td>\n",
       "      <td>0.455098</td>\n",
       "      <td>0.232496</td>\n",
       "    </tr>\n",
       "    <tr>\n",
       "      <th>4</th>\n",
       "      <td>-1.004777</td>\n",
       "      <td>0.110095</td>\n",
       "      <td>-1.886783</td>\n",
       "      <td>-0.759187</td>\n",
       "      <td>-0.429035</td>\n",
       "      <td>4.109451</td>\n",
       "      <td>-0.915566</td>\n",
       "      <td>-1.155547</td>\n",
       "      <td>-0.002620</td>\n",
       "      <td>-0.919906</td>\n",
       "      <td>0.362761</td>\n",
       "      <td>-0.561838</td>\n",
       "      <td>0.526362</td>\n",
       "      <td>-0.617138</td>\n",
       "      <td>-0.998854</td>\n",
       "      <td>2.208690</td>\n",
       "      <td>-1.417325</td>\n",
       "      <td>-0.520432</td>\n",
       "      <td>0.364662</td>\n",
       "      <td>1.047695</td>\n",
       "      <td>0.141634</td>\n",
       "      <td>2.300386</td>\n",
       "      <td>-0.011376</td>\n",
       "      <td>0.059765</td>\n",
       "      <td>0.548740</td>\n",
       "      <td>-1.258242</td>\n",
       "      <td>0.066869</td>\n",
       "      <td>0.462642</td>\n",
       "      <td>0.701519</td>\n",
       "      <td>0.598294</td>\n",
       "      <td>-0.511247</td>\n",
       "      <td>0.457428</td>\n",
       "      <td>-1.180133</td>\n",
       "      <td>0.660217</td>\n",
       "      <td>0.853454</td>\n",
       "      <td>-0.673037</td>\n",
       "      <td>-1.602119</td>\n",
       "      <td>0.497962</td>\n",
       "      <td>-0.691852</td>\n",
       "      <td>0.496704</td>\n",
       "      <td>-0.610517</td>\n",
       "      <td>-0.125398</td>\n",
       "      <td>-0.432942</td>\n",
       "      <td>-0.130673</td>\n",
       "      <td>-1.416208</td>\n",
       "      <td>0.091668</td>\n",
       "      <td>1.187412</td>\n",
       "      <td>-0.065277</td>\n",
       "      <td>-0.377425</td>\n",
       "      <td>0.712853</td>\n",
       "    </tr>\n",
       "  </tbody>\n",
       "</table>\n",
       "</div>"
      ],
      "text/plain": [
       "        PC1       PC2       PC3  ...      PC48      PC49      PC50\n",
       "0 -1.051223 -0.490480 -2.830786  ...  0.133223  0.613179  0.529605\n",
       "1 -1.175759 -0.609709 -2.769796  ...  0.406281  0.797205 -0.044415\n",
       "2 -1.410161 -1.095514 -3.253264  ... -0.136206  0.628572  0.209501\n",
       "3 -0.601265  0.373352 -1.704723  ...  0.531119  0.455098  0.232496\n",
       "4 -1.004777  0.110095 -1.886783  ... -0.065277 -0.377425  0.712853\n",
       "\n",
       "[5 rows x 50 columns]"
      ]
     },
     "execution_count": 8,
     "metadata": {
      "tags": []
     },
     "output_type": "execute_result"
    }
   ],
   "source": [
    "# scale to standardize training data\n",
    "ss = StandardScaler()\n",
    "ss.fit(train_features)\n",
    "train_norm = pd.DataFrame(ss.transform(train_features), columns=feature_list)\n",
    "\n",
    "# Define number of components to be used for PCA\n",
    "pca = PCA(n_components=50)\n",
    "scores = pca.fit_transform(train_norm)\n",
    "loadings = pca.components_.T\n",
    "\n",
    "# Convert scores to df for first 20 PCs\n",
    "comps = []\n",
    "for i in range(1,51):\n",
    "    comps.append(\"PC{}\".format(i))\n",
    "\n",
    "scores_df = pd.DataFrame(scores, columns=comps)\n",
    "loadings_df = pd.DataFrame(loadings, columns=comps)\n",
    "\n",
    "scores_df.head()"
   ]
  },
  {
   "cell_type": "code",
   "execution_count": 9,
   "metadata": {
    "colab": {
     "base_uri": "https://localhost:8080/",
     "height": 195
    },
    "id": "P0A2s6EKLnO5",
    "outputId": "5bbae4a9-ddd1-43a4-e14c-bf303e328d9b"
   },
   "outputs": [
    {
     "data": {
      "text/html": [
       "<div>\n",
       "<style scoped>\n",
       "    .dataframe tbody tr th:only-of-type {\n",
       "        vertical-align: middle;\n",
       "    }\n",
       "\n",
       "    .dataframe tbody tr th {\n",
       "        vertical-align: top;\n",
       "    }\n",
       "\n",
       "    .dataframe thead th {\n",
       "        text-align: right;\n",
       "    }\n",
       "</style>\n",
       "<table border=\"1\" class=\"dataframe\">\n",
       "  <thead>\n",
       "    <tr style=\"text-align: right;\">\n",
       "      <th></th>\n",
       "      <th>PC</th>\n",
       "      <th>Explained Variance</th>\n",
       "      <th>Cumulative Variance</th>\n",
       "    </tr>\n",
       "  </thead>\n",
       "  <tbody>\n",
       "    <tr>\n",
       "      <th>0</th>\n",
       "      <td>PC1</td>\n",
       "      <td>0.192524</td>\n",
       "      <td>0.193</td>\n",
       "    </tr>\n",
       "    <tr>\n",
       "      <th>1</th>\n",
       "      <td>PC2</td>\n",
       "      <td>0.108725</td>\n",
       "      <td>0.302</td>\n",
       "    </tr>\n",
       "    <tr>\n",
       "      <th>2</th>\n",
       "      <td>PC3</td>\n",
       "      <td>0.071296</td>\n",
       "      <td>0.373</td>\n",
       "    </tr>\n",
       "    <tr>\n",
       "      <th>3</th>\n",
       "      <td>PC4</td>\n",
       "      <td>0.055876</td>\n",
       "      <td>0.429</td>\n",
       "    </tr>\n",
       "    <tr>\n",
       "      <th>4</th>\n",
       "      <td>PC5</td>\n",
       "      <td>0.031659</td>\n",
       "      <td>0.461</td>\n",
       "    </tr>\n",
       "  </tbody>\n",
       "</table>\n",
       "</div>"
      ],
      "text/plain": [
       "    PC  Explained Variance  Cumulative Variance\n",
       "0  PC1            0.192524                0.193\n",
       "1  PC2            0.108725                0.302\n",
       "2  PC3            0.071296                0.373\n",
       "3  PC4            0.055876                0.429\n",
       "4  PC5            0.031659                0.461"
      ]
     },
     "execution_count": 9,
     "metadata": {
      "tags": []
     },
     "output_type": "execute_result"
    }
   ],
   "source": [
    "# Explained Variance per PC\n",
    "explained_variance = pca.explained_variance_ratio_\n",
    "\n",
    "# Cumulative explained variance\n",
    "cumulative_variance = np.cumsum(np.round(explained_variance, decimals=3))\n",
    "\n",
    "# Combine df of PC, explained variance, cumulative variance\n",
    "pc_df = pd.DataFrame(comps, columns=['PC'])\n",
    "explained_variance_df = pd.DataFrame(explained_variance, columns=['Explained Variance'])\n",
    "cumulative_variance_df = pd.DataFrame(cumulative_variance, columns=['Cumulative Variance'])\n",
    "df_explained_variance = pd.concat([pc_df, explained_variance_df, cumulative_variance_df], axis=1)\n",
    "\n",
    "df_explained_variance.head()"
   ]
  },
  {
   "cell_type": "markdown",
   "metadata": {
    "id": "gBmKm7vfLtmP"
   },
   "source": [
    "View Scree Plot"
   ]
  },
  {
   "cell_type": "code",
   "execution_count": 10,
   "metadata": {
    "colab": {
     "base_uri": "https://localhost:8080/",
     "height": 638
    },
    "id": "-x7eNMoxLu7k",
    "outputId": "9676c8cb-f754-493c-cea7-a74995d2f4f0"
   },
   "outputs": [
    {
     "data": {
      "text/plain": [
       "Text(0, 0.5, 'Eigenvalue')"
      ]
     },
     "execution_count": 10,
     "metadata": {
      "tags": []
     },
     "output_type": "execute_result"
    },
    {
     "data": {
      "image/png": "[encoded data removed]",
      "text/plain": [
       "<Figure size 1440x720 with 1 Axes>"
      ]
     },
     "metadata": {
      "needs_background": "light",
      "tags": []
     },
     "output_type": "display_data"
    }
   ],
   "source": [
    "fig = plt.figure(figsize=(20,10))\n",
    "PC_vals = np.arange(50) + 1\n",
    "plt.plot(PC_vals, pca.explained_variance_, 'ro-', linewidth=2)\n",
    "plt.title('Scree Plot')\n",
    "plt.xlabel('Principal Component')\n",
    "plt.ylabel('Eigenvalue')"
   ]
  },
  {
   "cell_type": "markdown",
   "metadata": {
    "id": "wTLi2_eOL-Aa"
   },
   "source": [
    "The Scree Plot shows us how much explained variance is contributed by each principal component. From the plot, there is a clear \"elbow\" around 10 PCs, which means we can reduce the data down to the first 10 PCs to compress the data without losing important information."
   ]
  },
  {
   "cell_type": "code",
   "execution_count": 11,
   "metadata": {
    "colab": {
     "base_uri": "https://localhost:8080/",
     "height": 195
    },
    "id": "DtPoBmwRL6_P",
    "outputId": "c6d957eb-ff4a-4f01-b1e2-140f26e5e25e"
   },
   "outputs": [
    {
     "data": {
      "text/html": [
       "<div>\n",
       "<style scoped>\n",
       "    .dataframe tbody tr th:only-of-type {\n",
       "        vertical-align: middle;\n",
       "    }\n",
       "\n",
       "    .dataframe tbody tr th {\n",
       "        vertical-align: top;\n",
       "    }\n",
       "\n",
       "    .dataframe thead th {\n",
       "        text-align: right;\n",
       "    }\n",
       "</style>\n",
       "<table border=\"1\" class=\"dataframe\">\n",
       "  <thead>\n",
       "    <tr style=\"text-align: right;\">\n",
       "      <th></th>\n",
       "      <th>PC1</th>\n",
       "      <th>PC2</th>\n",
       "      <th>PC3</th>\n",
       "      <th>PC4</th>\n",
       "      <th>PC5</th>\n",
       "      <th>PC6</th>\n",
       "      <th>PC7</th>\n",
       "      <th>PC8</th>\n",
       "      <th>PC9</th>\n",
       "      <th>PC10</th>\n",
       "    </tr>\n",
       "  </thead>\n",
       "  <tbody>\n",
       "    <tr>\n",
       "      <th>0</th>\n",
       "      <td>-1.051223</td>\n",
       "      <td>-0.490481</td>\n",
       "      <td>-2.830787</td>\n",
       "      <td>1.586087</td>\n",
       "      <td>-0.180749</td>\n",
       "      <td>3.936731</td>\n",
       "      <td>-1.232652</td>\n",
       "      <td>-0.691897</td>\n",
       "      <td>0.334269</td>\n",
       "      <td>0.617943</td>\n",
       "    </tr>\n",
       "    <tr>\n",
       "      <th>1</th>\n",
       "      <td>-1.175759</td>\n",
       "      <td>-0.609709</td>\n",
       "      <td>-2.769797</td>\n",
       "      <td>1.340529</td>\n",
       "      <td>-0.042654</td>\n",
       "      <td>3.879046</td>\n",
       "      <td>-1.345005</td>\n",
       "      <td>-0.824415</td>\n",
       "      <td>0.234918</td>\n",
       "      <td>0.568680</td>\n",
       "    </tr>\n",
       "    <tr>\n",
       "      <th>2</th>\n",
       "      <td>-1.410161</td>\n",
       "      <td>-1.095515</td>\n",
       "      <td>-3.253265</td>\n",
       "      <td>2.740192</td>\n",
       "      <td>-0.017351</td>\n",
       "      <td>3.796880</td>\n",
       "      <td>-1.581087</td>\n",
       "      <td>-0.940228</td>\n",
       "      <td>0.159737</td>\n",
       "      <td>1.132395</td>\n",
       "    </tr>\n",
       "    <tr>\n",
       "      <th>3</th>\n",
       "      <td>-0.601265</td>\n",
       "      <td>0.373352</td>\n",
       "      <td>-1.704724</td>\n",
       "      <td>-0.651581</td>\n",
       "      <td>0.122970</td>\n",
       "      <td>4.014944</td>\n",
       "      <td>-1.114505</td>\n",
       "      <td>-1.026277</td>\n",
       "      <td>0.552015</td>\n",
       "      <td>0.347672</td>\n",
       "    </tr>\n",
       "    <tr>\n",
       "      <th>4</th>\n",
       "      <td>-1.004777</td>\n",
       "      <td>0.110094</td>\n",
       "      <td>-1.886783</td>\n",
       "      <td>-0.759184</td>\n",
       "      <td>-0.429633</td>\n",
       "      <td>4.109267</td>\n",
       "      <td>-0.913623</td>\n",
       "      <td>-1.154223</td>\n",
       "      <td>0.001244</td>\n",
       "      <td>-0.907547</td>\n",
       "    </tr>\n",
       "  </tbody>\n",
       "</table>\n",
       "</div>"
      ],
      "text/plain": [
       "        PC1       PC2       PC3  ...       PC8       PC9      PC10\n",
       "0 -1.051223 -0.490481 -2.830787  ... -0.691897  0.334269  0.617943\n",
       "1 -1.175759 -0.609709 -2.769797  ... -0.824415  0.234918  0.568680\n",
       "2 -1.410161 -1.095515 -3.253265  ... -0.940228  0.159737  1.132395\n",
       "3 -0.601265  0.373352 -1.704724  ... -1.026277  0.552015  0.347672\n",
       "4 -1.004777  0.110094 -1.886783  ... -1.154223  0.001244 -0.907547\n",
       "\n",
       "[5 rows x 10 columns]"
      ]
     },
     "execution_count": 11,
     "metadata": {
      "tags": []
     },
     "output_type": "execute_result"
    }
   ],
   "source": [
    "# Reduce data dimension to 10 PCs\n",
    "reduced_pca = PCA(n_components=10)\n",
    "reduced_train = reduced_pca.fit_transform(train_norm)\n",
    "\n",
    "reduced_comps = []\n",
    "for i in range(1,11):\n",
    "    reduced_comps.append(\"PC{}\".format(i))\n",
    "\n",
    "reduced_train = pd.DataFrame(reduced_train, columns=reduced_comps)\n",
    "reduced_loadings = reduced_pca.components_.T\n",
    "reduced_train.head()"
   ]
  },
  {
   "cell_type": "markdown",
   "metadata": {
    "id": "hotLBERtMhMb"
   },
   "source": [
    "## Prepare validation data for scoring with training data\n",
    "- Replicate standardization and data reduction steps from working with training data\n",
    "- Use training data mean and loadings to standardize validation data"
   ]
  },
  {
   "cell_type": "code",
   "execution_count": 12,
   "metadata": {
    "colab": {
     "base_uri": "https://localhost:8080/",
     "height": 195
    },
    "id": "o__laWAfMfNW",
    "outputId": "9d76e157-f145-45fd-fa25-d828cd23576f"
   },
   "outputs": [
    {
     "data": {
      "text/html": [
       "<div>\n",
       "<style scoped>\n",
       "    .dataframe tbody tr th:only-of-type {\n",
       "        vertical-align: middle;\n",
       "    }\n",
       "\n",
       "    .dataframe tbody tr th {\n",
       "        vertical-align: top;\n",
       "    }\n",
       "\n",
       "    .dataframe thead th {\n",
       "        text-align: right;\n",
       "    }\n",
       "</style>\n",
       "<table border=\"1\" class=\"dataframe\">\n",
       "  <thead>\n",
       "    <tr style=\"text-align: right;\">\n",
       "      <th></th>\n",
       "      <th>PC1</th>\n",
       "      <th>PC2</th>\n",
       "      <th>PC3</th>\n",
       "      <th>PC4</th>\n",
       "      <th>PC5</th>\n",
       "      <th>PC6</th>\n",
       "      <th>PC7</th>\n",
       "      <th>PC8</th>\n",
       "      <th>PC9</th>\n",
       "      <th>PC10</th>\n",
       "    </tr>\n",
       "  </thead>\n",
       "  <tbody>\n",
       "    <tr>\n",
       "      <th>0</th>\n",
       "      <td>1.198308</td>\n",
       "      <td>-9.392109</td>\n",
       "      <td>-0.658277</td>\n",
       "      <td>1.239934</td>\n",
       "      <td>1.944853</td>\n",
       "      <td>-3.742387</td>\n",
       "      <td>0.934073</td>\n",
       "      <td>-3.010240</td>\n",
       "      <td>0.728508</td>\n",
       "      <td>1.682507</td>\n",
       "    </tr>\n",
       "    <tr>\n",
       "      <th>1</th>\n",
       "      <td>0.928094</td>\n",
       "      <td>-9.224510</td>\n",
       "      <td>-1.045991</td>\n",
       "      <td>1.256918</td>\n",
       "      <td>1.417890</td>\n",
       "      <td>-3.804866</td>\n",
       "      <td>1.043314</td>\n",
       "      <td>-2.472256</td>\n",
       "      <td>0.938388</td>\n",
       "      <td>2.380795</td>\n",
       "    </tr>\n",
       "    <tr>\n",
       "      <th>2</th>\n",
       "      <td>0.834377</td>\n",
       "      <td>-9.516810</td>\n",
       "      <td>-1.094164</td>\n",
       "      <td>1.664480</td>\n",
       "      <td>1.512342</td>\n",
       "      <td>-3.783873</td>\n",
       "      <td>0.933903</td>\n",
       "      <td>-2.755230</td>\n",
       "      <td>0.603287</td>\n",
       "      <td>1.689857</td>\n",
       "    </tr>\n",
       "    <tr>\n",
       "      <th>3</th>\n",
       "      <td>0.560771</td>\n",
       "      <td>-10.006776</td>\n",
       "      <td>-1.059451</td>\n",
       "      <td>1.795591</td>\n",
       "      <td>2.092857</td>\n",
       "      <td>-3.843692</td>\n",
       "      <td>0.626436</td>\n",
       "      <td>-2.959318</td>\n",
       "      <td>0.763884</td>\n",
       "      <td>2.517782</td>\n",
       "    </tr>\n",
       "    <tr>\n",
       "      <th>4</th>\n",
       "      <td>1.918714</td>\n",
       "      <td>-7.954106</td>\n",
       "      <td>0.664240</td>\n",
       "      <td>-1.323783</td>\n",
       "      <td>2.218978</td>\n",
       "      <td>-3.659937</td>\n",
       "      <td>1.183309</td>\n",
       "      <td>-2.799352</td>\n",
       "      <td>1.133254</td>\n",
       "      <td>1.205099</td>\n",
       "    </tr>\n",
       "  </tbody>\n",
       "</table>\n",
       "</div>"
      ],
      "text/plain": [
       "        PC1        PC2       PC3  ...       PC8       PC9      PC10\n",
       "0  1.198308  -9.392109 -0.658277  ... -3.010240  0.728508  1.682507\n",
       "1  0.928094  -9.224510 -1.045991  ... -2.472256  0.938388  2.380795\n",
       "2  0.834377  -9.516810 -1.094164  ... -2.755230  0.603287  1.689857\n",
       "3  0.560771 -10.006776 -1.059451  ... -2.959318  0.763884  2.517782\n",
       "4  1.918714  -7.954106  0.664240  ... -2.799352  1.133254  1.205099\n",
       "\n",
       "[5 rows x 10 columns]"
      ]
     },
     "execution_count": 12,
     "metadata": {
      "tags": []
     },
     "output_type": "execute_result"
    }
   ],
   "source": [
    "# standardize validation data using training mean and std\n",
    "v_scale = (valid_features - train_features.mean(axis=0))/train_features.std(axis=0, dtype=np.float64)\n",
    "valid_norm = pd.DataFrame(v_scale, columns=feature_list)\n",
    "\n",
    "# get 10 PCs using training loadings\n",
    "reduced_valid = pd.DataFrame(np.matmul(v_scale, reduced_loadings), columns=reduced_comps)\n",
    "reduced_valid.head()"
   ]
  },
  {
   "cell_type": "markdown",
   "metadata": {
    "id": "i9C68EJsM6Oh"
   },
   "source": [
    "## Prepare test data for scoring with training+validation data\n",
    "- Replicate standardization and data reduction steps from training and validation data\n",
    "- Use training + validation mean and loadings to standardize test data"
   ]
  },
  {
   "cell_type": "code",
   "execution_count": 13,
   "metadata": {
    "id": "ykJXSpoyM0vJ"
   },
   "outputs": [],
   "source": [
    "# Combine training and validation data into a single df (then convert to array)\n",
    "train_valid = pd.concat([X_train, X_valid], axis=0)\n",
    "train_valid_features = np.array(train_valid)\n",
    "\n",
    "# scale to standardize training+validation data\n",
    "ss = StandardScaler()\n",
    "ss.fit(train_valid_features)\n",
    "train_valid_norm = pd.DataFrame(ss.transform(train_valid_features), columns=feature_list)\n",
    "\n",
    "# Reduce training+validation data dimension to 10 PCs\n",
    "reduced_pca = PCA(n_components=10)\n",
    "reduced_train_valid = reduced_pca.fit_transform(train_valid_norm)\n",
    "reduced_train_valid = pd.DataFrame(reduced_train_valid, columns=reduced_comps)\n",
    "train_valid_loadings = reduced_pca.components_.T\n",
    "\n",
    "# standardize test data using training+validation mean and std\n",
    "test_scale = (test_features-train_valid_features.mean(axis=0))/train_valid_features.std(axis=0, dtype=np.float64)\n",
    "test_norm = pd.DataFrame(test_scale, columns=feature_list)\n",
    "\n",
    "# get 10 PCs using training+validation loadings\n",
    "reduced_test = pd.DataFrame(np.matmul(test_scale, train_valid_loadings), columns=reduced_comps)"
   ]
  },
  {
   "cell_type": "markdown",
   "metadata": {
    "id": "ddbLi9GLNH0W"
   },
   "source": [
    "### Export Reduced Data\n",
    "- Add target (binary target 2) back to reduced data\n",
    "- Export reduced data for later use"
   ]
  },
  {
   "cell_type": "code",
   "execution_count": null,
   "metadata": {},
   "outputs": [],
   "source": [
    "reduced_train = pd.concat([reduced_train, train_df['binary.target2']], axis=1)\n",
    "reduced_valid = pd.concat([reduced_valid, valid_df['binary.target2']], axis=1)\n",
    "\n",
    "# NOTE: test data does not provide target\n",
    "\n",
    "reduced_train.to_csv(r'C:\\Users\\chely\\Documents\\Fall 3\\ML\\Final Project\\reduced_train.csv')\n",
    "reduced_valid.to_csv(r'C:\\Users\\chely\\Documents\\Fall 3\\ML\\Final Project\\reduced_valid.csv')\n",
    "reduced_test.to_csv(r'C:\\Users\\chely\\Documents\\Fall 3\\ML\\Final Project\\reduced_test.csv')"
   ]
  }
 ],
 "metadata": {
  "colab": {
   "name": "ML Method - PCA.ipynb",
   "provenance": []
  },
  "kernelspec": {
   "display_name": "Python 3",
   "language": "python",
   "name": "python3"
  },
  "language_info": {
   "codemirror_mode": {
    "name": "ipython",
    "version": 3
   },
   "file_extension": ".py",
   "mimetype": "text/x-python",
   "name": "python",
   "nbconvert_exporter": "python",
   "pygments_lexer": "ipython3",
   "version": "3.7.6"
  }
 },
 "nbformat": 4,
 "nbformat_minor": 1
}
