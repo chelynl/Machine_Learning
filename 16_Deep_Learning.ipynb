{
  "nbformat": 4,
  "nbformat_minor": 0,
  "metadata": {
    "colab": {
      "name": "16 - Deep Learning.ipynb",
      "provenance": [],
      "collapsed_sections": [],
      "mount_file_id": "1A9bULU4Dm2tWVLMwOh0U5ZER1mbK8IT1",
      "authorship_tag": "ABX9TyMVchF0nbRDspCtuOXQE4Y+",
      "include_colab_link": true
    },
    "kernelspec": {
      "name": "python3",
      "display_name": "Python 3"
    },
    "language_info": {
      "name": "python"
    }
  },
  "cells": [
    {
      "cell_type": "markdown",
      "metadata": {
        "id": "view-in-github",
        "colab_type": "text"
      },
      "source": [
        "<a href=\"https://colab.research.google.com/github/chelynl/Machine_Learning/blob/main/16_Deep_Learning.ipynb\" target=\"_parent\"><img src=\"https://colab.research.google.com/assets/colab-badge.svg\" alt=\"Open In Colab\"/></a>"
      ]
    },
    {
      "cell_type": "markdown",
      "metadata": {
        "id": "arO7Bu0vtqQe"
      },
      "source": [
        "# **Artificial Neural Networks (ANN)**\n",
        "- Can fall under all 3 categories (supervised, unsupervised, reinforcement learning)\n",
        "- **Supervised**\n",
        " - CNNs classifying images in imagenet\n",
        "- **Unsupervised**\n",
        " - Boltzmann Machines, AutoEncoders, GANs, DC-GANS, VAE, SOMs, etc.\n",
        "- **Reinforcement learning**\n",
        " - Deep Convolutional Q-Learning that plays videogames from pixel input, AlphaGO, etc. (deep reinforcement learning, \"AI\")"
      ]
    },
    {
      "cell_type": "code",
      "metadata": {
        "id": "N7Z_zt9etcGd"
      },
      "source": [
        "# load dependencies\n",
        "import numpy as np\n",
        "import pandas as pd\n",
        "from sklearn.compose import make_column_transformer, make_column_selector\n",
        "from sklearn.preprocessing import StandardScaler, OneHotEncoder, OrdinalEncoder\n",
        "from sklearn.metrics import confusion_matrix, accuracy_score\n",
        "import tensorflow as tf"
      ],
      "execution_count": null,
      "outputs": []
    },
    {
      "cell_type": "code",
      "metadata": {
        "colab": {
          "base_uri": "https://localhost:8080/",
          "height": 35
        },
        "id": "EL85Tr_1wimf",
        "outputId": "717b61be-6227-491b-9d96-e188fa3a60b1"
      },
      "source": [
        "# see tf version\n",
        "tf.__version__"
      ],
      "execution_count": null,
      "outputs": [
        {
          "output_type": "execute_result",
          "data": {
            "application/vnd.google.colaboratory.intrinsic+json": {
              "type": "string"
            },
            "text/plain": [
              "'2.5.0'"
            ]
          },
          "metadata": {
            "tags": []
          },
          "execution_count": 2
        }
      ]
    },
    {
      "cell_type": "markdown",
      "metadata": {
        "id": "40I1_3jBws-D"
      },
      "source": [
        "## Data Preprocessing"
      ]
    },
    {
      "cell_type": "code",
      "metadata": {
        "colab": {
          "base_uri": "https://localhost:8080/",
          "height": 200
        },
        "id": "wWttJwoewpC7",
        "outputId": "ca501678-4891-4a78-ea07-5c5f5a8cc6ef"
      },
      "source": [
        "df = pd.read_csv('https://raw.githubusercontent.com/chelynl/ML_notes/main/deep_learning/Churn_Modelling.csv?token=AMGO4MC3JY4W7WHLIVTAEQLA5R6CC')\n",
        "df.head()"
      ],
      "execution_count": null,
      "outputs": [
        {
          "output_type": "execute_result",
          "data": {
            "text/html": [
              "<div>\n",
              "<style scoped>\n",
              "    .dataframe tbody tr th:only-of-type {\n",
              "        vertical-align: middle;\n",
              "    }\n",
              "\n",
              "    .dataframe tbody tr th {\n",
              "        vertical-align: top;\n",
              "    }\n",
              "\n",
              "    .dataframe thead th {\n",
              "        text-align: right;\n",
              "    }\n",
              "</style>\n",
              "<table border=\"1\" class=\"dataframe\">\n",
              "  <thead>\n",
              "    <tr style=\"text-align: right;\">\n",
              "      <th></th>\n",
              "      <th>RowNumber</th>\n",
              "      <th>CustomerId</th>\n",
              "      <th>Surname</th>\n",
              "      <th>CreditScore</th>\n",
              "      <th>Geography</th>\n",
              "      <th>Gender</th>\n",
              "      <th>Age</th>\n",
              "      <th>Tenure</th>\n",
              "      <th>Balance</th>\n",
              "      <th>NumOfProducts</th>\n",
              "      <th>HasCrCard</th>\n",
              "      <th>IsActiveMember</th>\n",
              "      <th>EstimatedSalary</th>\n",
              "      <th>Exited</th>\n",
              "    </tr>\n",
              "  </thead>\n",
              "  <tbody>\n",
              "    <tr>\n",
              "      <th>0</th>\n",
              "      <td>1</td>\n",
              "      <td>15634602</td>\n",
              "      <td>Hargrave</td>\n",
              "      <td>619</td>\n",
              "      <td>France</td>\n",
              "      <td>Female</td>\n",
              "      <td>42</td>\n",
              "      <td>2</td>\n",
              "      <td>0.00</td>\n",
              "      <td>1</td>\n",
              "      <td>1</td>\n",
              "      <td>1</td>\n",
              "      <td>101348.88</td>\n",
              "      <td>1</td>\n",
              "    </tr>\n",
              "    <tr>\n",
              "      <th>1</th>\n",
              "      <td>2</td>\n",
              "      <td>15647311</td>\n",
              "      <td>Hill</td>\n",
              "      <td>608</td>\n",
              "      <td>Spain</td>\n",
              "      <td>Female</td>\n",
              "      <td>41</td>\n",
              "      <td>1</td>\n",
              "      <td>83807.86</td>\n",
              "      <td>1</td>\n",
              "      <td>0</td>\n",
              "      <td>1</td>\n",
              "      <td>112542.58</td>\n",
              "      <td>0</td>\n",
              "    </tr>\n",
              "    <tr>\n",
              "      <th>2</th>\n",
              "      <td>3</td>\n",
              "      <td>15619304</td>\n",
              "      <td>Onio</td>\n",
              "      <td>502</td>\n",
              "      <td>France</td>\n",
              "      <td>Female</td>\n",
              "      <td>42</td>\n",
              "      <td>8</td>\n",
              "      <td>159660.80</td>\n",
              "      <td>3</td>\n",
              "      <td>1</td>\n",
              "      <td>0</td>\n",
              "      <td>113931.57</td>\n",
              "      <td>1</td>\n",
              "    </tr>\n",
              "    <tr>\n",
              "      <th>3</th>\n",
              "      <td>4</td>\n",
              "      <td>15701354</td>\n",
              "      <td>Boni</td>\n",
              "      <td>699</td>\n",
              "      <td>France</td>\n",
              "      <td>Female</td>\n",
              "      <td>39</td>\n",
              "      <td>1</td>\n",
              "      <td>0.00</td>\n",
              "      <td>2</td>\n",
              "      <td>0</td>\n",
              "      <td>0</td>\n",
              "      <td>93826.63</td>\n",
              "      <td>0</td>\n",
              "    </tr>\n",
              "    <tr>\n",
              "      <th>4</th>\n",
              "      <td>5</td>\n",
              "      <td>15737888</td>\n",
              "      <td>Mitchell</td>\n",
              "      <td>850</td>\n",
              "      <td>Spain</td>\n",
              "      <td>Female</td>\n",
              "      <td>43</td>\n",
              "      <td>2</td>\n",
              "      <td>125510.82</td>\n",
              "      <td>1</td>\n",
              "      <td>1</td>\n",
              "      <td>1</td>\n",
              "      <td>79084.10</td>\n",
              "      <td>0</td>\n",
              "    </tr>\n",
              "  </tbody>\n",
              "</table>\n",
              "</div>"
            ],
            "text/plain": [
              "   RowNumber  CustomerId   Surname  ...  IsActiveMember EstimatedSalary Exited\n",
              "0          1    15634602  Hargrave  ...               1       101348.88      1\n",
              "1          2    15647311      Hill  ...               1       112542.58      0\n",
              "2          3    15619304      Onio  ...               0       113931.57      1\n",
              "3          4    15701354      Boni  ...               0        93826.63      0\n",
              "4          5    15737888  Mitchell  ...               1        79084.10      0\n",
              "\n",
              "[5 rows x 14 columns]"
            ]
          },
          "metadata": {
            "tags": []
          },
          "execution_count": 3
        }
      ]
    },
    {
      "cell_type": "code",
      "metadata": {
        "colab": {
          "base_uri": "https://localhost:8080/"
        },
        "id": "uq2Yzlmwy_WU",
        "outputId": "a6f2312d-bb8e-4afb-a8d1-d3375969cb37"
      },
      "source": [
        "# See dimensions\n",
        "df.shape"
      ],
      "execution_count": null,
      "outputs": [
        {
          "output_type": "execute_result",
          "data": {
            "text/plain": [
              "(10000, 14)"
            ]
          },
          "metadata": {
            "tags": []
          },
          "execution_count": 19
        }
      ]
    },
    {
      "cell_type": "code",
      "metadata": {
        "colab": {
          "base_uri": "https://localhost:8080/"
        },
        "id": "tEwTnA9wzDC0",
        "outputId": "a279f69e-d626-455d-aeca-11229f7ccfbb"
      },
      "source": [
        "# No missing data \n",
        "df.info()"
      ],
      "execution_count": null,
      "outputs": [
        {
          "output_type": "stream",
          "text": [
            "<class 'pandas.core.frame.DataFrame'>\n",
            "RangeIndex: 10000 entries, 0 to 9999\n",
            "Data columns (total 14 columns):\n",
            " #   Column           Non-Null Count  Dtype  \n",
            "---  ------           --------------  -----  \n",
            " 0   RowNumber        10000 non-null  int64  \n",
            " 1   CustomerId       10000 non-null  int64  \n",
            " 2   Surname          10000 non-null  object \n",
            " 3   CreditScore      10000 non-null  int64  \n",
            " 4   Geography        10000 non-null  object \n",
            " 5   Gender           10000 non-null  object \n",
            " 6   Age              10000 non-null  int64  \n",
            " 7   Tenure           10000 non-null  int64  \n",
            " 8   Balance          10000 non-null  float64\n",
            " 9   NumOfProducts    10000 non-null  int64  \n",
            " 10  HasCrCard        10000 non-null  int64  \n",
            " 11  IsActiveMember   10000 non-null  int64  \n",
            " 12  EstimatedSalary  10000 non-null  float64\n",
            " 13  Exited           10000 non-null  int64  \n",
            "dtypes: float64(2), int64(9), object(3)\n",
            "memory usage: 1.1+ MB\n"
          ],
          "name": "stdout"
        }
      ]
    },
    {
      "cell_type": "code",
      "metadata": {
        "id": "uRyN0Z69xD2R"
      },
      "source": [
        "# Define target and inputs\n",
        "X = df.iloc[:, 3:-1]\n",
        "y = df.iloc[:, -1]"
      ],
      "execution_count": null,
      "outputs": []
    },
    {
      "cell_type": "code",
      "metadata": {
        "colab": {
          "base_uri": "https://localhost:8080/",
          "height": 408
        },
        "id": "smmR45rrxkiU",
        "outputId": "b30951b9-f444-433e-ed97-02758a2a0b47"
      },
      "source": [
        "X"
      ],
      "execution_count": null,
      "outputs": [
        {
          "output_type": "execute_result",
          "data": {
            "text/html": [
              "<div>\n",
              "<style scoped>\n",
              "    .dataframe tbody tr th:only-of-type {\n",
              "        vertical-align: middle;\n",
              "    }\n",
              "\n",
              "    .dataframe tbody tr th {\n",
              "        vertical-align: top;\n",
              "    }\n",
              "\n",
              "    .dataframe thead th {\n",
              "        text-align: right;\n",
              "    }\n",
              "</style>\n",
              "<table border=\"1\" class=\"dataframe\">\n",
              "  <thead>\n",
              "    <tr style=\"text-align: right;\">\n",
              "      <th></th>\n",
              "      <th>CreditScore</th>\n",
              "      <th>Geography</th>\n",
              "      <th>Gender</th>\n",
              "      <th>Age</th>\n",
              "      <th>Tenure</th>\n",
              "      <th>Balance</th>\n",
              "      <th>NumOfProducts</th>\n",
              "      <th>HasCrCard</th>\n",
              "      <th>IsActiveMember</th>\n",
              "      <th>EstimatedSalary</th>\n",
              "    </tr>\n",
              "  </thead>\n",
              "  <tbody>\n",
              "    <tr>\n",
              "      <th>0</th>\n",
              "      <td>619</td>\n",
              "      <td>France</td>\n",
              "      <td>Female</td>\n",
              "      <td>42</td>\n",
              "      <td>2</td>\n",
              "      <td>0.00</td>\n",
              "      <td>1</td>\n",
              "      <td>1</td>\n",
              "      <td>1</td>\n",
              "      <td>101348.88</td>\n",
              "    </tr>\n",
              "    <tr>\n",
              "      <th>1</th>\n",
              "      <td>608</td>\n",
              "      <td>Spain</td>\n",
              "      <td>Female</td>\n",
              "      <td>41</td>\n",
              "      <td>1</td>\n",
              "      <td>83807.86</td>\n",
              "      <td>1</td>\n",
              "      <td>0</td>\n",
              "      <td>1</td>\n",
              "      <td>112542.58</td>\n",
              "    </tr>\n",
              "    <tr>\n",
              "      <th>2</th>\n",
              "      <td>502</td>\n",
              "      <td>France</td>\n",
              "      <td>Female</td>\n",
              "      <td>42</td>\n",
              "      <td>8</td>\n",
              "      <td>159660.80</td>\n",
              "      <td>3</td>\n",
              "      <td>1</td>\n",
              "      <td>0</td>\n",
              "      <td>113931.57</td>\n",
              "    </tr>\n",
              "    <tr>\n",
              "      <th>3</th>\n",
              "      <td>699</td>\n",
              "      <td>France</td>\n",
              "      <td>Female</td>\n",
              "      <td>39</td>\n",
              "      <td>1</td>\n",
              "      <td>0.00</td>\n",
              "      <td>2</td>\n",
              "      <td>0</td>\n",
              "      <td>0</td>\n",
              "      <td>93826.63</td>\n",
              "    </tr>\n",
              "    <tr>\n",
              "      <th>4</th>\n",
              "      <td>850</td>\n",
              "      <td>Spain</td>\n",
              "      <td>Female</td>\n",
              "      <td>43</td>\n",
              "      <td>2</td>\n",
              "      <td>125510.82</td>\n",
              "      <td>1</td>\n",
              "      <td>1</td>\n",
              "      <td>1</td>\n",
              "      <td>79084.10</td>\n",
              "    </tr>\n",
              "    <tr>\n",
              "      <th>...</th>\n",
              "      <td>...</td>\n",
              "      <td>...</td>\n",
              "      <td>...</td>\n",
              "      <td>...</td>\n",
              "      <td>...</td>\n",
              "      <td>...</td>\n",
              "      <td>...</td>\n",
              "      <td>...</td>\n",
              "      <td>...</td>\n",
              "      <td>...</td>\n",
              "    </tr>\n",
              "    <tr>\n",
              "      <th>9995</th>\n",
              "      <td>771</td>\n",
              "      <td>France</td>\n",
              "      <td>Male</td>\n",
              "      <td>39</td>\n",
              "      <td>5</td>\n",
              "      <td>0.00</td>\n",
              "      <td>2</td>\n",
              "      <td>1</td>\n",
              "      <td>0</td>\n",
              "      <td>96270.64</td>\n",
              "    </tr>\n",
              "    <tr>\n",
              "      <th>9996</th>\n",
              "      <td>516</td>\n",
              "      <td>France</td>\n",
              "      <td>Male</td>\n",
              "      <td>35</td>\n",
              "      <td>10</td>\n",
              "      <td>57369.61</td>\n",
              "      <td>1</td>\n",
              "      <td>1</td>\n",
              "      <td>1</td>\n",
              "      <td>101699.77</td>\n",
              "    </tr>\n",
              "    <tr>\n",
              "      <th>9997</th>\n",
              "      <td>709</td>\n",
              "      <td>France</td>\n",
              "      <td>Female</td>\n",
              "      <td>36</td>\n",
              "      <td>7</td>\n",
              "      <td>0.00</td>\n",
              "      <td>1</td>\n",
              "      <td>0</td>\n",
              "      <td>1</td>\n",
              "      <td>42085.58</td>\n",
              "    </tr>\n",
              "    <tr>\n",
              "      <th>9998</th>\n",
              "      <td>772</td>\n",
              "      <td>Germany</td>\n",
              "      <td>Male</td>\n",
              "      <td>42</td>\n",
              "      <td>3</td>\n",
              "      <td>75075.31</td>\n",
              "      <td>2</td>\n",
              "      <td>1</td>\n",
              "      <td>0</td>\n",
              "      <td>92888.52</td>\n",
              "    </tr>\n",
              "    <tr>\n",
              "      <th>9999</th>\n",
              "      <td>792</td>\n",
              "      <td>France</td>\n",
              "      <td>Female</td>\n",
              "      <td>28</td>\n",
              "      <td>4</td>\n",
              "      <td>130142.79</td>\n",
              "      <td>1</td>\n",
              "      <td>1</td>\n",
              "      <td>0</td>\n",
              "      <td>38190.78</td>\n",
              "    </tr>\n",
              "  </tbody>\n",
              "</table>\n",
              "<p>10000 rows × 10 columns</p>\n",
              "</div>"
            ],
            "text/plain": [
              "      CreditScore Geography  Gender  ...  HasCrCard  IsActiveMember  EstimatedSalary\n",
              "0             619    France  Female  ...          1               1        101348.88\n",
              "1             608     Spain  Female  ...          0               1        112542.58\n",
              "2             502    France  Female  ...          1               0        113931.57\n",
              "3             699    France  Female  ...          0               0         93826.63\n",
              "4             850     Spain  Female  ...          1               1         79084.10\n",
              "...           ...       ...     ...  ...        ...             ...              ...\n",
              "9995          771    France    Male  ...          1               0         96270.64\n",
              "9996          516    France    Male  ...          1               1        101699.77\n",
              "9997          709    France  Female  ...          0               1         42085.58\n",
              "9998          772   Germany    Male  ...          1               0         92888.52\n",
              "9999          792    France  Female  ...          1               0         38190.78\n",
              "\n",
              "[10000 rows x 10 columns]"
            ]
          },
          "metadata": {
            "tags": []
          },
          "execution_count": 58
        }
      ]
    },
    {
      "cell_type": "code",
      "metadata": {
        "colab": {
          "base_uri": "https://localhost:8080/"
        },
        "id": "whYx8flsxldh",
        "outputId": "110b4470-9271-49a0-fe57-e04807a967b5"
      },
      "source": [
        "y"
      ],
      "execution_count": null,
      "outputs": [
        {
          "output_type": "execute_result",
          "data": {
            "text/plain": [
              "0       1\n",
              "1       0\n",
              "2       1\n",
              "3       0\n",
              "4       0\n",
              "       ..\n",
              "9995    0\n",
              "9996    0\n",
              "9997    1\n",
              "9998    1\n",
              "9999    0\n",
              "Name: Exited, Length: 10000, dtype: int64"
            ]
          },
          "metadata": {
            "tags": []
          },
          "execution_count": 34
        }
      ]
    },
    {
      "cell_type": "markdown",
      "metadata": {
        "id": "BRkDIyFSxYEr"
      },
      "source": [
        "**Encode categorical data**\n",
        "\n",
        "- Get binary values for the `'Gender'` column by using `OrdinalEncoder()` since `LabelEncoder()` is not compatible for features and it's usually used for binary targets.\n",
        "- Get dummy values for the `'Geography'` column using `OneHotEncoder()` since there are three countries (levels) with no ordering.\n",
        "\n",
        "After encoding, scale features to prevent features from producing activations of very different sizes that can cause unstable training behavior."
      ]
    },
    {
      "cell_type": "code",
      "metadata": {
        "colab": {
          "base_uri": "https://localhost:8080/"
        },
        "id": "qDMJoZDMy96K",
        "outputId": "29d23fec-c21a-4fa9-fdba-9ae5e217da73"
      },
      "source": [
        "# Create encoding pipeline\n",
        "encoder = make_column_transformer(\n",
        "    # label encode \"gender\" col\n",
        "    (OrdinalEncoder(), ['Gender']),\n",
        "    # one-hot encode \"geography\" col\n",
        "    (OneHotEncoder(), ['Geography']),\n",
        "    remainder='passthrough'\n",
        ")\n",
        "\n",
        "# Encode features\n",
        "X = encoder.fit_transform(X)\n",
        "# Scale features\n",
        "ss = StandardScaler()\n",
        "X = ss.fit_transform(X)\n",
        "\n",
        "# See number of units to use for NN\n",
        "input_shape = [X.shape[1]]\n",
        "print(\"Input shape: {}\".format(input_shape))\n",
        "\n",
        "# Partition data\n",
        "X_train, X_test, y_train, y_test = train_test_split(X, y, test_size = 0.2, random_state = 0)"
      ],
      "execution_count": null,
      "outputs": [
        {
          "output_type": "stream",
          "text": [
            "Input shape: [12]\n"
          ],
          "name": "stdout"
        }
      ]
    },
    {
      "cell_type": "markdown",
      "metadata": {
        "id": "KPA905iuQsZu"
      },
      "source": [
        "## Model Building\n",
        "\n",
        "- NNs can be thought of as compositions of logistic regressions\n",
        "- Intercept is called \"bias\"\n",
        "- Input units are associated with weights\n",
        " - **Weights** are determined by an optimization algorithm that minimizes the loss function\n",
        " - **Optimization** algorithms: stochastic gradient descent (Adams, etc.)\n",
        " - **Loss** functions: MAE, MSE, Huber for regression and cross-entropy for classification\n",
        "- Special layers:\n",
        " - **Dropout** = get ensemble of layers to prevent overfitting and get better predictions\n",
        " - **BatchNorm** = can help correct slow/unstable training by normalizing each batch\n",
        "- NNs stops when training loss reaches close to 0 (potential for overfitting) and last epoch is used\n",
        "- You can stop training prematurely via **early stopping** to prevent overfitting, which will stop training once validation loss starts to increase (training stops before last epoch)\n",
        "\n",
        "### Terminology\n",
        "- Loss function\n",
        " - calculated at every instance/epoch (multiple times for a single training set)\n",
        "- Cost function\n",
        " - calculated as an average of loss functions (once for a single training set)\n",
        "- Activation function\n",
        " - allow NNs to learn complex nonlinear patterns\n",
        " - breaks the linearity between the output neurons and input neurons\n",
        " - ex/ rectifier activation\n",
        "\n",
        "### How to decide number of hidden layers?\n",
        " - more layers can give higher accuracy but also potential for overfitting\n",
        " - more layers = higher capacity (easier to learn nonlinear patterns)\n",
        " - use intuition, experience, and parameter tuning to find the best number (no rule of thumb)\n"
      ]
    },
    {
      "cell_type": "code",
      "metadata": {
        "id": "R-B3weUAMapy"
      },
      "source": [
        "# Instantiate ANN\n",
        "ann = tf.keras.models.Sequential() # Sequential() is used to initialize NN as a sequence of layers\n",
        "\n",
        "# Add input layer and first hidden layer\n",
        "ann.add(tf.keras.layers.Dense(units=6, activation='relu')) # Dense() is used to add a layer of neurons to NN\n",
        "\n",
        "# Add second input layer\n",
        "ann.add(tf.keras.layers.Dense(units=6, activation='relu'))\n",
        "\n",
        "# Add output layer\n",
        "ann.add(tf.keras.layers.Dense(units=1, activation='sigmoid'))"
      ],
      "execution_count": null,
      "outputs": []
    },
    {
      "cell_type": "markdown",
      "metadata": {
        "id": "37rGeQP-RAoo"
      },
      "source": [
        "## Model Training\n",
        "\n",
        "Before training, weights are randomly initialized with values close to 0. Then, over the course of epochs, the weights are updated via SGD in the direction that decreases the most loss error (cost function) between predictions and the targets.\n",
        "\n",
        "### Training Process of Each Iteration (Epoch)\n",
        "1. Forward Propagation: inputs are forward propagated inside the NN (at the end returns the prediction).\n",
        "2. Compare prediction to the target and compute the loss error between them.\n",
        "3. That loss error is back-propagated inside the NN.\n",
        "4. Through SGD, the weights are updated in the directions that reduce the most loss error (loss error is a cost function of the weights).\n",
        "5. New weights are assigned to inputs and repeat iteration to make new prediction. Continue process until the loss error stops reducing (early stopping) or until training reaches the last epoch."
      ]
    },
    {
      "cell_type": "code",
      "metadata": {
        "colab": {
          "base_uri": "https://localhost:8080/"
        },
        "id": "RXo0ETM1RBs1",
        "outputId": "ff3eb8c5-c83d-4aa7-877e-aab550d1e36f"
      },
      "source": [
        "# Compile the ANN\n",
        "ann.compile(optimizer = 'adam', loss = 'binary_crossentropy', metrics = ['accuracy'])\n",
        "\n",
        "# Fit ANN to training data\n",
        "ann.fit(X_train, y_train, batch_size = 32, epochs = 100)"
      ],
      "execution_count": null,
      "outputs": [
        {
          "output_type": "stream",
          "text": [
            "Epoch 1/100\n",
            "250/250 [==============================] - 1s 1ms/step - loss: 0.7586 - accuracy: 0.4921\n",
            "Epoch 2/100\n",
            "250/250 [==============================] - 0s 1ms/step - loss: 0.5995 - accuracy: 0.7952\n",
            "Epoch 3/100\n",
            "250/250 [==============================] - 0s 1ms/step - loss: 0.4965 - accuracy: 0.7962\n",
            "Epoch 4/100\n",
            "250/250 [==============================] - 0s 1ms/step - loss: 0.4496 - accuracy: 0.8027\n",
            "Epoch 5/100\n",
            "250/250 [==============================] - 0s 1ms/step - loss: 0.4275 - accuracy: 0.8124\n",
            "Epoch 6/100\n",
            "250/250 [==============================] - 0s 1ms/step - loss: 0.4130 - accuracy: 0.8227\n",
            "Epoch 7/100\n",
            "250/250 [==============================] - 0s 1ms/step - loss: 0.4011 - accuracy: 0.8303\n",
            "Epoch 8/100\n",
            "250/250 [==============================] - 0s 1ms/step - loss: 0.3899 - accuracy: 0.8366\n",
            "Epoch 9/100\n",
            "250/250 [==============================] - 0s 1ms/step - loss: 0.3798 - accuracy: 0.8406\n",
            "Epoch 10/100\n",
            "250/250 [==============================] - 0s 1ms/step - loss: 0.3712 - accuracy: 0.8431\n",
            "Epoch 11/100\n",
            "250/250 [==============================] - 0s 1ms/step - loss: 0.3644 - accuracy: 0.8476\n",
            "Epoch 12/100\n",
            "250/250 [==============================] - 0s 1ms/step - loss: 0.3591 - accuracy: 0.8489\n",
            "Epoch 13/100\n",
            "250/250 [==============================] - 0s 1ms/step - loss: 0.3557 - accuracy: 0.8496\n",
            "Epoch 14/100\n",
            "250/250 [==============================] - 0s 1ms/step - loss: 0.3528 - accuracy: 0.8511\n",
            "Epoch 15/100\n",
            "250/250 [==============================] - 0s 1ms/step - loss: 0.3506 - accuracy: 0.8530\n",
            "Epoch 16/100\n",
            "250/250 [==============================] - 0s 1ms/step - loss: 0.3489 - accuracy: 0.8536\n",
            "Epoch 17/100\n",
            "250/250 [==============================] - 0s 1ms/step - loss: 0.3468 - accuracy: 0.8571\n",
            "Epoch 18/100\n",
            "250/250 [==============================] - 0s 1ms/step - loss: 0.3455 - accuracy: 0.8558\n",
            "Epoch 19/100\n",
            "250/250 [==============================] - 0s 1ms/step - loss: 0.3446 - accuracy: 0.8581\n",
            "Epoch 20/100\n",
            "250/250 [==============================] - 0s 1ms/step - loss: 0.3436 - accuracy: 0.8586\n",
            "Epoch 21/100\n",
            "250/250 [==============================] - 0s 1ms/step - loss: 0.3427 - accuracy: 0.8609\n",
            "Epoch 22/100\n",
            "250/250 [==============================] - 0s 1ms/step - loss: 0.3419 - accuracy: 0.8596\n",
            "Epoch 23/100\n",
            "250/250 [==============================] - 0s 1ms/step - loss: 0.3415 - accuracy: 0.8605\n",
            "Epoch 24/100\n",
            "250/250 [==============================] - 0s 1ms/step - loss: 0.3408 - accuracy: 0.8618\n",
            "Epoch 25/100\n",
            "250/250 [==============================] - 0s 2ms/step - loss: 0.3405 - accuracy: 0.8608\n",
            "Epoch 26/100\n",
            "250/250 [==============================] - 0s 1ms/step - loss: 0.3398 - accuracy: 0.8619\n",
            "Epoch 27/100\n",
            "250/250 [==============================] - 0s 1ms/step - loss: 0.3395 - accuracy: 0.8634\n",
            "Epoch 28/100\n",
            "250/250 [==============================] - 0s 1ms/step - loss: 0.3391 - accuracy: 0.8624\n",
            "Epoch 29/100\n",
            "250/250 [==============================] - 0s 1ms/step - loss: 0.3388 - accuracy: 0.8612\n",
            "Epoch 30/100\n",
            "250/250 [==============================] - 0s 1ms/step - loss: 0.3385 - accuracy: 0.8627\n",
            "Epoch 31/100\n",
            "250/250 [==============================] - 0s 1ms/step - loss: 0.3380 - accuracy: 0.8618\n",
            "Epoch 32/100\n",
            "250/250 [==============================] - 0s 1ms/step - loss: 0.3381 - accuracy: 0.8640\n",
            "Epoch 33/100\n",
            "250/250 [==============================] - 0s 1ms/step - loss: 0.3378 - accuracy: 0.8619\n",
            "Epoch 34/100\n",
            "250/250 [==============================] - 0s 1ms/step - loss: 0.3371 - accuracy: 0.8641\n",
            "Epoch 35/100\n",
            "250/250 [==============================] - 0s 1ms/step - loss: 0.3374 - accuracy: 0.8626\n",
            "Epoch 36/100\n",
            "250/250 [==============================] - 0s 1ms/step - loss: 0.3373 - accuracy: 0.8648\n",
            "Epoch 37/100\n",
            "250/250 [==============================] - 0s 1ms/step - loss: 0.3369 - accuracy: 0.8627\n",
            "Epoch 38/100\n",
            "250/250 [==============================] - 0s 2ms/step - loss: 0.3368 - accuracy: 0.8636\n",
            "Epoch 39/100\n",
            "250/250 [==============================] - 0s 1ms/step - loss: 0.3363 - accuracy: 0.8652\n",
            "Epoch 40/100\n",
            "250/250 [==============================] - 0s 1ms/step - loss: 0.3362 - accuracy: 0.8625\n",
            "Epoch 41/100\n",
            "250/250 [==============================] - 0s 2ms/step - loss: 0.3361 - accuracy: 0.8635\n",
            "Epoch 42/100\n",
            "250/250 [==============================] - 0s 1ms/step - loss: 0.3360 - accuracy: 0.8645\n",
            "Epoch 43/100\n",
            "250/250 [==============================] - 0s 1ms/step - loss: 0.3358 - accuracy: 0.8631\n",
            "Epoch 44/100\n",
            "250/250 [==============================] - 0s 1ms/step - loss: 0.3356 - accuracy: 0.8634\n",
            "Epoch 45/100\n",
            "250/250 [==============================] - 0s 1ms/step - loss: 0.3356 - accuracy: 0.8633\n",
            "Epoch 46/100\n",
            "250/250 [==============================] - 0s 1ms/step - loss: 0.3350 - accuracy: 0.8655\n",
            "Epoch 47/100\n",
            "250/250 [==============================] - 0s 1ms/step - loss: 0.3352 - accuracy: 0.8650\n",
            "Epoch 48/100\n",
            "250/250 [==============================] - 0s 1ms/step - loss: 0.3349 - accuracy: 0.8641\n",
            "Epoch 49/100\n",
            "250/250 [==============================] - 0s 1ms/step - loss: 0.3348 - accuracy: 0.8654\n",
            "Epoch 50/100\n",
            "250/250 [==============================] - 0s 1ms/step - loss: 0.3342 - accuracy: 0.8658\n",
            "Epoch 51/100\n",
            "250/250 [==============================] - 0s 1ms/step - loss: 0.3344 - accuracy: 0.8646\n",
            "Epoch 52/100\n",
            "250/250 [==============================] - 0s 1ms/step - loss: 0.3339 - accuracy: 0.8654\n",
            "Epoch 53/100\n",
            "250/250 [==============================] - 0s 1ms/step - loss: 0.3343 - accuracy: 0.8658\n",
            "Epoch 54/100\n",
            "250/250 [==============================] - 0s 1ms/step - loss: 0.3337 - accuracy: 0.8645\n",
            "Epoch 55/100\n",
            "250/250 [==============================] - 0s 1ms/step - loss: 0.3339 - accuracy: 0.8648\n",
            "Epoch 56/100\n",
            "250/250 [==============================] - 0s 1ms/step - loss: 0.3334 - accuracy: 0.8652\n",
            "Epoch 57/100\n",
            "250/250 [==============================] - 0s 1ms/step - loss: 0.3336 - accuracy: 0.8634\n",
            "Epoch 58/100\n",
            "250/250 [==============================] - 0s 1ms/step - loss: 0.3336 - accuracy: 0.8652\n",
            "Epoch 59/100\n",
            "250/250 [==============================] - 0s 1ms/step - loss: 0.3334 - accuracy: 0.8644\n",
            "Epoch 60/100\n",
            "250/250 [==============================] - 0s 1ms/step - loss: 0.3333 - accuracy: 0.8648\n",
            "Epoch 61/100\n",
            "250/250 [==============================] - 0s 2ms/step - loss: 0.3332 - accuracy: 0.8651\n",
            "Epoch 62/100\n",
            "250/250 [==============================] - 0s 1ms/step - loss: 0.3331 - accuracy: 0.8676\n",
            "Epoch 63/100\n",
            "250/250 [==============================] - 0s 1ms/step - loss: 0.3331 - accuracy: 0.8643\n",
            "Epoch 64/100\n",
            "250/250 [==============================] - 0s 2ms/step - loss: 0.3327 - accuracy: 0.8639\n",
            "Epoch 65/100\n",
            "250/250 [==============================] - 0s 1ms/step - loss: 0.3330 - accuracy: 0.8661\n",
            "Epoch 66/100\n",
            "250/250 [==============================] - 0s 1ms/step - loss: 0.3329 - accuracy: 0.8640\n",
            "Epoch 67/100\n",
            "250/250 [==============================] - 0s 2ms/step - loss: 0.3326 - accuracy: 0.8661\n",
            "Epoch 68/100\n",
            "250/250 [==============================] - 0s 1ms/step - loss: 0.3328 - accuracy: 0.8648\n",
            "Epoch 69/100\n",
            "250/250 [==============================] - 0s 1ms/step - loss: 0.3324 - accuracy: 0.8670\n",
            "Epoch 70/100\n",
            "250/250 [==============================] - 0s 1ms/step - loss: 0.3323 - accuracy: 0.8658\n",
            "Epoch 71/100\n",
            "250/250 [==============================] - 0s 1ms/step - loss: 0.3319 - accuracy: 0.8651\n",
            "Epoch 72/100\n",
            "250/250 [==============================] - 0s 1ms/step - loss: 0.3322 - accuracy: 0.8648\n",
            "Epoch 73/100\n",
            "250/250 [==============================] - 0s 1ms/step - loss: 0.3321 - accuracy: 0.8662\n",
            "Epoch 74/100\n",
            "250/250 [==============================] - 0s 1ms/step - loss: 0.3316 - accuracy: 0.8655\n",
            "Epoch 75/100\n",
            "250/250 [==============================] - 0s 1ms/step - loss: 0.3319 - accuracy: 0.8661\n",
            "Epoch 76/100\n",
            "250/250 [==============================] - 0s 1ms/step - loss: 0.3320 - accuracy: 0.8649\n",
            "Epoch 77/100\n",
            "250/250 [==============================] - 0s 1ms/step - loss: 0.3318 - accuracy: 0.8656\n",
            "Epoch 78/100\n",
            "250/250 [==============================] - 0s 1ms/step - loss: 0.3318 - accuracy: 0.8649\n",
            "Epoch 79/100\n",
            "250/250 [==============================] - 0s 1ms/step - loss: 0.3314 - accuracy: 0.8645\n",
            "Epoch 80/100\n",
            "250/250 [==============================] - 0s 1ms/step - loss: 0.3316 - accuracy: 0.8651\n",
            "Epoch 81/100\n",
            "250/250 [==============================] - 0s 1ms/step - loss: 0.3315 - accuracy: 0.8655\n",
            "Epoch 82/100\n",
            "250/250 [==============================] - 0s 1ms/step - loss: 0.3314 - accuracy: 0.8654\n",
            "Epoch 83/100\n",
            "250/250 [==============================] - 0s 1ms/step - loss: 0.3315 - accuracy: 0.8649\n",
            "Epoch 84/100\n",
            "250/250 [==============================] - 0s 1ms/step - loss: 0.3313 - accuracy: 0.8661\n",
            "Epoch 85/100\n",
            "250/250 [==============================] - 0s 1ms/step - loss: 0.3312 - accuracy: 0.8644\n",
            "Epoch 86/100\n",
            "250/250 [==============================] - 0s 1ms/step - loss: 0.3310 - accuracy: 0.8670\n",
            "Epoch 87/100\n",
            "250/250 [==============================] - 0s 1ms/step - loss: 0.3314 - accuracy: 0.8645\n",
            "Epoch 88/100\n",
            "250/250 [==============================] - 0s 1ms/step - loss: 0.3313 - accuracy: 0.8651\n",
            "Epoch 89/100\n",
            "250/250 [==============================] - 0s 1ms/step - loss: 0.3314 - accuracy: 0.8655\n",
            "Epoch 90/100\n",
            "250/250 [==============================] - 0s 1ms/step - loss: 0.3314 - accuracy: 0.8658\n",
            "Epoch 91/100\n",
            "250/250 [==============================] - 0s 1ms/step - loss: 0.3313 - accuracy: 0.8660\n",
            "Epoch 92/100\n",
            "250/250 [==============================] - 0s 1ms/step - loss: 0.3311 - accuracy: 0.8640\n",
            "Epoch 93/100\n",
            "250/250 [==============================] - 0s 1ms/step - loss: 0.3310 - accuracy: 0.8655\n",
            "Epoch 94/100\n",
            "250/250 [==============================] - 0s 1ms/step - loss: 0.3312 - accuracy: 0.8656\n",
            "Epoch 95/100\n",
            "250/250 [==============================] - 0s 1ms/step - loss: 0.3314 - accuracy: 0.8654\n",
            "Epoch 96/100\n",
            "250/250 [==============================] - 0s 1ms/step - loss: 0.3312 - accuracy: 0.8659\n",
            "Epoch 97/100\n",
            "250/250 [==============================] - 0s 1ms/step - loss: 0.3311 - accuracy: 0.8664\n",
            "Epoch 98/100\n",
            "250/250 [==============================] - 0s 1ms/step - loss: 0.3309 - accuracy: 0.8669\n",
            "Epoch 99/100\n",
            "250/250 [==============================] - 0s 1ms/step - loss: 0.3307 - accuracy: 0.8652\n",
            "Epoch 100/100\n",
            "250/250 [==============================] - 0s 1ms/step - loss: 0.3312 - accuracy: 0.8652\n"
          ],
          "name": "stdout"
        },
        {
          "output_type": "execute_result",
          "data": {
            "text/plain": [
              "<tensorflow.python.keras.callbacks.History at 0x7f1b1b6f1410>"
            ]
          },
          "metadata": {
            "tags": []
          },
          "execution_count": 238
        }
      ]
    },
    {
      "cell_type": "markdown",
      "metadata": {
        "id": "SuqnjsLAWHmW"
      },
      "source": [
        "### Classification for multiple categories\n",
        "If you have a non-binary target (more than 2 levels), use dummy variables for the target and `activation=\"softmax\"` and `loss=\"categorical_crossentropy\"`.\n",
        "\n",
        "### Regression\n",
        "- Change loss function to MAE, MSE, etc.\n",
        "- Remove accuracy metric\n",
        "- Import KerasRegressor"
      ]
    },
    {
      "cell_type": "markdown",
      "metadata": {
        "id": "YXqhw5J9RezT"
      },
      "source": [
        "## Make predictions and evaluate model\n",
        "\n",
        "Use our ANN model to predict if the customer with the following informations will leave the bank:\n",
        "\n",
        "- Geography: France\n",
        "- Credit Score: 600\n",
        "- Gender: Male\n",
        "- Age: 40 years old\n",
        "- Tenure: 3 years\n",
        "- Balance: \\$60000\n",
        "- Number of Products: 2\n",
        "- Does this customer have a credit card ? Yes\n",
        "- Is this customer an Active Member: Yes\n",
        "- Estimated Salary: \\$50000\n",
        "\n",
        "So, should we say goodbye to that customer ?"
      ]
    },
    {
      "cell_type": "code",
      "metadata": {
        "colab": {
          "base_uri": "https://localhost:8080/"
        },
        "id": "LXaJJRl_TF0-",
        "outputId": "7823972a-9f8b-4bb2-8f50-f926cee6be10"
      },
      "source": [
        "# Get prediction\n",
        "\n",
        "\"\"\"\n",
        "Feature values should be in a double square brackets because the \"predict\" \n",
        "method always expects a 2D array as the format of its inputs. \n",
        "\n",
        "Also, one-hot encoding was done manually prior to scaling.\n",
        "\"\"\"\n",
        "# Use transform instead of fit_transform to avoid information leakage from test set\n",
        "print(ann.predict(ss.transform([[1, 0, 0, 600, 1, 40, 3, 60000, 2, 1, 1, 50000]])) > 0.5)"
      ],
      "execution_count": null,
      "outputs": [
        {
          "output_type": "stream",
          "text": [
            "[[False]]\n"
          ],
          "name": "stdout"
        }
      ]
    },
    {
      "cell_type": "markdown",
      "metadata": {
        "id": "jxNG5zwqeAA_"
      },
      "source": [
        "The ANN model predicts that this customer stays in the bank!\n",
        "\n"
      ]
    },
    {
      "cell_type": "code",
      "metadata": {
        "colab": {
          "base_uri": "https://localhost:8080/"
        },
        "id": "-4IoOD7yeZEV",
        "outputId": "eb64c572-0e05-4b25-f92f-98caf0f679ab"
      },
      "source": [
        "# Get test predictions\n",
        "y_pred = ann.predict(X_test) # class probabilities\n",
        "y_pred = (y_pred > 0.5) # class labels\n",
        "\n",
        "print(np.concatenate((y_pred.reshape(len(y_pred),1), y_test.values.reshape(len(y_test),1)), 1))"
      ],
      "execution_count": null,
      "outputs": [
        {
          "output_type": "stream",
          "text": [
            "[[0 0]\n",
            " [0 1]\n",
            " [0 0]\n",
            " ...\n",
            " [0 0]\n",
            " [0 0]\n",
            " [0 0]]\n"
          ],
          "name": "stdout"
        }
      ]
    },
    {
      "cell_type": "code",
      "metadata": {
        "colab": {
          "base_uri": "https://localhost:8080/"
        },
        "id": "raSJPuKyfijP",
        "outputId": "5f8ec282-8c2c-4df9-8a2a-baa1cf00c514"
      },
      "source": [
        "# See confusion matrix\n",
        "cm = confusion_matrix(y_test, y_pred)\n",
        "print(cm)\n",
        "accuracy_score(y_test, y_pred)"
      ],
      "execution_count": null,
      "outputs": [
        {
          "output_type": "stream",
          "text": [
            "[[1514   81]\n",
            " [ 198  207]]\n"
          ],
          "name": "stdout"
        },
        {
          "output_type": "execute_result",
          "data": {
            "text/plain": [
              "0.8605"
            ]
          },
          "metadata": {
            "tags": []
          },
          "execution_count": 241
        }
      ]
    },
    {
      "cell_type": "markdown",
      "metadata": {
        "id": "N2fmwLEvXU_s"
      },
      "source": [
        "### How to improve ANN accuracy?\n",
        "Play around with different parameters (changing number of hidden layers and/or units per layer), change formulas, and normalize data.\n",
        "\n",
        "***"
      ]
    },
    {
      "cell_type": "markdown",
      "metadata": {
        "id": "k6aUeusUX5VL"
      },
      "source": [
        "# Convolutional Neural Networks\n",
        "\n",
        "CNNs can be used for image processing and text comprehension.\n",
        "\n",
        "**Purpose of Feature Maps**<br>\n",
        "We are building feature maps with each convolutional filter, meaning we are making features that help us classify the object. The example shown in the Intuition Lecture is like a one-dimensional edge detection filter. That is one feature map. So we want our model to \"activate\" in a feature map only where there is an edge. We will have several feature maps like this which when all put together will help us identify the object. This is helped by removing the black or the negative values.\n",
        "\n",
        "**Purpose of ReLU**<br>\n",
        "The biggest reason why we use ReLU is because we want to increase the non-linearity in our image. And ReLU acts as a function which breaks up linearity. And the reason why we want to break up linearity in our\n",
        "network is because images themselves are highly non-linear. Indeed they have a lot of non-linear elements like the transitions between pixels."
      ]
    },
    {
      "cell_type": "code",
      "metadata": {
        "id": "ePaHVajmX3eP"
      },
      "source": [
        "# Load dependencies\n",
        "import tensorflow as tf\n",
        "from keras.preprocessing.image import ImageDataGenerator"
      ],
      "execution_count": 5,
      "outputs": []
    },
    {
      "cell_type": "code",
      "metadata": {
        "colab": {
          "base_uri": "https://localhost:8080/",
          "height": 35
        },
        "id": "yxhS2N20YRJF",
        "outputId": "814bb4b6-7842-4976-fbae-e30dd9c54465"
      },
      "source": [
        "# See tf version\n",
        "tf.__version__"
      ],
      "execution_count": 6,
      "outputs": [
        {
          "output_type": "execute_result",
          "data": {
            "application/vnd.google.colaboratory.intrinsic+json": {
              "type": "string"
            },
            "text/plain": [
              "'2.5.0'"
            ]
          },
          "metadata": {
            "tags": []
          },
          "execution_count": 6
        }
      ]
    },
    {
      "cell_type": "markdown",
      "metadata": {
        "id": "oKIzG73ZYapT"
      },
      "source": [
        "## Data Preprocessing\n",
        "\n",
        "**Preprocessing the Training Set**\n",
        "\n",
        "(need to transform the training set ONLY to prevent overfitting called *Image Augmentation* so that CNN does not overlearn existing images)\n",
        "\n",
        "Transformations can include geometrical changes, zooms, rotations on images"
      ]
    },
    {
      "cell_type": "code",
      "metadata": {
        "colab": {
          "base_uri": "https://localhost:8080/"
        },
        "id": "fVmUKG7RYj8t",
        "outputId": "d83f752d-87f6-4914-e0ea-762d3c89c4c1"
      },
      "source": [
        "# Create object that will apply series of transformations to modify training images\n",
        "train_datagen = ImageDataGenerator(rescale=1./255, # applies feature scaling to each pixel\n",
        "                                   shear_range=0.2,\n",
        "                                   zoom_range=0.2,\n",
        "                                   horizontal_flip=True)\n",
        "\n",
        "# Get transformed training set\n",
        "training_set = train_datagen.flow_from_directory('/content/drive/MyDrive/Colab Notebooks/ML concepts/Deep Learning/CNN dataset/training_set',\n",
        "                                                 target_size = (64, 64), # final size of images when they are fed into CNN (larger images = slower training)\n",
        "                                                 batch_size = 32, # how many images we want in each batch\n",
        "                                                 class_mode = 'binary') # binary or categorical"
      ],
      "execution_count": 7,
      "outputs": [
        {
          "output_type": "stream",
          "text": [
            "Found 8000 images belonging to 2 classes.\n"
          ],
          "name": "stdout"
        }
      ]
    },
    {
      "cell_type": "markdown",
      "metadata": {
        "id": "q8EM6EkUioH0"
      },
      "source": [
        "**Preprocess the Test Set**"
      ]
    },
    {
      "cell_type": "code",
      "metadata": {
        "colab": {
          "base_uri": "https://localhost:8080/"
        },
        "id": "mEENUyojirBM",
        "outputId": "b4874387-c940-4882-b1be-41ec8f2ed939"
      },
      "source": [
        "# Do NOT apply same transformation as training and just perform feature scaling \n",
        "test_datagen = ImageDataGenerator(rescale = 1./255)\n",
        "\n",
        "# Get scaled test set\n",
        "test_set = test_datagen.flow_from_directory('/content/drive/MyDrive/Colab Notebooks/ML concepts/Deep Learning/CNN dataset/test_set',\n",
        "                                            target_size = (64, 64),\n",
        "                                            batch_size = 32,\n",
        "                                            class_mode = 'binary')"
      ],
      "execution_count": 8,
      "outputs": [
        {
          "output_type": "stream",
          "text": [
            "Found 2000 images belonging to 2 classes.\n"
          ],
          "name": "stdout"
        }
      ]
    },
    {
      "cell_type": "markdown",
      "metadata": {
        "id": "R84QVTzajsW3"
      },
      "source": [
        "## Building the CNN"
      ]
    },
    {
      "cell_type": "code",
      "metadata": {
        "id": "5qPMAq7ojzvr"
      },
      "source": [
        "# Instantiate CNN model object\n",
        "cnn = tf.keras.models.Sequential()"
      ],
      "execution_count": 9,
      "outputs": []
    },
    {
      "cell_type": "code",
      "metadata": {
        "id": "kspWQtaEkARt"
      },
      "source": [
        "# 1 - Convolution\n",
        "cnn.add(tf.keras.layers.Conv2D(filters=32, kernel_size=3, activation='relu', input_shape=[64, 64, 3]))"
      ],
      "execution_count": 10,
      "outputs": []
    },
    {
      "cell_type": "code",
      "metadata": {
        "id": "YcjQa505kFzk"
      },
      "source": [
        "# 2 - Pooling\n",
        "cnn.add(tf.keras.layers.MaxPool2D(pool_size=2, strides=2))"
      ],
      "execution_count": 11,
      "outputs": []
    },
    {
      "cell_type": "markdown",
      "metadata": {
        "id": "V_hj2fdE6ASC"
      },
      "source": [
        "Why does Max-Pooling consider only 4 values to take a maximum from and not 2 or 8 values? Also in convolution how is the feature detector formed?\n",
        "\n",
        "Because a maximum is taken from a spot on the image which is represented by a 2x2 square on our image. Therefore it covers 4 pixels."
      ]
    },
    {
      "cell_type": "code",
      "metadata": {
        "id": "YSed_0BskKWr"
      },
      "source": [
        "# Add second layer\n",
        "cnn.add(tf.keras.layers.Conv2D(filters=32, kernel_size=3, activation='relu'))\n",
        "cnn.add(tf.keras.layers.MaxPool2D(pool_size=2, strides=2))"
      ],
      "execution_count": 12,
      "outputs": []
    },
    {
      "cell_type": "code",
      "metadata": {
        "id": "_2H6cQEukNn1"
      },
      "source": [
        "# Flattening\n",
        "cnn.add(tf.keras.layers.Flatten())"
      ],
      "execution_count": 13,
      "outputs": []
    },
    {
      "cell_type": "markdown",
      "metadata": {
        "id": "6AnLrsHo6RqI"
      },
      "source": [
        "After flattening, are we going to get one long vector for all pooled layers or a vector for each pooled layer?\n",
        "\n",
        "It will be one long vector gathering all the pooled layers."
      ]
    },
    {
      "cell_type": "code",
      "metadata": {
        "id": "G52mDrB1kSDt"
      },
      "source": [
        "# Full connection\n",
        "cnn.add(tf.keras.layers.Dense(units=128, activation='relu'))"
      ],
      "execution_count": 14,
      "outputs": []
    },
    {
      "cell_type": "code",
      "metadata": {
        "id": "jiHelgBtkTvK"
      },
      "source": [
        "# Output layer\n",
        "cnn.add(tf.keras.layers.Dense(units=1, activation='sigmoid'))"
      ],
      "execution_count": 15,
      "outputs": []
    },
    {
      "cell_type": "markdown",
      "metadata": {
        "id": "67v-wqlq6asv"
      },
      "source": [
        "**How much images are required to train a good model? Is there any rule of thumb for this decision?**\n",
        "\n",
        "10,000 is a good number. No rule of thumbs, just the more you have, the better chance you’ll have to get a\n",
        "good accuracy.\n",
        "\n",
        "**Could you please explain the numbers 0, 1, 2, 3 and 4 in the feature maps?**\n",
        "\n",
        "When the 3x3 feature detector is covering one part of the input image, it gets:\n",
        "- 0 if there is no 1 in common between the 3x3 subtable of the input image and the 3x3 feature detector\n",
        "- 1 if there is one 1 in common between the 3x3 subtable of the input image and the 3x3 feature detector\n",
        "- 2 if there is two 1 in common between the 3x3 subtable of the input image and the 3x3 feature detector\n",
        "- 3 if there is three 1 in common between the 3x3 subtable of the input image and the 3x3 feature detector\n",
        "- 4 if there is four 1 in common between the 3x3 subtable of the input image and the 3x3 feature detector\n",
        "\n",
        "**Could you please recap the forward propagation of the input images happening inside the CNN by describing in a few words the classes we use in Python?**\n",
        "\n",
        "Sure, here is the process with the essential descriptions of the classes used:\n",
        "- Sequential is first used to specify we introduce a sequence of layers, as opposed to a computational graph.\n",
        "- Convolution2D is then used to add the convolutional layer.\n",
        "- MaxPooling2D is then used to apply Max Pooling to the input images.\n",
        "- Flatten is then used to flatten the pooled images.\n",
        "- Dense is used to add the output layer with softmax."
      ]
    },
    {
      "cell_type": "markdown",
      "metadata": {
        "id": "i5FVn_WwkZOp"
      },
      "source": [
        "## Training the CNN"
      ]
    },
    {
      "cell_type": "code",
      "metadata": {
        "id": "Me2HtHM0kbF_"
      },
      "source": [
        "# Compile CNN\n",
        "cnn.compile(optimizer = 'adam', loss = 'binary_crossentropy', metrics = ['accuracy'])"
      ],
      "execution_count": 16,
      "outputs": []
    },
    {
      "cell_type": "code",
      "metadata": {
        "colab": {
          "base_uri": "https://localhost:8080/"
        },
        "id": "_-M8-L6ykfvY",
        "outputId": "9ba15190-24aa-40f9-c83b-14ee69cc686c"
      },
      "source": [
        "# Train CNN on training set and evaluate test set\n",
        "cnn.fit(x = training_set, validation_data = test_set, epochs = 25)"
      ],
      "execution_count": 17,
      "outputs": [
        {
          "output_type": "stream",
          "text": [
            "Epoch 1/25\n",
            "250/250 [==============================] - 2294s 9s/step - loss: 0.6548 - accuracy: 0.6086 - val_loss: 0.7486 - val_accuracy: 0.5850\n",
            "Epoch 2/25\n",
            "250/250 [==============================] - 84s 337ms/step - loss: 0.5919 - accuracy: 0.6925 - val_loss: 0.5542 - val_accuracy: 0.7145\n",
            "Epoch 3/25\n",
            "250/250 [==============================] - 84s 335ms/step - loss: 0.5577 - accuracy: 0.7067 - val_loss: 0.5188 - val_accuracy: 0.7460\n",
            "Epoch 4/25\n",
            "250/250 [==============================] - 84s 337ms/step - loss: 0.5218 - accuracy: 0.7336 - val_loss: 0.4956 - val_accuracy: 0.7560\n",
            "Epoch 5/25\n",
            "250/250 [==============================] - 85s 340ms/step - loss: 0.5056 - accuracy: 0.7451 - val_loss: 0.5169 - val_accuracy: 0.7550\n",
            "Epoch 6/25\n",
            "250/250 [==============================] - 85s 338ms/step - loss: 0.4733 - accuracy: 0.7738 - val_loss: 0.4668 - val_accuracy: 0.7805\n",
            "Epoch 7/25\n",
            "250/250 [==============================] - 85s 341ms/step - loss: 0.4553 - accuracy: 0.7846 - val_loss: 0.4939 - val_accuracy: 0.7675\n",
            "Epoch 8/25\n",
            "250/250 [==============================] - 84s 337ms/step - loss: 0.4339 - accuracy: 0.7947 - val_loss: 0.5077 - val_accuracy: 0.7500\n",
            "Epoch 9/25\n",
            "250/250 [==============================] - 84s 337ms/step - loss: 0.4359 - accuracy: 0.7929 - val_loss: 0.4482 - val_accuracy: 0.7970\n",
            "Epoch 10/25\n",
            "250/250 [==============================] - 85s 339ms/step - loss: 0.4118 - accuracy: 0.8102 - val_loss: 0.4544 - val_accuracy: 0.7970\n",
            "Epoch 11/25\n",
            "250/250 [==============================] - 85s 341ms/step - loss: 0.3958 - accuracy: 0.8161 - val_loss: 0.4391 - val_accuracy: 0.7975\n",
            "Epoch 12/25\n",
            "250/250 [==============================] - 84s 337ms/step - loss: 0.3752 - accuracy: 0.8335 - val_loss: 0.4616 - val_accuracy: 0.7955\n",
            "Epoch 13/25\n",
            "250/250 [==============================] - 85s 339ms/step - loss: 0.3683 - accuracy: 0.8363 - val_loss: 0.4558 - val_accuracy: 0.7990\n",
            "Epoch 14/25\n",
            "250/250 [==============================] - 84s 337ms/step - loss: 0.3470 - accuracy: 0.8468 - val_loss: 0.4791 - val_accuracy: 0.7980\n",
            "Epoch 15/25\n",
            "250/250 [==============================] - 84s 337ms/step - loss: 0.3408 - accuracy: 0.8472 - val_loss: 0.4515 - val_accuracy: 0.8115\n",
            "Epoch 16/25\n",
            "250/250 [==============================] - 85s 339ms/step - loss: 0.3226 - accuracy: 0.8591 - val_loss: 0.4542 - val_accuracy: 0.8085\n",
            "Epoch 17/25\n",
            "250/250 [==============================] - 85s 338ms/step - loss: 0.3058 - accuracy: 0.8679 - val_loss: 0.4503 - val_accuracy: 0.8065\n",
            "Epoch 18/25\n",
            "250/250 [==============================] - 85s 338ms/step - loss: 0.2869 - accuracy: 0.8760 - val_loss: 0.4802 - val_accuracy: 0.7950\n",
            "Epoch 19/25\n",
            "250/250 [==============================] - 86s 342ms/step - loss: 0.2711 - accuracy: 0.8867 - val_loss: 0.4492 - val_accuracy: 0.8085\n",
            "Epoch 20/25\n",
            "250/250 [==============================] - 85s 341ms/step - loss: 0.2590 - accuracy: 0.8900 - val_loss: 0.4665 - val_accuracy: 0.8090\n",
            "Epoch 21/25\n",
            "250/250 [==============================] - 84s 336ms/step - loss: 0.2505 - accuracy: 0.8963 - val_loss: 0.5373 - val_accuracy: 0.7895\n",
            "Epoch 22/25\n",
            "250/250 [==============================] - 85s 340ms/step - loss: 0.2322 - accuracy: 0.9070 - val_loss: 0.5472 - val_accuracy: 0.8005\n",
            "Epoch 23/25\n",
            "250/250 [==============================] - 84s 337ms/step - loss: 0.2162 - accuracy: 0.9112 - val_loss: 0.5887 - val_accuracy: 0.7890\n",
            "Epoch 24/25\n",
            "250/250 [==============================] - 85s 338ms/step - loss: 0.2061 - accuracy: 0.9171 - val_loss: 0.5724 - val_accuracy: 0.8030\n",
            "Epoch 25/25\n",
            "250/250 [==============================] - 85s 338ms/step - loss: 0.2035 - accuracy: 0.9189 - val_loss: 0.5836 - val_accuracy: 0.7980\n"
          ],
          "name": "stdout"
        },
        {
          "output_type": "execute_result",
          "data": {
            "text/plain": [
              "<tensorflow.python.keras.callbacks.History at 0x7f02946f7e90>"
            ]
          },
          "metadata": {
            "tags": []
          },
          "execution_count": 17
        }
      ]
    },
    {
      "cell_type": "markdown",
      "metadata": {
        "id": "8eR46G2YkmiY"
      },
      "source": [
        "## Make Prediction\n",
        "\n",
        "**How to make a single prediction whether a specific picture contains a cat or a dog?**\n",
        "\n",
        "Inside the dataset folder you need to create a separate additional folder (let’s call it \"single_prediction\")\n",
        "containing the image (let’s call it \"cat_or_dog.jpg\") you want to predict and run the following code:\n",
        "\n",
        "![image.png](data:image/png;base64,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)"
      ]
    },
    {
      "cell_type": "code",
      "metadata": {
        "id": "cAkfXhlMkoPm"
      },
      "source": [
        "import numpy as np\n",
        "from keras.preprocessing import image\n",
        "test_image = image.load_img('/content/drive/MyDrive/Colab Notebooks/ML concepts/Deep Learning/CNN dataset/single_prediction/cat_or_dog_1.jpg', target_size = (64, 64))\n",
        "test_image = image.img_to_array(test_image)\n",
        "test_image = np.expand_dims(test_image, axis = 0)\n",
        "result = cnn.predict(test_image)\n",
        "training_set.class_indices\n",
        "if result[0][0] == 1:\n",
        "  prediction = 'dog'\n",
        "else:\n",
        "  prediction = 'cat'"
      ],
      "execution_count": 22,
      "outputs": []
    },
    {
      "cell_type": "code",
      "metadata": {
        "colab": {
          "base_uri": "https://localhost:8080/"
        },
        "id": "hIXqJBeYkqKn",
        "outputId": "28a3d582-d1af-4f44-ef29-73f6ae6101e0"
      },
      "source": [
        "print(prediction) # correct"
      ],
      "execution_count": 23,
      "outputs": [
        {
          "output_type": "stream",
          "text": [
            "dog\n"
          ],
          "name": "stdout"
        }
      ]
    },
    {
      "cell_type": "code",
      "metadata": {
        "id": "djnvMdcr-hZX"
      },
      "source": [
        "test_image = image.load_img('/content/drive/MyDrive/Colab Notebooks/ML concepts/Deep Learning/CNN dataset/single_prediction/cat_or_dog_2.jpg', target_size = (64, 64))\n",
        "test_image = image.img_to_array(test_image)\n",
        "test_image = np.expand_dims(test_image, axis = 0)\n",
        "result = cnn.predict(test_image)\n",
        "training_set.class_indices\n",
        "if result[0][0] == 1:\n",
        "  prediction = 'dog'\n",
        "else:\n",
        "  prediction = 'cat'"
      ],
      "execution_count": 26,
      "outputs": []
    },
    {
      "cell_type": "code",
      "metadata": {
        "colab": {
          "base_uri": "https://localhost:8080/"
        },
        "id": "ktpWCfSe-okO",
        "outputId": "de26ab67-ffc3-44dc-b6da-f7d1d45f6aa5"
      },
      "source": [
        "print(prediction) # incorrect"
      ],
      "execution_count": 27,
      "outputs": [
        {
          "output_type": "stream",
          "text": [
            "dog\n"
          ],
          "name": "stdout"
        }
      ]
    }
  ]
}