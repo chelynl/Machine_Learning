{
  "nbformat": 4,
  "nbformat_minor": 0,
  "metadata": {
    "colab": {
      "name": "Intro to Deep Learning.ipynb",
      "provenance": [],
      "mount_file_id": "16drVGPluewu4oPPTBvufjC1lr6fvsQT9",
      "authorship_tag": "ABX9TyOjHtI/3VnQ3V92HuPpn11t",
      "include_colab_link": true
    },
    "kernelspec": {
      "name": "python3",
      "display_name": "Python 3"
    },
    "language_info": {
      "name": "python"
    }
  },
  "cells": [
    {
      "cell_type": "markdown",
      "metadata": {
        "id": "view-in-github",
        "colab_type": "text"
      },
      "source": [
        "<a href=\"https://colab.research.google.com/github/chelynl/Machine_Learning/blob/main/Intro_to_Deep_Learning.ipynb\" target=\"_parent\"><img src=\"https://colab.research.google.com/assets/colab-badge.svg\" alt=\"Open In Colab\"/></a>"
      ]
    },
    {
      "cell_type": "markdown",
      "metadata": {
        "id": "fmy8d2YpOZ87"
      },
      "source": [
        "# **Deep Learning**\n",
        "\n",
        "DL is a subfield within ML that focuses on algorithms with neural networks.\n",
        "\n",
        "<u>Using Keras and Tensorflow you'll learn how to</u>:\n",
        "- create a fully-connected neural network architecture\n",
        "- apply neural nets to two classic ML problems: regression and classification\n",
        "- train neural nets with stochastic gradient descent, and\n",
        "- improve performance with dropout, batch normalization, and other techniques\n",
        "\n",
        "**Neural networks** = black box models (no insight to relationships)\n",
        "- no interpretability but powerful predictor for complex nonlinear patterns\n",
        "- used for classification and continuous predictions\n",
        "- variables are in layers (some are hidden) and intercept is called bias\n",
        "- inputs in first layer are transformed via some mathematical fx and propagated to the next hidden layer until it is fed to the output layer\n",
        "- single neuron models (1 input) are linear models!\n",
        "- NN with two inputs will fit a plane (with more inputs than that will fit a hyperplane)\n",
        "- key advantage = ability to automatically create relevant features from initial inputs\n",
        "\n",
        "DNN Structure:\n",
        "- input layer\n",
        "- 2 or more hidden layers\n",
        "- output layer\n",
        "- edges connecting neurons between adjacent layers\n",
        "- activation values and bias at each neuron\n",
        " - bias measures how easy/difficult it is for a neuron to fire (higher bias = more input or activation neuron needs to fire)\n",
        "- weights on each edge\n",
        " - weights define importance of inputs\n",
        " - if sum of inputs*weights exceeds the bias (threshold), the neuron fires 1 otherwise it fires 0"
      ]
    },
    {
      "cell_type": "code",
      "metadata": {
        "id": "d7ZTyTsZcbwm"
      },
      "source": [
        "import pandas as pd\n",
        "import numpy as np\n",
        "import tensorflow as tf\n",
        "from tensorflow import keras\n",
        "from tensorflow.keras import layers\n",
        "\n",
        "# Setup plotting\n",
        "import matplotlib.pyplot as plt\n",
        "\n",
        "plt.style.use('seaborn-whitegrid')\n",
        "# Set Matplotlib defaults\n",
        "plt.rc('figure', autolayout=True)\n",
        "plt.rc('axes', labelweight='bold', labelsize='large',\n",
        "       titleweight='bold', titlesize=18, titlepad=10)"
      ],
      "execution_count": 1,
      "outputs": []
    },
    {
      "cell_type": "markdown",
      "metadata": {
        "id": "MTAf6Oumjnkq"
      },
      "source": [
        "## **A single neuron**"
      ]
    },
    {
      "cell_type": "code",
      "metadata": {
        "colab": {
          "base_uri": "https://localhost:8080/",
          "height": 200
        },
        "id": "ISDC2QljZnXh",
        "outputId": "16853cd2-7288-4776-82e4-85ee35fadc0b"
      },
      "source": [
        "red_wine = pd.read_csv('/content/drive/MyDrive/Colab Notebooks/ML concepts/Deep Learning/winequality-red.csv')\n",
        "red_wine.head()"
      ],
      "execution_count": null,
      "outputs": [
        {
          "output_type": "execute_result",
          "data": {
            "text/html": [
              "<div>\n",
              "<style scoped>\n",
              "    .dataframe tbody tr th:only-of-type {\n",
              "        vertical-align: middle;\n",
              "    }\n",
              "\n",
              "    .dataframe tbody tr th {\n",
              "        vertical-align: top;\n",
              "    }\n",
              "\n",
              "    .dataframe thead th {\n",
              "        text-align: right;\n",
              "    }\n",
              "</style>\n",
              "<table border=\"1\" class=\"dataframe\">\n",
              "  <thead>\n",
              "    <tr style=\"text-align: right;\">\n",
              "      <th></th>\n",
              "      <th>fixed acidity</th>\n",
              "      <th>volatile acidity</th>\n",
              "      <th>citric acid</th>\n",
              "      <th>residual sugar</th>\n",
              "      <th>chlorides</th>\n",
              "      <th>free sulfur dioxide</th>\n",
              "      <th>total sulfur dioxide</th>\n",
              "      <th>density</th>\n",
              "      <th>pH</th>\n",
              "      <th>sulphates</th>\n",
              "      <th>alcohol</th>\n",
              "      <th>quality</th>\n",
              "    </tr>\n",
              "  </thead>\n",
              "  <tbody>\n",
              "    <tr>\n",
              "      <th>0</th>\n",
              "      <td>7.4</td>\n",
              "      <td>0.70</td>\n",
              "      <td>0.00</td>\n",
              "      <td>1.9</td>\n",
              "      <td>0.076</td>\n",
              "      <td>11.0</td>\n",
              "      <td>34.0</td>\n",
              "      <td>0.9978</td>\n",
              "      <td>3.51</td>\n",
              "      <td>0.56</td>\n",
              "      <td>9.4</td>\n",
              "      <td>5</td>\n",
              "    </tr>\n",
              "    <tr>\n",
              "      <th>1</th>\n",
              "      <td>7.8</td>\n",
              "      <td>0.88</td>\n",
              "      <td>0.00</td>\n",
              "      <td>2.6</td>\n",
              "      <td>0.098</td>\n",
              "      <td>25.0</td>\n",
              "      <td>67.0</td>\n",
              "      <td>0.9968</td>\n",
              "      <td>3.20</td>\n",
              "      <td>0.68</td>\n",
              "      <td>9.8</td>\n",
              "      <td>5</td>\n",
              "    </tr>\n",
              "    <tr>\n",
              "      <th>2</th>\n",
              "      <td>7.8</td>\n",
              "      <td>0.76</td>\n",
              "      <td>0.04</td>\n",
              "      <td>2.3</td>\n",
              "      <td>0.092</td>\n",
              "      <td>15.0</td>\n",
              "      <td>54.0</td>\n",
              "      <td>0.9970</td>\n",
              "      <td>3.26</td>\n",
              "      <td>0.65</td>\n",
              "      <td>9.8</td>\n",
              "      <td>5</td>\n",
              "    </tr>\n",
              "    <tr>\n",
              "      <th>3</th>\n",
              "      <td>11.2</td>\n",
              "      <td>0.28</td>\n",
              "      <td>0.56</td>\n",
              "      <td>1.9</td>\n",
              "      <td>0.075</td>\n",
              "      <td>17.0</td>\n",
              "      <td>60.0</td>\n",
              "      <td>0.9980</td>\n",
              "      <td>3.16</td>\n",
              "      <td>0.58</td>\n",
              "      <td>9.8</td>\n",
              "      <td>6</td>\n",
              "    </tr>\n",
              "    <tr>\n",
              "      <th>4</th>\n",
              "      <td>7.4</td>\n",
              "      <td>0.70</td>\n",
              "      <td>0.00</td>\n",
              "      <td>1.9</td>\n",
              "      <td>0.076</td>\n",
              "      <td>11.0</td>\n",
              "      <td>34.0</td>\n",
              "      <td>0.9978</td>\n",
              "      <td>3.51</td>\n",
              "      <td>0.56</td>\n",
              "      <td>9.4</td>\n",
              "      <td>5</td>\n",
              "    </tr>\n",
              "  </tbody>\n",
              "</table>\n",
              "</div>"
            ],
            "text/plain": [
              "   fixed acidity  volatile acidity  citric acid  ...  sulphates  alcohol  quality\n",
              "0            7.4              0.70         0.00  ...       0.56      9.4        5\n",
              "1            7.8              0.88         0.00  ...       0.68      9.8        5\n",
              "2            7.8              0.76         0.04  ...       0.65      9.8        5\n",
              "3           11.2              0.28         0.56  ...       0.58      9.8        6\n",
              "4            7.4              0.70         0.00  ...       0.56      9.4        5\n",
              "\n",
              "[5 rows x 12 columns]"
            ]
          },
          "metadata": {
            "tags": []
          },
          "execution_count": 4
        }
      ]
    },
    {
      "cell_type": "code",
      "metadata": {
        "colab": {
          "base_uri": "https://localhost:8080/"
        },
        "id": "eB6QI80sc4EA",
        "outputId": "11033551-7cd9-449b-a27a-f0dd00e06c8b"
      },
      "source": [
        "red_wine.shape"
      ],
      "execution_count": null,
      "outputs": [
        {
          "output_type": "execute_result",
          "data": {
            "text/plain": [
              "(1599, 12)"
            ]
          },
          "metadata": {
            "tags": []
          },
          "execution_count": 5
        }
      ]
    },
    {
      "cell_type": "markdown",
      "metadata": {
        "id": "6TSsOj1DdMTl"
      },
      "source": [
        "The target is `quality` and remaining variables are inputs."
      ]
    },
    {
      "cell_type": "code",
      "metadata": {
        "id": "PJ8WStisdHvs"
      },
      "source": [
        "# Create a network with 1 linear unit (units = number of outputs, input_shape = number of features)\n",
        "model = keras.Sequential([\n",
        "    layers.Dense(units=1, input_shape=[11])\n",
        "])"
      ],
      "execution_count": null,
      "outputs": []
    },
    {
      "cell_type": "markdown",
      "metadata": {
        "id": "Oy657mgCgjCG"
      },
      "source": [
        "Keras represent weights as tensors (TF's version of numpy array that are  compatible with GPU/TPU accelerators)"
      ]
    },
    {
      "cell_type": "code",
      "metadata": {
        "id": "ptYcGaJGdUs6"
      },
      "source": [
        "w, b = model.weights"
      ],
      "execution_count": null,
      "outputs": []
    },
    {
      "cell_type": "code",
      "metadata": {
        "colab": {
          "base_uri": "https://localhost:8080/"
        },
        "id": "XvZ_UHTVg4tY",
        "outputId": "cdcb83bf-b104-4880-e869-b014e13cb578"
      },
      "source": [
        "print(\"Weights\\n{}\\n\\nBias\\n{}\".format(w, b))"
      ],
      "execution_count": null,
      "outputs": [
        {
          "output_type": "stream",
          "text": [
            "Weights\n",
            "<tf.Variable 'dense/kernel:0' shape=(11, 1) dtype=float32, numpy=\n",
            "array([[-0.3745501 ],\n",
            "       [ 0.06192517],\n",
            "       [ 0.5891747 ],\n",
            "       [-0.60507095],\n",
            "       [ 0.4141553 ],\n",
            "       [-0.2727223 ],\n",
            "       [ 0.64339393],\n",
            "       [ 0.18061072],\n",
            "       [-0.07313913],\n",
            "       [-0.6408189 ],\n",
            "       [-0.18140608]], dtype=float32)>\n",
            "\n",
            "Bias\n",
            "<tf.Variable 'dense/bias:0' shape=(1,) dtype=float32, numpy=array([0.], dtype=float32)>\n"
          ],
          "name": "stdout"
        }
      ]
    },
    {
      "cell_type": "markdown",
      "metadata": {
        "id": "to1PYdlJhSv1"
      },
      "source": [
        "NOTE: there's one weight for each input (and a bias). There doesn't seem to be any pattern to the values the weights have. Before the model is trained, the weights are set to random numbers (and the bias to 0.0). A neural network learns by finding better values for its weights."
      ]
    },
    {
      "cell_type": "markdown",
      "metadata": {
        "id": "3GVIe5idiFq9"
      },
      "source": [
        "**Plot the output of an untrained linear model**\n",
        "\n",
        "Run the cell below a few times to see the different lines produced with a random initialization (model's weights are set randomly before training)."
      ]
    },
    {
      "cell_type": "code",
      "metadata": {
        "colab": {
          "base_uri": "https://localhost:8080/",
          "height": 407
        },
        "id": "2E9Gipaeg_xE",
        "outputId": "313189ab-7fa8-4735-ab23-0021eca3daa1"
      },
      "source": [
        "model = keras.Sequential([\n",
        "    layers.Dense(1, input_shape=[1]),\n",
        "])\n",
        "\n",
        "x = tf.linspace(-1.0, 1.0, 100)\n",
        "y = model.predict(x)\n",
        "\n",
        "plt.figure(dpi=100)\n",
        "plt.plot(x, y, 'k')\n",
        "plt.xlim(-1, 1)\n",
        "plt.ylim(-1, 1)\n",
        "plt.xlabel(\"Input: x\")\n",
        "plt.ylabel(\"Target y\")\n",
        "w, b = model.weights # you could also use model.get_weights() here\n",
        "plt.title(\"Weight: {:0.2f}\\nBias: {:0.2f}\".format(w[0][0], b[0]))\n",
        "plt.show()"
      ],
      "execution_count": null,
      "outputs": [
        {
          "output_type": "display_data",
          "data": {
            "image/png": "[encoded data removed]",
            "text/plain": [
              "<Figure size 600x400 with 1 Axes>"
            ]
          },
          "metadata": {
            "tags": []
          }
        }
      ]
    },
    {
      "cell_type": "markdown",
      "metadata": {
        "id": "goYvhLLIjbC3"
      },
      "source": [
        "## **Intro to DNNs**\n",
        "\n",
        "Activation functions allow NNs to learn complex nonlinear patterns (instead of only linear relationships). In order to fit curves, apply activation functions to each of a layer's outputs (its activations). The most common is the rectifier function  `max(0,x)`.\n",
        "\n",
        "- ReLU = rectified fx applied to linear unit\n",
        "- ReLU \"rectifies\" negative values to 0 and creates a \"bend\" in the data\n",
        "\n",
        "![image.png](data:image/png;base64,iVBORw0KGgoAAAANSUhEUgAAAgwAAAGPCAYAAAAwSojkAAAgAElEQVR4AezdCbg1RXkncJfEhWiMCmoMGCPKIsgiKqhsouyKjKhssgk4ICCoyKoIiBABQUDRyCYgCiKyCoggo2GExGVwCWpMFCXRaDQmkQEdE3ueX8e66a+/7nO6+/TZ7n3f57nPObdPdXX1v7qr/vVu9ZAsJBAIBAKBQCAQCAQCgSEIPGTI7/FzIBAIBAKBQCAQCAQCWRCGeAgCgUAgEAgEAoFAYCgCQRiGQhQFAoFAIBAIBAKBQCAIQzwDgUAgEAgEAoFAIDAUgSAMQyGKAoFAIBAIBAKBQCAQhCGegUAgEAgEAoFAIBAYikAQhqEQRYFAIBAIBAKBQCAQCMIQz0AgEAgEAoFAIBAIDEUgCMNQiKJAIBAIBAKBQCAQCARhiGcgEAgEAoFAIBAIBIYiEIRhKERRIBAIBAKBQCAQCASCMMQzEAgEAoFAIBAIBAJDEQjCMBSiKBAIBAKBQCAQCAQCQRjiGQgEAoFAIBAIBAKBoQgEYRgKURQIBAKBQCAQCAQCgSAM8QwEAoFAIBAIBAKBwFAEgjAMhSgKBAKBQCAQCAQCgUAQhngGAoFAIBAIBAKBQGAoAkEYhkIUBQKBQCAQCAQCgUAgCEM8A4FAIBAIBAKBQCAwFIEgDEMhigKBQCAQCAQCgUAgEIQhnoEcge9+97vZQx7ykOylL31pLSKnnXZaXuacc85ZKPOlL30pP/bOd75z4digLxdddFFe/sorrxxUbOG3tuUXTowvgUAgEAgEAr0iEIShVzjnt7IgDPPbd9HyQCAQCAQmgUAQhkmgPAfX6EoY2t5aW41B2/Jt2xPlA4FAIBAIBJohEIShGU6LvlQQhkXfxXGDgUAgEAiMhEAQhpHgWzwndyUMdT4Mv/jFL7KDDjooe8pTnpI96lGPyjbYYIPs+uuvz+o0Bm3L//a3v80uuOCC7IUvfGH2mMc8Jr/GOuusk73//e/P/FaUm266KfebOPPMM7M777wz22yzzbIVVlghe8ITnpDtueee2c9//vNi8fgeCAQCgUAgUIFAEIYKUJbioT4Jw4MPPpitt956+STNkTL9PfShD8123nnn5Zwe25ZHCHbfffeFelP96XP//fdfpgsTYdhtt92yRz7ykcudt+mmmy5TPv4JBAKBQCAQWB6BIAzLY7IkjyTCkCbdQZ/DoiROPfXUfFJeffXVs1tvvTX75S9/mX3ve9/L3vjGNy5M1sUoibblL7nkkrye5zznOdmNN96Yawjuv//+7POf/3y27rrr5r998YtfXOjHRBjc0wEHHJC51wceeCC74447sqc97Wl5+bvvvnuhfHwJBAKBQCAQWB6BIAzLY7Ikj/RJGDbccMOMNuGb3/zmclgK2zRxFwlD2/IveclLsoc//OHZj370o+Xq/5u/+Zu8/iOPPHLht0QYttpqq4Vj6QsThvZcfPHF6VB8BgKBQCAQCFQgEIShApSleCgRhj7yMDzxiU/MVl555UoYUy6HImFoW/5JT3pSPskjDf4e9rCH5QQFSUmakV133XXh+okwnHzyyQvH0hcaCucgDiGBQCAQCAQC9QgEYajHZkn9Mk+EYcUVV1wgBokglD932mmnhf5LhIHTY1nSb0UzS7lM/B8IBAKBQCCQZUEY4inIEeiTMLQ1MbQtv/HGG+dRDv/6r//aqPcSKQjC0AiuKBQIBAKBQCUCQRgqYVl6B/skDEUnxttuu62V02OT8ik083nPe14eqvnTn/40+/Wvf53de++92Q033JC96lWvyp0tUy8GYUhIxGcgEAgEAt0RCMLQHbtFdWafhKFtmGTb8sIq995774FmCSQhSRCGhER8BgKBQCDQHYEgDN2xW1Rn9kkYACMRkzDKJz/5yXlSpfXXXz+75pprBiZualPeNa644orsZS97Wfb4xz8+e8QjHpE94xnPyHbcccfs6quvzn7zm98s9E8QhgUo4ksgEAgEAp0RCMLQGbo4MRAIBAKBQCAQWDoIBGFYOn0ddxoIBAKBQCAQCHRGIAhDZ+jixEAgEAgEAoFAYOkgEIRh6fR13GkgEAgEAoFAINAZgSAMnaGLEwOBQCAQCAQCgaWDQBCGpdPXcaeBQCAQCAQCgUBnBIIwdIYuTgwEAoFAIBAIBJYOAkEYlk5fx50GAoFAIBAIBAKdEQjC0Bm6ODEQCAQCgUAgEFg6CARhWDp9HXcaCAQCgUAgEAh0RiAIQ2fo4sRAIBAIBAKBQGDpIBCEYen0ddxpIBAIBAKBQCDQGYEgDJ2hixMDgUAgEAgEAoGlg0AQhqXT13GngUAgEAgEAoFAZwSCMHSGLk4MBAKBQCAQCASWDgJBGJZOX8edBgKBQCAQCAQCnREIwtAZujgxEAgEAoFAIBBYOggEYVg6fR13GggEAoFAIBAIdEYgCENn6OLEQCAQCAQCgUBg6SAQhGHp9HXcaSAQCAQCgUAg0BmBIAydoYsTR0Hgt7/9bfaDH/wgu+OOO7Jbbrkl+8QnPpHdcMMN2ec+97nsnnvuyX7961+PUn2cGwgEAoFAINAzAkEYegY0qqtG4De/+U32mc98JjvyyCOzDTfcMFthhRWyhzzkIbV/D3/4w7NnPetZ2T777JNdeuml2c9//vPqiuNoIBAIBAKBwEQQCMIwEZiX7kW++93vZocddlj2pCc9KScHa665ZnbQQQdlF1xwQa5d+Md//MfsF7/4RQ7Q/fffn/30pz/N7r777lzjcNxxx2Wbbrpp9ohHPCL/+x//439kN91009IFM+48EAgEAoEpIhCEYYrgL+ZL/+3f/m226667ZjQFz3jGM7ITTzwx+/73v9/pln/5y19mF198cbbFFltkD33oQ7P1118/u/baazvVFScFAoFAIBAIdEMgCEM33OKsGgQefPDB7B3veEf2yEc+Mlt77bWzj3/849l//Md/1JRuf/irX/1qttNOO+XEYfvtt8++973vta8kzggEAoFAIBBojUAQhtaQxQl1CHznO9/J1ltvvewP/uAPsj//8z/P+C2MS77whS/khOSxj31sdtlll43rMlFvIBAIBAKBwO8QCMIQj0IvCFx//fXZYx7zmOwFL3jBxFb9IikOPfTQXNvg8z//8z97uZeoJBAIBAKBQGB5BIIwLI9JHGmJAP+C3/u938v23XffqYRDXnHFFbkJZOedd57K9VvCFcUDgUAgEJhLBIIwzGW3zU6j+Sg87GEPy4466qhMboVpifwNzBNIQ2gaptULcd1AIBBYzAgEYVjMvTvme7v11lvzcMc3v/nNY75Ss+qRBs6WzBMhgUAgEAgEAv0iEIShXzyXTG3yJ8itsMsuu0xVs1AGnHlC6OXll19e/in+DwQCgUAgEBgBgSAMI4C3VE9lenjJS16Srb766pkcCbMmb3rTm7I//MM/nJjz5azdf7QnEAgEAoFxIBCEYRyoLvI6L7zwwjwh05e//OWZuNOPfvSj2R577JH9y7/8S94e0RNrrbVW9vKXv3wm2heNCAQCgUBgMSAQhGEx9OIE7+Ff//Vfs5VWWik75JBDJnjV+kv9+7//e/bEJz4xe9WrXrVModtvvz03TQj3DAkEAoFAIBAYHYEgDKNjuKRqOPnkk7PHPe5xC/s/TPvmjz/++DxK45vf/OZyTbH3xAYbbLDc8TgQCAQCgUAg0B6BIAztMVuyZzzwwAO5o+MxxxwzExgwQSAvu+22W2V7vvKVr+Rahptvvrny9zgYCAQCgUAg0ByBIAzNsVryJT/2sY/lCZr+6Z/+aSawOProo3NfChtd1QnnzLK5oq5sHA8EAoFAIBCoRyAIQz028UsJga233jp7xSteUTo6nX9tg23Pin322WdgAy666KI8V8TPfvazgeXix0AgEAgEAoHBCARhGIxP/Po7BIRP/v7v//7MbPQkWdQjHvGIoVtmc4pULjaoikc5EAgEAoHREAjCMBp+S+bsG2+8MfcH+PGPfzz1e5Y06lGPelR24IEHNmrLxhtvnO23336NykahQCAQCAQCgWoEgjBU4xJHSwgce+yx2Zprrlk6Op1/EQWEAXFoIm9/+9vzJFNNykaZQCAQCAQCgWoEgjBU4xJHSwgIUXzNa15TOjr5f++9997W+1dIE203TQmdQgKBQCAQCAS6IRCEoRtuS+4smRNpGaYtnBw5O/7kJz9p3JT/83/+T/aQhzwk+9a3vtX4nCgYCAQCgUAgsCwCQRiWxSP+q0HARlPnnHNOza+TOSx88uEPf3gmnLKN8LtAGL7whS+0OS3KBgKBQCAQCBQQCMJQACO+1iOwwgorZEIUpykSNEnUlPaMaNqW+++/PycMn/70p5ueEuUCgUAgEAgESggEYSgBEv9WI2BlL3HTtETq54c97GGZVNBt5Te/+U1OGK666qq2p0b5QCAQCAQCgd8hEIQhHoVGCNgu+rzzzmtUdhyFZGt8whOekP3bv/1b6+ptmMUk8ZnPfKb1uXFCIBAIBAKBwH8hEIQhnoRGCPzJn/xJdsYZZzQq23ehr371q3kOiD//8z/vVPUPf/jDnDB88Ytf7HR+nBQIBAKBQCCQZUEY4ilohMBGG22UHXrooY3K9l1ou+22y5785Cdn//f//t9OVX/+85/PCcM//MM/dDo/TgoEAoFAIBAIwhDPQEME9tprr2ybbbZpWLq/YnfeeWc+2b/vfe/rXClTymMf+9jst7/9bec64sRAIBAIBJY6AqFhWOpPQMP7f+9735uttNJKE590t9hii2zllVfOfvWrXzVs6fLF/uf//J/ZC1/4wuV/iCOBQCAQCAQCjREIwtAYqqVd8Ctf+Uq+0v/6178+MSBuv/32/Jof+tCHRrrms571rJlIOjXSTcTJgUAgEAhMGYEgDFPugHm5/H/+539mT3ziE7M6x8OUTVE0wqC/P/3TPx34ezr3la98ZfbiF784+7M/+7Ps//2//9cZpu9+97v59W677bbOdcSJgUAgEAgEAuHDEM9ACwQOOOCA7NnPfnblGX0Thkc+8pH5RD9qsqh3vvOducOkXAwhgUAgEAgEAt0RCA1Dd+yW3JnCEmkA7rrrrrHf+wUXXJAdeeSR2X/8x390vhaSQEPxlre8pXMdcWIgEAgEAoHAfyEQhCGehFYIcB60c+U8yCWXXJLvPWEPipBAIBAIBAKB0RAIwjAafkvu7GuuuSZPoiSZ0iwLv4c11lgj22OPPWa5mdG2QCAQCATmBoEgDHPTVdNvqEn4L//yL7OnPe1p2R/90R9ld9xxx/QbVdOCU089NXvUox6V8WEYxaxRU30cDgQCgUBgySEwNsKQvNNf+tKXLjlQF8sNIwj/+3//7+zd7353Jh+CCThFMdgI6v3vf/9M3urf/d3fZY95zGOynXfeOXvEIx6RveAFL8i+9rWvzWRbx9WoJu/faaedlvdncdvyL33pS/kxRKuJcEr1TFx55ZVNiuc7nrYp36jSKBQIBAITQWDJEwYrZgPYu971rokAPssX4STIsfHkk0/OEL1EEEQsIAhweuhDH5q97GUvy97xjnfkv4uOmCWR4GmDDTbInvvc5+bJnvgvbL755tnv/d7vZW9605syW10vBQnCsBR6Oe4xEJgsAkEYljBhoKr/8pe/nEm7zJHRqhwpsCpPBMH/6c8W1095ylOyf/7nf87V/CbiZzzjGdmPf/zjyT61NVeT+lkKaztrmjCTOP4Xf/EX+XHtveWWW9JPi/azK2FoC0hoGNoiFuUDgflFIAjDEiYMb3vb23Iy8Pu///u55iARg7pPhMHeDkl++tOfZquttlq23nrrZbaQnra4H/dy0003VTblRz/6UfbqV786v+fXvOY1OfGpLLgIDgZhWASdGLcQCMwYAhMnDAZzE9KZZ56ZTz6bbbZZtsIKK2RPeMITsj333DP7+c9/vgxExfK33nprvifAox/96Hxfg/322y8zaRXFRkPqr7Kppt+uvvrq/BRmiLrJUQEr8LPPPjtXb3Pye9zjHperu+2r0HXnxGJbp/2dep4DIyJQh0M6zhShz8ry/e9/P7P1NdJA/T8N4iALJXMDrcill15abuJy/1933XXZKquskj9zNA+LUboShjofhl/84hfZQQcdlGuYmKqYfa6//vpan4S25WmB5N4QtkvT5RrrrLNO7idT3jSsOCYgsMPGkMXYv3FPgcA0EJgaYdhtt92ylM0vTUo+N91002VwSIODFWHVxCZ07pe//OXCOYkU9EEY0gq82L70vegotnDxOfxivwZkIN1X1adV+8tf/vLajacSaWDKMOFMUv7t3/4te9WrXpU/GyIjmgpik0jGtttum7mHxSR9EoYHH3wwJ4TlZ8Nzw7HU8eL71rY8QrD77rvXPoP777//Ml2TxoSmY8gyJ8c/gUAg0BmBqREGg4xUwwa2Bx54IA/Rs9p1/O677164oTQ4OL733nvn5a2Mv/CFL2TPec5z8vJvf/vbF8q3IQxOGuT0aNOiP/iDP8iuuuqqfOVMq6Bthx9+eL6yWrjonH+xmyOnQBiX/xy3/0Od5sBKUr84j3+DlaHoCav+b33rW2NF5q/+6q+yZz7zmfl1n//85+ft5F/RRoSGSndNy2WfjMUSgpkIQ7k/q/4vkt8qDQMi5rzVV189o+VD0L/3ve9lb3zjGxeelyJhaFtegi31e59vvPHGXMvoHf/85z+frbvuuvlvnHGTFMeEJmNIOi8+A4FAYDQEpkYYttpqq+VabqIxcFx88cULv6XBQWhcWTX593//97nNmpYhSZ+E4SUveUmGNCzmfQh+/etfZ8ccc0y+30KVBod2oS5J0w033JA96UlPWnCQlNRJOB6SgfwhEuOQn/3sZznZZIIQscHp0rGnP/3p2ZZbbtl60hc+iizQeDGt/PVf//U4mj3ROvskDBtuuGGuhfrmN7+53D2IpvHOFglD2/LeM88eH5Oy/M3f/E1evzThSdKY0HQMSefFZyAQCIyGwNQIg9C9slhdGHyK8f1pcChqEYrnrbXWWjlpSMf6JAy0Cauuumq+cn3DG96QfeADH6idPNP15+nTatKqzur62GOPrTRNXHjhhcvdEq0C/xF9laIp+JVQRZMDDzww/43KeocddljGUXK5ylocQAxMHI997GNzO/cf//EfL7OTJY2DSV/IZxcxyco3kUIwi6auLvVN85xEGAblQWmah8EupSuvvHLl7aQ6ioShbXmk07OENPjzTHl2iqayXXfddeH6aUxoOoYsnBhfAoFAYCQEpkYYqhzo0kBQVJGmY00JA8cpg88VV1yxHDAcGP2WnB4VGGSS8DvtAtXoKaecku2yyy75ipoK++tf//py9c/LARM7TQDtgS2kv/Od7+RNpxFIpgmfxUE63dunP/3pXBvhXFj6U5YtmxxxxBELx0888cTMalMZmMEQCWOuaCr/+I//mH3kIx/J+Bm4zpOf/OTsPe95T/aNb3wjD/8sExpOjCYaZqQuQotFw8UJ18ZVN998c5dqpn7OPBGGFVdcceGZSc9U+XOnnXZawDSNCU3HkIUT40sgEAiMhMDcEIamJgme2wYbKuay7LjjjvlvRcIgk6HyTTPb8WOw2mIzn0fhVb7mmmsu2OyLkzfNgdWeCZeZpxgJUqVVSIO68p/4xCeyQw89dJlVIZMRcU327jQx+GQ6OPjgg7PTTz89z5GA4Jn8kbqjjz46M0EI2XQNzpScLpVJWgz18r1g+pCsqSi0H7QQ99xzT/Fwq++0GfahcH0Ot+VonFaVTaFwn4ShrYmhbfmNN944fx7r/GTK8AVhKCMS/wcCk0FgbgiDgXufffZZcHqkGRB25XhR+2CScowDnggADpU84G1x7Li/ImHgmOcYVTQ7eFGEeH3wgx/M2FHVY0CzcqV+p3adJ9F+6nwqX5EoJpQqQbhMtknroEzyVShqFRKWPk3oQmKTecIx1+EbUBTkRGbIM844I3v961+fh9AJb3z84x+f94FwOhoE/SpfAtPCZz7zmWWIS7E+2gfmlLPOOqt4OCcQCB3SI4piFIEHUqKNtBdlP5pR6h7nuX0ShqIT42233dbK6bFJ+ZT86XnPe14eqomc8a25995782dPFAxnyyRBGBIS8RkITBaBuSEMJhCTUHGi8r0cVgk+A0y5HHV2WjEWCQOveHkEyuXVUxX2mcoJyZsXEQnAw10eiSaTHoJE/uVf/mU5X4V0/+lTn9C4FMmC32A6CRGxstJKK2X//u//vszlfvjDH+bHZbAcdZLnsZ/Ilpj/Ipla5qIz9E+fhKFtmGTb8vonRdqk56r8iSQkCcKQkIjPQGCyCMwNYWCvlNKXacIKn1p73333rVQVU59bwdICCPOjKfhf/+t/ZckhskgYwE1lTi0qhDINVI6zt0tWw/6ersnmf/7557eyw0+2S//7akwKJjqTOR8Ak2hT+eQnP5mvquu0Cgkn5ogyWfCbiXUSQiskFfRJJ5203OWsbhFFibb6EKF9nGw9C0xYVsGzKn0SBvfonWJWogHyTq2//vqZqJikHSg6PXYp7xwmJ1EvtDm0VtJ4MyN6X4uRSkEYZvWpi3YtdgTGRhj6Am7Q4NDXNRZjPfJUCAmVobJLNkPnmxwM3IkcNP00SYsqmZQcf/zxufaknCXU9fmyaA/zVB+SQjBTJkKRGSGBQCAQCCwFBIIwLLJeZrNPGQy333777B/+4R8636EkSMLyqjQIg8gDU46IiEmJ8EfOmkcdddRyl6Tu5rTo9/vuu2+537sesIV2wgY5mucQzK4YxHmBQCCwtBAIwrCI+ps2puig18etmXCt0pGGpsSBmaIqrLWP9tTVIdqCqaCKIJnMmZV475cjKurqa3IcNkIwmb4kjYJ/SCAQCAQCixWBIAyLoGdFb1jlmqjHEQJ47rnn5pMi27JrDNIupN8mnS2Ro52IC6GaVcJRkdOnVMJ9yz/90z8tONTC/yc/+Unfl4j6AoFAIBCYOgIzTximjtCMN0AiJVEK/A04KvYtHD+Tk58EVikEMhGDus9yiGrf7aqqj68GJ82U/6FchpMewsNpdRyiL2h4kt8IDURIIBAIBAKLBYEgDHPak0IeaRVM2Fa145igecbzVJfrP23KxFtdPoxEFKqiKESbTEO0UfjoXnvtVXt5fg4cFselAUmRKSnfxbg34Kq90fghEAgEAoGeEQjC0DOgk6juuuuuy5761Kdm9lIoh4j2dX2rY/ksaC6qNgXSBqGudrJEHkQiJBIh9HBactlll+X5OlIuiXI7JI/aZpttck3AOLM32rBrgw02WNDOzHIIZhmj+D8QCAQCgSoEgjBUoTKjx9jGJbBKWoWqMMK+ms6JEAlghqiT7bbbLpOdT9bNzTffPG8Xlb9kSdMShMCOk8hOncDNPhGiHJLmpK7sKMdpY973vvfl+T1s8nXXXXeNUl2cGwgEAoHAVBEIwjBV+Jtf3F4NklVZ0UtgNU4xscm/ULUfR7qunS6Rg+LmTMiFBFhve9vbUrGpfNJ+IFWDJmgpqvlmVIVi9t1oIZgSEokyYUYqZ6Xs+3pRXyAQCAQC40AgCMM4UO2xTpsgWbGbnCcx2Vh9IyVyOAxy2tt6662zF73oRZV3Our+DZWVtjyobVtttdXAsy655JIcV2RsEpJIH3NS1900J9HOuEYgEAgEAlUIBGGoQmVGjplg0jbL0hyPW5J9X3jiICdKKZKt4IsbAo27bW3rl6lSG4fhZsdLm17V+Ty0ve6w8sUQTDtwVuWNGFZH/B4IBAKBwDQQCMIwDdSHXNMujDvssMOCVmFSWQTf9a535WGJtvweJNTr9tSYdaFhqNoWvdhuqZ6ZUURXNN1euXh+1+833nhjrskRgsnPAVkLCQQCgUBglhEIwjBDvcMEIJeAzZRWXXXVfMOsSTXPXgtCAc8+++yBl7TzpZV7X3szDLzYiD9++ctfzkkXn4ZBIgpExMkrX/nKgWaYQXV0+a0YgrnJJptk99xzT5dq4pxAIBAIBCaCQBCGicA8/CLf+973cq99kQn2gjCZTEqoyU2Y8jkMEzkZrMjnRURLiFAYtoJHhOSUGOToOa575oAp2kR+iFnfBXNcGES9gUAgMPsIBGGYch8lrQI7uvwFk9790ETKxPDMZz5zqEpe+CTtgq3C50W+/e1v5+Gh8jMME9tgi2QoRn4MO6ev31MIpudg7bXXzrdc76vuqCcQCAQCgT4QCMLQB4od65DC2IqdVuHII4/sdWOkpk065phj8pXtV77ylaGnbLbZZjm5GFpwxgrI/IgQ8VcYJnvuuWfuaErjMw3xTPC9SFExsxBxMg0c4pqBQCAwewgEYZhCn1jV81WQQnmdddbJ2NqnIRzvrKjPO++8oZf/7Gc/m2sXRB/Mm9x7772ZLbdhPkzuv//+fIUv+dMDDzwwrPjYfhchs9JKK+WmonHsETK2hkfFgUAgsGgRCMIw4a795je/mW+zzF5OqzCtlME//OEP80RQu+66ayMEOOXJvTCvYhdL+Q+a+Ib87d/+bb6B1B577DHV2037hdA2CMG87777ptqeuHggEAgsbQSCMEyo/9moOdRZ6Vq92mtgWkI1LyxSKGGTrINs+nwX7rzzzmk1eeTrSqvNP0DK6yZy/fXX59qXJlqJJvWNUkZEymqrrZZvzx0hmKMgGecGAoHAKAgEYRgFvYbnfv3rX1/wgkcaxrl/QZMmHXbYYbk5pGmyoo022iizb8S8izTQ0ms39Qt4xzvekUdOiKCYtjCPiKCgmUL2mvbdtNsd1w8EAoHFg8BcE4Zf/epXuWc/1a2dB2UntCUztfOgtMaT6j4reQTBvgwvfOELs1nY6lhOAiruiy++uBEMn/70p3PtQt/RG/rnBz/4QWYytjcGm/0NN9yQfe5zn8vzEYzDVOPZkDnTxNtE+JogSkJOq3bsbFJH32Xuvvvu7PnPf35OHJo4ynpHmphhRm3nNPpz1DbH+YFAINAOgbkhDAYkxIAXOXU+5zvhfXV/NkIyyd9MQvIAACAASURBVAmrk2eASWCSYmB/7nOfm29wNAtaBfduE6THPe5x2QEHHNAYCpkSZZ0cVeD/mc98Jvfb2HDDDbMVVlghJyJMHVV/kkg961nPyvbZZ5/s0ksvzframfOkk07KTRNMFE3EMyeJlmiWST9Dde3TDqYJJhYYIVl1ghztvvvudT93Pj4r/dn5BuLEQCAQaI3AzBMGqlgTnXTFyMFf//VfZ5zSbMokla+VaBrIqfqt6qVSpnH4/ve/n0mKgzz443DY18RTh/SDDz64jOr4O9/5Tl3RiR630txggw3yqIym3v9JGwHzrvLd7343YwJ50pOelBODNddcMzvooIOyCy64INcuSINt5U9EKOg3ZIvG4bjjjss23XTTXENDS2MTrptuuqlrUxau8ZSnPCU7/PDDG9fzta99LSc4bc5pXPkIBYV+ckSlMeKgWX62ZY5kwkDIzjrrrBGu9N+nzlp//nfL4lsgEAiMG4GZJQwmNQOeid42xULjTMZdBJGgZTARIR3CGAdtrtTlGs7hFGhCtHqmVRiWXbDrdbqcZ5Olxz72sbnGpcn5NDpU3ybpLoLUicCgKXjGM56RnXjiiTmB61IXAsiEssUWW+ST4/rrr59de+21XarKzzF5yqooUqSpSPxkYr7iiiuanjKxcsgVQsZ04jvx7PE9SYRB+Kxnv6vMcn92vac4LxAIBNohMHOEwUBHM8Dk8KUvfSmjOjZ59SUmHw5jBs9vfOMbnUlIsT3IDXuyydGK2CpsluTyyy/PJ7s28fxXX311fg6S1UaQOs6CokFkLPz4xz/eq5Mnc9ROO+2Ut80W3F0SLNFK/dmf/VmGRLURoZnMAJ6bWZNyCObJJ5+cR3kkc49nk/9G290x56E/Z60voj2BwGJFYKYIg4nX6l8KYqu/PolCuQOZMxAS12pqzy7X4X9Oe8IT+QYIwRtnm6uuP+wYk4jNrN785jcPK7rwu3sQ+vnqV7964ViTL67lPAmpaFiSqajJuW3LIJQICa1Jk7TP5fovvPDCPMMmH5emwtwlHwW/gUnubNm0fcrRyMlq+ehHP3o53xDaBntWME81kXnqzyb3E2UCgUBgNARmhjAwEZi8pSjuanpoC4WJkTaAtqGtVoDnOa0CVe+2227bSr3dtp1dyyNg6667br7Fc5uoA5oI6ne2+6Yib4HVNyfJLqv+ptcplnNPhx56aN5Wn21MQMxUzEe77bZbscqh3/nO/Mmf/En2ile8otX1hlbcYwFOqskUkTQM6VMa8gMPPHDo1eatP4feUBQIBAKBkRGYCcLAv8DKyGpvGit0jnZWrEwVTa6vrFXmH/3RHzVKNzxyL3WswB4Kj3/841v5Drh/JGPnnXdufFX+BSaifffddyqZK/kVMIFocxtixN6P8HGMbSNf/OIXc0dMERezJkJTEzkY9MnptE7mtT/r7ieOBwKBQD8ITJ0wMAdY4U9qVVoHG099Go5BCXEk/LH1tEmG/bytPbju2uM4bn8IWoJrrrmmVfX8HdyfZFNNhI+C8pIiNSFbTersUkZoIfME0tBU06C9XcNGOU66b/txzIp4Pp/85Cfn7RpEFvxGA1EV/TLP/Tkr/RDtCAQWKwJTJQwctWgWhE3OgiANtAdV5gnpkZ/2tKflK/ZZSBc8CC+TvUgNO1G2ERPtc57znMZq+ltvvTVfabfxj2jTnrZlkQaaBuaJpiJM0wQqbLet7L333vnzIDfILMgb3/jG/F4QxWGEgUbI3hr//M//vND0xdCfCzcTXwKBQKB3BKZGGKiODdJCJ2dJmCdoPHwSzm1veMMb8tX6a17zmoXjs9TmYltEgayxxhqZrajbOh1yHuRN3yQjpfwJQvl22WWXqWoWivfuO/OECZOmpKlsvvnmuTNj0/KpHB8RybmYcCaRTTFdt+5TxkwRKiJ1ECekQf4KfVpFIGgZ3Dt/jsXUn3X4xPFAIBAYDYGpEQbhelSiBqtZExoG5omrrroqj22X6OdTn/rUrDWzsj2c+KilTQBtRD8gGk12aKTKl/lQdAiCMmvCbCQypKmZS6SLCdWE21bkB3niE584lmyKbdtSLC+iQ6bTM844I9txxx3zkEr3iDwUHSKRqyOOOGJR9WcRh/geCAQC/SEwFcLA05wposlOif3davOaTIhCLo8++ujKDHrNa5psyWRX7zLxXXLJJflk0iTMUEiiiUcI7CzIRz/60byfmLgI7dVaa62VbwndtH32jBBy2MUPA97weP/739/0clMpJ0zyoosuyl7/+tfneSiKWgf+GIupP6cCcFw0EFjkCEycMFCTM0VU+QnMEtb8GZgmxpERchz3SVtDDf2ud72rdfW0C7QFbPLDhIlmpZVWyg455JBhRSfyO9Jphf+qV71qmevZEtrqWXhgE+H3YdKkVeoiJ5xwQr5y5wMzL8Ls9rGPfSzP2bDKKqvMxDvZV3/OSx9EOwOBeUJg4oQh7VDY1r4+DVDtPSEvxKyLlbXMhS996Us7mXisOq2QrUCHiQyCklSl/R+GlR/378cff3w+0eurskhrbf+MpiLCAnHq8mzSTCAtzFdtzUFN2zeOcou5P8eBV9QZCCxlBCZKGHjh0y40tS1Pu2PY52kZypv6TLtdxeubqNioV1555WU83otlBn2nXVhttdWy/fbbb1Cx/DdOfhwd20ZfDK24YwFECXmpS76E7NEyiHBpIvZLED3QdOvvcp1Wx/xAbGXeJh9EuZ5J/b/Y+3NSOMZ1AoGlgsBECYOcC3wXxj2Yclh82ctelju+yT7Ia9zWyl2Ec2bV6rVLXeM4Rwpmk5x77iLnn39+rkpvQuKor11Loq1ZED4mNCMm+jrhnFk2V9SVdRxx+tM//dPG6ZPLdYkwkQ+iTWhnuY5J/b8U+nNSWMZ1AoGlgMBECQM78bg37rGaNIkUHbp8t9JMO/m16djkoMnrfNZExkEe7+9973s7Nc092Umy6SZMtlKWEnkWhP3dnhX77LPPwOYwtwgtbOqLIhmXfRhGcWCU/Mgz95GPfGRg26b941Loz2ljHNcPBBYTAhMjDFTftAujbPQ0DHiaC6tDg/Vb3vKWXEXP1s4R0LEVV1yxdRjgJNo97L6qfoejPQ1e/vKXd/LsV6cEVAiH3UGHCfOMsl02ehpWd5ffJYtCBIa1nZlAuTbtPuyww/Jw2vvvv79L0/JztA/xmFUfmKXUn507MU4MBAKBZRCYGGHgB8AfYJzmiE9/+tM5MWCCKAu1NNIgBK+t2GugiUNg23q7lucLstVWW+XkqK1/BaJBs+CPo6TsgE1ECmRaGhqXaQunwkc96lGNNlHS1o033riRj0a6L9kPmRVOOeWUdKj1J8dJybOe/vSnN9ZutL5IlmU/+tGPGqfCLta/lPqzeN/xPRAIBLojMDHCwEZelbt+UNNNjNtss00+UdlUpyhphU1rYCtsYvdIpKAqdbPES37bf//9i9U0+m4V27btjSruWOid73xnHkLZJW6e+cKGVEgVjYGolSZy7LHH5rs7Nik77jJ2W0QYmkYjvP3tb8+jH9q0S8ZEm4ul3A5tzk1l+XpwRt1yyy07Ra+kegZ9SlIlMuPwww9vpc1Yav05CMP4LRAIBJohMDHCwHFw0MZOdc21gmZmMMklxzxmgi222CIPpys6M+600045KajaF8B+FQgDJ7i2wl7OnNIlqU/baw0rf9ttt+U+Gueee+6wopW/IwzyDdAWwENWyLe97W1Dd2wUoig19rRFZkUmhjb7V0gTzVmzjXZLvgn5HUyso8hdd92VkzskbxySNkNzf/qT1kio6TCN2FLrz3FgH3UGAksNgYkRBpkT04TfFmTnSkokb/+vfvWrPAOjwfHEE09cpiorOcer9kKwUvSbOtpKCq+c9n4BzAFWk222ni7fK8JQdgo1AcNm1VVXzUxsVZONzImjTp7ltnT5n5MjZ8c2vjBMSnXPxaA2vOc978mvNWpUCHKHoI0jvTjCkPrPPfpL5MEW7Pqz6r1biv05qK/jt0AgEBiOwMQIg1X/KNtBf+hDH8oHw0022SQffLfddtvlVvxCKesmBpoKv3UhDFam/C+sOqclbOLu3SRgG+OuYhJM2oU0wRQ/02QjN4OQzaT2l3/hnHPO6XrZXs4TPonsCKdsI4iWe2ybhfHBBx/MTQp9hEhKx8zE0XeG0yrCkPpTPzM7+bSN9/ve974ForUU+7PNMxNlA4FAYHkEJkYYDNajOsy9+tWvzgd+0QFVzn7jMkkwgSAM0gYLzZzG3w477JAP/qeeeupI1zdxpAll0KdJxuTsE1Gxih0l1HD5R6/9EQmaJGpq61cg2sG9Ihpt+05eBiTKvbc9t1helAYNji3SL7300pHqKtaLOJc1DFX9qh+ZotyLc2jskPBpyqj9yck5JBAIBCaHwMQIw6ghldTCT33qU/OBn8PbV7/61eVQGpfTI98FhGHttdduNNlWDdizciwRgabtUT6Vff7zn7/gYLoc+GM+wAfGhMc+31ZoZ9I9LMbPJoQh3XexP0VxVBHvtvh2Kd9Hf3bd96NLe+OcQCAQyLKJEQaZCIWAdRErfM6KJgz2YCFvEg6V9zNoElZpdddWTDgIQ9uVbdvrVJUXxcD5bt999636udWx008/PV+NUlOnCaTq06RSVmXD/Lzzzmt1vT4LC4t9whOe0Mkcw5TkPosOsm3alnbyvOeee9qcVln21ltvzTU3zAN9yCCTROrbRBK9PxtttFEeRbSU+7MP3KOOQGApIjAxwnDnnXdm9913XyeMjzrqqHzAP+mkk/LzP/nJT+b/yzpYjFzga0Dla6BMiZtMFqMkbnJBjpYIwyi+A11uXK4E+xLQbIzqcEktLyJCdEndijQRiWc+85m5s9zf//3fLzSbGeiMM85Y+H+SX2iTTHp8KrqIsFvPhMyYXUR477rrrpu99rWv7XL6cufY8IlpwDM1qgwiDMkfZZ111sn9F4rOm0u5P0fFPM4PBJYqAhMjDAb9Lg5f1113XT5ZbLfddsuQA4TAJFBOrnPTTTctFwWgnAnniiuu6NTPSIfBHXGYpBx88MGZvTD6WNkmj3/bMBcJQyIJzD1MOlURJu7ZyrQP578u+Ol7ZKcraWIO8wyM4nR79dVX589QH5kbkVz+OO5plDbBskwYUt8m0iecuEqWen9WYRLHAoFAYDACEyMMJiJ7SbQR4WA8y+VhKNtaU9QAx7zPfe5zy1TL/GGrZ2pXIXic9rqqo1XMlNJ1c6dlGtbiH+TGJNclM2X5MrQLaZdJYZXq9bfSSivl+QyaJKXaa6+98iRa5brH/T/NlLaOosJnSvEsFLVRXdptkuUw2IdIWf3sZz87J2KjEFGEIfXnKquskklS1STfSfRnH70YdQQCSwuBiREG5oiqhErzALe8BFVOluNqO03MH/7hH2Y0DH0IFThNhQRUF1xwQZ4mGcmiam8qiAaCMeqk2/R6qRwTimyJo0yqNtdi2hlVaJlMzrfffvuoVeXnf/vb3877uWl67qqLvvvd7841PxJEtZHozzZoRdlAIBCAwMQIQ0p+NMqGPtPqsr/6q7+qTH4zjvaI/V9//fUzEQmjTJKpbXA30Ut1PIpQxZss22qJRrmmidk1Rw3/k7uir6RTNFcvfvGLR7mtZc5Npg5EbpIS/TlJtONagcDiQGBihAFcNAxp34d5ge+BBx7I/RfKERnjan9K8FOVna/LNTl8yl1QNum0rYs2QrRGneNhyqaY1ON1n2k30brf0/FXvvKV+cQs1THnz65CW6NOKbX7EOYb/jB95gCQmluocJe9QbreU/RnV+TivEBg6SIwUcIgU18Te/ksdYeNp3jXT0IVL7mPyaivFMKcNYUi9rWPwQEHHJDb3av6p2/CILGQif6iiy6qulzjY+6dcyGfl74EmRF50MakM+jawoa33nrr3FfHTpmTkujPSSEd1wkEFgcCEyUMwhKnEZ7YtauQBLbhOk/zrvVWnSeRzQorrJAdccQRVT93OibJ0ag7LhYvjDiZxNvay4t1NP1ORS9qw2TaVZAEGgoRNX3KN77xjTwnSNeom6q20ABpK5PHKPdcVXfdsejPOmTieCAQCFQhMFHCoAGcB02O8yDi1oXkMUuMU/gZJI/5UdTvxTbSLtjhk0miT+E8aKfDeZCUcIlmq2953etel+/r0afmwrvx6Ec/ujd/iyb3HP3ZBKUoEwgEAhCYOGGgcqVlMEnOstAuMJ/U5SXos+177LFH7pg4akx+sU2cHPkc9J1s6pprrsnNJpOMGineV9PviNcaa6yRwXYcwlQl58H555/fa/VIDrOU5GSTkNSf8pf0+fz13fZx92ff7Y36AoHFiMDECQMQTTazPuFwzrzhhhtG3jBr2EMj1bWUvTfffPOwoo1/56DJFCGcsk8xaMtHIZum+u+4444+q++1Lpt0cSTkwzAuFT8fABkT+9ZA7b///nneiCb5FLqAxvdCtMsHPvCBzAZQiI98JbNM4vUn7Usx+2iXe49zAoFAoDsCUyEMBiaq/rR1cvfmj+dME4CJkdr5j//4j7Nrr712LBe6++6780GwL6fE1Mhjjjkm1y5IDjSKIAgiW8T6y4dgAk5RDEjOtHevrLs3PifyTuy88875ZGiHzq997Wt1xTsfl9CL38mZZ57ZuY6qE+EudHP11VfvRUPkefa+6UfOlbDRjyl1NLIgAdqs96cspSGBQCAwPQSmQhjcLpWuLa9nbVVj9SVGXYgbR7Q3vOEN+eD6mte8Jk981FdX0QLYQMumWn2ugH/2s5/lq1OpoNsKezxHOJoJzneJIIhYQBBMMtTlL3vZy/K8Dn4XHTFLInfFBhtskD33uc/N81jwX9h8883zyVFWxL7zgAiJXHHFFbNRyVkZQxou2Tl33HHH1hE6zFCf/exnc+3KpptuupAKnCYh9WMifvrzxhtvzI477ri8v2e9P8s4xf+BQCAwOQSmRhj4CFhh87i3adSsCJ8F2oWimpl9V9pdA/jFF188clPdu90Xhft13cGzrhEiC5pOYIgKYiTtMkfGtPKsmlhMMFahT3nKUzJ+KM41ESM9P/7xj+uaM9HjcJXyWJbM4r4ljv/FX/xFflx7b7nllt7aZQfTcTiXaqBsnLQAp512WqP2irBxf4nY6cdEDKo+kYe0ods89WcjMKJQIBAI9I7A1AiDO6F6lUXRpNWnt3lXlNhHqW6rkhxZtdE2WJG9/OUvH8lBzDbTJgLX6lNM5PZMUH8TsTo2kaStrKsmleIxhMHeDkmkml5ttdWy9dZbLxOVMW1xP+4FwasS5MymT+6JxqivnAdU5ZJj0e70LWz3cG+yF8pHPvKRgQSh2JeeP88xMpVkFvtTO/l0hAQCgcD0EZgqYXD7UiGbhJCGaWoarEhFbxS3AK7qHpO8nQA5/Vm1thUaFSu/uoyJbesrln/rW9+aawCa7upIPc+B0YRUnEyqviNKVbZ6piWOf0gD9f80iAMzEnODFfOll15ahKTyux1QaYwkterSh+VKmdVon2h3+hYTum21RbzAepgwcaUdSKv60TGTsJwPVX1V7M8+tGnD2lv1e7E/9avn8/DDD68qGscCgUBggghMnTC4V6SBpsFkOmmfBqpY3ujsuFZYTcSEbHIwQdl62cZaTYTm4ulPf3p+TnFl1+TcYWWYBbo44NmvARmom1wcNwGVV6PF9qRJBhH60pe+VPxp7N9pfph3TCpW403FZJlIhh0om0zGg+o+44wzcgfWps/CoLrKv3kn1lprrXyPkaKprFzO/+4j+Z5U9am+Fm0wKBeKNNrK0JpM2qdBf+60004Zv5lPfOIT+S1KkIXkiErp+72pwjCOBQKBQDUCM0EYNI15gk8DR8hJRU9wVENU2LTZ5tvG1Asr5MluYLVSHTSYWTVts802+cq2L1V4sUsPO+ywPKJj2IRSPCd9t5ujAblqgnHc/g9Vq1Hnc97ce++983NhaLLibe9+xy36jrbHdW3WpZ1tsdWHkmYhW7Q+CGQXQXppLUbZeXLQdWlvPGdN1PPaUHZuTH2LMKSJuHw9Gr4TTzxxwUmS42jqT89VW2zL9Q/7v9iftH1FufLKK3Pi6v4n8WwVrx3fA4FA4L8QmBnCoDkmXCskan95GsalbUBODMAGJeF2Bsqjjz46Hxzb5ocwkNI2WOEKWfvBD35Q+WzJuGilPo4tvlN439lnn1157UEH3bswTA6YVaYJba7DRJ4Kqvg0OUkCJEQUydhoo43yaJNB1+76G18Bq03XFbFBu+IY7c2WW27ZetL3PCALVrVMK133O/nwhz+c9/G4UokL7zXhn3feeZXQIW/InzLIS5kE6t+jjjqq8lzRMRJdpWdAODG/otSfyIr+HodU9WfVdVwfgbFBW5CGKoTiWCAwXgRmijCkW2Vbpwo1ocvbT03Zh5gcOTaKgjBAFv0VrCyFElqx1q2mB7VBfWuuuebCSrU4oFH7G4jPOuusQVV0/u2QQw7ppF1gPnjOc56Tt9n2zyaatBJNnxdeeOFy7TIx7bfffnnZRBaosK2yCRK28cYb5/XtsMMOyzhKLldZiwOIAXLGsZNWQVbEolbHCtWk33Urb34s8k2YaJkr2hJWz9A4s0uCCrlzj2VSwy9j5ZVXXvDL8HvqG32J+G222WbLkamieS2RBaaltKcJM5rnWl2ej0n2Z9WjwaEVadhll11mwlG6qo1xLBBYrAjMJGFIYFt5WN0iDgZAq/e2gziSgBjIbEdzYWIX416lelbOyooHfRcxYVqRGZxNmN/5znfya6vTDofFya1L/VXn0C6YrGXtayrFdkoQpJ2EaSGtSn3uuuuuy1VpW2faCPeYSIWykiQVxb2axDbccMO8HLX/KaeckpudimSqeE7Vd+Yp3v/8DFzHteWYqMt7wDRkYrvqqquqqht6TLs5+3GI5BjYNgPnxz/+8XxyZV4bh8AOFjQIfG4GRX4ceuihOWaIwFOf+tTlTApW7I6nPk/96VMuEgQNWfD/s571rKn0ZxWGCLgQYM6gtEMhgUAgMBkEZpowJAhoGJgQqPORB59WsVaEnMwMmgZPA5x8+N/73vdyR0YrTuURBZoKZYZNVkkbcM4556TLt/40Way//vr5RE5j0VVr0eTC7NUiHSQsaiIiUuo0ITQHTAwmXCvlYrRFlVYhTTDKszHXiWtqp/wQzvHJdHDwwQfnIaAmeY5ttBnMKsxDHN+EbCpvxcvpUpmkxai7luO0H7QQ99xzz6BiA3/zLNmHwvXbJO1COPT9ODfokvtBvgV9JOdEXW4J5BohQO5EISVBjHfffff83opaiNSfyAhNnOcK9voX4U0y6f5M1y1+8nXSx56Lps9+8fz4HggEAu0RmAvCULwtgyCS8O1vfzvXPhi8OK4hBsnUQNUu8oE/hMF1GEko1u+7uHqDLG1EV7HyEeJmEF533XXHsokVTQn1dJPQwKKvhex/xcRGxXu8/vrr84E4aR38lnwVilqFNLn4NKk0yaCoH5iaRBSwQ9sp0eQk8ZF6rBppENZZZ508XwLTgvwDReJSbGvddxMIJ0gT6qjmLHiYOLVxmGNrag+83I9ncxyC/MLINWS1HIQ9jdBFF12UNyNpT/gjVGkVUl8eeOCBOXFM/e0Zq/J9mFR/1mHovUeYRCo1IZJ19cTxQCAQaIbA3BGGZrc1WikDoYgGEwWzSBcRpmn1dvzxx2fPe97zcrvrKF74VW3g4CYygNllkLSJ5lBP2vQI2Sr7KphUin/U3ezasybI1EorrZSv9E2Uo4gJOTm28gMokqm6epXjkNmnFJ0zaTE40lr907wME21OfiXOKfZh+buVeyILftPHF1xwwbBLTOV3iwPmI+9rlwihqTQ6LhoIzCkCQRhqOo6zl8l4++23b+17YLKidk8+ALzNi174fcS28+ewsh8UClp0aGP31q6mYntlq+rixFGeWPyPFDVJltT0un2Wk0/ASvq9731vL9XSOMmHwGeEr8ogokbbBR9t6EPUVzQlJR8cph6amUF5FYRD8qOp6r/yMWSiSvvABDCrwt9CYiskra2P06zeU7QrEJhFBIIwDOgVKmWTcpuNnKwC006DZcc8g7qdE03CVqyDJpwBzcp/svIXRlhXhwGeo1rXjJTOZx5w/+VJpfi/yYV/w6wKoqaNfFP6kLTK56nPLMBPpk6E2TKNjKLhgG1KMEX1fu+99y5zOe3ZZJNNcn+PQdE9yCKtRBUZKPZnnfahGFG0TANm5B8kHEmHRfm9m5EmRjMCgblHIAjDkC608Y9BtukK681vfnNmu+Ck1i9XT9tgsydlTDhFZ7Ry2br/TRom8mSbLpZjs08TDO0IJ9CuYmUq1LTKMc4kQ1XNeXGWxWTNaZEzZ59ZGOVaSNjYY6RqZatvTcBdt0cXZSLtNuI2KE0zB03OjUxDg8gJO39KslUkCcO+e1bnQTi50qQg7KP6rszD/UYbA4FJIxCEYQjiBmAe7+L+DcyDxABvghg0uKfzTThp22Xahjae3vvss08eeVHesEuMetFBL11rlE/3b5WONJSJA8IwyCQyynX7PNdkLqxTiGcbnIe1ATb6mjqctqdq0yubXa299tqtHG+Fkkp37VkSqdHEj0bkEBJpa/JhIhxR3/kbRhb8zml3XoQzNJLFGbRqE7l5uY9oZyAwiwgEYWjQK9TCQtdEPSTbcfk0q37OVxwRm4oJh+c9G7RJpZyMp6oe0Q00HpIWJaGKTjtptgkBTOcP+zz33HPzSdH9FX0aEIim+28Mu8a4f+f0JzpAhsi+hbq+GIL5k5/8ZOESrqu/PvrRjy4cq/vC2dbzwOlw1VVXzT772c/WFa08bnMwfVJFXNIJt956a04UaKGkwx5GGJAKSZLmSYRgS2LFBNOEbM3TvUVbA4FpIhCEoSH6citwdhP1UBarVisaJoYuntryRqQMg7QNg0LETEx8E5J2QdicwZHamqNi35Lum5Mf88aLXvSix078LQAAIABJREFUfMKx+qX6nSeRulq7x6UV0Rc0PMlvBCEkNEKSQNX5mygjsZh02sm/ZdAzMAjzvfbaKyeu8iiUhaOsyBEEAPF997vfPdSnQUilvp83QeCRfKm+54XUzhvG0d6lh0AQhhZ9blMlKzi5AYpCq2BVSB3aVZK2QT0SPUk2VRYrJ6vVyy67LM8vQatghUirMI6VVJVmBVGRNtjEO0pyq/K9Tep/+QQ4LDbR5nRpU4pMsTKX7+Jb3/pW7qho4v3gBz+4XJWIgQmZOcFmTzz+RxGE1cqaGaGYv8J1hPdKBV7M20A7lUigZ6uscfC8e97mURAk75LokkltaDePOEWbA4GmCARhaIrU78q97nWvyx3okjPh5Zdfnk+efa3urYw4EhqoEYLi4L7bbrvlgx8nOk5uHLyuvvrqlnfQrDgCw45OcyGTZln4a8zjIFzMsTHOlaeU5rROKQRT+KP+Kk7iSKHkUpwK+8zRIWEZvwrPapJ99903J7UITJUgu5477S0Th0lvWV7Vvq7H+B3xX7GrbHpnu9YV5wUCSx2BIAwtnwAOdFYsshSKhJBpTmRE32ILYj4D1Kqf+9zn8mRBVq1pbwZahXE6dZ1++un5xFGl6ej7XiddH9yYCEQ51Pmk9NGmYkRMyqEg6obmJvmcSG1sJdy3yFCJdNJq+KMR+tSnPlV7mbQHhmfNZmZIg/NpHAaFa9ZWOEM/8DHhI6TPkamQQCAQ6IZAEIYOuEnNy2FMqJ68CoNs0x2qXzjF6mjHHXfMB3srfYRBMqlbbrllocw4vtx11125ityqd7GKuH2r6aqUx33fs4gYWR9N2nwU5AsQddMkmmaUtjB1mPhdc5AfAtJE07HnnnsuXI6my//auRiEIyofI+9PlX/HYrjHuIdAYNwIBGHoiLAEMVZfTfZx6HiJ/DSkgd3ZtUxwXWP6m7ZhlAyXTa8xK+VEmpjEaXPGLdThTBT60QRuB85xi2eHvwb/iEFZPj/84Q/nbUJsyjLrCZvK7R30v1TnEmlxTK3bS2XQ+fFbILDUEQjC0OEJOO+88/KJhkpb+mRRDuOQZJZg4zbIFWPzDX59S7Lv2xBqHE6Ufbe3j/o4rAprrUu0Neo1iqGSHPD4oSQfAeaIcdnVmUPk+fDcUMVzbKzShHGG1N8HHXTQqLc6F+czBzHr0ZyMq8/nAohoZCDQAYEgDC1BE/7GHHHMMcfk4Y880q1a+kwIxJlQ1j6rX4l/2JKTcyMSITSOA50wwT7FZkZWv5IALRWRWtmmTJzi+rbV24K9mArcM8KJ1WQlGRj1uBBMmT8Riz6FXw3tgqgLzyzSWeVrY58NmqtxEZc+76mvuvQzHyRmPubFkEAgEGiGQBCGZjjlpTg8svXa5CblQRDqyPFRIpxRJYVWqk/iHlt2m1iQkhTT7xq0C32HVNprgY/E2WefPeptzN35okAQsFe+8pXL4Nz1RoQ2plBJK/vyxlAwNplL6pR2wWTiktq4D+HAyPRRTB3+sY99LD9W9JvwPPPDOeywwwY6RPbRplmrA3GTiM39I3YhgUAgMByBIAzDMVoosfvuu+cDTDmc0PbCBugm2fwWKit9YdZg4qCuRj6E3wnNo2UQwlglN9xww8JeA1dddVVVkUbH2KlNmCIvlqrYApx2ZVRHTySPtkJWyTrNAdOA6Jf9998/h5sDZtoCHdGoMh007Rdhk3J5VBFYx2gTPFfkhBNOyMtKay1Mt0hKm15vnst5x5JZcVx5OeYZn2h7IFBGIAhDGZGa/88666zcNFAXoZC2Ga6Lc6+pNh+kU3poWycXdz9kluAoN2ggTyF6CEuXtNBU4Tz42df7VsnX3fOsHqeeZ/65+eabWzcxaX0QPL4Jg5wMVW71T6OTnpcUgpnShNspta3YpTGF/FaRDtegHdPXwguZKZCk5FOBNC01QRq22mqr3DQkOigkEAgE6hEIwlCPzcIvVh8y9bHx1wlbOLuoiIZicp668o4L76IWNWCXN6BKOx1KN9xE7B/AeY2Ktah2HnYuX4xk6x5Wdin8LpRQ/os2jqxFv5Irr7yyEUxCGSUU2nXXXZcp75kwgSEezE5Nd11EKjnF8o8oa8CKFxA5QZvADwbJdB2fIinkX1iKglwh57RCX/ziF5ciBHHPgUAjBIIwDIHJyrFpkh8JeGTY22+//QbWmjznrfDqtrjebrvtcjX1IO1C+SIml2JCoGGObDfeeGO+ohb1EfJfCLBtS/JjD4Jh+4IgFVtvvXU+6drjo20iLdlBTdjJRFDsgyIJaZJFlHmBtmDYNuy2LJc2Gkko/3l2x5nIqnh/s/YdaeAv5J2UvCokEAgElkcgCMPymCwcMVlLnGRzp6ZphGXYMwnUxdlzgBPWZXCnVahSHUvFq44uqnGNl52R2jltgrRwQ4UvVOYSCJVXuIUiS/YrR1bYIQFVUjQf2Ais6wTj+fIsMGFUSdnMcd9991UVyxN5MW/Y62SQiJiw9XPK4FgmDP6/7bbbBlWxqH/Tr8JeRUG13Sl0UQMTNxcI/A6BIAwDHgUOcMwFf/mXfzmg1PI/HX744blzmZ0ekxiM1Me0YfVatapMZa1amTdGEWYRhMTkQFtRnGyYT+w0yTmP3TtkeQRSauVyYi59Kow2Eb5Rw2mRQhP1oBTcIlhWW221SkdKGRkRPw65gyQlZ0IsqoiCY+4pOWIOqmsx/0bDgihyDi1vMreY7zvuLRBogkAQhhqU2DINoPZUaCvIgTA5gzwzgTj45AWPNAxS+7quwbuvFQ5HtuS1b/KzqhVGR/UaiWsG9+w73vGO/BmAIfMEAoZAytvQVwikFvBj8bwMkhSq6ZlE9vSdpEt2uGTWGuQ3wwxh6+w6olA8LqQXoVzK4v3ce++9c7+OvnOdLGVc497nH4G5JgxWdzz7qW6ZDGQnFDVg8Gxj+y93o7zzVLdUxV3rsaLnWGYw51BGY5A84svXK/4vYsGE0Kekyc7q0gTD3FHnGAnTM844o8/LV9YFVz4fJmORJ2z2wkSp903GVaaayorGeJCvCe0M274wyEGhkqM0Q2RMUxNUUcPBwVam0aqUzqk9+jO9D0I2kYNBWga/821pK/PQn23uyf2IfPLuDtq0q02dUTYQmHcE5oYweIERA17k1Pmcu8S81/1R8RqIbdsrz4BVfxMxSfBSl4WvrRNbsX4DO/u2AZgz1SCtQjrP5Kl8V5t4qqfukwc/E4VVMk2Hey3Lsccem7dBop8+Bf5UvFbp7PbsxO617s+kBr999tknu/TSS0fqi673of/32muvvI1Iwzh3OkROh4XQpvuApYgI2Il4GPS8IAnJXCExlbBLn86t8mWgwRApMkzmsT+H3VP5d2OOyBHP4ig5Vsr1xv+BwLwiMPOEwerYCkq6YuRAiCOnNOFhtAtWookMmJSpU2Wwo3EwwEuKgzz443A4jAQYYPkZCGvsItTE6kiqY6uUpvVRTVN3j0OsNE1IVqVIgfa5lmyDSRCxNImw4fahdrfJDxOIcE+TlAnLvgUXXHBBrl0QAkgrREQo6Ddki8bhuOOOyzbddNN8lWelh3gJH52EpCgFE7L8DAgO35RxCbMV7JtERDBbweMtb3nLwCgN/aef4f7Wt74112Ik7YFkYFIjp9+VSX/u1XtXJfPan1X30uQY0uD5RRrqtHJN6hm1DNz1j0RTw4TTtLLGoZBAoE8EZpYwGLAMeCZ6CVU4d5mMuwgiQctgIkI6kIGqzZWs1AwM5557bpfLZJLtmBANuGkFbxW/5ZZbDtVYcKz0kmvfOMQmSzIA0rgQWEg5jRhoK0KBTNA+aIdPaviuTpFInQgMeKrnxBNP7LxCRwAN1ltssUU+6Wn3uHbtrMuDcNlll+XXltVzXAIvfi+JAFddx3PMXPaKV7xiQUOE3CBksnX6Tjx3/BYSIWDyEC5aFETt4IMPzu9LP+l3f8qmvUtS+Xntz9T+UT+RbBgV022PWmeb84MwtEEryo4LgZkjDAY6mgEmB0yZPwGW35eYfDiMmZhtPJNICI2FpDevfe1rW1+q6CNgRezlLop7sFI1yNfdiwx8/BfGIZdffnk+CZRXr0jC29/+9nxSce3ipJFIQ1s84MlZkFbFBGVfgybmmKb3TQuy00475fez/fbbt0qwNOgaJmmpnDmDIk5VmRZNrjIxjmvDIpOyCb5uUqI983wx1SStTLqncgjmySefvKAtSkQAYazKzYGsCsNN/Y8spn6f1/5MuPT5acWOTA0LX+3zmqmuNoQhnROfgUDfCMwUYTDxWv0bwOQJqJtc+wCBOQMhcS1qcV7qBuKmmfVSG6qiENJvxU8ExUBc5VB466235iu7YUl3ivU1/c7kwPO9aqfCVIdVadIspMklfRogy6GF6bzyp2sJGTXp0loMWimXz237P6wQEpOg1f8o0nQvBxN2ek7GlUZbWCP/GWSuLOzpsB1EWGjkTP40R6kP0ycyIlqnqm7EIK2i9bnsn7RQ89ifZdz6/N9zDR+p4icpQRgmiXZcqw6BmSEMTAQmb8ll0qq/rtF9HUdIvIhi4dnH2ZGbSjHPwbbbbjt07wD1WvUZtJGMolg1yr3QtyBgsvrZYrku6sCkTsWfVNdpcil++m2YT4e8BVbfrtUmrfIo9+yeDj300HwA91nlxDmo/tSHVtaIQJMoFpqosklg0DXa/oa8muzPOeecZU5NJhHaomEizXFdfyKGBx54YG0V3gG+LvofaZin/qy9qZ5/OPXUU/Nn7swzz+y55vrq2hCGKh8Gvj/6VJtpz2g0mU6lQefkWuXbZXzkayTCy7vteRD1RcNStZhDViW+stMuHxv5QTjzlsc7d1lsj8WUMdA1PHshs4vATBAGdlkPG/t61YM4bvg42lmxMlU0ub6ytBGDMilWtVndPNRljhQbT0QOeJGrVOBVdbQ5xsNf2N0g7/4q1XWRLPhukmFSqRpUtId/gTL77rtvLTFp0+62ZfkVMIHsvPPOja9vjw4reX1Yt6tkXTuS0+FJJ51UV2Sk45wZheQm/xHbLxvcOS4OE6Gp5f6r+t9EUCeylHLApKmoI5p15/ZxvEt/9nHdNnVwhKVpGLS/TJv6hpXtizCY0L0r5WfChF0UY5XomnK59H85wRcinX4rfxobjO9FSYTBhnl+T+dYvITMLgJTJwzs+xjmpFaldV3BJkzDMSiZEXOFLYINpuznVfbguvrTcbZme1PQSlgRi1QQ69+32B/CgDYo8QynUiuB9LIO+vRSV+Wl4KMAj6OOOqoR2er7PlN9HFaZJ5CGQZoG5FQmP/fqfrr0oWum3UtT1EFqRx+fyCQzEjLnebFik5tjWEIlz6fIB/0xqC/9RgNRtaVzsT9hNS1p2p/Tap/rfuhDH8qxPv7448fejL4Ig74/4IADcs0qDaTV/9Oe9rT8eWGCSnLJJZfkx/jzeMYtFkQxmfjTXiSIcxLPCudumkY5aDyrxnbmTmY0411REmHQnte//vV5tFafvk7Fa8X3/hCYKmEwGHoAByWe6e9Wh9eENNAeeDnLwmzhxbJib2rTL9eR/pcfwkRNFeiFKW5pncqM8kmtbEVqJ8pBQj1pgtEGavki03es/GciOu200xaq5HvhPgb5RywUnsAXk4zVE/NEWayYaEKoSWlL+kjGIxug50FkRd/CwY72wyAs+uFHP/rR0EsI4dVniGK578r/62s4JE2XyuepP4eCMaECUm57L+QXGaf0RRjkmCkLE4Pnoxg2KsTbmFD13FlUKV++Z2ZLGgPPVXksoVUtSiIMInmaaHWL58b36SEwNcJA1Sm3Qh+x/n3CxzxB4+GTcG5LO0B6GdLxUa9JDe6l88L0KaJA1lhjjdxG2dTpkN3cSoCakX1eu+oIhMERqXKOUL5ddtllpl546mwTZtHWj5CKAtF2fZlU/aPiboUmc6YVF3+IPkU/Wplpc5UNuOpaMmaKUKFeTgM2TYK+1KflP79tvvnmeRTLPPVn1b1P8xj/Eni/7W1vG1sz+iIMtFZloUHwbBSjP1LeFM+OP8+h96pIRosb1xnLB2krJT4rSiIMorRC5geBqREG6i8q0VlUQ3k5mSeuuuqqfHUn3LKPFWnxsZA4x0vK6chg3ZewUdIajFKn+2fSUFdx4EiTkGNp8yoT26wJsxGVvvtIoZKcteTz6FvkBzEYpmyKfdWfdj2lMWEfbiOIDOLHPCMqx46rnjPPm8G/6BBpAjjiiCPy/SzsOTLL/Tlts+WgPmDK8X5wKB3HirkvwlDlqJkm76KjLU1cmWCW/xfenETIuN9pxhB0jusJB89VHWGoak+qMz5nD4GpEAYDIFNEXyu9vmH1oPM0Pvroo3N7d52z3yjXteMhG7qXKa3yRqnPucmubqXZp8gPQPVqRcEZz8Bgoqmygfd53aZ1SdvLL4GJi9BerbXWWrlHd0pM1VTb0vSaxXLwNhEXV2jF39t+NzkwRyBsVLnCKduI0D/aibIPgrBXOR7YjPnRFCcAK8hhkTBt2jBK2br+9L7MstDSIWOSpA3yo+lyD5MmDHyrmDWbhg973yxUyoI8eLaCMJSRmc//J04YDNzUV16AWRb+DEwTVRkhR223LHomXPH/POBNaqOq5kzeVqPj9to2gFitsnH27XvRBVek02Bkb4Wi2BIaxoOiAYrlR/1+wgkn5JMFc80owrFMfgn5D2gKPvjBD+aq3qZ+EvoHHk2eJ+Y1e4Z4/lZZZZWZeCeH9SfNyyyL9nkP99tvv15Jw6QJA2KJUMrb4Z48K4g4jZpIHO8bn5cknBq9b7QUnkF/IpFkLlVPEIaE1Hx/TpwwpB0Kx7ni66tL7D0hL0SfQnthMnj1q1+9UC0nSiy8q8d9iryQZ37cJh42ULs2ljMNLtzMhL/wUIedviqL3BqTiuvWrwZR5qtRzEEcYRGypH7nbS5KwiZcTQRRoJ1I2pZh50R/DkOo/e8mSjkLaIj6GucSYShqhcrf02JhWB6G8h1VmSQ8z5x6y9co/u+8JKKxir+l78IkEeAgDAmp+f6cKGGgpqNdSIPhrEPHnkvL0KdJQnpmTJxmoShyJpgoBuVMKJZP373YbNTF3A7pt74/rXj5LwyLvuj7unX1mRSRFwNzlSB7sBbhMgmxOuZwKtFNl/wFYvuRn+JArN1U9Eweg0J+lRPxILSUSaKJRH82QalbGc8czQ0/kj5Iw6QJQ7prTsQchkUDcWq0L4zxhpa0fF+cP/kKuW+RPUwz3lGkPQhDQnS+PydKGMTl8l3oMpg2hZnKjFpM+FDy2i0PwE3rUo5zZtXqtU0dqazJnUe9QaQsVNHPfvaz862f2+BjcuBsxUlz3EJ97Vpl2/i4r1tXPx8TEykfizphOimbK+rK9nFctkiTdlVo56D6EWn276rJHtH23BS1UlV12VXRQN00YiP6swrF/o5ZbMheKLpqWA6N/q4aNQUC40NgooRBfoBBefD7uM2UVyCpxHyOQhiSg2YfLzy2bgVZl4KaU5rJRqa/JiJxiknGynQSIn01b+hZEDZVjn3DVPVssYjjOHxR6nDgMe+5kzGxiYh1N9HLAopUVgmVL21Jnd+IBFRWdh/4wAeqTq88Fv1ZCUuvB/m0eKc5bFbt4dHrxaKyQGDMCEyMMLCt0y7QMoxTNtxww+yggw7K1dDyCoxKGPpqt1WirGl16vOEicnGxCCkc5DAUeicgahukhl0ftvfmGeQk1E3emp73brykkUhAsNMOMwEyk263dpnAh/mA4OI8kjnHMZRbJAwddTtOSIt99Of/vTG2rvoz0FI9/sb7ZEwX46Bk9onp987iNoCgf9CYGKEgR8AFV0bdfuonYQ4jEoYtEE0g9X/KEL9S33eZIMjyYU4rtV5xiMfTC72QmjrX4FodNGWcMhEZNrmBBgFs7pzORVyKhu0iVLxXBMyr/VJCvuuDX5M4oO0G9L0Uls3MXsh3J5nGS2T0E7Yg4WpqJipL/1e9xn9WYfMeI4LWeWjhPDxHQkJBOYRgYkRBo6ObeP2TYzbbLNNPlEJ5SlKWmFLMGIr7CrpizBYxbZte7E9tBRrrrlmniugeLzuu1VIyiBYNbhIjiJ0q0vcPPMFByaTLXUpjJuIrY/dwyyItiMMTaMRRA7IdzFp4evBGVV656rolUsvvTR/tsXvNxUOaJJmJZGkChYmozbPaPRnQnByn1/96lfz1OQycc5igqzJIRFXmlcEJkYYrKCGeXlXgWgFbSVtkkvRFQbfLbbYIvcHsNtjnfRFGNjLre66qv5NDLQLVoJNhVe0CIDyKvq2227L6zr33HObVrVMueSJz7xgtcrnQ0pbWpRBIkSR89a0hVMrE0Ob/SukibYCn6R2K+EkuyRyh+QVBd4S49i0q40ImaPpSQSaiUs/er58Ssgk1HSYRiz6sw3q/ZU1Bgq9pfViLgsJBOYJgYkRBgNdmvDbAuRcg65VN8ch3vEGxxNPPHFgVX0RhhRe2dT7vNgo5MbqVkxzW7n22mvzycHOcYQ5wGBTFWXRtG6EwYQLv/SX/hfvb2KrmmxkcrMqnbZwcuTs2MYXxuTsXpuYg8Zxf8idST6lF0eCTexIb5XmYVgbTPb8YWiHmDzUnfrSJ3Lk0xbs+rPqvYv+HIby+H73HNqgSVKkpvkyxteaqDkQaI7AxAgDx5+uWwm7HVvJGgQ32WSTfIDkQDRsxd8XYbAy5X8xzCmtCnZe+lZ/VZNwVfnyMeF5JkiRFe7dJGAb465SRRiqJhtOeEL8ktpf/oVirvmu1x/lPOGTsEQY2wii5R5HzcLY5prlstIx80vxHDCz2fmU5qqL0NbBgSbBfSWCUOxH3xEJmiSfL3jBC/J9NRLRiv7sgnx/59A2clqWo2CQj0t/V4yaAoHREZgYYTBYj+owJw7dQOhFa+Ls1xdhsApEGEQusDc3/aMKFy5nJdn0nHI5URM0FEKzDP6nnnpq57rUbYWeNArlCab4v0nGpOQTUXFOX3sldH1sqd+ZadquyuS4cG+IRhnfSf0vSoMGh7e8fjzllFNGags7uD7hu9C0P4X0IhfINo0dEj5NGbU/ZVScZ+EbRdMk82txm/F5vqdo++JGYGKEYdSQSg5k1HgGfk5eHIiGSV+EgSYDYZDitDipzuN32DWZYNK9IQzpuw2z6hxMh/XFqL9bVZvwrKrbioiFdA+L8bNrf4riaEK82+LdpHwf/Tks9LhJO6Zdhk8OIsmhWMRLSCAwywhMjDDIRNj1hbDCl7HPhMEebLUtRemw/Qz6IgwmHIShzcpW6KI2CpEcRey9Ia2qMEr3f/75549SXZ7kadgEgySUVdkwt+X1tES2RqvpLuYYpiREYZCD7LjviymCdkTeDJob2253FQSWiYH/AnNVk/50Tc/PRhttlNm7JPqzK/r9n4eEP/OZz8zTiicTYP9XiRoDgdERmBhhuPPOO7P77ruvU4t5khvwTzrppPx8+zH4X9bBQX4MfREGjpYIQ5vJyqBs0q1yOGsKAtIhWQ/NBodLKvWm2pW6awzyYdBeuBq8OMsV80AwA51xxhl11Y71OG0SElOVNrnJhQ3I7ktmzGkIp1lOhpKKeZZs+MQ04JnqIswoJn+7BaoHGXB/5b/k2yC/P4JSTOkd/dkF+fGdw1zrGeE71HWcHF/rouZA4L8QmBhhMOgLFWwr1113XT5ZbLfddsuQA+mTDZBswUXZfffdlxs4iwPplVdeWSze6LsVqsG9aWpXEz3b5Bvf+MZG9dcVOvjgg/OkPvfcc09ehKbFjpQm9C4OmCopE4ZEEph7jjzyyNpIAivTtvsj1N1X2+P6XvhnlygV10oJj0Zxum3b5lQeoRWOyskwTQSO8cdxT23b5BmgvvacE05zxec7aRsS6fu7v/u71JRlPqM/l4FjJv5B6ES/0ByNstCYiZuJRixKBCZGGIQS1e2hUIesl4ZneVVGQ2YCznhWV8XMd+MgDEwpbTZ3YjbhVJYmiLr7G3TcvhMmAjsVFsWgwpGya04EhCFNMCuttFKez6BJwh+7afLun7TQTGnvKCp8phQq+EHaqHHdF62IZ/SWW25Z5hJi8G02ZuJuSkRVcMEFF+Saq0S+7QiY+nOVVVbJJKlqku8k+nOZ7piZf0TO0AiJoqkjezPT2GjIkkNgYoTB5Cm0ch6F/bmJk6V7E4KJ4BxyyCGdb9VkwJuehqFKbr/99nwS6hLmaMKRJhnJaprlURsQDQRj0pOuCBPZEttMqmXMTKpMO5MWSbaYBWBXJULr9HNTTZRni+bK/SR597vfnd+bJFBtwjSjPxOCs/fJV4qPCgI4aCfW2Wt5tGixIzAxwpCSHwlxmzexQ2BTFaFJnJ9BW1VzwkRa6PXXXz8TkTBokpS0ijlhUnZ5myhZybbVEqX76vKJGLnmqOF/cldMOukUvwkES5KlQSTr6quvzk1uiNwwoWXxbJU1V96plLFzWB3p93nvz8MPPzzdyqL85NBN+yRRm4iSKqH1bEMSq+qIY4FAGwQmRhg0ioZhWmF5bUAplrWXA/+FYREZzjHZWw0fdthhxSpafU8JfoYRlLTPBtXlJBK/uJ5ojTrHw5RNManH6z5pX+p+Kx631bM9E6you2yWlUCnrVGv1f6kBNFD+NZYY41GjrJScyMCg/YGSaSgbqI888wzK8lE3T3Pe39y+vR8IFGj5nepw2jaxy2yNt9889z/pUzULRRolY444ohpNzOuv4QQmChhoF5rYi+fJfwlV/FyDlolpvamFWDX0CjJfUQDpBTCqd66TzH0JuDtt9++Ufvq6ml63M6K7O5V0jdh4ANiopcpcxQR7WH1zedlUsLkw2ciOasOuy5HRrsY6su6BD4ihOxqmTI1lutM5ory3iPlcsX/57U/OZBKly7U1qTJR0TYtcRiXd+9Ii6z9B1RZJajrbr77rvzphlDhdMaK2yhXvfMzNJ9RFsWBwITJQzCEtuGJ04TZiTB5kFNnI9oF4SqvfWtb+3UZGrHLitjrVcFAAAgAElEQVQGToE849/znvd0um6bkxAnkzhMxi1U9KI2TKZdBUmgoRBRMykRTmsgb5tUCPnTVlEw5Xum3bL52rCkVXJ0MFM1eV7hsRj6kwZQJNUee+yR+4PQPIgcQRQXi/1fdJBdSjmAc4KWzyOF0vKRabuB2aTehbjO4kNgooQBfJwH62xyswaviAQheVVbTJfbevrpp+esvxjrXi5T9z/VY/KY76J+P+2003LnuknslcB5kF1+HsQq1MA6qYmDrwvNyDve8Y5O8Hg3rBjL/hYmBNu4D8sDkkIuX/e61zW+/mLqT6Yg5EGyNFoI5NZ7hTxMa+Oxxh0xpKAx6EUvelFOCBNZcH/+mLPCl2EIgPFzLwhMnDBQn9EymCRnWWgXqP6aDDTJvtzVnmh1ROXY1VFSW03iHKTGbc+95ppr8hV006iRafUx4sWHALaTEH4k4uetBMsagjbXR3JoKCQnI0J6qZ/rIi3Kddu/xCo7qa/Lv5f/T/150003dX7+ynWO4/+2/akPOAW+6U1vyt+LInkY5Csyjrb3UaeIGj5EKRlXIgs+aZWOOeaYPi6TZ7OFz2c/+9ncNMo86jsn2SZ+XL00IiqZWQQmThggYbKZ9QmHc+YNN9zQaAJmDjCo19mXB/W+nA0G+JtvvnlQsaG/eZmlombLHWXCGnQhg7ZBmKMl9egdd9wxqPhUf7NJl5WX1eW48Eg3qH6puwf5IKSyTT7333//3AdCPgXZSiXVaqLlUjfyaBt4TqN1wuGRE90HPvCBzAZQTFqe31km8fqT9qWYfbTu/srH3W8iD8yGJlnmH2TCcZjNstCQWVBUkYVEHLr6MtD20o5KWZ60MqnOqk9llEVgm+T7mGVco23tEZgKYTAwUfXPqoOSwdlAQrUrSdK1115biyztgpeo7ZbLKrQK9KKb1PqQVN8wW3fTayEIIlvE+nO8MgGnQQTJmfbulXX3wYbPQXDnnXfOJ0Mx7V/72tfqio98nN/KsCiHNheBuwgABJCJg19EG7GLo37io0A8z943/ci5EjZ+TxMQskDNPev9ecIJJ7SBobIs8mAF7Z0TbgsHRG9WyYNnmdNu6qv0/pU//V42ZVUCkGU5MTz77LPz8G31ICMSwYm0sXARWSQXhOfQn+9ICy2U9PCylDKRORc5FUpuHAxZ/AhMhTCAVfQBm/usrWoMKNRvBhWOaOyhXgwvVJWd0L4ABuCq3wY9PuPSCBj0TeZdNlriJGiScU+c7xJBMGmpEw7U5dTu7PR+Fx0xS8KOzenNQOa7gU5omgHVpND3wEZlC5MLL7ywVxhouODr2RIB0Ub4OsgWaCJM22DrO5qE1I/+T/154403Zscdd9xc9GcbHJqUtcJGHpiv4CEs2jvPF2KSkTV1bT3rrLNy7c8wwqDtnKaNWXXCeVL+FqYNz5UQbkSyi4bFOMm0rA51IRDvete7Oqdvr2tzHJ8tBKZGGDykVsQ87tsOiOOEkM8C7UJRBYxZy7pGk3DxxRcvXB7Zwc6l420j7l1ImJVD1x08B12PZkRbh/lEUKUjRsJB+UB48Q08VROL41ah/CT4oTjXRGwVPG6/iUH3WvwNrlIey56YUif73XGrdMe1t5ymuVhHm+8pU2NdRs42dZXLqhve/ji1NhE+NO5PXyExPgf9IQ9pQ7d56s8mWHQpk8hD2p/DxMoHBnmw0p6WSCPuHfVO67O6vuXLgPhVCS0pAinCQpk+c7eoywLC+8XUc/3111c1IY4tAgSmRhhg5yXkWW7SmgU2zz6KcVexdKs2Kw8vKxueyRij9gJWlR/0bLAZWjG41jgEkbFBEQ/4QQOdhEEmFANN3SBUnHBMXsI4k9Cq2F1vvfXW67wZVqqrj0/3414QvCpBzqhT3RON0Sjx6wbxhPE4CC9CaSMi/jFwb6Ix+shHPjKQIBT70vPnOUamksxbf6Z2j+PTWGCSZhrybthaPZEHmqtpiOfMgmXVVVfN2+S5KPap78xLTAhJhHvTrPlNf5ezhKZyfXxaOMAIXj67bhbXR1uijvEgMFXC4JY80CYhpGEcA29T2KxIqdiGhUWa5O0EiCh4Odv6H9CoWMHXZUxs2t5h5b7xjW/kKkq5DOqEep4DY9XAUx6IDAJsnGVhWuJIhjRMS9NAPWpQtPq69NJLy01c7n8rRhojk0Bb/wCVmWR32mmnXEM0TIuz3MUbHPjSl76UD7pWaq712te+Nlcjw3qYcHpFmsr9V/wfWbASrNrxtNifRW3asOv2+Xvb/uzz2lV13XvvvcuQB6p/ky98pmFShY9nmNlNvxbNFb6nMYmP2Lrrrpvn8GiaDK7q/tsek4OEU7QU9+PQoLZtT5TvD4GpEwa3gjTQNJhMJ/0CUsXy9uVP0dQPAXPeeOON85d1yy23bMzaaSKE3pW36u6vO5etKWWOtF9BndivYZh2wQRUXo0W6zPJ0DRQh0/ap4Hmx+TNz+ITn/hEsVkDv5ssE8nYdtttc5+agScUfqTGh8m4NESeKY6aafXvnVhrrbXyAbhoKis0aeGrvki+J0WSkL7ra462g3KhSKOtDFI8L/25AMCYv/AtQTK9DyZnOCXyMCxPxjiaxrzGNKh/E1FkWrQAM9bQgjUhmn23TWp7fiGI6aTyoPR9D1Hf8gjMBGHQLKpzPg0m7klFT1ArIyoc/drEGJtsZN6TAnj11VfPB1aDSBrgl4c5y3eGtD20le0oqvCqugcd22efffK2Dtqbwu6HxVVKmlx8Os72WbUaLV4X2bK6NVlxvLQKGrfoO9oefhW0Q11EaKjkPlaNtD4I5CARk04jw8t8HOL5h3txy3bXMeiawIVcDhO7X5adG1OfIgx1xIqGj1McDZjyVrDz1p/DsOnzd+8xLQPCYLKGVSIPw96XQe2wO25boZVixkrknz8B0tmnr0LbNsHHnirGvHnbQ6jtvS6V8jNDGABuwsWGrdzkaRiXtgE5MQCbZITbtTWFcPChckMyrPio/U0iQtZ+8IMfVD47/B0MKpPe4pv2ZtDul+5d0hcOmFWmCW1umjPDZEsdimTYaU+0yTjEIGgfBJOiiI1RTSGeB2SBloJppW6/E6pp3uByF4xLZPOT06FKOK6ZEM4777yqn/PnEflTxiBdJoH6ty6NMNJsRZieAeHE/IrmsT8rwRnzQdrDRB4QLjimzbGGmTmLTUM0aC0Qty6kG3EwNul7z+u0hT/F2muvnZPyNouyabc7rl+NwEwRhtREtnWqUBM6W3xfqj6TI2cmURAGyDYvcmqbh94LKaa9KOqj/ksr1eLLTu1vABEiNQ1Bjqw4DjnkkGUub3DhWKfNYrjT6iStRn12CRdEwphs1LfDDjss4yi5TANa/oMYIGc2dqJVkBVxkFanZfV5ZIV8EwZb5ooiYUW8eM8LVxyXM1ciBIP26kDuEJsyqWHTFhKY/DL8XtYyyDtQ1qC4F5gqm8iCCa+YtXRe+7Nt//dV3hhBi8PxL+W4SORhmPbUXhHem0SG22gjvQuinfgUGT+LkUJ93VuXevj5SD7GdBgy3wjMJGFIkFpJWt0iDgZAq/fiIJ7KDfpEEhADme1oLkzs1GPlgXNQHcXfDNjCrZgzymJSsSKzKjdhUi26ttWazHt9Tm7law/7/4orrsjVzAakYjsNZEkFuvfeey+sSk2au+6667Bqa393ryaxDTfcML8utf8pp5ySm52KZKq2gt/9YIDl/c/PQJtoQkQOVOE/rK4mv2u3laKJl/01ZeBMpp2mGzs1uVaxDExoN4YNqsrBggaBGWhQ5Mehhx6aY4YImLhgVyQ7MpkayOFaJIm+l7VD89qfRYyn8Z0G0nuAPCC6iIB3jkar6ll6xStesdAfxhF91jSjqsyd+npcvjWj4JcWTR/60IdGqSbOnTICM00YEjY0DFbJ1PnIg0+rHgxamJBB0+BpBYrNstdzZGTjVt4LRFOhTJvJKl0/fSIwXvphO0PyxWAGoFpkY/c3ik0zXX/UT7ZtbRKWVaUJsTIS622FQz1dnFxGubYoGNdO2eF8cuyTv0CIKf8PhIY2g2+ArJkmTo6UJi8rXrZhZZCdSYhnySDv+vrSQC+D4riEg6rBvkm6XWpeDqb6aFBuCeQaITDx8L1Izy4Su/vuu+f35r7KZAEZGSTz2J+D7mdSv3l2E3ngjwL3tDkW0u59oz0q9odnQh8hGIMWHIi1Z6GvPSXGgYn32n2PakIcR9uizmYIzAVhKN6KQRBJkNiG9sHghYEjBsnUQNVu4OUPYXAdhSQUr011a7JrsrplF+cE6OUX2tRkE6vitfr+bqUjTwEyYLVJ41IlQvlMLEnrUFWm6zH9QFUqvawMcfJEmJw4kMKJd7cVFbW/fAl8ReQf6Iu4dGk3QgMzRGuYY2uX+p3DV4DzLA1PE0F+YQQzZpJB2SuRnIsuuiivltlJ35tYqrQK6kPO4N5E5rE/m9zXJMrI5UDDQ3NFYwl7Gi3Pmu/lP6Rh++23XybHQrGd/GqQyGFRNMVzJv3de8yBes8995z0peN6PSEwd4Shp/tuXQ1boonUBNJEpNv1ktvX4XnPe17uQd3EC79J3W3LIFQpmoNZwAAlwqNOmqxy685dTMetxNmDmQDY9K32Nttss97JFDUtLcCwjZWKzpm0HhxpTTA0L8MEAUTQyhNR1f8IScjkEEAYaYBoIuuInH7yjHgeaU6LYvFkrKmLfimWnfb3j33sY/l7RGMcMn8IBGFo2GeHH3547mjXZLXLR4ImIvkAGBCKXviTim3X1uTQZtJLoU20CCYavgEh1QjoM+TAIJ68u/m/yIdA28BXpW10TdWVqKlpWYall6Y9KzrVJh8cph6amUF5FZBdfjRV5KB8jGNkyOQR8Bx4rsr9Uf4foUAcZKFMQlvHPNWXJjXVO45Pzy1T47777juO6qPOMSMQhKEBwFaabP5VmQ7Lp1sFcmqyoi+bLgzqYqO98CbyPiac8vXT/+L5Df4iOqjSy4IAGaD4W4QsjwCHQfiUQ0rTKl/MPbNAebW3fE2Dj9BYuU5dxkhkJSWYkvCrHCqnPZtsskk+CA/yk0EWaSVoScqTUPrfc0lrETJ5BCRXqzNHpP4pfirLDMEfwNj0wQ9+cPKN7njFc889NzeNlcfHjtXFaRNEIAhDA7Df/OY35yu0JtoFZdmJ69T6Vq5WB8qYcGRk61M4iKYJhs2zbiLSjjTR9BW22ud9TLMualODs2iJOuHhbkdPqmB7jLSN3lGvcziZ1m2NzkGOCppfx6C2mDQ4NwphHeQYZxXLT6I48ZS/h6q4rsfHe9yGcYPMEeV+Sv97NjhKJi3YeFvZT+38yrQ5+db0U2vUMgkEgjAMQVkEBgbfJLOfAR7zHzS4p8uZcNK2y7QNfWxoY9Mle0NwIqzSKqRrp0/Oo3bb3HnnndOhJf/JGRSZQ/yGSQrB5BMiDW/dpld19TBr0ACVNy/j8Z6y9onUaJKtT+QQh0Vbkw+TtAFXcUXrOwIbMnkEaBo5oiYSMOxTXzFD+UMynNs09LLp3XHURojHJcJHd9xxx3FVH/WOCYEgDEOAleyI/XeY9zFVsdh9mfaaignHxO7Flw2tnIynaT1U0WknTbswCh9tKvYNoKaO+OgsX6XxWZBtsY25iMkqhWDC/yc/+clQ+PkVGOiLCcDYoD0PnGuFvnKEayNMZjQeg4jLrbfemve3sFYTU1rVMkeceuqpbS4XZXtCwNhC0+iPCYzzq78U5WVFXmVu4g+AcErF3reMmzDQsmp78sXpu/191Ye8D9La9XWdeaknCMOAnqJdYF+WEGWQ0A6kLIDDiEVVPfJGpAyDtA1Ux01F2JwMf1STn/zkJ5uetkw5YXRUhH2bR5a5yIz/Y7JmwpFB0iDRRfQFDU/yGxk00Lz1rW/NtTvJjkuzIZ128m9p8wwU27rXXnvlxLUq4kLiMxqlXXbZJR+o+dnQjlix+iv7RxTrje+zhwDnaaRvHFEt4yYM8uhou89ZFg6lzIJSqk+rrZytYXXQQQdVQpWS8p122mmVv/d5MAjDADR5oPNgH2YuoFWwKhTe1FWStkE9VrnDsrVZddAqeJCsapuorevaZrK04hQjXVaP152z2I6nDJ2iEUaRFJlCa7PppptW5t9ASJKZCzFwbeYEmz2VMyy2bQvCyrnRgF/0uXEd4b1Sgae8DbYhRhSYpJCVkPlCgK8NgsnxtW8ZN2GgwaPdahIS3Pe9takPYfCOwNlYy5HcbrVVhLxNvW3L2sTL3FDlKyWaixl1En4sQRhqeo5XuVX3MFX95Zdfnj9QXVf35ctb5Zm8kzNdGtyL5fhKcHJjKhm0dXXxnGHfqdExabbFQSvjYfXM4++SQ5ngeW/3JVTLtE40VOUQTEQPOWMeEA7nZe8zRwdVNs0BR7okwtgMOOUEYogCzQptWsh8ISDHCy3ROGTchEGbTb422ZplQRiS2Q5h8Jf+Fx7qvZ3Eu3PppZfm1y6PUZzrtenAAw+cCIxBGGpgpjWgXh5ky5YMhx26iYNczWVqD0vCwidC9ra01bFJPTms0Sr0rQ2g1fAyyMS4VKRqcu3r3osRMVb2NpWSztxqxarAykXK67odTkdph1wbSKdwO3+u9alPfWq5Km+55ZZ8wJEpNWS+EKCi9hyNKoNCbdMkmT6ZPvsS++2UN8Trq+6+6qkiDAkL7xTsfAqX55fRZrOwNm00DzGX8nUrimdAe+65557i4bF9D8JQAa0BnIq4bhthp1D9YuEelEGkoqL6xoeEy/Ek9kDaxtmq0crUID8u4WVvQuvb63pc7R2lXn3IDFBW349SZ9W5ImL0nwncS2+Q8dkkmqaqvqbHaDYQQP3pe53wnzF4h8wXAvxVaIdGlWkRBsnkpM+3OJrVP1vNJ41CIgpVn95tf8oKb3Y/XfzZBvUljZJrJ3M184QFqzZOSoIwVCAtbbIwuUFEwMsqfNEKdZyCNCAlHhQqZVsgj1OYI+ysyZFyXGx5nO1vU/cgB8E29TQpKx+G1YF+REYnkWXTsyPBlOulLJ9VbZV8CiktR1cwh9lCPGQ2EeC8ajvrccgkTBLabpKtmoBn5ZgxtwlhSO31HvnOR4mWus8cN6KxvMspDJ55wrXGuSle+dkKwlBChA+BThmUVITmwYNxzTXXlM7u999klrApDR8JOzi6rhA+To/jEnW7pjjseUg32wWHFIJoz49xSjFUkq8CE1MKwWSOqEusNWqbmEPk+WBW05fDQkX5rpgktJeT71lnnZWbxPhgLDWfllGxn9T5/FK23nrrsVxuEoSBr9agPW3GcmMtKx1kkiiSBFoa5IfGhOYwRT+1vNzQ4sYOGkOLAWZOfiCTfD+DMJS6yO5xohQMuFUi/A17HOc2srzoqbWQg3IWQSRCaByHx3ESFqtOxKmYJ6AKj3k81ibJ0Sj3JwwrpQK3Q5/+TKt4RIV5SQgm22ffxIxfDe2CqIsmyaiUMeBJGc6htqimHhepGQXbODfLDjvssHxDsXFgMQnCwOF2HP5ffeJRRxi8yyZun8l/oUn+lVHbJvQdUWHO8dkkoeCo1yyeH4ShgAZbM/VTnRqWzYhXO0ejOkJRqK71V0xR4h52KYl76hzR+gypHNRIE5lJpJxASIje/vvv3znR1KBrjvs3zLxJGuVR2sF2mUIlreztIVLlJ1AMwZSmuy/HpY9//OP5YFLUkg1Kdy0pkPTUtB/62yCYVk8+k9PtKJjEuf0j8N73vjd/lvuvOcu1TePM9KjNHCib7M8zjvtrWmeZMCTzhJW9d1wOnUmLMcV7aZ4Ylyaj7p6CMBSQsQr0INSRgd133z3P/d81sU/hUst99eB5QT2Q9oIoxtAvV/h3B2644YaFvQbE1I9DRGV4sdM9C8sTyuWBlcxknqTpRk2j3BOSB5/HPe5xC5oDYZvwqiOAEvCkLdANQoN8Z4a1Tf+wu3qGyuIYE0NxQ63zzz8/1yRpX1Gr4H9/nscmacbL14r/x4+A918f9WknT60et4YBSdX2pHFL1521T4QhvQtMexwPRcdNUyxotYmGadIShOF3iNt0x+B42WWXVfYBm67VV98RCkmrID20rZPb7n4oWUcxgVObtNCVN1o6iMEmrYpYYBMOVZwHlkp9nqTJVtBd7ydpfazO+SYUnQw33HDDod7sSCqNTkoTfuedd7Zuir6yBfYLX/jCStLhGrRjTG4SfUnwlAbDuk9mKVkpQ2YPAc+YfptHDZAcJNo+6+aut7/97fnzP2pCtT6fHkTBOEMjPmkJwvA7xGkPJOKoym1ujwdJnPre+le2ME4yiMqoG1Bh6rJS2v2w73A9JAY2XvCyuprtex7kox/9aN72cWSWK/qVXHnllcvAkbIpFlf1yxQo/eOZECYFZ0Sw6eoR8bRh1bDU1skkY6OpOpJQPK4dfYTulW4z/i0ggPR7/9OfZEDpj3Yn/XnO0p+FC1MhXyaOg9NQjRduofVXPmDGlJDmCJibbr755nwu6iP/RvMr/3fJIAxZlquYqGNlbSxLMWKgikyUyzf5P3nO85rvc4trk4tJxiDflwe+nBRyFSA1xYnEd6vPQfH9TbCYRJm77747d1Q94ogjer2cQZqXOrx5L5cTaXlenv3sZ+d7N7S9cJGENMkiesIJJ+Sany984QsDLyVUlvmDtqzcn3X/U8WGjBeB5D9iYZL+vF+0ef6q3r/UX7RSyWQ43lb2Vzvt1qSyE/bX6unVZJxN/e1z3NFddXcahCHL8rhW5oCyp7pVm8RJchL0pernAEdFbRCwohjFXl3XqRJ7UDunTZDqyg07LucDe3gyQRQf2PR9XKlph7Wt6e8In8GYJqfON6VpXalc0XzA56VOJSzXAiJaTsec6hn2WTZz2I68Sqw2XWfYroXUqtJ/D+rP1K/FT5NVX9hVtT+OZbnTKYJQxH3QdyTV73Ix+BzHBlTj6peUzrjOp2dc153nehNh4LA9zUy8S54wmMCttsqqZA8XtaDBctQNidRlwFWf1cN66623jOPZOB7k5IHv3rbbbrusbrKpu7YNVgxKaWAaNHjx/5hFQQCFHzHV9EX4aCtsBJMIX93GZBwsEZU+4sxvv/32XH1bdKRMeMsbsuKKK2ZMaoPkwx/+cN7mQStVfV2neZiGvXTQ/Sy231K43KD3LP2mD4V20zx5xuXamCc/k7e85S25/1N5gbbY+nQx3s+SJwyiAGTgKz+8thQ1KZx++ukj9zs7f/KCRxr6Mm00aZgUz8lrny2U1qSJmGBhM2gSMYDB6JRTTmlS5cTLsJMiaHxQRhWhkjRCBmtplIeFQJ5zzjl5HoSi8+MobUihmvB+8YtfnFmlCW9lLmLWGhRVwwwh5j1NOIM+aSpco1xmWirQUTCbt3NpMsu4l//3/EnYU9wt8dRTT803MBtlx9pJYaWNtJZ9jKuTanNc578RmGvCYHUnPIfq1gTnYeRAZPBsMjFS41lRlTflSTs38gNoUs9/w7nsN6tMBIGqked6V9X0srW2/y9NdiYDNvdBmx3BtKjysomRRFFVk4jBDKGgMWkrcNUOhIZKnc1emBj1vsl4VFMNc4q2DdoPpGmbB63wq+qAN9X/OJLSFDUcJg7pyQet/vVneh8QRn4zdX2ZJif9WdREKC+CY5CMuz8HXXuef7N4oMEU8jrM/Kd/7EDq+SqK6Bgb1R177LHFwzP5XSg2jVjVLrwz2eBo1DIIzA1hMCAhBpg1j3POXWxgdX/s+Lz7v/3tb2dycFfZYOUy53xTJAU0DbzUhQyWndiWQW7IPwZ2qz9hiJPWKtQ1jdZE2B11pjaVtSrOM+gYmCT6SYKEUa07XqWyNjFTjQ8S+MtHYJXOh0Mb0gRV9Ync8A+QeVM4Z5u+YCKhvpdcahRxzRSyijw2NevQuHBE89yNQ2ApIgJubJp1PhSuzfZZNFfYipdfTl1fIgfKezf0gXIIr13xijLJ/ixedzF8R+IQ8b333juf6GFsK/QDDjig8p1A3owjxXeyjAOSL7PnrJoHtVf+Aho/Ieoh84nAzBMGbNoKSjpf5IB62UshPIx2wUo0kQFs3apeRkYaBxtDSYqDPPjjr5AmHqTDRHfdddct03MGWA81m2IXoSZWh4GX6njaST7K91BsH9V6sX0wSYTAAFVWu9vkRNhmeYVqQKvL2GY7Z3HDzjMwIiwmnwsuuCDXLvDuRkiIVYd+Q7ZoHI477rhs0003zScsk5ZJbFiiF33PgRURLK/EylgM+j9FKZiQm0QppLo8k1Z72j4uQfzgwRY8KEpD/6W+Kg/SnnsJudLv+ib9IXNWrSI/0vPAaZRMuj/HheGk6/XewRymyCysRdAYK9I7aOGiT1I/+NQ/sr4auwaJMZBpSkbRqoXAoHMn8Zs22duE9mqSJtlJ3NtSusbMEgaDvQHPRH/XXXflK1gvXRfxgFrtmYiQDmSAIyC/gqJ2wUrNqsouYF1Esp1hK/gu9Y7jHFiYVJMGxKqHijupon1y2jNxFKVK24B4sZEXBanbddddczzVc+KJJ3be2RMJkFvCYOha2l21a6e+fO1rX5tvA951F9GueRDSvdPQMBPQho1DPMfMHTaLShMDcoOQicn3nfhNnyRCYOL37BdFXx588ME5pkmbYJKC8dVXX52/G1TljjFLTbo/i22dx+9MQYkkMDfoA4sI5p26hEWHHHJITgYTaUAwBvmnFHExrlns9J0v5v+3dyawfhR1HDdqVJAgWrzQCnhgVQriBQKCaDlVjEK9gBTRqgFMRZRYYk2IAgKKRwUxCgWpB63FI1y2KRgt0NJWWiotIFTahy1yVKhChWDWfAbn9f/2/ff/9piZnd39TvLyv3ZnZr+/fTvf+Z29Y5R9T4ZE5pY3H0nZcXSeXwSiIww86HjYY3JYunRpgj9B76JeFQ4WHxzGUHOTxMeSEDQWJL1hwSnaIDeo2nnosiNmF9aEBkkgkxmLyqRJk4ZV0PZhBWnIwgOVaq+2gUUGDMFzxowZ5mBTqcIAACAASURBVOGAMyl1DVzuKHjg2KqdJBTqTViD8xcywPRRtLFD40GOjR/iVCbTItoRFgbm4aOhPeP+wlRjtTJ2nHQI5llnnTWsHUCe4ILmo99ChQ2dMFxLGnrljjwZkz7YEYeUp722Jr0iF8jt5MmTzb0EppYkYA4aq0HqwBoNEmm7izaKETEmWU1jyU5IkTzmdMEFFxS9HB0fGQJREQYWXlgyDzC8y10ShTTuqI4hJIyFWpziPzyI82bWs/2VjUKw58fwyq7UahYsWbCvEAGc5fo1Ho7U37DHsotA5ciii4+ENRX1O7fqdxBKCAkLNOm80Q5xDeedd17hrl3VcmA3zi4/746w6ETZfYLtoJh7NHIs/miOrFzsK8QQrRpEMd0gBmhHeLAjc+zhaKGsPD/4wQ+aqpfp81x9TsvTVb8h+sHMCUnAz4WFnp00BBwCWrSCIRsmnkXck0UbzzT8Z5Ad2gzuhbobc+BexD9DrfkIREMYiHBg8YYV212/b3ghJGgDSLeJfbxImmMWBbQK/GMS6+8qfM73Naf7Z1FHxW9V13Zx6X3lt0E+HYTcoYZnsaHUa++uPz2ey8/4r0ybNs0scDgZonkoQjKtDJk3D+kqUSxEfLBQlDVnjYULpIiFvF820vS5lEbPkiekalCGPf4HcMBD/iw8vfJ0qSlKz5nPvfJErtbk0u/Yur8jVNWSBLAGKwgD37FwV2lFrxvNBVlMIZP2/xbHYj7zbKur8VxgDvxf+r536rrGro0bBWHALgsTJaKhyAPflbBQJbPDwVSRZ3yORRtRNZOiq/lX6SeturYPnN5XFhmc/6zDaHo8HpIcg/9GHrVr+vyqnzEt8dDmwZQ3HBMHTiJhkCE7waIP6fSciebYZZddco+fPn/Q55UrV5qokjzJeWwFw1759XuP02lWI0MlRBhNRV48s/oq8z3yhHx99KMfrWX8rDmzKeBeQXvA/Y5zqCUJaV+frD5cfo+/jfV5sAQRuVGjAblNmTLF/F/88Ic/dDlsrr4wPzAnIkF8ahpzTUYHOUOgdsKAyg67XahdaRZyqNfRcEAashrmCtTO/FNiP+9nD846N8bvcSpFhdpvQUl/xwOSh2OaUGHTBg/iq/mt6sJbFidMEpgnWGQGzQFyiiMZ18f1uJAhXu7gg1+M64ZvAl7y2MHxYRjUuD/xskceafmlP/Mw75fQqleeYFVXyytP3/PDnwqSAP5oeCCY+CdAkuvKJYC5gtBX5GyJgpUvc7SOr/w/EoXBcfxfZBF+lxiiKQYftHbUN0k/L1yOpb7CI1ArYeBhiGZhUOKZkJBAGtAe9HNaRLVHClZU71k2/ZBzdTEWoZA2jIt/cBY9++Dp98qDp9dHgBK1EA4fCYrKXB+LDDtT1NnpxoOLhzxJY9CWpJN1pY8v8pkHZL9aJEX66HcsxIdoHvwi8mhucHRDbiwa/eTX+x2yBgdU67Y1SZ52zj5e2blbkgBmOItCMol4qEPjYq+RDc1hhx1mZJsmCsyT/080n2nCjFy5h4h0QbOU/t32X+WVPkmSZv+/Fi5cWKU7nRspArURBv7xyK2QjvWvGyfME2g8eKVhj7QVIFkY7Pd1z9Pl+Dh9sish0REhezx8sggEDyVIFecQJUHxm5h2Eaiz07Z+CClqZOaOLF2qj3EMpF88wV03ok1YGHCszdPImMk5RDVAnJAjhA5Z8j79R9/ExmNfbpI882BR9BjyHLAbJxIEnFj4LEkYS7NTdKwix7MQQ1TwM2Jeg0h9+r7vHYfnGNpR7oUJEyYY8tzP+bX3nDzv6QMTFunnmRtkvajjeJ5xdEwcCNRGGHjQohKN0RkGDQNsft68eYaZE27pckcah+izZ8H1s1v4xCc+MZxwqZdAQBRQ0fKQIEw1tsaDcfvttzeaInaKOF6R1IZ8Hq4bOz6KUbkmTYStQkTKarNY5Mh0SgZAMjuyS2bBQY69u1MWGRzmSMwUuzxdmy0tSeC6wYYiZdw7CxYsiMbujmyYG/cCr1l//N5Pu5C+3/ETs74N3BM4wEI0i0T2cCyhy0Q+0Af3E74KNgFVekx9bg8CtRAG4vUxRbjc6bkUCQ9/Qi6nT59udhkhbH8u5++6L5IwUe2QxD2oNXlosdD0s4G7HjtPf7NnzzZyssmS0F5hIoAk2MRUPhyvIJVggcrXZYOwYStnh+uy8UCfNWtWcsIJJyS77rrriMWHBWdQJIzLeYzVV5Y88Tmp0titIzOim3DoRHY4qkIS+N416asyV3suxI+Q1kGaBfv/OCh1tO3PvuK7c84555icI5yPRorIChZ+kqxddNFFxicHvxze8x2/cYz1e+L/i5wjaKfUuoFAcMLAgxtTRD8/gZggx58B0wROPGpbEUC1ya6CHSk72LobpHPcuHGmtkLvXCgYBakZFA3Qe3yZ9wceeGDCn8uGIx35Jch/UCW1dZ45YV5jkYFUsbuO4X9yLHmieSnS0GBCBiAF+GywOJJ5NGaSkL4+SANO1lmkAbIH8SmrrWXBhxiACanGibLgfxxiwB/v+Y7fOIZjRRLSUurG5+CEwVYo9LHjcy0yVJaxZEtzfW1l+yMMk1z4EKoYGsmieGD2y7VPbg1yCvhohGWy+JTJCDloPiTC4gHtWv2eNWYb5dlLEqxTr63bMCgKKgujGL5Ha0btl37+KNz/5OlQEwK+EQhKGFAJol0I9TCsCh72ebQMXTdJWBzZ8eK/cPrpp9uvan3FBAF5wdeiX4PsoWVwnbwG1TVOaPgGuGzf/va3DfkZq8CWqzHbJE+SveEciFOrNZtZkoDdvumNXBw4YvamY4ewWu1CEzZgTZeB5p8kQQkDORfwXXARmkQ55ZkzZ5pS1Nam5uNBi3Nmv91rF28e1NeoReuMz+/FHR8TdlyDSvpiOqEUtMtGtkUe1NwbrhpEGucxUmqHak2XJ4THFnfCyRWZoFEi2iEG84orOVI/BbJA9AvPULKSWsdVrtlH/g9Xc1c/7UIgKGEg7eygPPhFoLWqRli2/fNBGKyDZp2hVUVw8XksNkyqJMbQsL8T/UCGxUENJz8IpStfFNTdZLR06ZBIjgXi5HFuC+l411R5slhi08f3AsL43ve+1xQ2ypOrYtC9EuNvOKLio4OsrE8Lmk9SdvPcq+K7EOP1ak5xIxCMMPCgRbtQtBhLFnx465500klG3Uz+AP55fBAG1/POup7Yv+chxYM6FlspyaIgAmOVscaJjuNczZtwU3BwlWwMIoptGqeyqjUIitxDTZcnJiFk0Zt4qsj1N+FYtE5oTqhVk66vQ64DwnlJRqYmBEIhEIww4AeAP4ALc0QaHIiDL8LAWKRibUuMMYStjLaEQjL4A6BxqbvhoU2xn0FFlHrnyIL86U9/uverUu9JUkO2z7zj5hmEWHYKZ5U1e7GrxjeoaJM8iyIW9ngiO0h1jiYlK8ESjsfyXQgrl66PFoww4OjoK27fN2FgF+tr7qFvQBzrSG/NokfGxryLDaWPUcXH0Jg7hCFvaNdXv/pVk5So6txJpc24Q0NDVbsy52N7hoTZ3P9lOiXMjcRiX/rSlwpF9EieZdAOcw4bK0gkmWXLkPsws9QoXUQgGGFgB+UrpMk3YcBejjklpH3Z181oPfGt0xS+IF/+8peNFmXQmIQo8gCru+HsiomhSP0KnBRx1qyi3UKFD1Zk3nPR0FpR7ZCiXVUahAHHNxujT0ImQk3H0oh1XZ5VMPd5LhE9+GZQLEraA59Iq+8yCAQjDGRO9BVO6ZswsFjA+oukTy0jjBDnQBhYcK2jKK/2M1UR8TDvt9iQOZFdad0NJ0ecHYv4wrA4c51r1qwpPX0y3RHC6cJ5EvMcC/t73vOe0sl27IVAGKz8rEwteSBVMPLs93/XdXla/GJ6xUyEBoswYZGFmCSjuVgEghEGHHhclBK2E+999U0Y2JlCGEI6pfVen8v3/QiDXWh4tYsNTniE+Fm1P/HfhLHW2QifxCuecMoiDb8Lrg0TTJlGvgfMOJCGqg0TEPUn8IVwUcisH2Gw8sTcgSaJV7zqqathiVaX5VlVhj7OJ4Ml6ZnxtclrJvQxD/UpBAYhEIww8LD25TDnmzAQKQFhoBgV9uYm/7FDT+9I7QLT+8oiw+LMK3HfnPODH/xg0L3k/Td2Xuzybc2IvAOSbplrg2iUkR3hjjig4ZFe5vzec0j2xCJ+9tlnV+6LfvGgzytPa7rgHBYnagTU2arKk2ybbWjIkXvis5/9rMhCGwTa4msIRhhchlSm5eGbMOC7AGEgx3/votrE96g88yww9togDPY9YVzr169Pwx/kMz4wLHjY54s21Lv2Gtr4Wlae1MGoK4upC3lC4JvefvGLXxitHo68bfCRaro8NP/BCAQjDIQJ+Uqs4pswsOBAGIrubAdDX8+vY5kkWFAhCWlVNjts4t7ramRrpMYC8edFG6YkrouSvEUbD/JXvOIVw0lzip5vj8cvBO0Iu0iXbZBJwpIjqy2CcO2zzz6mZHZX5ekS+6p9kRsEEyBOx2pCoAkIBCMMFOlxFY6WBtY3YSAOGsJQZrFKz7Xuz4MIAySBRYbSvzjL3XPPPcPTZdE8//zzhz+HfENqXBa9smmT0YpwXTfddFOhaRNOy+69KlHCaRYnQ5KNZcXUF5pYz8GDCIP1R6EMMf4LvSm9uyjPHthqf0u5eAgcpbbVhEBTEAhGGHjou8zvfswxxwxUM8+dO9eZDNihQhhcP+ydTbBAR2nCYEkCpX95eGVFErAznTZtWoGR3B16xBFHmJDGslEqmMMgDEWdbkn/TKRBFY911MyEo+Jk6IMwpwmDNU9Y0peVkbKL8nR3R1brCd+Rsua1aiPrbCFQDYFghIGFiFoSrlpIwoApBZNKGxqEwaqqqepHPoM8SammTJlivPtDY4BmivmyQy7b0BCggi9iI8bGjtMnORyqNLQi9DN//vwq3WSeC2Gw8hw/fnxCkqo8+U66Js9MAAP/wP8f2rKvf/3rgUfWcEKgOgLBCAO7K0Irm9iwP6MhaUO7+OKLTejW9ddfX8gjmwcdBKPIousCL3IVvPKVr6yk3cFv4J3vfGeh6RDNMHHixEIYpQdYuHChsVGDna925plnGs3P4sWLCw3RNXkWAsfTweeee64hC2QMVRMCTUQgGGGwyY8IcWtaW7JkSd/kN027jirzXb58udnJutQSjTWfG264wYxZNfwPs0KRpFMkGWMXeNVVV401xczf8ZuAYJFRMTTJypxUzw9dkmfPZdf2Fk0T99T3vve92uaggYVAVQSCEQYmioahrrC8skBRUhb/BQq9dLmRTIYyu1mOhzabolWPZ73uvPPOwyr0rGP4ntwH++23n8mIWCWfPn4z9MduP2+jXDJjl234uhCCOmHChGgdZbskz7JydHUeDsSQhbrzmLi6HvXTXQSCEgYy9eWxl8ckDjzl8a6PcZcYGicqK77xjW/sO6xrwkBiIRb6WbNm9R0v75c8rKkBkddx0TpIot0o28jWh8/E6tWry3YR5LwuyDMIkAMGQbOFD0vV+3jAEPpJCARDIChhICyxSeGJkARsw1me5sGkFMlAECcW8aL28jLTx9eCqA2ybJZtkARqNnzxi1/M3QW+DqRuLtt+9KMfmd1kE5IKdUGeZeVY9TyeHV/4whcMWSBDqJoQaAMCQQkDgOE8iAd6Expx6+w4MUuoPY0ACyp2+Sa0n/70p+aBjWYrT/vNb35jFnt8Vso0zkMzMmPGjDKn13JOm+VZC6BJYrSRn//85829N3v27LqmoXGFgHMEghOGBx980GgZcIKMubFDwHySlZcg5rn7nJtdVGOPGsHvAR8Ccinkadj099xzz9IlvKliucsuuySTJk2qpBXJM1eXx1h5XnvttYXzVLicx1h9FZXnWP35+p3nxoknnmgSfl155ZW+hlG/QqAWBIITBq6SxSb2BQfnTApmbdmypRbBxDooD8R9993XhCnGXFWPELZtttlmRLbKQZhefvnlZkdYxu8As8khhxyS4NAJIY69ITeiXS644AJTSplkT5QMj5nEF5VnHTLgPjj++OMNWYCIqQmBtiFQC2HgwYSq35ZOjg1UTBAkarr33ntjm1oU81mxYoXJLxCr1zc+J9ttt11yxhln5MKL3etrXvOahEqeZdqpp56aUNRr2bJlZU73fg73M/9v5Gw49NBDDTb4otjU0ZAFHPPaIk/vgPYZALKANguSWqZmSZ8u9ZUQiA6BWggDKBB9wA4+tl0Nuy9i1Hn4x7yDrvtO+trXvmYWSaIjYmqENL71rW9N3vKWt+RO9nThhReaXeHatWsLXwpqZ0LmLrnkksLn+joB5+IFCxaYeiAHHHCAuTYIApoEUhLz3v4x92uuuSZpkzx94ZrVL4TzqKOOSrbddluDe9Zx+l4INB2B2ggDqm12qnjcP/HEE9HgiM8C2gU5Og4WCTuqd7/73cmrX/3qZOPGjYMPDvQr9xQpj7fffvvcdUswOZFJkhTLRdsdd9xhxjr55JOLnurl+NNOO83IAzIAEbB1JSw5SL9CHr7xjW+YubRFnl6AHdApzy6cgNHSkD1VTQi0GYHaCAOgwszxLGc3nzdO3qcwqM6I6vbhhx/2OUxr+n7ggQeS3XbbLXnzm9+cUKCr7kaZYIpp4cCXt2Eb52FflPRs3rw5ecMb3mB8OWIhvJdeeumw5iBNDtKfMUe8//3vH5FfpA3yzCt3F8ehzTryyCNN2fKilVBdjK8+hEBoBGolDFwsOzwKDEEa6nzwkhGQHBG9JYBDC6OJ42FaolQypKHoouvqejEdoSFgx4zzYt7Gok/65iJpo+kbTQYqaBJCFa2AmXduZY876KCDDGlKE4Tez5AF8lP0I3lNlmdZzMqcR+XUgw8+ONlhhx2C5CUpM0edIwRcI1A7YeCCIA1oGjBPhPZpQBVLdT/8KdhhqRVHgEUGTQPmidA+DdjrWbzJfzBnzpxCk8duzwO/qEYJNT6aDLRRsTVkgQNmL0HofY+pAse8QblQmirPULKALJA+/IUvfGHjMteGwkjjtBOBKAgD0GKewKeBhTtU9AQ7TIgK6sSu14qoentDttjdsljhbR/CYRTZvfa1r01e9rKXGe1QkWsg/BFfh7PPPrvIacapjYiC73//+4XOC3kweQDSzo2WNEAY8hCrpskzFL4Uz+M+f8lLXpKsXLky1LAaRwhEgUA0hAE0UPWyu2HnRp4GX9oGyAnZ/zBB8E9fpykkirvA0STQ1lC7AZX3PvvsY6JNHHU9ohuSJFEHgUWRREllTCGnnHKKeegXuccIs91xxx1N7oIRE4rkA6SXUt6QgvHjxw+HTVqyANH5yle+knu2TZJn7ouqcCAmHDJjYopatWpVhZ50qhBoJgJREQYLISwe1TYLOv+YqJ1dNIgBjo1EQaBVkL+CC1RH9wEJ23///c3ChVMYPiouGsSA+hIUdkKrQOpnSGbRhgYLtfzMmTNzn4rZjHDNPfbYI0ElHVv73e9+Z6I9XvSiFyXUsyBLaa+WARPKgQceWCoLZezyDCELyNjee+9t7jtMmGpCoIsIREkYrCDYSaJpgDjwAFy3bl1hrQMkAWJAZjs0FxAFsjiye1LzhwALOYsYD1l2uFS5RP2P2amIuYLFHe//ww8/3OyY2d2dc845Ceaksm3q1KkmKyNe7nkbSZ2wWcdWiGzDhg3J0UcfbTCePHnyiEyT06ZNM5ihWdhpp51G/Jb3uu1xMcvTztHX66ZNm0y58le96lW5w3V9zUX9CoE6EYiaMFhg0DBgQrjxxhsNeeCVXQ+RDUNDQwkPTWyu7EDxWicBD7sAbNyQDYgCmgqOKbJY2fH1Wg0BNAzY1VHnQx54xcOc/AXf+ta3zI74iiuuMMmP8A2YPn26cWTEkZLjySdACCDHsNOv0riP2G1DQvI2fDLYrV999dV5T/F+HAs4mgT8MHA2nT9//qgxMbdAFLhel1koY5LnqIt2/MU//vGPZOLEiYZgop1UEwJdRqARhKFXQDwEIQkkzUH7wMNr0aJFhhhYU8PSpUsNYcAfgt2BSEIvgvW9Rw6Yms4///zkhBNOMPZgbO3s3CEGpHNGg4Dan10zVR9Js+vSBPCxj30sef3rX5877wf3F4Qlb5rpEOhCfrGl4ytCOCkmvKwGyZk1a1bWz5W+j0GelS5gjJPRTO6+++4mBJVniZoQ6DoCjSMMXReYrr88Apil0BTMmzcvVycsGOSYQLsRA+nEWfeb3/ymCSHda6+9nGoNcgHSoYPQWmJGg1zGlmujQ2LQpUaGgAhDZALRdPwh8L73vc84LuZxlCTzKE6ChG3GEHKL9ozMktQrgDTIB8fffYKvFMXIwBvioCYEhMDTCIgw6E7oBAKYrTB75K0kiMMgkRR1l2GHrNgslkcccYQqqHq+WwmdxSeEzKX4PKkJASGwFQERhq1Y6F2LESDZzrve9a5cV/jzn//ckIvLLrss1/G+DiLKBJMIfh11z8XXNcbU75133mlCU6l0SoSWmhAQAiMREGEYiYc+tRCB6667zhAAomvGavg5UIyKxE51NUJJP/zhD5s8Fscdd5wWrwCCwImaiBJybRRNFR5gehpCCESBgAhDFGLQJHwhgL/CO97xjuQDH/jAmEOg/sdnYd99960l+yeOlYRKkpgKG/qCBQvGnLMOqI7A6tWrk5e//OXJfvvt5yxJXPVZqQchEB8CIgzxyUQzcojA3LlzzU59rKJYLNY4RZJBMlQtk97LRLNBOm1yJpDNsmq+id6+9T4bAe4L8oJgrqqSDCx7BP0iBNqDgAhDe2SpK0khQCQBoXEf//jHU7+M/kgNDBZrohFCNogBY5PrAdv58uXLQw7f6bHAety4cSYapkhNkU6DpovvNAIiDJ0Wf7sv/pJLLklIi4x9elAjcoLjLrzwwkGHOf+NDKQTJkwwPhMKlXQO78AOSe5G3Y3DDjssefzxxwceqx+FgBB4GgERBt0JrUSAGiKEx33mM58ZeH1k8GOXeeyxxw48zuWP+EowL6pKkhSKuH+1cAigRSKlNiYomX7C4a6Rmo+ACEPzZagr6IMANSme97znmUJjfX42X7GzxAyw5557Ok0/nTUe38+ZM8eU1cZXQqGSg5Dy8xtaHZxKcYItUnzMz2zUqxBoFgIiDM2Sl2abAwFqK7Agn3rqqQOPnjJlilFLhygqRHrhD33oQwqVHCgRvz/ecMMNpl7JRz7ykYQ022pCQAgUQ0CEoRheOroBCJx55plmYaDSYFb7zne+Y+pKXHPNNVmHOPm+N1SSkM2FCxc66VedFEMAOaNxwgGWtN9qQkAIFEdAhKE4ZjojYgTwD8CZjciDrEYCJ6ISzjrrrKxDnHxPCXZyQNhQSanAncBauJOrrrrKkIVPfepTURQRK3wBOkEIRIKACEMkgtA03CAwffp048T46KOP9u1w48aNJqPfkUcemeQpQtW3kzG+xDfChkqSBOovf/nLGGfoZ18IkIcDwjZ16lSRBV8gq9/OICDC0BlRt/9CKRaEQ9t5553X92KxW5OgZ7fddkseeeSRvsdU/fIPf/iDKYn8ghe8IPnud7+rRaoqoBXO/+Uvf5k8+9nPTj73uc95I4cVpqdThUDjEBBhaJzINOEsBE4++WSjPXjsscf6HnLiiSca3wYfO/5NmzaNCJVcv3593znoyzAIUEAMsjCW42uY2WgUIdAOBEQY2iHHzl8FZYmf+9znJhdddFFfLGbPnm0iFK644oq+v1f5klDJF7/4xaYeASpwtXoR+MlPfmIcWk877bR6J6LRhUDLEBBhaJlAu3o5xx9/fLLrrrv2LRq1YsWKZNttt01cLyBr165NDj300OFQSVU5rP/uo3jXM5/5TFOPo/7ZaAZCoF0IiDC0S56dvBpSP6N+/tnPfjbq+jEVkPHxoIMOchZOR1ge/gnbbbdd8rrXvS65/vrrR42rL8IjQGpvsmeeccYZ4QfXiEKgAwiIMHRAyG2/xKOOOirZfffdRzkYkgPh8MMPT8aPH5/gEOmioa14+9vfrlBJF2A67ANH12c84xkJOTjUhIAQ8IOACIMfXNVrIASWLVtmdpW//e1vR414+umnG7+GW265ZdRvRb8gVJKy02gy9t9//2T16tVFu9DxnhCgcBeaBbQ+akJACPhDQITBH7bqeQwESGREeCNmAzQADz30UELiJaIc8uZIOOSQQ0xypPTxEAgWkR//+MdjzGLsn0kpTCimQiUHY+VCnoNHGP2rJQszZ84c/aO+EQJCwCkCIgxO4VRnWQiwoEMMqNvw5z//OfnjH/+YkLMg648iQUuWLDGlqe+///6+/gf0gRo6nW75rrvuMos7yXqqNJwYqSrJGFSVHBoaqtJdq871Ic+iAM2YMcM4OF588cVFT9XxQkAIlEBAhKEEaDolPwKo8u++++6EdMyQA8wDLOhkXES7QBlqm9v/qaeeMkWB/vWvfxmNA6Wnb7311gTywB/5E3ojEQ444IDk4IMPHjEZzn3Tm96U7LXXXgljl202VHKnnXZKfvWrX5XtpnXn+ZRnXrAgK6ecckryrGc9K7n00kvznqbjhIAQqIiACENFAHV6fwRYWLDzs9AvXrw4IU/Cli1b+h88xrcQCbQMOBxCOvBbIDEPO/+bb755+GwWEioRjhs3LoFslGloQDBzYM5Au5CVYrpM300+x7c8MUflach42rRphixcfvnleU7RMUJACDhCQITBEZDq5mkEiExgscZcsHTp0oSKkTzkXTU0CLfffrup1TB58uQRJOTcc881C8nvf//7wsPZUMnnP//5ycSJE0cQkcKdteiEUPKECK5atWqEPNMwch+ddNJJJkJl3rx56Z/1WQgIAc8IiDB4BrhL3bMLZff/pz/9KSE1skuikMYRcwaEhLEgJeRCIIIhq45E+vzez5g93va2t5mKhhSNwkyilhiTTl3yTOMPcfnkJz9pqoz++te/Tv+sz0JA9dFkaQAACHNJREFUCARAQIQhAMhdGAKVMov38uXLB+4SXWIBIfnrX/+aLFiwIHnpS1+aHH300YVICtEYhEpiC6co1Zo1a1xOr9F91SlPtA3I1TZMUlOmTDEhsv3CZ+1xehUCQsAvAiIMfvHtRO/4F+CrQMZFn1qFLDAJyaSGBA6Vece/+uqrk5133jnZYYcdVFUyBWwM8sSkhekJU9Gxxx5rUnvPnz8/NVN9FAJCICQCIgwh0W7hWJgD2BFSV6HORv4GNBwsMoMai+Fxxx03HCp53333DTq8c7/FJk9MRKTg5h5TEwJCoF4ERBjqxb/Ro5NXAc0CYZMxNEgDO9NedbadF5qHyy67LNlxxx1NCewrr7zS/qTX/yMQozwhCmWcWCVUISAE3CMgwuAe0070iGMguRViS5GMeYJFprd2BIRm0qRJJskPoZKbN2/uhIyKXGST5FnkunSsEBAC7hAQYXCHZad6IicCPgM4pMXW0DBgniAEk/oChEruscceJh9EbHONZT5NkGfZPB6xYKx5CIGmIyDC0HQJ1jB/sjRiioh1p475gZBLyhxvs802CfUGbDbJGuCKfsimyJM8DWpCQAjUh4AIQ33YN3JkFl5MEf38BGK6IPwZyM1A3Qq1bASaJE9MTXkzQmZfsX4RAkKgLAIiDGWR6+h569atSxYtWtSIHTu1J8gLoZaNgOSZjY1+EQJCYCQCIgwj8dCnAQiQbQ/tQt0hlAOmOOInfBjYlfYWrBpxQMc/SJ4dvwF0+UKgIAIiDAUB6/LhxOjju+AidTLFqGbOnGkKPT3nOc8xeRGuvfZa5/DizIemQW00ApLnaEz0jRAQAtkIiDBkY6NfUgjcdtttpkBQ6utSH0nlTLXJ3j8fhME69D355JOl5tnmkyTPNktX1yYE3CMgwuAe01b2SPgk2gV2pS7a3nvvbSoPXnfddcnUqVO9aRhcz9vFtcfQh2tcJM8YpKo5CAG/CIgw+MW3Nb3jB4A/gAtzRBoUShajafChYWAsqlHeeeed6WE7/Vny7LT4dfFCoBQCIgylYOveSTg6kqjJR/NNGP72t795m7sPPEL0KXmGQFljCIF2ISDC0C55ersaHAfHKuxUdnDfhIE00ZhT8layLHsdTTpP8myStDRXIRAHAiIMccgh+lmQOdFXOKVvwmDDKx977LHocQ41QckzFNIaRwi0BwERhvbI0uuVkH/BVylo34QBvwv8Lx555BGvGDWpc8mzSdLSXIVAHAiIMMQhh+hnQdloQhR9NN+EgYgAJXAaKTnJcyQe+iQEhMDYCIgwjI2RjkgSpyGVaUB9EwZ8FyAMDz74YHrozn52GSKbBlHyTCOiz0KgHQiIMLRDjt6vgnLRGzZs8DKO7wWGAksQhk2bNnmZfxM7lTybKDXNWQjUi4AIQ734N2b0m2++ORkaGvIyX9+E4T//+Y8hDI8++qiX+TexU8mziVLTnIVAvQiIMNSLf2NGp0y0y5LWxxxzzIi00L0ponk/d+5cZ9jg7IiGAeKg9jQCkqfuBCEgBIoiIMJQFLGOHr9mzZqE2gOuWkjCgCkFFbzaVgQkz61Y6J0QEAL5EBBhyIdT54/CHEEoXhMbaaHZUattRUDy3IqF3gkBIZAPARGGfDh1/iib/Ojf//5347BYsmSJt6RTjQPj/xOWPJsqOc1bCNSHgAhDfdg3bmQ0DOvXr2/UvB9//HHjv/DPf/6zUfMOMVnJMwTKGkMItAcBEYb2yNL7ldx1112NK+JE4ambbrpJdST63B2SZx9Q9JUQEAKZCIgwZEKjH9IIEJZItEFTwhNJ2LR48eLk7rvvTl+KPieJkaPkqVtBCAiBvAiIMORFSscZBHAepNJhE9r9999vMlRillDrj4Dk2R8XfSsEhMBoBEQYRmOibwYgQHpldqU4zcXc0C7ccsstCeGDatkISJ7Z2OgXISAERiIgwjASD33KgQC70tjDFHHOpMDSli1bclxRtw+RPLstf129EMiLgAhDXqR03DACaBcoXvT3v/99+LuY3mCCIFHTvffeG9O0op2L5BmtaDQxIRAVAiIMUYmjOZMh+oAdfGymif/+97/J8uXLk2XLliW8V8uHgOSZDycdJQS6jIAIQ5elX+Ha8RFYsWKFiUJ44oknKvTk9lR8FtAuyNGxGK6SZzG8dLQQ6CICIgxdlLqja37yyScTsiiym6eEdN3tnnvuMaaShx9+uO6pNHJ8ybORYtOkhUAwBEQYgkHdzoFwKqRUMqShTk0DlTSJ3iCUUq08ApJneex0phBoOwIiDG2XcIDrY5FB00CSpNA+DU899VRy++23G3+KBx54IMDVtn8IybP9MtYVCoEyCIgwlEFN54xCAHU2Pg04QoaKnti8ebMhKqR+Vq2IUSKp9IXkWQk+nSwEWomACEMrxVrPReE4h7c9IZfE9vvSNrCYUQcBE8TKlStrNYXUg3SYUSXPMDhrFCHQFAREGJoiqQbNkxLYt956q1nQV61a5az2BD4SODYSBYFWQf4KYW4KyTMMzhpFCMSOgAhD7BJq8Pweeugho2lAE0Ca5nXr1hXWOkASIAa33Xab0VxAFMjiiO+CWlgEJM+weGs0IRAbAiIMsUmkhfOhuiUmhBtvvNFoHXjFlEBkw9DQULJhw4YEh8WNGzcm9913X7J27VrjyIgjJWQDEweaCo5RMqb6bxDJs34ZaAZCoA4ERBjqQL3DY+LXAEm44447jPaBkMxFixYZYmBNDUuXLjWEAX+ITZs2iSREfL9InhELR1MTAo4REGFwDKi6EwJCQAgIASHQRgREGNooVV2TEBACQkAICAHHCIgwOAZU3QkBISAEhIAQaCMCIgxtlKquSQgIASEgBISAYwQgDHP0Jwx0D+ge0D2ge0D3gO6BQffA/wA/3tmo5uiskgAAAABJRU5ErkJggg==)"
      ]
    },
    {
      "cell_type": "code",
      "metadata": {
        "id": "wOl9s7YSis1e"
      },
      "source": [
        "# Build sequential models (image above)\n",
        "\n",
        "model = keras.Sequential([\n",
        "    # the hidden ReLU layers\n",
        "    layers.Dense(units=4, activation='relu', input_shape=[2]),\n",
        "    layers.Dense(units=3, activation='relu'),\n",
        "    # the linear output layer \n",
        "    layers.Dense(units=1),\n",
        "])"
      ],
      "execution_count": null,
      "outputs": []
    },
    {
      "cell_type": "code",
      "metadata": {
        "colab": {
          "base_uri": "https://localhost:8080/",
          "height": 248
        },
        "id": "W7QijRTGm-sQ",
        "outputId": "448c9368-761b-42e9-f187-aaa4d0811de9"
      },
      "source": [
        "concrete = pd.read_excel('/content/drive/MyDrive/Colab Notebooks/ML concepts/Features   Pipelines/Concrete_Data.xls')\n",
        "concrete.head()"
      ],
      "execution_count": null,
      "outputs": [
        {
          "output_type": "execute_result",
          "data": {
            "text/html": [
              "<div>\n",
              "<style scoped>\n",
              "    .dataframe tbody tr th:only-of-type {\n",
              "        vertical-align: middle;\n",
              "    }\n",
              "\n",
              "    .dataframe tbody tr th {\n",
              "        vertical-align: top;\n",
              "    }\n",
              "\n",
              "    .dataframe thead th {\n",
              "        text-align: right;\n",
              "    }\n",
              "</style>\n",
              "<table border=\"1\" class=\"dataframe\">\n",
              "  <thead>\n",
              "    <tr style=\"text-align: right;\">\n",
              "      <th></th>\n",
              "      <th>Cement (component 1)(kg in a m^3 mixture)</th>\n",
              "      <th>Blast Furnace Slag (component 2)(kg in a m^3 mixture)</th>\n",
              "      <th>Fly Ash (component 3)(kg in a m^3 mixture)</th>\n",
              "      <th>Water  (component 4)(kg in a m^3 mixture)</th>\n",
              "      <th>Superplasticizer (component 5)(kg in a m^3 mixture)</th>\n",
              "      <th>Coarse Aggregate  (component 6)(kg in a m^3 mixture)</th>\n",
              "      <th>Fine Aggregate (component 7)(kg in a m^3 mixture)</th>\n",
              "      <th>Age (day)</th>\n",
              "      <th>Concrete compressive strength(MPa, megapascals)</th>\n",
              "    </tr>\n",
              "  </thead>\n",
              "  <tbody>\n",
              "    <tr>\n",
              "      <th>0</th>\n",
              "      <td>540.0</td>\n",
              "      <td>0.0</td>\n",
              "      <td>0.0</td>\n",
              "      <td>162.0</td>\n",
              "      <td>2.5</td>\n",
              "      <td>1040.0</td>\n",
              "      <td>676.0</td>\n",
              "      <td>28</td>\n",
              "      <td>79.986111</td>\n",
              "    </tr>\n",
              "    <tr>\n",
              "      <th>1</th>\n",
              "      <td>540.0</td>\n",
              "      <td>0.0</td>\n",
              "      <td>0.0</td>\n",
              "      <td>162.0</td>\n",
              "      <td>2.5</td>\n",
              "      <td>1055.0</td>\n",
              "      <td>676.0</td>\n",
              "      <td>28</td>\n",
              "      <td>61.887366</td>\n",
              "    </tr>\n",
              "    <tr>\n",
              "      <th>2</th>\n",
              "      <td>332.5</td>\n",
              "      <td>142.5</td>\n",
              "      <td>0.0</td>\n",
              "      <td>228.0</td>\n",
              "      <td>0.0</td>\n",
              "      <td>932.0</td>\n",
              "      <td>594.0</td>\n",
              "      <td>270</td>\n",
              "      <td>40.269535</td>\n",
              "    </tr>\n",
              "    <tr>\n",
              "      <th>3</th>\n",
              "      <td>332.5</td>\n",
              "      <td>142.5</td>\n",
              "      <td>0.0</td>\n",
              "      <td>228.0</td>\n",
              "      <td>0.0</td>\n",
              "      <td>932.0</td>\n",
              "      <td>594.0</td>\n",
              "      <td>365</td>\n",
              "      <td>41.052780</td>\n",
              "    </tr>\n",
              "    <tr>\n",
              "      <th>4</th>\n",
              "      <td>198.6</td>\n",
              "      <td>132.4</td>\n",
              "      <td>0.0</td>\n",
              "      <td>192.0</td>\n",
              "      <td>0.0</td>\n",
              "      <td>978.4</td>\n",
              "      <td>825.5</td>\n",
              "      <td>360</td>\n",
              "      <td>44.296075</td>\n",
              "    </tr>\n",
              "  </tbody>\n",
              "</table>\n",
              "</div>"
            ],
            "text/plain": [
              "   Cement (component 1)(kg in a m^3 mixture)  ...  Concrete compressive strength(MPa, megapascals) \n",
              "0                                      540.0  ...                                         79.986111\n",
              "1                                      540.0  ...                                         61.887366\n",
              "2                                      332.5  ...                                         40.269535\n",
              "3                                      332.5  ...                                         41.052780\n",
              "4                                      198.6  ...                                         44.296075\n",
              "\n",
              "[5 rows x 9 columns]"
            ]
          },
          "metadata": {
            "tags": []
          },
          "execution_count": 11
        }
      ]
    },
    {
      "cell_type": "markdown",
      "metadata": {
        "id": "qbGkI80anhK6"
      },
      "source": [
        "The target for this task is the column `'CompressiveStrength'`. The remaining columns are the features we'll use as inputs.\n",
        "\n",
        "Create a model with **three hidden layers**, each having *512 units* and the *ReLU activation*. Be sure to include an output layer of one unit and no activation, and also `input_shape=[8]` as an argument to the first layer."
      ]
    },
    {
      "cell_type": "code",
      "metadata": {
        "id": "i2rM590znR4m"
      },
      "source": [
        "model = keras.Sequential([\n",
        "    layers.Dense(units=512, activation='relu', input_shape=[8]), # layer 1\n",
        "    layers.Dense(units=512, activation='relu'), # layer 2\n",
        "    layers.Dense(units=512, activation='relu'), # layer 3\n",
        "    layers.Dense(units=1), # output layer\n",
        "])"
      ],
      "execution_count": null,
      "outputs": []
    },
    {
      "cell_type": "markdown",
      "metadata": {
        "id": "lRtxgGVFp0zV"
      },
      "source": [
        "Another way to apply activation function is to define it in its own activation layer (use when you want to put some other layer between the Dense layer and its activation function)."
      ]
    },
    {
      "cell_type": "code",
      "metadata": {
        "id": "3mzLj2z2qYHq"
      },
      "source": [
        "# This model is equivalent to....\n",
        "model = keras.Sequential([\n",
        "                          \n",
        "    layers.Dense(32, input_shape=[8]),\n",
        "    layers.Activation('relu'),\n",
        "\n",
        "    layers.Dense(32),\n",
        "    layers.Activation('relu'),\n",
        "\n",
        "    layers.Dense(1),\n",
        "])\n",
        "\n",
        "\n",
        "# ...this model\n",
        "model = keras.Sequential([\n",
        "    layers.Dense(32, activation='relu', input_shape=[8]),\n",
        "    layers.Dense(32, activation='relu'),\n",
        "    layers.Dense(1),\n",
        "])"
      ],
      "execution_count": null,
      "outputs": []
    },
    {
      "cell_type": "markdown",
      "metadata": {
        "id": "zGHxX-gFxfzo"
      },
      "source": [
        "There are different activation functions that you can try to see which is the best. Sometimes one activation will perform better than another on a given task, so you could consider experimenting with activations as you develop a model. "
      ]
    },
    {
      "cell_type": "code",
      "metadata": {
        "colab": {
          "base_uri": "https://localhost:8080/",
          "height": 380
        },
        "id": "Hb5SqGgjrMPh",
        "outputId": "c0f46785-9f0e-459c-fc22-56a843e6f0fb"
      },
      "source": [
        "# create various activation layers\n",
        "relu_activation_layer = layers.Activation('relu')\n",
        "elu_activation_layer = layers.Activation('elu')\n",
        "selu_activation_layer = layers.Activation('selu')\n",
        "swish_activation_layer = layers.Activation('swish')\n",
        "\n",
        "# inputs\n",
        "x = tf.linspace(-3.0, 3.0, 100)\n",
        "\n",
        "fig = plt.figure(figsize=(16,4), dpi=100)\n",
        "ax1 = fig.add_subplot(1, 4, 1)\n",
        "ax2 = fig.add_subplot(1, 4, 2)\n",
        "ax3 = fig.add_subplot(1, 4, 3)\n",
        "ax4 = fig.add_subplot(1, 4, 4)\n",
        "\n",
        "# once created, a layer is callable just like a function\n",
        "ax1.plot(x, relu_activation_layer(x))\n",
        "ax2.plot(x, elu_activation_layer(x))\n",
        "ax3.plot(x, selu_activation_layer(x))\n",
        "ax4.plot(x, swish_activation_layer(x))\n",
        "\n",
        "ax1.set_title('relu')\n",
        "ax1.set_xlabel('input')\n",
        "ax1.set_ylabel('output')\n",
        "ax2.set_title('elu')\n",
        "ax2.set_xlabel('input')\n",
        "ax2.set_ylabel('output')\n",
        "ax3.set_title('selu')\n",
        "ax3.set_xlabel('input')\n",
        "ax3.set_ylabel('output')\n",
        "ax4.set_title('swish')\n",
        "ax4.set_xlabel('input')\n",
        "ax4.set_ylabel('output')\n",
        "plt.show()"
      ],
      "execution_count": null,
      "outputs": [
        {
          "output_type": "display_data",
          "data": {
            "image/png": "[encoded data removed]",
            "text/plain": [
              "<Figure size 1600x400 with 4 Axes>"
            ]
          },
          "metadata": {
            "tags": []
          }
        }
      ]
    },
    {
      "cell_type": "markdown",
      "metadata": {
        "id": "k6z-ymolxwiK"
      },
      "source": [
        "## **Stochastic Gradient Descent**\n",
        "\n",
        "What you need to train a neural network:\n",
        "- training data\n",
        "- \"loss function\" that measures how good the network's predictions are\n",
        "- \"optimizer\" that can tell the network how to change its weights\n",
        "\n",
        "<u>Loss function</u>\n",
        "- tells NN what problem to solve\n",
        "- measures disparity between the the target's true value and model prediction\n",
        "- common loss functions for regression problems are MAE, MSE, Huber Loss\n",
        "\n",
        "<u>Optimizer</u>\n",
        "- tells NN how to solve problem\n",
        "- iterative algorithm that adjusts the weights to minimize the loss\n",
        "- these algorithms fall under stochastic gradient descent family\n",
        "- Adam is an SGD algorithm that has an adaptive learning rate that makes it suitable for most problems without any parameter tuning (\"self tuning\" in a sense and great general-purpose optimizer)\n",
        "\n",
        "<u>Training Steps</u>:\n",
        "1. Sample some training data (\"minibatch\") and run it through the network to make predictions.\n",
        "2. Measure the loss between the predictions and the true values.\n",
        "3. Adjust the weights in a direction that makes the loss smaller.\n",
        " - learning rate and batch size are parameters that have greatest impact on SGD training\n",
        " - smaller learning rate means the network needs to see more minibatches before its weights converge to their best values\n",
        "4. Repeat until the loss is as small as you like (or until it won't decrease any further.)\n",
        "\n",
        "**Epoch** = complete round of the training data<br>\n",
        "**Batch** = sample of training data for each iteration\n",
        "\n",
        "***\n",
        "\n",
        "Back to red wine example:"
      ]
    },
    {
      "cell_type": "code",
      "metadata": {
        "colab": {
          "base_uri": "https://localhost:8080/",
          "height": 170
        },
        "id": "mgMpX1g_pWrP",
        "outputId": "f0d87678-446e-4d55-b021-a2dee3b3c372"
      },
      "source": [
        "# Create training and validation splits\n",
        "df_train = red_wine.sample(frac=0.7, random_state=0)\n",
        "df_valid = red_wine.drop(df_train.index)\n",
        "display(df_train.head(4))\n",
        "\n",
        "# Scale to [0, 1]\n",
        "max_ = df_train.max(axis=0)\n",
        "min_ = df_train.min(axis=0)\n",
        "df_train = (df_train - min_) / (max_ - min_)\n",
        "df_valid = (df_valid - min_) / (max_ - min_)\n",
        "\n",
        "# Split features and target\n",
        "X_train = df_train.drop('quality', axis=1)\n",
        "X_valid = df_valid.drop('quality', axis=1)\n",
        "y_train = df_train['quality']\n",
        "y_valid = df_valid['quality']"
      ],
      "execution_count": null,
      "outputs": [
        {
          "output_type": "display_data",
          "data": {
            "text/html": [
              "<div>\n",
              "<style scoped>\n",
              "    .dataframe tbody tr th:only-of-type {\n",
              "        vertical-align: middle;\n",
              "    }\n",
              "\n",
              "    .dataframe tbody tr th {\n",
              "        vertical-align: top;\n",
              "    }\n",
              "\n",
              "    .dataframe thead th {\n",
              "        text-align: right;\n",
              "    }\n",
              "</style>\n",
              "<table border=\"1\" class=\"dataframe\">\n",
              "  <thead>\n",
              "    <tr style=\"text-align: right;\">\n",
              "      <th></th>\n",
              "      <th>fixed acidity</th>\n",
              "      <th>volatile acidity</th>\n",
              "      <th>citric acid</th>\n",
              "      <th>residual sugar</th>\n",
              "      <th>chlorides</th>\n",
              "      <th>free sulfur dioxide</th>\n",
              "      <th>total sulfur dioxide</th>\n",
              "      <th>density</th>\n",
              "      <th>pH</th>\n",
              "      <th>sulphates</th>\n",
              "      <th>alcohol</th>\n",
              "      <th>quality</th>\n",
              "    </tr>\n",
              "  </thead>\n",
              "  <tbody>\n",
              "    <tr>\n",
              "      <th>1109</th>\n",
              "      <td>10.8</td>\n",
              "      <td>0.470</td>\n",
              "      <td>0.43</td>\n",
              "      <td>2.10</td>\n",
              "      <td>0.171</td>\n",
              "      <td>27.0</td>\n",
              "      <td>66.0</td>\n",
              "      <td>0.99820</td>\n",
              "      <td>3.17</td>\n",
              "      <td>0.76</td>\n",
              "      <td>10.8</td>\n",
              "      <td>6</td>\n",
              "    </tr>\n",
              "    <tr>\n",
              "      <th>1032</th>\n",
              "      <td>8.1</td>\n",
              "      <td>0.820</td>\n",
              "      <td>0.00</td>\n",
              "      <td>4.10</td>\n",
              "      <td>0.095</td>\n",
              "      <td>5.0</td>\n",
              "      <td>14.0</td>\n",
              "      <td>0.99854</td>\n",
              "      <td>3.36</td>\n",
              "      <td>0.53</td>\n",
              "      <td>9.6</td>\n",
              "      <td>5</td>\n",
              "    </tr>\n",
              "    <tr>\n",
              "      <th>1002</th>\n",
              "      <td>9.1</td>\n",
              "      <td>0.290</td>\n",
              "      <td>0.33</td>\n",
              "      <td>2.05</td>\n",
              "      <td>0.063</td>\n",
              "      <td>13.0</td>\n",
              "      <td>27.0</td>\n",
              "      <td>0.99516</td>\n",
              "      <td>3.26</td>\n",
              "      <td>0.84</td>\n",
              "      <td>11.7</td>\n",
              "      <td>7</td>\n",
              "    </tr>\n",
              "    <tr>\n",
              "      <th>487</th>\n",
              "      <td>10.2</td>\n",
              "      <td>0.645</td>\n",
              "      <td>0.36</td>\n",
              "      <td>1.80</td>\n",
              "      <td>0.053</td>\n",
              "      <td>5.0</td>\n",
              "      <td>14.0</td>\n",
              "      <td>0.99820</td>\n",
              "      <td>3.17</td>\n",
              "      <td>0.42</td>\n",
              "      <td>10.0</td>\n",
              "      <td>6</td>\n",
              "    </tr>\n",
              "  </tbody>\n",
              "</table>\n",
              "</div>"
            ],
            "text/plain": [
              "      fixed acidity  volatile acidity  citric acid  ...  sulphates  alcohol  quality\n",
              "1109           10.8             0.470         0.43  ...       0.76     10.8        6\n",
              "1032            8.1             0.820         0.00  ...       0.53      9.6        5\n",
              "1002            9.1             0.290         0.33  ...       0.84     11.7        7\n",
              "487            10.2             0.645         0.36  ...       0.42     10.0        6\n",
              "\n",
              "[4 rows x 12 columns]"
            ]
          },
          "metadata": {
            "tags": []
          }
        }
      ]
    },
    {
      "cell_type": "code",
      "metadata": {
        "id": "LefkjODApdhE"
      },
      "source": [
        "# We chose a three-layer network with over 1500 neurons\n",
        "model = keras.Sequential([\n",
        "    layers.Dense(512, activation='relu', input_shape=[11]),\n",
        "    layers.Dense(512, activation='relu'),\n",
        "    layers.Dense(512, activation='relu'),\n",
        "    layers.Dense(1),\n",
        "])"
      ],
      "execution_count": null,
      "outputs": []
    },
    {
      "cell_type": "code",
      "metadata": {
        "id": "LS1b7subtYdD"
      },
      "source": [
        "# After defining the model, compile in the optimizer and loss fx\n",
        "model.compile(\n",
        "    optimizer='adam',\n",
        "    loss='mae',\n",
        ")"
      ],
      "execution_count": null,
      "outputs": []
    },
    {
      "cell_type": "markdown",
      "metadata": {
        "id": "6Bpgw_tkpxJ1"
      },
      "source": [
        "Now we're ready to start the training! We've told Keras to feed the optimizer 256 rows of the training data at a time (`batch_size`) and to do that 10 times all the way through the dataset (`epochs`)."
      ]
    },
    {
      "cell_type": "code",
      "metadata": {
        "id": "adUAH6NvwWk1",
        "colab": {
          "base_uri": "https://localhost:8080/"
        },
        "outputId": "ede0a579-f684-4b35-d338-18a05fb351c3"
      },
      "source": [
        "history = model.fit(\n",
        "    X_train, y_train,\n",
        "    validation_data=(X_valid, y_valid),\n",
        "    batch_size=256,\n",
        "    epochs=10,\n",
        ")"
      ],
      "execution_count": null,
      "outputs": [
        {
          "output_type": "stream",
          "text": [
            "Epoch 1/10\n",
            "5/5 [==============================] - 1s 70ms/step - loss: 0.2728 - val_loss: 0.1353\n",
            "Epoch 2/10\n",
            "5/5 [==============================] - 0s 30ms/step - loss: 0.1473 - val_loss: 0.1240\n",
            "Epoch 3/10\n",
            "5/5 [==============================] - 0s 34ms/step - loss: 0.1264 - val_loss: 0.1147\n",
            "Epoch 4/10\n",
            "5/5 [==============================] - 0s 31ms/step - loss: 0.1155 - val_loss: 0.1099\n",
            "Epoch 5/10\n",
            "5/5 [==============================] - 0s 29ms/step - loss: 0.1128 - val_loss: 0.1073\n",
            "Epoch 6/10\n",
            "5/5 [==============================] - 0s 29ms/step - loss: 0.1071 - val_loss: 0.1036\n",
            "Epoch 7/10\n",
            "5/5 [==============================] - 0s 33ms/step - loss: 0.1050 - val_loss: 0.1090\n",
            "Epoch 8/10\n",
            "5/5 [==============================] - 0s 30ms/step - loss: 0.1043 - val_loss: 0.1014\n",
            "Epoch 9/10\n",
            "5/5 [==============================] - 0s 29ms/step - loss: 0.1025 - val_loss: 0.1021\n",
            "Epoch 10/10\n",
            "5/5 [==============================] - 0s 30ms/step - loss: 0.1008 - val_loss: 0.1066\n"
          ],
          "name": "stdout"
        }
      ]
    },
    {
      "cell_type": "markdown",
      "metadata": {
        "id": "Bt2rOMYZqLzz"
      },
      "source": [
        "You can see the progress of the loss values but visualizing is easier.\n",
        "\n"
      ]
    },
    {
      "cell_type": "code",
      "metadata": {
        "id": "I7qBDg6JxJyv",
        "colab": {
          "base_uri": "https://localhost:8080/",
          "height": 297
        },
        "outputId": "58b08a69-87fe-4566-90f1-c775d730685e"
      },
      "source": [
        "# convert the training history to a dataframe\n",
        "history_df = pd.DataFrame(history.history)\n",
        "# use Pandas native plot method\n",
        "history_df['loss'].plot();"
      ],
      "execution_count": null,
      "outputs": [
        {
          "output_type": "display_data",
          "data": {
            "image/png": "[encoded data removed]",
            "text/plain": [
              "<Figure size 432x288 with 1 Axes>"
            ]
          },
          "metadata": {
            "tags": []
          }
        }
      ]
    },
    {
      "cell_type": "markdown",
      "metadata": {
        "id": "znzT59-Cqqzd"
      },
      "source": [
        "### Fuel Economy Example\n",
        "\n",
        "Predict the fuel economy of an automobile given features like its type of engine or the year it was made."
      ]
    },
    {
      "cell_type": "code",
      "metadata": {
        "id": "inA_snEmqU_H"
      },
      "source": [
        "# Set Matplotlib defaults\n",
        "plt.rc('figure', autolayout=True)\n",
        "plt.rc('axes', labelweight='bold', labelsize='large',\n",
        "       titleweight='bold', titlesize=18, titlepad=10)\n",
        "plt.rc('animation', html='html5')"
      ],
      "execution_count": 2,
      "outputs": []
    },
    {
      "cell_type": "code",
      "metadata": {
        "id": "Q-OATO_jqmt9"
      },
      "source": [
        "import numpy as np\n",
        "import pandas as pd\n",
        "from sklearn.preprocessing import StandardScaler, OneHotEncoder\n",
        "from sklearn.compose import make_column_transformer, make_column_selector\n",
        "from sklearn.model_selection import train_test_split"
      ],
      "execution_count": 3,
      "outputs": []
    },
    {
      "cell_type": "code",
      "metadata": {
        "colab": {
          "base_uri": "https://localhost:8080/",
          "height": 220
        },
        "id": "liQTfLnuswx7",
        "outputId": "d6d36497-4561-48f2-ffc3-f67a02ffedac"
      },
      "source": [
        "fuel = pd.read_csv('/content/drive/MyDrive/Colab Notebooks/ML concepts/Deep Learning/fuel.csv')\n",
        "fuel.head()"
      ],
      "execution_count": 4,
      "outputs": [
        {
          "output_type": "execute_result",
          "data": {
            "text/html": [
              "<div>\n",
              "<style scoped>\n",
              "    .dataframe tbody tr th:only-of-type {\n",
              "        vertical-align: middle;\n",
              "    }\n",
              "\n",
              "    .dataframe tbody tr th {\n",
              "        vertical-align: top;\n",
              "    }\n",
              "\n",
              "    .dataframe thead th {\n",
              "        text-align: right;\n",
              "    }\n",
              "</style>\n",
              "<table border=\"1\" class=\"dataframe\">\n",
              "  <thead>\n",
              "    <tr style=\"text-align: right;\">\n",
              "      <th></th>\n",
              "      <th>EngDispl</th>\n",
              "      <th>NumCyl</th>\n",
              "      <th>Transmission</th>\n",
              "      <th>FE</th>\n",
              "      <th>AirAspirationMethod</th>\n",
              "      <th>NumGears</th>\n",
              "      <th>TransLockup</th>\n",
              "      <th>TransCreeperGear</th>\n",
              "      <th>DriveDesc</th>\n",
              "      <th>IntakeValvePerCyl</th>\n",
              "      <th>ExhaustValvesPerCyl</th>\n",
              "      <th>CarlineClassDesc</th>\n",
              "      <th>VarValveTiming</th>\n",
              "      <th>VarValveLift</th>\n",
              "    </tr>\n",
              "  </thead>\n",
              "  <tbody>\n",
              "    <tr>\n",
              "      <th>0</th>\n",
              "      <td>4.7</td>\n",
              "      <td>8</td>\n",
              "      <td>AM6</td>\n",
              "      <td>28.0198</td>\n",
              "      <td>NaturallyAspirated</td>\n",
              "      <td>6</td>\n",
              "      <td>1</td>\n",
              "      <td>0</td>\n",
              "      <td>TwoWheelDriveRear</td>\n",
              "      <td>2</td>\n",
              "      <td>2</td>\n",
              "      <td>2Seaters</td>\n",
              "      <td>1</td>\n",
              "      <td>0</td>\n",
              "    </tr>\n",
              "    <tr>\n",
              "      <th>1</th>\n",
              "      <td>4.7</td>\n",
              "      <td>8</td>\n",
              "      <td>M6</td>\n",
              "      <td>25.6094</td>\n",
              "      <td>NaturallyAspirated</td>\n",
              "      <td>6</td>\n",
              "      <td>1</td>\n",
              "      <td>0</td>\n",
              "      <td>TwoWheelDriveRear</td>\n",
              "      <td>2</td>\n",
              "      <td>2</td>\n",
              "      <td>2Seaters</td>\n",
              "      <td>1</td>\n",
              "      <td>0</td>\n",
              "    </tr>\n",
              "    <tr>\n",
              "      <th>2</th>\n",
              "      <td>4.2</td>\n",
              "      <td>8</td>\n",
              "      <td>M6</td>\n",
              "      <td>26.8000</td>\n",
              "      <td>NaturallyAspirated</td>\n",
              "      <td>6</td>\n",
              "      <td>1</td>\n",
              "      <td>0</td>\n",
              "      <td>AllWheelDrive</td>\n",
              "      <td>2</td>\n",
              "      <td>2</td>\n",
              "      <td>2Seaters</td>\n",
              "      <td>1</td>\n",
              "      <td>0</td>\n",
              "    </tr>\n",
              "    <tr>\n",
              "      <th>3</th>\n",
              "      <td>4.2</td>\n",
              "      <td>8</td>\n",
              "      <td>AM6</td>\n",
              "      <td>25.0451</td>\n",
              "      <td>NaturallyAspirated</td>\n",
              "      <td>6</td>\n",
              "      <td>1</td>\n",
              "      <td>0</td>\n",
              "      <td>AllWheelDrive</td>\n",
              "      <td>2</td>\n",
              "      <td>2</td>\n",
              "      <td>2Seaters</td>\n",
              "      <td>1</td>\n",
              "      <td>0</td>\n",
              "    </tr>\n",
              "    <tr>\n",
              "      <th>4</th>\n",
              "      <td>5.2</td>\n",
              "      <td>10</td>\n",
              "      <td>AM6</td>\n",
              "      <td>24.8000</td>\n",
              "      <td>NaturallyAspirated</td>\n",
              "      <td>6</td>\n",
              "      <td>0</td>\n",
              "      <td>0</td>\n",
              "      <td>AllWheelDrive</td>\n",
              "      <td>2</td>\n",
              "      <td>2</td>\n",
              "      <td>2Seaters</td>\n",
              "      <td>1</td>\n",
              "      <td>0</td>\n",
              "    </tr>\n",
              "  </tbody>\n",
              "</table>\n",
              "</div>"
            ],
            "text/plain": [
              "   EngDispl  NumCyl Transmission  ...  CarlineClassDesc VarValveTiming  VarValveLift\n",
              "0       4.7       8          AM6  ...          2Seaters              1             0\n",
              "1       4.7       8           M6  ...          2Seaters              1             0\n",
              "2       4.2       8           M6  ...          2Seaters              1             0\n",
              "3       4.2       8          AM6  ...          2Seaters              1             0\n",
              "4       5.2      10          AM6  ...          2Seaters              1             0\n",
              "\n",
              "[5 rows x 14 columns]"
            ]
          },
          "metadata": {
            "tags": []
          },
          "execution_count": 4
        }
      ]
    },
    {
      "cell_type": "code",
      "metadata": {
        "id": "5VKQOFhRs0A7"
      },
      "source": [
        "# Define target and inputs\n",
        "X = fuel.copy()\n",
        "y = X.pop('FE')"
      ],
      "execution_count": 5,
      "outputs": []
    },
    {
      "cell_type": "code",
      "metadata": {
        "colab": {
          "base_uri": "https://localhost:8080/"
        },
        "id": "dGirSYUHs5f5",
        "outputId": "9c58a160-0229-4bfe-90aa-d7e27a1dc0e0"
      },
      "source": [
        "# Make preprocessing pipeline\n",
        "preprocessor = make_column_transformer(\n",
        "    # standardize numeric cols\n",
        "    (StandardScaler(),\n",
        "     make_column_selector(dtype_include=np.number)),\n",
        "    # one-hot encode categorical cols\n",
        "    (OneHotEncoder(sparse=False),\n",
        "     make_column_selector(dtype_include=object)),\n",
        ")\n",
        "\n",
        "X = preprocessor.fit_transform(X)\n",
        "y = np.log(y) # log transform target instead of standardizing\n",
        "\n",
        "input_shape = [X.shape[1]]\n",
        "print(\"Input shape: {}\".format(input_shape))"
      ],
      "execution_count": 6,
      "outputs": [
        {
          "output_type": "stream",
          "text": [
            "Input shape: [50]\n"
          ],
          "name": "stdout"
        }
      ]
    },
    {
      "cell_type": "code",
      "metadata": {
        "id": "g9a0ZMC6ynX9",
        "colab": {
          "base_uri": "https://localhost:8080/",
          "height": 220
        },
        "outputId": "7836a3d5-d4a5-43eb-b55e-d43bbdc46068"
      },
      "source": [
        "# See processed features\n",
        "pd.DataFrame(X[:10,:]).head()"
      ],
      "execution_count": 7,
      "outputs": [
        {
          "output_type": "execute_result",
          "data": {
            "text/html": [
              "<div>\n",
              "<style scoped>\n",
              "    .dataframe tbody tr th:only-of-type {\n",
              "        vertical-align: middle;\n",
              "    }\n",
              "\n",
              "    .dataframe tbody tr th {\n",
              "        vertical-align: top;\n",
              "    }\n",
              "\n",
              "    .dataframe thead th {\n",
              "        text-align: right;\n",
              "    }\n",
              "</style>\n",
              "<table border=\"1\" class=\"dataframe\">\n",
              "  <thead>\n",
              "    <tr style=\"text-align: right;\">\n",
              "      <th></th>\n",
              "      <th>0</th>\n",
              "      <th>1</th>\n",
              "      <th>2</th>\n",
              "      <th>3</th>\n",
              "      <th>4</th>\n",
              "      <th>5</th>\n",
              "      <th>6</th>\n",
              "      <th>7</th>\n",
              "      <th>8</th>\n",
              "      <th>9</th>\n",
              "      <th>10</th>\n",
              "      <th>11</th>\n",
              "      <th>12</th>\n",
              "      <th>13</th>\n",
              "      <th>14</th>\n",
              "      <th>15</th>\n",
              "      <th>16</th>\n",
              "      <th>17</th>\n",
              "      <th>18</th>\n",
              "      <th>19</th>\n",
              "      <th>20</th>\n",
              "      <th>21</th>\n",
              "      <th>22</th>\n",
              "      <th>23</th>\n",
              "      <th>24</th>\n",
              "      <th>25</th>\n",
              "      <th>26</th>\n",
              "      <th>27</th>\n",
              "      <th>28</th>\n",
              "      <th>29</th>\n",
              "      <th>30</th>\n",
              "      <th>31</th>\n",
              "      <th>32</th>\n",
              "      <th>33</th>\n",
              "      <th>34</th>\n",
              "      <th>35</th>\n",
              "      <th>36</th>\n",
              "      <th>37</th>\n",
              "      <th>38</th>\n",
              "      <th>39</th>\n",
              "      <th>40</th>\n",
              "      <th>41</th>\n",
              "      <th>42</th>\n",
              "      <th>43</th>\n",
              "      <th>44</th>\n",
              "      <th>45</th>\n",
              "      <th>46</th>\n",
              "      <th>47</th>\n",
              "      <th>48</th>\n",
              "      <th>49</th>\n",
              "    </tr>\n",
              "  </thead>\n",
              "  <tbody>\n",
              "    <tr>\n",
              "      <th>0</th>\n",
              "      <td>0.913643</td>\n",
              "      <td>1.068005</td>\n",
              "      <td>0.524148</td>\n",
              "      <td>0.685653</td>\n",
              "      <td>-0.226455</td>\n",
              "      <td>0.391659</td>\n",
              "      <td>0.43492</td>\n",
              "      <td>0.463841</td>\n",
              "      <td>-0.447941</td>\n",
              "      <td>0.0</td>\n",
              "      <td>0.0</td>\n",
              "      <td>0.0</td>\n",
              "      <td>0.0</td>\n",
              "      <td>1.0</td>\n",
              "      <td>0.0</td>\n",
              "      <td>0.0</td>\n",
              "      <td>0.0</td>\n",
              "      <td>0.0</td>\n",
              "      <td>0.0</td>\n",
              "      <td>0.0</td>\n",
              "      <td>0.0</td>\n",
              "      <td>0.0</td>\n",
              "      <td>0.0</td>\n",
              "      <td>0.0</td>\n",
              "      <td>0.0</td>\n",
              "      <td>1.0</td>\n",
              "      <td>0.0</td>\n",
              "      <td>0.0</td>\n",
              "      <td>0.0</td>\n",
              "      <td>0.0</td>\n",
              "      <td>0.0</td>\n",
              "      <td>0.0</td>\n",
              "      <td>1.0</td>\n",
              "      <td>1.0</td>\n",
              "      <td>0.0</td>\n",
              "      <td>0.0</td>\n",
              "      <td>0.0</td>\n",
              "      <td>0.0</td>\n",
              "      <td>0.0</td>\n",
              "      <td>0.0</td>\n",
              "      <td>0.0</td>\n",
              "      <td>0.0</td>\n",
              "      <td>0.0</td>\n",
              "      <td>0.0</td>\n",
              "      <td>0.0</td>\n",
              "      <td>0.0</td>\n",
              "      <td>0.0</td>\n",
              "      <td>0.0</td>\n",
              "      <td>0.0</td>\n",
              "      <td>0.0</td>\n",
              "    </tr>\n",
              "    <tr>\n",
              "      <th>1</th>\n",
              "      <td>0.913643</td>\n",
              "      <td>1.068005</td>\n",
              "      <td>0.524148</td>\n",
              "      <td>0.685653</td>\n",
              "      <td>-0.226455</td>\n",
              "      <td>0.391659</td>\n",
              "      <td>0.43492</td>\n",
              "      <td>0.463841</td>\n",
              "      <td>-0.447941</td>\n",
              "      <td>0.0</td>\n",
              "      <td>0.0</td>\n",
              "      <td>0.0</td>\n",
              "      <td>0.0</td>\n",
              "      <td>0.0</td>\n",
              "      <td>0.0</td>\n",
              "      <td>0.0</td>\n",
              "      <td>0.0</td>\n",
              "      <td>0.0</td>\n",
              "      <td>1.0</td>\n",
              "      <td>0.0</td>\n",
              "      <td>0.0</td>\n",
              "      <td>0.0</td>\n",
              "      <td>0.0</td>\n",
              "      <td>0.0</td>\n",
              "      <td>0.0</td>\n",
              "      <td>1.0</td>\n",
              "      <td>0.0</td>\n",
              "      <td>0.0</td>\n",
              "      <td>0.0</td>\n",
              "      <td>0.0</td>\n",
              "      <td>0.0</td>\n",
              "      <td>0.0</td>\n",
              "      <td>1.0</td>\n",
              "      <td>1.0</td>\n",
              "      <td>0.0</td>\n",
              "      <td>0.0</td>\n",
              "      <td>0.0</td>\n",
              "      <td>0.0</td>\n",
              "      <td>0.0</td>\n",
              "      <td>0.0</td>\n",
              "      <td>0.0</td>\n",
              "      <td>0.0</td>\n",
              "      <td>0.0</td>\n",
              "      <td>0.0</td>\n",
              "      <td>0.0</td>\n",
              "      <td>0.0</td>\n",
              "      <td>0.0</td>\n",
              "      <td>0.0</td>\n",
              "      <td>0.0</td>\n",
              "      <td>0.0</td>\n",
              "    </tr>\n",
              "    <tr>\n",
              "      <th>2</th>\n",
              "      <td>0.530594</td>\n",
              "      <td>1.068005</td>\n",
              "      <td>0.524148</td>\n",
              "      <td>0.685653</td>\n",
              "      <td>-0.226455</td>\n",
              "      <td>0.391659</td>\n",
              "      <td>0.43492</td>\n",
              "      <td>0.463841</td>\n",
              "      <td>-0.447941</td>\n",
              "      <td>0.0</td>\n",
              "      <td>0.0</td>\n",
              "      <td>0.0</td>\n",
              "      <td>0.0</td>\n",
              "      <td>0.0</td>\n",
              "      <td>0.0</td>\n",
              "      <td>0.0</td>\n",
              "      <td>0.0</td>\n",
              "      <td>0.0</td>\n",
              "      <td>1.0</td>\n",
              "      <td>0.0</td>\n",
              "      <td>0.0</td>\n",
              "      <td>0.0</td>\n",
              "      <td>0.0</td>\n",
              "      <td>0.0</td>\n",
              "      <td>0.0</td>\n",
              "      <td>1.0</td>\n",
              "      <td>0.0</td>\n",
              "      <td>0.0</td>\n",
              "      <td>1.0</td>\n",
              "      <td>0.0</td>\n",
              "      <td>0.0</td>\n",
              "      <td>0.0</td>\n",
              "      <td>0.0</td>\n",
              "      <td>1.0</td>\n",
              "      <td>0.0</td>\n",
              "      <td>0.0</td>\n",
              "      <td>0.0</td>\n",
              "      <td>0.0</td>\n",
              "      <td>0.0</td>\n",
              "      <td>0.0</td>\n",
              "      <td>0.0</td>\n",
              "      <td>0.0</td>\n",
              "      <td>0.0</td>\n",
              "      <td>0.0</td>\n",
              "      <td>0.0</td>\n",
              "      <td>0.0</td>\n",
              "      <td>0.0</td>\n",
              "      <td>0.0</td>\n",
              "      <td>0.0</td>\n",
              "      <td>0.0</td>\n",
              "    </tr>\n",
              "    <tr>\n",
              "      <th>3</th>\n",
              "      <td>0.530594</td>\n",
              "      <td>1.068005</td>\n",
              "      <td>0.524148</td>\n",
              "      <td>0.685653</td>\n",
              "      <td>-0.226455</td>\n",
              "      <td>0.391659</td>\n",
              "      <td>0.43492</td>\n",
              "      <td>0.463841</td>\n",
              "      <td>-0.447941</td>\n",
              "      <td>0.0</td>\n",
              "      <td>0.0</td>\n",
              "      <td>0.0</td>\n",
              "      <td>0.0</td>\n",
              "      <td>1.0</td>\n",
              "      <td>0.0</td>\n",
              "      <td>0.0</td>\n",
              "      <td>0.0</td>\n",
              "      <td>0.0</td>\n",
              "      <td>0.0</td>\n",
              "      <td>0.0</td>\n",
              "      <td>0.0</td>\n",
              "      <td>0.0</td>\n",
              "      <td>0.0</td>\n",
              "      <td>0.0</td>\n",
              "      <td>0.0</td>\n",
              "      <td>1.0</td>\n",
              "      <td>0.0</td>\n",
              "      <td>0.0</td>\n",
              "      <td>1.0</td>\n",
              "      <td>0.0</td>\n",
              "      <td>0.0</td>\n",
              "      <td>0.0</td>\n",
              "      <td>0.0</td>\n",
              "      <td>1.0</td>\n",
              "      <td>0.0</td>\n",
              "      <td>0.0</td>\n",
              "      <td>0.0</td>\n",
              "      <td>0.0</td>\n",
              "      <td>0.0</td>\n",
              "      <td>0.0</td>\n",
              "      <td>0.0</td>\n",
              "      <td>0.0</td>\n",
              "      <td>0.0</td>\n",
              "      <td>0.0</td>\n",
              "      <td>0.0</td>\n",
              "      <td>0.0</td>\n",
              "      <td>0.0</td>\n",
              "      <td>0.0</td>\n",
              "      <td>0.0</td>\n",
              "      <td>0.0</td>\n",
              "    </tr>\n",
              "    <tr>\n",
              "      <th>4</th>\n",
              "      <td>1.296693</td>\n",
              "      <td>2.120794</td>\n",
              "      <td>0.524148</td>\n",
              "      <td>-1.458464</td>\n",
              "      <td>-0.226455</td>\n",
              "      <td>0.391659</td>\n",
              "      <td>0.43492</td>\n",
              "      <td>0.463841</td>\n",
              "      <td>-0.447941</td>\n",
              "      <td>0.0</td>\n",
              "      <td>0.0</td>\n",
              "      <td>0.0</td>\n",
              "      <td>0.0</td>\n",
              "      <td>1.0</td>\n",
              "      <td>0.0</td>\n",
              "      <td>0.0</td>\n",
              "      <td>0.0</td>\n",
              "      <td>0.0</td>\n",
              "      <td>0.0</td>\n",
              "      <td>0.0</td>\n",
              "      <td>0.0</td>\n",
              "      <td>0.0</td>\n",
              "      <td>0.0</td>\n",
              "      <td>0.0</td>\n",
              "      <td>0.0</td>\n",
              "      <td>1.0</td>\n",
              "      <td>0.0</td>\n",
              "      <td>0.0</td>\n",
              "      <td>1.0</td>\n",
              "      <td>0.0</td>\n",
              "      <td>0.0</td>\n",
              "      <td>0.0</td>\n",
              "      <td>0.0</td>\n",
              "      <td>1.0</td>\n",
              "      <td>0.0</td>\n",
              "      <td>0.0</td>\n",
              "      <td>0.0</td>\n",
              "      <td>0.0</td>\n",
              "      <td>0.0</td>\n",
              "      <td>0.0</td>\n",
              "      <td>0.0</td>\n",
              "      <td>0.0</td>\n",
              "      <td>0.0</td>\n",
              "      <td>0.0</td>\n",
              "      <td>0.0</td>\n",
              "      <td>0.0</td>\n",
              "      <td>0.0</td>\n",
              "      <td>0.0</td>\n",
              "      <td>0.0</td>\n",
              "      <td>0.0</td>\n",
              "    </tr>\n",
              "  </tbody>\n",
              "</table>\n",
              "</div>"
            ],
            "text/plain": [
              "         0         1         2         3         4   ...   45   46   47   48   49\n",
              "0  0.913643  1.068005  0.524148  0.685653 -0.226455  ...  0.0  0.0  0.0  0.0  0.0\n",
              "1  0.913643  1.068005  0.524148  0.685653 -0.226455  ...  0.0  0.0  0.0  0.0  0.0\n",
              "2  0.530594  1.068005  0.524148  0.685653 -0.226455  ...  0.0  0.0  0.0  0.0  0.0\n",
              "3  0.530594  1.068005  0.524148  0.685653 -0.226455  ...  0.0  0.0  0.0  0.0  0.0\n",
              "4  1.296693  2.120794  0.524148 -1.458464 -0.226455  ...  0.0  0.0  0.0  0.0  0.0\n",
              "\n",
              "[5 rows x 50 columns]"
            ]
          },
          "metadata": {
            "tags": []
          },
          "execution_count": 7
        }
      ]
    },
    {
      "cell_type": "code",
      "metadata": {
        "id": "bWGym-NRt9BJ"
      },
      "source": [
        "# Define NN to use\n",
        "model = keras.Sequential([\n",
        "    layers.Dense(128, activation='relu', input_shape=input_shape),\n",
        "    layers.Dense(128, activation='relu'),    \n",
        "    layers.Dense(64, activation='relu'),\n",
        "    layers.Dense(1),\n",
        "])"
      ],
      "execution_count": 8,
      "outputs": []
    },
    {
      "cell_type": "code",
      "metadata": {
        "id": "0uZPoD2guGtL"
      },
      "source": [
        "# Define the loss (MAE) and optimizer (Adam) using the compile method\n",
        "model.compile(optimizer='adam', loss='mae')"
      ],
      "execution_count": 9,
      "outputs": []
    },
    {
      "cell_type": "code",
      "metadata": {
        "colab": {
          "base_uri": "https://localhost:8080/"
        },
        "id": "qOexEAj1uh6l",
        "outputId": "01286853-c395-419e-f272-46838585e0d9"
      },
      "source": [
        "# Once you've defined the model and compiled it with a loss and optimizer --> train model\n",
        "# Train the network for 200 epochs with a batch size of 128. The input data is X with target y.\n",
        "\n",
        "history = model.fit(\n",
        "    X, y,\n",
        "    batch_size=128,\n",
        "    epochs=200\n",
        ")"
      ],
      "execution_count": 10,
      "outputs": [
        {
          "output_type": "stream",
          "text": [
            "Epoch 1/200\n",
            "9/9 [==============================] - 1s 5ms/step - loss: 2.8096\n",
            "Epoch 2/200\n",
            "9/9 [==============================] - 0s 4ms/step - loss: 1.0130\n",
            "Epoch 3/200\n",
            "9/9 [==============================] - 0s 4ms/step - loss: 0.5384\n",
            "Epoch 4/200\n",
            "9/9 [==============================] - 0s 3ms/step - loss: 0.3335\n",
            "Epoch 5/200\n",
            "9/9 [==============================] - 0s 3ms/step - loss: 0.2232\n",
            "Epoch 6/200\n",
            "9/9 [==============================] - 0s 3ms/step - loss: 0.1791\n",
            "Epoch 7/200\n",
            "9/9 [==============================] - 0s 3ms/step - loss: 0.1412\n",
            "Epoch 8/200\n",
            "9/9 [==============================] - 0s 4ms/step - loss: 0.1219\n",
            "Epoch 9/200\n",
            "9/9 [==============================] - 0s 3ms/step - loss: 0.1032\n",
            "Epoch 10/200\n",
            "9/9 [==============================] - 0s 4ms/step - loss: 0.0950\n",
            "Epoch 11/200\n",
            "9/9 [==============================] - 0s 3ms/step - loss: 0.0845\n",
            "Epoch 12/200\n",
            "9/9 [==============================] - 0s 3ms/step - loss: 0.0825\n",
            "Epoch 13/200\n",
            "9/9 [==============================] - 0s 4ms/step - loss: 0.0783\n",
            "Epoch 14/200\n",
            "9/9 [==============================] - 0s 4ms/step - loss: 0.0681\n",
            "Epoch 15/200\n",
            "9/9 [==============================] - 0s 3ms/step - loss: 0.0616\n",
            "Epoch 16/200\n",
            "9/9 [==============================] - 0s 3ms/step - loss: 0.0581\n",
            "Epoch 17/200\n",
            "9/9 [==============================] - 0s 4ms/step - loss: 0.0615\n",
            "Epoch 18/200\n",
            "9/9 [==============================] - 0s 3ms/step - loss: 0.0605\n",
            "Epoch 19/200\n",
            "9/9 [==============================] - 0s 4ms/step - loss: 0.0572\n",
            "Epoch 20/200\n",
            "9/9 [==============================] - 0s 4ms/step - loss: 0.0592\n",
            "Epoch 21/200\n",
            "9/9 [==============================] - 0s 4ms/step - loss: 0.0571\n",
            "Epoch 22/200\n",
            "9/9 [==============================] - 0s 3ms/step - loss: 0.0565\n",
            "Epoch 23/200\n",
            "9/9 [==============================] - 0s 5ms/step - loss: 0.0591\n",
            "Epoch 24/200\n",
            "9/9 [==============================] - 0s 3ms/step - loss: 0.0522\n",
            "Epoch 25/200\n",
            "9/9 [==============================] - 0s 3ms/step - loss: 0.0496\n",
            "Epoch 26/200\n",
            "9/9 [==============================] - 0s 4ms/step - loss: 0.0461\n",
            "Epoch 27/200\n",
            "9/9 [==============================] - 0s 3ms/step - loss: 0.0448\n",
            "Epoch 28/200\n",
            "9/9 [==============================] - 0s 3ms/step - loss: 0.0439\n",
            "Epoch 29/200\n",
            "9/9 [==============================] - 0s 4ms/step - loss: 0.0440\n",
            "Epoch 30/200\n",
            "9/9 [==============================] - 0s 3ms/step - loss: 0.0436\n",
            "Epoch 31/200\n",
            "9/9 [==============================] - 0s 3ms/step - loss: 0.0410\n",
            "Epoch 32/200\n",
            "9/9 [==============================] - 0s 4ms/step - loss: 0.0446\n",
            "Epoch 33/200\n",
            "9/9 [==============================] - 0s 3ms/step - loss: 0.0446\n",
            "Epoch 34/200\n",
            "9/9 [==============================] - 0s 3ms/step - loss: 0.0398\n",
            "Epoch 35/200\n",
            "9/9 [==============================] - 0s 3ms/step - loss: 0.0424\n",
            "Epoch 36/200\n",
            "9/9 [==============================] - 0s 3ms/step - loss: 0.0451\n",
            "Epoch 37/200\n",
            "9/9 [==============================] - 0s 3ms/step - loss: 0.0441\n",
            "Epoch 38/200\n",
            "9/9 [==============================] - 0s 3ms/step - loss: 0.0412\n",
            "Epoch 39/200\n",
            "9/9 [==============================] - 0s 3ms/step - loss: 0.0498\n",
            "Epoch 40/200\n",
            "9/9 [==============================] - 0s 3ms/step - loss: 0.0488\n",
            "Epoch 41/200\n",
            "9/9 [==============================] - 0s 4ms/step - loss: 0.0444\n",
            "Epoch 42/200\n",
            "9/9 [==============================] - 0s 4ms/step - loss: 0.0435\n",
            "Epoch 43/200\n",
            "9/9 [==============================] - 0s 5ms/step - loss: 0.0397\n",
            "Epoch 44/200\n",
            "9/9 [==============================] - 0s 3ms/step - loss: 0.0406\n",
            "Epoch 45/200\n",
            "9/9 [==============================] - 0s 4ms/step - loss: 0.0412\n",
            "Epoch 46/200\n",
            "9/9 [==============================] - 0s 4ms/step - loss: 0.0347\n",
            "Epoch 47/200\n",
            "9/9 [==============================] - 0s 4ms/step - loss: 0.0354\n",
            "Epoch 48/200\n",
            "9/9 [==============================] - 0s 3ms/step - loss: 0.0350\n",
            "Epoch 49/200\n",
            "9/9 [==============================] - 0s 4ms/step - loss: 0.0373\n",
            "Epoch 50/200\n",
            "9/9 [==============================] - 0s 3ms/step - loss: 0.0375\n",
            "Epoch 51/200\n",
            "9/9 [==============================] - 0s 3ms/step - loss: 0.0433\n",
            "Epoch 52/200\n",
            "9/9 [==============================] - 0s 3ms/step - loss: 0.0412\n",
            "Epoch 53/200\n",
            "9/9 [==============================] - 0s 3ms/step - loss: 0.0504\n",
            "Epoch 54/200\n",
            "9/9 [==============================] - 0s 3ms/step - loss: 0.0420\n",
            "Epoch 55/200\n",
            "9/9 [==============================] - 0s 3ms/step - loss: 0.0362\n",
            "Epoch 56/200\n",
            "9/9 [==============================] - 0s 3ms/step - loss: 0.0349\n",
            "Epoch 57/200\n",
            "9/9 [==============================] - 0s 3ms/step - loss: 0.0366\n",
            "Epoch 58/200\n",
            "9/9 [==============================] - 0s 3ms/step - loss: 0.0335\n",
            "Epoch 59/200\n",
            "9/9 [==============================] - 0s 3ms/step - loss: 0.0367\n",
            "Epoch 60/200\n",
            "9/9 [==============================] - 0s 3ms/step - loss: 0.0382\n",
            "Epoch 61/200\n",
            "9/9 [==============================] - 0s 3ms/step - loss: 0.0426\n",
            "Epoch 62/200\n",
            "9/9 [==============================] - 0s 3ms/step - loss: 0.0365\n",
            "Epoch 63/200\n",
            "9/9 [==============================] - 0s 3ms/step - loss: 0.0383\n",
            "Epoch 64/200\n",
            "9/9 [==============================] - 0s 3ms/step - loss: 0.0432\n",
            "Epoch 65/200\n",
            "9/9 [==============================] - 0s 3ms/step - loss: 0.0409\n",
            "Epoch 66/200\n",
            "9/9 [==============================] - 0s 4ms/step - loss: 0.0367\n",
            "Epoch 67/200\n",
            "9/9 [==============================] - 0s 3ms/step - loss: 0.0385\n",
            "Epoch 68/200\n",
            "9/9 [==============================] - 0s 3ms/step - loss: 0.0387\n",
            "Epoch 69/200\n",
            "9/9 [==============================] - 0s 4ms/step - loss: 0.0359\n",
            "Epoch 70/200\n",
            "9/9 [==============================] - 0s 4ms/step - loss: 0.0394\n",
            "Epoch 71/200\n",
            "9/9 [==============================] - 0s 3ms/step - loss: 0.0430\n",
            "Epoch 72/200\n",
            "9/9 [==============================] - 0s 4ms/step - loss: 0.0410\n",
            "Epoch 73/200\n",
            "9/9 [==============================] - 0s 3ms/step - loss: 0.0433\n",
            "Epoch 74/200\n",
            "9/9 [==============================] - 0s 3ms/step - loss: 0.0411\n",
            "Epoch 75/200\n",
            "9/9 [==============================] - 0s 4ms/step - loss: 0.0373\n",
            "Epoch 76/200\n",
            "9/9 [==============================] - 0s 3ms/step - loss: 0.0337\n",
            "Epoch 77/200\n",
            "9/9 [==============================] - 0s 3ms/step - loss: 0.0332\n",
            "Epoch 78/200\n",
            "9/9 [==============================] - 0s 3ms/step - loss: 0.0371\n",
            "Epoch 79/200\n",
            "9/9 [==============================] - 0s 3ms/step - loss: 0.0422\n",
            "Epoch 80/200\n",
            "9/9 [==============================] - 0s 4ms/step - loss: 0.0438\n",
            "Epoch 81/200\n",
            "9/9 [==============================] - 0s 4ms/step - loss: 0.0434\n",
            "Epoch 82/200\n",
            "9/9 [==============================] - 0s 3ms/step - loss: 0.0353\n",
            "Epoch 83/200\n",
            "9/9 [==============================] - 0s 4ms/step - loss: 0.0327\n",
            "Epoch 84/200\n",
            "9/9 [==============================] - 0s 3ms/step - loss: 0.0308\n",
            "Epoch 85/200\n",
            "9/9 [==============================] - 0s 3ms/step - loss: 0.0303\n",
            "Epoch 86/200\n",
            "9/9 [==============================] - 0s 3ms/step - loss: 0.0313\n",
            "Epoch 87/200\n",
            "9/9 [==============================] - 0s 4ms/step - loss: 0.0336\n",
            "Epoch 88/200\n",
            "9/9 [==============================] - 0s 3ms/step - loss: 0.0323\n",
            "Epoch 89/200\n",
            "9/9 [==============================] - 0s 3ms/step - loss: 0.0346\n",
            "Epoch 90/200\n",
            "9/9 [==============================] - 0s 3ms/step - loss: 0.0383\n",
            "Epoch 91/200\n",
            "9/9 [==============================] - 0s 3ms/step - loss: 0.0419\n",
            "Epoch 92/200\n",
            "9/9 [==============================] - 0s 3ms/step - loss: 0.0559\n",
            "Epoch 93/200\n",
            "9/9 [==============================] - 0s 4ms/step - loss: 0.0425\n",
            "Epoch 94/200\n",
            "9/9 [==============================] - 0s 3ms/step - loss: 0.0360\n",
            "Epoch 95/200\n",
            "9/9 [==============================] - 0s 3ms/step - loss: 0.0334\n",
            "Epoch 96/200\n",
            "9/9 [==============================] - 0s 3ms/step - loss: 0.0298\n",
            "Epoch 97/200\n",
            "9/9 [==============================] - 0s 5ms/step - loss: 0.0322\n",
            "Epoch 98/200\n",
            "9/9 [==============================] - 0s 3ms/step - loss: 0.0306\n",
            "Epoch 99/200\n",
            "9/9 [==============================] - 0s 3ms/step - loss: 0.0288\n",
            "Epoch 100/200\n",
            "9/9 [==============================] - 0s 3ms/step - loss: 0.0341\n",
            "Epoch 101/200\n",
            "9/9 [==============================] - 0s 3ms/step - loss: 0.0323\n",
            "Epoch 102/200\n",
            "9/9 [==============================] - 0s 3ms/step - loss: 0.0316\n",
            "Epoch 103/200\n",
            "9/9 [==============================] - 0s 4ms/step - loss: 0.0282\n",
            "Epoch 104/200\n",
            "9/9 [==============================] - 0s 3ms/step - loss: 0.0300\n",
            "Epoch 105/200\n",
            "9/9 [==============================] - 0s 4ms/step - loss: 0.0298\n",
            "Epoch 106/200\n",
            "9/9 [==============================] - 0s 3ms/step - loss: 0.0322\n",
            "Epoch 107/200\n",
            "9/9 [==============================] - 0s 3ms/step - loss: 0.0302\n",
            "Epoch 108/200\n",
            "9/9 [==============================] - 0s 4ms/step - loss: 0.0298\n",
            "Epoch 109/200\n",
            "9/9 [==============================] - 0s 4ms/step - loss: 0.0284\n",
            "Epoch 110/200\n",
            "9/9 [==============================] - 0s 4ms/step - loss: 0.0322\n",
            "Epoch 111/200\n",
            "9/9 [==============================] - 0s 4ms/step - loss: 0.0280\n",
            "Epoch 112/200\n",
            "9/9 [==============================] - 0s 3ms/step - loss: 0.0325\n",
            "Epoch 113/200\n",
            "9/9 [==============================] - 0s 4ms/step - loss: 0.0343\n",
            "Epoch 114/200\n",
            "9/9 [==============================] - 0s 4ms/step - loss: 0.0374\n",
            "Epoch 115/200\n",
            "9/9 [==============================] - 0s 3ms/step - loss: 0.0341\n",
            "Epoch 116/200\n",
            "9/9 [==============================] - 0s 3ms/step - loss: 0.0306\n",
            "Epoch 117/200\n",
            "9/9 [==============================] - 0s 3ms/step - loss: 0.0316\n",
            "Epoch 118/200\n",
            "9/9 [==============================] - 0s 3ms/step - loss: 0.0316\n",
            "Epoch 119/200\n",
            "9/9 [==============================] - 0s 3ms/step - loss: 0.0295\n",
            "Epoch 120/200\n",
            "9/9 [==============================] - 0s 3ms/step - loss: 0.0358\n",
            "Epoch 121/200\n",
            "9/9 [==============================] - 0s 4ms/step - loss: 0.0323\n",
            "Epoch 122/200\n",
            "9/9 [==============================] - 0s 4ms/step - loss: 0.0337\n",
            "Epoch 123/200\n",
            "9/9 [==============================] - 0s 3ms/step - loss: 0.0314\n",
            "Epoch 124/200\n",
            "9/9 [==============================] - 0s 4ms/step - loss: 0.0295\n",
            "Epoch 125/200\n",
            "9/9 [==============================] - 0s 3ms/step - loss: 0.0297\n",
            "Epoch 126/200\n",
            "9/9 [==============================] - 0s 4ms/step - loss: 0.0291\n",
            "Epoch 127/200\n",
            "9/9 [==============================] - 0s 3ms/step - loss: 0.0291\n",
            "Epoch 128/200\n",
            "9/9 [==============================] - 0s 4ms/step - loss: 0.0294\n",
            "Epoch 129/200\n",
            "9/9 [==============================] - 0s 4ms/step - loss: 0.0285\n",
            "Epoch 130/200\n",
            "9/9 [==============================] - 0s 3ms/step - loss: 0.0335\n",
            "Epoch 131/200\n",
            "9/9 [==============================] - 0s 3ms/step - loss: 0.0302\n",
            "Epoch 132/200\n",
            "9/9 [==============================] - 0s 3ms/step - loss: 0.0280\n",
            "Epoch 133/200\n",
            "9/9 [==============================] - 0s 3ms/step - loss: 0.0298\n",
            "Epoch 134/200\n",
            "9/9 [==============================] - 0s 3ms/step - loss: 0.0344\n",
            "Epoch 135/200\n",
            "9/9 [==============================] - 0s 3ms/step - loss: 0.0359\n",
            "Epoch 136/200\n",
            "9/9 [==============================] - 0s 3ms/step - loss: 0.0297\n",
            "Epoch 137/200\n",
            "9/9 [==============================] - 0s 3ms/step - loss: 0.0340\n",
            "Epoch 138/200\n",
            "9/9 [==============================] - 0s 4ms/step - loss: 0.0314\n",
            "Epoch 139/200\n",
            "9/9 [==============================] - 0s 3ms/step - loss: 0.0286\n",
            "Epoch 140/200\n",
            "9/9 [==============================] - 0s 3ms/step - loss: 0.0300\n",
            "Epoch 141/200\n",
            "9/9 [==============================] - 0s 3ms/step - loss: 0.0311\n",
            "Epoch 142/200\n",
            "9/9 [==============================] - 0s 3ms/step - loss: 0.0355\n",
            "Epoch 143/200\n",
            "9/9 [==============================] - 0s 3ms/step - loss: 0.0278\n",
            "Epoch 144/200\n",
            "9/9 [==============================] - 0s 4ms/step - loss: 0.0274\n",
            "Epoch 145/200\n",
            "9/9 [==============================] - 0s 5ms/step - loss: 0.0266\n",
            "Epoch 146/200\n",
            "9/9 [==============================] - 0s 3ms/step - loss: 0.0331\n",
            "Epoch 147/200\n",
            "9/9 [==============================] - 0s 5ms/step - loss: 0.0347\n",
            "Epoch 148/200\n",
            "9/9 [==============================] - 0s 3ms/step - loss: 0.0345\n",
            "Epoch 149/200\n",
            "9/9 [==============================] - 0s 3ms/step - loss: 0.0295\n",
            "Epoch 150/200\n",
            "9/9 [==============================] - 0s 3ms/step - loss: 0.0405\n",
            "Epoch 151/200\n",
            "9/9 [==============================] - 0s 3ms/step - loss: 0.0482\n",
            "Epoch 152/200\n",
            "9/9 [==============================] - 0s 3ms/step - loss: 0.0390\n",
            "Epoch 153/200\n",
            "9/9 [==============================] - 0s 4ms/step - loss: 0.0322\n",
            "Epoch 154/200\n",
            "9/9 [==============================] - 0s 4ms/step - loss: 0.0305\n",
            "Epoch 155/200\n",
            "9/9 [==============================] - 0s 4ms/step - loss: 0.0296\n",
            "Epoch 156/200\n",
            "9/9 [==============================] - 0s 3ms/step - loss: 0.0281\n",
            "Epoch 157/200\n",
            "9/9 [==============================] - 0s 3ms/step - loss: 0.0287\n",
            "Epoch 158/200\n",
            "9/9 [==============================] - 0s 3ms/step - loss: 0.0309\n",
            "Epoch 159/200\n",
            "9/9 [==============================] - 0s 3ms/step - loss: 0.0285\n",
            "Epoch 160/200\n",
            "9/9 [==============================] - 0s 3ms/step - loss: 0.0306\n",
            "Epoch 161/200\n",
            "9/9 [==============================] - 0s 4ms/step - loss: 0.0282\n",
            "Epoch 162/200\n",
            "9/9 [==============================] - 0s 4ms/step - loss: 0.0300\n",
            "Epoch 163/200\n",
            "9/9 [==============================] - 0s 4ms/step - loss: 0.0292\n",
            "Epoch 164/200\n",
            "9/9 [==============================] - 0s 3ms/step - loss: 0.0295\n",
            "Epoch 165/200\n",
            "9/9 [==============================] - 0s 3ms/step - loss: 0.0259\n",
            "Epoch 166/200\n",
            "9/9 [==============================] - 0s 3ms/step - loss: 0.0292\n",
            "Epoch 167/200\n",
            "9/9 [==============================] - 0s 4ms/step - loss: 0.0282\n",
            "Epoch 168/200\n",
            "9/9 [==============================] - 0s 4ms/step - loss: 0.0307\n",
            "Epoch 169/200\n",
            "9/9 [==============================] - 0s 4ms/step - loss: 0.0374\n",
            "Epoch 170/200\n",
            "9/9 [==============================] - 0s 3ms/step - loss: 0.0345\n",
            "Epoch 171/200\n",
            "9/9 [==============================] - 0s 3ms/step - loss: 0.0303\n",
            "Epoch 172/200\n",
            "9/9 [==============================] - 0s 4ms/step - loss: 0.0350\n",
            "Epoch 173/200\n",
            "9/9 [==============================] - 0s 4ms/step - loss: 0.0390\n",
            "Epoch 174/200\n",
            "9/9 [==============================] - 0s 4ms/step - loss: 0.0493\n",
            "Epoch 175/200\n",
            "9/9 [==============================] - 0s 4ms/step - loss: 0.0337\n",
            "Epoch 176/200\n",
            "9/9 [==============================] - 0s 3ms/step - loss: 0.0324\n",
            "Epoch 177/200\n",
            "9/9 [==============================] - 0s 4ms/step - loss: 0.0311\n",
            "Epoch 178/200\n",
            "9/9 [==============================] - 0s 3ms/step - loss: 0.0282\n",
            "Epoch 179/200\n",
            "9/9 [==============================] - 0s 4ms/step - loss: 0.0289\n",
            "Epoch 180/200\n",
            "9/9 [==============================] - 0s 5ms/step - loss: 0.0262\n",
            "Epoch 181/200\n",
            "9/9 [==============================] - 0s 4ms/step - loss: 0.0327\n",
            "Epoch 182/200\n",
            "9/9 [==============================] - 0s 3ms/step - loss: 0.0329\n",
            "Epoch 183/200\n",
            "9/9 [==============================] - 0s 4ms/step - loss: 0.0306\n",
            "Epoch 184/200\n",
            "9/9 [==============================] - 0s 5ms/step - loss: 0.0269\n",
            "Epoch 185/200\n",
            "9/9 [==============================] - 0s 5ms/step - loss: 0.0285\n",
            "Epoch 186/200\n",
            "9/9 [==============================] - 0s 4ms/step - loss: 0.0302\n",
            "Epoch 187/200\n",
            "9/9 [==============================] - 0s 4ms/step - loss: 0.0339\n",
            "Epoch 188/200\n",
            "9/9 [==============================] - 0s 3ms/step - loss: 0.0377\n",
            "Epoch 189/200\n",
            "9/9 [==============================] - 0s 3ms/step - loss: 0.0307\n",
            "Epoch 190/200\n",
            "9/9 [==============================] - 0s 3ms/step - loss: 0.0312\n",
            "Epoch 191/200\n",
            "9/9 [==============================] - 0s 4ms/step - loss: 0.0283\n",
            "Epoch 192/200\n",
            "9/9 [==============================] - 0s 4ms/step - loss: 0.0306\n",
            "Epoch 193/200\n",
            "9/9 [==============================] - 0s 3ms/step - loss: 0.0274\n",
            "Epoch 194/200\n",
            "9/9 [==============================] - 0s 4ms/step - loss: 0.0344\n",
            "Epoch 195/200\n",
            "9/9 [==============================] - 0s 3ms/step - loss: 0.0386\n",
            "Epoch 196/200\n",
            "9/9 [==============================] - 0s 4ms/step - loss: 0.0269\n",
            "Epoch 197/200\n",
            "9/9 [==============================] - 0s 5ms/step - loss: 0.0262\n",
            "Epoch 198/200\n",
            "9/9 [==============================] - 0s 5ms/step - loss: 0.0293\n",
            "Epoch 199/200\n",
            "9/9 [==============================] - 0s 4ms/step - loss: 0.0278\n",
            "Epoch 200/200\n",
            "9/9 [==============================] - 0s 4ms/step - loss: 0.0310\n"
          ],
          "name": "stdout"
        }
      ]
    },
    {
      "cell_type": "code",
      "metadata": {
        "colab": {
          "base_uri": "https://localhost:8080/",
          "height": 297
        },
        "id": "uE227ESnwNQ2",
        "outputId": "686af72f-bccc-4ecc-d840-6b2ae2b232b7"
      },
      "source": [
        "# Look at the loss curves and evaluate the training\n",
        "history_df = pd.DataFrame(history.history)\n",
        "# Start the plot at epoch 5. You can change this to get a different view.\n",
        "history_df.loc[5:, ['loss']].plot(title='Learning Curve of Training Data', xlabel='Epochs', ylabel='Loss');"
      ],
      "execution_count": 15,
      "outputs": [
        {
          "output_type": "display_data",
          "data": {
            "image/png": "[encoded data removed]",
            "text/plain": [
              "<Figure size 432x288 with 1 Axes>"
            ]
          },
          "metadata": {
            "tags": [],
            "needs_background": "light"
          }
        }
      ]
    },
    {
      "cell_type": "markdown",
      "metadata": {
        "id": "ltlNjWnM0B0R"
      },
      "source": [
        "The loss seems to have plateaued, so there would be no advantage of further training with additional epochs. Conversely, if the loss appeared to still be decreasing, then training for longer could be advantageous.\n",
        "\n",
        "***\n",
        "\n",
        "With the learning rate and the batch size, you have some control over:\n",
        "- How long it takes to train a model\n",
        "- How noisy the learning curves are\n",
        "- How small the loss becomes\n",
        "\n",
        "**Smaller batch sizes** = **noisier** weight updates and loss curves. \n",
        "\n",
        "(Smaller samples tend to give noisier estimates but can have an \"averaging\" effect which can be beneficial.)\n",
        "\n",
        "**Smaller learning rates** = **smaller** weight updates/loss curves and training takes longer to converge. \n",
        "\n",
        "(Large learning rates can speed up training, but don't \"settle in\" to a minimum as well. When the learning rate is too large, the training can fail completely)"
      ]
    },
    {
      "cell_type": "markdown",
      "metadata": {
        "id": "Mr6H2b602k01"
      },
      "source": [
        "## **Overfitting and Underfitting**\n",
        "\n",
        "We need to see learning curves from both training and validation data to accurately asssess model performance and choose best parameters.\n",
        "\n",
        "![tHiVFnM.png](data:image/png;base64,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)\n",
        "\n",
        "The training curve will continue decreasing regardless of the model learning signal or noise whereas the validation curve will only decrease when it learns signal. You have to find an optimal tradeoff that will give best results on unseen data.\n",
        "\n",
        "### <u>Terminology</u>:\n",
        "- **Underfitting** = training set is when the loss is not as low as it could be because the model hasn't learned enough signal\n",
        "- **Overfitting** = training set is when the loss is not as low as it could be because the model learned too much noise\n",
        "- **Capacity** = size and complexity of patterns a model is able to learn\n",
        " - *increase capacity* when model is *underfitting*\n",
        " - 2 ways to increase capacity = make wider and/or deeper\n",
        " - **wider** = more units to existing layers (easier to learn more linear patterns)\n",
        " - **deeper** = add more layers (easier to learn more nonlinear patterns)\n"
      ]
    },
    {
      "cell_type": "code",
      "metadata": {
        "id": "L3nm5EOo1HuB"
      },
      "source": [
        "# Baseline model\n",
        "model = keras.Sequential([\n",
        "    layers.Dense(16, activation='relu'),\n",
        "    layers.Dense(1),\n",
        "])\n",
        "\n",
        "# Wider model (more units)\n",
        "wider = keras.Sequential([\n",
        "    layers.Dense(32, activation='relu'),\n",
        "    layers.Dense(1),\n",
        "])\n",
        "\n",
        "# Deeper (more layers)\n",
        "deeper = keras.Sequential([\n",
        "    layers.Dense(16, activation='relu'),\n",
        "    layers.Dense(16, activation='relu'),\n",
        "    layers.Dense(1),\n",
        "])"
      ],
      "execution_count": 16,
      "outputs": []
    },
    {
      "cell_type": "code",
      "metadata": {
        "id": "mFJnX7LxJ0ae"
      },
      "source": [
        ""
      ],
      "execution_count": null,
      "outputs": []
    }
  ]
}