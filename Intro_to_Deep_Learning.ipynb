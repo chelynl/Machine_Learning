{
  "nbformat": 4,
  "nbformat_minor": 0,
  "metadata": {
    "colab": {
      "name": "Intro to Deep Learning.ipynb",
      "provenance": [],
      "collapsed_sections": [],
      "mount_file_id": "16drVGPluewu4oPPTBvufjC1lr6fvsQT9",
      "authorship_tag": "ABX9TyP0wyk5nBnLnia62dRFl7O1",
      "include_colab_link": true
    },
    "kernelspec": {
      "name": "python3",
      "display_name": "Python 3"
    },
    "language_info": {
      "name": "python"
    }
  },
  "cells": [
    {
      "cell_type": "markdown",
      "metadata": {
        "id": "view-in-github",
        "colab_type": "text"
      },
      "source": [
        "<a href=\"https://colab.research.google.com/github/chelynl/Machine_Learning/blob/main/Intro_to_Deep_Learning.ipynb\" target=\"_parent\"><img src=\"https://colab.research.google.com/assets/colab-badge.svg\" alt=\"Open In Colab\"/></a>"
      ]
    },
    {
      "cell_type": "markdown",
      "metadata": {
        "id": "fmy8d2YpOZ87"
      },
      "source": [
        "# **Deep Learning**\n",
        "\n",
        "DL is a subfield within ML that focuses on algorithms with neural networks.\n",
        "\n",
        "<u>Using Keras and Tensorflow you'll learn how to</u>:\n",
        "- create a fully-connected neural network architecture\n",
        "- apply neural nets to two classic ML problems: regression and classification\n",
        "- train neural nets with stochastic gradient descent, and\n",
        "- improve performance with dropout, batch normalization, and other techniques\n",
        "\n",
        "**Neural networks** = black box models (no insight to relationships)\n",
        "- no interpretability but powerful predictor for complex nonlinear patterns\n",
        "- used for classification and continuous predictions\n",
        "- variables are in layers (some are hidden) and intercept is called bias\n",
        "- inputs in first layer are transformed via some mathematical fx and propagated to the next hidden layer until it is fed to the output layer\n",
        "- single neuron models (1 input) are linear models!\n",
        "- NN with two inputs will fit a plane (with more inputs than that will fit a hyperplane)\n",
        "- key advantage = ability to automatically create relevant features from initial inputs\n",
        "\n",
        "DNN Structure:\n",
        "- input layer\n",
        "- 2 or more hidden layers\n",
        "- output layer\n",
        "- edges connecting neurons between adjacent layers\n",
        "- activation values and bias at each neuron\n",
        " - bias measures how easy/difficult it is for a neuron to fire (higher bias = more input or activation neuron needs to fire)\n",
        "- weights on each edge\n",
        " - weights define importance of inputs\n",
        " - if sum of inputs*weights exceeds the bias (threshold), the neuron fires 1 otherwise it fires 0"
      ]
    },
    {
      "cell_type": "code",
      "metadata": {
        "id": "d7ZTyTsZcbwm"
      },
      "source": [
        "import pandas as pd\n",
        "import numpy as np\n",
        "import tensorflow as tf\n",
        "from tensorflow import keras\n",
        "from tensorflow.keras import layers, callbacks\n",
        "\n",
        "# Setup plotting\n",
        "import matplotlib.pyplot as plt\n",
        "\n",
        "plt.style.use('seaborn-whitegrid')\n",
        "# Set Matplotlib defaults\n",
        "plt.rc('figure', autolayout=True)\n",
        "plt.rc('axes', labelweight='bold', labelsize='large',\n",
        "       titleweight='bold', titlesize=18, titlepad=10)"
      ],
      "execution_count": 37,
      "outputs": []
    },
    {
      "cell_type": "markdown",
      "metadata": {
        "id": "MTAf6Oumjnkq"
      },
      "source": [
        "## **A single neuron**"
      ]
    },
    {
      "cell_type": "code",
      "metadata": {
        "colab": {
          "base_uri": "https://localhost:8080/",
          "height": 200
        },
        "id": "ISDC2QljZnXh",
        "outputId": "f973e923-e2cb-4e24-968a-f7f03a498d33"
      },
      "source": [
        "red_wine = pd.read_csv('/content/drive/MyDrive/Colab Notebooks/ML concepts/Deep Learning/winequality-red.csv')\n",
        "red_wine.head()"
      ],
      "execution_count": null,
      "outputs": [
        {
          "output_type": "execute_result",
          "data": {
            "text/html": [
              "<div>\n",
              "<style scoped>\n",
              "    .dataframe tbody tr th:only-of-type {\n",
              "        vertical-align: middle;\n",
              "    }\n",
              "\n",
              "    .dataframe tbody tr th {\n",
              "        vertical-align: top;\n",
              "    }\n",
              "\n",
              "    .dataframe thead th {\n",
              "        text-align: right;\n",
              "    }\n",
              "</style>\n",
              "<table border=\"1\" class=\"dataframe\">\n",
              "  <thead>\n",
              "    <tr style=\"text-align: right;\">\n",
              "      <th></th>\n",
              "      <th>fixed acidity</th>\n",
              "      <th>volatile acidity</th>\n",
              "      <th>citric acid</th>\n",
              "      <th>residual sugar</th>\n",
              "      <th>chlorides</th>\n",
              "      <th>free sulfur dioxide</th>\n",
              "      <th>total sulfur dioxide</th>\n",
              "      <th>density</th>\n",
              "      <th>pH</th>\n",
              "      <th>sulphates</th>\n",
              "      <th>alcohol</th>\n",
              "      <th>quality</th>\n",
              "    </tr>\n",
              "  </thead>\n",
              "  <tbody>\n",
              "    <tr>\n",
              "      <th>0</th>\n",
              "      <td>7.4</td>\n",
              "      <td>0.70</td>\n",
              "      <td>0.00</td>\n",
              "      <td>1.9</td>\n",
              "      <td>0.076</td>\n",
              "      <td>11.0</td>\n",
              "      <td>34.0</td>\n",
              "      <td>0.9978</td>\n",
              "      <td>3.51</td>\n",
              "      <td>0.56</td>\n",
              "      <td>9.4</td>\n",
              "      <td>5</td>\n",
              "    </tr>\n",
              "    <tr>\n",
              "      <th>1</th>\n",
              "      <td>7.8</td>\n",
              "      <td>0.88</td>\n",
              "      <td>0.00</td>\n",
              "      <td>2.6</td>\n",
              "      <td>0.098</td>\n",
              "      <td>25.0</td>\n",
              "      <td>67.0</td>\n",
              "      <td>0.9968</td>\n",
              "      <td>3.20</td>\n",
              "      <td>0.68</td>\n",
              "      <td>9.8</td>\n",
              "      <td>5</td>\n",
              "    </tr>\n",
              "    <tr>\n",
              "      <th>2</th>\n",
              "      <td>7.8</td>\n",
              "      <td>0.76</td>\n",
              "      <td>0.04</td>\n",
              "      <td>2.3</td>\n",
              "      <td>0.092</td>\n",
              "      <td>15.0</td>\n",
              "      <td>54.0</td>\n",
              "      <td>0.9970</td>\n",
              "      <td>3.26</td>\n",
              "      <td>0.65</td>\n",
              "      <td>9.8</td>\n",
              "      <td>5</td>\n",
              "    </tr>\n",
              "    <tr>\n",
              "      <th>3</th>\n",
              "      <td>11.2</td>\n",
              "      <td>0.28</td>\n",
              "      <td>0.56</td>\n",
              "      <td>1.9</td>\n",
              "      <td>0.075</td>\n",
              "      <td>17.0</td>\n",
              "      <td>60.0</td>\n",
              "      <td>0.9980</td>\n",
              "      <td>3.16</td>\n",
              "      <td>0.58</td>\n",
              "      <td>9.8</td>\n",
              "      <td>6</td>\n",
              "    </tr>\n",
              "    <tr>\n",
              "      <th>4</th>\n",
              "      <td>7.4</td>\n",
              "      <td>0.70</td>\n",
              "      <td>0.00</td>\n",
              "      <td>1.9</td>\n",
              "      <td>0.076</td>\n",
              "      <td>11.0</td>\n",
              "      <td>34.0</td>\n",
              "      <td>0.9978</td>\n",
              "      <td>3.51</td>\n",
              "      <td>0.56</td>\n",
              "      <td>9.4</td>\n",
              "      <td>5</td>\n",
              "    </tr>\n",
              "  </tbody>\n",
              "</table>\n",
              "</div>"
            ],
            "text/plain": [
              "   fixed acidity  volatile acidity  citric acid  ...  sulphates  alcohol  quality\n",
              "0            7.4              0.70         0.00  ...       0.56      9.4        5\n",
              "1            7.8              0.88         0.00  ...       0.68      9.8        5\n",
              "2            7.8              0.76         0.04  ...       0.65      9.8        5\n",
              "3           11.2              0.28         0.56  ...       0.58      9.8        6\n",
              "4            7.4              0.70         0.00  ...       0.56      9.4        5\n",
              "\n",
              "[5 rows x 12 columns]"
            ]
          },
          "metadata": {
            "tags": []
          },
          "execution_count": 2
        }
      ]
    },
    {
      "cell_type": "code",
      "metadata": {
        "colab": {
          "base_uri": "https://localhost:8080/"
        },
        "id": "eB6QI80sc4EA",
        "outputId": "1b39a1c2-f8cb-4029-a278-bf9f421a162b"
      },
      "source": [
        "red_wine.shape"
      ],
      "execution_count": null,
      "outputs": [
        {
          "output_type": "execute_result",
          "data": {
            "text/plain": [
              "(1599, 12)"
            ]
          },
          "metadata": {
            "tags": []
          },
          "execution_count": 3
        }
      ]
    },
    {
      "cell_type": "markdown",
      "metadata": {
        "id": "6TSsOj1DdMTl"
      },
      "source": [
        "The target is `'quality'` and remaining variables are inputs.\n",
        "\n",
        "**Dense layer** = collections of linear units with a common set of inputs. \n",
        "\n",
        "(there are other types of layers, which we will learn later)"
      ]
    },
    {
      "cell_type": "code",
      "metadata": {
        "id": "PJ8WStisdHvs"
      },
      "source": [
        "# Create a network with 1 linear unit (units = number of outputs, input_shape = number of features)\n",
        "model = keras.Sequential([\n",
        "    layers.Dense(units=1, input_shape=[11])\n",
        "])"
      ],
      "execution_count": null,
      "outputs": []
    },
    {
      "cell_type": "markdown",
      "metadata": {
        "id": "Oy657mgCgjCG"
      },
      "source": [
        "Keras represent weights as tensors (TF's version of numpy array that are  compatible with GPU/TPU accelerators)"
      ]
    },
    {
      "cell_type": "code",
      "metadata": {
        "id": "ptYcGaJGdUs6"
      },
      "source": [
        "w, b = model.weights"
      ],
      "execution_count": null,
      "outputs": []
    },
    {
      "cell_type": "code",
      "metadata": {
        "colab": {
          "base_uri": "https://localhost:8080/"
        },
        "id": "XvZ_UHTVg4tY",
        "outputId": "cdcb83bf-b104-4880-e869-b014e13cb578"
      },
      "source": [
        "print(\"Weights\\n{}\\n\\nBias\\n{}\".format(w, b))"
      ],
      "execution_count": null,
      "outputs": [
        {
          "output_type": "stream",
          "text": [
            "Weights\n",
            "<tf.Variable 'dense/kernel:0' shape=(11, 1) dtype=float32, numpy=\n",
            "array([[-0.3745501 ],\n",
            "       [ 0.06192517],\n",
            "       [ 0.5891747 ],\n",
            "       [-0.60507095],\n",
            "       [ 0.4141553 ],\n",
            "       [-0.2727223 ],\n",
            "       [ 0.64339393],\n",
            "       [ 0.18061072],\n",
            "       [-0.07313913],\n",
            "       [-0.6408189 ],\n",
            "       [-0.18140608]], dtype=float32)>\n",
            "\n",
            "Bias\n",
            "<tf.Variable 'dense/bias:0' shape=(1,) dtype=float32, numpy=array([0.], dtype=float32)>\n"
          ],
          "name": "stdout"
        }
      ]
    },
    {
      "cell_type": "markdown",
      "metadata": {
        "id": "to1PYdlJhSv1"
      },
      "source": [
        "NOTE: there's one weight for each input (and a bias). There doesn't seem to be any pattern to the values the weights have. Before the model is trained, the weights are set to random numbers (and the bias to 0.0). A neural network learns by finding better values for its weights."
      ]
    },
    {
      "cell_type": "markdown",
      "metadata": {
        "id": "3GVIe5idiFq9"
      },
      "source": [
        "**Plot the output of an untrained linear model**\n",
        "\n",
        "Run the cell below a few times to see the different lines produced with a random initialization (model's weights are set randomly before training)."
      ]
    },
    {
      "cell_type": "code",
      "metadata": {
        "colab": {
          "base_uri": "https://localhost:8080/",
          "height": 407
        },
        "id": "2E9Gipaeg_xE",
        "outputId": "313189ab-7fa8-4735-ab23-0021eca3daa1"
      },
      "source": [
        "model = keras.Sequential([\n",
        "    layers.Dense(1, input_shape=[1]),\n",
        "])\n",
        "\n",
        "x = tf.linspace(-1.0, 1.0, 100)\n",
        "y = model.predict(x)\n",
        "\n",
        "plt.figure(dpi=100)\n",
        "plt.plot(x, y, 'k')\n",
        "plt.xlim(-1, 1)\n",
        "plt.ylim(-1, 1)\n",
        "plt.xlabel(\"Input: x\")\n",
        "plt.ylabel(\"Target y\")\n",
        "w, b = model.weights # you could also use model.get_weights() here\n",
        "plt.title(\"Weight: {:0.2f}\\nBias: {:0.2f}\".format(w[0][0], b[0]))\n",
        "plt.show()"
      ],
      "execution_count": null,
      "outputs": [
        {
          "output_type": "display_data",
          "data": {
            "image/png": "[encoded data removed]",
            "text/plain": [
              "<Figure size 600x400 with 1 Axes>"
            ]
          },
          "metadata": {
            "tags": []
          }
        }
      ]
    },
    {
      "cell_type": "markdown",
      "metadata": {
        "id": "goYvhLLIjbC3"
      },
      "source": [
        "## **Intro to DNNs**\n",
        "\n",
        "Activation functions allow NNs to learn complex nonlinear patterns (instead of only linear relationships). In order to fit curves, apply activation functions to each of a layer's outputs (its activations). The most common is the rectifier function  `max(0,x)`.\n",
        "\n",
        "- ReLU = rectified fx applied to linear unit\n",
        "- ReLU \"rectifies\" negative values to 0 and creates a \"bend\" in the data\n",
        "\n",
        "![image.png](data:image/png;base64,iVBORw0KGgoAAAANSUhEUgAAAgwAAAGPCAYAAAAwSojkAAAgAElEQVR4AezdCbg1RXkncJfEhWiMCmoMGCPKIsgiKqhsouyKjKhssgk4ICCoyKoIiBABQUDRyCYgCiKyCoggo2GExGVwCWpMFCXRaDQmkQEdE3ueX8e66a+/7nO6+/TZ7n3f57nPObdPdXX1v7qr/vVu9ZAsJBAIBAKBQCAQCAQCgSEIPGTI7/FzIBAIBAKBQCAQCAQCWRCGeAgCgUAgEAgEAoFAYCgCQRiGQhQFAoFAIBAIBAKBQCAIQzwDgUAgEAgEAoFAIDAUgSAMQyGKAoFAIBAIBAKBQCAQhCGegUAgEAgEAoFAIBAYikAQhqEQRYFAIBAIBAKBQCAQCMIQz0AgEAgEAoFAIBAIDEUgCMNQiKJAIBAIBAKBQCAQCARhiGcgEAgEAoFAIBAIBIYiEIRhKERRIBAIBAKBQCAQCASCMMQzEAgEAoFAIBAIBAJDEQjCMBSiKBAIBAKBQCAQCAQCQRjiGQgEAoFAIBAIBAKBoQgEYRgKURQIBAKBQCAQCAQCgSAM8QwEAoFAIBAIBAKBwFAEgjAMhSgKBAKBQCAQCAQCgUAQhngGAoFAIBAIBAKBQGAoAkEYhkIUBQKBQCAQCAQCgUAgCEM8A4FAIBAIBAKBQCAwFIEgDEMhigKBQCAQCAQCgUAgEIQhnoEcge9+97vZQx7ykOylL31pLSKnnXZaXuacc85ZKPOlL30pP/bOd75z4digLxdddFFe/sorrxxUbOG3tuUXTowvgUAgEAgEAr0iEIShVzjnt7IgDPPbd9HyQCAQCAQmgUAQhkmgPAfX6EoY2t5aW41B2/Jt2xPlA4FAIBAIBJohEIShGU6LvlQQhkXfxXGDgUAgEAiMhEAQhpHgWzwndyUMdT4Mv/jFL7KDDjooe8pTnpI96lGPyjbYYIPs+uuvz+o0Bm3L//a3v80uuOCC7IUvfGH2mMc8Jr/GOuusk73//e/P/FaUm266KfebOPPMM7M777wz22yzzbIVVlghe8ITnpDtueee2c9//vNi8fgeCAQCgUAgUIFAEIYKUJbioT4Jw4MPPpitt956+STNkTL9PfShD8123nnn5Zwe25ZHCHbfffeFelP96XP//fdfpgsTYdhtt92yRz7ykcudt+mmmy5TPv4JBAKBQCAQWB6BIAzLY7IkjyTCkCbdQZ/DoiROPfXUfFJeffXVs1tvvTX75S9/mX3ve9/L3vjGNy5M1sUoibblL7nkkrye5zznOdmNN96Yawjuv//+7POf/3y27rrr5r998YtfXOjHRBjc0wEHHJC51wceeCC74447sqc97Wl5+bvvvnuhfHwJBAKBQCAQWB6BIAzLY7Ikj/RJGDbccMOMNuGb3/zmclgK2zRxFwlD2/IveclLsoc//OHZj370o+Xq/5u/+Zu8/iOPPHLht0QYttpqq4Vj6QsThvZcfPHF6VB8BgKBQCAQCFQgEIShApSleCgRhj7yMDzxiU/MVl555UoYUy6HImFoW/5JT3pSPskjDf4e9rCH5QQFSUmakV133XXh+okwnHzyyQvH0hcaCucgDiGBQCAQCAQC9QgEYajHZkn9Mk+EYcUVV1wgBokglD932mmnhf5LhIHTY1nSb0UzS7lM/B8IBAKBQCCQZUEY4inIEeiTMLQ1MbQtv/HGG+dRDv/6r//aqPcSKQjC0AiuKBQIBAKBQCUCQRgqYVl6B/skDEUnxttuu62V02OT8ik083nPe14eqvnTn/40+/Wvf53de++92Q033JC96lWvyp0tUy8GYUhIxGcgEAgEAt0RCMLQHbtFdWafhKFtmGTb8sIq995774FmCSQhSRCGhER8BgKBQCDQHYEgDN2xW1Rn9kkYACMRkzDKJz/5yXlSpfXXXz+75pprBiZualPeNa644orsZS97Wfb4xz8+e8QjHpE94xnPyHbcccfs6quvzn7zm98s9E8QhgUo4ksgEAgEAp0RCMLQGbo4MRAIBAKBQCAQWDoIBGFYOn0ddxoIBAKBQCAQCHRGIAhDZ+jixEAgEAgEAoFAYOkgEIRh6fR13GkgEAgEAoFAINAZgSAMnaGLEwOBQCAQCAQCgaWDQBCGpdPXcaeBQCAQCAQCgUBnBIIwdIYuTgwEAoFAIBAIBJYOAkEYlk5fx50GAoFAIBAIBAKdEQjC0Bm6ODEQCAQCgUAgEFg6CARhWDp9HXcaCAQCgUAgEAh0RiAIQ2fo4sRAIBAIBAKBQGDpIBCEYen0ddxpIBAIBAKBQCDQGYEgDJ2hixMDgUAgEAgEAoGlg0AQhqXT13GngUAgEAgEAoFAZwSCMHSGLk4MBAKBQCAQCASWDgJBGJZOX8edBgKBQCAQCAQCnREIwtAZujgxEAgEAoFAIBBYOggEYVg6fR13GggEAoFAIBAIdEYgCENn6OLEQCAQCAQCgUBg6SAQhGHp9HXcaSAQCAQCgUAg0BmBIAydoYsTR0Hgt7/9bfaDH/wgu+OOO7Jbbrkl+8QnPpHdcMMN2ec+97nsnnvuyX7961+PUn2cGwgEAoFAINAzAkEYegY0qqtG4De/+U32mc98JjvyyCOzDTfcMFthhRWyhzzkIbV/D3/4w7NnPetZ2T777JNdeuml2c9//vPqiuNoIBAIBAKBwEQQCMIwEZiX7kW++93vZocddlj2pCc9KScHa665ZnbQQQdlF1xwQa5d+Md//MfsF7/4RQ7Q/fffn/30pz/N7r777lzjcNxxx2Wbbrpp9ohHPCL/+x//439kN91009IFM+48EAgEAoEpIhCEYYrgL+ZL/+3f/m226667ZjQFz3jGM7ITTzwx+/73v9/pln/5y19mF198cbbFFltkD33oQ7P1118/u/baazvVFScFAoFAIBAIdEMgCEM33OKsGgQefPDB7B3veEf2yEc+Mlt77bWzj3/849l//Md/1JRuf/irX/1qttNOO+XEYfvtt8++973vta8kzggEAoFAIBBojUAQhtaQxQl1CHznO9/J1ltvvewP/uAPsj//8z/P+C2MS77whS/khOSxj31sdtlll43rMlFvIBAIBAKBwO8QCMIQj0IvCFx//fXZYx7zmOwFL3jBxFb9IikOPfTQXNvg8z//8z97uZeoJBAIBAKBQGB5BIIwLI9JHGmJAP+C3/u938v23XffqYRDXnHFFbkJZOedd57K9VvCFcUDgUAgEJhLBIIwzGW3zU6j+Sg87GEPy4466qhMboVpifwNzBNIQ2gaptULcd1AIBBYzAgEYVjMvTvme7v11lvzcMc3v/nNY75Ss+qRBs6WzBMhgUAgEAgEAv0iEIShXzyXTG3yJ8itsMsuu0xVs1AGnHlC6OXll19e/in+DwQCgUAgEBgBgSAMI4C3VE9lenjJS16Srb766pkcCbMmb3rTm7I//MM/nJjz5azdf7QnEAgEAoFxIBCEYRyoLvI6L7zwwjwh05e//OWZuNOPfvSj2R577JH9y7/8S94e0RNrrbVW9vKXv3wm2heNCAQCgUBgMSAQhGEx9OIE7+Ff//Vfs5VWWik75JBDJnjV+kv9+7//e/bEJz4xe9WrXrVModtvvz03TQj3DAkEAoFAIBAYHYEgDKNjuKRqOPnkk7PHPe5xC/s/TPvmjz/++DxK45vf/OZyTbH3xAYbbLDc8TgQCAQCgUAg0B6BIAztMVuyZzzwwAO5o+MxxxwzExgwQSAvu+22W2V7vvKVr+Rahptvvrny9zgYCAQCgUAg0ByBIAzNsVryJT/2sY/lCZr+6Z/+aSawOProo3NfChtd1QnnzLK5oq5sHA8EAoFAIBCoRyAIQz028UsJga233jp7xSteUTo6nX9tg23Pin322WdgAy666KI8V8TPfvazgeXix0AgEAgEAoHBCARhGIxP/Po7BIRP/v7v//7MbPQkWdQjHvGIoVtmc4pULjaoikc5EAgEAoHREAjCMBp+S+bsG2+8MfcH+PGPfzz1e5Y06lGPelR24IEHNmrLxhtvnO23336NykahQCAQCAQCgWoEgjBU4xJHSwgce+yx2Zprrlk6Op1/EQWEAXFoIm9/+9vzJFNNykaZQCAQCAQCgWoEgjBU4xJHSwgIUXzNa15TOjr5f++9997W+1dIE203TQmdQgKBQCAQCAS6IRCEoRtuS+4smRNpGaYtnBw5O/7kJz9p3JT/83/+T/aQhzwk+9a3vtX4nCgYCAQCgUAgsCwCQRiWxSP+q0HARlPnnHNOza+TOSx88uEPf3gmnLKN8LtAGL7whS+0OS3KBgKBQCAQCBQQCMJQACO+1iOwwgorZEIUpykSNEnUlPaMaNqW+++/PycMn/70p5ueEuUCgUAgEAgESggEYSgBEv9WI2BlL3HTtETq54c97GGZVNBt5Te/+U1OGK666qq2p0b5QCAQCAQCgd8hEIQhHoVGCNgu+rzzzmtUdhyFZGt8whOekP3bv/1b6+ptmMUk8ZnPfKb1uXFCIBAIBAKBwH8hEIQhnoRGCPzJn/xJdsYZZzQq23ehr371q3kOiD//8z/vVPUPf/jDnDB88Ytf7HR+nBQIBAKBQCCQZUEY4ilohMBGG22UHXrooY3K9l1ou+22y5785Cdn//f//t9OVX/+85/PCcM//MM/dDo/TgoEAoFAIBAIwhDPQEME9tprr2ybbbZpWLq/YnfeeWc+2b/vfe/rXClTymMf+9jst7/9bec64sRAIBAIBJY6AqFhWOpPQMP7f+9735uttNJKE590t9hii2zllVfOfvWrXzVs6fLF/uf//J/ZC1/4wuV/iCOBQCAQCAQCjREIwtAYqqVd8Ctf+Uq+0v/6178+MSBuv/32/Jof+tCHRrrms571rJlIOjXSTcTJgUAgEAhMGYEgDFPugHm5/H/+539mT3ziE7M6x8OUTVE0wqC/P/3TPx34ezr3la98ZfbiF784+7M/+7Ps//2//9cZpu9+97v59W677bbOdcSJgUAgEAgEAuHDEM9ACwQOOOCA7NnPfnblGX0Thkc+8pH5RD9qsqh3vvOducOkXAwhgUAgEAgEAt0RCA1Dd+yW3JnCEmkA7rrrrrHf+wUXXJAdeeSR2X/8x390vhaSQEPxlre8pXMdcWIgEAgEAoHAfyEQhCGehFYIcB60c+U8yCWXXJLvPWEPipBAIBAIBAKB0RAIwjAafkvu7GuuuSZPoiSZ0iwLv4c11lgj22OPPWa5mdG2QCAQCATmBoEgDHPTVdNvqEn4L//yL7OnPe1p2R/90R9ld9xxx/QbVdOCU089NXvUox6V8WEYxaxRU30cDgQCgUBgySEwNsKQvNNf+tKXLjlQF8sNIwj/+3//7+zd7353Jh+CCThFMdgI6v3vf/9M3urf/d3fZY95zGOynXfeOXvEIx6RveAFL8i+9rWvzWRbx9WoJu/faaedlvdncdvyL33pS/kxRKuJcEr1TFx55ZVNiuc7nrYp36jSKBQIBAITQWDJEwYrZgPYu971rokAPssX4STIsfHkk0/OEL1EEEQsIAhweuhDH5q97GUvy97xjnfkv4uOmCWR4GmDDTbInvvc5+bJnvgvbL755tnv/d7vZW9605syW10vBQnCsBR6Oe4xEJgsAkEYljBhoKr/8pe/nEm7zJHRqhwpsCpPBMH/6c8W1095ylOyf/7nf87V/CbiZzzjGdmPf/zjyT61NVeT+lkKaztrmjCTOP4Xf/EX+XHtveWWW9JPi/azK2FoC0hoGNoiFuUDgflFIAjDEiYMb3vb23Iy8Pu///u55iARg7pPhMHeDkl++tOfZquttlq23nrrZbaQnra4H/dy0003VTblRz/6UfbqV786v+fXvOY1OfGpLLgIDgZhWASdGLcQCMwYAhMnDAZzE9KZZ56ZTz6bbbZZtsIKK2RPeMITsj333DP7+c9/vgxExfK33nprvifAox/96Hxfg/322y8zaRXFRkPqr7Kppt+uvvrq/BRmiLrJUQEr8LPPPjtXb3Pye9zjHperu+2r0HXnxGJbp/2dep4DIyJQh0M6zhShz8ry/e9/P7P1NdJA/T8N4iALJXMDrcill15abuJy/1933XXZKquskj9zNA+LUboShjofhl/84hfZQQcdlGuYmKqYfa6//vpan4S25WmB5N4QtkvT5RrrrLNO7idT3jSsOCYgsMPGkMXYv3FPgcA0EJgaYdhtt92ylM0vTUo+N91002VwSIODFWHVxCZ07pe//OXCOYkU9EEY0gq82L70vegotnDxOfxivwZkIN1X1adV+8tf/vLajacSaWDKMOFMUv7t3/4te9WrXpU/GyIjmgpik0jGtttum7mHxSR9EoYHH3wwJ4TlZ8Nzw7HU8eL71rY8QrD77rvXPoP777//Ml2TxoSmY8gyJ8c/gUAg0BmBqREGg4xUwwa2Bx54IA/Rs9p1/O677164oTQ4OL733nvn5a2Mv/CFL2TPec5z8vJvf/vbF8q3IQxOGuT0aNOiP/iDP8iuuuqqfOVMq6Bthx9+eL6yWrjonH+xmyOnQBiX/xy3/0Od5sBKUr84j3+DlaHoCav+b33rW2NF5q/+6q+yZz7zmfl1n//85+ft5F/RRoSGSndNy2WfjMUSgpkIQ7k/q/4vkt8qDQMi5rzVV189o+VD0L/3ve9lb3zjGxeelyJhaFtegi31e59vvPHGXMvoHf/85z+frbvuuvlvnHGTFMeEJmNIOi8+A4FAYDQEpkYYttpqq+VabqIxcFx88cULv6XBQWhcWTX593//97nNmpYhSZ+E4SUveUmGNCzmfQh+/etfZ8ccc0y+30KVBod2oS5J0w033JA96UlPWnCQlNRJOB6SgfwhEuOQn/3sZznZZIIQscHp0rGnP/3p2ZZbbtl60hc+iizQeDGt/PVf//U4mj3ROvskDBtuuGGuhfrmN7+53D2IpvHOFglD2/LeM88eH5Oy/M3f/E1evzThSdKY0HQMSefFZyAQCIyGwNQIg9C9slhdGHyK8f1pcChqEYrnrbXWWjlpSMf6JAy0Cauuumq+cn3DG96QfeADH6idPNP15+nTatKqzur62GOPrTRNXHjhhcvdEq0C/xF9laIp+JVQRZMDDzww/43KeocddljGUXK5ylocQAxMHI997GNzO/cf//EfL7OTJY2DSV/IZxcxyco3kUIwi6auLvVN85xEGAblQWmah8EupSuvvHLl7aQ6ioShbXmk07OENPjzTHl2iqayXXfddeH6aUxoOoYsnBhfAoFAYCQEpkYYqhzo0kBQVJGmY00JA8cpg88VV1yxHDAcGP2WnB4VGGSS8DvtAtXoKaecku2yyy75ipoK++tf//py9c/LARM7TQDtgS2kv/Od7+RNpxFIpgmfxUE63dunP/3pXBvhXFj6U5YtmxxxxBELx0888cTMalMZmMEQCWOuaCr/+I//mH3kIx/J+Bm4zpOf/OTsPe95T/aNb3wjD/8sExpOjCYaZqQuQotFw8UJ18ZVN998c5dqpn7OPBGGFVdcceGZSc9U+XOnnXZawDSNCU3HkIUT40sgEAiMhMDcEIamJgme2wYbKuay7LjjjvlvRcIgk6HyTTPb8WOw2mIzn0fhVb7mmmsu2OyLkzfNgdWeCZeZpxgJUqVVSIO68p/4xCeyQw89dJlVIZMRcU327jQx+GQ6OPjgg7PTTz89z5GA4Jn8kbqjjz46M0EI2XQNzpScLpVJWgz18r1g+pCsqSi0H7QQ99xzT/Fwq++0GfahcH0Ot+VonFaVTaFwn4ShrYmhbfmNN944fx7r/GTK8AVhKCMS/wcCk0FgbgiDgXufffZZcHqkGRB25XhR+2CScowDnggADpU84G1x7Li/ImHgmOcYVTQ7eFGEeH3wgx/M2FHVY0CzcqV+p3adJ9F+6nwqX5EoJpQqQbhMtknroEzyVShqFRKWPk3oQmKTecIx1+EbUBTkRGbIM844I3v961+fh9AJb3z84x+f94FwOhoE/SpfAtPCZz7zmWWIS7E+2gfmlLPOOqt4OCcQCB3SI4piFIEHUqKNtBdlP5pR6h7nuX0ShqIT42233dbK6bFJ+ZT86XnPe14eqomc8a25995782dPFAxnyyRBGBIS8RkITBaBuSEMJhCTUHGi8r0cVgk+A0y5HHV2WjEWCQOveHkEyuXVUxX2mcoJyZsXEQnAw10eiSaTHoJE/uVf/mU5X4V0/+lTn9C4FMmC32A6CRGxstJKK2X//u//vszlfvjDH+bHZbAcdZLnsZ/Ilpj/Ipla5qIz9E+fhKFtmGTb8vonRdqk56r8iSQkCcKQkIjPQGCyCMwNYWCvlNKXacIKn1p73333rVQVU59bwdICCPOjKfhf/+t/ZckhskgYwE1lTi0qhDINVI6zt0tWw/6ersnmf/7557eyw0+2S//7akwKJjqTOR8Ak2hT+eQnP5mvquu0Cgkn5ogyWfCbiXUSQiskFfRJJ5203OWsbhFFibb6EKF9nGw9C0xYVsGzKn0SBvfonWJWogHyTq2//vqZqJikHSg6PXYp7xwmJ1EvtDm0VtJ4MyN6X4uRSkEYZvWpi3YtdgTGRhj6Am7Q4NDXNRZjPfJUCAmVobJLNkPnmxwM3IkcNP00SYsqmZQcf/zxufaknCXU9fmyaA/zVB+SQjBTJkKRGSGBQCAQCCwFBIIwLLJeZrNPGQy333777B/+4R8636EkSMLyqjQIg8gDU46IiEmJ8EfOmkcdddRyl6Tu5rTo9/vuu2+537sesIV2wgY5mucQzK4YxHmBQCCwtBAIwrCI+ps2puig18etmXCt0pGGpsSBmaIqrLWP9tTVIdqCqaCKIJnMmZV475cjKurqa3IcNkIwmb4kjYJ/SCAQCAQCixWBIAyLoGdFb1jlmqjHEQJ47rnn5pMi27JrDNIupN8mnS2Ro52IC6GaVcJRkdOnVMJ9yz/90z8tONTC/yc/+Unfl4j6AoFAIBCYOgIzTximjtCMN0AiJVEK/A04KvYtHD+Tk58EVikEMhGDus9yiGrf7aqqj68GJ82U/6FchpMewsNpdRyiL2h4kt8IDURIIBAIBAKLBYEgDHPak0IeaRVM2Fa145igecbzVJfrP23KxFtdPoxEFKqiKESbTEO0UfjoXnvtVXt5fg4cFselAUmRKSnfxbg34Kq90fghEAgEAoGeEQjC0DOgk6juuuuuy5761Kdm9lIoh4j2dX2rY/ksaC6qNgXSBqGudrJEHkQiJBIh9HBactlll+X5OlIuiXI7JI/aZpttck3AOLM32rBrgw02WNDOzHIIZhmj+D8QCAQCgSoEgjBUoTKjx9jGJbBKWoWqMMK+ms6JEAlghqiT7bbbLpOdT9bNzTffPG8Xlb9kSdMShMCOk8hOncDNPhGiHJLmpK7sKMdpY973vvfl+T1s8nXXXXeNUl2cGwgEAoHAVBEIwjBV+Jtf3F4NklVZ0UtgNU4xscm/ULUfR7qunS6Rg+LmTMiFBFhve9vbUrGpfNJ+IFWDJmgpqvlmVIVi9t1oIZgSEokyYUYqZ6Xs+3pRXyAQCAQC40AgCMM4UO2xTpsgWbGbnCcx2Vh9IyVyOAxy2tt6662zF73oRZV3Our+DZWVtjyobVtttdXAsy655JIcV2RsEpJIH3NS1900J9HOuEYgEAgEAlUIBGGoQmVGjplg0jbL0hyPW5J9X3jiICdKKZKt4IsbAo27bW3rl6lSG4fhZsdLm17V+Ty0ve6w8sUQTDtwVuWNGFZH/B4IBAKBwDQQCMIwDdSHXNMujDvssMOCVmFSWQTf9a535WGJtvweJNTr9tSYdaFhqNoWvdhuqZ6ZUURXNN1euXh+1+833nhjrskRgsnPAVkLCQQCgUBglhEIwjBDvcMEIJeAzZRWXXXVfMOsSTXPXgtCAc8+++yBl7TzpZV7X3szDLzYiD9++ctfzkkXn4ZBIgpExMkrX/nKgWaYQXV0+a0YgrnJJptk99xzT5dq4pxAIBAIBCaCQBCGicA8/CLf+973cq99kQn2gjCZTEqoyU2Y8jkMEzkZrMjnRURLiFAYtoJHhOSUGOToOa575oAp2kR+iFnfBXNcGES9gUAgMPsIBGGYch8lrQI7uvwFk9790ETKxPDMZz5zqEpe+CTtgq3C50W+/e1v5+Gh8jMME9tgi2QoRn4MO6ev31MIpudg7bXXzrdc76vuqCcQCAQCgT4QCMLQB4od65DC2IqdVuHII4/sdWOkpk065phj8pXtV77ylaGnbLbZZjm5GFpwxgrI/IgQ8VcYJnvuuWfuaErjMw3xTPC9SFExsxBxMg0c4pqBQCAwewgEYZhCn1jV81WQQnmdddbJ2NqnIRzvrKjPO++8oZf/7Gc/m2sXRB/Mm9x7772ZLbdhPkzuv//+fIUv+dMDDzwwrPjYfhchs9JKK+WmonHsETK2hkfFgUAgsGgRCMIw4a795je/mW+zzF5OqzCtlME//OEP80RQu+66ayMEOOXJvTCvYhdL+Q+a+Ib87d/+bb6B1B577DHV2037hdA2CMG87777ptqeuHggEAgsbQSCMEyo/9moOdRZ6Vq92mtgWkI1LyxSKGGTrINs+nwX7rzzzmk1eeTrSqvNP0DK6yZy/fXX59qXJlqJJvWNUkZEymqrrZZvzx0hmKMgGecGAoHAKAgEYRgFvYbnfv3rX1/wgkcaxrl/QZMmHXbYYbk5pGmyoo022iizb8S8izTQ0ms39Qt4xzvekUdOiKCYtjCPiKCgmUL2mvbdtNsd1w8EAoHFg8BcE4Zf/epXuWc/1a2dB2UntCUztfOgtMaT6j4reQTBvgwvfOELs1nY6lhOAiruiy++uBEMn/70p3PtQt/RG/rnBz/4QWYytjcGm/0NN9yQfe5zn8vzEYzDVOPZkDnTxNtE+JogSkJOq3bsbFJH32Xuvvvu7PnPf35OHJo4ynpHmphhRm3nNPpz1DbH+YFAINAOgbkhDAYkxIAXOXU+5zvhfXV/NkIyyd9MQvIAACAASURBVAmrk2eASWCSYmB/7nOfm29wNAtaBfduE6THPe5x2QEHHNAYCpkSZZ0cVeD/mc98Jvfb2HDDDbMVVlghJyJMHVV/kkg961nPyvbZZ5/s0ksvzframfOkk07KTRNMFE3EMyeJlmiWST9Dde3TDqYJJhYYIVl1ghztvvvudT93Pj4r/dn5BuLEQCAQaI3AzBMGqlgTnXTFyMFf//VfZ5zSbMokla+VaBrIqfqt6qVSpnH4/ve/n0mKgzz443DY18RTh/SDDz64jOr4O9/5Tl3RiR630txggw3yqIym3v9JGwHzrvLd7343YwJ50pOelBODNddcMzvooIOyCy64INcuSINt5U9EKOg3ZIvG4bjjjss23XTTXENDS2MTrptuuqlrUxau8ZSnPCU7/PDDG9fzta99LSc4bc5pXPkIBYV+ckSlMeKgWX62ZY5kwkDIzjrrrBGu9N+nzlp//nfL4lsgEAiMG4GZJQwmNQOeid42xULjTMZdBJGgZTARIR3CGAdtrtTlGs7hFGhCtHqmVRiWXbDrdbqcZ5Olxz72sbnGpcn5NDpU3ybpLoLUicCgKXjGM56RnXjiiTmB61IXAsiEssUWW+ST4/rrr59de+21XarKzzF5yqooUqSpSPxkYr7iiiuanjKxcsgVQsZ04jvx7PE9SYRB+Kxnv6vMcn92vac4LxAIBNohMHOEwUBHM8Dk8KUvfSmjOjZ59SUmHw5jBs9vfOMbnUlIsT3IDXuyydGK2CpsluTyyy/PJ7s28fxXX311fg6S1UaQOs6CokFkLPz4xz/eq5Mnc9ROO+2Ut80W3F0SLNFK/dmf/VmGRLURoZnMAJ6bWZNyCObJJ5+cR3kkc49nk/9G290x56E/Z60voj2BwGJFYKYIg4nX6l8KYqu/PolCuQOZMxAS12pqzy7X4X9Oe8IT+QYIwRtnm6uuP+wYk4jNrN785jcPK7rwu3sQ+vnqV7964ViTL67lPAmpaFiSqajJuW3LIJQICa1Jk7TP5fovvPDCPMMmH5emwtwlHwW/gUnubNm0fcrRyMlq+ehHP3o53xDaBntWME81kXnqzyb3E2UCgUBgNARmhjAwEZi8pSjuanpoC4WJkTaAtqGtVoDnOa0CVe+2227bSr3dtp1dyyNg6667br7Fc5uoA5oI6ne2+6Yib4HVNyfJLqv+ptcplnNPhx56aN5Wn21MQMxUzEe77bZbscqh3/nO/Mmf/En2ile8otX1hlbcYwFOqskUkTQM6VMa8gMPPHDo1eatP4feUBQIBAKBkRGYCcLAv8DKyGpvGit0jnZWrEwVTa6vrFXmH/3RHzVKNzxyL3WswB4Kj3/841v5Drh/JGPnnXdufFX+BSaifffddyqZK/kVMIFocxtixN6P8HGMbSNf/OIXc0dMERezJkJTEzkY9MnptE7mtT/r7ieOBwKBQD8ITJ0wMAdY4U9qVVoHG099Go5BCXEk/LH1tEmG/bytPbju2uM4bn8IWoJrrrmmVfX8HdyfZFNNhI+C8pIiNSFbTersUkZoIfME0tBU06C9XcNGOU66b/txzIp4Pp/85Cfn7RpEFvxGA1EV/TLP/Tkr/RDtCAQWKwJTJQwctWgWhE3OgiANtAdV5gnpkZ/2tKflK/ZZSBc8CC+TvUgNO1G2ERPtc57znMZq+ltvvTVfabfxj2jTnrZlkQaaBuaJpiJM0wQqbLet7L333vnzIDfILMgb3/jG/F4QxWGEgUbI3hr//M//vND0xdCfCzcTXwKBQKB3BKZGGKiODdJCJ2dJmCdoPHwSzm1veMMb8tX6a17zmoXjs9TmYltEgayxxhqZrajbOh1yHuRN3yQjpfwJQvl22WWXqWoWivfuO/OECZOmpKlsvvnmuTNj0/KpHB8RybmYcCaRTTFdt+5TxkwRKiJ1ECekQf4KfVpFIGgZ3Dt/jsXUn3X4xPFAIBAYDYGpEQbhelSiBqtZExoG5omrrroqj22X6OdTn/rUrDWzsj2c+KilTQBtRD8gGk12aKTKl/lQdAiCMmvCbCQypKmZS6SLCdWE21bkB3niE584lmyKbdtSLC+iQ6bTM844I9txxx3zkEr3iDwUHSKRqyOOOGJR9WcRh/geCAQC/SEwFcLA05wposlOif3davOaTIhCLo8++ujKDHrNa5psyWRX7zLxXXLJJflk0iTMUEiiiUcI7CzIRz/60byfmLgI7dVaa62VbwndtH32jBBy2MUPA97weP/739/0clMpJ0zyoosuyl7/+tfneSiKWgf+GIupP6cCcFw0EFjkCEycMFCTM0VU+QnMEtb8GZgmxpERchz3SVtDDf2ud72rdfW0C7QFbPLDhIlmpZVWyg455JBhRSfyO9Jphf+qV71qmevZEtrqWXhgE+H3YdKkVeoiJ5xwQr5y5wMzL8Ls9rGPfSzP2bDKKqvMxDvZV3/OSx9EOwOBeUJg4oQh7VDY1r4+DVDtPSEvxKyLlbXMhS996Us7mXisOq2QrUCHiQyCklSl/R+GlR/378cff3w+0eurskhrbf+MpiLCAnHq8mzSTCAtzFdtzUFN2zeOcou5P8eBV9QZCCxlBCZKGHjh0y40tS1Pu2PY52kZypv6TLtdxeubqNioV1555WU83otlBn2nXVhttdWy/fbbb1Cx/DdOfhwd20ZfDK24YwFECXmpS76E7NEyiHBpIvZLED3QdOvvcp1Wx/xAbGXeJh9EuZ5J/b/Y+3NSOMZ1AoGlgsBECYOcC3wXxj2Yclh82ctelju+yT7Ia9zWyl2Ec2bV6rVLXeM4Rwpmk5x77iLnn39+rkpvQuKor11Loq1ZED4mNCMm+jrhnFk2V9SVdRxx+tM//dPG6ZPLdYkwkQ+iTWhnuY5J/b8U+nNSWMZ1AoGlgMBECQM78bg37rGaNIkUHbp8t9JMO/m16djkoMnrfNZExkEe7+9973s7Nc092Umy6SZMtlKWEnkWhP3dnhX77LPPwOYwtwgtbOqLIhmXfRhGcWCU/Mgz95GPfGRg26b941Loz2ljHNcPBBYTAhMjDFTftAujbPQ0DHiaC6tDg/Vb3vKWXEXP1s4R0LEVV1yxdRjgJNo97L6qfoejPQ1e/vKXd/LsV6cEVAiH3UGHCfOMsl02ehpWd5ffJYtCBIa1nZlAuTbtPuyww/Jw2vvvv79L0/JztA/xmFUfmKXUn507MU4MBAKBZRCYGGHgB8AfYJzmiE9/+tM5MWCCKAu1NNIgBK+t2GugiUNg23q7lucLstVWW+XkqK1/BaJBs+CPo6TsgE1ECmRaGhqXaQunwkc96lGNNlHS1o033riRj0a6L9kPmRVOOeWUdKj1J8dJybOe/vSnN9ZutL5IlmU/+tGPGqfCLta/lPqzeN/xPRAIBLojMDHCwEZelbt+UNNNjNtss00+UdlUpyhphU1rYCtsYvdIpKAqdbPES37bf//9i9U0+m4V27btjSruWOid73xnHkLZJW6e+cKGVEgVjYGolSZy7LHH5rs7Nik77jJ2W0QYmkYjvP3tb8+jH9q0S8ZEm4ul3A5tzk1l+XpwRt1yyy07Ra+kegZ9SlIlMuPwww9vpc1Yav05CMP4LRAIBJohMDHCwHFw0MZOdc21gmZmMMklxzxmgi222CIPpys6M+600045KajaF8B+FQgDJ7i2wl7OnNIlqU/baw0rf9ttt+U+Gueee+6wopW/IwzyDdAWwENWyLe97W1Dd2wUoig19rRFZkUmhjb7V0gTzVmzjXZLvgn5HUyso8hdd92VkzskbxySNkNzf/qT1kio6TCN2FLrz3FgH3UGAksNgYkRBpkT04TfFmTnSkokb/+vfvWrPAOjwfHEE09cpiorOcer9kKwUvSbOtpKCq+c9n4BzAFWk222ni7fK8JQdgo1AcNm1VVXzUxsVZONzImjTp7ltnT5n5MjZ8c2vjBMSnXPxaA2vOc978mvNWpUCHKHoI0jvTjCkPrPPfpL5MEW7Pqz6r1biv05qK/jt0AgEBiOwMQIg1X/KNtBf+hDH8oHw0022SQffLfddtvlVvxCKesmBpoKv3UhDFam/C+sOqclbOLu3SRgG+OuYhJM2oU0wRQ/02QjN4OQzaT2l3/hnHPO6XrZXs4TPonsCKdsI4iWe2ybhfHBBx/MTQp9hEhKx8zE0XeG0yrCkPpTPzM7+bSN9/ve974ForUU+7PNMxNlA4FAYHkEJkYYDNajOsy9+tWvzgd+0QFVzn7jMkkwgSAM0gYLzZzG3w477JAP/qeeeupI1zdxpAll0KdJxuTsE1Gxih0l1HD5R6/9EQmaJGpq61cg2sG9Ihpt+05eBiTKvbc9t1helAYNji3SL7300pHqKtaLOJc1DFX9qh+ZotyLc2jskPBpyqj9yck5JBAIBCaHwMQIw6ghldTCT33qU/OBn8PbV7/61eVQGpfTI98FhGHttdduNNlWDdizciwRgabtUT6Vff7zn7/gYLoc+GM+wAfGhMc+31ZoZ9I9LMbPJoQh3XexP0VxVBHvtvh2Kd9Hf3bd96NLe+OcQCAQyLKJEQaZCIWAdRErfM6KJgz2YCFvEg6V9zNoElZpdddWTDgIQ9uVbdvrVJUXxcD5bt999636udWx008/PV+NUlOnCaTq06RSVmXD/Lzzzmt1vT4LC4t9whOe0Mkcw5TkPosOsm3alnbyvOeee9qcVln21ltvzTU3zAN9yCCTROrbRBK9PxtttFEeRbSU+7MP3KOOQGApIjAxwnDnnXdm9913XyeMjzrqqHzAP+mkk/LzP/nJT+b/yzpYjFzga0Dla6BMiZtMFqMkbnJBjpYIwyi+A11uXK4E+xLQbIzqcEktLyJCdEndijQRiWc+85m5s9zf//3fLzSbGeiMM85Y+H+SX2iTTHp8KrqIsFvPhMyYXUR477rrrpu99rWv7XL6cufY8IlpwDM1qgwiDMkfZZ111sn9F4rOm0u5P0fFPM4PBJYqAhMjDAb9Lg5f1113XT5ZbLfddsuQA4TAJFBOrnPTTTctFwWgnAnniiuu6NTPSIfBHXGYpBx88MGZvTD6WNkmj3/bMBcJQyIJzD1MOlURJu7ZyrQP578u+Ol7ZKcraWIO8wyM4nR79dVX589QH5kbkVz+OO5plDbBskwYUt8m0iecuEqWen9WYRLHAoFAYDACEyMMJiJ7SbQR4WA8y+VhKNtaU9QAx7zPfe5zy1TL/GGrZ2pXIXic9rqqo1XMlNJ1c6dlGtbiH+TGJNclM2X5MrQLaZdJYZXq9bfSSivl+QyaJKXaa6+98iRa5brH/T/NlLaOosJnSvEsFLVRXdptkuUw2IdIWf3sZz87J2KjEFGEIfXnKquskklS1STfSfRnH70YdQQCSwuBiREG5oiqhErzALe8BFVOluNqO03MH/7hH2Y0DH0IFThNhQRUF1xwQZ4mGcmiam8qiAaCMeqk2/R6qRwTimyJo0yqNtdi2hlVaJlMzrfffvuoVeXnf/vb3877uWl67qqLvvvd7841PxJEtZHozzZoRdlAIBCAwMQIQ0p+NMqGPtPqsr/6q7+qTH4zjvaI/V9//fUzEQmjTJKpbXA30Ut1PIpQxZss22qJRrmmidk1Rw3/k7uir6RTNFcvfvGLR7mtZc5Npg5EbpIS/TlJtONagcDiQGBihAFcNAxp34d5ge+BBx7I/RfKERnjan9K8FOVna/LNTl8yl1QNum0rYs2QrRGneNhyqaY1ON1n2k30brf0/FXvvKV+cQs1THnz65CW6NOKbX7EOYb/jB95gCQmluocJe9QbreU/RnV+TivEBg6SIwUcIgU18Te/ksdYeNp3jXT0IVL7mPyaivFMKcNYUi9rWPwQEHHJDb3av6p2/CILGQif6iiy6qulzjY+6dcyGfl74EmRF50MakM+jawoa33nrr3FfHTpmTkujPSSEd1wkEFgcCEyUMwhKnEZ7YtauQBLbhOk/zrvVWnSeRzQorrJAdccQRVT93OibJ0ag7LhYvjDiZxNvay4t1NP1ORS9qw2TaVZAEGgoRNX3KN77xjTwnSNeom6q20ABpK5PHKPdcVXfdsejPOmTieCAQCFQhMFHCoAGcB02O8yDi1oXkMUuMU/gZJI/5UdTvxTbSLtjhk0miT+E8aKfDeZCUcIlmq2953etel+/r0afmwrvx6Ec/ujd/iyb3HP3ZBKUoEwgEAhCYOGGgcqVlMEnOstAuMJ/U5SXos+177LFH7pg4akx+sU2cHPkc9J1s6pprrsnNJpOMGineV9PviNcaa6yRwXYcwlQl58H555/fa/VIDrOU5GSTkNSf8pf0+fz13fZx92ff7Y36AoHFiMDECQMQTTazPuFwzrzhhhtG3jBr2EMj1bWUvTfffPOwoo1/56DJFCGcsk8xaMtHIZum+u+4444+q++1Lpt0cSTkwzAuFT8fABkT+9ZA7b///nneiCb5FLqAxvdCtMsHPvCBzAZQiI98JbNM4vUn7Usx+2iXe49zAoFAoDsCUyEMBiaq/rR1cvfmj+dME4CJkdr5j//4j7Nrr712LBe6++6780GwL6fE1Mhjjjkm1y5IDjSKIAgiW8T6y4dgAk5RDEjOtHevrLs3PifyTuy88875ZGiHzq997Wt1xTsfl9CL38mZZ57ZuY6qE+EudHP11VfvRUPkefa+6UfOlbDRjyl1NLIgAdqs96cspSGBQCAwPQSmQhjcLpWuLa9nbVVj9SVGXYgbR7Q3vOEN+eD6mte8Jk981FdX0QLYQMumWn2ugH/2s5/lq1OpoNsKezxHOJoJzneJIIhYQBBMMtTlL3vZy/K8Dn4XHTFLInfFBhtskD33uc/N81jwX9h8883zyVFWxL7zgAiJXHHFFbNRyVkZQxou2Tl33HHH1hE6zFCf/exnc+3KpptuupAKnCYh9WMifvrzxhtvzI477ri8v2e9P8s4xf+BQCAwOQSmRhj4CFhh87i3adSsCJ8F2oWimpl9V9pdA/jFF188clPdu90Xhft13cGzrhEiC5pOYIgKYiTtMkfGtPKsmlhMMFahT3nKUzJ+KM41ESM9P/7xj+uaM9HjcJXyWJbM4r4ljv/FX/xFflx7b7nllt7aZQfTcTiXaqBsnLQAp512WqP2irBxf4nY6cdEDKo+kYe0ods89WcjMKJQIBAI9I7A1AiDO6F6lUXRpNWnt3lXlNhHqW6rkhxZtdE2WJG9/OUvH8lBzDbTJgLX6lNM5PZMUH8TsTo2kaStrKsmleIxhMHeDkmkml5ttdWy9dZbLxOVMW1xP+4FwasS5MymT+6JxqivnAdU5ZJj0e70LWz3cG+yF8pHPvKRgQSh2JeeP88xMpVkFvtTO/l0hAQCgcD0EZgqYXD7UiGbhJCGaWoarEhFbxS3AK7qHpO8nQA5/Vm1thUaFSu/uoyJbesrln/rW9+aawCa7upIPc+B0YRUnEyqviNKVbZ6piWOf0gD9f80iAMzEnODFfOll15ahKTyux1QaYwkterSh+VKmdVon2h3+hYTum21RbzAepgwcaUdSKv60TGTsJwPVX1V7M8+tGnD2lv1e7E/9avn8/DDD68qGscCgUBggghMnTC4V6SBpsFkOmmfBqpY3ujsuFZYTcSEbHIwQdl62cZaTYTm4ulPf3p+TnFl1+TcYWWYBbo44NmvARmom1wcNwGVV6PF9qRJBhH60pe+VPxp7N9pfph3TCpW403FZJlIhh0om0zGg+o+44wzcgfWps/CoLrKv3kn1lprrXyPkaKprFzO/+4j+Z5U9am+Fm0wKBeKNNrK0JpM2qdBf+60004Zv5lPfOIT+S1KkIXkiErp+72pwjCOBQKBQDUCM0EYNI15gk8DR8hJRU9wVENU2LTZ5tvG1Asr5MluYLVSHTSYWTVts802+cq2L1V4sUsPO+ywPKJj2IRSPCd9t5ujAblqgnHc/g9Vq1Hnc97ce++983NhaLLibe9+xy36jrbHdW3WpZ1tsdWHkmYhW7Q+CGQXQXppLUbZeXLQdWlvPGdN1PPaUHZuTH2LMKSJuHw9Gr4TTzxxwUmS42jqT89VW2zL9Q/7v9iftH1FufLKK3Pi6v4n8WwVrx3fA4FA4L8QmBnCoDkmXCskan95GsalbUBODMAGJeF2Bsqjjz46Hxzb5ocwkNI2WOEKWfvBD35Q+WzJuGilPo4tvlN439lnn1157UEH3bswTA6YVaYJba7DRJ4Kqvg0OUkCJEQUydhoo43yaJNB1+76G18Bq03XFbFBu+IY7c2WW27ZetL3PCALVrVMK133O/nwhz+c9/G4UokL7zXhn3feeZXQIW/InzLIS5kE6t+jjjqq8lzRMRJdpWdAODG/otSfyIr+HodU9WfVdVwfgbFBW5CGKoTiWCAwXgRmijCkW2Vbpwo1ocvbT03Zh5gcOTaKgjBAFv0VrCyFElqx1q2mB7VBfWuuuebCSrU4oFH7G4jPOuusQVV0/u2QQw7ppF1gPnjOc56Tt9n2zyaatBJNnxdeeOFy7TIx7bfffnnZRBaosK2yCRK28cYb5/XtsMMOyzhKLldZiwOIAXLGsZNWQVbEolbHCtWk33Urb34s8k2YaJkr2hJWz9A4s0uCCrlzj2VSwy9j5ZVXXvDL8HvqG32J+G222WbLkamieS2RBaaltKcJM5rnWl2ej0n2Z9WjwaEVadhll11mwlG6qo1xLBBYrAjMJGFIYFt5WN0iDgZAq/e2gziSgBjIbEdzYWIX416lelbOyooHfRcxYVqRGZxNmN/5znfya6vTDofFya1L/VXn0C6YrGXtayrFdkoQpJ2EaSGtSn3uuuuuy1VpW2faCPeYSIWykiQVxb2axDbccMO8HLX/KaeckpudimSqeE7Vd+Yp3v/8DFzHteWYqMt7wDRkYrvqqquqqht6TLs5+3GI5BjYNgPnxz/+8XxyZV4bh8AOFjQIfG4GRX4ceuihOWaIwFOf+tTlTApW7I6nPk/96VMuEgQNWfD/s571rKn0ZxWGCLgQYM6gtEMhgUAgMBkEZpowJAhoGJgQqPORB59WsVaEnMwMmgZPA5x8+N/73vdyR0YrTuURBZoKZYZNVkkbcM4556TLt/40Way//vr5RE5j0VVr0eTC7NUiHSQsaiIiUuo0ITQHTAwmXCvlYrRFlVYhTTDKszHXiWtqp/wQzvHJdHDwwQfnIaAmeY5ttBnMKsxDHN+EbCpvxcvpUpmkxai7luO0H7QQ99xzz6BiA3/zLNmHwvXbJO1COPT9ODfokvtBvgV9JOdEXW4J5BohQO5EISVBjHfffff83opaiNSfyAhNnOcK9voX4U0y6f5M1y1+8nXSx56Lps9+8fz4HggEAu0RmAvCULwtgyCS8O1vfzvXPhi8OK4hBsnUQNUu8oE/hMF1GEko1u+7uHqDLG1EV7HyEeJmEF533XXHsokVTQn1dJPQwKKvhex/xcRGxXu8/vrr84E4aR38lnwVilqFNLn4NKk0yaCoH5iaRBSwQ9sp0eQk8ZF6rBppENZZZ508XwLTgvwDReJSbGvddxMIJ0gT6qjmLHiYOLVxmGNrag+83I9ncxyC/MLINWS1HIQ9jdBFF12UNyNpT/gjVGkVUl8eeOCBOXFM/e0Zq/J9mFR/1mHovUeYRCo1IZJ19cTxQCAQaIbA3BGGZrc1WikDoYgGEwWzSBcRpmn1dvzxx2fPe97zcrvrKF74VW3g4CYygNllkLSJ5lBP2vQI2Sr7KphUin/U3ezasybI1EorrZSv9E2Uo4gJOTm28gMokqm6epXjkNmnFJ0zaTE40lr907wME21OfiXOKfZh+buVeyILftPHF1xwwbBLTOV3iwPmI+9rlwihqTQ6LhoIzCkCQRhqOo6zl8l4++23b+17YLKidk8+ALzNi174fcS28+ewsh8UClp0aGP31q6mYntlq+rixFGeWPyPFDVJltT0un2Wk0/ASvq9731vL9XSOMmHwGeEr8ogokbbBR9t6EPUVzQlJR8cph6amUF5FYRD8qOp6r/yMWSiSvvABDCrwt9CYiskra2P06zeU7QrEJhFBIIwDOgVKmWTcpuNnKwC006DZcc8g7qdE03CVqyDJpwBzcp/svIXRlhXhwGeo1rXjJTOZx5w/+VJpfi/yYV/w6wKoqaNfFP6kLTK56nPLMBPpk6E2TKNjKLhgG1KMEX1fu+99y5zOe3ZZJNNcn+PQdE9yCKtRBUZKPZnnfahGFG0TANm5B8kHEmHRfm9m5EmRjMCgblHIAjDkC608Y9BtukK681vfnNmu+Ck1i9XT9tgsydlTDhFZ7Ry2br/TRom8mSbLpZjs08TDO0IJ9CuYmUq1LTKMc4kQ1XNeXGWxWTNaZEzZ59ZGOVaSNjYY6RqZatvTcBdt0cXZSLtNuI2KE0zB03OjUxDg8gJO39KslUkCcO+e1bnQTi50qQg7KP6rszD/UYbA4FJIxCEYQjiBmAe7+L+DcyDxABvghg0uKfzTThp22Xahjae3vvss08eeVHesEuMetFBL11rlE/3b5WONJSJA8IwyCQyynX7PNdkLqxTiGcbnIe1ATb6mjqctqdq0yubXa299tqtHG+Fkkp37VkSqdHEj0bkEBJpa/JhIhxR3/kbRhb8zml3XoQzNJLFGbRqE7l5uY9oZyAwiwgEYWjQK9TCQtdEPSTbcfk0q37OVxwRm4oJh+c9G7RJpZyMp6oe0Q00HpIWJaGKTjtptgkBTOcP+zz33HPzSdH9FX0aEIim+28Mu8a4f+f0JzpAhsi+hbq+GIL5k5/8ZOESrqu/PvrRjy4cq/vC2dbzwOlw1VVXzT772c/WFa08bnMwfVJFXNIJt956a04UaKGkwx5GGJAKSZLmSYRgS2LFBNOEbM3TvUVbA4FpIhCEoSH6citwdhP1UBarVisaJoYuntryRqQMg7QNg0LETEx8E5J2QdicwZHamqNi35Lum5Mf88aLXvSix078LQAAIABJREFUfMKx+qX6nSeRulq7x6UV0Rc0PMlvBCEkNEKSQNX5mygjsZh02sm/ZdAzMAjzvfbaKyeu8iiUhaOsyBEEAPF997vfPdSnQUilvp83QeCRfKm+54XUzhvG0d6lh0AQhhZ9blMlKzi5AYpCq2BVSB3aVZK2QT0SPUk2VRYrJ6vVyy67LM8vQatghUirMI6VVJVmBVGRNtjEO0pyq/K9Tep/+QQ4LDbR5nRpU4pMsTKX7+Jb3/pW7qho4v3gBz+4XJWIgQmZOcFmTzz+RxGE1cqaGaGYv8J1hPdKBV7M20A7lUigZ6uscfC8e97mURAk75LokkltaDePOEWbA4GmCARhaIrU78q97nWvyx3okjPh5Zdfnk+efa3urYw4EhqoEYLi4L7bbrvlgx8nOk5uHLyuvvrqlnfQrDgCw45OcyGTZln4a8zjIFzMsTHOlaeU5rROKQRT+KP+Kk7iSKHkUpwK+8zRIWEZvwrPapJ99903J7UITJUgu5477S0Th0lvWV7Vvq7H+B3xX7GrbHpnu9YV5wUCSx2BIAwtnwAOdFYsshSKhJBpTmRE32ILYj4D1Kqf+9zn8mRBVq1pbwZahXE6dZ1++un5xFGl6ej7XiddH9yYCEQ51Pmk9NGmYkRMyqEg6obmJvmcSG1sJdy3yFCJdNJq+KMR+tSnPlV7mbQHhmfNZmZIg/NpHAaFa9ZWOEM/8DHhI6TPkamQQCAQ6IZAEIYOuEnNy2FMqJ68CoNs0x2qXzjF6mjHHXfMB3srfYRBMqlbbrllocw4vtx11125ityqd7GKuH2r6aqUx33fs4gYWR9N2nwU5AsQddMkmmaUtjB1mPhdc5AfAtJE07HnnnsuXI6my//auRiEIyofI+9PlX/HYrjHuIdAYNwIBGHoiLAEMVZfTfZx6HiJ/DSkgd3ZtUxwXWP6m7ZhlAyXTa8xK+VEmpjEaXPGLdThTBT60QRuB85xi2eHvwb/iEFZPj/84Q/nbUJsyjLrCZvK7R30v1TnEmlxTK3bS2XQ+fFbILDUEQjC0OEJOO+88/KJhkpb+mRRDuOQZJZg4zbIFWPzDX59S7Lv2xBqHE6Ufbe3j/o4rAprrUu0Neo1iqGSHPD4oSQfAeaIcdnVmUPk+fDcUMVzbKzShHGG1N8HHXTQqLc6F+czBzHr0ZyMq8/nAohoZCDQAYEgDC1BE/7GHHHMMcfk4Y880q1a+kwIxJlQ1j6rX4l/2JKTcyMSITSOA50wwT7FZkZWv5IALRWRWtmmTJzi+rbV24K9mArcM8KJ1WQlGRj1uBBMmT8Riz6FXw3tgqgLzyzSWeVrY58NmqtxEZc+76mvuvQzHyRmPubFkEAgEGiGQBCGZjjlpTg8svXa5CblQRDqyPFRIpxRJYVWqk/iHlt2m1iQkhTT7xq0C32HVNprgY/E2WefPeptzN35okAQsFe+8pXL4Nz1RoQ2plBJK/vyxlAwNplL6pR2wWTiktq4D+HAyPRRTB3+sY99LD9W9JvwPPPDOeywwwY6RPbRplmrA3GTiM39I3YhgUAgMByBIAzDMVoosfvuu+cDTDmc0PbCBugm2fwWKit9YdZg4qCuRj6E3wnNo2UQwlglN9xww8JeA1dddVVVkUbH2KlNmCIvlqrYApx2ZVRHTySPtkJWyTrNAdOA6Jf9998/h5sDZtoCHdGoMh007Rdhk3J5VBFYx2gTPFfkhBNOyMtKay1Mt0hKm15vnst5x5JZcVx5OeYZn2h7IFBGIAhDGZGa/88666zcNFAXoZC2Ga6Lc6+pNh+kU3poWycXdz9kluAoN2ggTyF6CEuXtNBU4Tz42df7VsnX3fOsHqeeZ/65+eabWzcxaX0QPL4Jg5wMVW71T6OTnpcUgpnShNspta3YpTGF/FaRDtegHdPXwguZKZCk5FOBNC01QRq22mqr3DQkOigkEAgE6hEIwlCPzcIvVh8y9bHx1wlbOLuoiIZicp668o4L76IWNWCXN6BKOx1KN9xE7B/AeY2Ktah2HnYuX4xk6x5Wdin8LpRQ/os2jqxFv5Irr7yyEUxCGSUU2nXXXZcp75kwgSEezE5Nd11EKjnF8o8oa8CKFxA5QZvADwbJdB2fIinkX1iKglwh57RCX/ziF5ciBHHPgUAjBIIwDIHJyrFpkh8JeGTY22+//QbWmjznrfDqtrjebrvtcjX1IO1C+SIml2JCoGGObDfeeGO+ohb1EfJfCLBtS/JjD4Jh+4IgFVtvvXU+6drjo20iLdlBTdjJRFDsgyIJaZJFlHmBtmDYNuy2LJc2Gkko/3l2x5nIqnh/s/YdaeAv5J2UvCokEAgElkcgCMPymCwcMVlLnGRzp6ZphGXYMwnUxdlzgBPWZXCnVahSHUvFq44uqnGNl52R2jltgrRwQ4UvVOYSCJVXuIUiS/YrR1bYIQFVUjQf2Ais6wTj+fIsMGFUSdnMcd9991UVyxN5MW/Y62SQiJiw9XPK4FgmDP6/7bbbBlWxqH/Tr8JeRUG13Sl0UQMTNxcI/A6BIAwDHgUOcMwFf/mXfzmg1PI/HX744blzmZ0ekxiM1Me0YfVatapMZa1amTdGEWYRhMTkQFtRnGyYT+w0yTmP3TtkeQRSauVyYi59Kow2Eb5Rw2mRQhP1oBTcIlhWW221SkdKGRkRPw65gyQlZ0IsqoiCY+4pOWIOqmsx/0bDgihyDi1vMreY7zvuLRBogkAQhhqU2DINoPZUaCvIgTA5gzwzgTj45AWPNAxS+7quwbuvFQ5HtuS1b/KzqhVGR/UaiWsG9+w73vGO/BmAIfMEAoZAytvQVwikFvBj8bwMkhSq6ZlE9vSdpEt2uGTWGuQ3wwxh6+w6olA8LqQXoVzK4v3ce++9c7+OvnOdLGVc497nH4G5JgxWdzz7qW6ZDGQnFDVg8Gxj+y93o7zzVLdUxV3rsaLnWGYw51BGY5A84svXK/4vYsGE0Kekyc7q0gTD3FHnGAnTM844o8/LV9YFVz4fJmORJ2z2wkSp903GVaaayorGeJCvCe0M274wyEGhkqM0Q2RMUxNUUcPBwVam0aqUzqk9+jO9D0I2kYNBWga/821pK/PQn23uyf2IfPLuDtq0q02dUTYQmHcE5oYweIERA17k1Pmcu8S81/1R8RqIbdsrz4BVfxMxSfBSl4WvrRNbsX4DO/u2AZgz1SCtQjrP5Kl8V5t4qqfukwc/E4VVMk2Hey3Lsccem7dBop8+Bf5UvFbp7PbsxO617s+kBr999tknu/TSS0fqi673of/32muvvI1Iwzh3OkROh4XQpvuApYgI2Il4GPS8IAnJXCExlbBLn86t8mWgwRApMkzmsT+H3VP5d2OOyBHP4ig5Vsr1xv+BwLwiMPOEwerYCkq6YuRAiCOnNOFhtAtWookMmJSpU2Wwo3EwwEuKgzz443A4jAQYYPkZCGvsItTE6kiqY6uUpvVRTVN3j0OsNE1IVqVIgfa5lmyDSRCxNImw4fahdrfJDxOIcE+TlAnLvgUXXHBBrl0QAkgrREQo6Ddki8bhuOOOyzbddNN8lWelh3gJH52EpCgFE7L8DAgO35RxCbMV7JtERDBbweMtb3nLwCgN/aef4f7Wt74112Ik7YFkYFIjp9+VSX/u1XtXJfPan1X30uQY0uD5RRrqtHJN6hm1DNz1j0RTw4TTtLLGoZBAoE8EZpYwGLAMeCZ6CVU4d5mMuwgiQctgIkI6kIGqzZWs1AwM5557bpfLZJLtmBANuGkFbxW/5ZZbDtVYcKz0kmvfOMQmSzIA0rgQWEg5jRhoK0KBTNA+aIdPaviuTpFInQgMeKrnxBNP7LxCRwAN1ltssUU+6Wn3uHbtrMuDcNlll+XXltVzXAIvfi+JAFddx3PMXPaKV7xiQUOE3CBksnX6Tjx3/BYSIWDyEC5aFETt4IMPzu9LP+l3f8qmvUtS+Xntz9T+UT+RbBgV022PWmeb84MwtEEryo4LgZkjDAY6mgEmB0yZPwGW35eYfDiMmZhtPJNICI2FpDevfe1rW1+q6CNgRezlLop7sFI1yNfdiwx8/BfGIZdffnk+CZRXr0jC29/+9nxSce3ipJFIQ1s84MlZkFbFBGVfgybmmKb3TQuy00475fez/fbbt0qwNOgaJmmpnDmDIk5VmRZNrjIxjmvDIpOyCb5uUqI983wx1SStTLqncgjmySefvKAtSkQAYazKzYGsCsNN/Y8spn6f1/5MuPT5acWOTA0LX+3zmqmuNoQhnROfgUDfCMwUYTDxWv0bwOQJqJtc+wCBOQMhcS1qcV7qBuKmmfVSG6qiENJvxU8ExUBc5VB466235iu7YUl3ivU1/c7kwPO9aqfCVIdVadIspMklfRogy6GF6bzyp2sJGTXp0loMWimXz237P6wQEpOg1f8o0nQvBxN2ek7GlUZbWCP/GWSuLOzpsB1EWGjkTP40R6kP0ycyIlqnqm7EIK2i9bnsn7RQ89ifZdz6/N9zDR+p4icpQRgmiXZcqw6BmSEMTAQmb8ll0qq/rtF9HUdIvIhi4dnH2ZGbSjHPwbbbbjt07wD1WvUZtJGMolg1yr3QtyBgsvrZYrku6sCkTsWfVNdpcil++m2YT4e8BVbfrtUmrfIo9+yeDj300HwA91nlxDmo/tSHVtaIQJMoFpqosklg0DXa/oa8muzPOeecZU5NJhHaomEizXFdfyKGBx54YG0V3gG+LvofaZin/qy9qZ5/OPXUU/Nn7swzz+y55vrq2hCGKh8Gvj/6VJtpz2g0mU6lQefkWuXbZXzkayTCy7vteRD1RcNStZhDViW+stMuHxv5QTjzlsc7d1lsj8WUMdA1PHshs4vATBAGdlkPG/t61YM4bvg42lmxMlU0ub6ytBGDMilWtVndPNRljhQbT0QOeJGrVOBVdbQ5xsNf2N0g7/4q1XWRLPhukmFSqRpUtId/gTL77rtvLTFp0+62ZfkVMIHsvPPOja9vjw4reX1Yt6tkXTuS0+FJJ51UV2Sk45wZheQm/xHbLxvcOS4OE6Gp5f6r+t9EUCeylHLApKmoI5p15/ZxvEt/9nHdNnVwhKVpGLS/TJv6hpXtizCY0L0r5WfChF0UY5XomnK59H85wRcinX4rfxobjO9FSYTBhnl+T+dYvITMLgJTJwzs+xjmpFaldV3BJkzDMSiZEXOFLYINpuznVfbguvrTcbZme1PQSlgRi1QQ69+32B/CgDYo8QynUiuB9LIO+vRSV+Wl4KMAj6OOOqoR2er7PlN9HFaZJ5CGQZoG5FQmP/fqfrr0oWum3UtT1EFqRx+fyCQzEjLnebFik5tjWEIlz6fIB/0xqC/9RgNRtaVzsT9hNS1p2p/Tap/rfuhDH8qxPv7448fejL4Ig74/4IADcs0qDaTV/9Oe9rT8eWGCSnLJJZfkx/jzeMYtFkQxmfjTXiSIcxLPCudumkY5aDyrxnbmTmY0411REmHQnte//vV5tFafvk7Fa8X3/hCYKmEwGHoAByWe6e9Wh9eENNAeeDnLwmzhxbJib2rTL9eR/pcfwkRNFeiFKW5pncqM8kmtbEVqJ8pBQj1pgtEGavki03es/GciOu200xaq5HvhPgb5RywUnsAXk4zVE/NEWayYaEKoSWlL+kjGIxug50FkRd/CwY72wyAs+uFHP/rR0EsI4dVniGK578r/62s4JE2XyuepP4eCMaECUm57L+QXGaf0RRjkmCkLE4Pnoxg2KsTbmFD13FlUKV++Z2ZLGgPPVXksoVUtSiIMInmaaHWL58b36SEwNcJA1Sm3Qh+x/n3CxzxB4+GTcG5LO0B6GdLxUa9JDe6l88L0KaJA1lhjjdxG2dTpkN3cSoCakX1eu+oIhMERqXKOUL5ddtllpl546mwTZtHWj5CKAtF2fZlU/aPiboUmc6YVF3+IPkU/Wplpc5UNuOpaMmaKUKFeTgM2TYK+1KflP79tvvnmeRTLPPVn1b1P8xj/Eni/7W1vG1sz+iIMtFZloUHwbBSjP1LeFM+OP8+h96pIRosb1xnLB2krJT4rSiIMorRC5geBqREG6i8q0VlUQ3k5mSeuuuqqfHUn3LKPFWnxsZA4x0vK6chg3ZewUdIajFKn+2fSUFdx4EiTkGNp8yoT26wJsxGVvvtIoZKcteTz6FvkBzEYpmyKfdWfdj2lMWEfbiOIDOLHPCMqx46rnjPPm8G/6BBpAjjiiCPy/SzsOTLL/Tlts+WgPmDK8X5wKB3HirkvwlDlqJkm76KjLU1cmWCW/xfenETIuN9pxhB0jusJB89VHWGoak+qMz5nD4GpEAYDIFNEXyu9vmH1oPM0Pvroo3N7d52z3yjXteMhG7qXKa3yRqnPucmubqXZp8gPQPVqRcEZz8Bgoqmygfd53aZ1SdvLL4GJi9BerbXWWrlHd0pM1VTb0vSaxXLwNhEXV2jF39t+NzkwRyBsVLnCKduI0D/aibIPgrBXOR7YjPnRFCcAK8hhkTBt2jBK2br+9L7MstDSIWOSpA3yo+lyD5MmDHyrmDWbhg973yxUyoI8eLaCMJSRmc//J04YDNzUV16AWRb+DEwTVRkhR223LHomXPH/POBNaqOq5kzeVqPj9to2gFitsnH27XvRBVek02Bkb4Wi2BIaxoOiAYrlR/1+wgkn5JMFc80owrFMfgn5D2gKPvjBD+aq3qZ+EvoHHk2eJ+Y1e4Z4/lZZZZWZeCeH9SfNyyyL9nkP99tvv15Jw6QJA2KJUMrb4Z48K4g4jZpIHO8bn5cknBq9b7QUnkF/IpFkLlVPEIaE1Hx/TpwwpB0Kx7ni66tL7D0hL0SfQnthMnj1q1+9UC0nSiy8q8d9iryQZ37cJh42ULs2ljMNLtzMhL/wUIedviqL3BqTiuvWrwZR5qtRzEEcYRGypH7nbS5KwiZcTQRRoJ1I2pZh50R/DkOo/e8mSjkLaIj6GucSYShqhcrf02JhWB6G8h1VmSQ8z5x6y9co/u+8JKKxir+l78IkEeAgDAmp+f6cKGGgpqNdSIPhrEPHnkvL0KdJQnpmTJxmoShyJpgoBuVMKJZP373YbNTF3A7pt74/rXj5LwyLvuj7unX1mRSRFwNzlSB7sBbhMgmxOuZwKtFNl/wFYvuRn+JArN1U9Eweg0J+lRPxILSUSaKJRH82QalbGc8czQ0/kj5Iw6QJQ7prTsQchkUDcWq0L4zxhpa0fF+cP/kKuW+RPUwz3lGkPQhDQnS+PydKGMTl8l3oMpg2hZnKjFpM+FDy2i0PwE3rUo5zZtXqtU0dqazJnUe9QaQsVNHPfvaz862f2+BjcuBsxUlz3EJ97Vpl2/i4r1tXPx8TEykfizphOimbK+rK9nFctkiTdlVo56D6EWn276rJHtH23BS1UlV12VXRQN00YiP6swrF/o5ZbMheKLpqWA6N/q4aNQUC40NgooRBfoBBefD7uM2UVyCpxHyOQhiSg2YfLzy2bgVZl4KaU5rJRqa/JiJxiknGynQSIn01b+hZEDZVjn3DVPVssYjjOHxR6nDgMe+5kzGxiYh1N9HLAopUVgmVL21Jnd+IBFRWdh/4wAeqTq88Fv1ZCUuvB/m0eKc5bFbt4dHrxaKyQGDMCEyMMLCt0y7QMoxTNtxww+yggw7K1dDyCoxKGPpqt1WirGl16vOEicnGxCCkc5DAUeicgahukhl0ftvfmGeQk1E3emp73brykkUhAsNMOMwEyk263dpnAh/mA4OI8kjnHMZRbJAwddTtOSIt99Of/vTG2rvoz0FI9/sb7ZEwX46Bk9onp987iNoCgf9CYGKEgR8AFV0bdfuonYQ4jEoYtEE0g9X/KEL9S33eZIMjyYU4rtV5xiMfTC72QmjrX4FodNGWcMhEZNrmBBgFs7pzORVyKhu0iVLxXBMyr/VJCvuuDX5M4oO0G9L0Uls3MXsh3J5nGS2T0E7Yg4WpqJipL/1e9xn9WYfMeI4LWeWjhPDxHQkJBOYRgYkRBo6ObeP2TYzbbLNNPlEJ5SlKWmFLMGIr7CrpizBYxbZte7E9tBRrrrlmniugeLzuu1VIyiBYNbhIjiJ0q0vcPPMFByaTLXUpjJuIrY/dwyyItiMMTaMRRA7IdzFp4evBGVV656rolUsvvTR/tsXvNxUOaJJmJZGkChYmozbPaPRnQnByn1/96lfz1OQycc5igqzJIRFXmlcEJkYYrKCGeXlXgWgFbSVtkkvRFQbfLbbYIvcHsNtjnfRFGNjLre66qv5NDLQLVoJNhVe0CIDyKvq2227L6zr33HObVrVMueSJz7xgtcrnQ0pbWpRBIkSR89a0hVMrE0Ob/SukibYCn6R2K+EkuyRyh+QVBd4S49i0q40ImaPpSQSaiUs/er58Ssgk1HSYRiz6sw3q/ZU1Bgq9pfViLgsJBOYJgYkRBgNdmvDbAuRcg65VN8ch3vEGxxNPPHFgVX0RhhRe2dT7vNgo5MbqVkxzW7n22mvzycHOcYQ5wGBTFWXRtG6EwYQLv/SX/hfvb2KrmmxkcrMqnbZwcuTs2MYXxuTsXpuYg8Zxf8idST6lF0eCTexIb5XmYVgbTPb8YWiHmDzUnfrSJ3Lk0xbs+rPqvYv+HIby+H73HNqgSVKkpvkyxteaqDkQaI7AxAgDx5+uWwm7HVvJGgQ32WSTfIDkQDRsxd8XYbAy5X8xzCmtCnZe+lZ/VZNwVfnyMeF5JkiRFe7dJGAb465SRRiqJhtOeEL8ktpf/oVirvmu1x/lPOGTsEQY2wii5R5HzcLY5prlstIx80vxHDCz2fmU5qqL0NbBgSbBfSWCUOxH3xEJmiSfL3jBC/J9NRLRiv7sgnx/59A2clqWo2CQj0t/V4yaAoHREZgYYTBYj+owJw7dQOhFa+Ls1xdhsApEGEQusDc3/aMKFy5nJdn0nHI5URM0FEKzDP6nnnpq57rUbYWeNArlCab4v0nGpOQTUXFOX3sldH1sqd+ZadquyuS4cG+IRhnfSf0vSoMGh7e8fjzllFNGags7uD7hu9C0P4X0IhfINo0dEj5NGbU/ZVScZ+EbRdMk82txm/F5vqdo++JGYGKEYdSQSg5k1HgGfk5eHIiGSV+EgSYDYZDitDipzuN32DWZYNK9IQzpuw2z6hxMh/XFqL9bVZvwrKrbioiFdA+L8bNrf4riaEK82+LdpHwf/Tks9LhJO6Zdhk8OIsmhWMRLSCAwywhMjDDIRNj1hbDCl7HPhMEebLUtRemw/Qz6IgwmHIShzcpW6KI2CpEcRey9Ia2qMEr3f/75549SXZ7kadgEgySUVdkwt+X1tES2RqvpLuYYpiREYZCD7LjviymCdkTeDJob2253FQSWiYH/AnNVk/50Tc/PRhttlNm7JPqzK/r9n4eEP/OZz8zTiicTYP9XiRoDgdERmBhhuPPOO7P77ruvU4t5khvwTzrppPx8+zH4X9bBQX4MfREGjpYIQ5vJyqBs0q1yOGsKAtIhWQ/NBodLKvWm2pW6awzyYdBeuBq8OMsV80AwA51xxhl11Y71OG0SElOVNrnJhQ3I7ktmzGkIp1lOhpKKeZZs+MQ04JnqIswoJn+7BaoHGXB/5b/k2yC/P4JSTOkd/dkF+fGdw1zrGeE71HWcHF/rouZA4L8QmBhhMOgLFWwr1113XT5ZbLfddsuQA+mTDZBswUXZfffdlxs4iwPplVdeWSze6LsVqsG9aWpXEz3b5Bvf+MZG9dcVOvjgg/OkPvfcc09ehKbFjpQm9C4OmCopE4ZEEph7jjzyyNpIAivTtvsj1N1X2+P6XvhnlygV10oJj0Zxum3b5lQeoRWOyskwTQSO8cdxT23b5BmgvvacE05zxec7aRsS6fu7v/u71JRlPqM/l4FjJv5B6ES/0ByNstCYiZuJRixKBCZGGIQS1e2hUIesl4ZneVVGQ2YCznhWV8XMd+MgDEwpbTZ3YjbhVJYmiLr7G3TcvhMmAjsVFsWgwpGya04EhCFNMCuttFKez6BJwh+7afLun7TQTGnvKCp8phQq+EHaqHHdF62IZ/SWW25Z5hJi8G02ZuJuSkRVcMEFF+Saq0S+7QiY+nOVVVbJJKlqku8k+nOZ7piZf0TO0AiJoqkjezPT2GjIkkNgYoTB5Cm0ch6F/bmJk6V7E4KJ4BxyyCGdb9VkwJuehqFKbr/99nwS6hLmaMKRJhnJaprlURsQDQRj0pOuCBPZEttMqmXMTKpMO5MWSbaYBWBXJULr9HNTTZRni+bK/SR597vfnd+bJFBtwjSjPxOCs/fJV4qPCgI4aCfW2Wt5tGixIzAxwpCSHwlxmzexQ2BTFaFJnJ9BW1VzwkRa6PXXXz8TkTBokpS0ijlhUnZ5myhZybbVEqX76vKJGLnmqOF/cldMOukUvwkES5KlQSTr6quvzk1uiNwwoWXxbJU1V96plLFzWB3p93nvz8MPPzzdyqL85NBN+yRRm4iSKqH1bEMSq+qIY4FAGwQmRhg0ioZhWmF5bUAplrWXA/+FYREZzjHZWw0fdthhxSpafU8JfoYRlLTPBtXlJBK/uJ5ojTrHw5RNManH6z5pX+p+Kx631bM9E6you2yWlUCnrVGv1f6kBNFD+NZYY41GjrJScyMCg/YGSaSgbqI888wzK8lE3T3Pe39y+vR8IFGj5nepw2jaxy2yNt9889z/pUzULRRolY444ohpNzOuv4QQmChhoF5rYi+fJfwlV/FyDlolpvamFWDX0CjJfUQDpBTCqd66TzH0JuDtt9++Ufvq6ml63M6K7O5V0jdh4ANiopcpcxQR7WH1zedlUsLkw2ciOasOuy5HRrsY6su6BD4ihOxqmTI1lutM5ory3iPlcsX/57U/OZBKly7U1qTJR0TYtcRiXd+9Ii6z9B1RZJajrbr77rvzphlDhdMaK2yhXvfMzNJ9RFsWBwITJQzCEtuGJ04TZiTB5kFNnI9oF4SqvfWtb+3UZGrHLitjrVcFAAAgAElEQVQGToE849/znvd0um6bkxAnkzhMxi1U9KI2TKZdBUmgoRBRMykRTmsgb5tUCPnTVlEw5Xum3bL52rCkVXJ0MFM1eV7hsRj6kwZQJNUee+yR+4PQPIgcQRQXi/1fdJBdSjmAc4KWzyOF0vKRabuB2aTehbjO4kNgooQBfJwH62xyswaviAQheVVbTJfbevrpp+esvxjrXi5T9z/VY/KY76J+P+2003LnuknslcB5kF1+HsQq1MA6qYmDrwvNyDve8Y5O8Hg3rBjL/hYmBNu4D8sDkkIuX/e61zW+/mLqT6Yg5EGyNFoI5NZ7hTxMa+Oxxh0xpKAx6EUvelFOCBNZcH/+mLPCl2EIgPFzLwhMnDBQn9EymCRnWWgXqP6aDDTJvtzVnmh1ROXY1VFSW03iHKTGbc+95ppr8hV006iRafUx4sWHALaTEH4k4uetBMsagjbXR3JoKCQnI0J6qZ/rIi3Kddu/xCo7qa/Lv5f/T/150003dX7+ynWO4/+2/akPOAW+6U1vyt+LInkY5Csyjrb3UaeIGj5EKRlXIgs+aZWOOeaYPi6TZ7OFz2c/+9ncNMo86jsn2SZ+XL00IiqZWQQmThggYbKZ9QmHc+YNN9zQaAJmDjCo19mXB/W+nA0G+JtvvnlQsaG/eZmlombLHWXCGnQhg7ZBmKMl9egdd9wxqPhUf7NJl5WX1eW48Eg3qH6puwf5IKSyTT7333//3AdCPgXZSiXVaqLlUjfyaBt4TqN1wuGRE90HPvCBzAZQTFqe31km8fqT9qWYfbTu/srH3W8iD8yGJlnmH2TCcZjNstCQWVBUkYVEHLr6MtD20o5KWZ60MqnOqk9llEVgm+T7mGVco23tEZgKYTAwUfXPqoOSwdlAQrUrSdK1115biyztgpeo7ZbLKrQK9KKb1PqQVN8wW3fTayEIIlvE+nO8MgGnQQTJmfbulXX3wYbPQXDnnXfOJ0Mx7V/72tfqio98nN/KsCiHNheBuwgABJCJg19EG7GLo37io0A8z943/ci5EjZ+TxMQskDNPev9ecIJJ7SBobIs8mAF7Z0TbgsHRG9WyYNnmdNu6qv0/pU//V42ZVUCkGU5MTz77LPz8G31ICMSwYm0sXARWSQXhOfQn+9ICy2U9PCylDKRORc5FUpuHAxZ/AhMhTCAVfQBm/usrWoMKNRvBhWOaOyhXgwvVJWd0L4ABuCq3wY9PuPSCBj0TeZdNlriJGiScU+c7xJBMGmpEw7U5dTu7PR+Fx0xS8KOzenNQOa7gU5omgHVpND3wEZlC5MLL7ywVxhouODr2RIB0Ub4OsgWaCJM22DrO5qE1I/+T/154403Zscdd9xc9GcbHJqUtcJGHpiv4CEs2jvPF2KSkTV1bT3rrLNy7c8wwqDtnKaNWXXCeVL+FqYNz5UQbkSyi4bFOMm0rA51IRDvete7Oqdvr2tzHJ8tBKZGGDykVsQ87tsOiOOEkM8C7UJRBYxZy7pGk3DxxRcvXB7Zwc6l420j7l1ImJVD1x08B12PZkRbh/lEUKUjRsJB+UB48Q08VROL41ah/CT4oTjXRGwVPG6/iUH3WvwNrlIey56YUif73XGrdMe1t5ymuVhHm+8pU2NdRs42dZXLqhve/ji1NhE+NO5PXyExPgf9IQ9pQ7d56s8mWHQpk8hD2p/DxMoHBnmw0p6WSCPuHfVO67O6vuXLgPhVCS0pAinCQpk+c7eoywLC+8XUc/3111c1IY4tAgSmRhhg5yXkWW7SmgU2zz6KcVexdKs2Kw8vKxueyRij9gJWlR/0bLAZWjG41jgEkbFBEQ/4QQOdhEEmFANN3SBUnHBMXsI4k9Cq2F1vvfXW67wZVqqrj0/3414QvCpBzqhT3RON0Sjx6wbxhPE4CC9CaSMi/jFwb6Ix+shHPjKQIBT70vPnOUamksxbf6Z2j+PTWGCSZhrybthaPZEHmqtpiOfMgmXVVVfN2+S5KPap78xLTAhJhHvTrPlNf5ezhKZyfXxaOMAIXj67bhbXR1uijvEgMFXC4JY80CYhpGEcA29T2KxIqdiGhUWa5O0EiCh4Odv6H9CoWMHXZUxs2t5h5b7xjW/kKkq5DOqEep4DY9XAUx6IDAJsnGVhWuJIhjRMS9NAPWpQtPq69NJLy01c7n8rRhojk0Bb/wCVmWR32mmnXEM0TIuz3MUbHPjSl76UD7pWaq712te+Nlcjw3qYcHpFmsr9V/wfWbASrNrxtNifRW3asOv2+Xvb/uzz2lV13XvvvcuQB6p/ky98pmFShY9nmNlNvxbNFb6nMYmP2Lrrrpvn8GiaDK7q/tsek4OEU7QU9+PQoLZtT5TvD4GpEwa3gjTQNJhMJ/0CUsXy9uVP0dQPAXPeeOON85d1yy23bMzaaSKE3pW36u6vO5etKWWOtF9BndivYZh2wQRUXo0W6zPJ0DRQh0/ap4Hmx+TNz+ITn/hEsVkDv5ssE8nYdtttc5+agScUfqTGh8m4NESeKY6aafXvnVhrrbXyAbhoKis0aeGrvki+J0WSkL7ra462g3KhSKOtDFI8L/25AMCYv/AtQTK9DyZnOCXyMCxPxjiaxrzGNKh/E1FkWrQAM9bQgjUhmn23TWp7fiGI6aTyoPR9D1Hf8gjMBGHQLKpzPg0m7klFT1ArIyoc/drEGJtsZN6TAnj11VfPB1aDSBrgl4c5y3eGtD20le0oqvCqugcd22efffK2Dtqbwu6HxVVKmlx8Os72WbUaLV4X2bK6NVlxvLQKGrfoO9oefhW0Q11EaKjkPlaNtD4I5CARk04jw8t8HOL5h3txy3bXMeiawIVcDhO7X5adG1OfIgx1xIqGj1McDZjyVrDz1p/DsOnzd+8xLQPCYLKGVSIPw96XQe2wO25boZVixkrknz8B0tmnr0LbNsHHnirGvHnbQ6jtvS6V8jNDGABuwsWGrdzkaRiXtgE5MQCbZITbtTWFcPChckMyrPio/U0iQtZ+8IMfVD47/B0MKpPe4pv2ZtDul+5d0hcOmFWmCW1umjPDZEsdimTYaU+0yTjEIGgfBJOiiI1RTSGeB2SBloJppW6/E6pp3uByF4xLZPOT06FKOK6ZEM4777yqn/PnEflTxiBdJoH6ty6NMNJsRZieAeHE/IrmsT8rwRnzQdrDRB4QLjimzbGGmTmLTUM0aC0Qty6kG3EwNul7z+u0hT/F2muvnZPyNouyabc7rl+NwEwRhtREtnWqUBM6W3xfqj6TI2cmURAGyDYvcmqbh94LKaa9KOqj/ksr1eLLTu1vABEiNQ1Bjqw4DjnkkGUub3DhWKfNYrjT6iStRn12CRdEwphs1LfDDjss4yi5TANa/oMYIGc2dqJVkBVxkFanZfV5ZIV8EwZb5ooiYUW8eM8LVxyXM1ciBIP26kDuEJsyqWHTFhKY/DL8XtYyyDtQ1qC4F5gqm8iCCa+YtXRe+7Nt//dV3hhBi8PxL+W4SORhmPbUXhHem0SG22gjvQuinfgUGT+LkUJ93VuXevj5SD7GdBgy3wjMJGFIkFpJWt0iDgZAq/fiIJ7KDfpEEhADme1oLkzs1GPlgXNQHcXfDNjCrZgzymJSsSKzKjdhUi26ttWazHt9Tm7law/7/4orrsjVzAakYjsNZEkFuvfeey+sSk2au+6667Bqa393ryaxDTfcML8utf8pp5ySm52KZKq2gt/9YIDl/c/PQJtoQkQOVOE/rK4mv2u3laKJl/01ZeBMpp2mGzs1uVaxDExoN4YNqsrBggaBGWhQ5Mehhx6aY4YImLhgVyQ7MpkayOFaJIm+l7VD89qfRYyn8Z0G0nuAPCC6iIB3jkar6ll6xStesdAfxhF91jSjqsyd+npcvjWj4JcWTR/60IdGqSbOnTICM00YEjY0DFbJ1PnIg0+rHgxamJBB0+BpBYrNstdzZGTjVt4LRFOhTJvJKl0/fSIwXvphO0PyxWAGoFpkY/c3ik0zXX/UT7ZtbRKWVaUJsTIS622FQz1dnFxGubYoGNdO2eF8cuyTv0CIKf8PhIY2g2+ArJkmTo6UJi8rXrZhZZCdSYhnySDv+vrSQC+D4riEg6rBvkm6XWpeDqb6aFBuCeQaITDx8L1Izy4Su/vuu+f35r7KZAEZGSTz2J+D7mdSv3l2E3ngjwL3tDkW0u59oz0q9odnQh8hGIMWHIi1Z6GvPSXGgYn32n2PakIcR9uizmYIzAVhKN6KQRBJkNiG9sHghYEjBsnUQNVu4OUPYXAdhSQUr011a7JrsrplF+cE6OUX2tRkE6vitfr+bqUjTwEyYLVJ41IlQvlMLEnrUFWm6zH9QFUqvawMcfJEmJw4kMKJd7cVFbW/fAl8ReQf6Iu4dGk3QgMzRGuYY2uX+p3DV4DzLA1PE0F+YQQzZpJB2SuRnIsuuiivltlJ35tYqrQK6kPO4N5E5rE/m9zXJMrI5UDDQ3NFYwl7Gi3Pmu/lP6Rh++23XybHQrGd/GqQyGFRNMVzJv3de8yBes8995z0peN6PSEwd4Shp/tuXQ1boonUBNJEpNv1ktvX4XnPe17uQd3EC79J3W3LIFQpmoNZwAAlwqNOmqxy685dTMetxNmDmQDY9K32Nttss97JFDUtLcCwjZWKzpm0HhxpTTA0L8MEAUTQyhNR1f8IScjkEEAYaYBoIuuInH7yjHgeaU6LYvFkrKmLfimWnfb3j33sY/l7RGMcMn8IBGFo2GeHH3547mjXZLXLR4ImIvkAGBCKXviTim3X1uTQZtJLoU20CCYavgEh1QjoM+TAIJ68u/m/yIdA28BXpW10TdWVqKlpWYall6Y9KzrVJh8cph6amUF5FZBdfjRV5KB8jGNkyOQR8Bx4rsr9Uf4foUAcZKFMQlvHPNWXJjXVO45Pzy1T47777juO6qPOMSMQhKEBwFaabP5VmQ7Lp1sFcmqyoi+bLgzqYqO98CbyPiac8vXT/+L5Df4iOqjSy4IAGaD4W4QsjwCHQfiUQ0rTKl/MPbNAebW3fE2Dj9BYuU5dxkhkJSWYkvCrHCqnPZtsskk+CA/yk0EWaSVoScqTUPrfc0lrETJ5BCRXqzNHpP4pfirLDMEfwNj0wQ9+cPKN7njFc889NzeNlcfHjtXFaRNEIAhDA7Df/OY35yu0JtoFZdmJ69T6Vq5WB8qYcGRk61M4iKYJhs2zbiLSjjTR9BW22ud9TLMualODs2iJOuHhbkdPqmB7jLSN3lGvcziZ1m2NzkGOCppfx6C2mDQ4NwphHeQYZxXLT6I48ZS/h6q4rsfHe9yGcYPMEeV+Sv97NjhKJi3YeFvZT+38yrQ5+db0U2vUMgkEgjAMQVkEBgbfJLOfAR7zHzS4p8uZcNK2y7QNfWxoY9Mle0NwIqzSKqRrp0/Oo3bb3HnnndOhJf/JGRSZQ/yGSQrB5BMiDW/dpld19TBr0ACVNy/j8Z6y9onUaJKtT+QQh0Vbkw+TtAFXcUXrOwIbMnkEaBo5oiYSMOxTXzFD+UMynNs09LLp3XHURojHJcJHd9xxx3FVH/WOCYEgDEOAleyI/XeY9zFVsdh9mfaaignHxO7Flw2tnIynaT1U0WknTbswCh9tKvYNoKaO+OgsX6XxWZBtsY25iMkqhWDC/yc/+clQ+PkVGOiLCcDYoD0PnGuFvnKEayNMZjQeg4jLrbfemve3sFYTU1rVMkeceuqpbS4XZXtCwNhC0+iPCYzzq78U5WVFXmVu4g+AcErF3reMmzDQsmp78sXpu/191Ye8D9La9XWdeaknCMOAnqJdYF+WEGWQ0A6kLIDDiEVVPfJGpAyDtA1Ux01F2JwMf1STn/zkJ5uetkw5YXRUhH2bR5a5yIz/Y7JmwpFB0iDRRfQFDU/yGxk00Lz1rW/NtTvJjkuzIZ128m9p8wwU27rXXnvlxLUq4kLiMxqlXXbZJR+o+dnQjlix+iv7RxTrje+zhwDnaaRvHFEt4yYM8uhou89ZFg6lzIJSqk+rrZytYXXQQQdVQpWS8p122mmVv/d5MAjDADR5oPNgH2YuoFWwKhTe1FWStkE9VrnDsrVZddAqeJCsapuorevaZrK04hQjXVaP152z2I6nDJ2iEUaRFJlCa7PppptW5t9ASJKZCzFwbeYEmz2VMyy2bQvCyrnRgF/0uXEd4b1Sgae8DbYhRhSYpJCVkPlCgK8NgsnxtW8ZN2GgwaPdahIS3Pe9takPYfCOwNlYy5HcbrVVhLxNvW3L2sTL3FDlKyWaixl1En4sQRhqeo5XuVX3MFX95Zdfnj9QXVf35ctb5Zm8kzNdGtyL5fhKcHJjKhm0dXXxnGHfqdExabbFQSvjYfXM4++SQ5ngeW/3JVTLtE40VOUQTEQPOWMeEA7nZe8zRwdVNs0BR7okwtgMOOUEYogCzQptWsh8ISDHCy3ROGTchEGbTb422ZplQRiS2Q5h8Jf+Fx7qvZ3Eu3PppZfm1y6PUZzrtenAAw+cCIxBGGpgpjWgXh5ky5YMhx26iYNczWVqD0vCwidC9ra01bFJPTms0Sr0rQ2g1fAyyMS4VKRqcu3r3osRMVb2NpWSztxqxarAykXK67odTkdph1wbSKdwO3+u9alPfWq5Km+55ZZ8wJEpNWS+EKCi9hyNKoNCbdMkmT6ZPvsS++2UN8Trq+6+6qkiDAkL7xTsfAqX55fRZrOwNm00DzGX8nUrimdAe+65557i4bF9D8JQAa0BnIq4bhthp1D9YuEelEGkoqL6xoeEy/Ek9kDaxtmq0crUID8u4WVvQuvb63pc7R2lXn3IDFBW349SZ9W5ImL0nwncS2+Q8dkkmqaqvqbHaDYQQP3pe53wnzF4h8wXAvxVaIdGlWkRBsnkpM+3OJrVP1vNJ41CIgpVn95tf8oKb3Y/XfzZBvUljZJrJ3M184QFqzZOSoIwVCAtbbIwuUFEwMsqfNEKdZyCNCAlHhQqZVsgj1OYI+ysyZFyXGx5nO1vU/cgB8E29TQpKx+G1YF+REYnkWXTsyPBlOulLJ9VbZV8CiktR1cwh9lCPGQ2EeC8ajvrccgkTBLabpKtmoBn5ZgxtwlhSO31HvnOR4mWus8cN6KxvMspDJ55wrXGuSle+dkKwlBChA+BThmUVITmwYNxzTXXlM7u999klrApDR8JOzi6rhA+To/jEnW7pjjseUg32wWHFIJoz49xSjFUkq8CE1MKwWSOqEusNWqbmEPk+WBW05fDQkX5rpgktJeT71lnnZWbxPhgLDWfllGxn9T5/FK23nrrsVxuEoSBr9agPW3GcmMtKx1kkiiSBFoa5IfGhOYwRT+1vNzQ4sYOGkOLAWZOfiCTfD+DMJS6yO5xohQMuFUi/A17HOc2srzoqbWQg3IWQSRCaByHx3ESFqtOxKmYJ6AKj3k81ibJ0Sj3JwwrpQK3Q5/+TKt4RIV5SQgm22ffxIxfDe2CqIsmyaiUMeBJGc6htqimHhepGQXbODfLDjvssHxDsXFgMQnCwOF2HP5ffeJRRxi8yyZun8l/oUn+lVHbJvQdUWHO8dkkoeCo1yyeH4ShgAZbM/VTnRqWzYhXO0ejOkJRqK71V0xR4h52KYl76hzR+gypHNRIE5lJpJxASIje/vvv3znR1KBrjvs3zLxJGuVR2sF2mUIlreztIVLlJ1AMwZSmuy/HpY9//OP5YFLUkg1Kdy0pkPTUtB/62yCYVk8+k9PtKJjEuf0j8N73vjd/lvuvOcu1TePM9KjNHCib7M8zjvtrWmeZMCTzhJW9d1wOnUmLMcV7aZ4Ylyaj7p6CMBSQsQr0INSRgd133z3P/d81sU/hUst99eB5QT2Q9oIoxtAvV/h3B2644YaFvQbE1I9DRGV4sdM9C8sTyuWBlcxknqTpRk2j3BOSB5/HPe5xC5oDYZvwqiOAEvCkLdANQoN8Z4a1Tf+wu3qGyuIYE0NxQ63zzz8/1yRpX1Gr4H9/nscmacbL14r/x4+A918f9WknT60et4YBSdX2pHFL1521T4QhvQtMexwPRcdNUyxotYmGadIShOF3iNt0x+B42WWXVfYBm67VV98RCkmrID20rZPb7n4oWUcxgVObtNCVN1o6iMEmrYpYYBMOVZwHlkp9nqTJVtBd7ydpfazO+SYUnQw33HDDod7sSCqNTkoTfuedd7Zuir6yBfYLX/jCStLhGrRjTG4SfUnwlAbDuk9mKVkpQ2YPAc+YfptHDZAcJNo+6+aut7/97fnzP2pCtT6fHkTBOEMjPmkJwvA7xGkPJOKoym1ujwdJnPre+le2ME4yiMqoG1Bh6rJS2v2w73A9JAY2XvCyuprtex7kox/9aN72cWSWK/qVXHnllcvAkbIpFlf1yxQo/eOZECYFZ0Sw6eoR8bRh1bDU1skkY6OpOpJQPK4dfYTulW4z/i0ggPR7/9OfZEDpj3Yn/XnO0p+FC1MhXyaOg9NQjRduofVXPmDGlJDmCJibbr755nwu6iP/RvMr/3fJIAxZlquYqGNlbSxLMWKgikyUyzf5P3nO85rvc4trk4tJxiDflwe+nBRyFSA1xYnEd6vPQfH9TbCYRJm77747d1Q94ogjer2cQZqXOrx5L5cTaXlenv3sZ+d7N7S9cJGENMkiesIJJ+Sany984QsDLyVUlvmDtqzcn3X/U8WGjBeB5D9iYZL+vF+0ef6q3r/UX7RSyWQ43lb2Vzvt1qSyE/bX6unVZJxN/e1z3NFddXcahCHL8rhW5oCyp7pVm8RJchL0pernAEdFbRCwohjFXl3XqRJ7UDunTZDqyg07LucDe3gyQRQf2PR9XKlph7Wt6e8In8GYJqfON6VpXalc0XzA56VOJSzXAiJaTsec6hn2WTZz2I68Sqw2XWfYroXUqtJ/D+rP1K/FT5NVX9hVtT+OZbnTKYJQxH3QdyTV73Ix+BzHBlTj6peUzrjOp2dc153nehNh4LA9zUy8S54wmMCttsqqZA8XtaDBctQNidRlwFWf1cN66623jOPZOB7k5IHv3rbbbrusbrKpu7YNVgxKaWAaNHjx/5hFQQCFHzHV9EX4aCtsBJMIX93GZBwsEZU+4sxvv/32XH1bdKRMeMsbsuKKK2ZMaoPkwx/+cN7mQStVfV2neZiGvXTQ/Sy231K43KD3LP2mD4V20zx5xuXamCc/k7e85S25/1N5gbbY+nQx3s+SJwyiAGTgKz+8thQ1KZx++ukj9zs7f/KCRxr6Mm00aZgUz8lrny2U1qSJmGBhM2gSMYDB6JRTTmlS5cTLsJMiaHxQRhWhkjRCBmtplIeFQJ5zzjl5HoSi8+MobUihmvB+8YtfnFmlCW9lLmLWGhRVwwwh5j1NOIM+aSpco1xmWirQUTCbt3NpMsu4l//3/EnYU9wt8dRTT803MBtlx9pJYaWNtJZ9jKuTanNc578RmGvCYHUnPIfq1gTnYeRAZPBsMjFS41lRlTflSTs38gNoUs9/w7nsN6tMBIGqked6V9X0srW2/y9NdiYDNvdBmx3BtKjysomRRFFVk4jBDKGgMWkrcNUOhIZKnc1emBj1vsl4VFMNc4q2DdoPpGmbB63wq+qAN9X/OJLSFDUcJg7pyQet/vVneh8QRn4zdX2ZJif9WdREKC+CY5CMuz8HXXuef7N4oMEU8jrM/Kd/7EDq+SqK6Bgb1R177LHFwzP5XSg2jVjVLrwz2eBo1DIIzA1hMCAhBpg1j3POXWxgdX/s+Lz7v/3tb2dycFfZYOUy53xTJAU0DbzUhQyWndiWQW7IPwZ2qz9hiJPWKtQ1jdZE2B11pjaVtSrOM+gYmCT6SYKEUa07XqWyNjFTjQ8S+MtHYJXOh0Mb0gRV9Ync8A+QeVM4Z5u+YCKhvpdcahRxzRSyijw2NevQuHBE89yNQ2ApIgJubJp1PhSuzfZZNFfYipdfTl1fIgfKezf0gXIIr13xijLJ/ixedzF8R+IQ8b333juf6GFsK/QDDjig8p1A3owjxXeyjAOSL7PnrJoHtVf+Aho/Ieoh84nAzBMGbNoKSjpf5IB62UshPIx2wUo0kQFs3apeRkYaBxtDSYqDPPjjr5AmHqTDRHfdddct03MGWA81m2IXoSZWh4GX6njaST7K91BsH9V6sX0wSYTAAFVWu9vkRNhmeYVqQKvL2GY7Z3HDzjMwIiwmnwsuuCDXLvDuRkiIVYd+Q7ZoHI477rhs0003zScsk5ZJbFiiF33PgRURLK/EylgM+j9FKZiQm0QppLo8k1Z72j4uQfzgwRY8KEpD/6W+Kg/SnnsJudLv+ib9IXNWrSI/0vPAaZRMuj/HheGk6/XewRymyCysRdAYK9I7aOGiT1I/+NQ/sr4auwaJMZBpSkbRqoXAoHMn8Zs22duE9mqSJtlJ3NtSusbMEgaDvQHPRH/XXXflK1gvXRfxgFrtmYiQDmSAIyC/gqJ2wUrNqsouYF1Esp1hK/gu9Y7jHFiYVJMGxKqHijupon1y2jNxFKVK24B4sZEXBanbddddczzVc+KJJ3be2RMJkFvCYOha2l21a6e+fO1rX5tvA951F9GueRDSvdPQMBPQho1DPMfMHTaLShMDcoOQicn3nfhNnyRCYOL37BdFXx588ME5pkmbYJKC8dVXX52/G1TljjFLTbo/i22dx+9MQYkkMDfoA4sI5p26hEWHHHJITgYTaUAwBvmnFHExrlns9J0v5v+3dyawfhR1HDdqVJAgWrzQCnhgVQriBQKCaDlVjEK9gBTRqgFMRZRYYk2IAgKKRwUxCgWpB63FI1y2KRgt0NJWWiotIFTahy1yVKhChWDWfAbn9f/2/ff/9piZnd39TvLyv3ZnZr+/fTvf+Z29Y5R9T4ZE5pY3H0nZcXSeXwSiIww86HjYY3JYunRpgj9B76JeFQ4WHxzGUHOTxMeSEDQWJL1hwSnaIDeo2nnosiNmF9aEBkkgkxmLyqRJk4ZV0PZhBWnIwgOVaq+2gUUGDMFzxowZ5mBTqcIAACAASURBVOGAMyl1DVzuKHjg2KqdJBTqTViD8xcywPRRtLFD40GOjR/iVCbTItoRFgbm4aOhPeP+wlRjtTJ2nHQI5llnnTWsHUCe4ILmo99ChQ2dMFxLGnrljjwZkz7YEYeUp722Jr0iF8jt5MmTzb0EppYkYA4aq0HqwBoNEmm7izaKETEmWU1jyU5IkTzmdMEFFxS9HB0fGQJREQYWXlgyDzC8y10ShTTuqI4hJIyFWpziPzyI82bWs/2VjUKw58fwyq7UahYsWbCvEAGc5fo1Ho7U37DHsotA5ciii4+ENRX1O7fqdxBKCAkLNOm80Q5xDeedd17hrl3VcmA3zi4/746w6ETZfYLtoJh7NHIs/miOrFzsK8QQrRpEMd0gBmhHeLAjc+zhaKGsPD/4wQ+aqpfp81x9TsvTVb8h+sHMCUnAz4WFnp00BBwCWrSCIRsmnkXck0UbzzT8Z5Ad2gzuhbobc+BexD9DrfkIREMYiHBg8YYV212/b3ghJGgDSLeJfbxImmMWBbQK/GMS6+8qfM73Naf7Z1FHxW9V13Zx6X3lt0E+HYTcoYZnsaHUa++uPz2ey8/4r0ybNs0scDgZonkoQjKtDJk3D+kqUSxEfLBQlDVnjYULpIiFvF820vS5lEbPkiekalCGPf4HcMBD/iw8vfJ0qSlKz5nPvfJErtbk0u/Yur8jVNWSBLAGKwgD37FwV2lFrxvNBVlMIZP2/xbHYj7zbKur8VxgDvxf+r536rrGro0bBWHALgsTJaKhyAPflbBQJbPDwVSRZ3yORRtRNZOiq/lX6SeturYPnN5XFhmc/6zDaHo8HpIcg/9GHrVr+vyqnzEt8dDmwZQ3HBMHTiJhkCE7waIP6fSciebYZZddco+fPn/Q55UrV5qokjzJeWwFw1759XuP02lWI0MlRBhNRV48s/oq8z3yhHx99KMfrWX8rDmzKeBeQXvA/Y5zqCUJaV+frD5cfo+/jfV5sAQRuVGjAblNmTLF/F/88Ic/dDlsrr4wPzAnIkF8ahpzTUYHOUOgdsKAyg67XahdaRZyqNfRcEAashrmCtTO/FNiP+9nD846N8bvcSpFhdpvQUl/xwOSh2OaUGHTBg/iq/mt6sJbFidMEpgnWGQGzQFyiiMZ18f1uJAhXu7gg1+M64ZvAl7y2MHxYRjUuD/xskceafmlP/Mw75fQqleeYFVXyytP3/PDnwqSAP5oeCCY+CdAkuvKJYC5gtBX5GyJgpUvc7SOr/w/EoXBcfxfZBF+lxiiKQYftHbUN0k/L1yOpb7CI1ArYeBhiGZhUOKZkJBAGtAe9HNaRLVHClZU71k2/ZBzdTEWoZA2jIt/cBY9++Dp98qDp9dHgBK1EA4fCYrKXB+LDDtT1NnpxoOLhzxJY9CWpJN1pY8v8pkHZL9aJEX66HcsxIdoHvwi8mhucHRDbiwa/eTX+x2yBgdU67Y1SZ52zj5e2blbkgBmOItCMol4qEPjYq+RDc1hhx1mZJsmCsyT/080n2nCjFy5h4h0QbOU/t32X+WVPkmSZv+/Fi5cWKU7nRspArURBv7xyK2QjvWvGyfME2g8eKVhj7QVIFkY7Pd1z9Pl+Dh9sish0REhezx8sggEDyVIFecQJUHxm5h2Eaiz07Z+CClqZOaOLF2qj3EMpF88wV03ok1YGHCszdPImMk5RDVAnJAjhA5Z8j79R9/ExmNfbpI882BR9BjyHLAbJxIEnFj4LEkYS7NTdKwix7MQQ1TwM2Jeg0h9+r7vHYfnGNpR7oUJEyYY8tzP+bX3nDzv6QMTFunnmRtkvajjeJ5xdEwcCNRGGHjQohKN0RkGDQNsft68eYaZE27pckcah+izZ8H1s1v4xCc+MZxwqZdAQBRQ0fKQIEw1tsaDcfvttzeaInaKOF6R1IZ8Hq4bOz6KUbkmTYStQkTKarNY5Mh0SgZAMjuyS2bBQY69u1MWGRzmSMwUuzxdmy0tSeC6wYYiZdw7CxYsiMbujmyYG/cCr1l//N5Pu5C+3/ETs74N3BM4wEI0i0T2cCyhy0Q+0Af3E74KNgFVekx9bg8CtRAG4vUxRbjc6bkUCQ9/Qi6nT59udhkhbH8u5++6L5IwUe2QxD2oNXlosdD0s4G7HjtPf7NnzzZyssmS0F5hIoAk2MRUPhyvIJVggcrXZYOwYStnh+uy8UCfNWtWcsIJJyS77rrriMWHBWdQJIzLeYzVV5Y88Tmp0titIzOim3DoRHY4qkIS+N416asyV3suxI+Q1kGaBfv/OCh1tO3PvuK7c84555icI5yPRorIChZ+kqxddNFFxicHvxze8x2/cYz1e+L/i5wjaKfUuoFAcMLAgxtTRD8/gZggx58B0wROPGpbEUC1ya6CHSk72LobpHPcuHGmtkLvXCgYBakZFA3Qe3yZ9wceeGDCn8uGIx35Jch/UCW1dZ45YV5jkYFUsbuO4X9yLHmieSnS0GBCBiAF+GywOJJ5NGaSkL4+SANO1lmkAbIH8SmrrWXBhxiACanGibLgfxxiwB/v+Y7fOIZjRRLSUurG5+CEwVYo9LHjcy0yVJaxZEtzfW1l+yMMk1z4EKoYGsmieGD2y7VPbg1yCvhohGWy+JTJCDloPiTC4gHtWv2eNWYb5dlLEqxTr63bMCgKKgujGL5Ha0btl37+KNz/5OlQEwK+EQhKGFAJol0I9TCsCh72ebQMXTdJWBzZ8eK/cPrpp9uvan3FBAF5wdeiX4PsoWVwnbwG1TVOaPgGuGzf/va3DfkZq8CWqzHbJE+SveEciFOrNZtZkoDdvumNXBw4YvamY4ewWu1CEzZgTZeB5p8kQQkDORfwXXARmkQ55ZkzZ5pS1Nam5uNBi3Nmv91rF28e1NeoReuMz+/FHR8TdlyDSvpiOqEUtMtGtkUe1NwbrhpEGucxUmqHak2XJ4THFnfCyRWZoFEi2iEG84orOVI/BbJA9AvPULKSWsdVrtlH/g9Xc1c/7UIgKGEg7eygPPhFoLWqRli2/fNBGKyDZp2hVUVw8XksNkyqJMbQsL8T/UCGxUENJz8IpStfFNTdZLR06ZBIjgXi5HFuC+l411R5slhi08f3AsL43ve+1xQ2ypOrYtC9EuNvOKLio4OsrE8Lmk9SdvPcq+K7EOP1ak5xIxCMMPCgRbtQtBhLFnx465500klG3Uz+AP55fBAG1/POup7Yv+chxYM6FlspyaIgAmOVscaJjuNczZtwU3BwlWwMIoptGqeyqjUIitxDTZcnJiFk0Zt4qsj1N+FYtE5oTqhVk66vQ64DwnlJRqYmBEIhEIww4AeAP4ALc0QaHIiDL8LAWKRibUuMMYStjLaEQjL4A6BxqbvhoU2xn0FFlHrnyIL86U9/uverUu9JUkO2z7zj5hmEWHYKZ5U1e7GrxjeoaJM8iyIW9ngiO0h1jiYlK8ESjsfyXQgrl66PFoww4OjoK27fN2FgF+tr7qFvQBzrSG/NokfGxryLDaWPUcXH0Jg7hCFvaNdXv/pVk5So6txJpc24Q0NDVbsy52N7hoTZ3P9lOiXMjcRiX/rSlwpF9EieZdAOcw4bK0gkmWXLkPsws9QoXUQgGGFgB+UrpMk3YcBejjklpH3Z181oPfGt0xS+IF/+8peNFmXQmIQo8gCru+HsiomhSP0KnBRx1qyi3UKFD1Zk3nPR0FpR7ZCiXVUahAHHNxujT0ImQk3H0oh1XZ5VMPd5LhE9+GZQLEraA59Iq+8yCAQjDGRO9BVO6ZswsFjA+oukTy0jjBDnQBhYcK2jKK/2M1UR8TDvt9iQOZFdad0NJ0ecHYv4wrA4c51r1qwpPX0y3RHC6cJ5EvMcC/t73vOe0sl27IVAGKz8rEwteSBVMPLs93/XdXla/GJ6xUyEBoswYZGFmCSjuVgEghEGHHhclBK2E+999U0Y2JlCGEI6pfVen8v3/QiDXWh4tYsNTniE+Fm1P/HfhLHW2QifxCuecMoiDb8Lrg0TTJlGvgfMOJCGqg0TEPUn8IVwUcisH2Gw8sTcgSaJV7zqqathiVaX5VlVhj7OJ4Ml6ZnxtclrJvQxD/UpBAYhEIww8LD25TDnmzAQKQFhoBgV9uYm/7FDT+9I7QLT+8oiw+LMK3HfnPODH/xg0L3k/Td2Xuzybc2IvAOSbplrg2iUkR3hjjig4ZFe5vzec0j2xCJ+9tlnV+6LfvGgzytPa7rgHBYnagTU2arKk2ybbWjIkXvis5/9rMhCGwTa4msIRhhchlSm5eGbMOC7AGEgx3/votrE96g88yww9togDPY9YVzr169Pwx/kMz4wLHjY54s21Lv2Gtr4Wlae1MGoK4upC3lC4JvefvGLXxitHo68bfCRaro8NP/BCAQjDIQJ+Uqs4pswsOBAGIrubAdDX8+vY5kkWFAhCWlVNjts4t7ramRrpMYC8edFG6YkrouSvEUbD/JXvOIVw0lzip5vj8cvBO0Iu0iXbZBJwpIjqy2CcO2zzz6mZHZX5ekS+6p9kRsEEyBOx2pCoAkIBCMMFOlxFY6WBtY3YSAOGsJQZrFKz7Xuz4MIAySBRYbSvzjL3XPPPcPTZdE8//zzhz+HfENqXBa9smmT0YpwXTfddFOhaRNOy+69KlHCaRYnQ5KNZcXUF5pYz8GDCIP1R6EMMf4LvSm9uyjPHthqf0u5eAgcpbbVhEBTEAhGGHjou8zvfswxxwxUM8+dO9eZDNihQhhcP+ydTbBAR2nCYEkCpX95eGVFErAznTZtWoGR3B16xBFHmJDGslEqmMMgDEWdbkn/TKRBFY911MyEo+Jk6IMwpwmDNU9Y0peVkbKL8nR3R1brCd+Rsua1aiPrbCFQDYFghIGFiFoSrlpIwoApBZNKGxqEwaqqqepHPoM8SammTJlivPtDY4BmivmyQy7b0BCggi9iI8bGjtMnORyqNLQi9DN//vwq3WSeC2Gw8hw/fnxCkqo8+U66Js9MAAP/wP8f2rKvf/3rgUfWcEKgOgLBCAO7K0Irm9iwP6MhaUO7+OKLTejW9ddfX8gjmwcdBKPIousCL3IVvPKVr6yk3cFv4J3vfGeh6RDNMHHixEIYpQdYuHChsVGDna925plnGs3P4sWLCw3RNXkWAsfTweeee64hC2QMVRMCTUQgGGGwyY8IcWtaW7JkSd/kN027jirzXb58udnJutQSjTWfG264wYxZNfwPs0KRpFMkGWMXeNVVV401xczf8ZuAYJFRMTTJypxUzw9dkmfPZdf2Fk0T99T3vve92uaggYVAVQSCEQYmioahrrC8skBRUhb/BQq9dLmRTIYyu1mOhzabolWPZ73uvPPOwyr0rGP4ntwH++23n8mIWCWfPn4z9MduP2+jXDJjl234uhCCOmHChGgdZbskz7JydHUeDsSQhbrzmLi6HvXTXQSCEgYy9eWxl8ckDjzl8a6PcZcYGicqK77xjW/sO6xrwkBiIRb6WbNm9R0v75c8rKkBkddx0TpIot0o28jWh8/E6tWry3YR5LwuyDMIkAMGQbOFD0vV+3jAEPpJCARDIChhICyxSeGJkARsw1me5sGkFMlAECcW8aL28jLTx9eCqA2ybJZtkARqNnzxi1/M3QW+DqRuLtt+9KMfmd1kE5IKdUGeZeVY9TyeHV/4whcMWSBDqJoQaAMCQQkDgOE8iAd6Expx6+w4MUuoPY0ACyp2+Sa0n/70p+aBjWYrT/vNb35jFnt8Vso0zkMzMmPGjDKn13JOm+VZC6BJYrSRn//85829N3v27LqmoXGFgHMEghOGBx980GgZcIKMubFDwHySlZcg5rn7nJtdVGOPGsHvAR8Ccinkadj099xzz9IlvKliucsuuySTJk2qpBXJM1eXx1h5XnvttYXzVLicx1h9FZXnWP35+p3nxoknnmgSfl155ZW+hlG/QqAWBIITBq6SxSb2BQfnTApmbdmypRbBxDooD8R9993XhCnGXFWPELZtttlmRLbKQZhefvnlZkdYxu8As8khhxyS4NAJIY69ITeiXS644AJTSplkT5QMj5nEF5VnHTLgPjj++OMNWYCIqQmBtiFQC2HgwYSq35ZOjg1UTBAkarr33ntjm1oU81mxYoXJLxCr1zc+J9ttt11yxhln5MKL3etrXvOahEqeZdqpp56aUNRr2bJlZU73fg73M/9v5Gw49NBDDTb4otjU0ZAFHPPaIk/vgPYZALKANguSWqZmSZ8u9ZUQiA6BWggDKBB9wA4+tl0Nuy9i1Hn4x7yDrvtO+trXvmYWSaIjYmqENL71rW9N3vKWt+RO9nThhReaXeHatWsLXwpqZ0LmLrnkksLn+joB5+IFCxaYeiAHHHCAuTYIApoEUhLz3v4x92uuuSZpkzx94ZrVL4TzqKOOSrbddluDe9Zx+l4INB2B2ggDqm12qnjcP/HEE9HgiM8C2gU5Og4WCTuqd7/73cmrX/3qZOPGjYMPDvQr9xQpj7fffvvcdUswOZFJkhTLRdsdd9xhxjr55JOLnurl+NNOO83IAzIAEbB1JSw5SL9CHr7xjW+YubRFnl6AHdApzy6cgNHSkD1VTQi0GYHaCAOgwszxLGc3nzdO3qcwqM6I6vbhhx/2OUxr+n7ggQeS3XbbLXnzm9+cUKCr7kaZYIpp4cCXt2Eb52FflPRs3rw5ecMb3mB8OWIhvJdeeumw5iBNDtKfMUe8//3vH5FfpA3yzCt3F8ehzTryyCNN2fKilVBdjK8+hEBoBGolDFwsOzwKDEEa6nzwkhGQHBG9JYBDC6OJ42FaolQypKHoouvqejEdoSFgx4zzYt7Gok/65iJpo+kbTQYqaBJCFa2AmXduZY876KCDDGlKE4Tez5AF8lP0I3lNlmdZzMqcR+XUgw8+ONlhhx2C5CUpM0edIwRcI1A7YeCCIA1oGjBPhPZpQBVLdT/8KdhhqRVHgEUGTQPmidA+DdjrWbzJfzBnzpxCk8duzwO/qEYJNT6aDLRRsTVkgQNmL0HofY+pAse8QblQmirPULKALJA+/IUvfGHjMteGwkjjtBOBKAgD0GKewKeBhTtU9AQ7TIgK6sSu14qoentDttjdsljhbR/CYRTZvfa1r01e9rKXGe1QkWsg/BFfh7PPPrvIacapjYiC73//+4XOC3kweQDSzo2WNEAY8hCrpskzFL4Uz+M+f8lLXpKsXLky1LAaRwhEgUA0hAE0UPWyu2HnRp4GX9oGyAnZ/zBB8E9fpykkirvA0STQ1lC7AZX3PvvsY6JNHHU9ohuSJFEHgUWRREllTCGnnHKKeegXuccIs91xxx1N7oIRE4rkA6SXUt6QgvHjxw+HTVqyANH5yle+knu2TZJn7ouqcCAmHDJjYopatWpVhZ50qhBoJgJREQYLISwe1TYLOv+YqJ1dNIgBjo1EQaBVkL+CC1RH9wEJ23///c3ChVMYPiouGsSA+hIUdkKrQOpnSGbRhgYLtfzMmTNzn4rZjHDNPfbYI0ElHVv73e9+Z6I9XvSiFyXUsyBLaa+WARPKgQceWCoLZezyDCELyNjee+9t7jtMmGpCoIsIREkYrCDYSaJpgDjwAFy3bl1hrQMkAWJAZjs0FxAFsjiye1LzhwALOYsYD1l2uFS5RP2P2amIuYLFHe//ww8/3OyY2d2dc845Ceaksm3q1KkmKyNe7nkbSZ2wWcdWiGzDhg3J0UcfbTCePHnyiEyT06ZNM5ihWdhpp51G/Jb3uu1xMcvTztHX66ZNm0y58le96lW5w3V9zUX9CoE6EYiaMFhg0DBgQrjxxhsNeeCVXQ+RDUNDQwkPTWyu7EDxWicBD7sAbNyQDYgCmgqOKbJY2fH1Wg0BNAzY1VHnQx54xcOc/AXf+ta3zI74iiuuMMmP8A2YPn26cWTEkZLjySdACCDHsNOv0riP2G1DQvI2fDLYrV999dV5T/F+HAs4mgT8MHA2nT9//qgxMbdAFLhel1koY5LnqIt2/MU//vGPZOLEiYZgop1UEwJdRqARhKFXQDwEIQkkzUH7wMNr0aJFhhhYU8PSpUsNYcAfgt2BSEIvgvW9Rw6Yms4///zkhBNOMPZgbO3s3CEGpHNGg4Dan10zVR9Js+vSBPCxj30sef3rX5877wf3F4Qlb5rpEOhCfrGl4ytCOCkmvKwGyZk1a1bWz5W+j0GelS5gjJPRTO6+++4mBJVniZoQ6DoCjSMMXReYrr88Apil0BTMmzcvVycsGOSYQLsRA+nEWfeb3/ymCSHda6+9nGoNcgHSoYPQWmJGg1zGlmujQ2LQpUaGgAhDZALRdPwh8L73vc84LuZxlCTzKE6ChG3GEHKL9ozMktQrgDTIB8fffYKvFMXIwBvioCYEhMDTCIgw6E7oBAKYrTB75K0kiMMgkRR1l2GHrNgslkcccYQqqHq+WwmdxSeEzKX4PKkJASGwFQERhq1Y6F2LESDZzrve9a5cV/jzn//ckIvLLrss1/G+DiLKBJMIfh11z8XXNcbU75133mlCU6l0SoSWmhAQAiMREGEYiYc+tRCB6667zhAAomvGavg5UIyKxE51NUJJP/zhD5s8Fscdd5wWrwCCwImaiBJybRRNFR5gehpCCESBgAhDFGLQJHwhgL/CO97xjuQDH/jAmEOg/sdnYd99960l+yeOlYRKkpgKG/qCBQvGnLMOqI7A6tWrk5e//OXJfvvt5yxJXPVZqQchEB8CIgzxyUQzcojA3LlzzU59rKJYLNY4RZJBMlQtk97LRLNBOm1yJpDNsmq+id6+9T4bAe4L8oJgrqqSDCx7BP0iBNqDgAhDe2SpK0khQCQBoXEf//jHU7+M/kgNDBZrohFCNogBY5PrAdv58uXLQw7f6bHAety4cSYapkhNkU6DpovvNAIiDJ0Wf7sv/pJLLklIi4x9elAjcoLjLrzwwkGHOf+NDKQTJkwwPhMKlXQO78AOSe5G3Y3DDjssefzxxwceqx+FgBB4GgERBt0JrUSAGiKEx33mM58ZeH1k8GOXeeyxxw48zuWP+EowL6pKkhSKuH+1cAigRSKlNiYomX7C4a6Rmo+ACEPzZagr6IMANSme97znmUJjfX42X7GzxAyw5557Ok0/nTUe38+ZM8eU1cZXQqGSg5Dy8xtaHZxKcYItUnzMz2zUqxBoFgIiDM2Sl2abAwFqK7Agn3rqqQOPnjJlilFLhygqRHrhD33oQwqVHCgRvz/ecMMNpl7JRz7ykYQ022pCQAgUQ0CEoRheOroBCJx55plmYaDSYFb7zne+Y+pKXHPNNVmHOPm+N1SSkM2FCxc66VedFEMAOaNxwgGWtN9qQkAIFEdAhKE4ZjojYgTwD8CZjciDrEYCJ6ISzjrrrKxDnHxPCXZyQNhQSanAncBauJOrrrrKkIVPfepTURQRK3wBOkEIRIKACEMkgtA03CAwffp048T46KOP9u1w48aNJqPfkUcemeQpQtW3kzG+xDfChkqSBOovf/nLGGfoZ18IkIcDwjZ16lSRBV8gq9/OICDC0BlRt/9CKRaEQ9t5553X92KxW5OgZ7fddkseeeSRvsdU/fIPf/iDKYn8ghe8IPnud7+rRaoqoBXO/+Uvf5k8+9nPTj73uc95I4cVpqdThUDjEBBhaJzINOEsBE4++WSjPXjsscf6HnLiiSca3wYfO/5NmzaNCJVcv3593znoyzAIUEAMsjCW42uY2WgUIdAOBEQY2iHHzl8FZYmf+9znJhdddFFfLGbPnm0iFK644oq+v1f5klDJF7/4xaYeASpwtXoR+MlPfmIcWk877bR6J6LRhUDLEBBhaJlAu3o5xx9/fLLrrrv2LRq1YsWKZNttt01cLyBr165NDj300OFQSVU5rP/uo3jXM5/5TFOPo/7ZaAZCoF0IiDC0S56dvBpSP6N+/tnPfjbq+jEVkPHxoIMOchZOR1ge/gnbbbdd8rrXvS65/vrrR42rL8IjQGpvsmeeccYZ4QfXiEKgAwiIMHRAyG2/xKOOOirZfffdRzkYkgPh8MMPT8aPH5/gEOmioa14+9vfrlBJF2A67ANH12c84xkJOTjUhIAQ8IOACIMfXNVrIASWLVtmdpW//e1vR414+umnG7+GW265ZdRvRb8gVJKy02gy9t9//2T16tVFu9DxnhCgcBeaBbQ+akJACPhDQITBH7bqeQwESGREeCNmAzQADz30UELiJaIc8uZIOOSQQ0xypPTxEAgWkR//+MdjzGLsn0kpTCimQiUHY+VCnoNHGP2rJQszZ84c/aO+EQJCwCkCIgxO4VRnWQiwoEMMqNvw5z//OfnjH/+YkLMg648iQUuWLDGlqe+///6+/gf0gRo6nW75rrvuMos7yXqqNJwYqSrJGFSVHBoaqtJdq871Ic+iAM2YMcM4OF588cVFT9XxQkAIlEBAhKEEaDolPwKo8u++++6EdMyQA8wDLOhkXES7QBlqm9v/qaeeMkWB/vWvfxmNA6Wnb7311gTywB/5E3ojEQ444IDk4IMPHjEZzn3Tm96U7LXXXgljl202VHKnnXZKfvWrX5XtpnXn+ZRnXrAgK6ecckryrGc9K7n00kvznqbjhIAQqIiACENFAHV6fwRYWLDzs9AvXrw4IU/Cli1b+h88xrcQCbQMOBxCOvBbIDEPO/+bb755+GwWEioRjhs3LoFslGloQDBzYM5Au5CVYrpM300+x7c8MUflach42rRphixcfvnleU7RMUJACDhCQITBEZDq5mkEiExgscZcsHTp0oSKkTzkXTU0CLfffrup1TB58uQRJOTcc881C8nvf//7wsPZUMnnP//5ycSJE0cQkcKdteiEUPKECK5atWqEPNMwch+ddNJJJkJl3rx56Z/1WQgIAc8IiDB4BrhL3bMLZff/pz/9KSE1skuikMYRcwaEhLEgJeRCIIIhq45E+vzez5g93va2t5mKhhSNwkyilhiTTl3yTOMPcfnkJz9pqoz++te/Tv+sz0JA9dFkaQAACHNJREFUCARAQIQhAMhdGAKVMov38uXLB+4SXWIBIfnrX/+aLFiwIHnpS1+aHH300YVICtEYhEpiC6co1Zo1a1xOr9F91SlPtA3I1TZMUlOmTDEhsv3CZ+1xehUCQsAvAiIMfvHtRO/4F+CrQMZFn1qFLDAJyaSGBA6Vece/+uqrk5133jnZYYcdVFUyBWwM8sSkhekJU9Gxxx5rUnvPnz8/NVN9FAJCICQCIgwh0W7hWJgD2BFSV6HORv4GNBwsMoMai+Fxxx03HCp53333DTq8c7/FJk9MRKTg5h5TEwJCoF4ERBjqxb/Ro5NXAc0CYZMxNEgDO9NedbadF5qHyy67LNlxxx1NCewrr7zS/qTX/yMQozwhCmWcWCVUISAE3CMgwuAe0070iGMguRViS5GMeYJFprd2BIRm0qRJJskPoZKbN2/uhIyKXGST5FnkunSsEBAC7hAQYXCHZad6IicCPgM4pMXW0DBgniAEk/oChEruscceJh9EbHONZT5NkGfZPB6xYKx5CIGmIyDC0HQJ1jB/sjRiioh1p475gZBLyhxvs802CfUGbDbJGuCKfsimyJM8DWpCQAjUh4AIQ33YN3JkFl5MEf38BGK6IPwZyM1A3Qq1bASaJE9MTXkzQmZfsX4RAkKgLAIiDGWR6+h569atSxYtWtSIHTu1J8gLoZaNgOSZjY1+EQJCYCQCIgwj8dCnAQiQbQ/tQt0hlAOmOOInfBjYlfYWrBpxQMc/SJ4dvwF0+UKgIAIiDAUB6/LhxOjju+AidTLFqGbOnGkKPT3nOc8xeRGuvfZa5/DizIemQW00ApLnaEz0jRAQAtkIiDBkY6NfUgjcdtttpkBQ6utSH0nlTLXJ3j8fhME69D355JOl5tnmkyTPNktX1yYE3CMgwuAe01b2SPgk2gV2pS7a3nvvbSoPXnfddcnUqVO9aRhcz9vFtcfQh2tcJM8YpKo5CAG/CIgw+MW3Nb3jB4A/gAtzRBoUShajafChYWAsqlHeeeed6WE7/Vny7LT4dfFCoBQCIgylYOveSTg6kqjJR/NNGP72t795m7sPPEL0KXmGQFljCIF2ISDC0C55ersaHAfHKuxUdnDfhIE00ZhT8layLHsdTTpP8myStDRXIRAHAiIMccgh+lmQOdFXOKVvwmDDKx977LHocQ41QckzFNIaRwi0BwERhvbI0uuVkH/BVylo34QBvwv8Lx555BGvGDWpc8mzSdLSXIVAHAiIMMQhh+hnQdloQhR9NN+EgYgAJXAaKTnJcyQe+iQEhMDYCIgwjI2RjkgSpyGVaUB9EwZ8FyAMDz74YHrozn52GSKbBlHyTCOiz0KgHQiIMLRDjt6vgnLRGzZs8DKO7wWGAksQhk2bNnmZfxM7lTybKDXNWQjUi4AIQ734N2b0m2++ORkaGvIyX9+E4T//+Y8hDI8++qiX+TexU8mziVLTnIVAvQiIMNSLf2NGp0y0y5LWxxxzzIi00L0ponk/d+5cZ9jg7IiGAeKg9jQCkqfuBCEgBIoiIMJQFLGOHr9mzZqE2gOuWkjCgCkFFbzaVgQkz61Y6J0QEAL5EBBhyIdT54/CHEEoXhMbaaHZUattRUDy3IqF3gkBIZAPARGGfDh1/iib/Ojf//5347BYsmSJt6RTjQPj/xOWPJsqOc1bCNSHgAhDfdg3bmQ0DOvXr2/UvB9//HHjv/DPf/6zUfMOMVnJMwTKGkMItAcBEYb2yNL7ldx1112NK+JE4ambbrpJdST63B2SZx9Q9JUQEAKZCIgwZEKjH9IIEJZItEFTwhNJ2LR48eLk7rvvTl+KPieJkaPkqVtBCAiBvAiIMORFSscZBHAepNJhE9r9999vMlRillDrj4Dk2R8XfSsEhMBoBEQYRmOibwYgQHpldqU4zcXc0C7ccsstCeGDatkISJ7Z2OgXISAERiIgwjASD33KgQC70tjDFHHOpMDSli1bclxRtw+RPLstf129EMiLgAhDXqR03DACaBcoXvT3v/99+LuY3mCCIFHTvffeG9O0op2L5BmtaDQxIRAVAiIMUYmjOZMh+oAdfGymif/+97/J8uXLk2XLliW8V8uHgOSZDycdJQS6jIAIQ5elX+Ha8RFYsWKFiUJ44oknKvTk9lR8FtAuyNGxGK6SZzG8dLQQ6CICIgxdlLqja37yyScTsiiym6eEdN3tnnvuMaaShx9+uO6pNHJ8ybORYtOkhUAwBEQYgkHdzoFwKqRUMqShTk0DlTSJ3iCUUq08ApJneex0phBoOwIiDG2XcIDrY5FB00CSpNA+DU899VRy++23G3+KBx54IMDVtn8IybP9MtYVCoEyCIgwlEFN54xCAHU2Pg04QoaKnti8ebMhKqR+Vq2IUSKp9IXkWQk+nSwEWomACEMrxVrPReE4h7c9IZfE9vvSNrCYUQcBE8TKlStrNYXUg3SYUSXPMDhrFCHQFAREGJoiqQbNkxLYt956q1nQV61a5az2BD4SODYSBYFWQf4KYW4KyTMMzhpFCMSOgAhD7BJq8Pweeugho2lAE0Ca5nXr1hXWOkASIAa33Xab0VxAFMjiiO+CWlgEJM+weGs0IRAbAiIMsUmkhfOhuiUmhBtvvNFoHXjFlEBkw9DQULJhw4YEh8WNGzcm9913X7J27VrjyIgjJWQDEweaCo5RMqb6bxDJs34ZaAZCoA4ERBjqQL3DY+LXAEm44447jPaBkMxFixYZYmBNDUuXLjWEAX+ITZs2iSREfL9InhELR1MTAo4REGFwDKi6EwJCQAgIASHQRgREGNooVV2TEBACQkAICAHHCIgwOAZU3QkBISAEhIAQaCMCIgxtlKquSQgIASEgBISAYwQgDHP0Jwx0D+ge0D2ge0D3gO6BQffA/wA/3tmo5uiskgAAAABJRU5ErkJggg==)"
      ]
    },
    {
      "cell_type": "code",
      "metadata": {
        "id": "wOl9s7YSis1e"
      },
      "source": [
        "# Build sequential models (image above)\n",
        "\n",
        "model = keras.Sequential([\n",
        "    # the hidden ReLU layers\n",
        "    layers.Dense(units=4, activation='relu', input_shape=[2]),\n",
        "    layers.Dense(units=3, activation='relu'),\n",
        "    # the linear output layer \n",
        "    layers.Dense(units=1),\n",
        "])"
      ],
      "execution_count": null,
      "outputs": []
    },
    {
      "cell_type": "code",
      "metadata": {
        "colab": {
          "base_uri": "https://localhost:8080/",
          "height": 248
        },
        "id": "W7QijRTGm-sQ",
        "outputId": "448c9368-761b-42e9-f187-aaa4d0811de9"
      },
      "source": [
        "concrete = pd.read_excel('/content/drive/MyDrive/Colab Notebooks/ML concepts/Features   Pipelines/Concrete_Data.xls')\n",
        "concrete.head()"
      ],
      "execution_count": null,
      "outputs": [
        {
          "output_type": "execute_result",
          "data": {
            "text/html": [
              "<div>\n",
              "<style scoped>\n",
              "    .dataframe tbody tr th:only-of-type {\n",
              "        vertical-align: middle;\n",
              "    }\n",
              "\n",
              "    .dataframe tbody tr th {\n",
              "        vertical-align: top;\n",
              "    }\n",
              "\n",
              "    .dataframe thead th {\n",
              "        text-align: right;\n",
              "    }\n",
              "</style>\n",
              "<table border=\"1\" class=\"dataframe\">\n",
              "  <thead>\n",
              "    <tr style=\"text-align: right;\">\n",
              "      <th></th>\n",
              "      <th>Cement (component 1)(kg in a m^3 mixture)</th>\n",
              "      <th>Blast Furnace Slag (component 2)(kg in a m^3 mixture)</th>\n",
              "      <th>Fly Ash (component 3)(kg in a m^3 mixture)</th>\n",
              "      <th>Water  (component 4)(kg in a m^3 mixture)</th>\n",
              "      <th>Superplasticizer (component 5)(kg in a m^3 mixture)</th>\n",
              "      <th>Coarse Aggregate  (component 6)(kg in a m^3 mixture)</th>\n",
              "      <th>Fine Aggregate (component 7)(kg in a m^3 mixture)</th>\n",
              "      <th>Age (day)</th>\n",
              "      <th>Concrete compressive strength(MPa, megapascals)</th>\n",
              "    </tr>\n",
              "  </thead>\n",
              "  <tbody>\n",
              "    <tr>\n",
              "      <th>0</th>\n",
              "      <td>540.0</td>\n",
              "      <td>0.0</td>\n",
              "      <td>0.0</td>\n",
              "      <td>162.0</td>\n",
              "      <td>2.5</td>\n",
              "      <td>1040.0</td>\n",
              "      <td>676.0</td>\n",
              "      <td>28</td>\n",
              "      <td>79.986111</td>\n",
              "    </tr>\n",
              "    <tr>\n",
              "      <th>1</th>\n",
              "      <td>540.0</td>\n",
              "      <td>0.0</td>\n",
              "      <td>0.0</td>\n",
              "      <td>162.0</td>\n",
              "      <td>2.5</td>\n",
              "      <td>1055.0</td>\n",
              "      <td>676.0</td>\n",
              "      <td>28</td>\n",
              "      <td>61.887366</td>\n",
              "    </tr>\n",
              "    <tr>\n",
              "      <th>2</th>\n",
              "      <td>332.5</td>\n",
              "      <td>142.5</td>\n",
              "      <td>0.0</td>\n",
              "      <td>228.0</td>\n",
              "      <td>0.0</td>\n",
              "      <td>932.0</td>\n",
              "      <td>594.0</td>\n",
              "      <td>270</td>\n",
              "      <td>40.269535</td>\n",
              "    </tr>\n",
              "    <tr>\n",
              "      <th>3</th>\n",
              "      <td>332.5</td>\n",
              "      <td>142.5</td>\n",
              "      <td>0.0</td>\n",
              "      <td>228.0</td>\n",
              "      <td>0.0</td>\n",
              "      <td>932.0</td>\n",
              "      <td>594.0</td>\n",
              "      <td>365</td>\n",
              "      <td>41.052780</td>\n",
              "    </tr>\n",
              "    <tr>\n",
              "      <th>4</th>\n",
              "      <td>198.6</td>\n",
              "      <td>132.4</td>\n",
              "      <td>0.0</td>\n",
              "      <td>192.0</td>\n",
              "      <td>0.0</td>\n",
              "      <td>978.4</td>\n",
              "      <td>825.5</td>\n",
              "      <td>360</td>\n",
              "      <td>44.296075</td>\n",
              "    </tr>\n",
              "  </tbody>\n",
              "</table>\n",
              "</div>"
            ],
            "text/plain": [
              "   Cement (component 1)(kg in a m^3 mixture)  ...  Concrete compressive strength(MPa, megapascals) \n",
              "0                                      540.0  ...                                         79.986111\n",
              "1                                      540.0  ...                                         61.887366\n",
              "2                                      332.5  ...                                         40.269535\n",
              "3                                      332.5  ...                                         41.052780\n",
              "4                                      198.6  ...                                         44.296075\n",
              "\n",
              "[5 rows x 9 columns]"
            ]
          },
          "metadata": {
            "tags": []
          },
          "execution_count": 11
        }
      ]
    },
    {
      "cell_type": "markdown",
      "metadata": {
        "id": "qbGkI80anhK6"
      },
      "source": [
        "The target for this task is the column `'CompressiveStrength'`. The remaining columns are the features we'll use as inputs.\n",
        "\n",
        "Create a model with **three hidden layers**, each having *512 units* and the *ReLU activation*. Be sure to include an output layer of one unit and no activation, and also `input_shape=[8]` as an argument to the first layer."
      ]
    },
    {
      "cell_type": "code",
      "metadata": {
        "id": "i2rM590znR4m"
      },
      "source": [
        "model = keras.Sequential([\n",
        "    layers.Dense(units=512, activation='relu', input_shape=[8]), # layer 1\n",
        "    layers.Dense(units=512, activation='relu'), # layer 2\n",
        "    layers.Dense(units=512, activation='relu'), # layer 3\n",
        "    layers.Dense(units=1), # output layer\n",
        "])"
      ],
      "execution_count": null,
      "outputs": []
    },
    {
      "cell_type": "markdown",
      "metadata": {
        "id": "lRtxgGVFp0zV"
      },
      "source": [
        "Another way to apply activation function is to define it in its own activation layer (use when you want to put some other layer between the Dense layer and its activation function)."
      ]
    },
    {
      "cell_type": "code",
      "metadata": {
        "id": "3mzLj2z2qYHq"
      },
      "source": [
        "# This model is equivalent to....\n",
        "model = keras.Sequential([\n",
        "                          \n",
        "    layers.Dense(32, input_shape=[8]),\n",
        "    layers.Activation('relu'),\n",
        "\n",
        "    layers.Dense(32),\n",
        "    layers.Activation('relu'),\n",
        "\n",
        "    layers.Dense(1),\n",
        "])\n",
        "\n",
        "\n",
        "# ...this model\n",
        "model = keras.Sequential([\n",
        "    layers.Dense(32, activation='relu', input_shape=[8]),\n",
        "    layers.Dense(32, activation='relu'),\n",
        "    layers.Dense(1),\n",
        "])"
      ],
      "execution_count": null,
      "outputs": []
    },
    {
      "cell_type": "markdown",
      "metadata": {
        "id": "zGHxX-gFxfzo"
      },
      "source": [
        "There are different activation functions that you can try to see which is the best. Sometimes one activation will perform better than another on a given task, so you could consider experimenting with activations as you develop a model. "
      ]
    },
    {
      "cell_type": "code",
      "metadata": {
        "colab": {
          "base_uri": "https://localhost:8080/",
          "height": 380
        },
        "id": "Hb5SqGgjrMPh",
        "outputId": "c0f46785-9f0e-459c-fc22-56a843e6f0fb"
      },
      "source": [
        "# create various activation layers\n",
        "relu_activation_layer = layers.Activation('relu')\n",
        "elu_activation_layer = layers.Activation('elu')\n",
        "selu_activation_layer = layers.Activation('selu')\n",
        "swish_activation_layer = layers.Activation('swish')\n",
        "\n",
        "# inputs\n",
        "x = tf.linspace(-3.0, 3.0, 100)\n",
        "\n",
        "fig = plt.figure(figsize=(16,4), dpi=100)\n",
        "ax1 = fig.add_subplot(1, 4, 1)\n",
        "ax2 = fig.add_subplot(1, 4, 2)\n",
        "ax3 = fig.add_subplot(1, 4, 3)\n",
        "ax4 = fig.add_subplot(1, 4, 4)\n",
        "\n",
        "# once created, a layer is callable just like a function\n",
        "ax1.plot(x, relu_activation_layer(x))\n",
        "ax2.plot(x, elu_activation_layer(x))\n",
        "ax3.plot(x, selu_activation_layer(x))\n",
        "ax4.plot(x, swish_activation_layer(x))\n",
        "\n",
        "ax1.set_title('relu')\n",
        "ax1.set_xlabel('input')\n",
        "ax1.set_ylabel('output')\n",
        "ax2.set_title('elu')\n",
        "ax2.set_xlabel('input')\n",
        "ax2.set_ylabel('output')\n",
        "ax3.set_title('selu')\n",
        "ax3.set_xlabel('input')\n",
        "ax3.set_ylabel('output')\n",
        "ax4.set_title('swish')\n",
        "ax4.set_xlabel('input')\n",
        "ax4.set_ylabel('output')\n",
        "plt.show()"
      ],
      "execution_count": null,
      "outputs": [
        {
          "output_type": "display_data",
          "data": {
            "image/png": "[encoded data removed]",
            "text/plain": [
              "<Figure size 1600x400 with 4 Axes>"
            ]
          },
          "metadata": {
            "tags": []
          }
        }
      ]
    },
    {
      "cell_type": "markdown",
      "metadata": {
        "id": "k6z-ymolxwiK"
      },
      "source": [
        "## **Stochastic Gradient Descent**\n",
        "\n",
        "What you need to train a neural network:\n",
        "- training data\n",
        "- \"loss function\" that measures how good the network's predictions are\n",
        "- \"optimizer\" that can tell the network how to change its weights\n",
        "\n",
        "<u>Loss function</u>\n",
        "- tells NN what problem to solve\n",
        "- measures disparity between the the target's true value and model prediction\n",
        "- common loss functions for regression problems are MAE, MSE, Huber Loss\n",
        "\n",
        "<u>Optimizer</u>\n",
        "- tells NN how to solve problem\n",
        "- iterative algorithm that adjusts the weights to minimize the loss\n",
        "- these algorithms fall under stochastic gradient descent family\n",
        "- Adam is an SGD algorithm that has an adaptive learning rate that makes it suitable for most problems without any parameter tuning (\"self tuning\" in a sense and great general-purpose optimizer)\n",
        "\n",
        "<u>Training Steps</u>:\n",
        "1. Sample some training data (\"minibatch\") and run it through the network to make predictions.\n",
        "2. Measure the loss between the predictions and the true values.\n",
        "3. Adjust the weights in a direction that makes the loss smaller.\n",
        " - learning rate and batch size are parameters that have greatest impact on SGD training\n",
        " - smaller learning rate means the network needs to see more minibatches before its weights converge to their best values\n",
        "4. Repeat until the loss is as small as you like (or until it won't decrease any further.)\n",
        "\n",
        "SGD will shift the network weights in proportion to how large an activation the data produces. Features that tend to produce activations of very different sizes can make for unstable training behavior. Thus, it's generally a good idea to put all of your data on a common scale for NNs.\n",
        "\n",
        "\n",
        "**Epoch** = complete round of the training data<br>\n",
        "**Batch** = sample of training data for each iteration\n",
        "\n",
        "***\n",
        "\n",
        "Back to red wine example:"
      ]
    },
    {
      "cell_type": "code",
      "metadata": {
        "colab": {
          "base_uri": "https://localhost:8080/",
          "height": 170
        },
        "id": "mgMpX1g_pWrP",
        "outputId": "bc80d841-06ec-4599-ae35-114764a75252"
      },
      "source": [
        "# Create training and validation splits\n",
        "df_train = red_wine.sample(frac=0.7, random_state=0)\n",
        "df_valid = red_wine.drop(df_train.index)\n",
        "display(df_train.head(4))\n",
        "\n",
        "# Scale to [0, 1]\n",
        "max_ = df_train.max(axis=0)\n",
        "min_ = df_train.min(axis=0)\n",
        "df_train = (df_train - min_) / (max_ - min_)\n",
        "df_valid = (df_valid - min_) / (max_ - min_)\n",
        "\n",
        "# Split features and target\n",
        "X_train = df_train.drop('quality', axis=1)\n",
        "X_valid = df_valid.drop('quality', axis=1)\n",
        "y_train = df_train['quality']\n",
        "y_valid = df_valid['quality']"
      ],
      "execution_count": null,
      "outputs": [
        {
          "output_type": "display_data",
          "data": {
            "text/html": [
              "<div>\n",
              "<style scoped>\n",
              "    .dataframe tbody tr th:only-of-type {\n",
              "        vertical-align: middle;\n",
              "    }\n",
              "\n",
              "    .dataframe tbody tr th {\n",
              "        vertical-align: top;\n",
              "    }\n",
              "\n",
              "    .dataframe thead th {\n",
              "        text-align: right;\n",
              "    }\n",
              "</style>\n",
              "<table border=\"1\" class=\"dataframe\">\n",
              "  <thead>\n",
              "    <tr style=\"text-align: right;\">\n",
              "      <th></th>\n",
              "      <th>fixed acidity</th>\n",
              "      <th>volatile acidity</th>\n",
              "      <th>citric acid</th>\n",
              "      <th>residual sugar</th>\n",
              "      <th>chlorides</th>\n",
              "      <th>free sulfur dioxide</th>\n",
              "      <th>total sulfur dioxide</th>\n",
              "      <th>density</th>\n",
              "      <th>pH</th>\n",
              "      <th>sulphates</th>\n",
              "      <th>alcohol</th>\n",
              "      <th>quality</th>\n",
              "    </tr>\n",
              "  </thead>\n",
              "  <tbody>\n",
              "    <tr>\n",
              "      <th>1109</th>\n",
              "      <td>10.8</td>\n",
              "      <td>0.470</td>\n",
              "      <td>0.43</td>\n",
              "      <td>2.10</td>\n",
              "      <td>0.171</td>\n",
              "      <td>27.0</td>\n",
              "      <td>66.0</td>\n",
              "      <td>0.99820</td>\n",
              "      <td>3.17</td>\n",
              "      <td>0.76</td>\n",
              "      <td>10.8</td>\n",
              "      <td>6</td>\n",
              "    </tr>\n",
              "    <tr>\n",
              "      <th>1032</th>\n",
              "      <td>8.1</td>\n",
              "      <td>0.820</td>\n",
              "      <td>0.00</td>\n",
              "      <td>4.10</td>\n",
              "      <td>0.095</td>\n",
              "      <td>5.0</td>\n",
              "      <td>14.0</td>\n",
              "      <td>0.99854</td>\n",
              "      <td>3.36</td>\n",
              "      <td>0.53</td>\n",
              "      <td>9.6</td>\n",
              "      <td>5</td>\n",
              "    </tr>\n",
              "    <tr>\n",
              "      <th>1002</th>\n",
              "      <td>9.1</td>\n",
              "      <td>0.290</td>\n",
              "      <td>0.33</td>\n",
              "      <td>2.05</td>\n",
              "      <td>0.063</td>\n",
              "      <td>13.0</td>\n",
              "      <td>27.0</td>\n",
              "      <td>0.99516</td>\n",
              "      <td>3.26</td>\n",
              "      <td>0.84</td>\n",
              "      <td>11.7</td>\n",
              "      <td>7</td>\n",
              "    </tr>\n",
              "    <tr>\n",
              "      <th>487</th>\n",
              "      <td>10.2</td>\n",
              "      <td>0.645</td>\n",
              "      <td>0.36</td>\n",
              "      <td>1.80</td>\n",
              "      <td>0.053</td>\n",
              "      <td>5.0</td>\n",
              "      <td>14.0</td>\n",
              "      <td>0.99820</td>\n",
              "      <td>3.17</td>\n",
              "      <td>0.42</td>\n",
              "      <td>10.0</td>\n",
              "      <td>6</td>\n",
              "    </tr>\n",
              "  </tbody>\n",
              "</table>\n",
              "</div>"
            ],
            "text/plain": [
              "      fixed acidity  volatile acidity  citric acid  ...  sulphates  alcohol  quality\n",
              "1109           10.8             0.470         0.43  ...       0.76     10.8        6\n",
              "1032            8.1             0.820         0.00  ...       0.53      9.6        5\n",
              "1002            9.1             0.290         0.33  ...       0.84     11.7        7\n",
              "487            10.2             0.645         0.36  ...       0.42     10.0        6\n",
              "\n",
              "[4 rows x 12 columns]"
            ]
          },
          "metadata": {
            "tags": []
          }
        }
      ]
    },
    {
      "cell_type": "code",
      "metadata": {
        "id": "LefkjODApdhE"
      },
      "source": [
        "# We chose a three-layer network with over 1500 neurons\n",
        "model = keras.Sequential([\n",
        "    layers.Dense(512, activation='relu', input_shape=[11]),\n",
        "    layers.Dense(512, activation='relu'),\n",
        "    layers.Dense(512, activation='relu'),\n",
        "    layers.Dense(1),\n",
        "])"
      ],
      "execution_count": null,
      "outputs": []
    },
    {
      "cell_type": "code",
      "metadata": {
        "id": "LS1b7subtYdD"
      },
      "source": [
        "# After defining the model, compile in the optimizer and loss fx\n",
        "model.compile(\n",
        "    optimizer='adam',\n",
        "    loss='mae',\n",
        ")"
      ],
      "execution_count": null,
      "outputs": []
    },
    {
      "cell_type": "markdown",
      "metadata": {
        "id": "6Bpgw_tkpxJ1"
      },
      "source": [
        "Now we're ready to start the training! We've told Keras to feed the optimizer 256 rows of the training data at a time (`batch_size`) and to do that 10 times all the way through the dataset (`epochs`)."
      ]
    },
    {
      "cell_type": "code",
      "metadata": {
        "id": "adUAH6NvwWk1",
        "colab": {
          "base_uri": "https://localhost:8080/"
        },
        "outputId": "ede0a579-f684-4b35-d338-18a05fb351c3"
      },
      "source": [
        "history = model.fit(\n",
        "    X_train, y_train,\n",
        "    validation_data=(X_valid, y_valid),\n",
        "    batch_size=256,\n",
        "    epochs=10,\n",
        ")"
      ],
      "execution_count": null,
      "outputs": [
        {
          "output_type": "stream",
          "text": [
            "Epoch 1/10\n",
            "5/5 [==============================] - 1s 70ms/step - loss: 0.2728 - val_loss: 0.1353\n",
            "Epoch 2/10\n",
            "5/5 [==============================] - 0s 30ms/step - loss: 0.1473 - val_loss: 0.1240\n",
            "Epoch 3/10\n",
            "5/5 [==============================] - 0s 34ms/step - loss: 0.1264 - val_loss: 0.1147\n",
            "Epoch 4/10\n",
            "5/5 [==============================] - 0s 31ms/step - loss: 0.1155 - val_loss: 0.1099\n",
            "Epoch 5/10\n",
            "5/5 [==============================] - 0s 29ms/step - loss: 0.1128 - val_loss: 0.1073\n",
            "Epoch 6/10\n",
            "5/5 [==============================] - 0s 29ms/step - loss: 0.1071 - val_loss: 0.1036\n",
            "Epoch 7/10\n",
            "5/5 [==============================] - 0s 33ms/step - loss: 0.1050 - val_loss: 0.1090\n",
            "Epoch 8/10\n",
            "5/5 [==============================] - 0s 30ms/step - loss: 0.1043 - val_loss: 0.1014\n",
            "Epoch 9/10\n",
            "5/5 [==============================] - 0s 29ms/step - loss: 0.1025 - val_loss: 0.1021\n",
            "Epoch 10/10\n",
            "5/5 [==============================] - 0s 30ms/step - loss: 0.1008 - val_loss: 0.1066\n"
          ],
          "name": "stdout"
        }
      ]
    },
    {
      "cell_type": "markdown",
      "metadata": {
        "id": "Bt2rOMYZqLzz"
      },
      "source": [
        "Keras shows you the history of the training and validation loss over the epochs that is training the model but visualizing is easier.\n",
        "\n"
      ]
    },
    {
      "cell_type": "code",
      "metadata": {
        "id": "I7qBDg6JxJyv",
        "colab": {
          "base_uri": "https://localhost:8080/",
          "height": 297
        },
        "outputId": "58b08a69-87fe-4566-90f1-c775d730685e"
      },
      "source": [
        "# convert the training history to a dataframe\n",
        "history_df = pd.DataFrame(history.history)\n",
        "# use Pandas native plot method\n",
        "history_df['loss'].plot();"
      ],
      "execution_count": null,
      "outputs": [
        {
          "output_type": "display_data",
          "data": {
            "image/png": "[encoded data removed]",
            "text/plain": [
              "<Figure size 432x288 with 1 Axes>"
            ]
          },
          "metadata": {
            "tags": []
          }
        }
      ]
    },
    {
      "cell_type": "markdown",
      "metadata": {
        "id": "znzT59-Cqqzd"
      },
      "source": [
        "### Fuel Economy Example\n",
        "\n",
        "Predict the fuel economy of an automobile given features like its type of engine or the year it was made."
      ]
    },
    {
      "cell_type": "code",
      "metadata": {
        "id": "inA_snEmqU_H"
      },
      "source": [
        "# Set Matplotlib defaults\n",
        "plt.rc('figure', autolayout=True)\n",
        "plt.rc('axes', labelweight='bold', labelsize='large',\n",
        "       titleweight='bold', titlesize=18, titlepad=10)\n",
        "plt.rc('animation', html='html5')"
      ],
      "execution_count": null,
      "outputs": []
    },
    {
      "cell_type": "code",
      "metadata": {
        "id": "Q-OATO_jqmt9"
      },
      "source": [
        "import numpy as np\n",
        "import pandas as pd\n",
        "from sklearn.preprocessing import StandardScaler, OneHotEncoder\n",
        "from sklearn.compose import make_column_transformer, make_column_selector\n",
        "from sklearn.model_selection import train_test_split"
      ],
      "execution_count": 38,
      "outputs": []
    },
    {
      "cell_type": "code",
      "metadata": {
        "colab": {
          "base_uri": "https://localhost:8080/",
          "height": 220
        },
        "id": "liQTfLnuswx7",
        "outputId": "d6d36497-4561-48f2-ffc3-f67a02ffedac"
      },
      "source": [
        "fuel = pd.read_csv('/content/drive/MyDrive/Colab Notebooks/ML concepts/Deep Learning/fuel.csv')\n",
        "fuel.head()"
      ],
      "execution_count": null,
      "outputs": [
        {
          "output_type": "execute_result",
          "data": {
            "text/html": [
              "<div>\n",
              "<style scoped>\n",
              "    .dataframe tbody tr th:only-of-type {\n",
              "        vertical-align: middle;\n",
              "    }\n",
              "\n",
              "    .dataframe tbody tr th {\n",
              "        vertical-align: top;\n",
              "    }\n",
              "\n",
              "    .dataframe thead th {\n",
              "        text-align: right;\n",
              "    }\n",
              "</style>\n",
              "<table border=\"1\" class=\"dataframe\">\n",
              "  <thead>\n",
              "    <tr style=\"text-align: right;\">\n",
              "      <th></th>\n",
              "      <th>EngDispl</th>\n",
              "      <th>NumCyl</th>\n",
              "      <th>Transmission</th>\n",
              "      <th>FE</th>\n",
              "      <th>AirAspirationMethod</th>\n",
              "      <th>NumGears</th>\n",
              "      <th>TransLockup</th>\n",
              "      <th>TransCreeperGear</th>\n",
              "      <th>DriveDesc</th>\n",
              "      <th>IntakeValvePerCyl</th>\n",
              "      <th>ExhaustValvesPerCyl</th>\n",
              "      <th>CarlineClassDesc</th>\n",
              "      <th>VarValveTiming</th>\n",
              "      <th>VarValveLift</th>\n",
              "    </tr>\n",
              "  </thead>\n",
              "  <tbody>\n",
              "    <tr>\n",
              "      <th>0</th>\n",
              "      <td>4.7</td>\n",
              "      <td>8</td>\n",
              "      <td>AM6</td>\n",
              "      <td>28.0198</td>\n",
              "      <td>NaturallyAspirated</td>\n",
              "      <td>6</td>\n",
              "      <td>1</td>\n",
              "      <td>0</td>\n",
              "      <td>TwoWheelDriveRear</td>\n",
              "      <td>2</td>\n",
              "      <td>2</td>\n",
              "      <td>2Seaters</td>\n",
              "      <td>1</td>\n",
              "      <td>0</td>\n",
              "    </tr>\n",
              "    <tr>\n",
              "      <th>1</th>\n",
              "      <td>4.7</td>\n",
              "      <td>8</td>\n",
              "      <td>M6</td>\n",
              "      <td>25.6094</td>\n",
              "      <td>NaturallyAspirated</td>\n",
              "      <td>6</td>\n",
              "      <td>1</td>\n",
              "      <td>0</td>\n",
              "      <td>TwoWheelDriveRear</td>\n",
              "      <td>2</td>\n",
              "      <td>2</td>\n",
              "      <td>2Seaters</td>\n",
              "      <td>1</td>\n",
              "      <td>0</td>\n",
              "    </tr>\n",
              "    <tr>\n",
              "      <th>2</th>\n",
              "      <td>4.2</td>\n",
              "      <td>8</td>\n",
              "      <td>M6</td>\n",
              "      <td>26.8000</td>\n",
              "      <td>NaturallyAspirated</td>\n",
              "      <td>6</td>\n",
              "      <td>1</td>\n",
              "      <td>0</td>\n",
              "      <td>AllWheelDrive</td>\n",
              "      <td>2</td>\n",
              "      <td>2</td>\n",
              "      <td>2Seaters</td>\n",
              "      <td>1</td>\n",
              "      <td>0</td>\n",
              "    </tr>\n",
              "    <tr>\n",
              "      <th>3</th>\n",
              "      <td>4.2</td>\n",
              "      <td>8</td>\n",
              "      <td>AM6</td>\n",
              "      <td>25.0451</td>\n",
              "      <td>NaturallyAspirated</td>\n",
              "      <td>6</td>\n",
              "      <td>1</td>\n",
              "      <td>0</td>\n",
              "      <td>AllWheelDrive</td>\n",
              "      <td>2</td>\n",
              "      <td>2</td>\n",
              "      <td>2Seaters</td>\n",
              "      <td>1</td>\n",
              "      <td>0</td>\n",
              "    </tr>\n",
              "    <tr>\n",
              "      <th>4</th>\n",
              "      <td>5.2</td>\n",
              "      <td>10</td>\n",
              "      <td>AM6</td>\n",
              "      <td>24.8000</td>\n",
              "      <td>NaturallyAspirated</td>\n",
              "      <td>6</td>\n",
              "      <td>0</td>\n",
              "      <td>0</td>\n",
              "      <td>AllWheelDrive</td>\n",
              "      <td>2</td>\n",
              "      <td>2</td>\n",
              "      <td>2Seaters</td>\n",
              "      <td>1</td>\n",
              "      <td>0</td>\n",
              "    </tr>\n",
              "  </tbody>\n",
              "</table>\n",
              "</div>"
            ],
            "text/plain": [
              "   EngDispl  NumCyl Transmission  ...  CarlineClassDesc VarValveTiming  VarValveLift\n",
              "0       4.7       8          AM6  ...          2Seaters              1             0\n",
              "1       4.7       8           M6  ...          2Seaters              1             0\n",
              "2       4.2       8           M6  ...          2Seaters              1             0\n",
              "3       4.2       8          AM6  ...          2Seaters              1             0\n",
              "4       5.2      10          AM6  ...          2Seaters              1             0\n",
              "\n",
              "[5 rows x 14 columns]"
            ]
          },
          "metadata": {
            "tags": []
          },
          "execution_count": 4
        }
      ]
    },
    {
      "cell_type": "code",
      "metadata": {
        "id": "5VKQOFhRs0A7"
      },
      "source": [
        "# Define target and inputs\n",
        "X = fuel.copy()\n",
        "y = X.pop('FE')"
      ],
      "execution_count": null,
      "outputs": []
    },
    {
      "cell_type": "code",
      "metadata": {
        "colab": {
          "base_uri": "https://localhost:8080/"
        },
        "id": "dGirSYUHs5f5",
        "outputId": "9c58a160-0229-4bfe-90aa-d7e27a1dc0e0"
      },
      "source": [
        "# Make preprocessing pipeline\n",
        "preprocessor = make_column_transformer(\n",
        "    # standardize numeric cols\n",
        "    (StandardScaler(),\n",
        "     make_column_selector(dtype_include=np.number)),\n",
        "    # one-hot encode categorical cols\n",
        "    (OneHotEncoder(sparse=False),\n",
        "     make_column_selector(dtype_include=object)),\n",
        ")\n",
        "\n",
        "X = preprocessor.fit_transform(X)\n",
        "y = np.log(y) # log transform target instead of standardizing\n",
        "\n",
        "input_shape = [X.shape[1]]\n",
        "print(\"Input shape: {}\".format(input_shape))"
      ],
      "execution_count": null,
      "outputs": [
        {
          "output_type": "stream",
          "text": [
            "Input shape: [50]\n"
          ],
          "name": "stdout"
        }
      ]
    },
    {
      "cell_type": "code",
      "metadata": {
        "id": "g9a0ZMC6ynX9",
        "colab": {
          "base_uri": "https://localhost:8080/",
          "height": 220
        },
        "outputId": "7836a3d5-d4a5-43eb-b55e-d43bbdc46068"
      },
      "source": [
        "# See processed features\n",
        "pd.DataFrame(X[:10,:]).head()"
      ],
      "execution_count": null,
      "outputs": [
        {
          "output_type": "execute_result",
          "data": {
            "text/html": [
              "<div>\n",
              "<style scoped>\n",
              "    .dataframe tbody tr th:only-of-type {\n",
              "        vertical-align: middle;\n",
              "    }\n",
              "\n",
              "    .dataframe tbody tr th {\n",
              "        vertical-align: top;\n",
              "    }\n",
              "\n",
              "    .dataframe thead th {\n",
              "        text-align: right;\n",
              "    }\n",
              "</style>\n",
              "<table border=\"1\" class=\"dataframe\">\n",
              "  <thead>\n",
              "    <tr style=\"text-align: right;\">\n",
              "      <th></th>\n",
              "      <th>0</th>\n",
              "      <th>1</th>\n",
              "      <th>2</th>\n",
              "      <th>3</th>\n",
              "      <th>4</th>\n",
              "      <th>5</th>\n",
              "      <th>6</th>\n",
              "      <th>7</th>\n",
              "      <th>8</th>\n",
              "      <th>9</th>\n",
              "      <th>10</th>\n",
              "      <th>11</th>\n",
              "      <th>12</th>\n",
              "      <th>13</th>\n",
              "      <th>14</th>\n",
              "      <th>15</th>\n",
              "      <th>16</th>\n",
              "      <th>17</th>\n",
              "      <th>18</th>\n",
              "      <th>19</th>\n",
              "      <th>20</th>\n",
              "      <th>21</th>\n",
              "      <th>22</th>\n",
              "      <th>23</th>\n",
              "      <th>24</th>\n",
              "      <th>25</th>\n",
              "      <th>26</th>\n",
              "      <th>27</th>\n",
              "      <th>28</th>\n",
              "      <th>29</th>\n",
              "      <th>30</th>\n",
              "      <th>31</th>\n",
              "      <th>32</th>\n",
              "      <th>33</th>\n",
              "      <th>34</th>\n",
              "      <th>35</th>\n",
              "      <th>36</th>\n",
              "      <th>37</th>\n",
              "      <th>38</th>\n",
              "      <th>39</th>\n",
              "      <th>40</th>\n",
              "      <th>41</th>\n",
              "      <th>42</th>\n",
              "      <th>43</th>\n",
              "      <th>44</th>\n",
              "      <th>45</th>\n",
              "      <th>46</th>\n",
              "      <th>47</th>\n",
              "      <th>48</th>\n",
              "      <th>49</th>\n",
              "    </tr>\n",
              "  </thead>\n",
              "  <tbody>\n",
              "    <tr>\n",
              "      <th>0</th>\n",
              "      <td>0.913643</td>\n",
              "      <td>1.068005</td>\n",
              "      <td>0.524148</td>\n",
              "      <td>0.685653</td>\n",
              "      <td>-0.226455</td>\n",
              "      <td>0.391659</td>\n",
              "      <td>0.43492</td>\n",
              "      <td>0.463841</td>\n",
              "      <td>-0.447941</td>\n",
              "      <td>0.0</td>\n",
              "      <td>0.0</td>\n",
              "      <td>0.0</td>\n",
              "      <td>0.0</td>\n",
              "      <td>1.0</td>\n",
              "      <td>0.0</td>\n",
              "      <td>0.0</td>\n",
              "      <td>0.0</td>\n",
              "      <td>0.0</td>\n",
              "      <td>0.0</td>\n",
              "      <td>0.0</td>\n",
              "      <td>0.0</td>\n",
              "      <td>0.0</td>\n",
              "      <td>0.0</td>\n",
              "      <td>0.0</td>\n",
              "      <td>0.0</td>\n",
              "      <td>1.0</td>\n",
              "      <td>0.0</td>\n",
              "      <td>0.0</td>\n",
              "      <td>0.0</td>\n",
              "      <td>0.0</td>\n",
              "      <td>0.0</td>\n",
              "      <td>0.0</td>\n",
              "      <td>1.0</td>\n",
              "      <td>1.0</td>\n",
              "      <td>0.0</td>\n",
              "      <td>0.0</td>\n",
              "      <td>0.0</td>\n",
              "      <td>0.0</td>\n",
              "      <td>0.0</td>\n",
              "      <td>0.0</td>\n",
              "      <td>0.0</td>\n",
              "      <td>0.0</td>\n",
              "      <td>0.0</td>\n",
              "      <td>0.0</td>\n",
              "      <td>0.0</td>\n",
              "      <td>0.0</td>\n",
              "      <td>0.0</td>\n",
              "      <td>0.0</td>\n",
              "      <td>0.0</td>\n",
              "      <td>0.0</td>\n",
              "    </tr>\n",
              "    <tr>\n",
              "      <th>1</th>\n",
              "      <td>0.913643</td>\n",
              "      <td>1.068005</td>\n",
              "      <td>0.524148</td>\n",
              "      <td>0.685653</td>\n",
              "      <td>-0.226455</td>\n",
              "      <td>0.391659</td>\n",
              "      <td>0.43492</td>\n",
              "      <td>0.463841</td>\n",
              "      <td>-0.447941</td>\n",
              "      <td>0.0</td>\n",
              "      <td>0.0</td>\n",
              "      <td>0.0</td>\n",
              "      <td>0.0</td>\n",
              "      <td>0.0</td>\n",
              "      <td>0.0</td>\n",
              "      <td>0.0</td>\n",
              "      <td>0.0</td>\n",
              "      <td>0.0</td>\n",
              "      <td>1.0</td>\n",
              "      <td>0.0</td>\n",
              "      <td>0.0</td>\n",
              "      <td>0.0</td>\n",
              "      <td>0.0</td>\n",
              "      <td>0.0</td>\n",
              "      <td>0.0</td>\n",
              "      <td>1.0</td>\n",
              "      <td>0.0</td>\n",
              "      <td>0.0</td>\n",
              "      <td>0.0</td>\n",
              "      <td>0.0</td>\n",
              "      <td>0.0</td>\n",
              "      <td>0.0</td>\n",
              "      <td>1.0</td>\n",
              "      <td>1.0</td>\n",
              "      <td>0.0</td>\n",
              "      <td>0.0</td>\n",
              "      <td>0.0</td>\n",
              "      <td>0.0</td>\n",
              "      <td>0.0</td>\n",
              "      <td>0.0</td>\n",
              "      <td>0.0</td>\n",
              "      <td>0.0</td>\n",
              "      <td>0.0</td>\n",
              "      <td>0.0</td>\n",
              "      <td>0.0</td>\n",
              "      <td>0.0</td>\n",
              "      <td>0.0</td>\n",
              "      <td>0.0</td>\n",
              "      <td>0.0</td>\n",
              "      <td>0.0</td>\n",
              "    </tr>\n",
              "    <tr>\n",
              "      <th>2</th>\n",
              "      <td>0.530594</td>\n",
              "      <td>1.068005</td>\n",
              "      <td>0.524148</td>\n",
              "      <td>0.685653</td>\n",
              "      <td>-0.226455</td>\n",
              "      <td>0.391659</td>\n",
              "      <td>0.43492</td>\n",
              "      <td>0.463841</td>\n",
              "      <td>-0.447941</td>\n",
              "      <td>0.0</td>\n",
              "      <td>0.0</td>\n",
              "      <td>0.0</td>\n",
              "      <td>0.0</td>\n",
              "      <td>0.0</td>\n",
              "      <td>0.0</td>\n",
              "      <td>0.0</td>\n",
              "      <td>0.0</td>\n",
              "      <td>0.0</td>\n",
              "      <td>1.0</td>\n",
              "      <td>0.0</td>\n",
              "      <td>0.0</td>\n",
              "      <td>0.0</td>\n",
              "      <td>0.0</td>\n",
              "      <td>0.0</td>\n",
              "      <td>0.0</td>\n",
              "      <td>1.0</td>\n",
              "      <td>0.0</td>\n",
              "      <td>0.0</td>\n",
              "      <td>1.0</td>\n",
              "      <td>0.0</td>\n",
              "      <td>0.0</td>\n",
              "      <td>0.0</td>\n",
              "      <td>0.0</td>\n",
              "      <td>1.0</td>\n",
              "      <td>0.0</td>\n",
              "      <td>0.0</td>\n",
              "      <td>0.0</td>\n",
              "      <td>0.0</td>\n",
              "      <td>0.0</td>\n",
              "      <td>0.0</td>\n",
              "      <td>0.0</td>\n",
              "      <td>0.0</td>\n",
              "      <td>0.0</td>\n",
              "      <td>0.0</td>\n",
              "      <td>0.0</td>\n",
              "      <td>0.0</td>\n",
              "      <td>0.0</td>\n",
              "      <td>0.0</td>\n",
              "      <td>0.0</td>\n",
              "      <td>0.0</td>\n",
              "    </tr>\n",
              "    <tr>\n",
              "      <th>3</th>\n",
              "      <td>0.530594</td>\n",
              "      <td>1.068005</td>\n",
              "      <td>0.524148</td>\n",
              "      <td>0.685653</td>\n",
              "      <td>-0.226455</td>\n",
              "      <td>0.391659</td>\n",
              "      <td>0.43492</td>\n",
              "      <td>0.463841</td>\n",
              "      <td>-0.447941</td>\n",
              "      <td>0.0</td>\n",
              "      <td>0.0</td>\n",
              "      <td>0.0</td>\n",
              "      <td>0.0</td>\n",
              "      <td>1.0</td>\n",
              "      <td>0.0</td>\n",
              "      <td>0.0</td>\n",
              "      <td>0.0</td>\n",
              "      <td>0.0</td>\n",
              "      <td>0.0</td>\n",
              "      <td>0.0</td>\n",
              "      <td>0.0</td>\n",
              "      <td>0.0</td>\n",
              "      <td>0.0</td>\n",
              "      <td>0.0</td>\n",
              "      <td>0.0</td>\n",
              "      <td>1.0</td>\n",
              "      <td>0.0</td>\n",
              "      <td>0.0</td>\n",
              "      <td>1.0</td>\n",
              "      <td>0.0</td>\n",
              "      <td>0.0</td>\n",
              "      <td>0.0</td>\n",
              "      <td>0.0</td>\n",
              "      <td>1.0</td>\n",
              "      <td>0.0</td>\n",
              "      <td>0.0</td>\n",
              "      <td>0.0</td>\n",
              "      <td>0.0</td>\n",
              "      <td>0.0</td>\n",
              "      <td>0.0</td>\n",
              "      <td>0.0</td>\n",
              "      <td>0.0</td>\n",
              "      <td>0.0</td>\n",
              "      <td>0.0</td>\n",
              "      <td>0.0</td>\n",
              "      <td>0.0</td>\n",
              "      <td>0.0</td>\n",
              "      <td>0.0</td>\n",
              "      <td>0.0</td>\n",
              "      <td>0.0</td>\n",
              "    </tr>\n",
              "    <tr>\n",
              "      <th>4</th>\n",
              "      <td>1.296693</td>\n",
              "      <td>2.120794</td>\n",
              "      <td>0.524148</td>\n",
              "      <td>-1.458464</td>\n",
              "      <td>-0.226455</td>\n",
              "      <td>0.391659</td>\n",
              "      <td>0.43492</td>\n",
              "      <td>0.463841</td>\n",
              "      <td>-0.447941</td>\n",
              "      <td>0.0</td>\n",
              "      <td>0.0</td>\n",
              "      <td>0.0</td>\n",
              "      <td>0.0</td>\n",
              "      <td>1.0</td>\n",
              "      <td>0.0</td>\n",
              "      <td>0.0</td>\n",
              "      <td>0.0</td>\n",
              "      <td>0.0</td>\n",
              "      <td>0.0</td>\n",
              "      <td>0.0</td>\n",
              "      <td>0.0</td>\n",
              "      <td>0.0</td>\n",
              "      <td>0.0</td>\n",
              "      <td>0.0</td>\n",
              "      <td>0.0</td>\n",
              "      <td>1.0</td>\n",
              "      <td>0.0</td>\n",
              "      <td>0.0</td>\n",
              "      <td>1.0</td>\n",
              "      <td>0.0</td>\n",
              "      <td>0.0</td>\n",
              "      <td>0.0</td>\n",
              "      <td>0.0</td>\n",
              "      <td>1.0</td>\n",
              "      <td>0.0</td>\n",
              "      <td>0.0</td>\n",
              "      <td>0.0</td>\n",
              "      <td>0.0</td>\n",
              "      <td>0.0</td>\n",
              "      <td>0.0</td>\n",
              "      <td>0.0</td>\n",
              "      <td>0.0</td>\n",
              "      <td>0.0</td>\n",
              "      <td>0.0</td>\n",
              "      <td>0.0</td>\n",
              "      <td>0.0</td>\n",
              "      <td>0.0</td>\n",
              "      <td>0.0</td>\n",
              "      <td>0.0</td>\n",
              "      <td>0.0</td>\n",
              "    </tr>\n",
              "  </tbody>\n",
              "</table>\n",
              "</div>"
            ],
            "text/plain": [
              "         0         1         2         3         4   ...   45   46   47   48   49\n",
              "0  0.913643  1.068005  0.524148  0.685653 -0.226455  ...  0.0  0.0  0.0  0.0  0.0\n",
              "1  0.913643  1.068005  0.524148  0.685653 -0.226455  ...  0.0  0.0  0.0  0.0  0.0\n",
              "2  0.530594  1.068005  0.524148  0.685653 -0.226455  ...  0.0  0.0  0.0  0.0  0.0\n",
              "3  0.530594  1.068005  0.524148  0.685653 -0.226455  ...  0.0  0.0  0.0  0.0  0.0\n",
              "4  1.296693  2.120794  0.524148 -1.458464 -0.226455  ...  0.0  0.0  0.0  0.0  0.0\n",
              "\n",
              "[5 rows x 50 columns]"
            ]
          },
          "metadata": {
            "tags": []
          },
          "execution_count": 7
        }
      ]
    },
    {
      "cell_type": "code",
      "metadata": {
        "id": "bWGym-NRt9BJ"
      },
      "source": [
        "# Define NN to use\n",
        "model = keras.Sequential([\n",
        "    layers.Dense(128, activation='relu', input_shape=input_shape),\n",
        "    layers.Dense(128, activation='relu'),    \n",
        "    layers.Dense(64, activation='relu'),\n",
        "    layers.Dense(1),\n",
        "])"
      ],
      "execution_count": null,
      "outputs": []
    },
    {
      "cell_type": "code",
      "metadata": {
        "id": "0uZPoD2guGtL"
      },
      "source": [
        "# Define the loss (MAE) and optimizer (Adam) using the compile method\n",
        "model.compile(optimizer='adam', loss='mae')"
      ],
      "execution_count": null,
      "outputs": []
    },
    {
      "cell_type": "code",
      "metadata": {
        "colab": {
          "base_uri": "https://localhost:8080/"
        },
        "id": "qOexEAj1uh6l",
        "outputId": "01286853-c395-419e-f272-46838585e0d9"
      },
      "source": [
        "# Once you've defined the model and compiled it with a loss and optimizer --> train model\n",
        "# Train the network for 200 epochs with a batch size of 128. The input data is X with target y.\n",
        "\n",
        "history = model.fit(\n",
        "    X, y,\n",
        "    batch_size=128,\n",
        "    epochs=200\n",
        ")"
      ],
      "execution_count": null,
      "outputs": [
        {
          "output_type": "stream",
          "text": [
            "Epoch 1/200\n",
            "9/9 [==============================] - 1s 5ms/step - loss: 2.8096\n",
            "Epoch 2/200\n",
            "9/9 [==============================] - 0s 4ms/step - loss: 1.0130\n",
            "Epoch 3/200\n",
            "9/9 [==============================] - 0s 4ms/step - loss: 0.5384\n",
            "Epoch 4/200\n",
            "9/9 [==============================] - 0s 3ms/step - loss: 0.3335\n",
            "Epoch 5/200\n",
            "9/9 [==============================] - 0s 3ms/step - loss: 0.2232\n",
            "Epoch 6/200\n",
            "9/9 [==============================] - 0s 3ms/step - loss: 0.1791\n",
            "Epoch 7/200\n",
            "9/9 [==============================] - 0s 3ms/step - loss: 0.1412\n",
            "Epoch 8/200\n",
            "9/9 [==============================] - 0s 4ms/step - loss: 0.1219\n",
            "Epoch 9/200\n",
            "9/9 [==============================] - 0s 3ms/step - loss: 0.1032\n",
            "Epoch 10/200\n",
            "9/9 [==============================] - 0s 4ms/step - loss: 0.0950\n",
            "Epoch 11/200\n",
            "9/9 [==============================] - 0s 3ms/step - loss: 0.0845\n",
            "Epoch 12/200\n",
            "9/9 [==============================] - 0s 3ms/step - loss: 0.0825\n",
            "Epoch 13/200\n",
            "9/9 [==============================] - 0s 4ms/step - loss: 0.0783\n",
            "Epoch 14/200\n",
            "9/9 [==============================] - 0s 4ms/step - loss: 0.0681\n",
            "Epoch 15/200\n",
            "9/9 [==============================] - 0s 3ms/step - loss: 0.0616\n",
            "Epoch 16/200\n",
            "9/9 [==============================] - 0s 3ms/step - loss: 0.0581\n",
            "Epoch 17/200\n",
            "9/9 [==============================] - 0s 4ms/step - loss: 0.0615\n",
            "Epoch 18/200\n",
            "9/9 [==============================] - 0s 3ms/step - loss: 0.0605\n",
            "Epoch 19/200\n",
            "9/9 [==============================] - 0s 4ms/step - loss: 0.0572\n",
            "Epoch 20/200\n",
            "9/9 [==============================] - 0s 4ms/step - loss: 0.0592\n",
            "Epoch 21/200\n",
            "9/9 [==============================] - 0s 4ms/step - loss: 0.0571\n",
            "Epoch 22/200\n",
            "9/9 [==============================] - 0s 3ms/step - loss: 0.0565\n",
            "Epoch 23/200\n",
            "9/9 [==============================] - 0s 5ms/step - loss: 0.0591\n",
            "Epoch 24/200\n",
            "9/9 [==============================] - 0s 3ms/step - loss: 0.0522\n",
            "Epoch 25/200\n",
            "9/9 [==============================] - 0s 3ms/step - loss: 0.0496\n",
            "Epoch 26/200\n",
            "9/9 [==============================] - 0s 4ms/step - loss: 0.0461\n",
            "Epoch 27/200\n",
            "9/9 [==============================] - 0s 3ms/step - loss: 0.0448\n",
            "Epoch 28/200\n",
            "9/9 [==============================] - 0s 3ms/step - loss: 0.0439\n",
            "Epoch 29/200\n",
            "9/9 [==============================] - 0s 4ms/step - loss: 0.0440\n",
            "Epoch 30/200\n",
            "9/9 [==============================] - 0s 3ms/step - loss: 0.0436\n",
            "Epoch 31/200\n",
            "9/9 [==============================] - 0s 3ms/step - loss: 0.0410\n",
            "Epoch 32/200\n",
            "9/9 [==============================] - 0s 4ms/step - loss: 0.0446\n",
            "Epoch 33/200\n",
            "9/9 [==============================] - 0s 3ms/step - loss: 0.0446\n",
            "Epoch 34/200\n",
            "9/9 [==============================] - 0s 3ms/step - loss: 0.0398\n",
            "Epoch 35/200\n",
            "9/9 [==============================] - 0s 3ms/step - loss: 0.0424\n",
            "Epoch 36/200\n",
            "9/9 [==============================] - 0s 3ms/step - loss: 0.0451\n",
            "Epoch 37/200\n",
            "9/9 [==============================] - 0s 3ms/step - loss: 0.0441\n",
            "Epoch 38/200\n",
            "9/9 [==============================] - 0s 3ms/step - loss: 0.0412\n",
            "Epoch 39/200\n",
            "9/9 [==============================] - 0s 3ms/step - loss: 0.0498\n",
            "Epoch 40/200\n",
            "9/9 [==============================] - 0s 3ms/step - loss: 0.0488\n",
            "Epoch 41/200\n",
            "9/9 [==============================] - 0s 4ms/step - loss: 0.0444\n",
            "Epoch 42/200\n",
            "9/9 [==============================] - 0s 4ms/step - loss: 0.0435\n",
            "Epoch 43/200\n",
            "9/9 [==============================] - 0s 5ms/step - loss: 0.0397\n",
            "Epoch 44/200\n",
            "9/9 [==============================] - 0s 3ms/step - loss: 0.0406\n",
            "Epoch 45/200\n",
            "9/9 [==============================] - 0s 4ms/step - loss: 0.0412\n",
            "Epoch 46/200\n",
            "9/9 [==============================] - 0s 4ms/step - loss: 0.0347\n",
            "Epoch 47/200\n",
            "9/9 [==============================] - 0s 4ms/step - loss: 0.0354\n",
            "Epoch 48/200\n",
            "9/9 [==============================] - 0s 3ms/step - loss: 0.0350\n",
            "Epoch 49/200\n",
            "9/9 [==============================] - 0s 4ms/step - loss: 0.0373\n",
            "Epoch 50/200\n",
            "9/9 [==============================] - 0s 3ms/step - loss: 0.0375\n",
            "Epoch 51/200\n",
            "9/9 [==============================] - 0s 3ms/step - loss: 0.0433\n",
            "Epoch 52/200\n",
            "9/9 [==============================] - 0s 3ms/step - loss: 0.0412\n",
            "Epoch 53/200\n",
            "9/9 [==============================] - 0s 3ms/step - loss: 0.0504\n",
            "Epoch 54/200\n",
            "9/9 [==============================] - 0s 3ms/step - loss: 0.0420\n",
            "Epoch 55/200\n",
            "9/9 [==============================] - 0s 3ms/step - loss: 0.0362\n",
            "Epoch 56/200\n",
            "9/9 [==============================] - 0s 3ms/step - loss: 0.0349\n",
            "Epoch 57/200\n",
            "9/9 [==============================] - 0s 3ms/step - loss: 0.0366\n",
            "Epoch 58/200\n",
            "9/9 [==============================] - 0s 3ms/step - loss: 0.0335\n",
            "Epoch 59/200\n",
            "9/9 [==============================] - 0s 3ms/step - loss: 0.0367\n",
            "Epoch 60/200\n",
            "9/9 [==============================] - 0s 3ms/step - loss: 0.0382\n",
            "Epoch 61/200\n",
            "9/9 [==============================] - 0s 3ms/step - loss: 0.0426\n",
            "Epoch 62/200\n",
            "9/9 [==============================] - 0s 3ms/step - loss: 0.0365\n",
            "Epoch 63/200\n",
            "9/9 [==============================] - 0s 3ms/step - loss: 0.0383\n",
            "Epoch 64/200\n",
            "9/9 [==============================] - 0s 3ms/step - loss: 0.0432\n",
            "Epoch 65/200\n",
            "9/9 [==============================] - 0s 3ms/step - loss: 0.0409\n",
            "Epoch 66/200\n",
            "9/9 [==============================] - 0s 4ms/step - loss: 0.0367\n",
            "Epoch 67/200\n",
            "9/9 [==============================] - 0s 3ms/step - loss: 0.0385\n",
            "Epoch 68/200\n",
            "9/9 [==============================] - 0s 3ms/step - loss: 0.0387\n",
            "Epoch 69/200\n",
            "9/9 [==============================] - 0s 4ms/step - loss: 0.0359\n",
            "Epoch 70/200\n",
            "9/9 [==============================] - 0s 4ms/step - loss: 0.0394\n",
            "Epoch 71/200\n",
            "9/9 [==============================] - 0s 3ms/step - loss: 0.0430\n",
            "Epoch 72/200\n",
            "9/9 [==============================] - 0s 4ms/step - loss: 0.0410\n",
            "Epoch 73/200\n",
            "9/9 [==============================] - 0s 3ms/step - loss: 0.0433\n",
            "Epoch 74/200\n",
            "9/9 [==============================] - 0s 3ms/step - loss: 0.0411\n",
            "Epoch 75/200\n",
            "9/9 [==============================] - 0s 4ms/step - loss: 0.0373\n",
            "Epoch 76/200\n",
            "9/9 [==============================] - 0s 3ms/step - loss: 0.0337\n",
            "Epoch 77/200\n",
            "9/9 [==============================] - 0s 3ms/step - loss: 0.0332\n",
            "Epoch 78/200\n",
            "9/9 [==============================] - 0s 3ms/step - loss: 0.0371\n",
            "Epoch 79/200\n",
            "9/9 [==============================] - 0s 3ms/step - loss: 0.0422\n",
            "Epoch 80/200\n",
            "9/9 [==============================] - 0s 4ms/step - loss: 0.0438\n",
            "Epoch 81/200\n",
            "9/9 [==============================] - 0s 4ms/step - loss: 0.0434\n",
            "Epoch 82/200\n",
            "9/9 [==============================] - 0s 3ms/step - loss: 0.0353\n",
            "Epoch 83/200\n",
            "9/9 [==============================] - 0s 4ms/step - loss: 0.0327\n",
            "Epoch 84/200\n",
            "9/9 [==============================] - 0s 3ms/step - loss: 0.0308\n",
            "Epoch 85/200\n",
            "9/9 [==============================] - 0s 3ms/step - loss: 0.0303\n",
            "Epoch 86/200\n",
            "9/9 [==============================] - 0s 3ms/step - loss: 0.0313\n",
            "Epoch 87/200\n",
            "9/9 [==============================] - 0s 4ms/step - loss: 0.0336\n",
            "Epoch 88/200\n",
            "9/9 [==============================] - 0s 3ms/step - loss: 0.0323\n",
            "Epoch 89/200\n",
            "9/9 [==============================] - 0s 3ms/step - loss: 0.0346\n",
            "Epoch 90/200\n",
            "9/9 [==============================] - 0s 3ms/step - loss: 0.0383\n",
            "Epoch 91/200\n",
            "9/9 [==============================] - 0s 3ms/step - loss: 0.0419\n",
            "Epoch 92/200\n",
            "9/9 [==============================] - 0s 3ms/step - loss: 0.0559\n",
            "Epoch 93/200\n",
            "9/9 [==============================] - 0s 4ms/step - loss: 0.0425\n",
            "Epoch 94/200\n",
            "9/9 [==============================] - 0s 3ms/step - loss: 0.0360\n",
            "Epoch 95/200\n",
            "9/9 [==============================] - 0s 3ms/step - loss: 0.0334\n",
            "Epoch 96/200\n",
            "9/9 [==============================] - 0s 3ms/step - loss: 0.0298\n",
            "Epoch 97/200\n",
            "9/9 [==============================] - 0s 5ms/step - loss: 0.0322\n",
            "Epoch 98/200\n",
            "9/9 [==============================] - 0s 3ms/step - loss: 0.0306\n",
            "Epoch 99/200\n",
            "9/9 [==============================] - 0s 3ms/step - loss: 0.0288\n",
            "Epoch 100/200\n",
            "9/9 [==============================] - 0s 3ms/step - loss: 0.0341\n",
            "Epoch 101/200\n",
            "9/9 [==============================] - 0s 3ms/step - loss: 0.0323\n",
            "Epoch 102/200\n",
            "9/9 [==============================] - 0s 3ms/step - loss: 0.0316\n",
            "Epoch 103/200\n",
            "9/9 [==============================] - 0s 4ms/step - loss: 0.0282\n",
            "Epoch 104/200\n",
            "9/9 [==============================] - 0s 3ms/step - loss: 0.0300\n",
            "Epoch 105/200\n",
            "9/9 [==============================] - 0s 4ms/step - loss: 0.0298\n",
            "Epoch 106/200\n",
            "9/9 [==============================] - 0s 3ms/step - loss: 0.0322\n",
            "Epoch 107/200\n",
            "9/9 [==============================] - 0s 3ms/step - loss: 0.0302\n",
            "Epoch 108/200\n",
            "9/9 [==============================] - 0s 4ms/step - loss: 0.0298\n",
            "Epoch 109/200\n",
            "9/9 [==============================] - 0s 4ms/step - loss: 0.0284\n",
            "Epoch 110/200\n",
            "9/9 [==============================] - 0s 4ms/step - loss: 0.0322\n",
            "Epoch 111/200\n",
            "9/9 [==============================] - 0s 4ms/step - loss: 0.0280\n",
            "Epoch 112/200\n",
            "9/9 [==============================] - 0s 3ms/step - loss: 0.0325\n",
            "Epoch 113/200\n",
            "9/9 [==============================] - 0s 4ms/step - loss: 0.0343\n",
            "Epoch 114/200\n",
            "9/9 [==============================] - 0s 4ms/step - loss: 0.0374\n",
            "Epoch 115/200\n",
            "9/9 [==============================] - 0s 3ms/step - loss: 0.0341\n",
            "Epoch 116/200\n",
            "9/9 [==============================] - 0s 3ms/step - loss: 0.0306\n",
            "Epoch 117/200\n",
            "9/9 [==============================] - 0s 3ms/step - loss: 0.0316\n",
            "Epoch 118/200\n",
            "9/9 [==============================] - 0s 3ms/step - loss: 0.0316\n",
            "Epoch 119/200\n",
            "9/9 [==============================] - 0s 3ms/step - loss: 0.0295\n",
            "Epoch 120/200\n",
            "9/9 [==============================] - 0s 3ms/step - loss: 0.0358\n",
            "Epoch 121/200\n",
            "9/9 [==============================] - 0s 4ms/step - loss: 0.0323\n",
            "Epoch 122/200\n",
            "9/9 [==============================] - 0s 4ms/step - loss: 0.0337\n",
            "Epoch 123/200\n",
            "9/9 [==============================] - 0s 3ms/step - loss: 0.0314\n",
            "Epoch 124/200\n",
            "9/9 [==============================] - 0s 4ms/step - loss: 0.0295\n",
            "Epoch 125/200\n",
            "9/9 [==============================] - 0s 3ms/step - loss: 0.0297\n",
            "Epoch 126/200\n",
            "9/9 [==============================] - 0s 4ms/step - loss: 0.0291\n",
            "Epoch 127/200\n",
            "9/9 [==============================] - 0s 3ms/step - loss: 0.0291\n",
            "Epoch 128/200\n",
            "9/9 [==============================] - 0s 4ms/step - loss: 0.0294\n",
            "Epoch 129/200\n",
            "9/9 [==============================] - 0s 4ms/step - loss: 0.0285\n",
            "Epoch 130/200\n",
            "9/9 [==============================] - 0s 3ms/step - loss: 0.0335\n",
            "Epoch 131/200\n",
            "9/9 [==============================] - 0s 3ms/step - loss: 0.0302\n",
            "Epoch 132/200\n",
            "9/9 [==============================] - 0s 3ms/step - loss: 0.0280\n",
            "Epoch 133/200\n",
            "9/9 [==============================] - 0s 3ms/step - loss: 0.0298\n",
            "Epoch 134/200\n",
            "9/9 [==============================] - 0s 3ms/step - loss: 0.0344\n",
            "Epoch 135/200\n",
            "9/9 [==============================] - 0s 3ms/step - loss: 0.0359\n",
            "Epoch 136/200\n",
            "9/9 [==============================] - 0s 3ms/step - loss: 0.0297\n",
            "Epoch 137/200\n",
            "9/9 [==============================] - 0s 3ms/step - loss: 0.0340\n",
            "Epoch 138/200\n",
            "9/9 [==============================] - 0s 4ms/step - loss: 0.0314\n",
            "Epoch 139/200\n",
            "9/9 [==============================] - 0s 3ms/step - loss: 0.0286\n",
            "Epoch 140/200\n",
            "9/9 [==============================] - 0s 3ms/step - loss: 0.0300\n",
            "Epoch 141/200\n",
            "9/9 [==============================] - 0s 3ms/step - loss: 0.0311\n",
            "Epoch 142/200\n",
            "9/9 [==============================] - 0s 3ms/step - loss: 0.0355\n",
            "Epoch 143/200\n",
            "9/9 [==============================] - 0s 3ms/step - loss: 0.0278\n",
            "Epoch 144/200\n",
            "9/9 [==============================] - 0s 4ms/step - loss: 0.0274\n",
            "Epoch 145/200\n",
            "9/9 [==============================] - 0s 5ms/step - loss: 0.0266\n",
            "Epoch 146/200\n",
            "9/9 [==============================] - 0s 3ms/step - loss: 0.0331\n",
            "Epoch 147/200\n",
            "9/9 [==============================] - 0s 5ms/step - loss: 0.0347\n",
            "Epoch 148/200\n",
            "9/9 [==============================] - 0s 3ms/step - loss: 0.0345\n",
            "Epoch 149/200\n",
            "9/9 [==============================] - 0s 3ms/step - loss: 0.0295\n",
            "Epoch 150/200\n",
            "9/9 [==============================] - 0s 3ms/step - loss: 0.0405\n",
            "Epoch 151/200\n",
            "9/9 [==============================] - 0s 3ms/step - loss: 0.0482\n",
            "Epoch 152/200\n",
            "9/9 [==============================] - 0s 3ms/step - loss: 0.0390\n",
            "Epoch 153/200\n",
            "9/9 [==============================] - 0s 4ms/step - loss: 0.0322\n",
            "Epoch 154/200\n",
            "9/9 [==============================] - 0s 4ms/step - loss: 0.0305\n",
            "Epoch 155/200\n",
            "9/9 [==============================] - 0s 4ms/step - loss: 0.0296\n",
            "Epoch 156/200\n",
            "9/9 [==============================] - 0s 3ms/step - loss: 0.0281\n",
            "Epoch 157/200\n",
            "9/9 [==============================] - 0s 3ms/step - loss: 0.0287\n",
            "Epoch 158/200\n",
            "9/9 [==============================] - 0s 3ms/step - loss: 0.0309\n",
            "Epoch 159/200\n",
            "9/9 [==============================] - 0s 3ms/step - loss: 0.0285\n",
            "Epoch 160/200\n",
            "9/9 [==============================] - 0s 3ms/step - loss: 0.0306\n",
            "Epoch 161/200\n",
            "9/9 [==============================] - 0s 4ms/step - loss: 0.0282\n",
            "Epoch 162/200\n",
            "9/9 [==============================] - 0s 4ms/step - loss: 0.0300\n",
            "Epoch 163/200\n",
            "9/9 [==============================] - 0s 4ms/step - loss: 0.0292\n",
            "Epoch 164/200\n",
            "9/9 [==============================] - 0s 3ms/step - loss: 0.0295\n",
            "Epoch 165/200\n",
            "9/9 [==============================] - 0s 3ms/step - loss: 0.0259\n",
            "Epoch 166/200\n",
            "9/9 [==============================] - 0s 3ms/step - loss: 0.0292\n",
            "Epoch 167/200\n",
            "9/9 [==============================] - 0s 4ms/step - loss: 0.0282\n",
            "Epoch 168/200\n",
            "9/9 [==============================] - 0s 4ms/step - loss: 0.0307\n",
            "Epoch 169/200\n",
            "9/9 [==============================] - 0s 4ms/step - loss: 0.0374\n",
            "Epoch 170/200\n",
            "9/9 [==============================] - 0s 3ms/step - loss: 0.0345\n",
            "Epoch 171/200\n",
            "9/9 [==============================] - 0s 3ms/step - loss: 0.0303\n",
            "Epoch 172/200\n",
            "9/9 [==============================] - 0s 4ms/step - loss: 0.0350\n",
            "Epoch 173/200\n",
            "9/9 [==============================] - 0s 4ms/step - loss: 0.0390\n",
            "Epoch 174/200\n",
            "9/9 [==============================] - 0s 4ms/step - loss: 0.0493\n",
            "Epoch 175/200\n",
            "9/9 [==============================] - 0s 4ms/step - loss: 0.0337\n",
            "Epoch 176/200\n",
            "9/9 [==============================] - 0s 3ms/step - loss: 0.0324\n",
            "Epoch 177/200\n",
            "9/9 [==============================] - 0s 4ms/step - loss: 0.0311\n",
            "Epoch 178/200\n",
            "9/9 [==============================] - 0s 3ms/step - loss: 0.0282\n",
            "Epoch 179/200\n",
            "9/9 [==============================] - 0s 4ms/step - loss: 0.0289\n",
            "Epoch 180/200\n",
            "9/9 [==============================] - 0s 5ms/step - loss: 0.0262\n",
            "Epoch 181/200\n",
            "9/9 [==============================] - 0s 4ms/step - loss: 0.0327\n",
            "Epoch 182/200\n",
            "9/9 [==============================] - 0s 3ms/step - loss: 0.0329\n",
            "Epoch 183/200\n",
            "9/9 [==============================] - 0s 4ms/step - loss: 0.0306\n",
            "Epoch 184/200\n",
            "9/9 [==============================] - 0s 5ms/step - loss: 0.0269\n",
            "Epoch 185/200\n",
            "9/9 [==============================] - 0s 5ms/step - loss: 0.0285\n",
            "Epoch 186/200\n",
            "9/9 [==============================] - 0s 4ms/step - loss: 0.0302\n",
            "Epoch 187/200\n",
            "9/9 [==============================] - 0s 4ms/step - loss: 0.0339\n",
            "Epoch 188/200\n",
            "9/9 [==============================] - 0s 3ms/step - loss: 0.0377\n",
            "Epoch 189/200\n",
            "9/9 [==============================] - 0s 3ms/step - loss: 0.0307\n",
            "Epoch 190/200\n",
            "9/9 [==============================] - 0s 3ms/step - loss: 0.0312\n",
            "Epoch 191/200\n",
            "9/9 [==============================] - 0s 4ms/step - loss: 0.0283\n",
            "Epoch 192/200\n",
            "9/9 [==============================] - 0s 4ms/step - loss: 0.0306\n",
            "Epoch 193/200\n",
            "9/9 [==============================] - 0s 3ms/step - loss: 0.0274\n",
            "Epoch 194/200\n",
            "9/9 [==============================] - 0s 4ms/step - loss: 0.0344\n",
            "Epoch 195/200\n",
            "9/9 [==============================] - 0s 3ms/step - loss: 0.0386\n",
            "Epoch 196/200\n",
            "9/9 [==============================] - 0s 4ms/step - loss: 0.0269\n",
            "Epoch 197/200\n",
            "9/9 [==============================] - 0s 5ms/step - loss: 0.0262\n",
            "Epoch 198/200\n",
            "9/9 [==============================] - 0s 5ms/step - loss: 0.0293\n",
            "Epoch 199/200\n",
            "9/9 [==============================] - 0s 4ms/step - loss: 0.0278\n",
            "Epoch 200/200\n",
            "9/9 [==============================] - 0s 4ms/step - loss: 0.0310\n"
          ],
          "name": "stdout"
        }
      ]
    },
    {
      "cell_type": "code",
      "metadata": {
        "colab": {
          "base_uri": "https://localhost:8080/",
          "height": 297
        },
        "id": "uE227ESnwNQ2",
        "outputId": "686af72f-bccc-4ecc-d840-6b2ae2b232b7"
      },
      "source": [
        "# Look at the loss curves and evaluate the training\n",
        "history_df = pd.DataFrame(history.history)\n",
        "# Start the plot at epoch 5. You can change this to get a different view.\n",
        "history_df.loc[5:, ['loss']].plot(title='Learning Curve of Training Data', xlabel='Epochs', ylabel='Loss');"
      ],
      "execution_count": null,
      "outputs": [
        {
          "output_type": "display_data",
          "data": {
            "image/png": "[encoded data removed]",
            "text/plain": [
              "<Figure size 432x288 with 1 Axes>"
            ]
          },
          "metadata": {
            "tags": [],
            "needs_background": "light"
          }
        }
      ]
    },
    {
      "cell_type": "markdown",
      "metadata": {
        "id": "ltlNjWnM0B0R"
      },
      "source": [
        "The loss seems to have plateaued, so there would be no advantage of further training with additional epochs. Conversely, if the loss appeared to still be decreasing, then training for longer could be advantageous.\n",
        "\n",
        "***\n",
        "\n",
        "With the learning rate and the batch size, you have some control over:\n",
        "- How long it takes to train a model\n",
        "- How noisy the learning curves are\n",
        "- How small the loss becomes\n",
        "\n",
        "**Smaller batch sizes** = **noisier** weight updates and loss curves. \n",
        "\n",
        "(Smaller samples tend to give noisier estimates but can have an \"averaging\" effect which can be beneficial.)\n",
        "\n",
        "**Smaller learning rates** = **smaller** weight updates/loss curves and training takes longer to converge. \n",
        "\n",
        "(Large learning rates can speed up training, but don't \"settle in\" to a minimum as well. When the learning rate is too large, the training can fail completely)"
      ]
    },
    {
      "cell_type": "markdown",
      "metadata": {
        "id": "Mr6H2b602k01"
      },
      "source": [
        "## **Overfitting and Underfitting**\n",
        "\n",
        "We need to see learning curves from both training and validation data to accurately asssess model performance and choose best parameters.\n",
        "\n",
        "![tHiVFnM.png](data:image/png;base64,iVBORw0KGgoAAAANSUhEUgAAAbAAAAFECAYAAABGTWslAAABe2lDQ1BJQ0MgUHJvZmlsZQAAKJF9kE0rRFEYx39mMF5GFixmYXHzthpi1MRGzUxiahYalLfNnWtelBm3O1fIxkLZKkpsvC34BGwslLVSipTsfAFiI13PMTReylPPeX7nOc/5d84fXH7dNGdKOyCbs614f1gbHRvXPA94qMSLj3LdyJuhwcEYEl/1Z7xcU6LqVZvS+nv+b1RPJfMGlFQI9xqmZQsPCDfN26ZipVdvyaOElxWnC7yhOFHgo4+Z4XhE+FRYMzL6lPCdsN/IWFlwKf3mxLeZ9DfOzswZn+9RP/EmcyNDUhslG8gTp58wGlH6iBCkkx5Zg7QRoF122MkFW12OzJqL1nQ6Y2shcSKpRXNGu18LdARkRvn6269ib3YXup/BvVbsJTbhZBV8t8Ve8w7UrsDxualb+kfLLelKpeDxEGrGoO4Sqibyqa5A4UfeMJTdO85TC3jW4W3NcV73HOdtXy6LR2e5gkefWhzcwPASxC5gaxtaRbt28h3LI2cB6NmjBgAAAHhlWElmTU0AKgAAAAgABQESAAMAAAABAAEAAAEaAAUAAAABAAAASgEbAAUAAAABAAAAUgEoAAMAAAABAAIAAIdpAAQAAAABAAAAWgAAAAAAAABIAAAAAQAAAEgAAAABAAKgAgAEAAAAAQAAAbCgAwAEAAAAAQAAAUQAAAAA9RVhHgAAAAlwSFlzAAALEwAACxMBAJqcGAAAAjppVFh0WE1MOmNvbS5hZG9iZS54bXAAAAAAADx4OnhtcG1ldGEgeG1sbnM6eD0iYWRvYmU6bnM6bWV0YS8iIHg6eG1wdGs9IlhNUCBDb3JlIDYuMC4wIj4KICAgPHJkZjpSREYgeG1sbnM6cmRmPSJodHRwOi8vd3d3LnczLm9yZy8xOTk5LzAyLzIyLXJkZi1zeW50YXgtbnMjIj4KICAgICAgPHJkZjpEZXNjcmlwdGlvbiByZGY6YWJvdXQ9IiIKICAgICAgICAgICAgeG1sbnM6ZXhpZj0iaHR0cDovL25zLmFkb2JlLmNvbS9leGlmLzEuMC8iCiAgICAgICAgICAgIHhtbG5zOnRpZmY9Imh0dHA6Ly9ucy5hZG9iZS5jb20vdGlmZi8xLjAvIj4KICAgICAgICAgPGV4aWY6UGl4ZWxZRGltZW5zaW9uPjU0MDwvZXhpZjpQaXhlbFlEaW1lbnNpb24+CiAgICAgICAgIDxleGlmOlBpeGVsWERpbWVuc2lvbj43MjA8L2V4aWY6UGl4ZWxYRGltZW5zaW9uPgogICAgICAgICA8dGlmZjpPcmllbnRhdGlvbj4xPC90aWZmOk9yaWVudGF0aW9uPgogICAgICAgICA8dGlmZjpSZXNvbHV0aW9uVW5pdD4yPC90aWZmOlJlc29sdXRpb25Vbml0PgogICAgICA8L3JkZjpEZXNjcmlwdGlvbj4KICAgPC9yZGY6UkRGPgo8L3g6eG1wbWV0YT4Kzk/GGwAAQABJREFUeAHsXQlgFcX5n9nd914uTkGQM5ecWqt4n6G23lfVUG3Vqq03N3hWy8P2Xw9Qbg/aapVaK2m1nqhViW09qqRaKyACSYAQ5ZAr5Hjv7e78f9/s2/AICQHzEnJ8A5O95vztvvnN9803M0KwYwQYAUaAEWAEGAFGgBFgBBgBRoARYAQYAUaAEWAEGAFGgBFgBBgBRoARYAQYAUaAEWAEGAFGgBFgBBgBRoARYAQYAUaAEWAEGAFGgBFgBBgBRoARYAQYAUaAEWAEGAFGgBFgBBgBRoARYAQYAUaAEWAEGAFGgBFgBBgBRoARYAQYAUaAEWAEGAFGgBFgBBgBRoARYAQYAUaAEWAEGAFGgBFgBBgBRoARYAQYAUaAEWAEGAFGgBFgBBgBRoARYAQYAUaAEWAEGAFGgBFgBBgBRoARYAQYAUaAEWAEGAFGgBFgBBgBRoARYAQYAUaAEWAEGAFGgBFgBBgBRoARYAQYAUaAEWAEGAFGgBFgBBgBRoARYAQYAUaAEWAEGAFGgBFgBBgBRoARYAQYAUaAEWAEGAFGgBFgBBgBRoARYAQYAUaAEWAEGAFGgBFgBBgBRoARYAQYAUaAEWAEGAFGgBFgBBgBRoARYAQYAUaAEWgHCMh2UIeWrILRkplxXowAI1A/Atxw1Y9LG7+bbzZegQIK4sDTN6ASjjhtTkdlq827OTPqKGnj/eWDUAnT/HidC+i9smMEGAFGoP0j0KtXzsHtv5ZJq6HVt++gI5DaPnQSkpZnAwnlWQ084I5pA8Dw7faFAH/o7et9in79+qUKkfFzVGuAUiImpULv3MB7Ju/Ga6vSpDSK1q1b9mS/fsPOxs3nEO6OdeuWP4Jzapibqwcvkd8UpL+lrGzZbBzp+yPprw04LTk6KP9UwzB+qZRzN/D6P0g9JFE2F14N4eKrMN2ePYdnBIPqHLy/M/C+OynlPlNevuIlRGxD2DZUTb7PCOwdgYZ6cHuPxU9bIwLUqLlSdsoBWc0GQcXLqIRCy0ZOSnrdCkdDuK7zNS7+gONhwWBKp1gseiyuicD21VEGfiPpM2NDcXW4Xr0GZSGAJrDevXOf/frrVZsS0mgoLt1PzIsq0xDpUT4IS6q0AgqTWC6/rDiSys13BRSGwsbjavKmNOgazk9Hqz0JS0NKiaMO7wXxykfnlBYIrVaV56fth0s8+mVILGPi84bO/Q6G7Nt32I0o+jjTNIf4kLiuHNW37+D89etX/EUIktAKKf26ecTrthuOdC+OQ0P4aFVlXbJGPH2/vrpSHf286ntOdYm7et+Z/5CPjEC9CPgfV70P+WbbRGDAgMEnua6ZhV75TvTIB6B9vQ8NbwTXY3Be5boiaJpiKSSIz/v2HTLRNAMPOY792Pr1y2/Kzc0NrVp1pC3EJnwbhTju4epreP3vaG/Eovr1G3ooyrMcZVgfi5nHbtz4+QakTnEbircfedUrCdVJWzfoDdXJb+QpT//cr7xPGvq6b9/cfuvXryqLP0zMo764de/hmsixVmrDdR6FgSskcmgICwqg0+rV6zvpgUDsacMwLwaeRKovKiXnSOkeY5rB+xwn9kFZ2fITKULcJZaxvnP/HvVwGsPHT5OOfjz/nn9dt47+c13++IUf1n/mHxu67z/nIyNQiwB9sOzaGQJr1654D1UiLzIzh2TatvwN2kW7rGzFn3CrbgNJAgVJFLo3vGrVqogQqygqOWpMyMXj7CKJ3r2HZCLeQWg0K8vLv/zCC7ZHgxa/7R+iSCdAEgx8dd1y+IH8Yy1pHHLI0IEoQg9oNqu++mol5UVxExs6NIwFTpcuA7qlpIQGmabVScrYF3GS0eFonG/DhsKN1PhbVuwqxB+MJN5fv34ZJBXhduuW3SU1NSW7vHzZJwcfnJsTCAROAjmYtu38Y+PGVasRRpfHI2Exqk+f4QvKy5euxX1FhKaUmQ7V3QqoGI9Dct+BoLYtFKp5s7i4eDvCxBtuH78C0aPH4D64rTZvXv5VXEpCsH1zgYCzAHX8oW3bK5HXDZC2Fsdjvt2//3BI1mYpXVNdTbOye3n56nXx53RQyLuTadqpGzas3ojrBHxWb6QOTE1N4Ap8D4fj2X/QqXkWx9jAgUMPcRz3CHxDb+KaCF7Hy84e0SUSqT4Dt95Zv/6Lb0DGaFOo41Mg+vcf3MdxzF6G4eLbS8d7K4ohHmFB70/16TPsQnSqfozvKAQSXgq8gan+lhLfLYKyYwTqR4A+JnbtDwG81xEBqpZtq844UIMgBww4vKt3nmcNHz48iPNaZxgiSo0vJLJn4V/u23foeDz0GxvE9xrfPn0Gn4Rnr1iWWGZZ5hI0pMv79RtS0LVrJqXtE0ttuvETyh8uqMuBEwUSo7ANuThZDD8WZXmRpEUvr8AylPEF3DsIESk+ykflEi4ay2syMtI/CQaDH5qm/LuUgfeIvClc//5D7wkGQ8tR7nmQXN62rMAjULuR6u25vn2HP4MwIi0teA/i/QcE9UIwGPgPwjwF/0QoFMC94WchiFadoaG9GirXX0tpX0nxMjMzUwwj+CfDkJ9QWXEL+QfnY5xsYTQaeq9//8NycA8NPjXsBRhDG3I44ZWSYi5NSRHAbuh8lO8mlO1X2dnZXShNuDhe3kX8r64nwv8QDT7IK7YBx3M98qK0yQuxbt3SP5SVfV5I54FA9D7DSAFmw0k9DOeFSU01fh8IBD+CGrcnboJIht5C+CDt34K8Xsc7/R088LGeAt5UJ+E4YrxppiyC2vJ6uka9Q3SMRCqngOwXQgL8EV0TeeEbGYz6PAUS/5wwRX/ls/79q98GoWYhAJEfSH/oVXj2N+QxCpLkhZYVvMsw6Fsaeig9h+e2CSCw2zsC/JHsHZ+2+hSNRJFucG3bpKMmi4qKSt14kKpq6dKedI7xMGm40CmiYYY6Sr0HdeJlaFDOsyxrRv/+w+ZSmBEjRsQb32FX4Nk/0PCfi3gbEO859JqLEOfS9PTUX1JYuAa/KaSPhrm+ttmLGP+ryQsNJQZF1L+Q9gW4/w3yQiPpfkyNHcjiXi/sCIQlUhg2FYT1BBr0gQjzAsJibE0OcByjP4XDuNAK5N0d8W5GdY+Dim0BCOAiqE0/RZxhCGLieAiFxfOLKIrjRO903RjSNNEBUA/BOKY7PQfRS9e1CTdNGNXV9FzgmUxFA4yyqv/FYrHRMPIATtZwjDHGcSm0qYMAyebfCHcpwkF9KjeiPtchVSLUu6urg8dTHt6YkneW8Ncn/CtQRuQvfg014UqSmDyJR6t7AW6+ifelOy/I6yjTNDKQ1yAvHSrDoL64fzr8QBA0dTpQJ3c18CHDnp+jPHnA53n481HPfyCfoaCrFNT3fao30ppAElxpaWkNSa24fybC0n0ttoOcT8M96thchZsO3sff8D7eQdqnoPPwGO7FDY3UncgT7yY2Bu/hRNuO/AqPQPzWZgoD59fXu+K/jEA9CDTY2NQTlm+1QQSCwVpJpyHmkNSQoNE5BI2VY9vRa9HunIkGHuoleSN6598vKiqKxSWJ2YAAhOeMx/hZLtRLlzmOuttB9xxxT4/38DVx1gcV8kE22qhEQUKpr4Gi79EhlRzSm4vAATSat/XqpfNCD1/dTo0o+PZ0z9qSyjX8arIKxP0ylPd4NOogBwG1nSKpYSeVA2rChbj+L50jHDX8V0Hd92JVVSQPDef3cRsNrYh6z911qNP3y8q+uB8EeC/qBpWqm+U4qb2859Sw7oISJED1xfgiGcbYhcFg5JTy8uXzUM/HCFeQZk4mpDSEQd3cuWjYU9Fg/0KIiiNdd9t3kf5EkF0NMNUdCsqjHkcZkpQJtaM4HoSBsNE3KBxUvsQevkPZChy8L/8d6HeLulf6AWw7AClPguAU1H0GvBBQC76Ow4d0jjrMQd0vgTrwlVgscI5n3FNas27dwa+inB+DaAelpgrCGFJr4Ci8o2Go5wqMab6PW6ijnIc6ZqAD8EgkYmQB6x9alrwCda5BnsdRHUDwpEamjgG9yzXI6wNIkr+EZeoNa9f+byvSofrW933gNjtGYBcC1GCwa9cIoP3de1tArEJjYDD4UJegYX9y3bovMM4hoRajnr48m+BBT/kMNF7dEOZpNEqzBgzIHQx1z+1QA81Dr52C/NuTBMINflMw965t+dHg19NA5cXjWqcjzYORawHymvbVV4OzIZFNQvv4OHroRJYflZWVVdO4FsrzK3i693M0gP/u02cQSUNaOkLvX6dHBIIgqfBEnM9RYUly2bq1eHvcEhLxlUP1hZv/1VdfFOEog0EXDa2IgHddNMokftBtTTS4pysNCU1nT0+ISIu9MS/Ck4Cno0PSClRmx6LOR4Oolq5ff/gDVP7y8vIqdAJmIK1P8IwadZ94KGqi07jFYjKI9CD1GBvB7bWklBCQKoBy+ThSGXWHoZbk4u8AhRYxEHi8ToLUyamUjlI2jXkJwmzDhs8qPXxIoiu0XVc9Ss9gIPQzOqK+F9D7wP03Nm1auhOdne+hbJA67Y9BSFBLRrrCIvIm2xavQJIGictP161bsXHDhg2VyP9Jios0XsJ39C7Ur5Pw7npQuuwYgX1FIN5g7GtwDtfWEIhquUIzmOzSxa0lEL8eaH1dr+FWBdTr7tNnRBo9Q8P9ORoZOHegd21koaGi01w0xv9RKrQUjdL9aMay0btegOMd9FCIcD3E5D1BXshfFwGkae4lnMgkVsD//lBJLUFD9wVUmtPRxB+KvP4cCJi3UooYazoRZYcBhfsuSPct3DJSUuwY4iJtSXXQ4zSIi/w8DNDjh0qtVnJBYTx1m6dF1fX+ip7DqRrIDDgEELcmFtP6M1x7IOBEV8QwKqgeOCdpK+arv1B2j9VRFP0GcMxC4477qpikpHi+8fyJFHVySKpep7GCMQ4kPbENZeiO96rrlhCafstErkjbtx5VPun6WBuQjLajDJUQgFMyMlJBcNpRPB1GqUA63QHpEulRoeCLdDrV1bHnQcCrUYaToF4+BemcgmsK8gr+4H3IAXQE+p1ASoulDK7DO3oEnZGjEO51YHgNHlNaBoj7bpDlaIQmye9UfEvTgc8/MdUim5KgMPDsGIG9IsAfyV7hafsP0av3G69GKiO1xNCtW41urNAI6YYX8ePSjKKGk9IAacgcqJOKoG78DdrLI9AYXVVWtnRLPIMG81NKG3HoYCCeesJV6FYcj7aicaTG/ng0joNAUJ9AbfYAVIJHIa/LS0q0+T313qFqJOnRXYZEnT59+qQUQwLCra/pPtKh8andHBpJXYn4TZShU7wcelwJt5XfqIMACTuNH0mpOpx/RNq7/XaIMtH4J9xz4unSEyFg9AIJF6lJqVWRXv55yKuIJpvXSkje/T3+UhqGZ7GoPjeMQBBqudMoVGZmZjBukOOiY3E8JJkvQC5EFHByK5EmoOjtXUNYciUsNIn8ZDrw1eN68WcUHmF9fDAE6REJ5Q2fZ5HEijiY9G5APes+hvCHE/Yg8X/pwMp7bzgfgnqegLDLQVxzbds9FdLx2Rs2rCihcHAuSc9QQ8+DhI0pH85QfEuvw5BjSCBgTfCC+PPwvCv+ywjUh4BunOp7wPfaBwLxBjfeCNVbJ7QzdH+Xeo+u0Kiia62j6QYfYQq9gKoSRAJVo5Z4tCqOjCjwbCg0YBPKyr5cT9EpQUon0UEFpmBRqNOuqorGpQPd06awaPy1mTVaWeNfIAhq1DE2ZV++fv3KVykdMk6QcujdSPoYNJw/I2MNkh7RoA4llSDGg6pgadkNZBdCvUEo8lBEe72mpgbquU4u6gAiiu1RLkob9aXn5Oo+1/H0E/yBpOZQHXCMk61BsPhx/WBIz1M1ohgav5oa66Ng0CGSPxZWeheWlxdp677MzMyusBQFkehsdZq1iex2kgd8CpGPfAZhz0S6v4SU815p6fKVFIws/3B4OhAIHYoxJk1YwOU93DsP5bsOY0+LQF4kfT6L2hKxK6iFj8RxtRDDUQkX2FAZ/NeC091coa4HwsBwx5mM/EFSeEvKeY7UoQgqMW4KoxtrM+reA2N7N5E62k8C6sWb0fGBytG+Ge93AIK/hvHLh2E1eTeZzoN4ySDoLBSrnxfHmzjux+cjI1AfAkxg9aHSju5BfWZC9YeGUZmxWEqtdOFXEY0NSIF63jSwv8uh0dPXOOo4IKz30cg8CVXPNRjjeAyN5/MI3bW6WlyEPHpCtRd13dAv4ynUS2Bo7rTaC2n2S0kx3oTEQBKLhexBAjIdx3L01n8GI4j/IK8nkNcNIIo5OB+JcBlff12FvAK9kBeI0Dx4x47KN2D9uAHneSjHWzAX/wBluxjXkBCpvZWjMzMzF0AdtgPlpXEeWBBi4MVzdclCkx54VI8FURCkgfJBMQZsYEHnYxc/Groutp2OMIqs9DBlIUJ5aIcKUd2IRC0iXhhWbMA43nSU7Tcg5T+h7vPxuALjQ5fjmEsEYpq7S3UUf5fTakFSvS1Ah+EsSGE/Rl0/pHeCrEH28mqoWnvHYpHnoQp+gOJFImIuSPNckMrJIKtShLGQvwS5rIFabyBKdxukt5eWLl3qomMQf9+e6nNXvrVnBKgBg4/PgOVbIK9zUEeoIoXuXCCdANLZBOnvfqiHpysVm4ZyHqWpHiSKMmQT06O+2VC1oiwh4Gr8AiriEUj3A+B0LcpH3+EbXo4kATKJeVjw34YQ0D+yhh7y/TaNgO7So4dMaiQbviYQqKncVaOe+jkamDJqWNCYrd31DE2J1GbeuCWhOtQOve300Wg0n8BVfzSAt6Khug7x0CjFZsJyb1B5+f++wDMiBmrsEp3OCxaRX+HxUpSFGtzvoLEaDj8IDXAuPPW8BwaDph6DQ14TQVSkpuqDxm8SGucb8NzCGM7cWMzOXbt26bJt20q3oZyXQQW1EpLYyejh34rwA3D9DKr0D4Q/FHOxSGWHBlqQapHUotryDsd4/XEGh3KQuotIq9i7Q9QlduA+8BNbYjGxw7uv1nh4yfV0DdUpwoiVuPcNygDLTc/h+ms6Q/wNZMVJ5u2whrwPeWDcEK23aY0HGd+DuP0RFtaSkF+RvRe7wb/6eVlZ6tXAZibipIDkJ8HfgRjdQVKw3Ox2Bc4Jf5MMK6qro+eCsB4GHqWo8mrEw3wr90QcXwdpbN+4URtw4PsQJB1ST0IfQR71lMVT6wEjdGQswmrx2rVk8JJvgrwIW4n1NR/C9zAF9QapG6Px3sYin56YdL0A5TsC0tZbZWWrV0G4Pgbf0j8Qhsh4KrAbiOvfIv7jVA7kX/cb8m7zX0YgAYG6vdCER3zaDhCg96uwksWp6ClH0XunAXN9b1fd8qw+fcqPj0blfzdvXlGR8Nzo33/IDxzHWlZe/vk63KfOjm5U0OuncakB6M1Hoa5a7lvyJYbBeV2n86WxDwiFMNkPoPcecyMRrDaMFpUCS7l9E1nm4bQ2L/T2sfyUQ3O6YAVnfRFffkoHpyjwLtSHnSsrjSMw5wlSpty8YcPyzz2LNnMApLlPEEbBahLm3oEeGHchYquDgRCZsLpz3fRsIkY8J6fD9OmTeyTI2iHJg25SuGg0eLTjpHxCVnp0j/LCGFfntWu/LMalnzYWLh5yGoq3Mq5WpTqRc6FOg/m5OAykEoVUuhRRQDzGqRhX+gHK+xYRgmfo4UWo89dPH/Ophh4KNSpUt5ghLuUKmL//Lx7WD1OLo2c0UoP7mmgoGIUhr7GnaRIgmIGwHnwnfr8eAsMTLw7yHnSW6waWxlcj8fPzj8DksP5Q1+ZSeEhjq8rLi9fq2Dr+rjUV+/cfBCKTA9E32bJ+/VLKm1xtOt4l/2UEGIGOioDfcFL9qWHYV5cY1j+no69KS0hHr4aRmE/Cs91O/XR2u1nnwg+zr3nVU549yuinSVklntfJeo/LxLCJ54kBE+8nnjcUJvG+Poc68ROMB2F1isEj4w/rq1NiPOSjMU+8h3O90kbdMtQNS2nTu6Jwflj/iFu19+i8Ibe38PSsnvLv8Y1QGep+M365GsqX7zMCjEAHRIAalHoalVok6FlioxR/UG+DSM/Q0OgGqYF48ej1Hygfv/HyGyy65/u6sfYlL4rr15HSJOfn4115ee4NAwrnx/Xj+Pfq3q9b77p5+fH9cPQcawMOvQnjdL8jqYNWsxg+XAQhjf0IkhQtdLyZJnDHI+rwfiJ7OaJc9I70e6pbxrrRKM29pYv49ZFi3WT860bzpLxQf53m3vJFGJ0WYcWOEdgvBPb2Ye1XQhyYEWAEGkSAfmdYk3HYIsyLOgvGHriUn2K8CWNzEupEMkt37oD6kIwvqCGnyVXsGAFGoBEEuNfTCED8mBFIAgK6o5iR0e0NjOdB0iFLR5UD8uqJtLHElbod45O0ygVJUXpMKgl5chKMQLtHgCWwdv+KuYKtBAEthVFZaLUT09zZFRaJRteuoY1xCz4mr1byorgYjAAjwAgwAnsiABLT4z11ntR3r04QvmQEGIE9EGAJbA9I+AYj0OwI0O/O/+2RuXpDJuvNXhDOgBFgBBgBRoARYAQYAUaAEWAEGAFGgBFgBBgBRoARYAQYAUaAEWAEGAFGgBFgBBgBRoARaG0IkAkzO0aAEWAEGAFGgBFgBBgBRoARYAQYgeZGwPS2Mee5OM0NNKfPCDACjEAyEejIqjO9jBZ2sj03GAys7tfv6wvjwPLyWsn8wjgtRoARYASaCYEOTGD5GlJsgjgQ+z3RzrkDPIzz/AmmzQQ5J8sIMAKMACOQDAQ6MIF58NGmglgVHASmd+tNBqacBiPACDACjEALINDhCQwLgMclLsWSVwt8cJwFI8AIMALJQoAJLFlIcjqMACPACDACLYoAE1iLws2ZMQKMACPACCQLASawZCHJ6TACjAAjwAi0KAJMYC0KN2fGCDACjAAjkCwEmMCShSSnwwgwAowAI9CiCDCBtSjcnBkjwAgwAoxAshBgAksWkpwOI8AIMAKMQIsiwATWonBzZowAI8AIMALJQoAJLFlIcjqMACPACDACLYoAE1iLws2ZMQKMACPACCQLASawZCHJ6TACjAAjwAi0KAJMYEmEW4WFoRYK3o4liZhyUowAI8AINISA1dADvr//CMiwcCkWVraXUgq1/ylwDEaAEWAEGIF9RYAJbF+R2ks4n7Bic3NPEK6bLmXxW/69vUTjR4wAI8AIMAJNQIBViE0Aj6KS2pCkrU0PZA12XLfQSpV/r5yXdT7dWxwW3EFoIr4cnRFgBBiBhhBgAmsImf2870rTloaqcGJKmEreXx7ukzYyLGzoEXmfsf3EkoMzAowAI7AvCDCB7QtKewlD415qcZ7V67ZVq4U0ZpnYHzNkymHdDgpN0NHCbNSxF/j4ESPACDAC3xoBJrBvDV1CxJGFDl2t3SRnRW21wsUAmCnFhG0zBmSD4GxSMyaE5lNGgBFgBBiBJCDADWsSQISOUIGkrEPDq3a4rvgVmSIGLOOgtKB1l5d8HuOcBJw5CUaAEWAEEhHghjURjSaca0lLCSN1bPEzrhJvkhG944prKmZnnibDhTbPD2sCuByVEWAEGIF6EGACqweUb32rwDPYcGLuL6FKjAZNYVjC+DXSkyLfmyP2rdPmiIwAI8AIMAK7IcAEthscTbuQo4SjwnlW2vjSf7tC/cGAQUfQEidH5+X8lMzq6VnTcuDYjAAjwAgwAj4CTGA+Esk6TvEMOqqqor+K2GoDJauEe8/WGZldtSoRq3QkKytOhxFgBBiBjowAE1iS376WtGBWf9Dt68uQ9P00yzloGtkhy7hTZzWVzeqTDDknxwgwAh0UASawZL74cNgIh5Uh4mb176wwHo254hMXVh0wqx9dOXfgUdrYgxf8TSbqnBYjwAh0UASYwJL14pWSIhx2w2HpSswDI6vDc+asisRsdbcNu3rLEGmmMKfp7JbxQr/Jgp3TYQQYgY6LABNYMt49kZeUKueuNw4bOHnRCXQuRymXjDbSxxW/Bi3i70mVGDDl92rmZN+sV+9gg45kIM9pMAKMQAdGgAmsqS8fakMirAETnslWtnjHNIx/ZU7+23GwnFeFIk+nviNiTalx3K9JlSgNcc/mh/v11QYdvEJHU9Hn+IwAI9CBEWACa+rLXzrMsyp00rq5sWh3YVqGNFJPpWRHLh2mV+joMfHL9eCuu2mdxKAheqdZQU+VOIwtEpsKP8dnBBiBjosAE1hT3/3wZXrjSjca+1oGAuulxIbMrjOAks3PhxwWXwsxfUzJ72OOeANEJixTXF4zJ+sCb94Yb7nS1FfA8RkBRqBjIsAE1tT3Hp6iCayLIbaDrr4WBiBVTiYlW+CnvdSTtGKue3vMVVUadCnu/3rad9LjS1Dx3DAfKz4yAowAI7CPCDCB7SNQDQeTKj9/obn0kVE7hRP7muwLlesOzB3zWggiGK3rK2UBVujA3LCMsSX/ldK434RNfcg0hnZNrZii0y3Mg9jGjhFgBBgBRmB/EGAC2x+0Gghb0G2rxtFV7hpad0Naoa5OsLo3GXdgASkvVnxu2MZVkelYoeMzhww6pByzfWb2MXIkL/bbALR8mxFgBBiBBhFgAmsQmv140GeQZimMf61WTgwylzjIcax+OoVRBRpj6AjVYmy50n9GWbVtq8kOYuBBSsgQj4ZhjajHwygmO0aAEWAEGIF9QoAJbJ9gaixQHqkKMfxlrBSObUNNmIZVezN1rOE9a0lppDbogCpxfMnfYU4/D/aKIhSUI27vkTWVwhY9PoIX+9Wg8R9GgBFgBBpHgAmscYwaDzElvrJGxF6p7EiNMAPCsczB9UaML/a7ZqNxF7Zc+RIrdWDGmLiralbOiUffUBQjKa3eeHyTEWAEGAFGYDcEmMB2g+NbXmCVDXI1NeXrhWGWQwLD+FYgx0vNk868c7LowKgYlpnSuzcLeZOrlIv5YYZpqkfKw33StJQGTvPD85ERYAQYAUagfgSYwOrHZX/vkrGGLJ9/Q5U0A6spsnTtwXnhsCWwNmLdxPx9w1LHrH4HIWeRKjFoySO69wjdq8NOZavEupjxNSPACDACdRFgAquLyLe9LvCMNVzXWUGWh8q1s9dt/O4hOjlaK7GuC3v7hq370rgz6rqf2LDqwIKKE2pmZ53hLTPFm1/WhYyvGQFGgBFIRIAJLBGNppwv84w1lB37n3JjwrCCndyMwBCd5NQ9VYJgNG2VeChWrHcjYpzjChv3oEyUszbOG57Bm1825WVwXEaAEegICDCBJestL92kTekNqVYqx66GIYelXDHUS76wXpxpvGvJ4yMCqRNL/olhs/8LWHrF+iFdVfV0HY8nOCfr7XA6jAAj0A4RqLdhbYf1bP4qLdSrboC3nBIIV5ukaWFFKfuwxjIecUORTWFWFab+psZ2P6YJzpDXbqial32xnuCMFTwaS4OfMwKMACPQERFgAkvWW6dVN7C1yqoHLynDZOYyYiEjkDI4d8zskAiPdJDNnuNg3k1tlTi8YGnUdMV14K8aF2YfeDGPbXswN4dX6UjWC+J0GAFGoL0hwASWzDc6zNtaRRrBTxUtIeU6gxy3b29kQeRWL4FR9toqEarEINZKVMK9HRaJAv97hlKd3+vi5QtPLtMX/IcRYAQYAUaAEGACS+Z3EF9+HsJYERb2BW2p3k4wdKjOwt83rIH8JCYxq3xhpowunR1z1J9MTBgLWcZp1XOzf0NzxwSv0tEAcnybEWAEOioCTGDN8OadWPWnKlZjy2CKsALWCJ0F9gZr1A33VvTYuDk6BuNhxSAygWXq76ycmX2eJjhepaNRCDkAI8AIdBwEmMCS+a7jhhwBx1kH5lqN9TVoPphHYPuQjwxDVUgL/obLtliGcSVGzSKkibQC4jE1p38fPLfxnN/ZPmDJQRgBRqD9I8CNYTLfMRlyYG+wVXNGbRK2/YVOWsnDsTdYZzFqFAw56pnQXCd/TVIYDwvcsvr9mO3+ksbDsH1Y3xoVeMoPqu0U/Qs+MgKMQFIRaM2dRCqbXz5qB2hZOv+6PhDQAZbaN2BEVm+cetLU+eB+feEP5D0msGSjH1993lXOEuU6Aub0/WxhD9PZ5HurdTSWpVYXLsw3M8aVPmi76gWy/kgJyu9H5mX9gqQ0sbj1fUiN1YmfMwKtHQG/sdeakFa4HikRFpVNl4/OqUc8Sjj+dX340vj5VCykQGHre17fvdo0EzDQ95BXfeEP5D0msKSjH99axQp8pOyojcV9M4SlvquzSdhapdFslxXoD25TtXV9zBVrojFcKnlvzVyMh430JkA3mgYHYAQYgX1CgCQMauzJf/NQTn867lPEFgpEUhaRUMXs7KmVc7LupfPtD/frXjUn+/no3Oxr6TpREqP6UNGi87Kuu7Nn9ocl4cyudI1KIeiezr+voP2pnJfzVOWsnOsJgyXXiwCFjsCYDPnO2TPmgb3DBJZs/MPehx9xnf9gIvNmaWAeshU6TmcTX61jX7LUvapwntVn8peb7Zj4OZSPLuaHGcpVT214sH8Obb3if6T7kh6HYQQYgfoRUPidkYRBu0FUz8t+snOaWBZ9NPsmCp1ICvXH3v+7Wh2XMJZN5KHvJUg8lK++R+o8IqP4lk2WJX5iWcZPKFfXDXSCZuaHhqF0+1IovPFxkiSFGK4JzBXyu8FU45jOGW4fXdKwR2B1058av79l29e9UixxFVYjP4/Cj7goV3OEZcozLNM4B7dq1YhaYo2XT5dRZ+CRZGLZa88T6hcP2uQDr/LQZAjrJoBxMHTkyh+Sm7Nve+MTPD1burHj+01YmFo2Y1Q1rqkHhDCNO70eIlbiwGTmt2rmZU9MCciZtiu6d80I/hE/ulPkqEKbPqLW1ltsvGYcghFoHQiQxCFvKIztmJs9KOiqhQEpjjDSDBGttE9DCR8Vw+qXWJpSeiJLiu//dkl6Ev49ah/yIW2Fd1fXxYlUSUftkFjkB9GNbpNL1kCySs0Kl9ZQeiPJyAuEgvYA6S+N0j2Mn2+2a5QISEuv+ENEqIbhdh11IKUfRvgVS+Q3x4wUO1CMTRRfnrMqQkfjndXHBTdpLGgzeSnCut2hnTZq1YqaOFGZxPpQ3ETn1znxXlPOmcCagl4DcfPChWYhfUx27D2s6ns2BsIyLTP9Owj+bz2hORzeJwKj5P2VOOSo4llVs7KOTg0aVyDy8dEea36Hx1eLgnz0kApqPyKKw44RYAT2joBubLFtEZHXzrlZPwhK8Qxoo6dhSFG93f6gyo5N0ilgEYG9p7TvT6nhLwA5XTAyezpa+belLH5Fl2P6d9KiGTtn4/xZeXPxW6JAODsfzj48kCJ+4grVBxqYV+S4koWUkyulSV1kOlWPQ2KMGgt2zs58OWNs6R80GY8qim16YHCnNKvmFGmaqdgwd4hJMpNyPW0b1TlcaO+YmTUYu8H/FEXq5zrum3JMyR9jT+bmORF1uR1VKYhxbGx+7v0YuShKu2FVQdVpOfeCmDqJwtVjxUIgBQJcF+7XvWeP0BXYvzdH2M4iKUtfp4JVwmLaCgZ/Fq123w0EjfOVVMcarnp3YyR2n5Rl1ckkMVYhEuJJdoVxVSF0fh9gHCwmrWCK4bonedmctv+Yx39E27ZGboi5agltvRI0jZ9Wzc6+XY4qcOjDTXIVODlGoN0iEJdSFDXkVbOyJwakXOQ4qqcFi1+MN//u388PPLXHxLL1JJUkVbsB4tnaTRggyYulko8sgcqS0q8O7DgveFDgWvy29S7uFTNzbkhPl59BehobkMaV4NQZanZuiF4IzknEob9i69aUHqnpxsVYtO40uibjr+0PZZ/TuZO9PK1b4NXUFPGXFChHYzEVlUGPwKjO22dk/6RTyPgCotokbPx0JbbfnbUuv1+qbYvjkf4VrqtQb5UNorkF/kxKG6x5MYjwojAGRIi8IrNzh/XqGfw0FBSzYKt2jZUWWFQ1L0uTvmsHjg8GjXszUox3TUPciHwCwQzrnp7BwExKCwS9/22gjrjnn6QltGfSHfhOgbewrx2z/wuBfY1e2NcwT9SI7Mc4mI8gfeT0o+sTLq+qito/wue7IYKuET6O+ytnZ52vrRZ50V8fLj4yAg0i4I93LcSqNzBMeCI1JB9CA4xN0aWIOuLW4M2rrxtZCNU8qeLCyZO+dIHQcN8wX8QiEee+YIbRf0j30KV0HzLVD+1NMbFtc+zZijk538voajxWE3FfX/FltB+GDN41oNFctXLPKrnBqBOrcUlVqNV8FXNzh4O0XoFs5lZVuedvq3azQMjPhAIyCHMyTXoVswaO7NzZ+GN1zP3nyrU1faCMfBXqGzt9RDCYet2q+9esrhkcCMgYxttfCd6wqtNHf151I+WMpfG2IuzOMMIupjFD6T6HLaD6VVTaJ764YHWv6grno4Aw7t8Y7pmB9HaIiCuqo2r11h2Ro4I3rj4pWuGswMa9Z60M53YmAgSX6/JQ2k1xTGBNQa/BuN58sPXzLv4GS9ITiaHrZIwYOH7BIaIA88Hq2+CywbS8B/qlQ9LqOmFtcTQqroBRh6KV67EFy9PR2VlH+KrGRpLhx4xAh0VA0XgySV0P9+t70cjsxQFTXhO10RE0xaaaqDg35ZbV04m4wiR51RkjSgpocU3K2q32wliFszVoyp99dseAbmjYzwMZvEkLGEBVMy9W6azBTJmLhs8o2wIDjXRq66MHhdCI1OckJDrhSWfKuTyQasjqGvnD9NHFr3SbUFoKk4uVJkS5gLJiFDtomdPsGnfTV1Xbzh963/pvIB1lgLtrXecuwRiyU2B0PWaWd3GuNtrARoVUjCAFPLrL2gsCXczDoHq8qfOENR+M+kBUoyl6zMrALohd0gYZwqkU6Qb4Tj1w8G1lKzFOF0IWFfBourYnTSVLZWECIxSaw8WXjlKG9XdYI0Jj7WaKQI8jdVaj9m0+WN1iaUkLJJYxofgt9IjGpgQMrBcsuqLH80LJg5m9NcnhB1g3Hl8zAh0ZARpzgTqQjKHsilk5I2Ug8DG6mKegnRbYQPaTKid2QpdJxa95Y0jCAYEltZH1sSdNypLrRwSGg6hsR8wHIZw8oIf5CytkpKOxX1D+66yBVpo5JOaIJ84ZuyqyOJyZgkZ/BxppjElt1OThp0VHFdMGY4pUfnQNzeIQO6bKq3ZWL1dPZtI4Fhp4ZRP3VEbd6Jb7swcEA3IEVJVP5dyxdfvC/OGU5nY0I4GIa+j0jbT4WFkdi0GXVidXXj7BoDhOVLmiSshCkmh1PsrthAKgQ23CUhrlAt3atqqgZ9Z2mzgSwxwyGvymiyZSup8MxwSWDBTrS2NZvu4xKbv6H8qO7JQYkTXi+mSRvy8LI9aXKD4BbT6fb6aNLZlrCzUD6gGBnmRW71TjL1q0J/EcPcj6Y/NdRqBjIbBrvEvYNCcqaKo30NAfArNwUR1Tf9mmUk7tOnbdak1e+G01Nzoj+hRpgyszaD+tHBFJTZGTqqudrdVB+XJKSHSBATM6u14ndCSsCx1HbMHQXKeeaekZumygBpTfsygMokUBT/hlBsVsBpv0CaQFhshrPMvEmC0Or4ko0ckUNTHDgJaP5uN47cMobOFku84WtCqdUmW0k06nSv91SMPjpxs/1uYjlLEd3QFhOSKFJNrrR4iAYRo/j+1wtk37pvg/hqVSYcIGHSxRGgrYxSI6hOZpjzTrZLH/l9zQ7T9m+xYjrHtHskfVplWYzFwk0Q1Syjl1xPWPB2Am27QeXn4BOkRCBm8qnhh11N/IcgqDtSed2HPt07pwU5BVnR7UvhWaQzEC7QcBX6IiY4nqOVnzMc41H4037CKEwGLZ96ATmH/wLUt3apJrAfIiZGlcjTqYoRvXLgNJvB3satFY9svdbyje7rgVJRjTWh4MyV9GHs26N/pY9u9CprjUSDPTMzKMn8bfTDrGDro+DtLQEpiUqUg1jZ5BzfdnYo30VOOt6kdyfht7NPuz1HTzRymYFpCSYYzodduq1TDo+ATPJ2K+231I/1GAcbWZZliBTuY1lIZMdWg4EOkpjzDpJhzamCDm60CdKURVxHkVLYxIDcrp38zIPWHm1dnPhrpZh9u2O4WkV0OZ6SIVIBuGlgK/ggQGNgyhvqmbrJqkck5SE6PKsatFAHuAFZpF82+ICZjTK4UphaY5aHNaz6Mxg0KvmVgbcj9PSBUhpnq9m42R6I/Rk/wPWSZCErs88kjONP08iZY++1k8Ds4IHFAEqPOmjTVASjvmZA45vGfKP9DBuw734VQlfH7q6JJfE3FR2GYZ79obAv7cMlfNt7fZkWhEPUHBe96+uWJnDDPChHgX2roJrpIXRGwxo3qn8w9YCmbiPnZpUotg0Zd15bXZ5x98W+nXWGquCL3Zz+hZ6phVhTVR50rTMLZiGfHLMdRuVG5zJtc46g81rtLzwmAccjlM698CIcHCUOYj/pyqCuctLB7en9I4SIgtELXeAS4f07XY4o29IY9PMea+hG51m1TyXxDhTeg3n969k3jfMsTF0R32XWnjS2fTc9c1SiLb7U9dR62i6xNnlFVD7PwMQtn/6FxjjpdAz9h9awTy9VhR377Dbhww4HDVp8+Q0V5Snk73WyebGDHs6YyzJr16atbkV2PZd76lcH43BckLL9a648Tg+3tOP0CKQ0vf1MzJXgOv3EdzVGxezm10X2E9RTqyYwQ6CgL+b4Lqu3Nm1lWwNNyGpZaU+1iOiszL/njLtJzD6JlajAXeIHDQ+YF02x4Z0M3PP1H1v3JM986vne0ZZ9DzxXlCtxeQcIyqR3KPV/F48aWedD2IGCgsjW3Fl47aTUBJxGblmNzOi/O8cbLE9Okcbg9cqGx+Gfx8tk7PGhibl3VGFdofLxpwjZchDPmL7vkYUznjY25+UD42DYEWILD4h5A7ZnYoc+LLn+fctVhlTlr0nhCUNwTqJDh/EDU6L/O70Ueyt1TNzlLOI9mqclbWzyl5UqMkIRtOghFo9QigkdWNPIaYTYx3zaLfgdepy1bVc7J/p8LaaAHklcROahNQ8Rt7v5GnpIgo/Pv6mqTEeDviH/0s61774f3n+hqY+JJm/HrP9OOkkxivsfNEstXp1lNOv3z+MZ5mUtq9xsrXAZ63CIFhdxWlpaCsW1+bnn3n2ypr8ms7sya+fIQGOBzerYf0bUH3f5BkYQUSq8LkTP3D3TEj8yJKc2n8h/tt0+d4jEBrRoAafP83QCpDkNW/FSQukrzwe9iB62v88idKIf69A3lMJKvEcug61SMJURhNcrue7UEIRBgNpevnsbf0/TCNHSkNmk/XWF6NpdOU50lpQJtSgPYet6CgwKuiG3vDxQgtVuWAyaygRTHhvsWqHF7E3f7qOWCQtDqNW73Yjsmf0NIxZOURsow/V8zIzBseXhplSWw3yPiinSCgCQlNOP0GsDL7JSHTeA9jMseS7gpzkz6PKvfU1DHFT5KmghraFh/vagRnPV5dTxi6j2qhFns6MgRJeLZHGHrWULp+antL3w/T2JHSGIVlrxrLq7F0mvKcCawp6O1L3IJR2uKwk0x5H7+oFbRLs7QCZ+XlhS0RHkmmqfjemu60eT0krbRxq1/A/IvraY6Yo1QoFDReqpqZeRw9Z0ms6ThzCq0HAd/KUISFhKpwZtAQf8G8yO6YhItVNdSTK9ZUHp9xS+mnSx6H5SHMvQ9kQ9t6UGtfJWECa/73qcTCheZn08+sxKTJRWSNiBl+J6w5csRROutwcsbCKC0Zl7TSx5f8tiri3pYKEsOEyU5W0Hht60NZR2hJjNWJzf/GOYdmRUCr0KB+p04ZLXob65n9bsiS4/T6RFLUYHWNW0Kji689YvqGSpLQjr5BxJq1QJz4AUOACawloI9rER3lvuBGqpQMpmBCoXmhl3VhUt+BJ4nlWRnjS6ZVRdVUzNUQWAike0aqfL1ixsChPsm1RLU5D0Yg2QiAvLAcFO1KHHZrHsm+0QyoD/EDOpn0GJCwltY48uSUMcWPaMMFGES0NpVhsvHo6OkltfHs6GA2WP/44r7BqPmxNAMfY/0aBHXPzx3zWkiE8zBFIrmO1CX0A04fVxyurHGnYdM7ksR6p4TMtytmDxjG6sTk4s2pNT8CNH6l53aFhU3bdcDa9iXMrH0Us27TSIeBHcuf3FkhTuo6bnWRr1okomv+knEOBxIBJrAWQR8TlzHva9WccyLKiS3C3jzoLhqHxYL293DSpEnNDRZ/lDfjH5LYbVgVeiY2wyQSOyRkWu/AWvEwVic2iBw/aGUIaOIiowZaiHd21qWmEfgoxcI+U2A1/N/kuvLy0Jjia7vfUbydOm7UQWtlVeDiNBMCTGDNBOyeyb6re4NY6PI57BG2QwZCEj9EmnXfLI4skQQtKQU1StrY4gnVETWDSAxrq/UKWertrTMyv8vqxGaBnhNNEgIwr4N5PKkMC20YIGVE52XPwwruBdIVfaEupEUAX6mqFEeHRq/+s1YZtkIrwyRBwck0gAATWAPAJP02dPbYjdlYM/O85aCVf1D6WEb6nNwxf+2nt1jRVrPJzVVbXfkkNq54YnXUfSiuTjw4PWi8s2NW9sl6zIwnOycXeE6tyQgQIVEicqSAeXzOSdndq5YEDHmzTtgQO9Ehmxi6ufh8SF1rl+D7pbEutjJsMuxtLgEmsBZ9Zd68L0fZz0GVSOb0BzuhVD3ZOA/rJjZHUXYjsbElkytr1AOpWp2ouoUM8WbljIFnM4k1B/Kc5rdBQI910b5dIKTCsDAr52Tdi92A34Fp/GCa8IR9s5bEhHtK2vjiGbRUGmkYjmaV4beBul3EYQJrydfoG2wEzVcxQkWr1CN3+WMx4vpAYRLnhNWtUiKJZYwvvqMq6t4dnyeWim0QXtk5I/tyTWLo9VIDUjc+XzMCLYGAHr+isS5MSt4xY+AJJ/bM/leaZdyDDzKIScki5qgH3v9mwAk0t8sz1Chw2FCjJd5M682DCaxF341nzLH2/vOwPbf7Ao1AY17YCVmnXjRSFyN/YbO9D01iYRoTy7PSx5X8X03MHRPEnj5oGIxgQPwJE0HHaZNjrHJPvdoWhYUz69AIaKkrrgZcfHVmSmRe1r2hoLkY3bvjNDBSrMBGjWdibtcdI+MWtmyo0aE/mdrKN0dDRT345ki3ttBt+yTPM+21q//oRmuqDGx0qQx1NdUpb3jPZpV+kLi25KLeK22IiR7tlZZlYBsfha3G5czYozn/582xAa/FxyDaNtZc+taOQK2FIdSA2KPq5BOPMf4VNI170ICEsP2GitjqEZjHH5cxseRNGusiww6e29Xa32rLlS/ZREMNMKmqqZFu1sa45SBKck5h2FDlLzRLZl36mTStRZQ6Nrs8M2vci4O1GjFJC/zurdT+mFfqmJI/xlznPMuS2yMxbAMrxV2w9Pq9LhPt7MwktjcY+VkTECApX6sMIVFtDWd2rZmX/bByFfa9EiOoBcEyaF/YjnsOJiXfos3jMYGZxrqoE9aEbDlqO0MgmQTmk1dPYJQLzx9aYx+Lcp9SdgQbXQa6q6B1NQXPS9ICv41l7ZNYxpjSN7DZ9/cNwyh30OW1DHltzZyswpIHM3tTT5ektcbS4ueMwL4igEZB6vErWk0D31dkbs4PU3vIopAhJ8BLEJdT7bizd8idx2SMK30dROctwosJzPuaB4frOAgkk8AINSKxP8Avhc+GJ9fUPChNsnYg31BadN8PQ+FbtysYhdU3lByY8REkMIWVOfCzdt2rciY/f7BnzJG89RH3BoRPYsExxUuqXXmq7YrPKTxI7LRDUuX7tMeYH4Yanr2lxc8YgcYQWEzLQNGHD0lq2+zcHOzZ9WdDqudNKbOpt4v+0xLTECPTRpeMO/iWTTt1eBAXm8c3hmzHfd4QIewvItS40TfYGZ525wzC94In11jDR8RDG9H5x8Tw/jktt0SeVJNUZv8+Hema7vthqBzJqheSaiYHs/nCcNgGcf0W88GEYYX62G7gCp1bM5nU11cTTVAw7Og6dtXqndWBE2OO+6IBXSIgzgKMi6mHTGFoxW9S+9SXBt9jBPaGAH03ZPI+EmSEnYBDNXNyJgeluwTb2P/IwBeFH28FVNi/uG/zgBMCN5f8E+G11EXh95YuP2MEkt0gEZHE4rD6x72hTKRFxEMfqn8kAtItKI50Tm4EfB78ofCUh09SdKTrYfAj4Q+HJzKke8muG5JMooub1Jsx8znh2itpfURpmtf2vHlehtAm9S0jhVGN/LUTe96+oiI0uuQiGHU8HPKWnupKPeTquVm7jDtAdklEgZNqxwjUzukKk7qwwNk5K/OsgUPc90OWmIatT7rSnnVRWyxSMXVM6tiS34R9C0OWutrxV5HcqjVHI++n6ZNPfSUmgiJHpHU6/OPwf4O/G56kOIpLvgv88/BL4BfDr4B/CX4gPJEUuQfgSWX5Dvxn8P+EJ8Jr5SQmVZ63PuIOVPRJWh/RkObwjNTMy1B2IVpQCqPs9HhXXMIK3lw8KRJTN6F3DIFMCKw7d1fkkZwXt903oJsmu7g1GMVjxwjURQDfs7fwrj+n66HsQZF52QtM01gE4f4o6p7ih78K25/8GJtNnpMyvmQFWSNSOmxhWBdNvt4bAj7Z7C3M/jzzJad9jfMgAr4Ffz08bS/yK/g34LvBk/sFPK1UsQqeiGwl/PnwR8KTuwr+NvjN8ESAH8EfD0/SGLlk189LNUl/C6fkEYELc2fk98qx1+lV6qW8JXfMbKxSn7zNLve1uBI9Zd1rhgoH1l+PRVz3VMMSq6HhJP3uBSmdzKKKGTnfY5XiviLa8cJpy1ViMEhTq+/P7lI9O+tXKSHx76Ahr0gBe2GctZqWNNvpGCNCtxQ/i+/NUOg4UfiOhxbXuKkIJLuBJwLz08RnXK9DW6ilq0k43gq/BT4f/gh4n4DG45zcD7yDmIzjJfDHwg+C1+bnOPrPH8L5D+FPgid14lx4cpogvNNW+Fd6Utjqxy7eiCkvv9clNIzvOoGsH9E5JDTCqkUdDZiDyGyyFOsytvTDaESdhA0C38bgOrrVMisQcN+MzMu5jciOvN9zbtFCcmatDoGF+VjFBdMuSIKib6h6ds5VfTLEEqz4cje+na4xzDWMuupVO2acjDmIkw8au2pHfA6Y/o5aXYW4QG0CgWSPZyRKYKTCq+voOZFKP3iSrsj9GJ6kLnJT4ImciKzonKzivgt/J3wa/JvwJIX5JKmt5nB9LXwF/Cvwy+HJUZj6yqAftpY/hfGxMGXXzMcqTjdiblhvZZjjh+cv/DMsEqMHqpyecQesxsaXbEAZvg8V0BRliCnSlWbQFA/UzM4aiZlj18mxhWUeiRVyQ3SgXtYBzJekJ2QPCQrj2Ni4tQbjXAZUzli/8BR0efT/mC0+h2g/FcT1Fyoq4lj4dYPoWOo6gK+uXWTtE0GyKtMYgfkSxVnIkNSEL8MTeYXgyX0JT6TTPe7vwPE9+OPg/wRfCv8b+CA8uTnwz8AfCk9SVzH8U/AUn9JJdv2QZLKdJ4WtmXnJV+i5zte/eMM8smpA2tU6J4yTJTvHfU2PGiVqoMhD3TMVOzufB0mxnIDFCh5nBUz3450zs64g9Q/CsjS2r8C2g3Ded4FFd/He6TvZPi3zONpkEnsELcKq8acYBrbucdVG2xa3bfmm5jgiL5LQSFKj8Gwa3w4+glZQheZoHInEyPlHIi3/nPIjXXcuPLlPvINWKdJpb3ginWr4GDypF0+GPxP+e/DXwZM0Ru4u+Cr4K+Afg0ePT/wc/ir4zvCkUmxIjYlHrcfpsbAwQKqomedmyGukYfZXhjF+8LW/f3ZFeCQkS7JIpMliLe+ogULGZEJvyXHFr22YmXVUV0M9hjGNi6K0y3NQLoB0dvq2beoO+YvCDWQuLZYVkBqSeI5dO0OAiEuIvPiYVaG7BZujpppqEn5pl6dYMkS/dJjEV+L4RKVrPghVYRlBoL+fUfq3384Q4eocSASaU3n3cu4AAD4oSURBVELZHq8YqcGItMjXxO8ROZFL9w56DhidXha//hBHIrF74ImYSEq7Hd7fAPL7OM+Avxme4vwL/j74M+B3wJ8N3weeGn2fPHHaSl3iWJhyH6ESS8MaGjmoNxEyxsIKfcn1gFQAxfHGxWAp1gsqRUhjP6yy1S2w/N9O4KLHfXWXLvJj7Nv0IzKXJvLy1607IAXmTJOOABGXHrPSElehvX1W9qHVc7IfTTPVByCuq7FZaihiuy4WiX4OO3+fmDK6ZCyRV3yMVOKboN8/O0YgqQgkq3GndIgsDoJ/F344/PXwJfBENNQbJ7Ufhfkr/Onwb8Gvip+vxfFH8E/DU7gR8A78p/AReGrIX4WnNO+H/zv8T+GL4VPg74YnKewMeEpjK/zg+NEvGy4THSQFUeD07TvsRtM0H7Xt2Jjy8i+ghiRz3sID8GPzpKzM8S90xShTkTCtbOXGymXMOapk1oUbaDNM+AMu1VBDBjMZvaDqlln9D0s1rHkhy8AqHjAnA9IYrF+I0Y1bU8cV0zsV/sB+IvJ83nYQ0O8bWhGfgLY/nJObGlI3wzL1GswV7Eo1gZEP/qo3ojF1f6cJpYV0j8dFCQV2zY0AGuukOmr4ydiCHMZz6nXX4e7v4DHkq60Pl+C4Dv4oeHLj4P8DT8RDxPRr+AXw38ATQZKbDf8V/DXwv4enMJPh9Q8KRyI5IjGQVCu3REQBPedttVIaHrktc9LL01D5Rw0z2EeJGE0TmERrJBZ6HYF4+ANzIOmKctZbvY9c9zlOT6uamz3RUGKKaYrOIdMYFVPq+7j3f//eXDwbVmk0jkbfGRt5EHBtxFHHg4oan5flVswYODQQMG/BBjyXB0yjO7oxwsZELqXkYvhpmHaxiMLreMtIYj8QnUAqAbuOhACRRLIcpUVdMVLp/QCeVIjU2JEkRUd6RveegS+DT4V/AP4q+E7wJG0R8RCx4efhNZQ4kgqRpC0iuJ3wD8K/Au+T01CcXwtP4egekePj8I241iaB1RZX5uWFzTUjjnkfFonHCOVU2HbVCWtnXLpUhGEHSKvZtxJHA/L5C0FMMJveMTNrcMiUM0BiZ9Obxg66Iuqoj7DI/S8yxha/RUXmXnkreXENFAOvTYqF+O3lg4DAVBSscvbAIw1p3CSl/FHIkjS2TBtL0q/5Pcjc00KjV71I9xIlc7pmxwi0BALJJLD9KW8iQXVHRCKzr+GJ7BKf+SSF27vd98MkPqe6kKcfnk+mOG3ItVICC4ctqArtgZNfPNcQgVcEGEE4zl9Kpp+TLxYqU4yShFGrcbrRW5xn0i66VKids7OuwpjY1KApM8n6AypFdNDVwmrb+HX3catJYoP0BjVtXqGeL0TX7A4sAjR5XRTueodUmp2zsk+3THEj3t65mMtFv08Rg6oQRLY46jqz08eU/o3uMXERCuwOFAJEBMl2RCp1PamQfJ9IMhSOLA3Xw1PDTNeJEoZ/z79Pcf1znNYSHqWN5lLHped03jYdyIuWmFoz/cJX0Vw873GxvHTg+Bcv1uR1AM3q6wMUL0RvAa8nsoaFkTG25OnqCvuoiKNmgrxq0GuXKabxIwz2v4+ddqdtmjHwECI7ktpIIgsjTn3p8r3mR4DUfXqMkiav4518Pa1XOt7Rpdid+23LUG9ijOtSIi9YFbogr7/jh3lu4JbV3yPyIuJaTJapYUjgmLzc/KXlHBiBPRGghj/Zbl8/ZiIZCkukRM6/9q52/U1Mr74wRHh1SW9X7DZ4Vije1fVxndgvTeH+AKv8djIDgam9rnz6jQ3hkZXEGYCtVZH0qAK8Syh/iZTknYU0/jhh28PZz8AI/5dYU/F8SGSd0Huf3Dkgr4DZ/WNRx3gEk6A30evREtm7hTxG1gLfKnUYpsAIR9A4VZx41Lyc/lWOe6VlyMuwtcnhJplRIUhN1K1GR+NV25WPZYwrfpvukrRWONWby4XLxN8dPWbHCLQoAs1BYPtbgVbVEO9v4ZslPFkbQtJaGx65dODkV2aahnGPEMZh6T17TkZ+U0dcP98qmi9izZJ3ExOlwXutkpoKldTEQjLQuaBmdva5thR3o1d/PIisN9rGMNq+n0XmZj+6vcp9Er1/Uh9r8oMFKBMZgZFEhx+YN7a1LA/m7IV2mNIGEVV0ycwLBY3Lahx1SVrQ6IFQdF/EYmoThrn+6hjq8YxbSmlsGu8GkjJZn3pjY1pdTPfZMQIHEgFf+jmQZThAebfSMbBdaOjmpN+EhalBM2OJksYwGHRUuxH7pDVzLvxE5C80hd4Yc1eE1namjTywyiX19On8/FOyfoIVGiZibOUIbB5DzaqwbVVmK3dBpEb9tuuta0qoDrqxxGRZrMjvIAh3cL7li/UsCfOBf0GtFuObh3L6d0p1L7Bj4krTlEcFg0aAxCqyKIRfDo3vgp016k/dJpesoWwXQs1IC5X60tq3LApHYwSaBYHWIIE1S8XaQaIKrYdZNmpUddbEV+5E//dFYZipMiSno26ni+H5SttrtuKK+mpFGisZSRNZC0qeXhzOXHhCD3kVaGkciGyYFZD9LGXeibnc11XPyXoBRgNPSCwiTJIYVQ1kRt8oS2X78J61pJWPL4UYJx+YYTUnMurdGB6ekX5Q1fcw1eESaagzAobRO0BmGYgQiTg16Ei8a8fkUzvtTi/1vvUzqKgJdxjakDTM41sEB7tWigA6uB3VtXoJzHsxZLSBrVWyJy16Ulnm1XRT2ZHxpQ+dP2vE9Y8HiubfEKN7rd3pxjVcO3YiysN90rp0T7nMMsQN2GXjWJM2m4erjqoYTPDfdmz3yZpq+Ub3O4pp6oUeeyFLObZeJDR2OY0rTN+Lto4wjqads+NuaXh4sE/nyhPSQsY5riN+iFVTDg0FPYxdWBNC4FqJFTNexq7IzwRHr6J5l9rVEleYx7d8TPjYehFgCaz1vpt4yTyDDmVH75AyeDpM0vtjmakpA8c//2bRzIuXtwVVIlUETacSkMI8IsP4WLiQ1rF84vHrxYKrj8g+346qm3B9ampQkgnBWbCxPwuN7kps3fKiHZXPSrnqE3+FFH+MraOOl0EqheVmHnx8vFBLSUXOfyf3Ss/qn3JE0DQvEKrqDMzfGhbAEk+CEIU8G4uJbxxb/duwxB+/3mG/PvDOtWRsU2uYkRfGGio8AZkgYddGEGAJrNUsJbWXL6ZWCnv5J8IM/hFqNmzgbBeWPnTeSLQ+EkPr4IW257TFYkKDuWNW9skBU/0U+45dCBPuntRMk4tEFam5PnBd9Zoh5Uspo4u/9J6g8Y0bF+hrvQJE+5Ic4pKrJAOK+uq4BZtGpqWJkzHn7geWJU92HHVkSgqoH/pDWoa5OqKipqGK8JX8dWfUfa3HhDXLa7Gj+Xhs/enDwcc2iAATWFsgMPqwMB4mRo1ysiYvWiAM4wptDubE7iqdfu59bUmVWPc34qvARAGMDQo8Y4MqmHW7MXcUpIeLXUcdn5ICQ3y/Qa5RFQbmlMG0+3UM8bybNnbNp/iIawncW8ooTxYsLVT+KiF182zN1550qcmKpCy9s3Fieal+lZsyD3dj8hjsBHAqtis51TREv2CISAshMepVE1G2YYoiGGX8HWNer6SNLv0YT7wxxfgSUfExslrcEvPgc0agrSDAKsS28qaWLdONjRmpmOiEMk7FxQC0V1P6T3jx70UzLlziE1xbqY5fTk0+WgVW4K2jhwdy1Op1ODy0OJw36/iea4+HheJlhqFOR52HpKZJLDtmnBly1Zm2Y27HxprLI5Z8Vznu4gpbfSZHrcEamYVe8tSgw3lbvGyCFFOoaP4TVJk0ke6ANt4+URWiMnkgKjGsJ+ZlYSV/TCoWXtlAOIXaAMPIqOyXlmJ+11DuSVVfqxODppEdSMFCuhg3DJB6EIrZWFRtw2TjLzCm+PeoK1/euNL47NA5q2ghbO1qx7bYKMOHhI/tAIH4T7wd1GS/q9BGjDgS6kUrdGCXZjv71kXnoJV7VQ9eSPm/Hd+Un7T5iZ9VtGV1YkI1dbXqLm2kZud2rnCdvJSgOBdSxw8s0+iPxtvyJTM04KACsVa54r8wTijCClxFbjT6SdrEMlr0WUsfu+WRqHqMPyjAROz84SCQKXFyw69jf4gOJfDoh9KbquUhEFP8qE0DkQE9AomGw3uWCY+Mitm5B1nCHga98OGOkkcGAuJwrPw+RE8Ep+4mLfmP2kSjWB0D87VCAePDqO3+XdniXxmTSv5L6ftOPT4iIL4q0tvb+Pf4yAi0JwSYwNqKCjH+1fkkNnDiS7PNQMoY9ORhlRj9Q+nD513TVqWwhn5QmhDILHw4aIrM8ONuNcZ9+qYbx7uucwbM8E/GXLLDU4NYry9uyUgMCEJzsL3H9mBALgOvLI9GnWWgkuUBU6zZqaxy7FW1w09vb0dfUhLD8vFb8Qho9/CwWc8frsTUMNR99ZLS7sHjVzvmDjnIiET6SUwjQB6Dg5YY5Ao5BNaXQzA/qzvGAAOw2dQMSmNZDnbVc1x3i2Ea/4tE3Y+sgPjntirj371vXb3Rz6B2PLCVSJl+ufjICDQXAkxgbYzAQFfUqkENFrayq45/Vyn3RCw1hTbbvaZ02tl/8AmuuT6YA5WuJjNaKR0ucW7Suof7paaboZwMS5xgO85IjA1+1zJlHyyL1EUTmv+FQ80GQnMxNrQR5LYdgK03LFksDWONdFV5dcz5ynWNcum6O2zTiQZg0V+5w60pLz8kdvT8IiJPFKFhRxO1jxmeGejaRaTYVSrVzDADluGmSUceDB7qbQXFwcqV/TE7ayD2fRyIqQI9MHWgK8ipB0gYK3zGC0q5eJOKI44rNsLkfbURkB9JV35QXR3936pV69YenbAKi0ewmF7gWyQ2XER+wgi0OwT8n3e7q1jjFWp7KsTaOsVX4YAp/VDsGfYR2jxsGiprHNc+ZR3Gw9orifn1JzKDzYcBdd9ukhk93zivZ0a63Xmw4zqHpwTNEVgM/zuwzMsFYRxEJuUgLVI1eo7IAtINGT7QSusgjKgpVQXUdDshrVVAjbcDoWtAEtGY48aQTgw5YhEmkBn9Q0owLwlCvUepWq7Uuyp0QoAMpJuuXNUJ3Y10LGiMPgblC4//2lNseBv7zWBVDJCV2gIrwmIE/bw6Jj4D+S1Vwlqdhl2NEbLWxSVCTAFHbG+yMqXEjhHokAiQVp1dW0MAS0hpy0PMA4NV4k2QIhYI106xzOCCwde+eCzGySogoWEppvAeYz9trar1lRccQKuQeIsHEx2E4eNjTXLUJuwZt6kI8cj/Ad4o+03fbt07W4OitjnUiTi5MMXPDpiyLza9OgQSzsGOUp0w/0yA4IIgmYO0R0RNNHSEs/QmCN65/ktEVIc6tBAVJyYtKBM50ngVyBHz3GyYs2+FBPgV7m3Ava9AqqvBaatcU6x0jWhxyuj1NC9rt3dWqxakTEk1CPJE1rXqVLrNjhHoqAgwgbXRN69X4MhXZsl0+cesya8eKc3ARKjFhkR6hP6AKl0CA0UcwvDt22kyC++iElCGR2gkZw3L15Z9/e5a/w1Q+CDuNSAl4cyUjC6qW9AwM6RrHAzxta/lyN6OdHtIYXSDWrGrIxRUfDIVjJGCHFIgdMHmDyIYdIEkToFLQDYyqgwVgVwWxc1qrPW4DQ+2k0ecLQj9FTaA3AhB62tQ07adMXtH/4llRFREdXs4bxqAJmRfwtqN0PaIwDcYgQ6MABNYW375BWgSMZG5RMpbMye/dpSURh6ksYszJ750f2lY3jHi+iVYauroWFuu4v6WPYHQ0PB7RhdxtZsnpfXMk2JTIYittAZpk4UiuZXeoeG/MOm3MkWplTlQibKttuxHQbtZqnDNQHtkwmTshlPY9YTKUzhVWHnafL7QM+2fAsmKpCs2c98FFJ8xAo0gwATWCECt+zH6/VMVjejAgE1djn77BxhQyZRW8PasiS8vK3r46Kc7IonVfWdEDLgXl3gK9WMtqdEdMnffzdSdHtexNiTV3RS9g/QeqjulSvES4qNqtenoLPCHVtX10ko00Y+XB2kV+gE7grC8q658xggwAk1FgIw4hOgLK8QBAw5XffoMGe2lmNf2SJ2WmoLLHvfXY6BOrM6a9LLKunVRFRYAPlnXKf7cqx///bYIEOnV9d82LY7HCDACTUfAt8dqekqcwoFDAJObSdIqnnXJx65t/1zQFk+uk6oM+ZfMSW8MEXiuF/09cCVsFzmTerKubxcV40owAm0UASawNvri6habxrrIfH7NzAufQTt7j2GFcHB6SRF7OWvcn3rpzS/J/J4dI8AIMALtBAEmsHbyIqkaMJ+3RVgZJdPO/jVWqXhUmjCaM8xcZXV+MXfM7JAmMTxvR1XmqjACjEAHRoAbs3b38qfqGpVOO+tm17VfkJh4BBP745xQzl/1g7B09RyxdldvrhAjwAh0NASYwNrbG6fJy3Epy/p85eWuHfmQDPBAYudiEeA/6erqMJjozI4RYAQYgTaMADdibfjlNVh0krIw3rVq0dhIrCZ2nrJjS5UDq23Dujzr1td/q+OFp9B6ivz+GwSRHzACjEBrR4AbsNb+hr5t+bDcFJHY+nkXf4OVjM7E6hGrlYOl/Azj59m3vvGItghnEvu26HI8RoARaAUIMIG1gpfQbEUgEoNlYtmM89c7hnEm8lkLaQySmHFT9q2vP8ok1mzIc8KMACPQAggwgbUAyAc0C22ZuNhaN+2c1SIWOwNL+IHEsLmUYd6YeeuixzwS2zVudkDLypkzAowAI7AfCDCB7QdYbTZonMRKZl24QjrqB1j4aC22e4QgZt0Aw44ndb3i42Ztto5ccEaAEehwCDCBdZRXHiex4ofP/VI64geo9hoaE4Nhx9Uw7PgLrg2e7NxRPgauJyPQPhBgAmsf73HfapFAYso28pTrfol9xMiw45Ksya+80fPmeRneZGdvbcV9S5RDMQKMACNwYBBgAjswuB+4XOMkVjrz7FJRU3Ua1k78VGF/D0hi389IGfCv7HEvD6C1E2lZqgNXSM6ZEWAEGIHGEWACaxyj9heCSGzhQrP0kVFfG5XVecKJFWIvMUhi1hEqYPwza+LrR9CyVLRAcPurPNeIEWAE2gsCTGDt5U3ubz1GefPEiueP2l7y0HmnY/X6Z4QJoUupAcIU72RNevUH/gLBuIlF2NkxAowAI9C6EGACa13vo2VLE5/sjExdLAB8BVSJD0msYg/jju4wUXwta8LLo/UCwVQqXsm+Zd8N58YIMAKNIsAE1ihE7TyAnuyMJaWUkiUPnjFZONFJtACwcm1LBkJzsDnmXD1XDOF4XKydfwtcPUagjSHABNbGXlizFJcW9yUlIaSs4unnPizc2IVSmttAYkJYoVuybnv99dwxC3t642KP87hYs7wETpQRYAT2FwEmsP1FrN2Gl4pM6Edc/3ig5OELX3JU9CSs1rEckhktZn+mE0pbkjXpxVOL5t8Q0+pEXgi43X4JXDFGoK0gwATWVt5UC5WTCIqsD9c+dNGyWEydrNzYa5gnRiQ2QIjAW1gI+CZvrhikNlgytlCxOBtGgBFgBPZAgAlsD0j4BlkfYqsVLAJ81pbS6eedi8nO90IaAzBuAPaIj2ROfuXZzPEvdBWwZGRTe/5eGAFG4EAhwAR2oJBv7fmGw7beLwybYxZPO2cKdhi7REi5FdYdMFAMXiYDqe8PHP/8CZrsYADCVoqt/YVy+RiB9ocAE1j7e6fJq5HeuVkqsj4sfujs5x2n5mgp5GIQGVSK7lDDTHk369bX7sK1Hj9jK8XkQc8pMQKMQOMIMIE1jlFHD6HI+pDIae2MS4qLp511uopFppPVIuSuAFbv+D+Q2FvZE58fROHyab4YpLaODhrXnxFgBJofAW5omh/jdpGDntBM5ASrxJKHz7tVCXU2OGwdGSliDarTlZHyAeaM/bxAzyuTLlkztouKcyUYAUag1SLABNZqX00rLBiRE80XgzRWOu3c18W2bcdg2Y5nwGBU2O6YM/bbrMmvvTRgwl+ztbk9j421wpfIRWIE2g8CTGDt5122UE0w3hVXKZb87scbaAkq1479DONgG/WcMcM43zRCRZmTXr1x97ExXk+xhV4QZ8MIdBgEmMA6zKtObkW1SpEmM2Mu2JqHz3tCRu1jsCDwC1oak2ZXaVqPZk5+7e2B418+SocVnjFIckvBqTECjEBHRoAJrCO//abWnawUMRdMWynOOn9t6fRzLoZK8acw7/iaLBUxAfp7hmW8lzX59V8Px2aZHunBwIMXBm4q8hyfEWAEgAATGH8GTUagVhqD9WHJtHOedu3qo7DH2NPCwZCZNFKkafyiKjWzKGviK/kijBll2tADG2byclRNxp4TYAQ6MgJMYB357Sez7t6cMZeksTUzL/mqZPq5P1XCOAvWiv/TakXDHIT9xhbC5P7lgRNfPFJgHA0EpsNrg/xkloXTYgQYgQ6BABNYh3jNLVfJXdJY2Cp96Ow3YvbO41w7MgWqxW20pqKU1nmGtN6DkcfMfhMW9tXheXys5V4Q58QItCMEmMDa0ctsNVXR0lhYT34umzGquvSh8+61pTzadWPPuk5MQBJLNazguICZ8XHW5Fdv7XP942kekcEenxcIbjWvkQvCCLR2BJjAWvsbasPl80mJ1Irrpp2zGnPHfoyFgc/G2NiHtKYiNs48RJiBB1M69/84c9Kin4rrH7fIKESPjbGhRxt+81x0RqBlEOjA22EMB3kvU5079zzaMIzzXNddVFGx+SMhMnG/1G0Z+DtGLqWFT7l6eambhxvbJl2yclu/6B+6dflOqVJqKEjsIDBZT5gTXdQt2Pnsbif+ePu231y/VCwrcDGvDKaM0hKFhfw+OsanwrVkBPYLAWu/QnNgRuDbIkDWh+RIslqY7xZL+eTg2178S9QVY7DX2BhpBnoL0zhaue5zsFYcq6SaXirli4hhayKbWog1Fkc6uKbFq9gxAowAI8Bm9PwNtDACejkqb1LzigcvrIDZ/W9izs6jMTb2APwWaZpCBoInYZHgF7Imv/IPrK94qZg6VYK8bF1SqCM1obVwsTk7RoARaH0I8BhY63snHaJEenwMKkIaH4Ohx3pMgr7DdWqOUbHoPGVHd2AlDyHN0MnCsAoydx77L1gtXp47ZnZQExm2b6F4TGQd4lPhSjICDSLAKsQGoeEHzY4AiKiQVISY0JwnTjNAasXIc3Tfic/PDkahWjTkT6QZ7Ialgk9QyjnBCeb8F0T2mPhm458RdpsIIzRZLRbgSJIdO0aAEehQCOhlxDtUjWsrmw8DlgKnb99hN5qm+ahtx8aUl38xV4g8kHqhp66qDcsnLYIAGW14Y10a/34TXsy1DOtmKdSV0gr10Iveu5gareyVGAlboGy5oHTm2aW6bD6RYXwNhh88TtYiL4wzYQQOLAIsgR1Y/Dn3RAQ84kmUyFbh8cTscS/PdGX0WhDTlYZhZUsjeChY7F6louOxssdflGM/WTrqgg91UuiS0V5kRX2+InN8tl5MxJfPGYF2hgBLYCyBtd5PmtZKHDZFilFSqwf73vLUQcG0g34slPFzmN5/h8bJyCknVoN5ZYVSuAsiG7e8sf7pn37jPcAYGyS6wnAe4rNUpjHhP4xAO0KAJbB29DLbXVW0BBVGtZQccf18q2ieJqY5uWNem28Hai4SbuBnsKM9TZopKVAvngUiOyt4cM+VWN3jb64rn10j5SeFNMZGjow+RB7mo8XN+fVN/sMIMAJtGQEmsLb89jpM2aUqmi+wBhXGyMKF5qrwyCiq/hz5gRNfOdFwa64BkZ0vjEAvGQhAvShulbHqMdgd+l3hun+MqarXysIjt2i4yPKRpLIpkMp4rKzDfEFc0faJABNY+3yv7bRWtBu0lqhAZCRRveuuCZ/3Pir7fva4hQPcQPpFwrEvw/UxRjA1BcczMT52puWkF5NU5ij1p7Ujp/63sDCMcTY89ckM6fB4GfBgxwi0MQSYwNrYC+PiagRAZP7EZmXkiUIywV+LJ7Ph5wwc/9JITHC8DPaK5xtY4UMGU7JBVhNNu2Z01tHHf6hGvLwI4f5WKuUXhb6K0V97cfgypM3GH8CHHSPQ6hFgAmv1r4gLuFcEMKZVKARJUOCs0+BJKrvgHcR5J/PWV3u7scgorOqRj3lkJ0IqC0JteKp0rVNVtPoXWZMXvYfVP17CvmWvr51xHs1Bw8wKrHaVr8yCfH3CJvkaFP7DCLROBNgKka0QW+eX2ZRS+dKUP7k5L88a8N0Jx1lW4FIkewYmiQ2TAdIwwrlYatF1N0D1+CGIbmF05453yx4btd57SH9ptRCMmbEByC5I+IwRaCUIMIExgbWST7E5iuEZfUDdWLsI8PCbF2bsDIZOMwPB8zE+dg72JuuPSdJe5tirTLlOGVbJf18q9y0VtP5een98ojSFIClv6TDvN1OACdNsmt8cL43TZAT+v71zAa+jrNP4zJxL7umdS1vapK3QUi5CV0CRJSjULVCLsqk+uLKKWHwWEChFdNHtqbq4sHLXXak+lF1vK1WwgIAgPhH1wUUKstAWSmzSW1roLU3a5OScuez7zpwvPT1NoWnTk6R5P/ifmfnmm++b+Z103vP/rgdMQFWIB4xKCQcfgbxOH/TKpo+xV6TO24Xn+BVt3NUPj0qWOR+2Mp2XBLZ9HpZ2OQbVjOPhoc21vOzcINPVip6ML/i+9+vAdn+3LnXJSxAtCFcusCPJiVsC1DmqqtEw0VYEikhAHpg8sCL+uQ2Iorjqs1M4f+Lkf/rpcUF59fm+H8y2HedvMFAanhmbzDCRle9hsLTbFvjuKpx71nL9p4Ig+2rz3R9rzX+iulQq3sCIhQvVRT8fjPZF4DARkIBJwA7Tn9ZgyBZVjPVL0fEDwbSXYfe4Ly0bG3ets614yQUYHP0htI1NRDVj3HKQlGLW1RHY8cQK382+ZDv2c5YT+0PT7bM47dWeCYVTAWYRWWqHQqn5GUlYQQT6nICqEPscqTIcPARQxbg0Jzpo36o/8USbE9uvnzunBZtwjvvRVyyrqhrhnxWkd3/ESiTOsdzs6XayLI5prE6KxUtP8r3M5Zabacc4s5Xw2n4fZN0/OoH10pqUva6bA38mUtDQ3d9agSpHCVo3Gu2IwKEQkIAdCj1de+QQwNgvKlYYzKz4EJutD8xp32pZzyD+mfE3PFRmW870hBu/wM901lmxxDT0UjzOTpZXoWrxTMz6cSYayBb4QbCxZv5jK7DK9O8sN/37oCvzZnPK3ow8ovazXL1HPWbQX7pyDI40kDoCr08R6B0BCVjveCn1UCBgZsWPnhWzfqCqEd4TpqPqRNSLOftWOPuHU3qa5QfnwL862/K8k+xESSUGT49D49k4tJnN9D2sMF1R3VSz4PFVgee95NjJP2eyHS9tvO/SlqVz89YwC0VzUQy9HKOlYKIB1dyPjqN70acIiEAegdxvwbyYIbOr9cCGzFfdZw8atZnV16N+MaxgzBMgqz5W+6Urplief05g+R90YsnTfbdrupMsd6JZ89EZJPCtIJv2Aze7A21omPIDYuhmXsB6dK8Nb9v4xvLFV2G+x4KAjiFY7NMKx6EthJhp/sYCQDocygQkYOrEMZT//g/t2XNeE9rOgr28KeRac/2S4bY9+ngrnjwz8DJnoTfjKahyHIftCFQtojc+BQ2TXbmcl9jahjTr7cB+zYo5r3ie93KsK9PYld26pWXxVR2FN1mPIQFbMCSgge1poae2EFqo5WIKOen4yCcgAZOAHfl/5cV6Qg50RkeQOrRrYW7GaBmXXNlsP4sFZdNs2z/ZjiXPgC93Omb/mAYxq0a1I3Qt6gyJ7vqWj+XNEPE2xqU1oqfjahz8n+34K9xO/7X135mzpy0t/7k4zg2eYdj1hPEStnw62j9CCUjAJGBH6J92Pz8WvbO5uS76vJW8bvq5O4tNXPDoBCeIz4BinWHFkqegS/5kP5upRS/HGKsdbTuGpPDSON2Vm3Exb2Mr6iMbMXvIq76bfj3w7NVxJ7bWSibXrbntgp25fPfeQNjq6K0xVh7b3mz6/Yhtq33mOfNd3pv20t6m73daPd2ABEwC1tPfheL6ngA6g6RstGc5YyAkS/cVNLv2umVHeXF/fNxOnhI4znuDbPZUeGgTLMc+Gt5Yue1EVY+RqKE9ze2iyG1F9eN21Ec2YzzaaojgKs/NrLIydnMsk96+ZvHcnoWNz2fGqrEnpMSt77/xouVohNBsD7Tg3qY/0HyLl069EIvHWiUNbQJcpiVoMF3pycJ4afCQ2JW+KTXnLcTSlvM0A2fUdzx/SpBJTw3iyVOhWCdhcPXxEKuRGGBdasfjo1EFORrxx6Mb/0x6a46NwdalzjarfNja2vmPr8f46r9iEHaTZcXW2l6m2U3v3rDuP3/ZhtWp9wy8ZmHhOIJUbszaIlaHRr/ozfiC6fWBFXYkYeI+8xyY2ZAMY+fdX95TG2fvYeC7qEvFrQab1dYH6lnBvQ+//wNN3/vbKsIV8sDkgRXhz0xFHBABI2gmMQUDy8WYw9zWQXva8KRVMclL2CfYnn+87ftTrUTJBNQ1ToC4jXUSZdCqXBUkdYb/c6Jiz/Ww7cJExduteGKDbcebUC251g7cNVbgrLUtbxOqJDetvmP2NpQViVdB4d2HuYHZM1pW28vHHh9EHhzu11oEAQw7lTDpO+fRndkQ2mE7KcYcTlzw5Psd2/olfnTUN91x0XOhN1z4XUdpybBnjmz3hCc/acFTlwV28ICd6Tx/zT0f/4OVi89RNe94/C1hsAfKmHTzr7+FHzyfsjpbP7jmnrnrcD/hPe2TfhB8LfLABsGXpFscIgSiLvJ7vKLQ80E1D6a7CtuxOHEwxo5tuGvudhChcUxaGI5e8N8VlR2JkW6yZLzvuyc4vjfN892p6Os4yXaSI9CFf6Qdi5XZ8QpURcbK8QIbDw/wrFg8kZvrMYMJiUu2Z7zszpr5y7ZjVpGN6FjSgrTrAtfdiOvX236w2fU62qv97W0rUjYnRfa7XUXehfHUrBSPosCXI2fwD73MXByrKxnY0WQhxC58xQ4Zj469dXx81RPilaOPcndsnkgUM1oWx5azW+pSy7FWNqC6GZ2AzMKqOeEJhYYsWf0c9oBFOjDHQadj26xCTjOv8G9lOsSKU5mZsYYUtRW5Lyjw2+B9bc56JVFHI+bJ8wymantvEcSPEnyPXG+P353pLBSNVSz8gRVmU6wPo87FKm8AlaNxYAPoy9Ct9IoARC21CO1WkTDU4drCXo8mu3D2EDcxNpGMHxv4wVjMuj8ZY9Qm4hd7DTyyiZjb8VhMWlyKKsYS9I6EruE9hS7+YfDRzoaxa+Gaaezub9vtlhPfiu3buHYbOp+gR6SzDnluwTSRW/BafguzGG+Nua3bYv7W1sb7vsgX5B5BNjfV07bQ+8RLMnxPdoti7iJ6pfTyGLrFjwfhPffsqfD0wAm80WDC/EcvTpQPf8xt2/Lxtfde+kgPtxc77tr/qane/Pr6FUtTmTqsfJD3HVNsIq7kBjWcXp9KMl0obNEPIZNlfMqsa2ONT97XZSJyW64hVBiHHxVW0iqdF1jLF+8Zk1goZvkZ5crPjyrmfu4vtZhFDpSyJGAD5ZvQffQFgTxRy8/O/KLOj4v27ZrPLCmxR1UfbcVLJwZuUItoCtok9IBEp5HEaIjXGKxkPRoviQqKG37hwzFj0wliQqnABwdnh7P1ezjwMxA2rhC6G1Nr7bDs2BZ0MtmCeAietxXVZRS4TWh6aUU27X5gtSdgQaKibUJZfHfeC3rfu323GL5IF1HFGqLxCKjanIFrqlC92RBe+zv0wsy16fE4FELuLOJHFPYWxMMghrjHeYvjk8dMvRMD2mf5bmYyOumschKlrUG682tOaXKH7/ufdzs7fhtLltyIwe5nYqD7X8HpyuZvz2qYeP3D0zAw/iuYzuy0IHBbLDv7xabb57xRc+Njl+D7edDOuuevueuiFyfd/PR8OHOnoOdqk5Ms/Ry+nxKsy3pfU8Xzt9KrwxJBt+CLnNflZ2e03DF7a+1NT9wL38/Dwq7xeLLkE77nYrZqa2Hz7bP+y+KSQfAGa6976IQgWXEVqp3HWtmuh/F38baTiG9c8++z3+xBNA3Rw75VFeJhR6wCRKAYBFAFl+qxrYQjprHCGbr0m2o8VgNhQc7mB21WOa3N2XP5dznl2h9VdwVVlU7cGxaz4sf6dnY8Zhk5zrLT4/FCxDRZ/jh0IhkOUauEbFRCycrxMi5BhxIMaotVIO4oKN0JRuhs3ANeelY8EjsPvSU74Dp0+oGXttyudPPOjo6aGx6D6NmteLnuwDi47XbM2eZ7/g7b97ajnW6H7zq7/DgEz/XSCSeb9bNWxg+yXV27vMz4qxZncjOZdFdp7VW9mf9w3C/07BiXSvEzCnu3C5nYQ9tSEq8CKS+7Gz8O3PCHANQCoo/pWbKunQmGYwWELySqRn7BT+9aH2Q7rnXiZTc4fnDuxKt/0QahWw6IndCaV2LlI2e6bW+dhRzfsL3guFj1iGFu65bR4Q162fNjlaNm+end+O3gLcE14+IVI75Rs/uMN5st62dgOwVtpBPi7u5qpEcvVnd2vGpMjbtrB3QvuAu3+RF46Q/Wzn/4L02p816pvenxcywn+ZTtuUl44xswzOMTTqLE8jrbf4rrL7MWNdAjjKojsVPMIAErJm2VJQLFJ8Dpp1iq18NLOxI3ei4rltph20l4f3V+Y8pGO4lFa4GtCqPzP1CtNOWYxMhMPHMUuj2OQGeSYbaXHQPROhYvR3SrdLDvHwUBG4XFQeHJ8eUcTzhOPI7qygTSVDm2UwWxijw65A1By+kdNIhVlzhy0Icl8J3Q8AgYXWCn7ZJ4OrDLOu0SqyMWWB3lVU7HNrxOMd9kp+15HXDGdqElqQ0PvhNP3okXNqrWcF3M7oRcpDHbCeJ8zGtpd4JKF+ayRJyfxsDytJVJpndVuru3pua05z9un+yzai8VeFip4Ms1NyxriFWNftJrbfkaOnEsY/6o6ivxT77olSCdHu63bXj/2sVXbbLmzbv/qLK6kRVlw9/AD4h1rbs2njK8cty5gZ9dhjnJoFCg4gRph0Mq4OLyGKzb0WvV8tLt16y9+5LvTrh+2dkxNzMTqySchtM/g5eXdhzPdQInSm9Zu7xd2yz8JrhgzR0XPlsz/9HVTsWI73npthOQ/hXbii2Bzu4I2ra9b+3iT2/Cvf8j2twetAMPbnn/BglY//JX6SLQnwSMuIXVZQ17eSW5Kkn0m6e4hTdZj0+TBkvCNKLtCzG0/QVUmd0fP2H4MaVdGX8U2slG27Y3JshaY7AMzQhMnVUNr2wUMh8FURsWOPFKVFFWQq3gGQTV0KsKnEf1ZTzGqkt4eNBFpwztdGW48REQpjzxo9zlBXqdjAk9P24jUXRQZwlh9e0gjjpPRMK9wdyV/J+rartWiZep8mJ+1c1PL2i6beaPTM+9vJwPbTfHElW0fE4riJVWMEOuTNCwdAsireEQ9UaK19jUY+UtqdkdFTfOucYprRwWtG+9eMfiq3YOX/DU0RR+x7fD9zfgoBkSIm9B6RHgGScxm0tbtuMvS3gMsYnjWUkjFDyMgCAdXJ6I0ttOOTzpF9fce/GzTG8BN7nBp2rF2MQT7GTFZDvTcUszxAvxdufl3/55+bGn3hmgV1CYvh8/JGD9CF9Fi8DAJWCqJFN7btGIF2NCScuJXGEvQ/aWXGnGjNnZNyyLHQLo0TTD9htmzJuX2OWeWdqaTJRVlJSWWm681I3Hh8WD9IggXjoMulON2UewdI1VBUWq4jHkpxov1QoYBCGoChy73EH9F24wCbFLQvEoWXGIBUaBY2txCyl14MvxIUINxF7OE2R7XqxipOW3b/so0v+oW7z3e9cHd8LHzVM9jNe0dOXK4OjSSbhVdIUJrBLm2nLixVEnC8c51890NDfd8/HnGW9bbgurZKFT5TxGNatPJYG2hN8Knwkh27mjlM+MEx5O4D8sI85D5I8+PHAH49koJc/ZDiflpB64Dhxd5hHAbUNUGT143GtYRViH6sKWsnFlWVzO/5lffwYJWH/SV9kiMKgJGJHDQ+SLm3mmlNnBi46v5kWLop6TjEZ7HMeQcdeMI1t+fz3bhSh0B1l9F9g1qYYSL727LLk7XeGXJsvwji2hIGAEXBIvXAiaXeLZbhJDeEvwHsf8lHZ5YHvlePmzDS+JqbrK3NbNdtZrX8x7C7v69/Rs4cmD/wAQH8vvQCX8vUQAvhGr9aL2JHanD0PQCQ/xmLGffWBsy5Ir1vtZt9IuDT2qSTwNfcH4vj1NUD68SahzMCpZHuzgeVQVUpjZd5/pUQYS+0HSRSqeh8LBFwxP8QPpPLR3YZuIr7sr82rtgrZ2JP+HsbPnfQcdbTpqr/4xfjB4FWgHDS/iNf0VJGD9RV7lisCQIYAXZ/Qq3vPCgyjs08mCbgKcg26xy6++NKxYjWmCERZTtTl9UdC8cCHn12LnFL67Dy1A1ZBX2E50aBntezVcHMepGG55XTu725H8dDv6thyDdkF4kwgzjsUgce741vdj5dUzS0fHnp/8lWdf8V13FtrA4Bwlrhk777Fb0cHFj1WMsLzd20PPDZlUwD8b4Sa8sIoQXikqXVEjm+ksZXaoUyyJlVY7rrctev87TjVc0u4u9XjoBM5b2V3bMCKeY86euCVWNfLekmkfe7l2+tw/oSPHTHQoKfWzXXtUM8y4+B8SsOIzV4kiIAI9E4DAQcO6xS61byojWvlnTBy3qVSBCDLhwj3teDw0vTG5XxjC6s/cKtmHQ7zQ+5NFQtGXe22bH8RkzmG1IMf0bVk6d1flTU/iKXyuOGAt/80IOEaB3WTbP5/0pScvRZ3dPKwlNwJe261eV3qVEyv5aLLcTSLRi+72DY+gW/sKXodqyR/6XvBy84M3RPNgxmNvuG1vL4tZ2d9H551feR07y+OZneygg+yCu9GJhQPTo7FlnvdCpnXjE04QvMrzTXdceF/tgiexrI9/PUZKnIcv6Xk/3XFxgMY2nlfoFwIcB2ZZ4zCV1IQJJwdjx069JrqNOn0p/fJ9qFARGKoEempLyoujJ3ig4d3ShjNqvGNmBWX1WLZde/PTW2tufPwXYU4cK9ZPIXQx+6lsFSsCIiACQ5QAhAE9D8MqU3arMIGzXoTzTObFse2K8fUBjNuchdfzQuaFc9wyLa9nmj0hOm/GtnEbps8lYNqwzPAYjWvIJxzAjHxwbzU3Pf2Z2gW/uqn2up8czRQ11z/ySVQxjkJJ+w6vyGVZrE2B2har2IFQjmbiGAjfgu5BBERggBLIzcGImT2WxCpHf8Zt29yB6sYdsbKqcegV+bLVtX1W0z2XYfUECF6+CBfxceSBFRG2ihIBERCBQUMgFXmBa26b+dnMjnUXodfkDzD067deZ+v8WOfWulC8wirJKF1/PFe/1V32x8OqTBEQAREQgQMmYKo27bV3XvIErqLtCaZKck9M0ffkgRUduQoUAREQgUFFIGyDq0e7WX3YXsZOG2wnSx2WIQa9ISMPrDe0lFYEREAEhiIBrGqwNH+4wgBhIA9sgHwRug0REAEREIHeEZCA9Y6XUouACIiACAwQAhKwAfJF6DZEQAREQAR6R0AC1jteSi0CIiACIjBACAzmThwYaV53kAOxG6wpU16ONTZiLTiHI9i5wAKWWECYMmUD4uu4qyACIiACh0iggV3RozkGDzEnXb4vgcEqYBQu/FE07PtEBxjT2NgYzqSMNUzbsEYsVufxOJmlhXjMytx4gLkomQiIgAiIQH8RGIwCRvEKxo8/cRaWznkv9rkMQK89Mazm6kC0uELpuVhiG1OI2bPGjZtWgrV1KnNr8uCUggiIgAgcFAF6XiWYVvDFlpZVz2A/fG8dVE66aL8Eev3i329OxTkR/hHU1NSUum756ng8cVwkPgdfOK/3PNeLYdnyXC3iwWemK0VABEQABLBgMpslLNfNvrlhw8qpiOr3Qb9H4hcz2ASM30EoYvCWzkL71VT8oWDZa86aHC0peqBfUhA4MXhg7bGYfaFtx6/E/hJ4dI/adqwaywCpzvpAQSqdCIhAjwTgfSXw+/jVTZte57qU4Xurx4SKHHIE+kx4IYSXT5x4Mqokp31uyFHUA4uACIjAICYwGNvAiJv1y4fQC9H0NmzsgpdfRXcfHn64jDerJ5uba/p9qWzekYIIiMBgJtCOH9rLWZuj6sPD9DUOVgEjjkPshVgP2WpE70Mb7V/shWiH1YaReDVIwA7TH5yyFQEREIG+IqCBzH1FUvmIgAiIgAgUlYAErKi4VZgIiIAIiEBfEZCA9RVJ5SMCIiACIlBUAhKwouJWYSIgAiIgAn1FQALWVySVjwiIgAiIQFEJSMCKiluFiYAIiIAI9BUBCVhfkVQ+IiACIiACRSUgASsqbhUmAiIgAiLQVwQkYH1FUvmIgAiIgAgUlYAErKi4VZgIiIAIiEBfEZCA9RVJ5SMCIiACIlBUAhKwouJWYSIgAiIgAn1FQAJmBeHSLJiVvs+WaOmrL0f5iIAIiIAI7J/AkBcw2w7cGKajN7PR7x+VzoiACIiACAwkAlhIZKiGleGDJ5NjNjmO97bj+A+1tW1rt6zmcHWwoUpFzy0CIiACIjA4CKjacHB8T7pLERABERCBHghAxOq4sKfErAc4ihIBERABERABERABERABEehDAvI6+hCmsupXAuZv2WzNzbBNsz/bNdlRim3Nbj/fB4pXEAEREAERGEgEKBADtTdtoZgWHg8kjroXERh0BIZwL8RB913phvclQEEwHtYw7I/N2Thsj4NNhiVgO2DFFg+KKu/teNi/wlbDtsFMPHYVREAEREAEhiIB43Wdjod/HLYBZsQsf5tG/CkwBnNNdNS3n8ybZoSSHYMYvgHj/XDLYOKjo30/mQd/WObntW8qxYiACLzrPyYhEoGBSoAveB82C3ZRbv8lbClkWRjbnJhmFawJlh8oIryWwsI03PK4MBgR4TnuM3jRpvuzp+spQIXBCBvT87wp36TjeVrhfTB9YZy5RlsREAEREIFBSMAIwtG4992wt2FHHcBzGCEqTFooOoXHJn1+fH5eU5HgA7CRuYQm3TdwTIG8NRefvzFpzLPw3Hthc2Bnwlj9yZB/PorRpwiIgAiIwKAlYF7qFLAO2FbYFBhFoQRGL4sCQDNC8W/Y/xPsMtgDsN/AbodNhDEYQeK1DJNhbL96ArYEdjaMgelMWra7PQKjSNHegt0AM2V+Mxf/ZWwZzof9HWw0DxBMWdz/Nszkw+0bsHNgDKa86EifIiACIiACg5aAEbBj8ASdMHpgI/KexpxnlBGT17CfLxBdueP12E6HMRivZyb22ekiPz33Z8MYmH857M8wxnNuMgqZ6S7/z9hnoGjyPNvpnsrt87gZVgcz4RPYYTyf4yHY87njr2LLYJ4hOtKnCIiACIjAoCVgBOpYPAHmsLQysJ/Cfgh7GPYsjN7W+2EM9GCMKFCYPg1jb8UHYRQOemMmnISdnTDG04OaDPtW7vh1bI1Q0qtimj/mxbG8H8PYNsdwG4xpjDVg33hsf8U+PUiGH8CY5us8yIVp2JaYA21FQAREQASODAL5AtaKRzICkb+lsF2Qe1wK2P/m0l2Zi+NmDGwjjNexRyPDT2A8vpMHuUAhYScRxtfBGOh18ZidSBhKo81en0b4mO4/8s40YJ9x83Jx1+SON2C7AGY8Qp7mvSuIgAiIgAgcIQSMgLEKkZ046DGxeu802Kkwek2jYAxGAF7APkXjQ4xEMILzJPYZfyFsGIweGqsla2EMJt0vsM90n4Sx7Yv7m2DjYQy8p0SeMY4eHNP9kgcIpirwFuwz/m5GIpTBvg9jnDFew3IYzDNER/oUARHYqwFZOERgsBKgcLAKke1RmwsegoJBQcgPFAsGL9pY1bktRZBVkuxJ+ApsB4x5Z2H0wCiWDPT4kuFeJHQUUAoMy2Jahni06S57ee6Y11EcKZIM5dEmjPs89hfDzoBdDZsD4719GFb4DIhSEIGhTUC/6ob2938kPL3xVrg1gmSei94Qx1AVjqNi1SIDxYZVeB+AUVD+AqNgMVTCeJ3J933YN+kobltgb8FqYFNgTMv83gObkTvGpjsYL84Ikbknc3wdUl4Bowh/F3YujPdJMZsGYzr9ewUEBREwBMyvRHOsrQgMNgL8G6ZQ0VP5GoxVeqwGpLd0Foze0iUwemZGnOjdnA87G/YhGMO/wOhJrYOxrYvtYawqpEd0IoyiwsBjlsGwFMa2q3tgX4ZNhd0Ko1ixI0gzzJRpBAtRYTDH3FIsF8F435Ng98EolhWwt2HbYQxG7KIjfYqACIiACAxKAkYYKBbPw/hy78l+jfjhMAZ6N4VpGhF3OU8iUAgZPgYz6V7EfkfumHmZKj/shlWNv82dM+m5vRtm8qKgMY5bBt4vwxdgjP8xDxA+AtsCY5yb23L/JhiDaTuLjvQpAiIgAiIwqAkYEavCU9CT+hTsczB6ThfAJsJMYNoXYBSFr8IoGPTQjCA52GcwQvH32Kcntgv2JuzrMJOWeZn0SexfCfsejJ7YhbD8cCoOfg47LRdpaj3eg+NnYJfm4rmZBPsm7FnYc7DPwxjMc0ZH+hQBERABETgiCLzby53njSgZAfvbgic35020EacSREyAsWrPhPzyTDpzzmxNfH5anjPHZmvSc1t4DyaN2ean1b4IiAAImF+DgiECg5UAPSq+5I2Z52A8jcFso6OobYn7CRir6wo7f/iIo6B0wdbBGPhvheny82I6lmvEh/uMM/kxLcWMxngaA+OZlvHcN9eYvHjMeJbJ+1MQARHogYAErAcoihp0BPiyp+0vUBhohcEIRWE8jylC5jrmvT8headzzIdl0AoDrzNCZ84V5rW/Mk16bUVgSBOQgA3pr39IPTzFwXhKHIfFwLh3Cjz/bmne6XqdEwEROIwEzD/ow1iEshaBfidAT4pCxM4Yr8IehhVWByJKQQREQAREQAQGHoGeqhAH3l3qjkRABERABESgBwLsNKFq8x7AKEoEREAEREAEREAEREAEREAEREAEREAEREAEREAEREAEREAEREAEREAEREAEREAEREAEREAEREAEREAEREAEREAEREAEREAEREAEREAEREAEREAEREAEREAEREAEREAEREAEREAEREAEREAEREAEREAEREAEREAEREAEREAEREAEREAEREAEREAEREAEREAEREAEREAEREAEREAEREAEREAERGBoEfh/cTZx3ySIQ6oAAAAASUVORK5CYII=)\n",
        "\n",
        "The training curve will continue decreasing regardless of the model learning signal or noise whereas the validation curve will only decrease when it learns signal. You have to find an optimal tradeoff that will give best results on unseen data.\n",
        "\n",
        "### <u>Terminology</u>:\n",
        "- **Underfitting** = training set is when the loss is not as low as it could be because the model hasn't learned enough signal\n",
        "- **Overfitting** = training set is when the loss is not as low as it could be because the model learned too much noise\n",
        "- **Capacity** = size and complexity of patterns a model is able to learn\n",
        " - *increase capacity* when model is *underfitting*\n",
        " - 2 ways to increase capacity = make wider and/or deeper\n",
        " - **wider** = more units to existing layers (easier to learn more linear patterns)\n",
        " - **deeper** = add more layers (easier to learn more nonlinear patterns)\n"
      ]
    },
    {
      "cell_type": "code",
      "metadata": {
        "id": "L3nm5EOo1HuB"
      },
      "source": [
        "# Baseline model\n",
        "model = keras.Sequential([\n",
        "    layers.Dense(16, activation='relu'),\n",
        "    layers.Dense(1),\n",
        "])\n",
        "\n",
        "# Wider model (more units)\n",
        "wider = keras.Sequential([\n",
        "    layers.Dense(32, activation='relu'),\n",
        "    layers.Dense(1),\n",
        "])\n",
        "\n",
        "# Deeper (more layers)\n",
        "deeper = keras.Sequential([\n",
        "    layers.Dense(16, activation='relu'),\n",
        "    layers.Dense(16, activation='relu'),\n",
        "    layers.Dense(1),\n",
        "])"
      ],
      "execution_count": null,
      "outputs": []
    },
    {
      "cell_type": "markdown",
      "metadata": {
        "id": "Piwo4EcoK7j5"
      },
      "source": [
        "### Early Stopping\n",
        "\n",
        "You can interrupt the training when the model starts learning noise and the validation loss starts to increase.\n",
        "\n",
        "![eP0gppr.png](data:image/png;base64,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)\n",
        "\n",
        "Early stopping will reset the weights back to where the min validation loss occurred. So besides preventing overfitting from training too long, early stopping can also prevent underfitting from not training long enough. Just set your training epochs to some large number (more than you'll need), and early stopping will take care of the rest."
      ]
    },
    {
      "cell_type": "code",
      "metadata": {
        "id": "mFJnX7LxJ0ae"
      },
      "source": [
        "# Use callback function for Keras to include early stopping in training (runs after every epoch)\n",
        "from tensorflow.keras.callbacks import EarlyStopping\n",
        "\n",
        "early_stopping = EarlyStopping(\n",
        "    min_delta=0.001, # minimium amount of change to count as an improvement\n",
        "    patience=20, # how many epochs to wait before stopping\n",
        "    restore_best_weights=True,\n",
        ")"
      ],
      "execution_count": null,
      "outputs": []
    },
    {
      "cell_type": "markdown",
      "metadata": {
        "id": "Vz9GzOSuOpDx"
      },
      "source": [
        "If there hasn't been at least an improvement of 0.001 in the validation loss over the previous 20 epochs, then stop the training and keep the best model you found. Pass this callback to the *fit* method along with the loss and optimizer."
      ]
    },
    {
      "cell_type": "code",
      "metadata": {
        "id": "vjNhRt2fOjll"
      },
      "source": [
        "\"\"\"\n",
        "Use the wine dataset and increase the capacity of the model.\n",
        "Build a large network, but rely on the callback to halt the training \n",
        "once the validation loss shows signs of increasing.\n",
        "\"\"\"\n",
        "\n",
        "# Define early stopping callback\n",
        "early_stopping = callbacks.EarlyStopping(\n",
        "    min_delta=0.001, # minimium amount of change to count as an improvement\n",
        "    patience=20, # how many epochs to wait before stopping\n",
        "    restore_best_weights=True,\n",
        ")\n",
        "\n",
        "# Instantiate model\n",
        "model = keras.Sequential([\n",
        "    layers.Dense(512, activation='relu', input_shape=[11]),\n",
        "    layers.Dense(512, activation='relu'),\n",
        "    layers.Dense(512, activation='relu'),\n",
        "    layers.Dense(1),\n",
        "])\n",
        "\n",
        "# Compile optimizer and loss function\n",
        "model.compile(\n",
        "    optimizer='adam',\n",
        "    loss='mae',\n",
        ")"
      ],
      "execution_count": null,
      "outputs": []
    },
    {
      "cell_type": "code",
      "metadata": {
        "colab": {
          "base_uri": "https://localhost:8080/",
          "height": 313
        },
        "id": "5SWoOTRrQP-e",
        "outputId": "0ab61305-b21e-49c6-ac1b-cb46b510a768"
      },
      "source": [
        "# Train model with callback\n",
        "history = model.fit(\n",
        "    X_train, y_train,\n",
        "    validation_data=(X_valid, y_valid),\n",
        "    batch_size=256,\n",
        "    epochs=500,\n",
        "    callbacks=[early_stopping], # put your callbacks in a list\n",
        "    verbose=0,  # turn off training log\n",
        ")\n",
        "\n",
        "# Visualize learning curves\n",
        "history_df = pd.DataFrame(history.history)\n",
        "history_df.loc[:, ['loss', 'val_loss']].plot();\n",
        "print(\"Minimum validation loss: {}\".format(history_df['val_loss'].min()))"
      ],
      "execution_count": null,
      "outputs": [
        {
          "output_type": "stream",
          "text": [
            "Minimum validation loss: 0.0931360051035881\n"
          ],
          "name": "stdout"
        },
        {
          "output_type": "display_data",
          "data": {
            "image/png": "[encoded data removed]",
            "text/plain": [
              "<Figure size 432x288 with 1 Axes>"
            ]
          },
          "metadata": {
            "tags": []
          }
        }
      ]
    },
    {
      "cell_type": "markdown",
      "metadata": {
        "id": "ALtr3FDHQmCq"
      },
      "source": [
        "Keras stopped the training well before the full 500 epochs!\n",
        "\n",
        "***\n",
        "\n",
        "### Spotify Data Example"
      ]
    },
    {
      "cell_type": "code",
      "metadata": {
        "id": "B8_m_MyVgtev"
      },
      "source": [
        "from sklearn.model_selection import GroupShuffleSplit # group split for data partition"
      ],
      "execution_count": null,
      "outputs": []
    },
    {
      "cell_type": "code",
      "metadata": {
        "colab": {
          "base_uri": "https://localhost:8080/",
          "height": 431
        },
        "id": "xEI3bYzbQd9o",
        "outputId": "7efd20e5-a0a2-4989-8d69-ceb4882abfe7"
      },
      "source": [
        "spotify = pd.read_csv('/content/drive/MyDrive/Colab Notebooks/ML concepts/Deep Learning/spotify.csv')\n",
        "spotify.head()"
      ],
      "execution_count": null,
      "outputs": [
        {
          "output_type": "execute_result",
          "data": {
            "text/html": [
              "<div>\n",
              "<style scoped>\n",
              "    .dataframe tbody tr th:only-of-type {\n",
              "        vertical-align: middle;\n",
              "    }\n",
              "\n",
              "    .dataframe tbody tr th {\n",
              "        vertical-align: top;\n",
              "    }\n",
              "\n",
              "    .dataframe thead th {\n",
              "        text-align: right;\n",
              "    }\n",
              "</style>\n",
              "<table border=\"1\" class=\"dataframe\">\n",
              "  <thead>\n",
              "    <tr style=\"text-align: right;\">\n",
              "      <th></th>\n",
              "      <th>track_id</th>\n",
              "      <th>track_name</th>\n",
              "      <th>track_artist</th>\n",
              "      <th>track_popularity</th>\n",
              "      <th>track_album_id</th>\n",
              "      <th>track_album_name</th>\n",
              "      <th>track_album_release_date</th>\n",
              "      <th>playlist_name</th>\n",
              "      <th>playlist_id</th>\n",
              "      <th>playlist_genre</th>\n",
              "      <th>playlist_subgenre</th>\n",
              "      <th>danceability</th>\n",
              "      <th>energy</th>\n",
              "      <th>key</th>\n",
              "      <th>loudness</th>\n",
              "      <th>mode</th>\n",
              "      <th>speechiness</th>\n",
              "      <th>acousticness</th>\n",
              "      <th>instrumentalness</th>\n",
              "      <th>liveness</th>\n",
              "      <th>valence</th>\n",
              "      <th>tempo</th>\n",
              "      <th>duration_ms</th>\n",
              "    </tr>\n",
              "  </thead>\n",
              "  <tbody>\n",
              "    <tr>\n",
              "      <th>0</th>\n",
              "      <td>6f807x0ima9a1j3VPbc7VN</td>\n",
              "      <td>I Don't Care (with Justin Bieber) - Loud Luxur...</td>\n",
              "      <td>Ed Sheeran</td>\n",
              "      <td>66</td>\n",
              "      <td>2oCs0DGTsRO98Gh5ZSl2Cx</td>\n",
              "      <td>I Don't Care (with Justin Bieber) [Loud Luxury...</td>\n",
              "      <td>2019-06-14</td>\n",
              "      <td>Pop Remix</td>\n",
              "      <td>37i9dQZF1DXcZDD7cfEKhW</td>\n",
              "      <td>pop</td>\n",
              "      <td>dance pop</td>\n",
              "      <td>0.748</td>\n",
              "      <td>0.916</td>\n",
              "      <td>6</td>\n",
              "      <td>-2.634</td>\n",
              "      <td>1</td>\n",
              "      <td>0.0583</td>\n",
              "      <td>0.1020</td>\n",
              "      <td>0.000000</td>\n",
              "      <td>0.0653</td>\n",
              "      <td>0.518</td>\n",
              "      <td>122.036</td>\n",
              "      <td>194754</td>\n",
              "    </tr>\n",
              "    <tr>\n",
              "      <th>1</th>\n",
              "      <td>0r7CVbZTWZgbTCYdfa2P31</td>\n",
              "      <td>Memories - Dillon Francis Remix</td>\n",
              "      <td>Maroon 5</td>\n",
              "      <td>67</td>\n",
              "      <td>63rPSO264uRjW1X5E6cWv6</td>\n",
              "      <td>Memories (Dillon Francis Remix)</td>\n",
              "      <td>2019-12-13</td>\n",
              "      <td>Pop Remix</td>\n",
              "      <td>37i9dQZF1DXcZDD7cfEKhW</td>\n",
              "      <td>pop</td>\n",
              "      <td>dance pop</td>\n",
              "      <td>0.726</td>\n",
              "      <td>0.815</td>\n",
              "      <td>11</td>\n",
              "      <td>-4.969</td>\n",
              "      <td>1</td>\n",
              "      <td>0.0373</td>\n",
              "      <td>0.0724</td>\n",
              "      <td>0.004210</td>\n",
              "      <td>0.3570</td>\n",
              "      <td>0.693</td>\n",
              "      <td>99.972</td>\n",
              "      <td>162600</td>\n",
              "    </tr>\n",
              "    <tr>\n",
              "      <th>2</th>\n",
              "      <td>1z1Hg7Vb0AhHDiEmnDE79l</td>\n",
              "      <td>All the Time - Don Diablo Remix</td>\n",
              "      <td>Zara Larsson</td>\n",
              "      <td>70</td>\n",
              "      <td>1HoSmj2eLcsrR0vE9gThr4</td>\n",
              "      <td>All the Time (Don Diablo Remix)</td>\n",
              "      <td>2019-07-05</td>\n",
              "      <td>Pop Remix</td>\n",
              "      <td>37i9dQZF1DXcZDD7cfEKhW</td>\n",
              "      <td>pop</td>\n",
              "      <td>dance pop</td>\n",
              "      <td>0.675</td>\n",
              "      <td>0.931</td>\n",
              "      <td>1</td>\n",
              "      <td>-3.432</td>\n",
              "      <td>0</td>\n",
              "      <td>0.0742</td>\n",
              "      <td>0.0794</td>\n",
              "      <td>0.000023</td>\n",
              "      <td>0.1100</td>\n",
              "      <td>0.613</td>\n",
              "      <td>124.008</td>\n",
              "      <td>176616</td>\n",
              "    </tr>\n",
              "    <tr>\n",
              "      <th>3</th>\n",
              "      <td>75FpbthrwQmzHlBJLuGdC7</td>\n",
              "      <td>Call You Mine - Keanu Silva Remix</td>\n",
              "      <td>The Chainsmokers</td>\n",
              "      <td>60</td>\n",
              "      <td>1nqYsOef1yKKuGOVchbsk6</td>\n",
              "      <td>Call You Mine - The Remixes</td>\n",
              "      <td>2019-07-19</td>\n",
              "      <td>Pop Remix</td>\n",
              "      <td>37i9dQZF1DXcZDD7cfEKhW</td>\n",
              "      <td>pop</td>\n",
              "      <td>dance pop</td>\n",
              "      <td>0.718</td>\n",
              "      <td>0.930</td>\n",
              "      <td>7</td>\n",
              "      <td>-3.778</td>\n",
              "      <td>1</td>\n",
              "      <td>0.1020</td>\n",
              "      <td>0.0287</td>\n",
              "      <td>0.000009</td>\n",
              "      <td>0.2040</td>\n",
              "      <td>0.277</td>\n",
              "      <td>121.956</td>\n",
              "      <td>169093</td>\n",
              "    </tr>\n",
              "    <tr>\n",
              "      <th>4</th>\n",
              "      <td>1e8PAfcKUYoKkxPhrHqw4x</td>\n",
              "      <td>Someone You Loved - Future Humans Remix</td>\n",
              "      <td>Lewis Capaldi</td>\n",
              "      <td>69</td>\n",
              "      <td>7m7vv9wlQ4i0LFuJiE2zsQ</td>\n",
              "      <td>Someone You Loved (Future Humans Remix)</td>\n",
              "      <td>2019-03-05</td>\n",
              "      <td>Pop Remix</td>\n",
              "      <td>37i9dQZF1DXcZDD7cfEKhW</td>\n",
              "      <td>pop</td>\n",
              "      <td>dance pop</td>\n",
              "      <td>0.650</td>\n",
              "      <td>0.833</td>\n",
              "      <td>1</td>\n",
              "      <td>-4.672</td>\n",
              "      <td>1</td>\n",
              "      <td>0.0359</td>\n",
              "      <td>0.0803</td>\n",
              "      <td>0.000000</td>\n",
              "      <td>0.0833</td>\n",
              "      <td>0.725</td>\n",
              "      <td>123.976</td>\n",
              "      <td>189052</td>\n",
              "    </tr>\n",
              "  </tbody>\n",
              "</table>\n",
              "</div>"
            ],
            "text/plain": [
              "                 track_id  ... duration_ms\n",
              "0  6f807x0ima9a1j3VPbc7VN  ...      194754\n",
              "1  0r7CVbZTWZgbTCYdfa2P31  ...      162600\n",
              "2  1z1Hg7Vb0AhHDiEmnDE79l  ...      176616\n",
              "3  75FpbthrwQmzHlBJLuGdC7  ...      169093\n",
              "4  1e8PAfcKUYoKkxPhrHqw4x  ...      189052\n",
              "\n",
              "[5 rows x 23 columns]"
            ]
          },
          "metadata": {
            "tags": []
          },
          "execution_count": 13
        }
      ]
    },
    {
      "cell_type": "markdown",
      "metadata": {
        "id": "hD5k8LUXc2Qd"
      },
      "source": [
        "EDA"
      ]
    },
    {
      "cell_type": "code",
      "metadata": {
        "colab": {
          "base_uri": "https://localhost:8080/"
        },
        "id": "Jc_u0bVRcvC4",
        "outputId": "21a5e29e-a5b2-44d3-d629-717339abc717"
      },
      "source": [
        "spotify.shape"
      ],
      "execution_count": null,
      "outputs": [
        {
          "output_type": "execute_result",
          "data": {
            "text/plain": [
              "(32833, 23)"
            ]
          },
          "metadata": {
            "tags": []
          },
          "execution_count": 27
        }
      ]
    },
    {
      "cell_type": "code",
      "metadata": {
        "colab": {
          "base_uri": "https://localhost:8080/",
          "height": 310
        },
        "id": "C5H1X6aNc5Yd",
        "outputId": "3aa3a22c-60bd-4563-be30-7a51c1a0c490"
      },
      "source": [
        "spotify.describe()"
      ],
      "execution_count": null,
      "outputs": [
        {
          "output_type": "execute_result",
          "data": {
            "text/html": [
              "<div>\n",
              "<style scoped>\n",
              "    .dataframe tbody tr th:only-of-type {\n",
              "        vertical-align: middle;\n",
              "    }\n",
              "\n",
              "    .dataframe tbody tr th {\n",
              "        vertical-align: top;\n",
              "    }\n",
              "\n",
              "    .dataframe thead th {\n",
              "        text-align: right;\n",
              "    }\n",
              "</style>\n",
              "<table border=\"1\" class=\"dataframe\">\n",
              "  <thead>\n",
              "    <tr style=\"text-align: right;\">\n",
              "      <th></th>\n",
              "      <th>track_popularity</th>\n",
              "      <th>danceability</th>\n",
              "      <th>energy</th>\n",
              "      <th>key</th>\n",
              "      <th>loudness</th>\n",
              "      <th>mode</th>\n",
              "      <th>speechiness</th>\n",
              "      <th>acousticness</th>\n",
              "      <th>instrumentalness</th>\n",
              "      <th>liveness</th>\n",
              "      <th>valence</th>\n",
              "      <th>tempo</th>\n",
              "      <th>duration_ms</th>\n",
              "    </tr>\n",
              "  </thead>\n",
              "  <tbody>\n",
              "    <tr>\n",
              "      <th>count</th>\n",
              "      <td>32833.000000</td>\n",
              "      <td>32833.000000</td>\n",
              "      <td>32833.000000</td>\n",
              "      <td>32833.000000</td>\n",
              "      <td>32833.000000</td>\n",
              "      <td>32833.000000</td>\n",
              "      <td>32833.000000</td>\n",
              "      <td>32833.000000</td>\n",
              "      <td>32833.000000</td>\n",
              "      <td>32833.000000</td>\n",
              "      <td>32833.000000</td>\n",
              "      <td>32833.000000</td>\n",
              "      <td>32833.000000</td>\n",
              "    </tr>\n",
              "    <tr>\n",
              "      <th>mean</th>\n",
              "      <td>42.477081</td>\n",
              "      <td>0.654850</td>\n",
              "      <td>0.698619</td>\n",
              "      <td>5.374471</td>\n",
              "      <td>-6.719499</td>\n",
              "      <td>0.565711</td>\n",
              "      <td>0.107068</td>\n",
              "      <td>0.175334</td>\n",
              "      <td>0.084747</td>\n",
              "      <td>0.190176</td>\n",
              "      <td>0.510561</td>\n",
              "      <td>120.881132</td>\n",
              "      <td>225799.811622</td>\n",
              "    </tr>\n",
              "    <tr>\n",
              "      <th>std</th>\n",
              "      <td>24.984074</td>\n",
              "      <td>0.145085</td>\n",
              "      <td>0.180910</td>\n",
              "      <td>3.611657</td>\n",
              "      <td>2.988436</td>\n",
              "      <td>0.495671</td>\n",
              "      <td>0.101314</td>\n",
              "      <td>0.219633</td>\n",
              "      <td>0.224230</td>\n",
              "      <td>0.154317</td>\n",
              "      <td>0.233146</td>\n",
              "      <td>26.903624</td>\n",
              "      <td>59834.006182</td>\n",
              "    </tr>\n",
              "    <tr>\n",
              "      <th>min</th>\n",
              "      <td>0.000000</td>\n",
              "      <td>0.000000</td>\n",
              "      <td>0.000175</td>\n",
              "      <td>0.000000</td>\n",
              "      <td>-46.448000</td>\n",
              "      <td>0.000000</td>\n",
              "      <td>0.000000</td>\n",
              "      <td>0.000000</td>\n",
              "      <td>0.000000</td>\n",
              "      <td>0.000000</td>\n",
              "      <td>0.000000</td>\n",
              "      <td>0.000000</td>\n",
              "      <td>4000.000000</td>\n",
              "    </tr>\n",
              "    <tr>\n",
              "      <th>25%</th>\n",
              "      <td>24.000000</td>\n",
              "      <td>0.563000</td>\n",
              "      <td>0.581000</td>\n",
              "      <td>2.000000</td>\n",
              "      <td>-8.171000</td>\n",
              "      <td>0.000000</td>\n",
              "      <td>0.041000</td>\n",
              "      <td>0.015100</td>\n",
              "      <td>0.000000</td>\n",
              "      <td>0.092700</td>\n",
              "      <td>0.331000</td>\n",
              "      <td>99.960000</td>\n",
              "      <td>187819.000000</td>\n",
              "    </tr>\n",
              "    <tr>\n",
              "      <th>50%</th>\n",
              "      <td>45.000000</td>\n",
              "      <td>0.672000</td>\n",
              "      <td>0.721000</td>\n",
              "      <td>6.000000</td>\n",
              "      <td>-6.166000</td>\n",
              "      <td>1.000000</td>\n",
              "      <td>0.062500</td>\n",
              "      <td>0.080400</td>\n",
              "      <td>0.000016</td>\n",
              "      <td>0.127000</td>\n",
              "      <td>0.512000</td>\n",
              "      <td>121.984000</td>\n",
              "      <td>216000.000000</td>\n",
              "    </tr>\n",
              "    <tr>\n",
              "      <th>75%</th>\n",
              "      <td>62.000000</td>\n",
              "      <td>0.761000</td>\n",
              "      <td>0.840000</td>\n",
              "      <td>9.000000</td>\n",
              "      <td>-4.645000</td>\n",
              "      <td>1.000000</td>\n",
              "      <td>0.132000</td>\n",
              "      <td>0.255000</td>\n",
              "      <td>0.004830</td>\n",
              "      <td>0.248000</td>\n",
              "      <td>0.693000</td>\n",
              "      <td>133.918000</td>\n",
              "      <td>253585.000000</td>\n",
              "    </tr>\n",
              "    <tr>\n",
              "      <th>max</th>\n",
              "      <td>100.000000</td>\n",
              "      <td>0.983000</td>\n",
              "      <td>1.000000</td>\n",
              "      <td>11.000000</td>\n",
              "      <td>1.275000</td>\n",
              "      <td>1.000000</td>\n",
              "      <td>0.918000</td>\n",
              "      <td>0.994000</td>\n",
              "      <td>0.994000</td>\n",
              "      <td>0.996000</td>\n",
              "      <td>0.991000</td>\n",
              "      <td>239.440000</td>\n",
              "      <td>517810.000000</td>\n",
              "    </tr>\n",
              "  </tbody>\n",
              "</table>\n",
              "</div>"
            ],
            "text/plain": [
              "       track_popularity  danceability  ...         tempo    duration_ms\n",
              "count      32833.000000  32833.000000  ...  32833.000000   32833.000000\n",
              "mean          42.477081      0.654850  ...    120.881132  225799.811622\n",
              "std           24.984074      0.145085  ...     26.903624   59834.006182\n",
              "min            0.000000      0.000000  ...      0.000000    4000.000000\n",
              "25%           24.000000      0.563000  ...     99.960000  187819.000000\n",
              "50%           45.000000      0.672000  ...    121.984000  216000.000000\n",
              "75%           62.000000      0.761000  ...    133.918000  253585.000000\n",
              "max          100.000000      0.983000  ...    239.440000  517810.000000\n",
              "\n",
              "[8 rows x 13 columns]"
            ]
          },
          "metadata": {
            "tags": []
          },
          "execution_count": 29
        }
      ]
    },
    {
      "cell_type": "code",
      "metadata": {
        "colab": {
          "base_uri": "https://localhost:8080/"
        },
        "id": "O0qxEeCocxZ4",
        "outputId": "7fa34e39-f182-4b33-ca1d-bcc0bf13674f"
      },
      "source": [
        "spotify.info()"
      ],
      "execution_count": null,
      "outputs": [
        {
          "output_type": "stream",
          "text": [
            "<class 'pandas.core.frame.DataFrame'>\n",
            "RangeIndex: 32833 entries, 0 to 32832\n",
            "Data columns (total 23 columns):\n",
            " #   Column                    Non-Null Count  Dtype  \n",
            "---  ------                    --------------  -----  \n",
            " 0   track_id                  32833 non-null  object \n",
            " 1   track_name                32828 non-null  object \n",
            " 2   track_artist              32828 non-null  object \n",
            " 3   track_popularity          32833 non-null  int64  \n",
            " 4   track_album_id            32833 non-null  object \n",
            " 5   track_album_name          32828 non-null  object \n",
            " 6   track_album_release_date  32833 non-null  object \n",
            " 7   playlist_name             32833 non-null  object \n",
            " 8   playlist_id               32833 non-null  object \n",
            " 9   playlist_genre            32833 non-null  object \n",
            " 10  playlist_subgenre         32833 non-null  object \n",
            " 11  danceability              32833 non-null  float64\n",
            " 12  energy                    32833 non-null  float64\n",
            " 13  key                       32833 non-null  int64  \n",
            " 14  loudness                  32833 non-null  float64\n",
            " 15  mode                      32833 non-null  int64  \n",
            " 16  speechiness               32833 non-null  float64\n",
            " 17  acousticness              32833 non-null  float64\n",
            " 18  instrumentalness          32833 non-null  float64\n",
            " 19  liveness                  32833 non-null  float64\n",
            " 20  valence                   32833 non-null  float64\n",
            " 21  tempo                     32833 non-null  float64\n",
            " 22  duration_ms               32833 non-null  int64  \n",
            "dtypes: float64(9), int64(4), object(10)\n",
            "memory usage: 5.8+ MB\n"
          ],
          "name": "stdout"
        }
      ]
    },
    {
      "cell_type": "code",
      "metadata": {
        "colab": {
          "base_uri": "https://localhost:8080/"
        },
        "id": "XqZf_yY2ciKs",
        "outputId": "5e34b09e-8b95-4100-84b8-452c98c3bde3"
      },
      "source": [
        "spotify.isna().sum()"
      ],
      "execution_count": null,
      "outputs": [
        {
          "output_type": "execute_result",
          "data": {
            "text/plain": [
              "track_id                    0\n",
              "track_name                  5\n",
              "track_artist                5\n",
              "track_popularity            0\n",
              "track_album_id              0\n",
              "track_album_name            5\n",
              "track_album_release_date    0\n",
              "playlist_name               0\n",
              "playlist_id                 0\n",
              "playlist_genre              0\n",
              "playlist_subgenre           0\n",
              "danceability                0\n",
              "energy                      0\n",
              "key                         0\n",
              "loudness                    0\n",
              "mode                        0\n",
              "speechiness                 0\n",
              "acousticness                0\n",
              "instrumentalness            0\n",
              "liveness                    0\n",
              "valence                     0\n",
              "tempo                       0\n",
              "duration_ms                 0\n",
              "dtype: int64"
            ]
          },
          "metadata": {
            "tags": []
          },
          "execution_count": 26
        }
      ]
    },
    {
      "cell_type": "markdown",
      "metadata": {
        "id": "QsFIGjVIdBEK"
      },
      "source": [
        "There are about 0.015% missing values, which are low enough to drop.\n",
        "\n",
        "***\n",
        "\n",
        "Predict the popularity of a song based on various audio features, like `'tempo'`, `'danceability'`, and `'mode'`."
      ]
    },
    {
      "cell_type": "code",
      "metadata": {
        "colab": {
          "base_uri": "https://localhost:8080/"
        },
        "id": "O72STBAhdV1z",
        "outputId": "36383857-8d9c-4e3b-9af9-1b3247ab1cfa"
      },
      "source": [
        "spotify['track_artist']"
      ],
      "execution_count": null,
      "outputs": [
        {
          "output_type": "execute_result",
          "data": {
            "text/plain": [
              "0              Ed Sheeran\n",
              "1                Maroon 5\n",
              "2            Zara Larsson\n",
              "3        The Chainsmokers\n",
              "4           Lewis Capaldi\n",
              "               ...       \n",
              "32828        Lush & Simon\n",
              "32829      Tegan and Sara\n",
              "32830         Starkillers\n",
              "32831              Mat Zo\n",
              "32832        Julian Calor\n",
              "Name: track_artist, Length: 32833, dtype: object"
            ]
          },
          "metadata": {
            "tags": []
          },
          "execution_count": 32
        }
      ]
    },
    {
      "cell_type": "code",
      "metadata": {
        "colab": {
          "base_uri": "https://localhost:8080/"
        },
        "id": "U5uxr45wZ7FO",
        "outputId": "adf25527-5d95-4b58-b736-ba215bf928e3"
      },
      "source": [
        "# Define target and inputs\n",
        "X = spotify.copy().dropna()\n",
        "y = X.pop('track_popularity')\n",
        "\n",
        "# Group for splitting\n",
        "artists = X['track_artist']\n",
        "\n",
        "# Numeric vars\n",
        "features_num = ['danceability', 'energy', 'key', 'loudness', 'mode',\n",
        "                'speechiness', 'acousticness', 'instrumentalness',\n",
        "                'liveness', 'valence', 'tempo', 'duration_ms']\n",
        "\n",
        "# Categorical vars \n",
        "features_cat = ['playlist_genre']\n",
        "\n",
        "# Define preprocessing pipeline\n",
        "preprocessor = make_column_transformer(\n",
        "    (StandardScaler(), features_num),\n",
        "    (OneHotEncoder(), features_cat),\n",
        ")\n",
        "\n",
        "# We'll do a \"grouped\" split to keep all of an artist's songs in one\n",
        "# split or the other. This is to help prevent signal leakage.\n",
        "def group_split(X, y, group, train_size=0.75):\n",
        "    splitter = GroupShuffleSplit(train_size=train_size)\n",
        "    train_idx, test_idx = next(splitter.split(X, y, groups=group))\n",
        "    return (X.iloc[train_idx], X.iloc[test_idx], y.iloc[train_idx], y.iloc[test_idx])\n",
        "\n",
        "# Partition data\n",
        "X_train, X_valid, y_train, y_valid = group_split(X, y, artists)\n",
        "\n",
        "# Preprocess features\n",
        "X_train = preprocessor.fit_transform(X_train)\n",
        "X_valid = preprocessor.transform(X_valid)\n",
        "\n",
        "# Put target on same scale as features\n",
        "y_train = y_train / 100 # popularity is on a scale 0-100, so this rescales to 0-1.\n",
        "y_valid = y_valid / 100\n",
        "\n",
        "# Determine number of features for NN\n",
        "input_shape = [X_train.shape[1]]\n",
        "print(\"Input shape: {}\".format(input_shape))"
      ],
      "execution_count": null,
      "outputs": [
        {
          "output_type": "stream",
          "text": [
            "Input shape: [18]\n"
          ],
          "name": "stdout"
        }
      ]
    },
    {
      "cell_type": "code",
      "metadata": {
        "colab": {
          "base_uri": "https://localhost:8080/",
          "height": 313
        },
        "id": "kK8jDqq8jxkL",
        "outputId": "f6a657b0-a1a9-40f8-db0a-c764859f4306"
      },
      "source": [
        "# Start with simple NN (linear model, low capacity)\n",
        "model = keras.Sequential([\n",
        "    layers.Dense(1, input_shape=input_shape),\n",
        "])\n",
        "\n",
        "# Compile optimizer and loss fx\n",
        "model.compile(\n",
        "    optimizer='adam',\n",
        "    loss='mae',\n",
        ")\n",
        "\n",
        "# Train model\n",
        "history = model.fit(\n",
        "    X_train, y_train,\n",
        "    validation_data=(X_valid, y_valid),\n",
        "    batch_size=512,\n",
        "    epochs=50,\n",
        "    verbose=0, # suppress output since we'll plot the curves\n",
        ")\n",
        "\n",
        "# See learning curves and min validation loss\n",
        "history_df = pd.DataFrame(history.history)\n",
        "history_df.loc[0:, ['loss', 'val_loss']].plot()\n",
        "print(\"Minimum Validation Loss: {:0.4f}\".format(history_df['val_loss'].min()));"
      ],
      "execution_count": null,
      "outputs": [
        {
          "output_type": "stream",
          "text": [
            "Minimum Validation Loss: 0.1930\n"
          ],
          "name": "stdout"
        },
        {
          "output_type": "display_data",
          "data": {
            "image/png": "[encoded data removed]",
            "text/plain": [
              "<Figure size 432x288 with 1 Axes>"
            ]
          },
          "metadata": {
            "tags": []
          }
        }
      ]
    },
    {
      "cell_type": "markdown",
      "metadata": {
        "id": "xqqzgS3Qkxib"
      },
      "source": [
        "It's hard to see final part of training, so start plot with 10 epoch instead."
      ]
    },
    {
      "cell_type": "code",
      "metadata": {
        "colab": {
          "base_uri": "https://localhost:8080/",
          "height": 313
        },
        "id": "YE1tCa_QlD5y",
        "outputId": "0a6f6023-e473-4054-f478-da7f472b89e0"
      },
      "source": [
        "# Start the plot at epoch 10\n",
        "history_df.loc[10:, ['loss', 'val_loss']].plot()\n",
        "print(\"Minimum Validation Loss: {:0.4f}\".format(history_df['val_loss'].min()));"
      ],
      "execution_count": null,
      "outputs": [
        {
          "output_type": "stream",
          "text": [
            "Minimum Validation Loss: 0.1930\n"
          ],
          "name": "stdout"
        },
        {
          "output_type": "display_data",
          "data": {
            "image/png": "[encoded data removed]",
            "text/plain": [
              "<Figure size 432x288 with 1 Axes>"
            ]
          },
          "metadata": {
            "tags": []
          }
        }
      ]
    },
    {
      "cell_type": "markdown",
      "metadata": {
        "id": "2NgSnA2SlPmn"
      },
      "source": [
        "The gap between these curves is quite small and the validation loss never increases, so it's more likely that the network is *underfitting* than overfitting. It would be worth experimenting with more capacity to see if that's the case."
      ]
    },
    {
      "cell_type": "code",
      "metadata": {
        "colab": {
          "base_uri": "https://localhost:8080/",
          "height": 1000
        },
        "id": "mH31xkg9k9ee",
        "outputId": "2bd358ec-c795-4493-b029-52e2def02dcd"
      },
      "source": [
        "# Increase model capacity by adding 3 hidden layers with 128 units each\n",
        "model = keras.Sequential([\n",
        "    layers.Dense(128, activation='relu', input_shape=input_shape),\n",
        "    layers.Dense(64, activation='relu'),\n",
        "    layers.Dense(1)\n",
        "])\n",
        "model.compile(\n",
        "    optimizer='adam',\n",
        "    loss='mae',\n",
        ")\n",
        "history = model.fit(\n",
        "    X_train, y_train,\n",
        "    validation_data=(X_valid, y_valid),\n",
        "    batch_size=512,\n",
        "    epochs=50,\n",
        ")\n",
        "history_df = pd.DataFrame(history.history)\n",
        "history_df.loc[:, ['loss', 'val_loss']].plot()\n",
        "print(\"Minimum Validation Loss: {:0.4f}\".format(history_df['val_loss'].min()));"
      ],
      "execution_count": null,
      "outputs": [
        {
          "output_type": "stream",
          "text": [
            "Epoch 1/50\n",
            "49/49 [==============================] - 1s 6ms/step - loss: 0.2637 - val_loss: 0.2057\n",
            "Epoch 2/50\n",
            "49/49 [==============================] - 0s 4ms/step - loss: 0.2048 - val_loss: 0.2000\n",
            "Epoch 3/50\n",
            "49/49 [==============================] - 0s 4ms/step - loss: 0.1990 - val_loss: 0.1960\n",
            "Epoch 4/50\n",
            "49/49 [==============================] - 0s 4ms/step - loss: 0.1958 - val_loss: 0.1944\n",
            "Epoch 5/50\n",
            "49/49 [==============================] - 0s 4ms/step - loss: 0.1934 - val_loss: 0.1953\n",
            "Epoch 6/50\n",
            "49/49 [==============================] - 0s 4ms/step - loss: 0.1914 - val_loss: 0.1949\n",
            "Epoch 7/50\n",
            "49/49 [==============================] - 0s 5ms/step - loss: 0.1904 - val_loss: 0.1929\n",
            "Epoch 8/50\n",
            "49/49 [==============================] - 0s 4ms/step - loss: 0.1890 - val_loss: 0.1934\n",
            "Epoch 9/50\n",
            "49/49 [==============================] - 0s 4ms/step - loss: 0.1880 - val_loss: 0.1934\n",
            "Epoch 10/50\n",
            "49/49 [==============================] - 0s 4ms/step - loss: 0.1869 - val_loss: 0.1929\n",
            "Epoch 11/50\n",
            "49/49 [==============================] - 0s 4ms/step - loss: 0.1860 - val_loss: 0.1935\n",
            "Epoch 12/50\n",
            "49/49 [==============================] - 0s 5ms/step - loss: 0.1852 - val_loss: 0.1934\n",
            "Epoch 13/50\n",
            "49/49 [==============================] - 0s 4ms/step - loss: 0.1848 - val_loss: 0.1939\n",
            "Epoch 14/50\n",
            "49/49 [==============================] - 0s 4ms/step - loss: 0.1839 - val_loss: 0.1939\n",
            "Epoch 15/50\n",
            "49/49 [==============================] - 0s 5ms/step - loss: 0.1830 - val_loss: 0.1927\n",
            "Epoch 16/50\n",
            "49/49 [==============================] - 0s 4ms/step - loss: 0.1828 - val_loss: 0.1935\n",
            "Epoch 17/50\n",
            "49/49 [==============================] - 0s 4ms/step - loss: 0.1818 - val_loss: 0.1939\n",
            "Epoch 18/50\n",
            "49/49 [==============================] - 0s 5ms/step - loss: 0.1814 - val_loss: 0.1954\n",
            "Epoch 19/50\n",
            "49/49 [==============================] - 0s 4ms/step - loss: 0.1804 - val_loss: 0.1948\n",
            "Epoch 20/50\n",
            "49/49 [==============================] - 0s 4ms/step - loss: 0.1799 - val_loss: 0.1945\n",
            "Epoch 21/50\n",
            "49/49 [==============================] - 0s 4ms/step - loss: 0.1795 - val_loss: 0.1961\n",
            "Epoch 22/50\n",
            "49/49 [==============================] - 0s 4ms/step - loss: 0.1791 - val_loss: 0.1952\n",
            "Epoch 23/50\n",
            "49/49 [==============================] - 0s 5ms/step - loss: 0.1782 - val_loss: 0.1947\n",
            "Epoch 24/50\n",
            "49/49 [==============================] - 0s 4ms/step - loss: 0.1783 - val_loss: 0.1940\n",
            "Epoch 25/50\n",
            "49/49 [==============================] - 0s 4ms/step - loss: 0.1775 - val_loss: 0.1966\n",
            "Epoch 26/50\n",
            "49/49 [==============================] - 0s 4ms/step - loss: 0.1765 - val_loss: 0.1951\n",
            "Epoch 27/50\n",
            "49/49 [==============================] - 0s 4ms/step - loss: 0.1758 - val_loss: 0.1968\n",
            "Epoch 28/50\n",
            "49/49 [==============================] - 0s 5ms/step - loss: 0.1756 - val_loss: 0.1968\n",
            "Epoch 29/50\n",
            "49/49 [==============================] - 0s 4ms/step - loss: 0.1756 - val_loss: 0.1954\n",
            "Epoch 30/50\n",
            "49/49 [==============================] - 0s 4ms/step - loss: 0.1752 - val_loss: 0.1963\n",
            "Epoch 31/50\n",
            "49/49 [==============================] - 0s 4ms/step - loss: 0.1739 - val_loss: 0.1968\n",
            "Epoch 32/50\n",
            "49/49 [==============================] - 0s 5ms/step - loss: 0.1734 - val_loss: 0.1967\n",
            "Epoch 33/50\n",
            "49/49 [==============================] - 0s 4ms/step - loss: 0.1730 - val_loss: 0.1980\n",
            "Epoch 34/50\n",
            "49/49 [==============================] - 0s 4ms/step - loss: 0.1729 - val_loss: 0.1972\n",
            "Epoch 35/50\n",
            "49/49 [==============================] - 0s 5ms/step - loss: 0.1723 - val_loss: 0.1974\n",
            "Epoch 36/50\n",
            "49/49 [==============================] - 0s 4ms/step - loss: 0.1711 - val_loss: 0.1980\n",
            "Epoch 37/50\n",
            "49/49 [==============================] - 0s 5ms/step - loss: 0.1713 - val_loss: 0.1985\n",
            "Epoch 38/50\n",
            "49/49 [==============================] - 0s 5ms/step - loss: 0.1709 - val_loss: 0.1980\n",
            "Epoch 39/50\n",
            "49/49 [==============================] - 0s 4ms/step - loss: 0.1705 - val_loss: 0.1995\n",
            "Epoch 40/50\n",
            "49/49 [==============================] - 0s 4ms/step - loss: 0.1698 - val_loss: 0.1991\n",
            "Epoch 41/50\n",
            "49/49 [==============================] - 0s 5ms/step - loss: 0.1695 - val_loss: 0.1991\n",
            "Epoch 42/50\n",
            "49/49 [==============================] - 0s 5ms/step - loss: 0.1695 - val_loss: 0.2004\n",
            "Epoch 43/50\n",
            "49/49 [==============================] - 0s 5ms/step - loss: 0.1687 - val_loss: 0.1996\n",
            "Epoch 44/50\n",
            "49/49 [==============================] - 0s 4ms/step - loss: 0.1684 - val_loss: 0.2009\n",
            "Epoch 45/50\n",
            "49/49 [==============================] - 0s 4ms/step - loss: 0.1673 - val_loss: 0.1994\n",
            "Epoch 46/50\n",
            "49/49 [==============================] - 0s 4ms/step - loss: 0.1668 - val_loss: 0.1995\n",
            "Epoch 47/50\n",
            "49/49 [==============================] - 0s 5ms/step - loss: 0.1665 - val_loss: 0.2012\n",
            "Epoch 48/50\n",
            "49/49 [==============================] - 0s 5ms/step - loss: 0.1660 - val_loss: 0.2016\n",
            "Epoch 49/50\n",
            "49/49 [==============================] - 0s 5ms/step - loss: 0.1661 - val_loss: 0.2033\n",
            "Epoch 50/50\n",
            "49/49 [==============================] - 0s 4ms/step - loss: 0.1665 - val_loss: 0.2002\n",
            "Minimum Validation Loss: 0.1927\n"
          ],
          "name": "stdout"
        },
        {
          "output_type": "display_data",
          "data": {
            "image/png": "[encoded data removed]",
            "text/plain": [
              "<Figure size 432x288 with 1 Axes>"
            ]
          },
          "metadata": {
            "tags": []
          }
        }
      ]
    },
    {
      "cell_type": "markdown",
      "metadata": {
        "id": "LJvFOTAll5Aa"
      },
      "source": [
        "Now you see an increase in validation loss while the training loss continues to decrease. This shows that the NN is starting to overfit. <br>\n",
        "We need to either decrease the capacity (reducing number of units) or implement early stopping."
      ]
    },
    {
      "cell_type": "code",
      "metadata": {
        "id": "rFMe1Nsfl0Gl"
      },
      "source": [
        "\"\"\"\n",
        "\n",
        "Define an early stopping callback that waits 5 epochs (patience) \n",
        "for a change in validation loss of at least 0.001 (min_delta) and \n",
        "keeps the weights with the best loss (restore_best_weights)\n",
        "\n",
        "\"\"\"\n",
        "\n",
        "early_stopping = callbacks.EarlyStopping(\n",
        "    min_delta=0.001,\n",
        "    patience=5,\n",
        "    restore_best_weights=True,\n",
        ")"
      ],
      "execution_count": null,
      "outputs": []
    },
    {
      "cell_type": "code",
      "metadata": {
        "colab": {
          "base_uri": "https://localhost:8080/",
          "height": 638
        },
        "id": "zFumYqIonwIH",
        "outputId": "a54874bc-8544-4da0-f27c-eef84a2bbe14"
      },
      "source": [
        "# Train model with early stopping\n",
        "model = keras.Sequential([\n",
        "    layers.Dense(128, activation='relu', input_shape=input_shape),\n",
        "    layers.Dense(64, activation='relu'),    \n",
        "    layers.Dense(1)\n",
        "])\n",
        "model.compile(\n",
        "    optimizer='adam',\n",
        "    loss='mae',\n",
        ")\n",
        "history = model.fit(\n",
        "    X_train, y_train,\n",
        "    validation_data=(X_valid, y_valid),\n",
        "    batch_size=512,\n",
        "    epochs=50,\n",
        "    callbacks=[early_stopping] # callbacks list\n",
        ")\n",
        "history_df = pd.DataFrame(history.history)\n",
        "history_df.loc[:, ['loss', 'val_loss']].plot()\n",
        "print(\"Minimum Validation Loss: {:0.4f}\".format(history_df['val_loss'].min()));"
      ],
      "execution_count": null,
      "outputs": [
        {
          "output_type": "stream",
          "text": [
            "Epoch 1/50\n",
            "49/49 [==============================] - 1s 6ms/step - loss: 0.2375 - val_loss: 0.2060\n",
            "Epoch 2/50\n",
            "49/49 [==============================] - 0s 4ms/step - loss: 0.2035 - val_loss: 0.1985\n",
            "Epoch 3/50\n",
            "49/49 [==============================] - 0s 4ms/step - loss: 0.1977 - val_loss: 0.1962\n",
            "Epoch 4/50\n",
            "49/49 [==============================] - 0s 5ms/step - loss: 0.1942 - val_loss: 0.1965\n",
            "Epoch 5/50\n",
            "49/49 [==============================] - 0s 4ms/step - loss: 0.1920 - val_loss: 0.1942\n",
            "Epoch 6/50\n",
            "49/49 [==============================] - 0s 4ms/step - loss: 0.1901 - val_loss: 0.1944\n",
            "Epoch 7/50\n",
            "49/49 [==============================] - 0s 4ms/step - loss: 0.1889 - val_loss: 0.1943\n",
            "Epoch 8/50\n",
            "49/49 [==============================] - 0s 4ms/step - loss: 0.1877 - val_loss: 0.1940\n",
            "Epoch 9/50\n",
            "49/49 [==============================] - 0s 5ms/step - loss: 0.1866 - val_loss: 0.1945\n",
            "Epoch 10/50\n",
            "49/49 [==============================] - 0s 4ms/step - loss: 0.1856 - val_loss: 0.1935\n",
            "Minimum Validation Loss: 0.1935\n"
          ],
          "name": "stdout"
        },
        {
          "output_type": "display_data",
          "data": {
            "image/png": "[encoded data removed]",
            "text/plain": [
              "<Figure size 432x288 with 1 Axes>"
            ]
          },
          "metadata": {
            "tags": []
          }
        }
      ]
    },
    {
      "cell_type": "markdown",
      "metadata": {
        "id": "ZnbYNQGeobnj"
      },
      "source": [
        "The early stopping callback did stop the training once the network began overfitting. Moreover, by including `restore_best_weights` we still get to keep the model where validation loss was lowest.\n",
        "\n",
        "You can also experiment with `patience` and `min_delta` to see what difference it might make."
      ]
    },
    {
      "cell_type": "markdown",
      "metadata": {
        "id": "TK5BDcVYouoH"
      },
      "source": [
        "## **Dropout and Batch Normalization**\n",
        "\n",
        "Special layers without neurons that can still benefit the model:\n",
        "- Dropout layer\n",
        " - can help correct overfitting by randomly \"dropping out\" some fraction of a dense layer's input units every step of training\n",
        " - removing parts of the layer makes it harder for the model to learn spurious patterns in training data\n",
        " - forces model to learn more broad, general patterns, whose weight patterns tend to be more robust\n",
        " - can also think of this as an ensemble of layers\n",
        "- Batch Normalization layer (\"batchnorm\")\n",
        " - can help correct slow/unstable training (tends to require fewer epochs, so helps when training gets \"stuck\")\n",
        " - looks at each batch as it comes in, first normalizing the batch with its own mean and standard deviation, and then also putting the data on a new scale with two trainable rescaling parameters\n",
        " - added as an aid to the optimization process (though it can sometimes also help prediction performance)"
      ]
    },
    {
      "cell_type": "code",
      "metadata": {
        "id": "niQWswmXoJ8e"
      },
      "source": [
        "# Build model with dropout layer\n",
        "keras.Sequential([\n",
        "    # ...\n",
        "    layers.Dropout(rate=0.3), # apply 30% dropout to the next layer\n",
        "    layers.Dense(16),\n",
        "    # ...\n",
        "])"
      ],
      "execution_count": null,
      "outputs": []
    },
    {
      "cell_type": "markdown",
      "metadata": {
        "id": "T2sJUmM6Ca3W"
      },
      "source": [
        "Remember it's better to put all of your data on a common scale for NNs because features that tend to produce activations of very different sizes can make for unstable training behavior. You can use batchnorm at almost any point in a network."
      ]
    },
    {
      "cell_type": "code",
      "metadata": {
        "id": "byPy-f82CaDW"
      },
      "source": [
        "# batchnorm after layer\n",
        "layers.Dense(16, activation='relu'),\n",
        "layers.BatchNormalization(),\n",
        "\n",
        "# batchnorm between layer and activation fx\n",
        "layers.Dense(16),\n",
        "layers.BatchNormalization(),\n",
        "layers.Activation('relu'),"
      ],
      "execution_count": null,
      "outputs": []
    },
    {
      "cell_type": "markdown",
      "metadata": {
        "id": "QO0NsIUPfd2s"
      },
      "source": [
        "Use dropout and batchnorm layers with Red Wine dataset (no preprocessing)."
      ]
    },
    {
      "cell_type": "code",
      "metadata": {
        "id": "7gI-QJ96fgXk"
      },
      "source": [
        "# Create training and validation splits\n",
        "df_train = red_wine.sample(frac=0.7, random_state=0)\n",
        "df_valid = red_wine.drop(df_train.index)\n",
        "\n",
        "# Split features and target\n",
        "X_train = df_train.drop('quality', axis=1)\n",
        "X_valid = df_valid.drop('quality', axis=1)\n",
        "y_train = df_train['quality']\n",
        "y_valid = df_valid['quality']"
      ],
      "execution_count": null,
      "outputs": []
    },
    {
      "cell_type": "code",
      "metadata": {
        "colab": {
          "base_uri": "https://localhost:8080/",
          "height": 297
        },
        "id": "mVqP6DG5f78y",
        "outputId": "2be53151-ce37-4a39-a1cb-2e25593644a8"
      },
      "source": [
        "# Add dropout (may need to increase number of units in dense layers) and batchnorm layers\n",
        "model = keras.Sequential([\n",
        "    layers.Dense(1024, activation='relu', input_shape=[11]),\n",
        "    layers.Dropout(0.3),\n",
        "    layers.BatchNormalization(),\n",
        "    layers.Dense(1024, activation='relu'),\n",
        "    layers.Dropout(0.3),\n",
        "    layers.BatchNormalization(),\n",
        "    layers.Dense(1024, activation='relu'),\n",
        "    layers.Dropout(0.3),\n",
        "    layers.BatchNormalization(),\n",
        "    layers.Dense(1),\n",
        "])\n",
        "\n",
        "# Compile optimizer and loss fx\n",
        "model.compile(\n",
        "    optimizer='adam',\n",
        "    loss='mae',\n",
        ")\n",
        "\n",
        "# Train model\n",
        "history = model.fit(\n",
        "    X_train, y_train,\n",
        "    validation_data=(X_valid, y_valid),\n",
        "    batch_size=256,\n",
        "    epochs=100,\n",
        "    verbose=0,\n",
        ")\n",
        "\n",
        "# Show the learning curves\n",
        "history_df = pd.DataFrame(history.history)\n",
        "history_df.loc[:, ['loss', 'val_loss']].plot();"
      ],
      "execution_count": null,
      "outputs": [
        {
          "output_type": "display_data",
          "data": {
            "image/png": "[encoded data removed]",
            "text/plain": [
              "<Figure size 432x288 with 1 Axes>"
            ]
          },
          "metadata": {
            "tags": [],
            "needs_background": "light"
          }
        }
      ]
    },
    {
      "cell_type": "markdown",
      "metadata": {
        "id": "ASBMhxWohxR5"
      },
      "source": [
        "You'll typically get better performance if you standardize your data before using it for training. However, we were still able to get decent results using the raw data (shows how effective batchnorm can be on more difficult datasets)."
      ]
    },
    {
      "cell_type": "code",
      "metadata": {
        "colab": {
          "base_uri": "https://localhost:8080/",
          "height": 297
        },
        "id": "ncSI35TAf8q6",
        "outputId": "90dba44f-1d94-4a57-ad04-1f3a117c0bdc"
      },
      "source": [
        "# Add dropout (may need to increase number of units in dense layers) and batchnorm layers\n",
        "model = keras.Sequential([\n",
        "    layers.Dense(1024, activation='relu', input_shape=[11]),\n",
        "    layers.Dropout(0.3),\n",
        "    layers.BatchNormalization(),\n",
        "    layers.Dense(1024, activation='relu'),\n",
        "    layers.Dropout(0.3),\n",
        "    layers.BatchNormalization(),\n",
        "    layers.Dense(1024, activation='relu'),\n",
        "    layers.Dropout(0.3),\n",
        "    layers.BatchNormalization(),\n",
        "    layers.Dense(1),\n",
        "])\n",
        "\n",
        "# Compile optimizer and loss fx\n",
        "model.compile(\n",
        "    optimizer='adam',\n",
        "    loss='mae',\n",
        ")\n",
        "\n",
        "# Train model\n",
        "history = model.fit(\n",
        "    X_train, y_train,\n",
        "    validation_data=(X_valid, y_valid),\n",
        "    batch_size=256,\n",
        "    epochs=100,\n",
        "    verbose=0,\n",
        ")\n",
        "\n",
        "# Show the learning curves\n",
        "history_df = pd.DataFrame(history.history)\n",
        "history_df.loc[:, ['loss', 'val_loss']].plot();"
      ],
      "execution_count": null,
      "outputs": [
        {
          "output_type": "display_data",
          "data": {
            "image/png": "[encoded data removed]",
            "text/plain": [
              "<Figure size 432x288 with 1 Axes>"
            ]
          },
          "metadata": {
            "tags": [],
            "needs_background": "light"
          }
        }
      ]
    },
    {
      "cell_type": "markdown",
      "metadata": {
        "id": "1yumbcbJjE7e"
      },
      "source": [
        "### Spotify Dataset Example"
      ]
    },
    {
      "cell_type": "code",
      "metadata": {
        "colab": {
          "base_uri": "https://localhost:8080/",
          "height": 313
        },
        "id": "0Z565HpohOUJ",
        "outputId": "cab88a65-3a0c-4c7a-d557-977f3bf73425"
      },
      "source": [
        "# Add 2 dropout layers from previous model with rate=0.3\n",
        "model = keras.Sequential([\n",
        "    layers.Dense(128, activation='relu', input_shape=input_shape),\n",
        "    layers.Dropout(0.3),\n",
        "    layers.Dense(64, activation='relu'),\n",
        "    layers.Dropout(0.3),\n",
        "    layers.Dense(1)\n",
        "])\n",
        "\n",
        "# Compile optimizer and loss fx\n",
        "model.compile(\n",
        "    optimizer='adam',\n",
        "    loss='mae'\n",
        ")\n",
        "\n",
        "# Train model\n",
        "history = model.fit(\n",
        "    X_train, y_train,\n",
        "    validation_data=(X_valid, y_valid),\n",
        "    batch_size=512,\n",
        "    epochs=50,\n",
        "    verbose=0\n",
        ")\n",
        "\n",
        "# See learning curves\n",
        "history_df = pd.DataFrame(history.history)\n",
        "history_df.loc[:, ['loss', 'val_loss']].plot()\n",
        "print('Minimum Validation Loss: {:0.4f}'.format(history_df['val_loss'].min()))"
      ],
      "execution_count": null,
      "outputs": [
        {
          "output_type": "stream",
          "text": [
            "Minimum Validation Loss: 0.1948\n"
          ],
          "name": "stdout"
        },
        {
          "output_type": "display_data",
          "data": {
            "image/png": "[encoded data removed]",
            "text/plain": [
              "<Figure size 432x288 with 1 Axes>"
            ]
          },
          "metadata": {
            "tags": [],
            "needs_background": "light"
          }
        }
      ]
    },
    {
      "cell_type": "markdown",
      "metadata": {
        "id": "Jqv4qZQblYGH"
      },
      "source": [
        "Adding the dropout layers helped prevent overfitting around epoch 5. The validation loss seemed to stabilize to a minimum while the training loss continued to decrease. Randomly dropping units in layers forced the model to find more of the true signal rather than noise."
      ]
    },
    {
      "cell_type": "code",
      "metadata": {
        "colab": {
          "base_uri": "https://localhost:8080/",
          "height": 200
        },
        "id": "1D5ZqDZSktFh",
        "outputId": "d86143f1-9b51-443f-b293-540440b4bd64"
      },
      "source": [
        "concrete = pd.read_csv('/content/drive/MyDrive/Colab Notebooks/ML concepts/Deep Learning/concrete.csv')\n",
        "concrete.head()"
      ],
      "execution_count": null,
      "outputs": [
        {
          "output_type": "execute_result",
          "data": {
            "text/html": [
              "<div>\n",
              "<style scoped>\n",
              "    .dataframe tbody tr th:only-of-type {\n",
              "        vertical-align: middle;\n",
              "    }\n",
              "\n",
              "    .dataframe tbody tr th {\n",
              "        vertical-align: top;\n",
              "    }\n",
              "\n",
              "    .dataframe thead th {\n",
              "        text-align: right;\n",
              "    }\n",
              "</style>\n",
              "<table border=\"1\" class=\"dataframe\">\n",
              "  <thead>\n",
              "    <tr style=\"text-align: right;\">\n",
              "      <th></th>\n",
              "      <th>Cement</th>\n",
              "      <th>BlastFurnaceSlag</th>\n",
              "      <th>FlyAsh</th>\n",
              "      <th>Water</th>\n",
              "      <th>Superplasticizer</th>\n",
              "      <th>CoarseAggregate</th>\n",
              "      <th>FineAggregate</th>\n",
              "      <th>Age</th>\n",
              "      <th>CompressiveStrength</th>\n",
              "    </tr>\n",
              "  </thead>\n",
              "  <tbody>\n",
              "    <tr>\n",
              "      <th>0</th>\n",
              "      <td>540.0</td>\n",
              "      <td>0.0</td>\n",
              "      <td>0.0</td>\n",
              "      <td>162.0</td>\n",
              "      <td>2.5</td>\n",
              "      <td>1040.0</td>\n",
              "      <td>676.0</td>\n",
              "      <td>28</td>\n",
              "      <td>79.99</td>\n",
              "    </tr>\n",
              "    <tr>\n",
              "      <th>1</th>\n",
              "      <td>540.0</td>\n",
              "      <td>0.0</td>\n",
              "      <td>0.0</td>\n",
              "      <td>162.0</td>\n",
              "      <td>2.5</td>\n",
              "      <td>1055.0</td>\n",
              "      <td>676.0</td>\n",
              "      <td>28</td>\n",
              "      <td>61.89</td>\n",
              "    </tr>\n",
              "    <tr>\n",
              "      <th>2</th>\n",
              "      <td>332.5</td>\n",
              "      <td>142.5</td>\n",
              "      <td>0.0</td>\n",
              "      <td>228.0</td>\n",
              "      <td>0.0</td>\n",
              "      <td>932.0</td>\n",
              "      <td>594.0</td>\n",
              "      <td>270</td>\n",
              "      <td>40.27</td>\n",
              "    </tr>\n",
              "    <tr>\n",
              "      <th>3</th>\n",
              "      <td>332.5</td>\n",
              "      <td>142.5</td>\n",
              "      <td>0.0</td>\n",
              "      <td>228.0</td>\n",
              "      <td>0.0</td>\n",
              "      <td>932.0</td>\n",
              "      <td>594.0</td>\n",
              "      <td>365</td>\n",
              "      <td>41.05</td>\n",
              "    </tr>\n",
              "    <tr>\n",
              "      <th>4</th>\n",
              "      <td>198.6</td>\n",
              "      <td>132.4</td>\n",
              "      <td>0.0</td>\n",
              "      <td>192.0</td>\n",
              "      <td>0.0</td>\n",
              "      <td>978.4</td>\n",
              "      <td>825.5</td>\n",
              "      <td>360</td>\n",
              "      <td>44.30</td>\n",
              "    </tr>\n",
              "  </tbody>\n",
              "</table>\n",
              "</div>"
            ],
            "text/plain": [
              "   Cement  BlastFurnaceSlag  FlyAsh  ...  FineAggregate  Age  CompressiveStrength\n",
              "0   540.0               0.0     0.0  ...          676.0   28                79.99\n",
              "1   540.0               0.0     0.0  ...          676.0   28                61.89\n",
              "2   332.5             142.5     0.0  ...          594.0  270                40.27\n",
              "3   332.5             142.5     0.0  ...          594.0  365                41.05\n",
              "4   198.6             132.4     0.0  ...          825.5  360                44.30\n",
              "\n",
              "[5 rows x 9 columns]"
            ]
          },
          "metadata": {
            "tags": []
          },
          "execution_count": 24
        }
      ]
    },
    {
      "cell_type": "code",
      "metadata": {
        "id": "trlzRmTlnI94"
      },
      "source": [
        "# Make df copy\n",
        "df = concrete.copy()\n",
        "\n",
        "# Define target and inputs\n",
        "X = df.drop('CompressiveStrength', axis=1)\n",
        "y = df['CompressiveStrength']\n",
        "\n",
        "# Partition data\n",
        "X_train, X_valid, y_train, y_valid = train_test_split(X, y, test_size=0.3, random_state=0)\n",
        "\n",
        "# Get number of units\n",
        "input_shape = [X_train.shape[1]]"
      ],
      "execution_count": null,
      "outputs": []
    },
    {
      "cell_type": "markdown",
      "metadata": {
        "id": "bgRm-Ee-3kru"
      },
      "source": [
        "Train the network (no special layers) on the unstandardized data"
      ]
    },
    {
      "cell_type": "code",
      "metadata": {
        "id": "Yctfk01foIgY",
        "colab": {
          "base_uri": "https://localhost:8080/",
          "height": 313
        },
        "outputId": "1e8a7d89-e67b-480f-f323-7e1ebf82dac5"
      },
      "source": [
        "model = keras.Sequential([\n",
        "    layers.Dense(512, activation='relu', input_shape=input_shape),\n",
        "    layers.Dense(512, activation='relu'),    \n",
        "    layers.Dense(512, activation='relu'),\n",
        "    layers.Dense(1),\n",
        "])\n",
        "model.compile(\n",
        "    optimizer='sgd', # SGD is more sensitive to differences of scale\n",
        "    loss='mae',\n",
        "    metrics=['mae'],\n",
        ")\n",
        "history = model.fit(\n",
        "    X_train, y_train,\n",
        "    validation_data=(X_valid, y_valid),\n",
        "    batch_size=64,\n",
        "    epochs=100,\n",
        "    verbose=0,\n",
        ")\n",
        "\n",
        "history_df = pd.DataFrame(history.history)\n",
        "history_df.loc[0:, ['loss', 'val_loss']].plot()\n",
        "print((\"Minimum Validation Loss: {:0.4f}\").format(history_df['val_loss'].min()))"
      ],
      "execution_count": 39,
      "outputs": [
        {
          "output_type": "stream",
          "text": [
            "Minimum Validation Loss: nan\n"
          ],
          "name": "stdout"
        },
        {
          "output_type": "display_data",
          "data": {
            "image/png": "[encoded data removed]",
            "text/plain": [
              "<Figure size 432x288 with 1 Axes>"
            ]
          },
          "metadata": {
            "tags": []
          }
        }
      ]
    },
    {
      "cell_type": "markdown",
      "metadata": {
        "id": "yGkFcKt94fFt"
      },
      "source": [
        "Training a model with this dataset will usually fail (even if it converges by luck with weight initialization, it converges to a large number).\n",
        "\n",
        "*BatchNorm* can help correct this problem."
      ]
    },
    {
      "cell_type": "code",
      "metadata": {
        "colab": {
          "base_uri": "https://localhost:8080/",
          "height": 313
        },
        "id": "SDhyVCZ73zQi",
        "outputId": "a2680f4d-d0db-4e85-9fd4-c968cb78335f"
      },
      "source": [
        "# Add BatchNorm before each Dense layer\n",
        "model = keras.Sequential([\n",
        "    layers.BatchNormalization(input_shape=input_shape),\n",
        "    layers.Dense(512, activation='relu'),\n",
        "    layers.BatchNormalization(),\n",
        "    layers.Dense(512, activation='relu'),\n",
        "    layers.BatchNormalization(),\n",
        "    layers.Dense(512, activation='relu'),\n",
        "    layers.BatchNormalization(),\n",
        "    layers.Dense(1),\n",
        "])\n",
        "\n",
        "model.compile(\n",
        "    optimizer='sgd',\n",
        "    loss='mae',\n",
        "    metrics=['mae'],\n",
        ")\n",
        "EPOCHS = 100\n",
        "history = model.fit(\n",
        "    X_train, y_train,\n",
        "    validation_data=(X_valid, y_valid),\n",
        "    batch_size=64,\n",
        "    epochs=EPOCHS,\n",
        "    verbose=0,\n",
        ")\n",
        "\n",
        "history_df = pd.DataFrame(history.history)\n",
        "history_df.loc[0:, ['loss', 'val_loss']].plot()\n",
        "print((\"Minimum Validation Loss: {:0.4f}\").format(history_df['val_loss'].min()))"
      ],
      "execution_count": 40,
      "outputs": [
        {
          "output_type": "stream",
          "text": [
            "Minimum Validation Loss: 3.9762\n"
          ],
          "name": "stdout"
        },
        {
          "output_type": "display_data",
          "data": {
            "image/png": "[encoded data removed]",
            "text/plain": [
              "<Figure size 432x288 with 1 Axes>"
            ]
          },
          "metadata": {
            "tags": []
          }
        }
      ]
    },
    {
      "cell_type": "markdown",
      "metadata": {
        "id": "M0QHr6u16CLr"
      },
      "source": [
        "BIG IMPROVEMENT! BatchNorm can let you train models on difficult datasets by adaptively scaling the data as it passes through the network.\n",
        "\n",
        "***\n",
        "\n",
        "## **Binary Classification**\n",
        "\n",
        "So far, we've only looked at regression problems but now we'll see how NN performs on classification problems! Most everything we've learned up until now still applies. The *main difference* is in the *loss function* we use and in what kind of *outputs* we want the final layer to produce.\n",
        "\n",
        "<u>Metrics</u>:\n",
        "- cross-entropy\n",
        " - requires probabilities as inputs\n",
        "- want to minimize distance between probabilities\n",
        "\n",
        "(accuracy cannot be used as a loss fx because SGD requires a fx that changes smoothly and not in \"jumps\" or ratio of counts)\n",
        "\n",
        "<u>Activation Function</u>:\n",
        "- use **sigmoid activation** to convert real-valued outputs produced by a dense layer into probabilities\n",
        "- use defined threshold to get final class prediction (default is 0.5 in Keras)"
      ]
    },
    {
      "cell_type": "code",
      "metadata": {
        "colab": {
          "base_uri": "https://localhost:8080/",
          "height": 428
        },
        "id": "vEtAY7-Y52oI",
        "outputId": "dbd5edba-0f2a-4862-bbfe-c8e0ccd80d64"
      },
      "source": [
        "ion = pd.read_csv('/content/drive/MyDrive/Colab Notebooks/ML concepts/Deep Learning/ion.csv', index_col=0)\n",
        "ion"
      ],
      "execution_count": 43,
      "outputs": [
        {
          "output_type": "execute_result",
          "data": {
            "text/html": [
              "<div>\n",
              "<style scoped>\n",
              "    .dataframe tbody tr th:only-of-type {\n",
              "        vertical-align: middle;\n",
              "    }\n",
              "\n",
              "    .dataframe tbody tr th {\n",
              "        vertical-align: top;\n",
              "    }\n",
              "\n",
              "    .dataframe thead th {\n",
              "        text-align: right;\n",
              "    }\n",
              "</style>\n",
              "<table border=\"1\" class=\"dataframe\">\n",
              "  <thead>\n",
              "    <tr style=\"text-align: right;\">\n",
              "      <th></th>\n",
              "      <th>V1</th>\n",
              "      <th>V2</th>\n",
              "      <th>V3</th>\n",
              "      <th>V4</th>\n",
              "      <th>V5</th>\n",
              "      <th>V6</th>\n",
              "      <th>V7</th>\n",
              "      <th>V8</th>\n",
              "      <th>V9</th>\n",
              "      <th>V10</th>\n",
              "      <th>V11</th>\n",
              "      <th>V12</th>\n",
              "      <th>V13</th>\n",
              "      <th>V14</th>\n",
              "      <th>V15</th>\n",
              "      <th>V16</th>\n",
              "      <th>V17</th>\n",
              "      <th>V18</th>\n",
              "      <th>V19</th>\n",
              "      <th>V20</th>\n",
              "      <th>V21</th>\n",
              "      <th>V22</th>\n",
              "      <th>V23</th>\n",
              "      <th>V24</th>\n",
              "      <th>V25</th>\n",
              "      <th>V26</th>\n",
              "      <th>V27</th>\n",
              "      <th>V28</th>\n",
              "      <th>V29</th>\n",
              "      <th>V30</th>\n",
              "      <th>V31</th>\n",
              "      <th>V32</th>\n",
              "      <th>V33</th>\n",
              "      <th>V34</th>\n",
              "      <th>Class</th>\n",
              "    </tr>\n",
              "  </thead>\n",
              "  <tbody>\n",
              "    <tr>\n",
              "      <th>1</th>\n",
              "      <td>1</td>\n",
              "      <td>0</td>\n",
              "      <td>0.99539</td>\n",
              "      <td>-0.05889</td>\n",
              "      <td>0.85243</td>\n",
              "      <td>0.02306</td>\n",
              "      <td>0.83398</td>\n",
              "      <td>-0.37708</td>\n",
              "      <td>1.00000</td>\n",
              "      <td>0.03760</td>\n",
              "      <td>0.85243</td>\n",
              "      <td>-0.17755</td>\n",
              "      <td>0.59755</td>\n",
              "      <td>-0.44945</td>\n",
              "      <td>0.60536</td>\n",
              "      <td>-0.38223</td>\n",
              "      <td>0.84356</td>\n",
              "      <td>-0.38542</td>\n",
              "      <td>0.58212</td>\n",
              "      <td>-0.32192</td>\n",
              "      <td>0.56971</td>\n",
              "      <td>-0.29674</td>\n",
              "      <td>0.36946</td>\n",
              "      <td>-0.47357</td>\n",
              "      <td>0.56811</td>\n",
              "      <td>-0.51171</td>\n",
              "      <td>0.41078</td>\n",
              "      <td>-0.46168</td>\n",
              "      <td>0.21266</td>\n",
              "      <td>-0.34090</td>\n",
              "      <td>0.42267</td>\n",
              "      <td>-0.54487</td>\n",
              "      <td>0.18641</td>\n",
              "      <td>-0.45300</td>\n",
              "      <td>good</td>\n",
              "    </tr>\n",
              "    <tr>\n",
              "      <th>2</th>\n",
              "      <td>1</td>\n",
              "      <td>0</td>\n",
              "      <td>1.00000</td>\n",
              "      <td>-0.18829</td>\n",
              "      <td>0.93035</td>\n",
              "      <td>-0.36156</td>\n",
              "      <td>-0.10868</td>\n",
              "      <td>-0.93597</td>\n",
              "      <td>1.00000</td>\n",
              "      <td>-0.04549</td>\n",
              "      <td>0.50874</td>\n",
              "      <td>-0.67743</td>\n",
              "      <td>0.34432</td>\n",
              "      <td>-0.69707</td>\n",
              "      <td>-0.51685</td>\n",
              "      <td>-0.97515</td>\n",
              "      <td>0.05499</td>\n",
              "      <td>-0.62237</td>\n",
              "      <td>0.33109</td>\n",
              "      <td>-1.00000</td>\n",
              "      <td>-0.13151</td>\n",
              "      <td>-0.45300</td>\n",
              "      <td>-0.18056</td>\n",
              "      <td>-0.35734</td>\n",
              "      <td>-0.20332</td>\n",
              "      <td>-0.26569</td>\n",
              "      <td>-0.20468</td>\n",
              "      <td>-0.18401</td>\n",
              "      <td>-0.19040</td>\n",
              "      <td>-0.11593</td>\n",
              "      <td>-0.16626</td>\n",
              "      <td>-0.06288</td>\n",
              "      <td>-0.13738</td>\n",
              "      <td>-0.02447</td>\n",
              "      <td>bad</td>\n",
              "    </tr>\n",
              "    <tr>\n",
              "      <th>3</th>\n",
              "      <td>1</td>\n",
              "      <td>0</td>\n",
              "      <td>1.00000</td>\n",
              "      <td>-0.03365</td>\n",
              "      <td>1.00000</td>\n",
              "      <td>0.00485</td>\n",
              "      <td>1.00000</td>\n",
              "      <td>-0.12062</td>\n",
              "      <td>0.88965</td>\n",
              "      <td>0.01198</td>\n",
              "      <td>0.73082</td>\n",
              "      <td>0.05346</td>\n",
              "      <td>0.85443</td>\n",
              "      <td>0.00827</td>\n",
              "      <td>0.54591</td>\n",
              "      <td>0.00299</td>\n",
              "      <td>0.83775</td>\n",
              "      <td>-0.13644</td>\n",
              "      <td>0.75535</td>\n",
              "      <td>-0.08540</td>\n",
              "      <td>0.70887</td>\n",
              "      <td>-0.27502</td>\n",
              "      <td>0.43385</td>\n",
              "      <td>-0.12062</td>\n",
              "      <td>0.57528</td>\n",
              "      <td>-0.40220</td>\n",
              "      <td>0.58984</td>\n",
              "      <td>-0.22145</td>\n",
              "      <td>0.43100</td>\n",
              "      <td>-0.17365</td>\n",
              "      <td>0.60436</td>\n",
              "      <td>-0.24180</td>\n",
              "      <td>0.56045</td>\n",
              "      <td>-0.38238</td>\n",
              "      <td>good</td>\n",
              "    </tr>\n",
              "    <tr>\n",
              "      <th>4</th>\n",
              "      <td>1</td>\n",
              "      <td>0</td>\n",
              "      <td>1.00000</td>\n",
              "      <td>-0.45161</td>\n",
              "      <td>1.00000</td>\n",
              "      <td>1.00000</td>\n",
              "      <td>0.71216</td>\n",
              "      <td>-1.00000</td>\n",
              "      <td>0.00000</td>\n",
              "      <td>0.00000</td>\n",
              "      <td>0.00000</td>\n",
              "      <td>0.00000</td>\n",
              "      <td>0.00000</td>\n",
              "      <td>0.00000</td>\n",
              "      <td>-1.00000</td>\n",
              "      <td>0.14516</td>\n",
              "      <td>0.54094</td>\n",
              "      <td>-0.39330</td>\n",
              "      <td>-1.00000</td>\n",
              "      <td>-0.54467</td>\n",
              "      <td>-0.69975</td>\n",
              "      <td>1.00000</td>\n",
              "      <td>0.00000</td>\n",
              "      <td>0.00000</td>\n",
              "      <td>1.00000</td>\n",
              "      <td>0.90695</td>\n",
              "      <td>0.51613</td>\n",
              "      <td>1.00000</td>\n",
              "      <td>1.00000</td>\n",
              "      <td>-0.20099</td>\n",
              "      <td>0.25682</td>\n",
              "      <td>1.00000</td>\n",
              "      <td>-0.32382</td>\n",
              "      <td>1.00000</td>\n",
              "      <td>bad</td>\n",
              "    </tr>\n",
              "    <tr>\n",
              "      <th>5</th>\n",
              "      <td>1</td>\n",
              "      <td>0</td>\n",
              "      <td>1.00000</td>\n",
              "      <td>-0.02401</td>\n",
              "      <td>0.94140</td>\n",
              "      <td>0.06531</td>\n",
              "      <td>0.92106</td>\n",
              "      <td>-0.23255</td>\n",
              "      <td>0.77152</td>\n",
              "      <td>-0.16399</td>\n",
              "      <td>0.52798</td>\n",
              "      <td>-0.20275</td>\n",
              "      <td>0.56409</td>\n",
              "      <td>-0.00712</td>\n",
              "      <td>0.34395</td>\n",
              "      <td>-0.27457</td>\n",
              "      <td>0.52940</td>\n",
              "      <td>-0.21780</td>\n",
              "      <td>0.45107</td>\n",
              "      <td>-0.17813</td>\n",
              "      <td>0.05982</td>\n",
              "      <td>-0.35575</td>\n",
              "      <td>0.02309</td>\n",
              "      <td>-0.52879</td>\n",
              "      <td>0.03286</td>\n",
              "      <td>-0.65158</td>\n",
              "      <td>0.13290</td>\n",
              "      <td>-0.53206</td>\n",
              "      <td>0.02431</td>\n",
              "      <td>-0.62197</td>\n",
              "      <td>-0.05707</td>\n",
              "      <td>-0.59573</td>\n",
              "      <td>-0.04608</td>\n",
              "      <td>-0.65697</td>\n",
              "      <td>good</td>\n",
              "    </tr>\n",
              "    <tr>\n",
              "      <th>...</th>\n",
              "      <td>...</td>\n",
              "      <td>...</td>\n",
              "      <td>...</td>\n",
              "      <td>...</td>\n",
              "      <td>...</td>\n",
              "      <td>...</td>\n",
              "      <td>...</td>\n",
              "      <td>...</td>\n",
              "      <td>...</td>\n",
              "      <td>...</td>\n",
              "      <td>...</td>\n",
              "      <td>...</td>\n",
              "      <td>...</td>\n",
              "      <td>...</td>\n",
              "      <td>...</td>\n",
              "      <td>...</td>\n",
              "      <td>...</td>\n",
              "      <td>...</td>\n",
              "      <td>...</td>\n",
              "      <td>...</td>\n",
              "      <td>...</td>\n",
              "      <td>...</td>\n",
              "      <td>...</td>\n",
              "      <td>...</td>\n",
              "      <td>...</td>\n",
              "      <td>...</td>\n",
              "      <td>...</td>\n",
              "      <td>...</td>\n",
              "      <td>...</td>\n",
              "      <td>...</td>\n",
              "      <td>...</td>\n",
              "      <td>...</td>\n",
              "      <td>...</td>\n",
              "      <td>...</td>\n",
              "      <td>...</td>\n",
              "    </tr>\n",
              "    <tr>\n",
              "      <th>347</th>\n",
              "      <td>1</td>\n",
              "      <td>0</td>\n",
              "      <td>0.83508</td>\n",
              "      <td>0.08298</td>\n",
              "      <td>0.73739</td>\n",
              "      <td>-0.14706</td>\n",
              "      <td>0.84349</td>\n",
              "      <td>-0.05567</td>\n",
              "      <td>0.90441</td>\n",
              "      <td>-0.04622</td>\n",
              "      <td>0.89391</td>\n",
              "      <td>0.13130</td>\n",
              "      <td>0.81197</td>\n",
              "      <td>0.06723</td>\n",
              "      <td>0.79307</td>\n",
              "      <td>-0.08929</td>\n",
              "      <td>1.00000</td>\n",
              "      <td>-0.02101</td>\n",
              "      <td>0.96639</td>\n",
              "      <td>0.06618</td>\n",
              "      <td>0.87605</td>\n",
              "      <td>0.01155</td>\n",
              "      <td>0.77521</td>\n",
              "      <td>0.06618</td>\n",
              "      <td>0.95378</td>\n",
              "      <td>-0.04202</td>\n",
              "      <td>0.83479</td>\n",
              "      <td>0.00123</td>\n",
              "      <td>1.00000</td>\n",
              "      <td>0.12815</td>\n",
              "      <td>0.86660</td>\n",
              "      <td>-0.10714</td>\n",
              "      <td>0.90546</td>\n",
              "      <td>-0.04307</td>\n",
              "      <td>good</td>\n",
              "    </tr>\n",
              "    <tr>\n",
              "      <th>348</th>\n",
              "      <td>1</td>\n",
              "      <td>0</td>\n",
              "      <td>0.95113</td>\n",
              "      <td>0.00419</td>\n",
              "      <td>0.95183</td>\n",
              "      <td>-0.02723</td>\n",
              "      <td>0.93438</td>\n",
              "      <td>-0.01920</td>\n",
              "      <td>0.94590</td>\n",
              "      <td>0.01606</td>\n",
              "      <td>0.96510</td>\n",
              "      <td>0.03281</td>\n",
              "      <td>0.94171</td>\n",
              "      <td>0.07330</td>\n",
              "      <td>0.94625</td>\n",
              "      <td>-0.01326</td>\n",
              "      <td>0.97173</td>\n",
              "      <td>0.00140</td>\n",
              "      <td>0.94834</td>\n",
              "      <td>0.06038</td>\n",
              "      <td>0.92670</td>\n",
              "      <td>0.08412</td>\n",
              "      <td>0.93124</td>\n",
              "      <td>0.10087</td>\n",
              "      <td>0.94520</td>\n",
              "      <td>0.01361</td>\n",
              "      <td>0.93522</td>\n",
              "      <td>0.04925</td>\n",
              "      <td>0.93159</td>\n",
              "      <td>0.08168</td>\n",
              "      <td>0.94066</td>\n",
              "      <td>-0.00035</td>\n",
              "      <td>0.91483</td>\n",
              "      <td>0.04712</td>\n",
              "      <td>good</td>\n",
              "    </tr>\n",
              "    <tr>\n",
              "      <th>349</th>\n",
              "      <td>1</td>\n",
              "      <td>0</td>\n",
              "      <td>0.94701</td>\n",
              "      <td>-0.00034</td>\n",
              "      <td>0.93207</td>\n",
              "      <td>-0.03227</td>\n",
              "      <td>0.95177</td>\n",
              "      <td>-0.03431</td>\n",
              "      <td>0.95584</td>\n",
              "      <td>0.02446</td>\n",
              "      <td>0.94124</td>\n",
              "      <td>0.01766</td>\n",
              "      <td>0.92595</td>\n",
              "      <td>0.04688</td>\n",
              "      <td>0.93954</td>\n",
              "      <td>-0.01461</td>\n",
              "      <td>0.94837</td>\n",
              "      <td>0.02004</td>\n",
              "      <td>0.93784</td>\n",
              "      <td>0.01393</td>\n",
              "      <td>0.91406</td>\n",
              "      <td>0.07677</td>\n",
              "      <td>0.89470</td>\n",
              "      <td>0.06148</td>\n",
              "      <td>0.93988</td>\n",
              "      <td>0.03193</td>\n",
              "      <td>0.92489</td>\n",
              "      <td>0.02542</td>\n",
              "      <td>0.92120</td>\n",
              "      <td>0.02242</td>\n",
              "      <td>0.92459</td>\n",
              "      <td>0.00442</td>\n",
              "      <td>0.92697</td>\n",
              "      <td>-0.00577</td>\n",
              "      <td>good</td>\n",
              "    </tr>\n",
              "    <tr>\n",
              "      <th>350</th>\n",
              "      <td>1</td>\n",
              "      <td>0</td>\n",
              "      <td>0.90608</td>\n",
              "      <td>-0.01657</td>\n",
              "      <td>0.98122</td>\n",
              "      <td>-0.01989</td>\n",
              "      <td>0.95691</td>\n",
              "      <td>-0.03646</td>\n",
              "      <td>0.85746</td>\n",
              "      <td>0.00110</td>\n",
              "      <td>0.89724</td>\n",
              "      <td>-0.03315</td>\n",
              "      <td>0.89061</td>\n",
              "      <td>-0.01436</td>\n",
              "      <td>0.90608</td>\n",
              "      <td>-0.04530</td>\n",
              "      <td>0.91381</td>\n",
              "      <td>-0.00884</td>\n",
              "      <td>0.80773</td>\n",
              "      <td>-0.12928</td>\n",
              "      <td>0.88729</td>\n",
              "      <td>0.01215</td>\n",
              "      <td>0.92155</td>\n",
              "      <td>-0.02320</td>\n",
              "      <td>0.91050</td>\n",
              "      <td>-0.02099</td>\n",
              "      <td>0.89147</td>\n",
              "      <td>-0.07760</td>\n",
              "      <td>0.82983</td>\n",
              "      <td>-0.17238</td>\n",
              "      <td>0.96022</td>\n",
              "      <td>-0.03757</td>\n",
              "      <td>0.87403</td>\n",
              "      <td>-0.16243</td>\n",
              "      <td>good</td>\n",
              "    </tr>\n",
              "    <tr>\n",
              "      <th>351</th>\n",
              "      <td>1</td>\n",
              "      <td>0</td>\n",
              "      <td>0.84710</td>\n",
              "      <td>0.13533</td>\n",
              "      <td>0.73638</td>\n",
              "      <td>-0.06151</td>\n",
              "      <td>0.87873</td>\n",
              "      <td>0.08260</td>\n",
              "      <td>0.88928</td>\n",
              "      <td>-0.09139</td>\n",
              "      <td>0.78735</td>\n",
              "      <td>0.06678</td>\n",
              "      <td>0.80668</td>\n",
              "      <td>-0.00351</td>\n",
              "      <td>0.79262</td>\n",
              "      <td>-0.01054</td>\n",
              "      <td>0.85764</td>\n",
              "      <td>-0.04569</td>\n",
              "      <td>0.87170</td>\n",
              "      <td>-0.03515</td>\n",
              "      <td>0.81722</td>\n",
              "      <td>-0.09490</td>\n",
              "      <td>0.71002</td>\n",
              "      <td>0.04394</td>\n",
              "      <td>0.86467</td>\n",
              "      <td>-0.15114</td>\n",
              "      <td>0.81147</td>\n",
              "      <td>-0.04822</td>\n",
              "      <td>0.78207</td>\n",
              "      <td>-0.00703</td>\n",
              "      <td>0.75747</td>\n",
              "      <td>-0.06678</td>\n",
              "      <td>0.85764</td>\n",
              "      <td>-0.06151</td>\n",
              "      <td>good</td>\n",
              "    </tr>\n",
              "  </tbody>\n",
              "</table>\n",
              "<p>351 rows × 35 columns</p>\n",
              "</div>"
            ],
            "text/plain": [
              "     V1  V2       V3       V4  ...      V32      V33      V34  Class\n",
              "1     1   0  0.99539 -0.05889  ... -0.54487  0.18641 -0.45300   good\n",
              "2     1   0  1.00000 -0.18829  ... -0.06288 -0.13738 -0.02447    bad\n",
              "3     1   0  1.00000 -0.03365  ... -0.24180  0.56045 -0.38238   good\n",
              "4     1   0  1.00000 -0.45161  ...  1.00000 -0.32382  1.00000    bad\n",
              "5     1   0  1.00000 -0.02401  ... -0.59573 -0.04608 -0.65697   good\n",
              "..   ..  ..      ...      ...  ...      ...      ...      ...    ...\n",
              "347   1   0  0.83508  0.08298  ... -0.10714  0.90546 -0.04307   good\n",
              "348   1   0  0.95113  0.00419  ... -0.00035  0.91483  0.04712   good\n",
              "349   1   0  0.94701 -0.00034  ...  0.00442  0.92697 -0.00577   good\n",
              "350   1   0  0.90608 -0.01657  ... -0.03757  0.87403 -0.16243   good\n",
              "351   1   0  0.84710  0.13533  ... -0.06678  0.85764 -0.06151   good\n",
              "\n",
              "[351 rows x 35 columns]"
            ]
          },
          "metadata": {
            "tags": []
          },
          "execution_count": 43
        }
      ]
    },
    {
      "cell_type": "code",
      "metadata": {
        "id": "Vlo5WbCHFkoD"
      },
      "source": [
        "# Get df copy\n",
        "df = ion.copy()\n",
        "# Convert target to binary numbers\n",
        "df['Class'] = df['Class'].map({'good': 0, 'bad': 1})\n",
        "\n",
        "# Partition data\n",
        "df_train = df.sample(frac=0.7, random_state=0)\n",
        "df_valid = df.drop(df_train.index)\n",
        "\n",
        "# Find min and max values for per col\n",
        "max_ = df_train.max(axis=0)\n",
        "min_ = df_train.min(axis=0)\n",
        "\n",
        "# Perform min-max scaling\n",
        "df_train = (df_train - min_) / (max_ - min_)\n",
        "df_valid = (df_valid - min_) / (max_ - min_)\n",
        "# Drop NaNs\n",
        "df_train.dropna(axis=1, inplace=True) # drop the empty feature in column 2\n",
        "df_valid.dropna(axis=1, inplace=True)\n",
        "\n",
        "# Define target and inputs\n",
        "X_train = df_train.drop('Class', axis=1)\n",
        "X_valid = df_valid.drop('Class', axis=1)\n",
        "y_train = df_train['Class']\n",
        "y_valid = df_valid['Class']"
      ],
      "execution_count": 57,
      "outputs": []
    },
    {
      "cell_type": "code",
      "metadata": {
        "colab": {
          "base_uri": "https://localhost:8080/",
          "height": 428
        },
        "id": "15vDm-cHGPdt",
        "outputId": "ac894679-71a2-49ca-8bf4-eb357ae69ce6"
      },
      "source": [
        "df_train"
      ],
      "execution_count": 58,
      "outputs": [
        {
          "output_type": "execute_result",
          "data": {
            "text/html": [
              "<div>\n",
              "<style scoped>\n",
              "    .dataframe tbody tr th:only-of-type {\n",
              "        vertical-align: middle;\n",
              "    }\n",
              "\n",
              "    .dataframe tbody tr th {\n",
              "        vertical-align: top;\n",
              "    }\n",
              "\n",
              "    .dataframe thead th {\n",
              "        text-align: right;\n",
              "    }\n",
              "</style>\n",
              "<table border=\"1\" class=\"dataframe\">\n",
              "  <thead>\n",
              "    <tr style=\"text-align: right;\">\n",
              "      <th></th>\n",
              "      <th>V1</th>\n",
              "      <th>V3</th>\n",
              "      <th>V4</th>\n",
              "      <th>V5</th>\n",
              "      <th>V6</th>\n",
              "      <th>V7</th>\n",
              "      <th>V8</th>\n",
              "      <th>V9</th>\n",
              "      <th>V10</th>\n",
              "      <th>V11</th>\n",
              "      <th>V12</th>\n",
              "      <th>V13</th>\n",
              "      <th>V14</th>\n",
              "      <th>V15</th>\n",
              "      <th>V16</th>\n",
              "      <th>V17</th>\n",
              "      <th>V18</th>\n",
              "      <th>V19</th>\n",
              "      <th>V20</th>\n",
              "      <th>V21</th>\n",
              "      <th>V22</th>\n",
              "      <th>V23</th>\n",
              "      <th>V24</th>\n",
              "      <th>V25</th>\n",
              "      <th>V26</th>\n",
              "      <th>V27</th>\n",
              "      <th>V28</th>\n",
              "      <th>V29</th>\n",
              "      <th>V30</th>\n",
              "      <th>V31</th>\n",
              "      <th>V32</th>\n",
              "      <th>V33</th>\n",
              "      <th>V34</th>\n",
              "      <th>Class</th>\n",
              "    </tr>\n",
              "  </thead>\n",
              "  <tbody>\n",
              "    <tr>\n",
              "      <th>7</th>\n",
              "      <td>1.0</td>\n",
              "      <td>0.987940</td>\n",
              "      <td>0.44699</td>\n",
              "      <td>0.973005</td>\n",
              "      <td>0.396000</td>\n",
              "      <td>0.964030</td>\n",
              "      <td>0.358250</td>\n",
              "      <td>0.929980</td>\n",
              "      <td>0.363290</td>\n",
              "      <td>0.898830</td>\n",
              "      <td>0.260355</td>\n",
              "      <td>0.891125</td>\n",
              "      <td>0.246180</td>\n",
              "      <td>0.873140</td>\n",
              "      <td>0.192820</td>\n",
              "      <td>0.789725</td>\n",
              "      <td>0.159570</td>\n",
              "      <td>0.689260</td>\n",
              "      <td>0.131795</td>\n",
              "      <td>0.681620</td>\n",
              "      <td>0.117190</td>\n",
              "      <td>0.659490</td>\n",
              "      <td>0.101235</td>\n",
              "      <td>0.613960</td>\n",
              "      <td>0.091830</td>\n",
              "      <td>0.568295</td>\n",
              "      <td>0.087450</td>\n",
              "      <td>0.523030</td>\n",
              "      <td>0.088025</td>\n",
              "      <td>0.478690</td>\n",
              "      <td>0.09341</td>\n",
              "      <td>0.430840</td>\n",
              "      <td>0.095125</td>\n",
              "      <td>0.0</td>\n",
              "    </tr>\n",
              "    <tr>\n",
              "      <th>53</th>\n",
              "      <td>1.0</td>\n",
              "      <td>1.000000</td>\n",
              "      <td>1.00000</td>\n",
              "      <td>1.000000</td>\n",
              "      <td>1.000000</td>\n",
              "      <td>0.955050</td>\n",
              "      <td>1.000000</td>\n",
              "      <td>0.365150</td>\n",
              "      <td>1.000000</td>\n",
              "      <td>0.084240</td>\n",
              "      <td>1.000000</td>\n",
              "      <td>0.000000</td>\n",
              "      <td>1.000000</td>\n",
              "      <td>0.000000</td>\n",
              "      <td>0.862630</td>\n",
              "      <td>0.000000</td>\n",
              "      <td>0.211105</td>\n",
              "      <td>0.000000</td>\n",
              "      <td>0.289740</td>\n",
              "      <td>0.000000</td>\n",
              "      <td>0.000000</td>\n",
              "      <td>0.235810</td>\n",
              "      <td>0.000000</td>\n",
              "      <td>0.950070</td>\n",
              "      <td>0.000000</td>\n",
              "      <td>1.000000</td>\n",
              "      <td>0.000000</td>\n",
              "      <td>1.000000</td>\n",
              "      <td>0.000000</td>\n",
              "      <td>1.000000</td>\n",
              "      <td>0.32657</td>\n",
              "      <td>1.000000</td>\n",
              "      <td>0.674225</td>\n",
              "      <td>0.0</td>\n",
              "    </tr>\n",
              "    <tr>\n",
              "      <th>115</th>\n",
              "      <td>1.0</td>\n",
              "      <td>0.956765</td>\n",
              "      <td>0.90793</td>\n",
              "      <td>0.135135</td>\n",
              "      <td>1.000000</td>\n",
              "      <td>0.302670</td>\n",
              "      <td>0.778675</td>\n",
              "      <td>0.527025</td>\n",
              "      <td>0.648650</td>\n",
              "      <td>0.407005</td>\n",
              "      <td>0.448795</td>\n",
              "      <td>0.484210</td>\n",
              "      <td>0.455150</td>\n",
              "      <td>0.507005</td>\n",
              "      <td>0.482985</td>\n",
              "      <td>0.505540</td>\n",
              "      <td>0.497315</td>\n",
              "      <td>0.501710</td>\n",
              "      <td>0.500485</td>\n",
              "      <td>0.500240</td>\n",
              "      <td>0.500375</td>\n",
              "      <td>0.499985</td>\n",
              "      <td>0.500095</td>\n",
              "      <td>0.499985</td>\n",
              "      <td>0.500010</td>\n",
              "      <td>0.499995</td>\n",
              "      <td>0.500000</td>\n",
              "      <td>0.500000</td>\n",
              "      <td>0.500000</td>\n",
              "      <td>0.500000</td>\n",
              "      <td>0.50000</td>\n",
              "      <td>0.500000</td>\n",
              "      <td>0.500000</td>\n",
              "      <td>1.0</td>\n",
              "    </tr>\n",
              "    <tr>\n",
              "      <th>46</th>\n",
              "      <td>0.0</td>\n",
              "      <td>0.500000</td>\n",
              "      <td>0.50000</td>\n",
              "      <td>0.500000</td>\n",
              "      <td>0.500000</td>\n",
              "      <td>0.500000</td>\n",
              "      <td>0.500000</td>\n",
              "      <td>1.000000</td>\n",
              "      <td>1.000000</td>\n",
              "      <td>1.000000</td>\n",
              "      <td>1.000000</td>\n",
              "      <td>0.500000</td>\n",
              "      <td>0.500000</td>\n",
              "      <td>0.500000</td>\n",
              "      <td>0.500000</td>\n",
              "      <td>0.312500</td>\n",
              "      <td>0.000000</td>\n",
              "      <td>0.000000</td>\n",
              "      <td>0.000000</td>\n",
              "      <td>0.500000</td>\n",
              "      <td>0.500000</td>\n",
              "      <td>0.500000</td>\n",
              "      <td>0.500000</td>\n",
              "      <td>0.000000</td>\n",
              "      <td>0.000000</td>\n",
              "      <td>0.000000</td>\n",
              "      <td>0.000000</td>\n",
              "      <td>0.000000</td>\n",
              "      <td>1.000000</td>\n",
              "      <td>1.000000</td>\n",
              "      <td>0.50000</td>\n",
              "      <td>0.500000</td>\n",
              "      <td>0.500000</td>\n",
              "      <td>1.0</td>\n",
              "    </tr>\n",
              "    <tr>\n",
              "      <th>107</th>\n",
              "      <td>1.0</td>\n",
              "      <td>0.500000</td>\n",
              "      <td>0.50000</td>\n",
              "      <td>0.500000</td>\n",
              "      <td>0.500000</td>\n",
              "      <td>0.500000</td>\n",
              "      <td>0.500000</td>\n",
              "      <td>0.500000</td>\n",
              "      <td>0.500000</td>\n",
              "      <td>0.810975</td>\n",
              "      <td>1.000000</td>\n",
              "      <td>0.500000</td>\n",
              "      <td>0.500000</td>\n",
              "      <td>0.500000</td>\n",
              "      <td>0.500000</td>\n",
              "      <td>0.682925</td>\n",
              "      <td>0.140245</td>\n",
              "      <td>0.780490</td>\n",
              "      <td>0.000000</td>\n",
              "      <td>0.500000</td>\n",
              "      <td>0.500000</td>\n",
              "      <td>0.500000</td>\n",
              "      <td>0.500000</td>\n",
              "      <td>0.500000</td>\n",
              "      <td>0.500000</td>\n",
              "      <td>1.000000</td>\n",
              "      <td>0.554880</td>\n",
              "      <td>0.500000</td>\n",
              "      <td>0.500000</td>\n",
              "      <td>0.500000</td>\n",
              "      <td>0.50000</td>\n",
              "      <td>0.500000</td>\n",
              "      <td>0.500000</td>\n",
              "      <td>1.0</td>\n",
              "    </tr>\n",
              "    <tr>\n",
              "      <th>...</th>\n",
              "      <td>...</td>\n",
              "      <td>...</td>\n",
              "      <td>...</td>\n",
              "      <td>...</td>\n",
              "      <td>...</td>\n",
              "      <td>...</td>\n",
              "      <td>...</td>\n",
              "      <td>...</td>\n",
              "      <td>...</td>\n",
              "      <td>...</td>\n",
              "      <td>...</td>\n",
              "      <td>...</td>\n",
              "      <td>...</td>\n",
              "      <td>...</td>\n",
              "      <td>...</td>\n",
              "      <td>...</td>\n",
              "      <td>...</td>\n",
              "      <td>...</td>\n",
              "      <td>...</td>\n",
              "      <td>...</td>\n",
              "      <td>...</td>\n",
              "      <td>...</td>\n",
              "      <td>...</td>\n",
              "      <td>...</td>\n",
              "      <td>...</td>\n",
              "      <td>...</td>\n",
              "      <td>...</td>\n",
              "      <td>...</td>\n",
              "      <td>...</td>\n",
              "      <td>...</td>\n",
              "      <td>...</td>\n",
              "      <td>...</td>\n",
              "      <td>...</td>\n",
              "      <td>...</td>\n",
              "    </tr>\n",
              "    <tr>\n",
              "      <th>59</th>\n",
              "      <td>1.0</td>\n",
              "      <td>1.000000</td>\n",
              "      <td>0.52906</td>\n",
              "      <td>0.972625</td>\n",
              "      <td>0.537090</td>\n",
              "      <td>0.999760</td>\n",
              "      <td>0.566155</td>\n",
              "      <td>1.000000</td>\n",
              "      <td>0.490445</td>\n",
              "      <td>0.974230</td>\n",
              "      <td>0.535165</td>\n",
              "      <td>0.978565</td>\n",
              "      <td>0.573220</td>\n",
              "      <td>0.974310</td>\n",
              "      <td>0.556120</td>\n",
              "      <td>0.954480</td>\n",
              "      <td>0.600595</td>\n",
              "      <td>0.983705</td>\n",
              "      <td>0.581325</td>\n",
              "      <td>0.998475</td>\n",
              "      <td>0.571290</td>\n",
              "      <td>0.953920</td>\n",
              "      <td>0.582050</td>\n",
              "      <td>0.958335</td>\n",
              "      <td>0.612155</td>\n",
              "      <td>0.942115</td>\n",
              "      <td>0.617855</td>\n",
              "      <td>0.942840</td>\n",
              "      <td>0.612555</td>\n",
              "      <td>0.891620</td>\n",
              "      <td>0.64788</td>\n",
              "      <td>0.917870</td>\n",
              "      <td>0.655830</td>\n",
              "      <td>0.0</td>\n",
              "    </tr>\n",
              "    <tr>\n",
              "      <th>42</th>\n",
              "      <td>1.0</td>\n",
              "      <td>0.000000</td>\n",
              "      <td>0.00000</td>\n",
              "      <td>1.000000</td>\n",
              "      <td>1.000000</td>\n",
              "      <td>1.000000</td>\n",
              "      <td>0.428125</td>\n",
              "      <td>0.500000</td>\n",
              "      <td>0.500000</td>\n",
              "      <td>0.000000</td>\n",
              "      <td>1.000000</td>\n",
              "      <td>1.000000</td>\n",
              "      <td>1.000000</td>\n",
              "      <td>0.589585</td>\n",
              "      <td>0.000000</td>\n",
              "      <td>0.000000</td>\n",
              "      <td>0.000000</td>\n",
              "      <td>0.543750</td>\n",
              "      <td>0.000000</td>\n",
              "      <td>1.000000</td>\n",
              "      <td>0.000000</td>\n",
              "      <td>0.000000</td>\n",
              "      <td>1.000000</td>\n",
              "      <td>0.000000</td>\n",
              "      <td>0.000000</td>\n",
              "      <td>1.000000</td>\n",
              "      <td>0.000000</td>\n",
              "      <td>0.000000</td>\n",
              "      <td>0.000000</td>\n",
              "      <td>1.000000</td>\n",
              "      <td>1.00000</td>\n",
              "      <td>0.500000</td>\n",
              "      <td>0.500000</td>\n",
              "      <td>1.0</td>\n",
              "    </tr>\n",
              "    <tr>\n",
              "      <th>15</th>\n",
              "      <td>1.0</td>\n",
              "      <td>1.000000</td>\n",
              "      <td>0.53690</td>\n",
              "      <td>1.000000</td>\n",
              "      <td>0.517100</td>\n",
              "      <td>1.000000</td>\n",
              "      <td>0.472185</td>\n",
              "      <td>1.000000</td>\n",
              "      <td>0.543820</td>\n",
              "      <td>1.000000</td>\n",
              "      <td>0.598255</td>\n",
              "      <td>1.000000</td>\n",
              "      <td>0.601640</td>\n",
              "      <td>1.000000</td>\n",
              "      <td>0.563925</td>\n",
              "      <td>1.000000</td>\n",
              "      <td>0.552805</td>\n",
              "      <td>1.000000</td>\n",
              "      <td>0.635435</td>\n",
              "      <td>1.000000</td>\n",
              "      <td>0.723790</td>\n",
              "      <td>1.000000</td>\n",
              "      <td>0.708750</td>\n",
              "      <td>1.000000</td>\n",
              "      <td>0.600165</td>\n",
              "      <td>1.000000</td>\n",
              "      <td>0.683715</td>\n",
              "      <td>0.978015</td>\n",
              "      <td>0.743205</td>\n",
              "      <td>1.000000</td>\n",
              "      <td>0.66246</td>\n",
              "      <td>1.000000</td>\n",
              "      <td>0.733560</td>\n",
              "      <td>0.0</td>\n",
              "    </tr>\n",
              "    <tr>\n",
              "      <th>156</th>\n",
              "      <td>1.0</td>\n",
              "      <td>0.862070</td>\n",
              "      <td>0.49458</td>\n",
              "      <td>0.898520</td>\n",
              "      <td>0.505420</td>\n",
              "      <td>0.900000</td>\n",
              "      <td>0.500985</td>\n",
              "      <td>0.895075</td>\n",
              "      <td>0.505420</td>\n",
              "      <td>0.892120</td>\n",
              "      <td>0.495075</td>\n",
              "      <td>0.916750</td>\n",
              "      <td>0.516255</td>\n",
              "      <td>0.925615</td>\n",
              "      <td>0.508375</td>\n",
              "      <td>0.900495</td>\n",
              "      <td>0.496060</td>\n",
              "      <td>0.895565</td>\n",
              "      <td>0.485220</td>\n",
              "      <td>0.879805</td>\n",
              "      <td>0.516750</td>\n",
              "      <td>0.873890</td>\n",
              "      <td>0.527585</td>\n",
              "      <td>0.863055</td>\n",
              "      <td>0.492610</td>\n",
              "      <td>0.890205</td>\n",
              "      <td>0.503060</td>\n",
              "      <td>0.870445</td>\n",
              "      <td>0.474875</td>\n",
              "      <td>0.914780</td>\n",
              "      <td>0.51478</td>\n",
              "      <td>0.895075</td>\n",
              "      <td>0.503940</td>\n",
              "      <td>0.0</td>\n",
              "    </tr>\n",
              "    <tr>\n",
              "      <th>51</th>\n",
              "      <td>1.0</td>\n",
              "      <td>0.920670</td>\n",
              "      <td>0.40819</td>\n",
              "      <td>0.718220</td>\n",
              "      <td>0.514595</td>\n",
              "      <td>0.967105</td>\n",
              "      <td>0.498665</td>\n",
              "      <td>0.939735</td>\n",
              "      <td>0.568975</td>\n",
              "      <td>0.905605</td>\n",
              "      <td>0.491055</td>\n",
              "      <td>0.942795</td>\n",
              "      <td>0.774955</td>\n",
              "      <td>0.958570</td>\n",
              "      <td>0.212570</td>\n",
              "      <td>0.875000</td>\n",
              "      <td>0.352400</td>\n",
              "      <td>0.933380</td>\n",
              "      <td>0.399480</td>\n",
              "      <td>1.000000</td>\n",
              "      <td>1.000000</td>\n",
              "      <td>0.733050</td>\n",
              "      <td>0.418550</td>\n",
              "      <td>0.950330</td>\n",
              "      <td>0.486110</td>\n",
              "      <td>0.966790</td>\n",
              "      <td>0.494210</td>\n",
              "      <td>0.807910</td>\n",
              "      <td>0.338510</td>\n",
              "      <td>0.922315</td>\n",
              "      <td>0.37147</td>\n",
              "      <td>0.966615</td>\n",
              "      <td>0.492875</td>\n",
              "      <td>0.0</td>\n",
              "    </tr>\n",
              "  </tbody>\n",
              "</table>\n",
              "<p>246 rows × 34 columns</p>\n",
              "</div>"
            ],
            "text/plain": [
              "      V1        V3       V4        V5  ...      V32       V33       V34  Class\n",
              "7    1.0  0.987940  0.44699  0.973005  ...  0.09341  0.430840  0.095125    0.0\n",
              "53   1.0  1.000000  1.00000  1.000000  ...  0.32657  1.000000  0.674225    0.0\n",
              "115  1.0  0.956765  0.90793  0.135135  ...  0.50000  0.500000  0.500000    1.0\n",
              "46   0.0  0.500000  0.50000  0.500000  ...  0.50000  0.500000  0.500000    1.0\n",
              "107  1.0  0.500000  0.50000  0.500000  ...  0.50000  0.500000  0.500000    1.0\n",
              "..   ...       ...      ...       ...  ...      ...       ...       ...    ...\n",
              "59   1.0  1.000000  0.52906  0.972625  ...  0.64788  0.917870  0.655830    0.0\n",
              "42   1.0  0.000000  0.00000  1.000000  ...  1.00000  0.500000  0.500000    1.0\n",
              "15   1.0  1.000000  0.53690  1.000000  ...  0.66246  1.000000  0.733560    0.0\n",
              "156  1.0  0.862070  0.49458  0.898520  ...  0.51478  0.895075  0.503940    0.0\n",
              "51   1.0  0.920670  0.40819  0.718220  ...  0.37147  0.966615  0.492875    0.0\n",
              "\n",
              "[246 rows x 34 columns]"
            ]
          },
          "metadata": {
            "tags": []
          },
          "execution_count": 58
        }
      ]
    },
    {
      "cell_type": "code",
      "metadata": {
        "id": "gOMin0z4GQR8"
      },
      "source": [
        "# Instantiate model using \"sigmoid\" activation in the final layer to get class probabilities as outcomes\n",
        "model = keras.Sequential([\n",
        "    layers.Dense(4, activation='relu', input_shape=[33]),\n",
        "    layers.Dense(4, activation='relu'),    \n",
        "    layers.Dense(1, activation='sigmoid'),\n",
        "])\n",
        "\n",
        "# Compile model with cross-entropy loss and accuracy metric (adam optimizer works well with classification too)\n",
        "model.compile(\n",
        "    optimizer='adam',\n",
        "    loss='binary_crossentropy',\n",
        "    metrics=['binary_accuracy'],\n",
        ")\n",
        "\n",
        "# Implement early stopping to train faster for this specific example\n",
        "early_stopping = keras.callbacks.EarlyStopping(\n",
        "    patience=10,\n",
        "    min_delta=0.001,\n",
        "    restore_best_weights=True,\n",
        ")\n",
        "\n",
        "# Train model\n",
        "history = model.fit(\n",
        "    X_train, y_train,\n",
        "    validation_data=(X_valid, y_valid),\n",
        "    batch_size=512,\n",
        "    epochs=1000,\n",
        "    callbacks=[early_stopping],\n",
        "    verbose=0, # hide the output because we have so many epochs\n",
        ")"
      ],
      "execution_count": 60,
      "outputs": []
    },
    {
      "cell_type": "code",
      "metadata": {
        "colab": {
          "base_uri": "https://localhost:8080/",
          "height": 610
        },
        "id": "56lKUiYMIokZ",
        "outputId": "14f66b36-7d14-4177-997c-d9a346e2bde4"
      },
      "source": [
        "# See learning curves\n",
        "history_df = pd.DataFrame(history.history)\n",
        "# Start the plot at epoch 5\n",
        "history_df.loc[5:, ['loss', 'val_loss']].plot()\n",
        "history_df.loc[5:, ['binary_accuracy', 'val_binary_accuracy']].plot()\n",
        "\n",
        "print((\"Best Validation Loss: {:0.4f}\" +\\\n",
        "      \"\\nBest Validation Accuracy: {:0.4f}\")\\\n",
        "      .format(history_df['val_loss'].min(), \n",
        "              history_df['val_binary_accuracy'].max()))"
      ],
      "execution_count": 61,
      "outputs": [
        {
          "output_type": "stream",
          "text": [
            "Best Validation Loss: 0.2517\n",
            "Best Validation Accuracy: 0.9048\n"
          ],
          "name": "stdout"
        },
        {
          "output_type": "display_data",
          "data": {
            "image/png": "[encoded data removed]",
            "text/plain": [
              "<Figure size 432x288 with 1 Axes>"
            ]
          },
          "metadata": {
            "tags": []
          }
        },
        {
          "output_type": "display_data",
          "data": {
            "image/png": "[encoded data removed]",
            "text/plain": [
              "<Figure size 432x288 with 1 Axes>"
            ]
          },
          "metadata": {
            "tags": []
          }
        }
      ]
    },
    {
      "cell_type": "markdown",
      "metadata": {
        "id": "ndsWGv1vRaaE"
      },
      "source": [
        "### Binary Classification Example using Hotel Data"
      ]
    },
    {
      "cell_type": "code",
      "metadata": {
        "id": "Lus_bBRoI1T4"
      },
      "source": [
        "# Import dependencies\n",
        "from sklearn.model_selection import train_test_split\n",
        "from sklearn.preprocessing import StandardScaler, OneHotEncoder\n",
        "from sklearn.impute import SimpleImputer\n",
        "from sklearn.pipeline import make_pipeline\n",
        "from sklearn.compose import make_column_transformer"
      ],
      "execution_count": 62,
      "outputs": []
    },
    {
      "cell_type": "code",
      "metadata": {
        "colab": {
          "base_uri": "https://localhost:8080/",
          "height": 301
        },
        "id": "og4EOPHdRjSx",
        "outputId": "df83acac-6955-4e20-c730-5ded0a8c7a8f"
      },
      "source": [
        "# Import data\n",
        "hotel = pd.read_csv('/content/drive/MyDrive/Colab Notebooks/ML concepts/Deep Learning/hotel.csv')\n",
        "hotel.head()"
      ],
      "execution_count": 64,
      "outputs": [
        {
          "output_type": "execute_result",
          "data": {
            "text/html": [
              "<div>\n",
              "<style scoped>\n",
              "    .dataframe tbody tr th:only-of-type {\n",
              "        vertical-align: middle;\n",
              "    }\n",
              "\n",
              "    .dataframe tbody tr th {\n",
              "        vertical-align: top;\n",
              "    }\n",
              "\n",
              "    .dataframe thead th {\n",
              "        text-align: right;\n",
              "    }\n",
              "</style>\n",
              "<table border=\"1\" class=\"dataframe\">\n",
              "  <thead>\n",
              "    <tr style=\"text-align: right;\">\n",
              "      <th></th>\n",
              "      <th>hotel</th>\n",
              "      <th>is_canceled</th>\n",
              "      <th>lead_time</th>\n",
              "      <th>arrival_date_year</th>\n",
              "      <th>arrival_date_month</th>\n",
              "      <th>arrival_date_week_number</th>\n",
              "      <th>arrival_date_day_of_month</th>\n",
              "      <th>stays_in_weekend_nights</th>\n",
              "      <th>stays_in_week_nights</th>\n",
              "      <th>adults</th>\n",
              "      <th>children</th>\n",
              "      <th>babies</th>\n",
              "      <th>meal</th>\n",
              "      <th>country</th>\n",
              "      <th>market_segment</th>\n",
              "      <th>distribution_channel</th>\n",
              "      <th>is_repeated_guest</th>\n",
              "      <th>previous_cancellations</th>\n",
              "      <th>previous_bookings_not_canceled</th>\n",
              "      <th>reserved_room_type</th>\n",
              "      <th>assigned_room_type</th>\n",
              "      <th>booking_changes</th>\n",
              "      <th>deposit_type</th>\n",
              "      <th>agent</th>\n",
              "      <th>company</th>\n",
              "      <th>days_in_waiting_list</th>\n",
              "      <th>customer_type</th>\n",
              "      <th>adr</th>\n",
              "      <th>required_car_parking_spaces</th>\n",
              "      <th>total_of_special_requests</th>\n",
              "      <th>reservation_status</th>\n",
              "      <th>reservation_status_date</th>\n",
              "    </tr>\n",
              "  </thead>\n",
              "  <tbody>\n",
              "    <tr>\n",
              "      <th>0</th>\n",
              "      <td>Resort Hotel</td>\n",
              "      <td>0</td>\n",
              "      <td>342</td>\n",
              "      <td>2015</td>\n",
              "      <td>July</td>\n",
              "      <td>27</td>\n",
              "      <td>1</td>\n",
              "      <td>0</td>\n",
              "      <td>0</td>\n",
              "      <td>2</td>\n",
              "      <td>0.0</td>\n",
              "      <td>0</td>\n",
              "      <td>BB</td>\n",
              "      <td>PRT</td>\n",
              "      <td>Direct</td>\n",
              "      <td>Direct</td>\n",
              "      <td>0</td>\n",
              "      <td>0</td>\n",
              "      <td>0</td>\n",
              "      <td>C</td>\n",
              "      <td>C</td>\n",
              "      <td>3</td>\n",
              "      <td>No Deposit</td>\n",
              "      <td>NaN</td>\n",
              "      <td>NaN</td>\n",
              "      <td>0</td>\n",
              "      <td>Transient</td>\n",
              "      <td>0.0</td>\n",
              "      <td>0</td>\n",
              "      <td>0</td>\n",
              "      <td>Check-Out</td>\n",
              "      <td>2015-07-01</td>\n",
              "    </tr>\n",
              "    <tr>\n",
              "      <th>1</th>\n",
              "      <td>Resort Hotel</td>\n",
              "      <td>0</td>\n",
              "      <td>737</td>\n",
              "      <td>2015</td>\n",
              "      <td>July</td>\n",
              "      <td>27</td>\n",
              "      <td>1</td>\n",
              "      <td>0</td>\n",
              "      <td>0</td>\n",
              "      <td>2</td>\n",
              "      <td>0.0</td>\n",
              "      <td>0</td>\n",
              "      <td>BB</td>\n",
              "      <td>PRT</td>\n",
              "      <td>Direct</td>\n",
              "      <td>Direct</td>\n",
              "      <td>0</td>\n",
              "      <td>0</td>\n",
              "      <td>0</td>\n",
              "      <td>C</td>\n",
              "      <td>C</td>\n",
              "      <td>4</td>\n",
              "      <td>No Deposit</td>\n",
              "      <td>NaN</td>\n",
              "      <td>NaN</td>\n",
              "      <td>0</td>\n",
              "      <td>Transient</td>\n",
              "      <td>0.0</td>\n",
              "      <td>0</td>\n",
              "      <td>0</td>\n",
              "      <td>Check-Out</td>\n",
              "      <td>2015-07-01</td>\n",
              "    </tr>\n",
              "    <tr>\n",
              "      <th>2</th>\n",
              "      <td>Resort Hotel</td>\n",
              "      <td>0</td>\n",
              "      <td>7</td>\n",
              "      <td>2015</td>\n",
              "      <td>July</td>\n",
              "      <td>27</td>\n",
              "      <td>1</td>\n",
              "      <td>0</td>\n",
              "      <td>1</td>\n",
              "      <td>1</td>\n",
              "      <td>0.0</td>\n",
              "      <td>0</td>\n",
              "      <td>BB</td>\n",
              "      <td>GBR</td>\n",
              "      <td>Direct</td>\n",
              "      <td>Direct</td>\n",
              "      <td>0</td>\n",
              "      <td>0</td>\n",
              "      <td>0</td>\n",
              "      <td>A</td>\n",
              "      <td>C</td>\n",
              "      <td>0</td>\n",
              "      <td>No Deposit</td>\n",
              "      <td>NaN</td>\n",
              "      <td>NaN</td>\n",
              "      <td>0</td>\n",
              "      <td>Transient</td>\n",
              "      <td>75.0</td>\n",
              "      <td>0</td>\n",
              "      <td>0</td>\n",
              "      <td>Check-Out</td>\n",
              "      <td>2015-07-02</td>\n",
              "    </tr>\n",
              "    <tr>\n",
              "      <th>3</th>\n",
              "      <td>Resort Hotel</td>\n",
              "      <td>0</td>\n",
              "      <td>13</td>\n",
              "      <td>2015</td>\n",
              "      <td>July</td>\n",
              "      <td>27</td>\n",
              "      <td>1</td>\n",
              "      <td>0</td>\n",
              "      <td>1</td>\n",
              "      <td>1</td>\n",
              "      <td>0.0</td>\n",
              "      <td>0</td>\n",
              "      <td>BB</td>\n",
              "      <td>GBR</td>\n",
              "      <td>Corporate</td>\n",
              "      <td>Corporate</td>\n",
              "      <td>0</td>\n",
              "      <td>0</td>\n",
              "      <td>0</td>\n",
              "      <td>A</td>\n",
              "      <td>A</td>\n",
              "      <td>0</td>\n",
              "      <td>No Deposit</td>\n",
              "      <td>304.0</td>\n",
              "      <td>NaN</td>\n",
              "      <td>0</td>\n",
              "      <td>Transient</td>\n",
              "      <td>75.0</td>\n",
              "      <td>0</td>\n",
              "      <td>0</td>\n",
              "      <td>Check-Out</td>\n",
              "      <td>2015-07-02</td>\n",
              "    </tr>\n",
              "    <tr>\n",
              "      <th>4</th>\n",
              "      <td>Resort Hotel</td>\n",
              "      <td>0</td>\n",
              "      <td>14</td>\n",
              "      <td>2015</td>\n",
              "      <td>July</td>\n",
              "      <td>27</td>\n",
              "      <td>1</td>\n",
              "      <td>0</td>\n",
              "      <td>2</td>\n",
              "      <td>2</td>\n",
              "      <td>0.0</td>\n",
              "      <td>0</td>\n",
              "      <td>BB</td>\n",
              "      <td>GBR</td>\n",
              "      <td>Online TA</td>\n",
              "      <td>TA/TO</td>\n",
              "      <td>0</td>\n",
              "      <td>0</td>\n",
              "      <td>0</td>\n",
              "      <td>A</td>\n",
              "      <td>A</td>\n",
              "      <td>0</td>\n",
              "      <td>No Deposit</td>\n",
              "      <td>240.0</td>\n",
              "      <td>NaN</td>\n",
              "      <td>0</td>\n",
              "      <td>Transient</td>\n",
              "      <td>98.0</td>\n",
              "      <td>0</td>\n",
              "      <td>1</td>\n",
              "      <td>Check-Out</td>\n",
              "      <td>2015-07-03</td>\n",
              "    </tr>\n",
              "  </tbody>\n",
              "</table>\n",
              "</div>"
            ],
            "text/plain": [
              "          hotel  is_canceled  ...  reservation_status  reservation_status_date\n",
              "0  Resort Hotel            0  ...           Check-Out               2015-07-01\n",
              "1  Resort Hotel            0  ...           Check-Out               2015-07-01\n",
              "2  Resort Hotel            0  ...           Check-Out               2015-07-02\n",
              "3  Resort Hotel            0  ...           Check-Out               2015-07-02\n",
              "4  Resort Hotel            0  ...           Check-Out               2015-07-03\n",
              "\n",
              "[5 rows x 32 columns]"
            ]
          },
          "metadata": {
            "tags": []
          },
          "execution_count": 64
        }
      ]
    },
    {
      "cell_type": "markdown",
      "metadata": {
        "id": "8_O0_wHRTYB3"
      },
      "source": [
        "EDA"
      ]
    },
    {
      "cell_type": "code",
      "metadata": {
        "colab": {
          "base_uri": "https://localhost:8080/"
        },
        "id": "Ebu6WYxMSJMP",
        "outputId": "f2bbd76a-c544-4ff2-f687-87bf0bfad58e"
      },
      "source": [
        "hotel.shape"
      ],
      "execution_count": 65,
      "outputs": [
        {
          "output_type": "execute_result",
          "data": {
            "text/plain": [
              "(119390, 32)"
            ]
          },
          "metadata": {
            "tags": []
          },
          "execution_count": 65
        }
      ]
    },
    {
      "cell_type": "code",
      "metadata": {
        "colab": {
          "base_uri": "https://localhost:8080/"
        },
        "id": "71TEQwnYSNRk",
        "outputId": "b9f56809-eb51-4d5c-964f-c067468d8f35"
      },
      "source": [
        "hotel.info()"
      ],
      "execution_count": 66,
      "outputs": [
        {
          "output_type": "stream",
          "text": [
            "<class 'pandas.core.frame.DataFrame'>\n",
            "RangeIndex: 119390 entries, 0 to 119389\n",
            "Data columns (total 32 columns):\n",
            " #   Column                          Non-Null Count   Dtype  \n",
            "---  ------                          --------------   -----  \n",
            " 0   hotel                           119390 non-null  object \n",
            " 1   is_canceled                     119390 non-null  int64  \n",
            " 2   lead_time                       119390 non-null  int64  \n",
            " 3   arrival_date_year               119390 non-null  int64  \n",
            " 4   arrival_date_month              119390 non-null  object \n",
            " 5   arrival_date_week_number        119390 non-null  int64  \n",
            " 6   arrival_date_day_of_month       119390 non-null  int64  \n",
            " 7   stays_in_weekend_nights         119390 non-null  int64  \n",
            " 8   stays_in_week_nights            119390 non-null  int64  \n",
            " 9   adults                          119390 non-null  int64  \n",
            " 10  children                        119386 non-null  float64\n",
            " 11  babies                          119390 non-null  int64  \n",
            " 12  meal                            119390 non-null  object \n",
            " 13  country                         118902 non-null  object \n",
            " 14  market_segment                  119390 non-null  object \n",
            " 15  distribution_channel            119390 non-null  object \n",
            " 16  is_repeated_guest               119390 non-null  int64  \n",
            " 17  previous_cancellations          119390 non-null  int64  \n",
            " 18  previous_bookings_not_canceled  119390 non-null  int64  \n",
            " 19  reserved_room_type              119390 non-null  object \n",
            " 20  assigned_room_type              119390 non-null  object \n",
            " 21  booking_changes                 119390 non-null  int64  \n",
            " 22  deposit_type                    119390 non-null  object \n",
            " 23  agent                           103050 non-null  float64\n",
            " 24  company                         6797 non-null    float64\n",
            " 25  days_in_waiting_list            119390 non-null  int64  \n",
            " 26  customer_type                   119390 non-null  object \n",
            " 27  adr                             119390 non-null  float64\n",
            " 28  required_car_parking_spaces     119390 non-null  int64  \n",
            " 29  total_of_special_requests       119390 non-null  int64  \n",
            " 30  reservation_status              119390 non-null  object \n",
            " 31  reservation_status_date         119390 non-null  object \n",
            "dtypes: float64(4), int64(16), object(12)\n",
            "memory usage: 29.1+ MB\n"
          ],
          "name": "stdout"
        }
      ]
    },
    {
      "cell_type": "code",
      "metadata": {
        "colab": {
          "base_uri": "https://localhost:8080/"
        },
        "id": "ipqeSt6zSOQR",
        "outputId": "b3c84fae-641e-4435-fe88-9371389e5f63"
      },
      "source": [
        "hotel.isna().sum()"
      ],
      "execution_count": 67,
      "outputs": [
        {
          "output_type": "execute_result",
          "data": {
            "text/plain": [
              "hotel                                  0\n",
              "is_canceled                            0\n",
              "lead_time                              0\n",
              "arrival_date_year                      0\n",
              "arrival_date_month                     0\n",
              "arrival_date_week_number               0\n",
              "arrival_date_day_of_month              0\n",
              "stays_in_weekend_nights                0\n",
              "stays_in_week_nights                   0\n",
              "adults                                 0\n",
              "children                               4\n",
              "babies                                 0\n",
              "meal                                   0\n",
              "country                              488\n",
              "market_segment                         0\n",
              "distribution_channel                   0\n",
              "is_repeated_guest                      0\n",
              "previous_cancellations                 0\n",
              "previous_bookings_not_canceled         0\n",
              "reserved_room_type                     0\n",
              "assigned_room_type                     0\n",
              "booking_changes                        0\n",
              "deposit_type                           0\n",
              "agent                              16340\n",
              "company                           112593\n",
              "days_in_waiting_list                   0\n",
              "customer_type                          0\n",
              "adr                                    0\n",
              "required_car_parking_spaces            0\n",
              "total_of_special_requests              0\n",
              "reservation_status                     0\n",
              "reservation_status_date                0\n",
              "dtype: int64"
            ]
          },
          "metadata": {
            "tags": []
          },
          "execution_count": 67
        }
      ]
    },
    {
      "cell_type": "code",
      "metadata": {
        "id": "8M2qmZl1SWhM"
      },
      "source": [
        "# Define target and inputs\n",
        "X = hotel.copy()\n",
        "y = X.pop('is_canceled')"
      ],
      "execution_count": 68,
      "outputs": []
    },
    {
      "cell_type": "markdown",
      "metadata": {
        "id": "0HhFXDG1TaH8"
      },
      "source": [
        "Data Preprocessing / Cleaning"
      ]
    },
    {
      "cell_type": "code",
      "metadata": {
        "colab": {
          "base_uri": "https://localhost:8080/"
        },
        "id": "1SYI22qESQ4v",
        "outputId": "1fd96d35-b950-4d1d-97f7-4faa986ecefd"
      },
      "source": [
        "# Map month name to numeric \n",
        "X['arrival_date_month'] = \\\n",
        "    X['arrival_date_month'].map(\n",
        "        {'January':1, 'February': 2, 'March':3,\n",
        "         'April':4, 'May':5, 'June':6, 'July':7,\n",
        "         'August':8, 'September':9, 'October':10,\n",
        "         'November':11, 'December':12}\n",
        "    )\n",
        "\n",
        "# Numeric vars\n",
        "features_num = [\n",
        "    \"lead_time\", \"arrival_date_week_number\",\n",
        "    \"arrival_date_day_of_month\", \"stays_in_weekend_nights\",\n",
        "    \"stays_in_week_nights\", \"adults\", \"children\", \"babies\",\n",
        "    \"is_repeated_guest\", \"previous_cancellations\",\n",
        "    \"previous_bookings_not_canceled\", \"required_car_parking_spaces\",\n",
        "    \"total_of_special_requests\", \"adr\",\n",
        "]\n",
        "\n",
        "# Categorical vars\n",
        "features_cat = [\n",
        "    \"hotel\", \"arrival_date_month\", \"meal\",\n",
        "    \"market_segment\", \"distribution_channel\",\n",
        "    \"reserved_room_type\", \"deposit_type\", \"customer_type\",\n",
        "]\n",
        "\n",
        "# Make pipeline for preprocessing numeric and categorical vars\n",
        "transformer_num = make_pipeline(\n",
        "    SimpleImputer(strategy=\"constant\"), # there are a few missing values\n",
        "    StandardScaler(),\n",
        ")\n",
        "transformer_cat = make_pipeline(\n",
        "    SimpleImputer(strategy=\"constant\", fill_value=\"NA\"),\n",
        "    OneHotEncoder(handle_unknown='ignore'),\n",
        ")\n",
        "preprocessor = make_column_transformer(\n",
        "    (transformer_num, features_num),\n",
        "    (transformer_cat, features_cat),\n",
        ")\n",
        "\n",
        "# Stratify - make sure classes are evenlly represented across splits\n",
        "X_train, X_valid, y_train, y_valid = train_test_split(X, y, stratify=y, train_size=0.75)\n",
        "# Preprocess features\n",
        "X_train = preprocessor.fit_transform(X_train)\n",
        "X_valid = preprocessor.transform(X_valid)\n",
        "\n",
        "# Get number of features for NN\n",
        "input_shape = [X_train.shape[1]]\n",
        "print(input_shape)"
      ],
      "execution_count": 72,
      "outputs": [
        {
          "output_type": "stream",
          "text": [
            "[63]\n"
          ],
          "name": "stdout"
        }
      ]
    },
    {
      "cell_type": "markdown",
      "metadata": {
        "id": "JPy9K8WGTttm"
      },
      "source": [
        "Define a model with an architecture given by this diagram:\n",
        "\n",
        "<figure style=\"padding: 1em;\">\n",
        "<img src=\"https://i.imgur.com/V04o59Z.png\" width=\"400\" alt=\"Diagram of network architecture: BatchNorm, Dense, BatchNorm, Dropout, Dense, BatchNorm, Dropout, Dense.\">\n",
        "<figcaption style=\"textalign: center; font-style: italic\"><center>Diagram of a binary classifier.</center></figcaption>\n",
        "</figure>"
      ]
    },
    {
      "cell_type": "code",
      "metadata": {
        "id": "obpVlhJTTgOy"
      },
      "source": [
        "from tensorflow import keras\n",
        "from tensorflow.keras import layers\n",
        "\n",
        "# Instantiate model\n",
        "model = keras.Sequential([\n",
        "  layers.BatchNormalization(input_shape=input_shape),\n",
        "  layers.Dense(256, activation='relu'),\n",
        "  layers.BatchNormalization(),\n",
        "  layers.Dropout(0.3),\n",
        "  layers.Dense(256, activation='relu'),\n",
        "  layers.BatchNormalization(),\n",
        "  layers.Dropout(0.3),\n",
        "  layers.Dense(1, activation='sigmoid')\n",
        "])\n",
        "\n",
        "# Compile model with the Adam optimizer and binary versions of the cross-entropy loss and accuracy metric\n",
        "model.compile(optimizer='adam', loss='binary_crossentropy', metrics=['binary_accuracy'])"
      ],
      "execution_count": 96,
      "outputs": []
    },
    {
      "cell_type": "code",
      "metadata": {
        "id": "jZNeIP0UTiAq"
      },
      "source": [
        "# Train model and see learning curves\n",
        "early_stopping = keras.callbacks.EarlyStopping(\n",
        "    patience=5,\n",
        "    min_delta=0.001,\n",
        "    restore_best_weights=True,\n",
        ")"
      ],
      "execution_count": 97,
      "outputs": []
    },
    {
      "cell_type": "code",
      "metadata": {
        "colab": {
          "base_uri": "https://localhost:8080/"
        },
        "id": "35sDVuXoVSXf",
        "outputId": "66bbdce3-25e2-47c9-8d92-f2e4fee98531"
      },
      "source": [
        "history = model.fit(\n",
        "    X_train, y_train,\n",
        "    validation_data=(X_valid, y_valid),\n",
        "    batch_size=512,\n",
        "    epochs=200,\n",
        "    callbacks=[early_stopping]\n",
        ")"
      ],
      "execution_count": 98,
      "outputs": [
        {
          "output_type": "stream",
          "text": [
            "Epoch 1/200\n",
            "175/175 [==============================] - 4s 16ms/step - loss: 0.4824 - binary_accuracy: 0.7691 - val_loss: 0.4321 - val_binary_accuracy: 0.7943\n",
            "Epoch 2/200\n",
            "175/175 [==============================] - 2s 14ms/step - loss: 0.4229 - binary_accuracy: 0.7999 - val_loss: 0.4015 - val_binary_accuracy: 0.8139\n",
            "Epoch 3/200\n",
            "175/175 [==============================] - 3s 14ms/step - loss: 0.4098 - binary_accuracy: 0.8077 - val_loss: 0.3941 - val_binary_accuracy: 0.8152\n",
            "Epoch 4/200\n",
            "175/175 [==============================] - 3s 15ms/step - loss: 0.4021 - binary_accuracy: 0.8123 - val_loss: 0.3903 - val_binary_accuracy: 0.8185\n",
            "Epoch 5/200\n",
            "175/175 [==============================] - 2s 14ms/step - loss: 0.3971 - binary_accuracy: 0.8151 - val_loss: 0.3869 - val_binary_accuracy: 0.8201\n",
            "Epoch 6/200\n",
            "175/175 [==============================] - 2s 14ms/step - loss: 0.3929 - binary_accuracy: 0.8184 - val_loss: 0.3827 - val_binary_accuracy: 0.8212\n",
            "Epoch 7/200\n",
            "175/175 [==============================] - 3s 15ms/step - loss: 0.3889 - binary_accuracy: 0.8180 - val_loss: 0.3826 - val_binary_accuracy: 0.8252\n",
            "Epoch 8/200\n",
            "175/175 [==============================] - 3s 14ms/step - loss: 0.3864 - binary_accuracy: 0.8202 - val_loss: 0.3777 - val_binary_accuracy: 0.8260\n",
            "Epoch 9/200\n",
            "175/175 [==============================] - 2s 14ms/step - loss: 0.3824 - binary_accuracy: 0.8222 - val_loss: 0.3765 - val_binary_accuracy: 0.8269\n",
            "Epoch 10/200\n",
            "175/175 [==============================] - 3s 15ms/step - loss: 0.3804 - binary_accuracy: 0.8238 - val_loss: 0.3782 - val_binary_accuracy: 0.8275\n",
            "Epoch 11/200\n",
            "175/175 [==============================] - 3s 15ms/step - loss: 0.3770 - binary_accuracy: 0.8266 - val_loss: 0.3707 - val_binary_accuracy: 0.8292\n",
            "Epoch 12/200\n",
            "175/175 [==============================] - 3s 14ms/step - loss: 0.3749 - binary_accuracy: 0.8274 - val_loss: 0.3697 - val_binary_accuracy: 0.8313\n",
            "Epoch 13/200\n",
            "175/175 [==============================] - 3s 15ms/step - loss: 0.3723 - binary_accuracy: 0.8276 - val_loss: 0.3714 - val_binary_accuracy: 0.8310\n",
            "Epoch 14/200\n",
            "175/175 [==============================] - 3s 14ms/step - loss: 0.3700 - binary_accuracy: 0.8288 - val_loss: 0.3708 - val_binary_accuracy: 0.8325\n",
            "Epoch 15/200\n",
            "175/175 [==============================] - 3s 15ms/step - loss: 0.3662 - binary_accuracy: 0.8305 - val_loss: 0.3663 - val_binary_accuracy: 0.8324\n",
            "Epoch 16/200\n",
            "175/175 [==============================] - 3s 14ms/step - loss: 0.3658 - binary_accuracy: 0.8316 - val_loss: 0.3649 - val_binary_accuracy: 0.8325\n",
            "Epoch 17/200\n",
            "175/175 [==============================] - 3s 14ms/step - loss: 0.3653 - binary_accuracy: 0.8316 - val_loss: 0.3620 - val_binary_accuracy: 0.8338\n",
            "Epoch 18/200\n",
            "175/175 [==============================] - 3s 14ms/step - loss: 0.3617 - binary_accuracy: 0.8322 - val_loss: 0.3610 - val_binary_accuracy: 0.8337\n",
            "Epoch 19/200\n",
            "175/175 [==============================] - 2s 14ms/step - loss: 0.3613 - binary_accuracy: 0.8338 - val_loss: 0.3607 - val_binary_accuracy: 0.8348\n",
            "Epoch 20/200\n",
            "175/175 [==============================] - 3s 14ms/step - loss: 0.3598 - binary_accuracy: 0.8338 - val_loss: 0.3605 - val_binary_accuracy: 0.8339\n",
            "Epoch 21/200\n",
            "175/175 [==============================] - 3s 14ms/step - loss: 0.3579 - binary_accuracy: 0.8352 - val_loss: 0.3623 - val_binary_accuracy: 0.8347\n",
            "Epoch 22/200\n",
            "175/175 [==============================] - 3s 14ms/step - loss: 0.3573 - binary_accuracy: 0.8351 - val_loss: 0.3582 - val_binary_accuracy: 0.8359\n",
            "Epoch 23/200\n",
            "175/175 [==============================] - 3s 15ms/step - loss: 0.3553 - binary_accuracy: 0.8365 - val_loss: 0.3579 - val_binary_accuracy: 0.8368\n",
            "Epoch 24/200\n",
            "175/175 [==============================] - 3s 15ms/step - loss: 0.3542 - binary_accuracy: 0.8366 - val_loss: 0.3570 - val_binary_accuracy: 0.8352\n",
            "Epoch 25/200\n",
            "175/175 [==============================] - 3s 14ms/step - loss: 0.3530 - binary_accuracy: 0.8366 - val_loss: 0.3568 - val_binary_accuracy: 0.8373\n",
            "Epoch 26/200\n",
            "175/175 [==============================] - 3s 14ms/step - loss: 0.3513 - binary_accuracy: 0.8377 - val_loss: 0.3572 - val_binary_accuracy: 0.8371\n",
            "Epoch 27/200\n",
            "175/175 [==============================] - 3s 15ms/step - loss: 0.3503 - binary_accuracy: 0.8389 - val_loss: 0.3611 - val_binary_accuracy: 0.8336\n",
            "Epoch 28/200\n",
            "175/175 [==============================] - 3s 15ms/step - loss: 0.3494 - binary_accuracy: 0.8383 - val_loss: 0.3565 - val_binary_accuracy: 0.8378\n",
            "Epoch 29/200\n",
            "175/175 [==============================] - 3s 15ms/step - loss: 0.3482 - binary_accuracy: 0.8394 - val_loss: 0.3533 - val_binary_accuracy: 0.8399\n",
            "Epoch 30/200\n",
            "175/175 [==============================] - 3s 14ms/step - loss: 0.3480 - binary_accuracy: 0.8393 - val_loss: 0.3566 - val_binary_accuracy: 0.8366\n",
            "Epoch 31/200\n",
            "175/175 [==============================] - 3s 15ms/step - loss: 0.3466 - binary_accuracy: 0.8403 - val_loss: 0.3536 - val_binary_accuracy: 0.8412\n",
            "Epoch 32/200\n",
            "175/175 [==============================] - 3s 14ms/step - loss: 0.3467 - binary_accuracy: 0.8398 - val_loss: 0.3550 - val_binary_accuracy: 0.8381\n",
            "Epoch 33/200\n",
            "175/175 [==============================] - 2s 14ms/step - loss: 0.3456 - binary_accuracy: 0.8404 - val_loss: 0.3533 - val_binary_accuracy: 0.8400\n",
            "Epoch 34/200\n",
            "175/175 [==============================] - 3s 15ms/step - loss: 0.3425 - binary_accuracy: 0.8431 - val_loss: 0.3513 - val_binary_accuracy: 0.8402\n",
            "Epoch 35/200\n",
            "175/175 [==============================] - 3s 14ms/step - loss: 0.3431 - binary_accuracy: 0.8421 - val_loss: 0.3538 - val_binary_accuracy: 0.8384\n",
            "Epoch 36/200\n",
            "175/175 [==============================] - 3s 14ms/step - loss: 0.3426 - binary_accuracy: 0.8412 - val_loss: 0.3512 - val_binary_accuracy: 0.8399\n",
            "Epoch 37/200\n",
            "175/175 [==============================] - 3s 14ms/step - loss: 0.3417 - binary_accuracy: 0.8420 - val_loss: 0.3515 - val_binary_accuracy: 0.8397\n",
            "Epoch 38/200\n",
            "175/175 [==============================] - 3s 14ms/step - loss: 0.3409 - binary_accuracy: 0.8428 - val_loss: 0.3512 - val_binary_accuracy: 0.8405\n",
            "Epoch 39/200\n",
            "175/175 [==============================] - 3s 14ms/step - loss: 0.3391 - binary_accuracy: 0.8440 - val_loss: 0.3542 - val_binary_accuracy: 0.8392\n"
          ],
          "name": "stdout"
        }
      ]
    },
    {
      "cell_type": "code",
      "metadata": {
        "colab": {
          "base_uri": "https://localhost:8080/",
          "height": 593
        },
        "id": "GIU06d7AVnz1",
        "outputId": "cbc00ccb-82ff-4b96-d71e-2c1fb26deeea"
      },
      "source": [
        "history_df = pd.DataFrame(history.history)\n",
        "history_df.loc[:, ['loss', 'val_loss']].plot(title=\"Cross-entropy\")\n",
        "history_df.loc[:, ['binary_accuracy', 'val_binary_accuracy']].plot(title=\"Accuracy\")"
      ],
      "execution_count": 99,
      "outputs": [
        {
          "output_type": "execute_result",
          "data": {
            "text/plain": [
              "<matplotlib.axes._subplots.AxesSubplot at 0x7f32d2d6c610>"
            ]
          },
          "metadata": {
            "tags": []
          },
          "execution_count": 99
        },
        {
          "output_type": "display_data",
          "data": {
            "image/png": "[encoded data removed]",
            "text/plain": [
              "<Figure size 432x288 with 1 Axes>"
            ]
          },
          "metadata": {
            "tags": []
          }
        },
        {
          "output_type": "display_data",
          "data": {
            "image/png": "[encoded data removed]",
            "text/plain": [
              "<Figure size 432x288 with 1 Axes>"
            ]
          },
          "metadata": {
            "tags": []
          }
        }
      ]
    },
    {
      "cell_type": "markdown",
      "metadata": {
        "id": "0bfvvs5NZFca"
      },
      "source": [
        "Though we can see the training loss continuing to fall, the early stopping callback prevented any overfitting. Moreover, the accuracy rose at the same rate as the cross-entropy fell, so it appears that minimizing cross-entropy was a good stand-in. All in all, it looks like this training was a success!"
      ]
    }
  ]
}